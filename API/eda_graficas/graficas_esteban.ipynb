{
 "cells": [
  {
   "cell_type": "markdown",
   "metadata": {},
   "source": [
    "# Análisis de Flujos de Dinero en Ekhilur\n",
    "\n",
    "Este notebook realiza un análisis detallado de las transacciones financieras en la plataforma Ekhilur, utilizando consultas directas a la base de datos MySQL."
   ]
  },
  {
   "cell_type": "markdown",
   "metadata": {},
   "source": [
    "## 1. Configuración Inicial\n",
    "\n",
    "Primero importamos las librerías necesarias y establecemos la conexión con la base de datos."
   ]
  },
  {
   "cell_type": "code",
   "execution_count": 1,
   "metadata": {},
   "outputs": [
    {
     "name": "stderr",
     "output_type": "stream",
     "text": [
      "C:\\Users\\mikel\\AppData\\Local\\Temp\\ipykernel_29496\\1802020149.py:12: MatplotlibDeprecationWarning: The seaborn styles shipped by Matplotlib are deprecated since 3.6, as they no longer correspond to the styles shipped by seaborn. However, they will remain available as 'seaborn-v0_8-<style>'. Alternatively, directly use the seaborn API instead.\n",
      "  plt.style.use('seaborn')\n"
     ]
    }
   ],
   "source": [
    "# Importar librerías necesarias\n",
    "import mysql.connector\n",
    "import pandas as pd\n",
    "import numpy as np\n",
    "import matplotlib.pyplot as plt\n",
    "import seaborn as sns\n",
    "import plotly.express as px\n",
    "import plotly.graph_objects as go\n",
    "from plotly.subplots import make_subplots\n",
    "\n",
    "# Configuración de visualización\n",
    "plt.style.use('seaborn')\n",
    "sns.set_palette('husl')\n",
    "%matplotlib inline\n",
    "\n",
    "# Configuración para mostrar todas las columnas\n",
    "pd.set_option('display.max_columns', None)"
   ]
  },
  {
   "cell_type": "markdown",
   "metadata": {},
   "source": [
    "### Función para conectar a la base de datos\n",
    "\n",
    "Creamos una función helper para manejar las consultas SQL."
   ]
  },
  {
   "cell_type": "code",
   "execution_count": 2,
   "metadata": {},
   "outputs": [],
   "source": [
    "import os\n",
    "from dotenv import load_dotenv\n",
    "import mysql.connector\n",
    "import pandas as pd\n",
    "\n",
    "# Cargar variables de entorno\n",
    "load_dotenv()\n",
    "\n",
    "def get_db_connection():\n",
    "    return mysql.connector.connect(\n",
    "        host='localhost',\n",
    "        port=3308,\n",
    "        user='user',\n",
    "        password='userpassword',\n",
    "        database='ekhilur'\n",
    "    )\n",
    "\n",
    "def ejecutar_query(query):\n",
    "    \"\"\"Ejecuta una query SQL y devuelve los resultados como DataFrame\"\"\"\n",
    "    conn = get_db_connection()\n",
    "    try:\n",
    "        return pd.read_sql_query(query, conn)\n",
    "    finally:\n",
    "        conn.close()"
   ]
  },
  {
   "cell_type": "markdown",
   "metadata": {},
   "source": [
    "## 2. Análisis de Tipos de Operaciones\n",
    "\n",
    "Analizamos la distribución de las operaciones y sus importes asociados."
   ]
  },
  {
   "cell_type": "code",
   "execution_count": 3,
   "metadata": {},
   "outputs": [
    {
     "name": "stderr",
     "output_type": "stream",
     "text": [
      "C:\\Users\\mikel\\AppData\\Local\\Temp\\ipykernel_29496\\1450764005.py:22: UserWarning: pandas only supports SQLAlchemy connectable (engine/connection) or database string URI or sqlite3 DBAPI2 connection. Other DBAPI2 objects are not tested. Please consider using SQLAlchemy.\n",
      "  return pd.read_sql_query(query, conn)\n"
     ]
    },
    {
     "data": {
      "application/vnd.plotly.v1+json": {
       "config": {
        "plotlyServerURL": "https://plot.ly"
       },
       "data": [
        {
         "name": "Suma Total",
         "type": "bar",
         "x": [
          "Pago a usuario",
          "Conversión a €",
          "Recarga por tarjeta",
          "Cobro desde QR",
          "Bonificación por compra",
          "Descuento automático",
          "Comisión por retirada",
          "Cuota mensual de socio",
          "Cuota de socio",
          "Cuota variable",
          "Donación",
          "Transferencia interna"
         ],
         "y": [
          3430730.9,
          1267647.5,
          1255837,
          299646.69,
          153011.49,
          50318.25,
          14838.46,
          11760.45,
          6510,
          6129.16,
          3452.22,
          309.87
         ]
        }
       ],
       "layout": {
        "template": {
         "data": {
          "bar": [
           {
            "error_x": {
             "color": "#2a3f5f"
            },
            "error_y": {
             "color": "#2a3f5f"
            },
            "marker": {
             "line": {
              "color": "white",
              "width": 0.5
             },
             "pattern": {
              "fillmode": "overlay",
              "size": 10,
              "solidity": 0.2
             }
            },
            "type": "bar"
           }
          ],
          "barpolar": [
           {
            "marker": {
             "line": {
              "color": "white",
              "width": 0.5
             },
             "pattern": {
              "fillmode": "overlay",
              "size": 10,
              "solidity": 0.2
             }
            },
            "type": "barpolar"
           }
          ],
          "carpet": [
           {
            "aaxis": {
             "endlinecolor": "#2a3f5f",
             "gridcolor": "#C8D4E3",
             "linecolor": "#C8D4E3",
             "minorgridcolor": "#C8D4E3",
             "startlinecolor": "#2a3f5f"
            },
            "baxis": {
             "endlinecolor": "#2a3f5f",
             "gridcolor": "#C8D4E3",
             "linecolor": "#C8D4E3",
             "minorgridcolor": "#C8D4E3",
             "startlinecolor": "#2a3f5f"
            },
            "type": "carpet"
           }
          ],
          "choropleth": [
           {
            "colorbar": {
             "outlinewidth": 0,
             "ticks": ""
            },
            "type": "choropleth"
           }
          ],
          "contour": [
           {
            "colorbar": {
             "outlinewidth": 0,
             "ticks": ""
            },
            "colorscale": [
             [
              0,
              "#0d0887"
             ],
             [
              0.1111111111111111,
              "#46039f"
             ],
             [
              0.2222222222222222,
              "#7201a8"
             ],
             [
              0.3333333333333333,
              "#9c179e"
             ],
             [
              0.4444444444444444,
              "#bd3786"
             ],
             [
              0.5555555555555556,
              "#d8576b"
             ],
             [
              0.6666666666666666,
              "#ed7953"
             ],
             [
              0.7777777777777778,
              "#fb9f3a"
             ],
             [
              0.8888888888888888,
              "#fdca26"
             ],
             [
              1,
              "#f0f921"
             ]
            ],
            "type": "contour"
           }
          ],
          "contourcarpet": [
           {
            "colorbar": {
             "outlinewidth": 0,
             "ticks": ""
            },
            "type": "contourcarpet"
           }
          ],
          "heatmap": [
           {
            "colorbar": {
             "outlinewidth": 0,
             "ticks": ""
            },
            "colorscale": [
             [
              0,
              "#0d0887"
             ],
             [
              0.1111111111111111,
              "#46039f"
             ],
             [
              0.2222222222222222,
              "#7201a8"
             ],
             [
              0.3333333333333333,
              "#9c179e"
             ],
             [
              0.4444444444444444,
              "#bd3786"
             ],
             [
              0.5555555555555556,
              "#d8576b"
             ],
             [
              0.6666666666666666,
              "#ed7953"
             ],
             [
              0.7777777777777778,
              "#fb9f3a"
             ],
             [
              0.8888888888888888,
              "#fdca26"
             ],
             [
              1,
              "#f0f921"
             ]
            ],
            "type": "heatmap"
           }
          ],
          "heatmapgl": [
           {
            "colorbar": {
             "outlinewidth": 0,
             "ticks": ""
            },
            "colorscale": [
             [
              0,
              "#0d0887"
             ],
             [
              0.1111111111111111,
              "#46039f"
             ],
             [
              0.2222222222222222,
              "#7201a8"
             ],
             [
              0.3333333333333333,
              "#9c179e"
             ],
             [
              0.4444444444444444,
              "#bd3786"
             ],
             [
              0.5555555555555556,
              "#d8576b"
             ],
             [
              0.6666666666666666,
              "#ed7953"
             ],
             [
              0.7777777777777778,
              "#fb9f3a"
             ],
             [
              0.8888888888888888,
              "#fdca26"
             ],
             [
              1,
              "#f0f921"
             ]
            ],
            "type": "heatmapgl"
           }
          ],
          "histogram": [
           {
            "marker": {
             "pattern": {
              "fillmode": "overlay",
              "size": 10,
              "solidity": 0.2
             }
            },
            "type": "histogram"
           }
          ],
          "histogram2d": [
           {
            "colorbar": {
             "outlinewidth": 0,
             "ticks": ""
            },
            "colorscale": [
             [
              0,
              "#0d0887"
             ],
             [
              0.1111111111111111,
              "#46039f"
             ],
             [
              0.2222222222222222,
              "#7201a8"
             ],
             [
              0.3333333333333333,
              "#9c179e"
             ],
             [
              0.4444444444444444,
              "#bd3786"
             ],
             [
              0.5555555555555556,
              "#d8576b"
             ],
             [
              0.6666666666666666,
              "#ed7953"
             ],
             [
              0.7777777777777778,
              "#fb9f3a"
             ],
             [
              0.8888888888888888,
              "#fdca26"
             ],
             [
              1,
              "#f0f921"
             ]
            ],
            "type": "histogram2d"
           }
          ],
          "histogram2dcontour": [
           {
            "colorbar": {
             "outlinewidth": 0,
             "ticks": ""
            },
            "colorscale": [
             [
              0,
              "#0d0887"
             ],
             [
              0.1111111111111111,
              "#46039f"
             ],
             [
              0.2222222222222222,
              "#7201a8"
             ],
             [
              0.3333333333333333,
              "#9c179e"
             ],
             [
              0.4444444444444444,
              "#bd3786"
             ],
             [
              0.5555555555555556,
              "#d8576b"
             ],
             [
              0.6666666666666666,
              "#ed7953"
             ],
             [
              0.7777777777777778,
              "#fb9f3a"
             ],
             [
              0.8888888888888888,
              "#fdca26"
             ],
             [
              1,
              "#f0f921"
             ]
            ],
            "type": "histogram2dcontour"
           }
          ],
          "mesh3d": [
           {
            "colorbar": {
             "outlinewidth": 0,
             "ticks": ""
            },
            "type": "mesh3d"
           }
          ],
          "parcoords": [
           {
            "line": {
             "colorbar": {
              "outlinewidth": 0,
              "ticks": ""
             }
            },
            "type": "parcoords"
           }
          ],
          "pie": [
           {
            "automargin": true,
            "type": "pie"
           }
          ],
          "scatter": [
           {
            "fillpattern": {
             "fillmode": "overlay",
             "size": 10,
             "solidity": 0.2
            },
            "type": "scatter"
           }
          ],
          "scatter3d": [
           {
            "line": {
             "colorbar": {
              "outlinewidth": 0,
              "ticks": ""
             }
            },
            "marker": {
             "colorbar": {
              "outlinewidth": 0,
              "ticks": ""
             }
            },
            "type": "scatter3d"
           }
          ],
          "scattercarpet": [
           {
            "marker": {
             "colorbar": {
              "outlinewidth": 0,
              "ticks": ""
             }
            },
            "type": "scattercarpet"
           }
          ],
          "scattergeo": [
           {
            "marker": {
             "colorbar": {
              "outlinewidth": 0,
              "ticks": ""
             }
            },
            "type": "scattergeo"
           }
          ],
          "scattergl": [
           {
            "marker": {
             "colorbar": {
              "outlinewidth": 0,
              "ticks": ""
             }
            },
            "type": "scattergl"
           }
          ],
          "scattermapbox": [
           {
            "marker": {
             "colorbar": {
              "outlinewidth": 0,
              "ticks": ""
             }
            },
            "type": "scattermapbox"
           }
          ],
          "scatterpolar": [
           {
            "marker": {
             "colorbar": {
              "outlinewidth": 0,
              "ticks": ""
             }
            },
            "type": "scatterpolar"
           }
          ],
          "scatterpolargl": [
           {
            "marker": {
             "colorbar": {
              "outlinewidth": 0,
              "ticks": ""
             }
            },
            "type": "scatterpolargl"
           }
          ],
          "scatterternary": [
           {
            "marker": {
             "colorbar": {
              "outlinewidth": 0,
              "ticks": ""
             }
            },
            "type": "scatterternary"
           }
          ],
          "surface": [
           {
            "colorbar": {
             "outlinewidth": 0,
             "ticks": ""
            },
            "colorscale": [
             [
              0,
              "#0d0887"
             ],
             [
              0.1111111111111111,
              "#46039f"
             ],
             [
              0.2222222222222222,
              "#7201a8"
             ],
             [
              0.3333333333333333,
              "#9c179e"
             ],
             [
              0.4444444444444444,
              "#bd3786"
             ],
             [
              0.5555555555555556,
              "#d8576b"
             ],
             [
              0.6666666666666666,
              "#ed7953"
             ],
             [
              0.7777777777777778,
              "#fb9f3a"
             ],
             [
              0.8888888888888888,
              "#fdca26"
             ],
             [
              1,
              "#f0f921"
             ]
            ],
            "type": "surface"
           }
          ],
          "table": [
           {
            "cells": {
             "fill": {
              "color": "#EBF0F8"
             },
             "line": {
              "color": "white"
             }
            },
            "header": {
             "fill": {
              "color": "#C8D4E3"
             },
             "line": {
              "color": "white"
             }
            },
            "type": "table"
           }
          ]
         },
         "layout": {
          "annotationdefaults": {
           "arrowcolor": "#2a3f5f",
           "arrowhead": 0,
           "arrowwidth": 1
          },
          "autotypenumbers": "strict",
          "coloraxis": {
           "colorbar": {
            "outlinewidth": 0,
            "ticks": ""
           }
          },
          "colorscale": {
           "diverging": [
            [
             0,
             "#8e0152"
            ],
            [
             0.1,
             "#c51b7d"
            ],
            [
             0.2,
             "#de77ae"
            ],
            [
             0.3,
             "#f1b6da"
            ],
            [
             0.4,
             "#fde0ef"
            ],
            [
             0.5,
             "#f7f7f7"
            ],
            [
             0.6,
             "#e6f5d0"
            ],
            [
             0.7,
             "#b8e186"
            ],
            [
             0.8,
             "#7fbc41"
            ],
            [
             0.9,
             "#4d9221"
            ],
            [
             1,
             "#276419"
            ]
           ],
           "sequential": [
            [
             0,
             "#0d0887"
            ],
            [
             0.1111111111111111,
             "#46039f"
            ],
            [
             0.2222222222222222,
             "#7201a8"
            ],
            [
             0.3333333333333333,
             "#9c179e"
            ],
            [
             0.4444444444444444,
             "#bd3786"
            ],
            [
             0.5555555555555556,
             "#d8576b"
            ],
            [
             0.6666666666666666,
             "#ed7953"
            ],
            [
             0.7777777777777778,
             "#fb9f3a"
            ],
            [
             0.8888888888888888,
             "#fdca26"
            ],
            [
             1,
             "#f0f921"
            ]
           ],
           "sequentialminus": [
            [
             0,
             "#0d0887"
            ],
            [
             0.1111111111111111,
             "#46039f"
            ],
            [
             0.2222222222222222,
             "#7201a8"
            ],
            [
             0.3333333333333333,
             "#9c179e"
            ],
            [
             0.4444444444444444,
             "#bd3786"
            ],
            [
             0.5555555555555556,
             "#d8576b"
            ],
            [
             0.6666666666666666,
             "#ed7953"
            ],
            [
             0.7777777777777778,
             "#fb9f3a"
            ],
            [
             0.8888888888888888,
             "#fdca26"
            ],
            [
             1,
             "#f0f921"
            ]
           ]
          },
          "colorway": [
           "#636efa",
           "#EF553B",
           "#00cc96",
           "#ab63fa",
           "#FFA15A",
           "#19d3f3",
           "#FF6692",
           "#B6E880",
           "#FF97FF",
           "#FECB52"
          ],
          "font": {
           "color": "#2a3f5f"
          },
          "geo": {
           "bgcolor": "white",
           "lakecolor": "white",
           "landcolor": "white",
           "showlakes": true,
           "showland": true,
           "subunitcolor": "#C8D4E3"
          },
          "hoverlabel": {
           "align": "left"
          },
          "hovermode": "closest",
          "mapbox": {
           "style": "light"
          },
          "paper_bgcolor": "white",
          "plot_bgcolor": "white",
          "polar": {
           "angularaxis": {
            "gridcolor": "#EBF0F8",
            "linecolor": "#EBF0F8",
            "ticks": ""
           },
           "bgcolor": "white",
           "radialaxis": {
            "gridcolor": "#EBF0F8",
            "linecolor": "#EBF0F8",
            "ticks": ""
           }
          },
          "scene": {
           "xaxis": {
            "backgroundcolor": "white",
            "gridcolor": "#DFE8F3",
            "gridwidth": 2,
            "linecolor": "#EBF0F8",
            "showbackground": true,
            "ticks": "",
            "zerolinecolor": "#EBF0F8"
           },
           "yaxis": {
            "backgroundcolor": "white",
            "gridcolor": "#DFE8F3",
            "gridwidth": 2,
            "linecolor": "#EBF0F8",
            "showbackground": true,
            "ticks": "",
            "zerolinecolor": "#EBF0F8"
           },
           "zaxis": {
            "backgroundcolor": "white",
            "gridcolor": "#DFE8F3",
            "gridwidth": 2,
            "linecolor": "#EBF0F8",
            "showbackground": true,
            "ticks": "",
            "zerolinecolor": "#EBF0F8"
           }
          },
          "shapedefaults": {
           "line": {
            "color": "#2a3f5f"
           }
          },
          "ternary": {
           "aaxis": {
            "gridcolor": "#DFE8F3",
            "linecolor": "#A2B1C6",
            "ticks": ""
           },
           "baxis": {
            "gridcolor": "#DFE8F3",
            "linecolor": "#A2B1C6",
            "ticks": ""
           },
           "bgcolor": "white",
           "caxis": {
            "gridcolor": "#DFE8F3",
            "linecolor": "#A2B1C6",
            "ticks": ""
           }
          },
          "title": {
           "x": 0.05
          },
          "xaxis": {
           "automargin": true,
           "gridcolor": "#EBF0F8",
           "linecolor": "#EBF0F8",
           "ticks": "",
           "title": {
            "standoff": 15
           },
           "zerolinecolor": "#EBF0F8",
           "zerolinewidth": 2
          },
          "yaxis": {
           "automargin": true,
           "gridcolor": "#EBF0F8",
           "linecolor": "#EBF0F8",
           "ticks": "",
           "title": {
            "standoff": 15
           },
           "zerolinecolor": "#EBF0F8",
           "zerolinewidth": 2
          }
         }
        },
        "title": {
         "text": "Volumen Total por Tipo de Operación"
        },
        "xaxis": {
         "title": {
          "text": "Tipo de Operación"
         }
        },
        "yaxis": {
         "title": {
          "text": "Suma Total (€)"
         }
        }
       }
      }
     },
     "metadata": {},
     "output_type": "display_data"
    }
   ],
   "source": [
    "# Consulta para obtener los tipos de operaciones y sus estadísticas\n",
    "query_operaciones = \"\"\"\n",
    "SELECT \n",
    "    o.Operacion,\n",
    "    COUNT(*) as total_operaciones,\n",
    "    SUM(f.Cantidad) as suma_total,\n",
    "    AVG(f.Cantidad) as promedio_importe\n",
    "FROM fact_table f\n",
    "JOIN dim_operaciones o ON f.Id_tipo_operacion = o.Id_tipo_operacion\n",
    "GROUP BY o.Operacion\n",
    "ORDER BY suma_total DESC;\n",
    "\"\"\"\n",
    "\n",
    "df_operaciones = ejecutar_query(query_operaciones)\n",
    "\n",
    "# Crear gráfico de barras con Plotly\n",
    "fig = go.Figure(data=[\n",
    "    go.Bar(name='Suma Total', x=df_operaciones['Operacion'], y=df_operaciones['suma_total'])\n",
    "])\n",
    "\n",
    "fig.update_layout(\n",
    "    title='Volumen Total por Tipo de Operación',\n",
    "    xaxis_title='Tipo de Operación',\n",
    "    yaxis_title='Suma Total (€)',\n",
    "    template='plotly_white'\n",
    ")\n",
    "\n",
    "fig.show()"
   ]
  },
  {
   "cell_type": "markdown",
   "metadata": {},
   "source": [
    "## 3. Análisis Temporal de Transacciones\n",
    "\n",
    "Analizamos cómo evolucionan las transacciones a lo largo del tiempo."
   ]
  },
  {
   "cell_type": "code",
   "execution_count": 4,
   "metadata": {},
   "outputs": [
    {
     "name": "stderr",
     "output_type": "stream",
     "text": [
      "C:\\Users\\mikel\\AppData\\Local\\Temp\\ipykernel_29496\\1450764005.py:22: UserWarning:\n",
      "\n",
      "pandas only supports SQLAlchemy connectable (engine/connection) or database string URI or sqlite3 DBAPI2 connection. Other DBAPI2 objects are not tested. Please consider using SQLAlchemy.\n",
      "\n"
     ]
    },
    {
     "data": {
      "application/vnd.plotly.v1+json": {
       "config": {
        "plotlyServerURL": "https://plot.ly"
       },
       "data": [
        {
         "hovertemplate": "Operacion=Bonificación por compra<br>fecha=%{x}<br>suma_diaria=%{y}<extra></extra>",
         "legendgroup": "Bonificación por compra",
         "line": {
          "color": "#636efa",
          "dash": "solid"
         },
         "marker": {
          "symbol": "circle"
         },
         "mode": "lines",
         "name": "Bonificación por compra",
         "showlegend": true,
         "type": "scattergl",
         "x": [
          "2024-01-01",
          "2024-01-02",
          "2024-01-03",
          "2024-01-04",
          "2024-01-05",
          "2024-01-06",
          "2024-01-07",
          "2024-01-08",
          "2024-01-09",
          "2024-01-10",
          "2024-01-11",
          "2024-01-12",
          "2024-01-13",
          "2024-01-14",
          "2024-01-15",
          "2024-01-16",
          "2024-01-17",
          "2024-01-18",
          "2024-01-19",
          "2024-01-20",
          "2024-01-21",
          "2024-01-22",
          "2024-01-23",
          "2024-01-24",
          "2024-01-25",
          "2024-01-26",
          "2024-01-27",
          "2024-01-28",
          "2024-01-29",
          "2024-01-30",
          "2024-01-31",
          "2024-02-01",
          "2024-02-02",
          "2024-02-03",
          "2024-02-04",
          "2024-02-05",
          "2024-02-06",
          "2024-02-07",
          "2024-02-08",
          "2024-02-09",
          "2024-02-10",
          "2024-02-11",
          "2024-02-12",
          "2024-02-13",
          "2024-02-14",
          "2024-02-15",
          "2024-02-16",
          "2024-02-17",
          "2024-02-18",
          "2024-02-19",
          "2024-02-20",
          "2024-02-21",
          "2024-02-22",
          "2024-02-23",
          "2024-02-24",
          "2024-02-25",
          "2024-02-26",
          "2024-02-27",
          "2024-02-28",
          "2024-02-29",
          "2024-03-01",
          "2024-03-02",
          "2024-03-03",
          "2024-03-04",
          "2024-03-05",
          "2024-03-06",
          "2024-03-07",
          "2024-03-08",
          "2024-03-09",
          "2024-03-10",
          "2024-03-11",
          "2024-03-12",
          "2024-03-13",
          "2024-03-14",
          "2024-03-15",
          "2024-03-16",
          "2024-03-17",
          "2024-03-18",
          "2024-03-19",
          "2024-03-20",
          "2024-03-21",
          "2024-03-22",
          "2024-03-23",
          "2024-03-24",
          "2024-03-25",
          "2024-03-26",
          "2024-03-27",
          "2024-03-28",
          "2024-03-29",
          "2024-03-30",
          "2024-03-31",
          "2024-04-01",
          "2024-04-02",
          "2024-04-03",
          "2024-04-04",
          "2024-04-05",
          "2024-04-06",
          "2024-04-07",
          "2024-04-08",
          "2024-04-09",
          "2024-04-10",
          "2024-04-11",
          "2024-04-12",
          "2024-04-13",
          "2024-04-14",
          "2024-04-15",
          "2024-04-16",
          "2024-04-17",
          "2024-04-18",
          "2024-04-19",
          "2024-04-20",
          "2024-04-21",
          "2024-04-22",
          "2024-04-23",
          "2024-04-24",
          "2024-04-25",
          "2024-04-26",
          "2024-04-27",
          "2024-04-28",
          "2024-04-29",
          "2024-04-30",
          "2024-05-01",
          "2024-05-02",
          "2024-05-03",
          "2024-05-04",
          "2024-05-05",
          "2024-05-06",
          "2024-05-07",
          "2024-05-08",
          "2024-05-09",
          "2024-05-10",
          "2024-05-11",
          "2024-05-12",
          "2024-05-13",
          "2024-05-14",
          "2024-05-15",
          "2024-05-16",
          "2024-05-17",
          "2024-05-18",
          "2024-05-19",
          "2024-05-20",
          "2024-05-21",
          "2024-05-22",
          "2024-05-23",
          "2024-05-24",
          "2024-05-25",
          "2024-05-26",
          "2024-05-27",
          "2024-05-28",
          "2024-05-29",
          "2024-05-30",
          "2024-05-31",
          "2024-06-01",
          "2024-06-02",
          "2024-06-03",
          "2024-06-04",
          "2024-06-05",
          "2024-06-06",
          "2024-06-07",
          "2024-06-08",
          "2024-06-09",
          "2024-06-10",
          "2024-06-11",
          "2024-06-12",
          "2024-06-13",
          "2024-06-14",
          "2024-06-15",
          "2024-06-16",
          "2024-06-17",
          "2024-06-18",
          "2024-06-19",
          "2024-06-20",
          "2024-06-21",
          "2024-06-22",
          "2024-06-23",
          "2024-06-24",
          "2024-06-25",
          "2024-06-26",
          "2024-06-27",
          "2024-06-28",
          "2024-06-29",
          "2024-06-30",
          "2024-07-01",
          "2024-07-02",
          "2024-07-03",
          "2024-07-04",
          "2024-07-05",
          "2024-07-06",
          "2024-07-07",
          "2024-07-08",
          "2024-07-09",
          "2024-07-10",
          "2024-07-11",
          "2024-07-12",
          "2024-07-13",
          "2024-07-14",
          "2024-07-15",
          "2024-07-16",
          "2024-07-17",
          "2024-07-18",
          "2024-07-19",
          "2024-07-20",
          "2024-07-21",
          "2024-07-22",
          "2024-07-23",
          "2024-07-24",
          "2024-07-25",
          "2024-07-26",
          "2024-07-27",
          "2024-07-28",
          "2024-07-29",
          "2024-07-30",
          "2024-07-31",
          "2024-08-01",
          "2024-08-02",
          "2024-08-03",
          "2024-08-04",
          "2024-08-05",
          "2024-08-06",
          "2024-08-07",
          "2024-08-08",
          "2024-08-09",
          "2024-08-10",
          "2024-08-11",
          "2024-08-12",
          "2024-08-13",
          "2024-08-14",
          "2024-08-15",
          "2024-08-16",
          "2024-08-17",
          "2024-08-18",
          "2024-08-19",
          "2024-08-20",
          "2024-08-21",
          "2024-08-22",
          "2024-08-23",
          "2024-08-24",
          "2024-08-25",
          "2024-08-26",
          "2024-08-27",
          "2024-08-28",
          "2024-08-29",
          "2024-08-30",
          "2024-08-31",
          "2024-09-01",
          "2024-09-02",
          "2024-09-03",
          "2024-09-04",
          "2024-09-05",
          "2024-09-06",
          "2024-09-07",
          "2024-09-08",
          "2024-09-09",
          "2024-09-10",
          "2024-09-11",
          "2024-09-12",
          "2024-09-13",
          "2024-09-14",
          "2024-09-15",
          "2024-09-16",
          "2024-09-17",
          "2024-09-18",
          "2024-09-19",
          "2024-09-20",
          "2024-09-21",
          "2024-09-22",
          "2024-09-23",
          "2024-09-24",
          "2024-09-25",
          "2024-09-26",
          "2024-09-27",
          "2024-09-28",
          "2024-09-29",
          "2024-09-30",
          "2024-10-01",
          "2024-10-02",
          "2024-10-03",
          "2024-10-04",
          "2024-10-05",
          "2024-10-06",
          "2024-10-07",
          "2024-10-08",
          "2024-10-09",
          "2024-10-10",
          "2024-10-11",
          "2024-10-12",
          "2024-10-13",
          "2024-10-14",
          "2024-10-15",
          "2024-10-16",
          "2024-10-17",
          "2024-10-18",
          "2024-10-19",
          "2024-10-20",
          "2024-10-21",
          "2024-10-22",
          "2024-10-23",
          "2024-10-24",
          "2024-10-25",
          "2024-10-26",
          "2024-10-27",
          "2024-10-28",
          "2024-10-29",
          "2024-10-30",
          "2024-10-31",
          "2024-11-01",
          "2024-11-02",
          "2024-11-03",
          "2024-11-04",
          "2024-11-05",
          "2024-11-06",
          "2024-11-07",
          "2024-11-08",
          "2024-11-09",
          "2024-11-10",
          "2024-11-11",
          "2024-11-12",
          "2024-11-13",
          "2024-11-14",
          "2024-11-15",
          "2024-11-16",
          "2024-11-17",
          "2024-11-18",
          "2024-11-19",
          "2024-11-20",
          "2024-11-21",
          "2024-11-22",
          "2024-11-23",
          "2024-11-24",
          "2024-11-25",
          "2024-11-26",
          "2024-11-27",
          "2024-11-28",
          "2024-11-29",
          "2024-11-30",
          "2024-12-01",
          "2024-12-02",
          "2024-12-03",
          "2024-12-04",
          "2024-12-05",
          "2024-12-06",
          "2024-12-07",
          "2024-12-08",
          "2024-12-09",
          "2024-12-10",
          "2024-12-11",
          "2024-12-12",
          "2024-12-13",
          "2024-12-14",
          "2024-12-15",
          "2024-12-16",
          "2024-12-17",
          "2024-12-18",
          "2024-12-19",
          "2024-12-20",
          "2024-12-21",
          "2024-12-22",
          "2024-12-23",
          "2024-12-24",
          "2024-12-25",
          "2024-12-26",
          "2024-12-27",
          "2024-12-28",
          "2024-12-29",
          "2024-12-30",
          "2024-12-31"
         ],
         "xaxis": "x",
         "y": [
          11.08,
          647.94,
          593.3,
          847.02,
          979.49,
          115.32,
          38.35,
          676.03,
          787.96,
          723.88,
          601.7,
          784.36,
          465.44,
          29.86,
          481.47,
          524.8,
          672.71,
          632.56,
          635.49,
          420.29,
          48.64,
          501.06,
          544.52,
          514,
          206.29,
          0,
          0,
          0,
          0,
          0,
          0,
          893.16,
          803.02,
          509.31,
          19.4,
          601.46,
          475.76,
          502.56,
          470.71,
          535.62,
          496.03,
          70.12,
          420.27,
          381.14,
          538.75,
          539.94,
          563.38,
          438.85,
          65.53,
          560.01,
          425.89,
          529.89,
          485.12,
          772.32,
          460.37,
          65.88,
          424.84,
          407.21,
          0,
          0,
          970.07,
          552.3,
          99.68,
          515.44,
          588.35,
          538.74,
          502.96,
          552.95,
          507.45,
          85.18,
          688.53,
          551.23,
          577.32,
          710.72,
          600.8,
          496.23,
          108.16,
          584.92,
          507.52,
          505.67,
          614.11,
          702.87,
          650.95,
          31.91,
          226.55,
          0,
          0,
          0,
          0,
          0,
          0,
          159.79,
          885.86,
          562.69,
          502.66,
          492.82,
          521.09,
          45.18,
          610.31,
          560.72,
          705.23,
          491.29,
          741.03,
          597.55,
          33.27,
          524.64,
          544.77,
          470.61,
          563.51,
          635.7,
          472.09,
          27.45,
          487.95,
          620.19,
          672.37,
          530.87,
          0,
          0,
          0,
          0,
          0,
          256.12,
          827.18,
          1073.66,
          575.11,
          100.86,
          797.48,
          907.31,
          802.6,
          806.24,
          692.55,
          654.52,
          63.04,
          751.99,
          588.48,
          664.81,
          576.95,
          709.63,
          418.54,
          57.28,
          593.61,
          567.67,
          0,
          0,
          0,
          0,
          0,
          0,
          0,
          0,
          0,
          0,
          1047.45,
          153.55,
          1139.1,
          796.17,
          826.28,
          585.03,
          753.41,
          548.72,
          101.67,
          624.48,
          591.07,
          727.37,
          520.55,
          732,
          544.6,
          38.69,
          559.21,
          625.41,
          711.05,
          564.48,
          259.72,
          0,
          0,
          0,
          0,
          0,
          0,
          0,
          0,
          0,
          1002.48,
          837.75,
          673.48,
          636.69,
          688.03,
          491.9,
          51.91,
          509.52,
          554.95,
          521.33,
          636.68,
          663.32,
          376.47,
          40.66,
          552.86,
          583.36,
          562.53,
          473.67,
          665.77,
          412.19,
          61.08,
          457.72,
          529.04,
          479.82,
          0,
          0,
          0,
          0,
          0,
          0,
          0,
          915.05,
          530.9,
          403.99,
          20.27,
          385.17,
          361.21,
          426.95,
          321.75,
          493.31,
          285.11,
          21.4,
          343.64,
          457.6,
          450.74,
          23,
          289.69,
          266.39,
          54.11,
          349.54,
          229.38,
          286.45,
          264.1,
          345.3,
          276.46,
          12.58,
          384.5,
          328.45,
          377.51,
          329.25,
          490.36,
          347.94,
          42.1,
          532.71,
          476.75,
          563.13,
          416.34,
          579.25,
          367.45,
          119.84,
          555.6,
          672.93,
          677.32,
          613.65,
          710.68,
          479.39,
          48.92,
          651.78,
          501.97,
          701.84,
          559.77,
          660.52,
          501.55,
          53.96,
          611.37,
          655.11,
          571.33,
          157.9,
          0,
          0,
          0,
          0,
          1073.03,
          955.28,
          575.66,
          737.36,
          546.67,
          41.15,
          568.29,
          588.46,
          571.2,
          673.22,
          947.42,
          103,
          46.72,
          540.99,
          635.61,
          692.35,
          529.57,
          733.9,
          526.17,
          52.2,
          712.99,
          640.41,
          312.89,
          231.72,
          230.24,
          316.01,
          36.49,
          169.27,
          259.06,
          279.73,
          275.97,
          265.73,
          433.54,
          109.44,
          784.86,
          844.62,
          931.99,
          718.87,
          730.11,
          519.19,
          42.89,
          639.21,
          816.3,
          768.9,
          603.34,
          1373.16,
          594.97,
          44.51,
          591.18,
          679.46,
          762.43,
          224.9,
          0,
          0,
          0,
          0,
          0,
          0,
          0,
          0,
          0,
          203.9,
          1252.34,
          1098.46,
          978.78,
          1039.69,
          53.75,
          541.08,
          60.41,
          780.87,
          924.53,
          1053.84,
          765.67,
          1098.99,
          698.95,
          89.32,
          893.58,
          988.22,
          1208.6,
          1091.49,
          1042.83,
          239.1,
          0,
          0,
          0,
          0,
          0,
          0,
          0,
          0,
          0,
          0
         ],
         "yaxis": "y"
        },
        {
         "hovertemplate": "Operacion=Comisión por retirada<br>fecha=%{x}<br>suma_diaria=%{y}<extra></extra>",
         "legendgroup": "Comisión por retirada",
         "line": {
          "color": "#EF553B",
          "dash": "solid"
         },
         "marker": {
          "symbol": "circle"
         },
         "mode": "lines",
         "name": "Comisión por retirada",
         "showlegend": true,
         "type": "scattergl",
         "x": [
          "2024-01-01",
          "2024-01-02",
          "2024-01-03",
          "2024-01-05",
          "2024-01-11",
          "2024-01-12",
          "2024-01-13",
          "2024-01-14",
          "2024-01-15",
          "2024-01-18",
          "2024-01-19",
          "2024-01-20",
          "2024-01-21",
          "2024-01-22",
          "2024-01-23",
          "2024-01-24",
          "2024-01-25",
          "2024-01-26",
          "2024-01-27",
          "2024-01-29",
          "2024-01-30",
          "2024-01-31",
          "2024-02-01",
          "2024-02-02",
          "2024-02-03",
          "2024-02-05",
          "2024-02-06",
          "2024-02-09",
          "2024-02-11",
          "2024-02-14",
          "2024-02-15",
          "2024-02-16",
          "2024-02-17",
          "2024-02-18",
          "2024-02-19",
          "2024-02-20",
          "2024-02-21",
          "2024-02-22",
          "2024-02-23",
          "2024-02-24",
          "2024-02-25",
          "2024-02-26",
          "2024-02-27",
          "2024-02-28",
          "2024-02-29",
          "2024-03-01",
          "2024-03-03",
          "2024-03-04",
          "2024-03-05",
          "2024-03-06",
          "2024-03-07",
          "2024-03-09",
          "2024-03-10",
          "2024-03-12",
          "2024-03-13",
          "2024-03-14",
          "2024-03-15",
          "2024-03-17",
          "2024-03-18",
          "2024-03-19",
          "2024-03-20",
          "2024-03-21",
          "2024-03-22",
          "2024-03-23",
          "2024-03-25",
          "2024-03-26",
          "2024-03-27",
          "2024-03-29",
          "2024-03-30",
          "2024-03-31",
          "2024-04-01",
          "2024-04-02",
          "2024-04-04",
          "2024-04-05",
          "2024-04-06",
          "2024-04-08",
          "2024-04-09",
          "2024-04-10",
          "2024-04-11",
          "2024-04-12",
          "2024-04-13",
          "2024-04-14",
          "2024-04-15",
          "2024-04-16",
          "2024-04-17",
          "2024-04-18",
          "2024-04-19",
          "2024-04-20",
          "2024-04-21",
          "2024-04-22",
          "2024-04-23",
          "2024-04-24",
          "2024-04-25",
          "2024-04-26",
          "2024-04-27",
          "2024-04-28",
          "2024-04-29",
          "2024-04-30",
          "2024-05-01",
          "2024-05-02",
          "2024-05-03",
          "2024-05-04",
          "2024-05-06",
          "2024-05-07",
          "2024-05-08",
          "2024-05-09",
          "2024-05-11",
          "2024-05-12",
          "2024-05-13",
          "2024-05-14",
          "2024-05-15",
          "2024-05-16",
          "2024-05-17",
          "2024-05-18",
          "2024-05-19",
          "2024-05-20",
          "2024-05-21",
          "2024-05-22",
          "2024-05-23",
          "2024-05-25",
          "2024-05-26",
          "2024-05-27",
          "2024-05-28",
          "2024-05-29",
          "2024-05-30",
          "2024-05-31",
          "2024-06-02",
          "2024-06-03",
          "2024-06-04",
          "2024-06-05",
          "2024-06-06",
          "2024-06-07",
          "2024-06-08",
          "2024-06-10",
          "2024-06-11",
          "2024-06-12",
          "2024-06-13",
          "2024-06-14",
          "2024-06-15",
          "2024-06-16",
          "2024-06-17",
          "2024-06-18",
          "2024-06-19",
          "2024-06-20",
          "2024-06-21",
          "2024-06-22",
          "2024-06-24",
          "2024-06-25",
          "2024-06-26",
          "2024-06-27",
          "2024-06-28",
          "2024-06-29",
          "2024-06-30",
          "2024-07-01",
          "2024-07-02",
          "2024-07-03",
          "2024-07-04",
          "2024-07-05",
          "2024-07-06",
          "2024-07-07",
          "2024-07-08",
          "2024-07-09",
          "2024-07-10",
          "2024-07-11",
          "2024-07-12",
          "2024-07-13",
          "2024-07-14",
          "2024-07-15",
          "2024-07-16",
          "2024-07-17",
          "2024-07-18",
          "2024-07-19",
          "2024-07-20",
          "2024-07-21",
          "2024-07-22",
          "2024-07-23",
          "2024-07-24",
          "2024-07-25",
          "2024-07-26",
          "2024-07-27",
          "2024-07-29",
          "2024-07-30",
          "2024-07-31",
          "2024-08-01",
          "2024-08-02",
          "2024-08-03",
          "2024-08-04",
          "2024-08-06",
          "2024-08-07",
          "2024-08-08",
          "2024-08-09",
          "2024-08-10",
          "2024-08-11",
          "2024-08-12",
          "2024-08-13",
          "2024-08-14",
          "2024-08-15",
          "2024-08-16",
          "2024-08-18",
          "2024-08-19",
          "2024-08-21",
          "2024-08-22",
          "2024-08-23",
          "2024-08-24",
          "2024-08-26",
          "2024-08-27",
          "2024-08-28",
          "2024-08-29",
          "2024-08-30",
          "2024-08-31",
          "2024-09-01",
          "2024-09-02",
          "2024-09-03",
          "2024-09-04",
          "2024-09-05",
          "2024-09-06",
          "2024-09-07",
          "2024-09-08",
          "2024-09-09",
          "2024-09-10",
          "2024-09-11",
          "2024-09-12",
          "2024-09-13",
          "2024-09-14",
          "2024-09-15",
          "2024-09-16",
          "2024-09-17",
          "2024-09-18",
          "2024-09-19",
          "2024-09-20",
          "2024-09-21",
          "2024-09-22",
          "2024-09-23",
          "2024-09-25",
          "2024-09-26",
          "2024-09-27",
          "2024-09-28",
          "2024-09-29",
          "2024-09-30",
          "2024-10-01",
          "2024-10-02",
          "2024-10-03",
          "2024-10-04",
          "2024-10-05",
          "2024-10-06",
          "2024-10-07",
          "2024-10-08",
          "2024-10-09",
          "2024-10-10",
          "2024-10-11",
          "2024-10-12",
          "2024-10-14",
          "2024-10-15",
          "2024-10-16",
          "2024-10-17",
          "2024-10-19",
          "2024-10-21",
          "2024-10-22",
          "2024-10-23",
          "2024-10-25",
          "2024-10-26",
          "2024-10-27",
          "2024-10-28",
          "2024-10-29",
          "2024-10-30",
          "2024-10-31",
          "2024-11-03",
          "2024-11-04",
          "2024-11-05",
          "2024-11-06",
          "2024-11-07",
          "2024-11-08",
          "2024-11-09",
          "2024-11-10",
          "2024-11-11",
          "2024-11-12",
          "2024-11-13",
          "2024-11-14",
          "2024-11-15",
          "2024-11-16",
          "2024-11-17",
          "2024-11-18",
          "2024-11-19",
          "2024-11-20",
          "2024-11-21",
          "2024-11-22",
          "2024-11-23",
          "2024-11-25",
          "2024-11-26",
          "2024-11-27",
          "2024-11-29",
          "2024-11-30",
          "2024-12-01",
          "2024-12-02",
          "2024-12-03",
          "2024-12-04",
          "2024-12-05",
          "2024-12-07",
          "2024-12-09",
          "2024-12-10",
          "2024-12-11",
          "2024-12-12",
          "2024-12-13",
          "2024-12-14",
          "2024-12-15",
          "2024-12-16",
          "2024-12-17",
          "2024-12-18",
          "2024-12-19",
          "2024-12-20",
          "2024-12-21",
          "2024-12-22",
          "2024-12-23",
          "2024-12-24",
          "2024-12-25",
          "2024-12-26",
          "2024-12-27",
          "2024-12-29",
          "2024-12-30",
          "2024-12-31"
         ],
         "xaxis": "x",
         "y": [
          30.25,
          8.71,
          21.18,
          50.3,
          224.35,
          26.95,
          19.05,
          39.93,
          82.63,
          24.2,
          56.42,
          20.85,
          4.91,
          8.47,
          103.22,
          7.24,
          129.18,
          15.28,
          21.2,
          52.4,
          74.68,
          29.35,
          18.15,
          72.96,
          102.85,
          12.1,
          61.36,
          46.56,
          59.29,
          22.09,
          60.78,
          115.97,
          23.41,
          24.67,
          36.33,
          43.79,
          63.89,
          9.81,
          54.99,
          7.47,
          163.18,
          26.3,
          48.33,
          35.44,
          113.21,
          77.79,
          10.66,
          26.63,
          18.14,
          95.1,
          0.71,
          43.82,
          24.56,
          12.1,
          29.49,
          33.74,
          26.62,
          12.1,
          108.61,
          56.07,
          8.34,
          49.15,
          16.38,
          18.4,
          33,
          141.02,
          26.11,
          27.23,
          12.1,
          0.86,
          2.9,
          55.72,
          0.46,
          54.97,
          29.35,
          232.32,
          36.18,
          39.2,
          35.54,
          9.52,
          27.31,
          7.38,
          53.64,
          14.52,
          67.72,
          46.83,
          18.15,
          15.73,
          14.11,
          98.1,
          34.02,
          108.9,
          124.19,
          39.12,
          12.1,
          23.76,
          77.51,
          42.35,
          24.2,
          34.76,
          43.1,
          13.38,
          56.27,
          41.85,
          44.04,
          38.85,
          8.47,
          5.99,
          167.31,
          152.3,
          9.08,
          102.97,
          29.44,
          27,
          10.89,
          112.01,
          6.05,
          31.46,
          0.64,
          2.3,
          11.32,
          120.48,
          58.7,
          53.55,
          74.17,
          3.87,
          9.64,
          71.59,
          55.19,
          69.05,
          163.01,
          8.2,
          57.09,
          76.92,
          50.39,
          217.8,
          54.66,
          24.83,
          28.1,
          22.69,
          15.13,
          70.46,
          78.24,
          8.47,
          38.72,
          25.5,
          2.78,
          26.24,
          3.63,
          33.31,
          12.56,
          17.51,
          12.1,
          106.6,
          57.04,
          93.34,
          68.97,
          124.5,
          115.18,
          12.06,
          73.58,
          17.91,
          52.03,
          17.84,
          12.1,
          49.78,
          19.97,
          19.36,
          38.82,
          47.95,
          0.71,
          113.7,
          22.43,
          3.61,
          50.66,
          140.5,
          69,
          6.05,
          33.89,
          6.39,
          6.75,
          30.07,
          22.99,
          29.72,
          65.34,
          31.46,
          62.92,
          42.11,
          25.9,
          13.41,
          15.54,
          4.84,
          24.2,
          5.75,
          24.23,
          12.1,
          6.05,
          93.65,
          11.52,
          44.48,
          18.76,
          14.01,
          28.61,
          90.33,
          54.74,
          10.64,
          20.27,
          114.1,
          27.57,
          1.51,
          3.85,
          22.78,
          50.59,
          1.96,
          43.46,
          31.48,
          31.46,
          9.08,
          25.52,
          0.94,
          92.89,
          5.14,
          52.04,
          27.45,
          35.09,
          158.89,
          102.2,
          8.96,
          51.33,
          35.67,
          9.05,
          20.61,
          59.29,
          35.09,
          40.65,
          34.04,
          0.74,
          6.49,
          19.6,
          137,
          97.41,
          69.17,
          15.13,
          15.13,
          0.92,
          131.04,
          180.48,
          14.76,
          82.29,
          81.14,
          1.16,
          63.01,
          32.96,
          8.84,
          115.58,
          40.72,
          93.98,
          54.07,
          137.75,
          97.23,
          72.6,
          31.53,
          30.86,
          19.48,
          129.83,
          3.03,
          31.46,
          14.6,
          18.09,
          43.75,
          79.02,
          24.05,
          12.87,
          42.35,
          118.56,
          43.23,
          20.71,
          12.1,
          74.67,
          3.63,
          21.18,
          37.49,
          102.4,
          70.1,
          162.62,
          39.16,
          10.89,
          11.19,
          24.2,
          107.53,
          30.79,
          1.23,
          5.09,
          5.38,
          20.7,
          62.92,
          17.77,
          169.4,
          45.84,
          128.38,
          43.68,
          140.74,
          8.47,
          12.1,
          29.66,
          231.67,
          32.04,
          36.3,
          19.54,
          35.11,
          12.48,
          16.24,
          49.01,
          108.9,
          9.08,
          14.36,
          195.21,
          21.78,
          53.39,
          12.1
         ],
         "yaxis": "y"
        },
        {
         "hovertemplate": "Operacion=Conversión a €<br>fecha=%{x}<br>suma_diaria=%{y}<extra></extra>",
         "legendgroup": "Conversión a €",
         "line": {
          "color": "#00cc96",
          "dash": "solid"
         },
         "marker": {
          "symbol": "circle"
         },
         "mode": "lines",
         "name": "Conversión a €",
         "showlegend": true,
         "type": "scattergl",
         "x": [
          "2024-01-01",
          "2024-01-02",
          "2024-01-03",
          "2024-01-05",
          "2024-01-07",
          "2024-01-08",
          "2024-01-09",
          "2024-01-10",
          "2024-01-11",
          "2024-01-12",
          "2024-01-13",
          "2024-01-14",
          "2024-01-15",
          "2024-01-16",
          "2024-01-17",
          "2024-01-18",
          "2024-01-19",
          "2024-01-20",
          "2024-01-21",
          "2024-01-22",
          "2024-01-23",
          "2024-01-24",
          "2024-01-25",
          "2024-01-26",
          "2024-01-27",
          "2024-01-29",
          "2024-01-30",
          "2024-01-31",
          "2024-02-02",
          "2024-02-03",
          "2024-02-05",
          "2024-02-06",
          "2024-02-09",
          "2024-02-11",
          "2024-02-12",
          "2024-02-13",
          "2024-02-14",
          "2024-02-15",
          "2024-02-16",
          "2024-02-17",
          "2024-02-18",
          "2024-02-19",
          "2024-02-20",
          "2024-02-21",
          "2024-02-22",
          "2024-02-23",
          "2024-02-24",
          "2024-02-25",
          "2024-02-26",
          "2024-02-27",
          "2024-02-28",
          "2024-02-29",
          "2024-03-01",
          "2024-03-03",
          "2024-03-04",
          "2024-03-05",
          "2024-03-06",
          "2024-03-07",
          "2024-03-09",
          "2024-03-10",
          "2024-03-11",
          "2024-03-12",
          "2024-03-13",
          "2024-03-14",
          "2024-03-15",
          "2024-03-17",
          "2024-03-18",
          "2024-03-19",
          "2024-03-20",
          "2024-03-21",
          "2024-03-22",
          "2024-03-23",
          "2024-03-25",
          "2024-03-26",
          "2024-03-27",
          "2024-03-29",
          "2024-03-30",
          "2024-03-31",
          "2024-04-01",
          "2024-04-02",
          "2024-04-04",
          "2024-04-05",
          "2024-04-06",
          "2024-04-08",
          "2024-04-09",
          "2024-04-10",
          "2024-04-11",
          "2024-04-12",
          "2024-04-13",
          "2024-04-14",
          "2024-04-15",
          "2024-04-16",
          "2024-04-17",
          "2024-04-18",
          "2024-04-19",
          "2024-04-20",
          "2024-04-21",
          "2024-04-22",
          "2024-04-23",
          "2024-04-24",
          "2024-04-25",
          "2024-04-26",
          "2024-04-27",
          "2024-04-28",
          "2024-04-29",
          "2024-04-30",
          "2024-05-01",
          "2024-05-02",
          "2024-05-03",
          "2024-05-04",
          "2024-05-06",
          "2024-05-07",
          "2024-05-08",
          "2024-05-09",
          "2024-05-10",
          "2024-05-11",
          "2024-05-12",
          "2024-05-13",
          "2024-05-14",
          "2024-05-15",
          "2024-05-16",
          "2024-05-17",
          "2024-05-18",
          "2024-05-19",
          "2024-05-20",
          "2024-05-21",
          "2024-05-22",
          "2024-05-25",
          "2024-05-26",
          "2024-05-27",
          "2024-05-28",
          "2024-05-29",
          "2024-05-30",
          "2024-05-31",
          "2024-06-02",
          "2024-06-03",
          "2024-06-04",
          "2024-06-05",
          "2024-06-06",
          "2024-06-07",
          "2024-06-08",
          "2024-06-10",
          "2024-06-11",
          "2024-06-12",
          "2024-06-13",
          "2024-06-14",
          "2024-06-15",
          "2024-06-16",
          "2024-06-17",
          "2024-06-18",
          "2024-06-19",
          "2024-06-20",
          "2024-06-21",
          "2024-06-22",
          "2024-06-24",
          "2024-06-25",
          "2024-06-26",
          "2024-06-27",
          "2024-06-28",
          "2024-06-29",
          "2024-06-30",
          "2024-07-01",
          "2024-07-02",
          "2024-07-03",
          "2024-07-04",
          "2024-07-05",
          "2024-07-06",
          "2024-07-07",
          "2024-07-08",
          "2024-07-09",
          "2024-07-10",
          "2024-07-11",
          "2024-07-12",
          "2024-07-13",
          "2024-07-14",
          "2024-07-15",
          "2024-07-16",
          "2024-07-17",
          "2024-07-18",
          "2024-07-19",
          "2024-07-20",
          "2024-07-21",
          "2024-07-22",
          "2024-07-23",
          "2024-07-24",
          "2024-07-25",
          "2024-07-26",
          "2024-07-27",
          "2024-07-29",
          "2024-07-30",
          "2024-08-01",
          "2024-08-02",
          "2024-08-03",
          "2024-08-04",
          "2024-08-06",
          "2024-08-07",
          "2024-08-08",
          "2024-08-09",
          "2024-08-10",
          "2024-08-11",
          "2024-08-12",
          "2024-08-13",
          "2024-08-14",
          "2024-08-15",
          "2024-08-16",
          "2024-08-18",
          "2024-08-19",
          "2024-08-20",
          "2024-08-21",
          "2024-08-22",
          "2024-08-23",
          "2024-08-24",
          "2024-08-25",
          "2024-08-26",
          "2024-08-27",
          "2024-08-28",
          "2024-08-29",
          "2024-08-30",
          "2024-08-31",
          "2024-09-01",
          "2024-09-02",
          "2024-09-03",
          "2024-09-04",
          "2024-09-05",
          "2024-09-06",
          "2024-09-07",
          "2024-09-08",
          "2024-09-09",
          "2024-09-10",
          "2024-09-11",
          "2024-09-12",
          "2024-09-13",
          "2024-09-14",
          "2024-09-15",
          "2024-09-16",
          "2024-09-17",
          "2024-09-18",
          "2024-09-19",
          "2024-09-20",
          "2024-09-21",
          "2024-09-22",
          "2024-09-23",
          "2024-09-25",
          "2024-09-26",
          "2024-09-27",
          "2024-09-28",
          "2024-09-29",
          "2024-09-30",
          "2024-10-01",
          "2024-10-02",
          "2024-10-03",
          "2024-10-04",
          "2024-10-05",
          "2024-10-06",
          "2024-10-07",
          "2024-10-08",
          "2024-10-09",
          "2024-10-10",
          "2024-10-11",
          "2024-10-12",
          "2024-10-14",
          "2024-10-15",
          "2024-10-16",
          "2024-10-17",
          "2024-10-19",
          "2024-10-21",
          "2024-10-22",
          "2024-10-23",
          "2024-10-25",
          "2024-10-26",
          "2024-10-27",
          "2024-10-28",
          "2024-10-29",
          "2024-10-30",
          "2024-10-31",
          "2024-11-03",
          "2024-11-04",
          "2024-11-05",
          "2024-11-06",
          "2024-11-07",
          "2024-11-08",
          "2024-11-09",
          "2024-11-10",
          "2024-11-11",
          "2024-11-12",
          "2024-11-13",
          "2024-11-14",
          "2024-11-15",
          "2024-11-16",
          "2024-11-17",
          "2024-11-18",
          "2024-11-19",
          "2024-11-20",
          "2024-11-21",
          "2024-11-22",
          "2024-11-23",
          "2024-11-25",
          "2024-11-26",
          "2024-11-27",
          "2024-11-29",
          "2024-12-01",
          "2024-12-02",
          "2024-12-03",
          "2024-12-04",
          "2024-12-05",
          "2024-12-07",
          "2024-12-09",
          "2024-12-10",
          "2024-12-11",
          "2024-12-12",
          "2024-12-14",
          "2024-12-15",
          "2024-12-16",
          "2024-12-17",
          "2024-12-18",
          "2024-12-19",
          "2024-12-20",
          "2024-12-21",
          "2024-12-22",
          "2024-12-23",
          "2024-12-24",
          "2024-12-25",
          "2024-12-26",
          "2024-12-27",
          "2024-12-29",
          "2024-12-30",
          "2024-12-31"
         ],
         "xaxis": "x",
         "y": [
          2500,
          719.8,
          1750,
          3018,
          925,
          1500,
          2800,
          9512.41,
          18541.6,
          2227,
          1574,
          3200,
          6829,
          7205,
          5200,
          2000,
          4662.42,
          1723,
          400,
          700,
          8525.3,
          598.3,
          10675.91,
          1263,
          1752,
          4330.25,
          6171.44,
          3926,
          6029.54,
          8500,
          3800,
          5071.3,
          4766,
          3000,
          1000,
          2618,
          8158.75,
          5439,
          1584.5,
          934.95,
          1838.61,
          3000,
          3618.98,
          5280,
          746.9,
          4835.68,
          592.42,
          13335,
          2173.36,
          3994.25,
          5360.12,
          9355.63,
          3454.6,
          880.83,
          2205,
          1442,
          7851.58,
          58.41,
          3621.28,
          2000,
          9680,
          1000,
          2437.4,
          2788,
          2200,
          1000,
          8976.31,
          4633.44,
          690,
          4062.11,
          1354,
          1520.65,
          2726.24,
          11654.48,
          2158.03,
          2250,
          1000,
          71.01,
          240,
          4604.6,
          38.31,
          4553.25,
          2425.08,
          19200,
          2970,
          3240,
          3737.49,
          787.07,
          2256.81,
          610,
          4433,
          3600,
          3196.35,
          5065,
          1500,
          1300,
          1165.94,
          12882.16,
          2811.18,
          9000,
          9064,
          3882,
          1000,
          1963.51,
          5755.36,
          3500,
          2000,
          2828.32,
          3561.61,
          1105.79,
          4650.33,
          3459.08,
          3640,
          3199,
          4990.57,
          700,
          1618.86,
          14327,
          11553.94,
          750,
          9110,
          2433.39,
          2231.13,
          900,
          8586.01,
          500,
          2600,
          3690,
          2350,
          6456.37,
          4846.23,
          3120,
          6129.92,
          313,
          745.71,
          5916.14,
          4510,
          13305,
          4763.33,
          1137.77,
          4718.59,
          5356.78,
          3164.35,
          18000,
          4516.82,
          2051.8,
          2322.23,
          1875,
          1250,
          5823,
          6456.16,
          700,
          3200.17,
          2107.78,
          974,
          1425,
          300,
          2753.87,
          1038,
          1447.03,
          1000,
          8410,
          4719.83,
          7712.79,
          5700,
          10289.13,
          9519.28,
          945,
          5938.05,
          1480,
          4300,
          1475.14,
          1000,
          4114.13,
          1650,
          1600,
          3208.33,
          3915,
          58.93,
          9396.92,
          1801.33,
          264,
          6087.43,
          11611,
          5705,
          500,
          2800.81,
          527.97,
          557.93,
          2485.23,
          2300,
          4900,
          2600,
          5200,
          3480,
          2140.31,
          1071.25,
          1133.55,
          400,
          2000,
          475,
          2000,
          1000,
          500,
          7739.48,
          951.94,
          3676,
          500,
          1550,
          1157.37,
          2364.75,
          7465,
          450,
          4023.96,
          779.05,
          1675,
          9430,
          2278.18,
          125,
          318,
          1882.75,
          4180.64,
          160,
          3560,
          2601.59,
          2600,
          750,
          2060,
          1177.69,
          7276.79,
          380,
          3850,
          2268.8,
          2900,
          13131.66,
          8445.95,
          740,
          4141.91,
          2943.04,
          748.1,
          1703,
          4900,
          2900,
          3359.04,
          2762,
          61.07,
          537,
          1620,
          11162.33,
          8050,
          6316.6,
          1250,
          1250,
          75.76,
          11030,
          14916.19,
          1220,
          6100.72,
          6705.61,
          96.23,
          5210,
          2724,
          630,
          10953.55,
          3300,
          7767.03,
          4469,
          8884.65,
          8035.42,
          6000,
          2955,
          2539.81,
          2254.8,
          9735,
          250,
          2600,
          1186.98,
          1495.5,
          2727.1,
          6511.3,
          1987.5,
          955,
          3500,
          9797.73,
          3572,
          1712,
          1000,
          6171.23,
          300,
          1750,
          3098.33,
          8463.06,
          5768.32,
          13440,
          3235.64,
          900,
          925,
          2002,
          8886.52,
          2544,
          302,
          444.02,
          1711,
          5850,
          1967.61,
          14000,
          3337.59,
          10575,
          3610,
          13130.48,
          4000,
          2100,
          15908.85,
          1000,
          3000,
          1615,
          3695,
          1031.52,
          1250,
          4050,
          9000,
          750,
          1187.23,
          15133.59,
          1800,
          4421.62,
          1000
         ],
         "yaxis": "y"
        },
        {
         "hovertemplate": "Operacion=Cuota de socio<br>fecha=%{x}<br>suma_diaria=%{y}<extra></extra>",
         "legendgroup": "Cuota de socio",
         "line": {
          "color": "#ab63fa",
          "dash": "solid"
         },
         "marker": {
          "symbol": "circle"
         },
         "mode": "lines",
         "name": "Cuota de socio",
         "showlegend": true,
         "type": "scattergl",
         "x": [
          "2024-01-01",
          "2024-01-02",
          "2024-01-03",
          "2024-01-04",
          "2024-01-05",
          "2024-01-06",
          "2024-01-07",
          "2024-01-08",
          "2024-01-09",
          "2024-01-10",
          "2024-01-11",
          "2024-01-12",
          "2024-01-13",
          "2024-01-14",
          "2024-01-15",
          "2024-01-16",
          "2024-01-17",
          "2024-01-18",
          "2024-01-19",
          "2024-01-20",
          "2024-01-21",
          "2024-01-22",
          "2024-01-23",
          "2024-01-24",
          "2024-01-25",
          "2024-01-26",
          "2024-01-28",
          "2024-01-30",
          "2024-01-31",
          "2024-02-01",
          "2024-02-02",
          "2024-02-03",
          "2024-02-04",
          "2024-02-05",
          "2024-02-06",
          "2024-02-07",
          "2024-02-08",
          "2024-02-09",
          "2024-02-10",
          "2024-02-12",
          "2024-02-14",
          "2024-02-15",
          "2024-02-16",
          "2024-02-17",
          "2024-02-19",
          "2024-02-20",
          "2024-02-21",
          "2024-02-22",
          "2024-02-23",
          "2024-02-24",
          "2024-02-25",
          "2024-02-26",
          "2024-02-27",
          "2024-02-29",
          "2024-03-01",
          "2024-03-02",
          "2024-03-04",
          "2024-03-05",
          "2024-03-06",
          "2024-03-07",
          "2024-03-08",
          "2024-03-09",
          "2024-03-11",
          "2024-03-12",
          "2024-03-14",
          "2024-03-15",
          "2024-03-16",
          "2024-03-18",
          "2024-03-19",
          "2024-03-20",
          "2024-03-22",
          "2024-03-23",
          "2024-03-25",
          "2024-03-26",
          "2024-04-02",
          "2024-04-03",
          "2024-04-04",
          "2024-04-05",
          "2024-04-07",
          "2024-04-08",
          "2024-04-09",
          "2024-04-10",
          "2024-04-11",
          "2024-04-12",
          "2024-04-15",
          "2024-04-16",
          "2024-04-17",
          "2024-04-19",
          "2024-04-20",
          "2024-04-22",
          "2024-04-24",
          "2024-04-25",
          "2024-04-26",
          "2024-04-29",
          "2024-04-30",
          "2024-05-02",
          "2024-05-03",
          "2024-05-06",
          "2024-05-07",
          "2024-05-08",
          "2024-05-09",
          "2024-05-15",
          "2024-05-20",
          "2024-05-21",
          "2024-05-22",
          "2024-05-23",
          "2024-05-24",
          "2024-05-25",
          "2024-05-26",
          "2024-05-27",
          "2024-05-28",
          "2024-05-30",
          "2024-05-31",
          "2024-06-01",
          "2024-06-03",
          "2024-06-04",
          "2024-06-05",
          "2024-06-06",
          "2024-06-07",
          "2024-06-08",
          "2024-06-11",
          "2024-06-12",
          "2024-06-13",
          "2024-06-14",
          "2024-06-17",
          "2024-06-21",
          "2024-06-25",
          "2024-06-27",
          "2024-07-02",
          "2024-07-04",
          "2024-07-09",
          "2024-07-12",
          "2024-07-15",
          "2024-07-16",
          "2024-07-23",
          "2024-07-29",
          "2024-07-30",
          "2024-08-02",
          "2024-08-07",
          "2024-08-08",
          "2024-08-11",
          "2024-08-12",
          "2024-08-14",
          "2024-08-26",
          "2024-08-28",
          "2024-08-30",
          "2024-09-02",
          "2024-09-03",
          "2024-09-10",
          "2024-09-12",
          "2024-09-16",
          "2024-09-17",
          "2024-09-24",
          "2024-09-28",
          "2024-09-30",
          "2024-10-01",
          "2024-10-02",
          "2024-10-03",
          "2024-10-05",
          "2024-10-07",
          "2024-10-08",
          "2024-10-14",
          "2024-10-15",
          "2024-10-16",
          "2024-10-17",
          "2024-10-20",
          "2024-10-21",
          "2024-10-22",
          "2024-10-23",
          "2024-10-24",
          "2024-10-25",
          "2024-10-28",
          "2024-10-30",
          "2024-11-04",
          "2024-11-05",
          "2024-11-06",
          "2024-11-07",
          "2024-11-08",
          "2024-11-09",
          "2024-11-12",
          "2024-11-13",
          "2024-11-14",
          "2024-11-16",
          "2024-11-17",
          "2024-11-18",
          "2024-11-19",
          "2024-11-22",
          "2024-11-23",
          "2024-11-24",
          "2024-11-25",
          "2024-11-27",
          "2024-11-29",
          "2024-11-30",
          "2024-12-03",
          "2024-12-04",
          "2024-12-05",
          "2024-12-06",
          "2024-12-11",
          "2024-12-12",
          "2024-12-13",
          "2024-12-14",
          "2024-12-17",
          "2024-12-18",
          "2024-12-23",
          "2024-12-29"
         ],
         "xaxis": "x",
         "y": [
          70,
          310,
          470,
          330,
          320,
          50,
          50,
          170,
          220,
          200,
          130,
          180,
          30,
          20,
          150,
          40,
          80,
          80,
          50,
          20,
          30,
          30,
          40,
          40,
          50,
          20,
          10,
          30,
          50,
          20,
          70,
          40,
          10,
          20,
          30,
          30,
          40,
          30,
          10,
          20,
          50,
          60,
          20,
          10,
          20,
          50,
          60,
          20,
          20,
          10,
          20,
          10,
          40,
          10,
          30,
          10,
          10,
          30,
          30,
          20,
          30,
          10,
          10,
          10,
          30,
          20,
          10,
          10,
          20,
          40,
          20,
          10,
          20,
          10,
          30,
          10,
          20,
          20,
          20,
          20,
          20,
          20,
          50,
          10,
          10,
          20,
          40,
          10,
          10,
          10,
          40,
          20,
          10,
          10,
          30,
          20,
          80,
          20,
          20,
          10,
          20,
          30,
          20,
          20,
          10,
          10,
          30,
          10,
          20,
          20,
          40,
          30,
          10,
          20,
          20,
          10,
          10,
          10,
          20,
          10,
          20,
          10,
          20,
          10,
          20,
          20,
          10,
          10,
          10,
          20,
          20,
          10,
          10,
          10,
          10,
          10,
          20,
          20,
          20,
          10,
          10,
          10,
          10,
          20,
          10,
          20,
          10,
          20,
          10,
          10,
          10,
          20,
          20,
          10,
          10,
          10,
          10,
          30,
          20,
          20,
          10,
          10,
          10,
          20,
          20,
          10,
          10,
          20,
          10,
          10,
          40,
          10,
          10,
          10,
          10,
          10,
          10,
          10,
          10,
          20,
          20,
          30,
          10,
          10,
          10,
          30,
          20,
          10,
          10,
          20,
          10,
          10,
          10,
          10,
          30,
          10,
          10,
          10,
          10,
          10,
          10,
          10,
          10,
          10,
          10
         ],
         "yaxis": "y"
        },
        {
         "hovertemplate": "Operacion=Cuota mensual de socio<br>fecha=%{x}<br>suma_diaria=%{y}<extra></extra>",
         "legendgroup": "Cuota mensual de socio",
         "line": {
          "color": "#FFA15A",
          "dash": "solid"
         },
         "marker": {
          "symbol": "circle"
         },
         "mode": "lines",
         "name": "Cuota mensual de socio",
         "showlegend": true,
         "type": "scattergl",
         "x": [
          "2024-01-01",
          "2024-01-03",
          "2024-01-04",
          "2024-02-02",
          "2024-02-05",
          "2024-02-06",
          "2024-02-07",
          "2024-02-08",
          "2024-02-09",
          "2024-02-13",
          "2024-02-20",
          "2024-03-03",
          "2024-03-04",
          "2024-03-05",
          "2024-03-07",
          "2024-03-13",
          "2024-03-17",
          "2024-03-18",
          "2024-03-20",
          "2024-03-21",
          "2024-03-24",
          "2024-03-25",
          "2024-04-04",
          "2024-04-05",
          "2024-04-06",
          "2024-04-09",
          "2024-04-10",
          "2024-04-12",
          "2024-04-22",
          "2024-04-23",
          "2024-04-24",
          "2024-05-04",
          "2024-05-10",
          "2024-05-11",
          "2024-05-12",
          "2024-05-14",
          "2024-05-15",
          "2024-05-16",
          "2024-05-17",
          "2024-05-18",
          "2024-05-19",
          "2024-05-21",
          "2024-05-22",
          "2024-05-23",
          "2024-05-29",
          "2024-06-01",
          "2024-06-03",
          "2024-06-06",
          "2024-06-07",
          "2024-06-10",
          "2024-06-11",
          "2024-06-12",
          "2024-06-13",
          "2024-06-14",
          "2024-06-19",
          "2024-06-21",
          "2024-06-22",
          "2024-07-08",
          "2024-07-11",
          "2024-07-15",
          "2024-07-16",
          "2024-07-18",
          "2024-07-19",
          "2024-07-21",
          "2024-07-23",
          "2024-07-24",
          "2024-07-27",
          "2024-08-02",
          "2024-08-06",
          "2024-08-08",
          "2024-08-09",
          "2024-08-17",
          "2024-08-18",
          "2024-08-19",
          "2024-08-20",
          "2024-08-21",
          "2024-08-22",
          "2024-08-24",
          "2024-08-25",
          "2024-08-27",
          "2024-08-28",
          "2024-08-29",
          "2024-08-30",
          "2024-09-01",
          "2024-09-04",
          "2024-09-05",
          "2024-09-06",
          "2024-09-07",
          "2024-09-08",
          "2024-09-10",
          "2024-09-11",
          "2024-09-12",
          "2024-09-13",
          "2024-09-14",
          "2024-09-15",
          "2024-09-17",
          "2024-09-20",
          "2024-09-22",
          "2024-09-24",
          "2024-09-25",
          "2024-09-27",
          "2024-09-30",
          "2024-10-02",
          "2024-10-03",
          "2024-10-04",
          "2024-10-06",
          "2024-10-07",
          "2024-10-08",
          "2024-10-09",
          "2024-10-10",
          "2024-10-11",
          "2024-10-17",
          "2024-10-18",
          "2024-10-19",
          "2024-10-20",
          "2024-10-23",
          "2024-10-24",
          "2024-10-27",
          "2024-10-29",
          "2024-10-30",
          "2024-10-31",
          "2024-11-03",
          "2024-11-06",
          "2024-11-08",
          "2024-11-10",
          "2024-11-13",
          "2024-11-14",
          "2024-11-15",
          "2024-11-16",
          "2024-11-17",
          "2024-11-19",
          "2024-11-20",
          "2024-11-23",
          "2024-12-01",
          "2024-12-03",
          "2024-12-04",
          "2024-12-05",
          "2024-12-06",
          "2024-12-07",
          "2024-12-08",
          "2024-12-11",
          "2024-12-12",
          "2024-12-13",
          "2024-12-14",
          "2024-12-16",
          "2024-12-19",
          "2024-12-20",
          "2024-12-21",
          "2024-12-24"
         ],
         "xaxis": "x",
         "y": [
          107.25,
          11.7,
          1.95,
          674.7,
          7.8,
          1.95,
          3.9,
          1.95,
          1.95,
          1.95,
          1.95,
          1.95,
          797.55,
          5.85,
          5.85,
          1.95,
          1.95,
          1.95,
          3.9,
          17.55,
          5.85,
          1.95,
          858,
          5.85,
          9.75,
          1.95,
          1.95,
          1.95,
          1.95,
          1.95,
          25.35,
          3.9,
          943.8,
          3.9,
          5.85,
          9.75,
          1.95,
          3.9,
          1.95,
          1.95,
          1.95,
          1.95,
          1.95,
          1.95,
          1.95,
          5.85,
          1.95,
          1.95,
          5.85,
          1029.6,
          7.8,
          3.9,
          5.85,
          19.5,
          1.95,
          3.9,
          3.9,
          1.95,
          1019.85,
          42.9,
          1.95,
          19.5,
          3.9,
          7.8,
          7.8,
          3.9,
          3.9,
          1.95,
          1.95,
          1.95,
          3.9,
          1058.85,
          3.9,
          1.95,
          11.7,
          9.75,
          1.95,
          3.9,
          3.9,
          1.95,
          1.95,
          19.5,
          3.9,
          1.95,
          1074.45,
          21.45,
          5.85,
          1.95,
          1.95,
          11.7,
          1.95,
          1.95,
          3.9,
          3.9,
          1.95,
          1.95,
          1.95,
          5.85,
          1.95,
          3.9,
          1.95,
          1.95,
          3.9,
          1.95,
          7.8,
          1070.55,
          1.95,
          1.95,
          9.75,
          3.9,
          3.9,
          9.75,
          15.6,
          5.85,
          1.95,
          29.25,
          1.95,
          3.9,
          1.95,
          3.9,
          1.95,
          1.95,
          1.95,
          1.95,
          3.9,
          29.25,
          1152.45,
          17.55,
          3.9,
          5.85,
          1.95,
          7.8,
          1.95,
          7.8,
          37.05,
          1131,
          42.9,
          7.8,
          1.95,
          5.85,
          1.95,
          3.9,
          3.9,
          5.85,
          13.65,
          7.8,
          15.6,
          1.95,
          9.75
         ],
         "yaxis": "y"
        },
        {
         "hovertemplate": "Operacion=Descuento automático<br>fecha=%{x}<br>suma_diaria=%{y}<extra></extra>",
         "legendgroup": "Descuento automático",
         "line": {
          "color": "#19d3f3",
          "dash": "solid"
         },
         "marker": {
          "symbol": "circle"
         },
         "mode": "lines",
         "name": "Descuento automático",
         "showlegend": true,
         "type": "scattergl",
         "x": [
          "2024-01-01",
          "2024-01-02",
          "2024-01-03",
          "2024-01-04",
          "2024-01-05",
          "2024-01-06",
          "2024-01-07",
          "2024-01-08",
          "2024-01-09",
          "2024-01-10",
          "2024-01-11",
          "2024-01-12",
          "2024-01-13",
          "2024-01-14",
          "2024-01-15",
          "2024-01-16",
          "2024-01-17",
          "2024-01-18",
          "2024-01-19",
          "2024-01-20",
          "2024-01-21",
          "2024-01-22",
          "2024-01-23",
          "2024-01-24",
          "2024-01-25",
          "2024-01-26",
          "2024-01-27",
          "2024-01-28",
          "2024-01-29",
          "2024-01-30",
          "2024-01-31",
          "2024-02-01",
          "2024-02-02",
          "2024-02-03",
          "2024-02-04",
          "2024-02-05",
          "2024-02-06",
          "2024-02-07",
          "2024-02-08",
          "2024-02-09",
          "2024-02-10",
          "2024-02-11",
          "2024-02-12",
          "2024-02-13",
          "2024-02-14",
          "2024-02-15",
          "2024-02-16",
          "2024-02-17",
          "2024-02-18",
          "2024-02-19",
          "2024-02-20",
          "2024-02-21",
          "2024-02-22",
          "2024-02-23",
          "2024-02-24",
          "2024-02-25",
          "2024-02-26",
          "2024-02-27",
          "2024-02-28",
          "2024-02-29",
          "2024-03-01",
          "2024-03-02",
          "2024-03-03",
          "2024-03-04",
          "2024-03-05",
          "2024-03-06",
          "2024-03-07",
          "2024-03-08",
          "2024-03-09",
          "2024-03-10",
          "2024-03-11",
          "2024-03-12",
          "2024-03-13",
          "2024-03-14",
          "2024-03-15",
          "2024-03-16",
          "2024-03-17",
          "2024-03-18",
          "2024-03-19",
          "2024-03-20",
          "2024-03-21",
          "2024-03-22",
          "2024-03-23",
          "2024-03-24",
          "2024-03-25",
          "2024-03-26",
          "2024-03-27",
          "2024-03-28",
          "2024-03-29",
          "2024-03-30",
          "2024-03-31",
          "2024-04-01",
          "2024-04-02",
          "2024-04-03",
          "2024-04-04",
          "2024-04-05",
          "2024-04-06",
          "2024-04-07",
          "2024-04-08",
          "2024-04-09",
          "2024-04-10",
          "2024-04-11",
          "2024-04-12",
          "2024-04-13",
          "2024-04-14",
          "2024-04-15",
          "2024-04-16",
          "2024-04-17",
          "2024-04-18",
          "2024-04-19",
          "2024-04-20",
          "2024-04-21",
          "2024-04-22",
          "2024-04-23",
          "2024-04-24",
          "2024-04-25",
          "2024-04-26",
          "2024-04-27",
          "2024-04-28",
          "2024-04-29",
          "2024-04-30",
          "2024-05-01",
          "2024-05-02",
          "2024-05-03",
          "2024-05-04",
          "2024-05-05",
          "2024-05-06",
          "2024-05-07",
          "2024-05-08",
          "2024-05-09",
          "2024-05-10",
          "2024-05-11",
          "2024-05-12",
          "2024-05-13",
          "2024-05-14",
          "2024-05-15",
          "2024-05-16",
          "2024-05-17",
          "2024-05-18",
          "2024-05-19",
          "2024-05-20",
          "2024-05-21",
          "2024-05-22",
          "2024-05-23",
          "2024-05-24",
          "2024-05-25",
          "2024-05-26",
          "2024-05-27",
          "2024-05-28",
          "2024-05-29",
          "2024-05-30",
          "2024-05-31",
          "2024-06-01",
          "2024-06-02",
          "2024-06-03",
          "2024-06-04",
          "2024-06-05",
          "2024-06-06",
          "2024-06-07",
          "2024-06-08",
          "2024-06-09",
          "2024-06-10",
          "2024-06-11",
          "2024-06-12",
          "2024-06-13",
          "2024-06-14",
          "2024-06-15",
          "2024-06-16",
          "2024-06-17",
          "2024-06-18",
          "2024-06-19",
          "2024-06-20",
          "2024-06-21",
          "2024-06-22",
          "2024-06-23",
          "2024-06-24",
          "2024-06-25",
          "2024-06-26",
          "2024-06-27",
          "2024-06-28",
          "2024-06-29",
          "2024-06-30",
          "2024-07-01",
          "2024-07-02",
          "2024-07-03",
          "2024-07-04",
          "2024-07-05",
          "2024-07-06",
          "2024-07-07",
          "2024-07-08",
          "2024-07-09",
          "2024-07-10",
          "2024-07-11",
          "2024-07-12",
          "2024-07-13",
          "2024-07-14",
          "2024-07-15",
          "2024-07-16",
          "2024-07-17",
          "2024-07-18",
          "2024-07-19",
          "2024-07-20",
          "2024-07-21",
          "2024-07-22",
          "2024-07-23",
          "2024-07-24",
          "2024-07-25",
          "2024-07-26",
          "2024-07-27",
          "2024-07-28",
          "2024-07-29",
          "2024-07-30",
          "2024-07-31",
          "2024-08-01",
          "2024-08-02",
          "2024-08-03",
          "2024-08-04",
          "2024-08-05",
          "2024-08-06",
          "2024-08-07",
          "2024-08-08",
          "2024-08-09",
          "2024-08-10",
          "2024-08-11",
          "2024-08-12",
          "2024-08-13",
          "2024-08-14",
          "2024-08-15",
          "2024-08-16",
          "2024-08-17",
          "2024-08-18",
          "2024-08-19",
          "2024-08-20",
          "2024-08-21",
          "2024-08-22",
          "2024-08-23",
          "2024-08-24",
          "2024-08-25",
          "2024-08-26",
          "2024-08-27",
          "2024-08-28",
          "2024-08-29",
          "2024-08-30",
          "2024-08-31",
          "2024-09-01",
          "2024-09-02",
          "2024-09-03",
          "2024-09-04",
          "2024-09-05",
          "2024-09-06",
          "2024-09-07",
          "2024-09-08",
          "2024-09-09",
          "2024-09-10",
          "2024-09-11",
          "2024-09-12",
          "2024-09-13",
          "2024-09-14",
          "2024-09-15",
          "2024-09-16",
          "2024-09-17",
          "2024-09-18",
          "2024-09-19",
          "2024-09-20",
          "2024-09-21",
          "2024-09-22",
          "2024-09-23",
          "2024-09-24",
          "2024-09-25",
          "2024-09-26",
          "2024-09-27",
          "2024-09-28",
          "2024-09-29",
          "2024-09-30",
          "2024-10-01",
          "2024-10-02",
          "2024-10-03",
          "2024-10-04",
          "2024-10-05",
          "2024-10-06",
          "2024-10-07",
          "2024-10-08",
          "2024-10-09",
          "2024-10-10",
          "2024-10-11",
          "2024-10-12",
          "2024-10-13",
          "2024-10-14",
          "2024-10-15",
          "2024-10-16",
          "2024-10-17",
          "2024-10-18",
          "2024-10-19",
          "2024-10-20",
          "2024-10-21",
          "2024-10-22",
          "2024-10-23",
          "2024-10-24",
          "2024-10-25",
          "2024-10-26",
          "2024-10-27",
          "2024-10-28",
          "2024-10-29",
          "2024-10-30",
          "2024-10-31",
          "2024-11-01",
          "2024-11-02",
          "2024-11-03",
          "2024-11-04",
          "2024-11-05",
          "2024-11-06",
          "2024-11-07",
          "2024-11-08",
          "2024-11-09",
          "2024-11-10",
          "2024-11-11",
          "2024-11-12",
          "2024-11-13",
          "2024-11-14",
          "2024-11-15",
          "2024-11-16",
          "2024-11-17",
          "2024-11-18",
          "2024-11-19",
          "2024-11-20",
          "2024-11-21",
          "2024-11-22",
          "2024-11-23",
          "2024-11-24",
          "2024-11-25",
          "2024-11-26",
          "2024-11-27",
          "2024-11-28",
          "2024-11-29",
          "2024-11-30",
          "2024-12-01",
          "2024-12-02",
          "2024-12-03",
          "2024-12-04",
          "2024-12-05",
          "2024-12-06",
          "2024-12-07",
          "2024-12-08",
          "2024-12-09",
          "2024-12-10",
          "2024-12-11",
          "2024-12-12",
          "2024-12-13",
          "2024-12-14",
          "2024-12-15",
          "2024-12-16",
          "2024-12-17",
          "2024-12-18",
          "2024-12-19",
          "2024-12-20",
          "2024-12-21",
          "2024-12-22",
          "2024-12-23",
          "2024-12-24",
          "2024-12-25",
          "2024-12-26",
          "2024-12-27",
          "2024-12-28",
          "2024-12-29",
          "2024-12-30",
          "2024-12-31"
         ],
         "xaxis": "x",
         "y": [
          0.23,
          60.93,
          76.86,
          144.46,
          183.32,
          15.95,
          5.18,
          115.86,
          152.38,
          158.35,
          138.83,
          173.62,
          83.63,
          4.91,
          113.29,
          130.17,
          166.72,
          178.59,
          118.31,
          94.02,
          11.25,
          119.99,
          135.26,
          114.05,
          114.83,
          80.33,
          67.5,
          8.02,
          55.69,
          44.83,
          40.13,
          243.24,
          236.01,
          135.29,
          3.25,
          167.27,
          123.92,
          124.59,
          133.74,
          123.7,
          121.02,
          16.43,
          104.71,
          101.21,
          114.31,
          148.05,
          131.52,
          113.11,
          12.86,
          132.14,
          120.87,
          146.92,
          139.34,
          215.51,
          127.91,
          21.11,
          112.64,
          116.22,
          102.61,
          65.01,
          298.39,
          161.84,
          26.24,
          129.63,
          149.4,
          132.11,
          138.59,
          146.87,
          135.29,
          23.15,
          177.31,
          152.56,
          155.82,
          197.74,
          147.61,
          127.6,
          36.35,
          124.07,
          155.13,
          128.68,
          162.46,
          201.26,
          188.79,
          9.09,
          99.89,
          104.07,
          112.79,
          6.76,
          9.48,
          51.55,
          1.13,
          34.31,
          298.88,
          170.63,
          133.54,
          147.74,
          146.77,
          13.08,
          186.25,
          153.52,
          203.5,
          145.93,
          220.74,
          150.35,
          9.11,
          151.54,
          131.92,
          119.69,
          175.02,
          174.77,
          125.24,
          7.37,
          151.27,
          207.22,
          180.25,
          193.83,
          109.19,
          86.59,
          10.78,
          99.31,
          74.26,
          93.52,
          247.11,
          387.47,
          162.69,
          17.47,
          216.98,
          280.79,
          290.27,
          213.52,
          209.34,
          197.32,
          14.34,
          296.52,
          165.55,
          193.69,
          169.69,
          203.53,
          113.15,
          18.12,
          188.32,
          170.89,
          113.94,
          102.48,
          136.35,
          111.82,
          6.88,
          89.8,
          77.74,
          83.13,
          85.72,
          73.88,
          346.57,
          40.37,
          335.7,
          207.05,
          288.43,
          167.45,
          223.83,
          172.83,
          18.19,
          207.89,
          160.8,
          233.28,
          156.81,
          224.7,
          162.84,
          9.22,
          183.21,
          197,
          208.49,
          156.51,
          147.35,
          158.4,
          11.39,
          12.84,
          62.35,
          52.41,
          75.02,
          86.93,
          57.64,
          10.55,
          265.16,
          289.17,
          181.2,
          203.97,
          176.56,
          138.97,
          14.54,
          129.74,
          163.54,
          145.96,
          256.66,
          169.17,
          104.67,
          10.65,
          161.19,
          142.99,
          161.15,
          156.17,
          171.26,
          118.53,
          19.88,
          136.87,
          154.18,
          170.76,
          6.38,
          100.79,
          65.54,
          3.79,
          78.11,
          65.05,
          12.3,
          281.38,
          156.8,
          127.12,
          2.26,
          97,
          106.78,
          129.21,
          72.02,
          149.24,
          82.85,
          5.78,
          80.76,
          142.02,
          129.8,
          7.59,
          80.83,
          71.66,
          17.47,
          112.84,
          61.49,
          94.3,
          71.81,
          94.85,
          76.55,
          3.4,
          125.57,
          96.74,
          77.07,
          103.44,
          117.28,
          105.54,
          14.86,
          173.77,
          147.48,
          184.47,
          118.84,
          171.79,
          96.48,
          45.21,
          176.6,
          204.57,
          227.47,
          226.07,
          230.89,
          133.76,
          15.58,
          190.07,
          145.9,
          195.16,
          155.28,
          169.71,
          145.42,
          16.72,
          191.5,
          191.07,
          155.83,
          116.14,
          89.9,
          74.9,
          9.64,
          71.61,
          352.11,
          328.55,
          147.25,
          223.3,
          165.04,
          13.1,
          171.58,
          171.05,
          144.87,
          225.58,
          287.57,
          38.33,
          15.07,
          176.52,
          181.53,
          215.69,
          144.15,
          199.37,
          150.6,
          15.44,
          194.06,
          195.04,
          176.6,
          197.42,
          143.18,
          191.29,
          17.17,
          123.56,
          168.51,
          169.44,
          173,
          108.75,
          113.05,
          41.82,
          246.02,
          262.48,
          279.87,
          224.37,
          211.86,
          145.21,
          15.54,
          221.6,
          252.09,
          250.17,
          154.21,
          440.09,
          204.4,
          15.2,
          189.75,
          202.47,
          233.73,
          148.82,
          153.15,
          120.9,
          13.33,
          119.07,
          110.94,
          103.18,
          111.98,
          111.86,
          59.74,
          59.24,
          430.33,
          358.07,
          295.62,
          252.7,
          16.41,
          127.3,
          22.99,
          245.68,
          298.4,
          310.73,
          260.4,
          317.5,
          222.77,
          25.14,
          309.03,
          331.65,
          358.22,
          353.1,
          349.38,
          203.6,
          18.99,
          293.69,
          165.67,
          1.75,
          81.86,
          127.87,
          101.82,
          4.09,
          154.35,
          120.92
         ],
         "yaxis": "y"
        },
        {
         "hovertemplate": "Operacion=Pago a usuario<br>fecha=%{x}<br>suma_diaria=%{y}<extra></extra>",
         "legendgroup": "Pago a usuario",
         "line": {
          "color": "#FF6692",
          "dash": "solid"
         },
         "marker": {
          "symbol": "circle"
         },
         "mode": "lines",
         "name": "Pago a usuario",
         "showlegend": true,
         "type": "scattergl",
         "x": [
          "2024-01-01",
          "2024-01-02",
          "2024-01-03",
          "2024-01-04",
          "2024-01-05",
          "2024-01-06",
          "2024-01-07",
          "2024-01-08",
          "2024-01-09",
          "2024-01-10",
          "2024-01-11",
          "2024-01-12",
          "2024-01-13",
          "2024-01-14",
          "2024-01-15",
          "2024-01-16",
          "2024-01-17",
          "2024-01-18",
          "2024-01-19",
          "2024-01-20",
          "2024-01-21",
          "2024-01-22",
          "2024-01-23",
          "2024-01-24",
          "2024-01-25",
          "2024-01-26",
          "2024-01-27",
          "2024-01-28",
          "2024-01-29",
          "2024-01-30",
          "2024-01-31",
          "2024-02-01",
          "2024-02-02",
          "2024-02-03",
          "2024-02-04",
          "2024-02-05",
          "2024-02-06",
          "2024-02-07",
          "2024-02-08",
          "2024-02-09",
          "2024-02-10",
          "2024-02-11",
          "2024-02-12",
          "2024-02-13",
          "2024-02-14",
          "2024-02-15",
          "2024-02-16",
          "2024-02-17",
          "2024-02-18",
          "2024-02-19",
          "2024-02-20",
          "2024-02-21",
          "2024-02-22",
          "2024-02-23",
          "2024-02-24",
          "2024-02-25",
          "2024-02-26",
          "2024-02-27",
          "2024-02-28",
          "2024-02-29",
          "2024-03-01",
          "2024-03-02",
          "2024-03-03",
          "2024-03-04",
          "2024-03-05",
          "2024-03-06",
          "2024-03-07",
          "2024-03-08",
          "2024-03-09",
          "2024-03-10",
          "2024-03-11",
          "2024-03-12",
          "2024-03-13",
          "2024-03-14",
          "2024-03-15",
          "2024-03-16",
          "2024-03-17",
          "2024-03-18",
          "2024-03-19",
          "2024-03-20",
          "2024-03-21",
          "2024-03-22",
          "2024-03-23",
          "2024-03-24",
          "2024-03-25",
          "2024-03-26",
          "2024-03-27",
          "2024-03-28",
          "2024-03-29",
          "2024-03-30",
          "2024-03-31",
          "2024-04-01",
          "2024-04-02",
          "2024-04-03",
          "2024-04-04",
          "2024-04-05",
          "2024-04-06",
          "2024-04-07",
          "2024-04-08",
          "2024-04-09",
          "2024-04-10",
          "2024-04-11",
          "2024-04-12",
          "2024-04-13",
          "2024-04-14",
          "2024-04-15",
          "2024-04-16",
          "2024-04-17",
          "2024-04-18",
          "2024-04-19",
          "2024-04-20",
          "2024-04-21",
          "2024-04-22",
          "2024-04-23",
          "2024-04-24",
          "2024-04-25",
          "2024-04-26",
          "2024-04-27",
          "2024-04-28",
          "2024-04-29",
          "2024-04-30",
          "2024-05-01",
          "2024-05-02",
          "2024-05-03",
          "2024-05-04",
          "2024-05-05",
          "2024-05-06",
          "2024-05-07",
          "2024-05-08",
          "2024-05-09",
          "2024-05-10",
          "2024-05-11",
          "2024-05-12",
          "2024-05-13",
          "2024-05-14",
          "2024-05-15",
          "2024-05-16",
          "2024-05-17",
          "2024-05-18",
          "2024-05-19",
          "2024-05-20",
          "2024-05-21",
          "2024-05-22",
          "2024-05-23",
          "2024-05-24",
          "2024-05-25",
          "2024-05-26",
          "2024-05-27",
          "2024-05-28",
          "2024-05-29",
          "2024-05-30",
          "2024-05-31",
          "2024-06-01",
          "2024-06-02",
          "2024-06-03",
          "2024-06-04",
          "2024-06-05",
          "2024-06-06",
          "2024-06-07",
          "2024-06-08",
          "2024-06-09",
          "2024-06-10",
          "2024-06-11",
          "2024-06-12",
          "2024-06-13",
          "2024-06-14",
          "2024-06-15",
          "2024-06-16",
          "2024-06-17",
          "2024-06-18",
          "2024-06-19",
          "2024-06-20",
          "2024-06-21",
          "2024-06-22",
          "2024-06-23",
          "2024-06-24",
          "2024-06-25",
          "2024-06-26",
          "2024-06-27",
          "2024-06-28",
          "2024-06-29",
          "2024-06-30",
          "2024-07-01",
          "2024-07-02",
          "2024-07-03",
          "2024-07-04",
          "2024-07-05",
          "2024-07-06",
          "2024-07-07",
          "2024-07-08",
          "2024-07-09",
          "2024-07-10",
          "2024-07-11",
          "2024-07-12",
          "2024-07-13",
          "2024-07-14",
          "2024-07-15",
          "2024-07-16",
          "2024-07-17",
          "2024-07-18",
          "2024-07-19",
          "2024-07-20",
          "2024-07-21",
          "2024-07-22",
          "2024-07-23",
          "2024-07-24",
          "2024-07-25",
          "2024-07-26",
          "2024-07-27",
          "2024-07-28",
          "2024-07-29",
          "2024-07-30",
          "2024-07-31",
          "2024-08-01",
          "2024-08-02",
          "2024-08-03",
          "2024-08-04",
          "2024-08-05",
          "2024-08-06",
          "2024-08-07",
          "2024-08-08",
          "2024-08-09",
          "2024-08-10",
          "2024-08-11",
          "2024-08-12",
          "2024-08-13",
          "2024-08-14",
          "2024-08-15",
          "2024-08-16",
          "2024-08-17",
          "2024-08-18",
          "2024-08-19",
          "2024-08-20",
          "2024-08-21",
          "2024-08-22",
          "2024-08-23",
          "2024-08-24",
          "2024-08-25",
          "2024-08-26",
          "2024-08-27",
          "2024-08-28",
          "2024-08-29",
          "2024-08-30",
          "2024-08-31",
          "2024-09-01",
          "2024-09-02",
          "2024-09-03",
          "2024-09-04",
          "2024-09-05",
          "2024-09-06",
          "2024-09-07",
          "2024-09-08",
          "2024-09-09",
          "2024-09-10",
          "2024-09-11",
          "2024-09-12",
          "2024-09-13",
          "2024-09-14",
          "2024-09-15",
          "2024-09-16",
          "2024-09-17",
          "2024-09-18",
          "2024-09-19",
          "2024-09-20",
          "2024-09-21",
          "2024-09-22",
          "2024-09-23",
          "2024-09-24",
          "2024-09-25",
          "2024-09-26",
          "2024-09-27",
          "2024-09-28",
          "2024-09-29",
          "2024-09-30",
          "2024-10-01",
          "2024-10-02",
          "2024-10-03",
          "2024-10-04",
          "2024-10-05",
          "2024-10-06",
          "2024-10-07",
          "2024-10-08",
          "2024-10-09",
          "2024-10-10",
          "2024-10-11",
          "2024-10-12",
          "2024-10-13",
          "2024-10-14",
          "2024-10-15",
          "2024-10-16",
          "2024-10-17",
          "2024-10-18",
          "2024-10-19",
          "2024-10-20",
          "2024-10-21",
          "2024-10-22",
          "2024-10-23",
          "2024-10-24",
          "2024-10-25",
          "2024-10-26",
          "2024-10-27",
          "2024-10-28",
          "2024-10-29",
          "2024-10-30",
          "2024-10-31",
          "2024-11-01",
          "2024-11-02",
          "2024-11-03",
          "2024-11-04",
          "2024-11-05",
          "2024-11-06",
          "2024-11-07",
          "2024-11-08",
          "2024-11-09",
          "2024-11-10",
          "2024-11-11",
          "2024-11-12",
          "2024-11-13",
          "2024-11-14",
          "2024-11-15",
          "2024-11-16",
          "2024-11-17",
          "2024-11-18",
          "2024-11-19",
          "2024-11-20",
          "2024-11-21",
          "2024-11-22",
          "2024-11-23",
          "2024-11-24",
          "2024-11-25",
          "2024-11-26",
          "2024-11-27",
          "2024-11-28",
          "2024-11-29",
          "2024-11-30",
          "2024-12-01",
          "2024-12-02",
          "2024-12-03",
          "2024-12-04",
          "2024-12-05",
          "2024-12-06",
          "2024-12-07",
          "2024-12-08",
          "2024-12-09",
          "2024-12-10",
          "2024-12-11",
          "2024-12-12",
          "2024-12-13",
          "2024-12-14",
          "2024-12-15",
          "2024-12-16",
          "2024-12-17",
          "2024-12-18",
          "2024-12-19",
          "2024-12-20",
          "2024-12-21",
          "2024-12-22",
          "2024-12-23",
          "2024-12-24",
          "2024-12-25",
          "2024-12-26",
          "2024-12-27",
          "2024-12-28",
          "2024-12-29",
          "2024-12-30",
          "2024-12-31"
         ],
         "xaxis": "x",
         "y": [
          740.39,
          13489.41,
          13427.2,
          15878.2,
          18639.96,
          2879.11,
          885.12,
          14389.17,
          13825.57,
          13521.33,
          12874.76,
          16495.2,
          9089.87,
          1197.13,
          10697.16,
          10911.23,
          12915.99,
          12480.71,
          14241.79,
          8331.22,
          973.05,
          10887.47,
          10675.93,
          9884.18,
          10887.26,
          6722.13,
          5402.44,
          537.02,
          5529.49,
          4483.37,
          4846.64,
          16699.81,
          14924.7,
          10260.46,
          289.59,
          12595.89,
          10291.13,
          10088.49,
          10772.5,
          9847.2,
          9531.72,
          975.98,
          6708.71,
          8567.71,
          10470.89,
          10030.31,
          11449.71,
          8463.55,
          1041.5,
          10311.81,
          9024.74,
          9781.4,
          8846.43,
          14801.71,
          9464.65,
          1013.45,
          8436.06,
          8638.63,
          6449.82,
          6087.91,
          20074.25,
          10179.18,
          1875.44,
          10086.39,
          11665.63,
          10729.03,
          10111.9,
          11341.18,
          9822.54,
          1486.11,
          13835,
          11335.74,
          12543.33,
          15339.74,
          11861.1,
          9173.96,
          1584.94,
          13785.23,
          9666.33,
          9923.82,
          12167.71,
          14144.95,
          14976.47,
          400.85,
          10110.47,
          8327.64,
          9655.19,
          166.6,
          424.98,
          4031.36,
          225,
          2391.35,
          16684.87,
          11115.97,
          9039.74,
          9191.37,
          9134.32,
          752.59,
          12638.68,
          11602.02,
          13431.76,
          8990.15,
          13927.57,
          10723.25,
          351.97,
          10049.06,
          9793.41,
          8738.8,
          9986.31,
          12465.1,
          9256.62,
          409.72,
          10338.83,
          10454.4,
          12996.41,
          12606.51,
          8645.65,
          7801.03,
          664.44,
          7372.24,
          7549.99,
          3404.41,
          16232.01,
          18815.18,
          10793.2,
          1178.55,
          15534.73,
          15892.02,
          15116.54,
          13393.14,
          14209.68,
          12871.88,
          1041.49,
          16157.77,
          12949.19,
          12802.34,
          10897.61,
          12736.08,
          8358.89,
          819.84,
          11703.86,
          10339.3,
          6883.34,
          7275.98,
          10880.19,
          6261.61,
          377.87,
          6979.67,
          6064.12,
          6665.03,
          6168.09,
          5244,
          18915.94,
          1867.22,
          22134.28,
          15483.83,
          14750.22,
          9971.69,
          13535.79,
          8899.65,
          2061.9,
          11969.49,
          12621.85,
          14827.86,
          11361.65,
          14595.15,
          10153.01,
          673.9,
          9892.13,
          11995.41,
          12930.07,
          10930.33,
          10205.44,
          10206.52,
          668.21,
          725.72,
          4826.96,
          3138.44,
          4070.33,
          4712.19,
          5272.48,
          482.48,
          21880.19,
          16571.39,
          13708,
          13035.76,
          12686.17,
          9316.67,
          1248.09,
          10183.83,
          11026.48,
          10805.01,
          12957.28,
          13427.68,
          6861.08,
          639.54,
          12404.16,
          12269.19,
          10577.64,
          8991.2,
          11774.24,
          8494.82,
          994.7,
          8371.66,
          9820.52,
          11951.96,
          531.84,
          8425.65,
          4309.81,
          384.92,
          5525.22,
          6887.52,
          969.38,
          16422.34,
          10871.74,
          8257.55,
          387.28,
          8165.86,
          7204.25,
          9481.46,
          5628.07,
          8707.58,
          4930.67,
          305.43,
          7186.71,
          9775.54,
          8503.67,
          639.87,
          5356.69,
          5350.41,
          889.46,
          6840.44,
          4366.97,
          5285.44,
          5761.76,
          6827.18,
          5830.51,
          196.08,
          9022.76,
          5970.57,
          7923.72,
          7300.24,
          9951.45,
          7365.52,
          769.63,
          10346.27,
          10074.74,
          10247.26,
          8800.16,
          10544.42,
          7646.66,
          2202.31,
          11552.44,
          14432.99,
          14422.37,
          11881.26,
          13401.06,
          8668.11,
          962.21,
          11922.58,
          10728.81,
          13720.62,
          11151.27,
          12873.83,
          9796.35,
          746.71,
          11694.7,
          12761.98,
          13028.4,
          6919.11,
          7297.93,
          5520.03,
          1038.22,
          6004.59,
          19335.19,
          20021.29,
          12211.1,
          13188.58,
          10789.37,
          563.14,
          13492.9,
          9835.64,
          11195.93,
          14613.63,
          19218.35,
          1676.57,
          750.76,
          10023.99,
          11953.91,
          11701.5,
          9193.56,
          15091.26,
          9122.56,
          1451.4,
          13121.37,
          11293.92,
          11228.81,
          11980.66,
          9694.6,
          10413.22,
          841.53,
          8226.07,
          10546.9,
          10671.23,
          11235.37,
          3565.66,
          8742.03,
          1725.03,
          16186.14,
          17133.16,
          15570.37,
          12597.68,
          15965.07,
          9438.37,
          773.75,
          12739.23,
          15975.84,
          14767.01,
          12016.36,
          23410.12,
          10699.23,
          759.13,
          10737.95,
          12253.35,
          14929.43,
          10281.76,
          10762.39,
          6790.53,
          894.84,
          6790.72,
          7872.06,
          8265.84,
          6675.2,
          9059.49,
          4987.1,
          2976.32,
          24957.86,
          20204.41,
          18887.67,
          19545.81,
          866.2,
          10325.29,
          1209.05,
          15852.76,
          17932.2,
          20750.91,
          14105.94,
          20723.07,
          13737.84,
          1688.43,
          17473.26,
          17460.63,
          23477.2,
          21772.2,
          21811.25,
          12471.48,
          1102.41,
          17560.44,
          11994.6,
          191.47,
          5445.49,
          7715.29,
          7477.14,
          213.49,
          10756.51,
          8409.39
         ],
         "yaxis": "y"
        },
        {
         "hovertemplate": "Operacion=Recarga por tarjeta<br>fecha=%{x}<br>suma_diaria=%{y}<extra></extra>",
         "legendgroup": "Recarga por tarjeta",
         "line": {
          "color": "#B6E880",
          "dash": "solid"
         },
         "marker": {
          "symbol": "circle"
         },
         "mode": "lines",
         "name": "Recarga por tarjeta",
         "showlegend": true,
         "type": "scattergl",
         "x": [
          "2024-01-01",
          "2024-01-02",
          "2024-01-03",
          "2024-01-04",
          "2024-01-05",
          "2024-01-06",
          "2024-01-07",
          "2024-01-08",
          "2024-01-09",
          "2024-01-10",
          "2024-01-11",
          "2024-01-12",
          "2024-01-13",
          "2024-01-14",
          "2024-01-15",
          "2024-01-16",
          "2024-01-17",
          "2024-01-18",
          "2024-01-19",
          "2024-01-20",
          "2024-01-21",
          "2024-01-22",
          "2024-01-23",
          "2024-01-24",
          "2024-01-25",
          "2024-01-26",
          "2024-01-27",
          "2024-01-28",
          "2024-01-29",
          "2024-01-30",
          "2024-01-31",
          "2024-02-01",
          "2024-02-02",
          "2024-02-03",
          "2024-02-04",
          "2024-02-05",
          "2024-02-06",
          "2024-02-07",
          "2024-02-08",
          "2024-02-09",
          "2024-02-10",
          "2024-02-11",
          "2024-02-12",
          "2024-02-13",
          "2024-02-14",
          "2024-02-15",
          "2024-02-16",
          "2024-02-17",
          "2024-02-18",
          "2024-02-19",
          "2024-02-20",
          "2024-02-21",
          "2024-02-22",
          "2024-02-23",
          "2024-02-24",
          "2024-02-25",
          "2024-02-26",
          "2024-02-27",
          "2024-02-28",
          "2024-02-29",
          "2024-03-01",
          "2024-03-02",
          "2024-03-03",
          "2024-03-04",
          "2024-03-05",
          "2024-03-06",
          "2024-03-07",
          "2024-03-08",
          "2024-03-09",
          "2024-03-10",
          "2024-03-11",
          "2024-03-12",
          "2024-03-13",
          "2024-03-14",
          "2024-03-15",
          "2024-03-16",
          "2024-03-17",
          "2024-03-18",
          "2024-03-19",
          "2024-03-20",
          "2024-03-21",
          "2024-03-22",
          "2024-03-23",
          "2024-03-24",
          "2024-03-25",
          "2024-03-26",
          "2024-03-27",
          "2024-03-29",
          "2024-03-30",
          "2024-03-31",
          "2024-04-01",
          "2024-04-02",
          "2024-04-03",
          "2024-04-04",
          "2024-04-05",
          "2024-04-06",
          "2024-04-07",
          "2024-04-08",
          "2024-04-09",
          "2024-04-10",
          "2024-04-11",
          "2024-04-12",
          "2024-04-13",
          "2024-04-14",
          "2024-04-15",
          "2024-04-16",
          "2024-04-17",
          "2024-04-18",
          "2024-04-19",
          "2024-04-20",
          "2024-04-21",
          "2024-04-22",
          "2024-04-23",
          "2024-04-24",
          "2024-04-25",
          "2024-04-26",
          "2024-04-27",
          "2024-04-28",
          "2024-04-29",
          "2024-04-30",
          "2024-05-01",
          "2024-05-02",
          "2024-05-03",
          "2024-05-04",
          "2024-05-05",
          "2024-05-06",
          "2024-05-07",
          "2024-05-08",
          "2024-05-09",
          "2024-05-10",
          "2024-05-11",
          "2024-05-12",
          "2024-05-13",
          "2024-05-14",
          "2024-05-15",
          "2024-05-16",
          "2024-05-17",
          "2024-05-18",
          "2024-05-19",
          "2024-05-20",
          "2024-05-21",
          "2024-05-22",
          "2024-05-23",
          "2024-05-24",
          "2024-05-25",
          "2024-05-26",
          "2024-05-27",
          "2024-05-28",
          "2024-05-29",
          "2024-05-30",
          "2024-05-31",
          "2024-06-01",
          "2024-06-02",
          "2024-06-03",
          "2024-06-04",
          "2024-06-05",
          "2024-06-06",
          "2024-06-07",
          "2024-06-08",
          "2024-06-09",
          "2024-06-10",
          "2024-06-11",
          "2024-06-12",
          "2024-06-13",
          "2024-06-14",
          "2024-06-15",
          "2024-06-16",
          "2024-06-17",
          "2024-06-18",
          "2024-06-19",
          "2024-06-20",
          "2024-06-21",
          "2024-06-22",
          "2024-06-23",
          "2024-06-24",
          "2024-06-25",
          "2024-06-26",
          "2024-06-27",
          "2024-06-28",
          "2024-06-29",
          "2024-06-30",
          "2024-07-01",
          "2024-07-02",
          "2024-07-03",
          "2024-07-04",
          "2024-07-05",
          "2024-07-06",
          "2024-07-07",
          "2024-07-08",
          "2024-07-09",
          "2024-07-10",
          "2024-07-11",
          "2024-07-12",
          "2024-07-13",
          "2024-07-14",
          "2024-07-15",
          "2024-07-16",
          "2024-07-17",
          "2024-07-18",
          "2024-07-19",
          "2024-07-20",
          "2024-07-21",
          "2024-07-22",
          "2024-07-23",
          "2024-07-24",
          "2024-07-25",
          "2024-07-26",
          "2024-07-27",
          "2024-07-28",
          "2024-07-29",
          "2024-07-30",
          "2024-07-31",
          "2024-08-01",
          "2024-08-02",
          "2024-08-04",
          "2024-08-05",
          "2024-08-06",
          "2024-08-07",
          "2024-08-08",
          "2024-08-09",
          "2024-08-10",
          "2024-08-11",
          "2024-08-12",
          "2024-08-13",
          "2024-08-14",
          "2024-08-15",
          "2024-08-16",
          "2024-08-17",
          "2024-08-18",
          "2024-08-19",
          "2024-08-20",
          "2024-08-21",
          "2024-08-22",
          "2024-08-23",
          "2024-08-24",
          "2024-08-25",
          "2024-08-26",
          "2024-08-27",
          "2024-08-28",
          "2024-08-29",
          "2024-08-30",
          "2024-08-31",
          "2024-09-01",
          "2024-09-02",
          "2024-09-03",
          "2024-09-04",
          "2024-09-05",
          "2024-09-06",
          "2024-09-07",
          "2024-09-08",
          "2024-09-09",
          "2024-09-10",
          "2024-09-11",
          "2024-09-12",
          "2024-09-13",
          "2024-09-14",
          "2024-09-15",
          "2024-09-16",
          "2024-09-17",
          "2024-09-18",
          "2024-09-19",
          "2024-09-20",
          "2024-09-21",
          "2024-09-22",
          "2024-09-23",
          "2024-09-24",
          "2024-09-25",
          "2024-09-26",
          "2024-09-27",
          "2024-09-28",
          "2024-09-29",
          "2024-09-30",
          "2024-10-01",
          "2024-10-02",
          "2024-10-03",
          "2024-10-04",
          "2024-10-05",
          "2024-10-06",
          "2024-10-07",
          "2024-10-08",
          "2024-10-09",
          "2024-10-10",
          "2024-10-11",
          "2024-10-12",
          "2024-10-13",
          "2024-10-14",
          "2024-10-15",
          "2024-10-16",
          "2024-10-17",
          "2024-10-18",
          "2024-10-19",
          "2024-10-20",
          "2024-10-21",
          "2024-10-22",
          "2024-10-23",
          "2024-10-24",
          "2024-10-25",
          "2024-10-26",
          "2024-10-27",
          "2024-10-28",
          "2024-10-29",
          "2024-10-30",
          "2024-10-31",
          "2024-11-01",
          "2024-11-02",
          "2024-11-03",
          "2024-11-04",
          "2024-11-05",
          "2024-11-06",
          "2024-11-07",
          "2024-11-08",
          "2024-11-09",
          "2024-11-10",
          "2024-11-11",
          "2024-11-12",
          "2024-11-13",
          "2024-11-14",
          "2024-11-15",
          "2024-11-16",
          "2024-11-17",
          "2024-11-18",
          "2024-11-19",
          "2024-11-20",
          "2024-11-21",
          "2024-11-22",
          "2024-11-23",
          "2024-11-24",
          "2024-11-25",
          "2024-11-26",
          "2024-11-27",
          "2024-11-28",
          "2024-11-29",
          "2024-11-30",
          "2024-12-01",
          "2024-12-02",
          "2024-12-03",
          "2024-12-04",
          "2024-12-05",
          "2024-12-06",
          "2024-12-07",
          "2024-12-08",
          "2024-12-09",
          "2024-12-10",
          "2024-12-11",
          "2024-12-12",
          "2024-12-13",
          "2024-12-14",
          "2024-12-15",
          "2024-12-16",
          "2024-12-17",
          "2024-12-18",
          "2024-12-19",
          "2024-12-20",
          "2024-12-21",
          "2024-12-22",
          "2024-12-23",
          "2024-12-24",
          "2024-12-25",
          "2024-12-26",
          "2024-12-27",
          "2024-12-28",
          "2024-12-29",
          "2024-12-30",
          "2024-12-31"
         ],
         "xaxis": "x",
         "y": [
          330,
          5370,
          5550,
          6673,
          8289,
          1100,
          1330,
          5230,
          4805,
          5440,
          3450,
          5645,
          3530,
          990,
          4705,
          2800,
          4060,
          4370,
          3730,
          3465,
          600,
          3455,
          3160,
          4435,
          2955,
          2535,
          1370,
          960,
          2050,
          2800,
          1930,
          7219,
          4810,
          4170,
          250,
          5250,
          2460,
          4622,
          1980,
          4300,
          2380,
          500,
          3050,
          250,
          7295,
          4245,
          4300,
          3810,
          700,
          3588,
          3070,
          3290,
          4845,
          3035,
          2230,
          1690,
          5510,
          5515,
          2900,
          3110,
          5530,
          5744,
          1250,
          5205,
          3415,
          3950,
          2730,
          3780,
          3190,
          1200,
          4975,
          3890,
          2903,
          5700,
          3585,
          3050,
          1020,
          3405,
          4280,
          3250,
          2475,
          3580,
          3545,
          200,
          4357,
          3557,
          2152,
          500,
          1730,
          450,
          1895,
          7600,
          3760,
          3650,
          4459,
          3540,
          850,
          4105,
          3830,
          4130,
          3810,
          3855,
          6065,
          700,
          2410,
          4475,
          3390,
          4290,
          3620,
          3450,
          1530,
          3270,
          3720,
          4190,
          4120,
          2790,
          2410,
          1000,
          2560,
          2910,
          1940,
          6070,
          7490,
          6160,
          1600,
          6779,
          6930,
          3545,
          5555,
          3375,
          3790,
          995,
          3950,
          3448,
          6718,
          3295,
          2890,
          3011,
          1240,
          4415,
          3490,
          2670,
          1650,
          3641,
          1830,
          1186,
          2040,
          2760,
          2180,
          2740,
          3230,
          9425,
          2050,
          9080,
          6508,
          5007,
          5935,
          4700,
          4150,
          750,
          4226,
          3100,
          3310,
          2650,
          4115,
          3065,
          1000,
          5040,
          5020,
          3625,
          4800,
          2110,
          3040,
          450,
          850,
          1200,
          1830,
          1390,
          1700,
          2760,
          1566,
          7143,
          6815,
          4460,
          5700,
          2867,
          4610,
          700,
          3700,
          5045,
          4050,
          3840,
          4325,
          1920,
          525,
          3903,
          2810,
          4974,
          4160,
          4440,
          1800,
          500,
          3835,
          3286,
          3057,
          320,
          2989,
          1165,
          50,
          2043,
          1030,
          625,
          6936,
          1920,
          700,
          2850,
          2940,
          3870,
          2110,
          3090,
          1635,
          800,
          3057,
          2160,
          1680,
          400,
          2020,
          458,
          1000,
          3480,
          2230,
          1850,
          2160,
          2705,
          1852,
          1080,
          3510,
          3375,
          1935,
          2340,
          3755,
          2690,
          600,
          3750,
          5125,
          3997,
          3970,
          4380,
          2910,
          1679,
          5016,
          5068,
          4063,
          3460,
          4355,
          3725,
          880,
          5420,
          3160,
          5969,
          3570,
          3350,
          2264,
          550,
          3110,
          3170,
          2975,
          3600,
          3115,
          1270,
          1005,
          4510,
          8030,
          4365,
          4060,
          5860,
          3960,
          470,
          4735,
          4400,
          3865,
          5030,
          4360,
          1450,
          600,
          3245,
          5030,
          4000,
          3352,
          2850,
          5060,
          1950,
          6050,
          4135,
          2600,
          3845,
          3480,
          3612,
          550,
          3409,
          3310,
          6100,
          2745,
          3170,
          3235,
          1810,
          6330,
          6153,
          5160,
          3915,
          3930,
          4530,
          530,
          4670,
          3805,
          5580,
          6050,
          7505,
          3090,
          730,
          4732,
          4705,
          4205,
          3528,
          2010,
          3185,
          200,
          3000,
          2573,
          2110,
          2925,
          1540,
          4610,
          3550,
          11985,
          6465,
          9395,
          6715,
          850,
          3320,
          1115,
          5960,
          5995,
          6650,
          5365,
          6223,
          3575,
          3035,
          5765,
          9004,
          7380,
          6270,
          5600,
          4373,
          1312,
          5875,
          4235,
          502,
          2350,
          2420,
          1765,
          500,
          3760,
          1680
         ],
         "yaxis": "y"
        },
        {
         "hovertemplate": "Operacion=Cobro desde QR<br>fecha=%{x}<br>suma_diaria=%{y}<extra></extra>",
         "legendgroup": "Cobro desde QR",
         "line": {
          "color": "#FF97FF",
          "dash": "solid"
         },
         "marker": {
          "symbol": "circle"
         },
         "mode": "lines",
         "name": "Cobro desde QR",
         "showlegend": true,
         "type": "scattergl",
         "x": [
          "2024-01-02",
          "2024-01-03",
          "2024-01-04",
          "2024-01-05",
          "2024-01-06",
          "2024-01-07",
          "2024-01-08",
          "2024-01-09",
          "2024-01-10",
          "2024-01-11",
          "2024-01-12",
          "2024-01-13",
          "2024-01-14",
          "2024-01-15",
          "2024-01-16",
          "2024-01-17",
          "2024-01-18",
          "2024-01-19",
          "2024-01-20",
          "2024-01-21",
          "2024-01-22",
          "2024-01-23",
          "2024-01-24",
          "2024-01-25",
          "2024-01-26",
          "2024-01-27",
          "2024-01-28",
          "2024-01-29",
          "2024-01-30",
          "2024-01-31",
          "2024-02-01",
          "2024-02-02",
          "2024-02-03",
          "2024-02-04",
          "2024-02-05",
          "2024-02-06",
          "2024-02-07",
          "2024-02-08",
          "2024-02-09",
          "2024-02-10",
          "2024-02-11",
          "2024-02-12",
          "2024-02-13",
          "2024-02-14",
          "2024-02-15",
          "2024-02-16",
          "2024-02-17",
          "2024-02-18",
          "2024-02-19",
          "2024-02-20",
          "2024-02-21",
          "2024-02-22",
          "2024-02-23",
          "2024-02-24",
          "2024-02-25",
          "2024-02-26",
          "2024-02-27",
          "2024-02-28",
          "2024-02-29",
          "2024-03-01",
          "2024-03-02",
          "2024-03-03",
          "2024-03-04",
          "2024-03-05",
          "2024-03-06",
          "2024-03-07",
          "2024-03-08",
          "2024-03-09",
          "2024-03-10",
          "2024-03-11",
          "2024-03-12",
          "2024-03-13",
          "2024-03-14",
          "2024-03-15",
          "2024-03-16",
          "2024-03-17",
          "2024-03-18",
          "2024-03-19",
          "2024-03-20",
          "2024-03-21",
          "2024-03-22",
          "2024-03-23",
          "2024-03-24",
          "2024-03-25",
          "2024-03-26",
          "2024-03-27",
          "2024-03-28",
          "2024-03-29",
          "2024-03-30",
          "2024-03-31",
          "2024-04-01",
          "2024-04-02",
          "2024-04-03",
          "2024-04-04",
          "2024-04-05",
          "2024-04-06",
          "2024-04-07",
          "2024-04-08",
          "2024-04-09",
          "2024-04-10",
          "2024-04-11",
          "2024-04-12",
          "2024-04-13",
          "2024-04-14",
          "2024-04-15",
          "2024-04-16",
          "2024-04-17",
          "2024-04-18",
          "2024-04-19",
          "2024-04-20",
          "2024-04-21",
          "2024-04-22",
          "2024-04-23",
          "2024-04-24",
          "2024-04-25",
          "2024-04-26",
          "2024-04-27",
          "2024-04-28",
          "2024-04-29",
          "2024-04-30",
          "2024-05-01",
          "2024-05-02",
          "2024-05-03",
          "2024-05-04",
          "2024-05-05",
          "2024-05-06",
          "2024-05-07",
          "2024-05-08",
          "2024-05-09",
          "2024-05-10",
          "2024-05-11",
          "2024-05-12",
          "2024-05-13",
          "2024-05-14",
          "2024-05-15",
          "2024-05-16",
          "2024-05-17",
          "2024-05-18",
          "2024-05-19",
          "2024-05-20",
          "2024-05-21",
          "2024-05-22",
          "2024-05-23",
          "2024-05-24",
          "2024-05-25",
          "2024-05-26",
          "2024-05-27",
          "2024-05-28",
          "2024-05-29",
          "2024-05-30",
          "2024-05-31",
          "2024-06-01",
          "2024-06-02",
          "2024-06-03",
          "2024-06-04",
          "2024-06-05",
          "2024-06-06",
          "2024-06-07",
          "2024-06-08",
          "2024-06-09",
          "2024-06-10",
          "2024-06-11",
          "2024-06-12",
          "2024-06-13",
          "2024-06-14",
          "2024-06-15",
          "2024-06-16",
          "2024-06-17",
          "2024-06-18",
          "2024-06-19",
          "2024-06-20",
          "2024-06-21",
          "2024-06-22",
          "2024-06-23",
          "2024-06-24",
          "2024-06-25",
          "2024-06-26",
          "2024-06-27",
          "2024-06-28",
          "2024-06-29",
          "2024-06-30",
          "2024-07-01",
          "2024-07-02",
          "2024-07-03",
          "2024-07-04",
          "2024-07-05",
          "2024-07-06",
          "2024-07-07",
          "2024-07-08",
          "2024-07-09",
          "2024-07-10",
          "2024-07-11",
          "2024-07-12",
          "2024-07-13",
          "2024-07-14",
          "2024-07-15",
          "2024-07-16",
          "2024-07-17",
          "2024-07-18",
          "2024-07-19",
          "2024-07-20",
          "2024-07-21",
          "2024-07-22",
          "2024-07-23",
          "2024-07-24",
          "2024-07-25",
          "2024-07-26",
          "2024-07-27",
          "2024-07-28",
          "2024-07-29",
          "2024-07-30",
          "2024-07-31",
          "2024-08-01",
          "2024-08-02",
          "2024-08-03",
          "2024-08-04",
          "2024-08-05",
          "2024-08-06",
          "2024-08-07",
          "2024-08-08",
          "2024-08-09",
          "2024-08-10",
          "2024-08-11",
          "2024-08-12",
          "2024-08-13",
          "2024-08-14",
          "2024-08-15",
          "2024-08-16",
          "2024-08-17",
          "2024-08-18",
          "2024-08-19",
          "2024-08-20",
          "2024-08-21",
          "2024-08-22",
          "2024-08-23",
          "2024-08-24",
          "2024-08-25",
          "2024-08-26",
          "2024-08-27",
          "2024-08-28",
          "2024-08-29",
          "2024-08-30",
          "2024-08-31",
          "2024-09-01",
          "2024-09-02",
          "2024-09-03",
          "2024-09-04",
          "2024-09-05",
          "2024-09-06",
          "2024-09-07",
          "2024-09-08",
          "2024-09-09",
          "2024-09-10",
          "2024-09-11",
          "2024-09-12",
          "2024-09-13",
          "2024-09-14",
          "2024-09-15",
          "2024-09-16",
          "2024-09-17",
          "2024-09-18",
          "2024-09-19",
          "2024-09-20",
          "2024-09-21",
          "2024-09-22",
          "2024-09-23",
          "2024-09-24",
          "2024-09-25",
          "2024-09-26",
          "2024-09-27",
          "2024-09-28",
          "2024-09-29",
          "2024-09-30",
          "2024-10-01",
          "2024-10-02",
          "2024-10-03",
          "2024-10-04",
          "2024-10-05",
          "2024-10-06",
          "2024-10-07",
          "2024-10-08",
          "2024-10-09",
          "2024-10-10",
          "2024-10-11",
          "2024-10-12",
          "2024-10-13",
          "2024-10-14",
          "2024-10-15",
          "2024-10-16",
          "2024-10-17",
          "2024-10-18",
          "2024-10-19",
          "2024-10-20",
          "2024-10-21",
          "2024-10-22",
          "2024-10-23",
          "2024-10-24",
          "2024-10-25",
          "2024-10-26",
          "2024-10-27",
          "2024-10-28",
          "2024-10-29",
          "2024-10-30",
          "2024-10-31",
          "2024-11-01",
          "2024-11-02",
          "2024-11-03",
          "2024-11-04",
          "2024-11-05",
          "2024-11-06",
          "2024-11-07",
          "2024-11-08",
          "2024-11-09",
          "2024-11-10",
          "2024-11-11",
          "2024-11-12",
          "2024-11-13",
          "2024-11-14",
          "2024-11-15",
          "2024-11-16",
          "2024-11-17",
          "2024-11-18",
          "2024-11-19",
          "2024-11-20",
          "2024-11-21",
          "2024-11-22",
          "2024-11-23",
          "2024-11-24",
          "2024-11-25",
          "2024-11-26",
          "2024-11-27",
          "2024-11-28",
          "2024-11-29",
          "2024-11-30",
          "2024-12-01",
          "2024-12-02",
          "2024-12-03",
          "2024-12-04",
          "2024-12-05",
          "2024-12-06",
          "2024-12-07",
          "2024-12-08",
          "2024-12-09",
          "2024-12-10",
          "2024-12-11",
          "2024-12-12",
          "2024-12-13",
          "2024-12-14",
          "2024-12-15",
          "2024-12-16",
          "2024-12-17",
          "2024-12-18",
          "2024-12-19",
          "2024-12-20",
          "2024-12-21",
          "2024-12-22",
          "2024-12-23",
          "2024-12-24",
          "2024-12-25",
          "2024-12-26",
          "2024-12-27",
          "2024-12-28",
          "2024-12-29",
          "2024-12-30",
          "2024-12-31"
         ],
         "xaxis": "x",
         "y": [
          666.54,
          567.71,
          2157.44,
          2329.38,
          90.8,
          39.69,
          911.33,
          1175.6,
          1474.46,
          1275.06,
          1106.02,
          897.28,
          49.6,
          730.43,
          1482.89,
          1179.8,
          713.15,
          1228.24,
          729.75,
          41.13,
          701.82,
          721.71,
          795.32,
          783.22,
          646.42,
          583.9,
          50.26,
          685.63,
          631.95,
          445.8,
          1169.14,
          1409.98,
          797.34,
          16.5,
          1116.84,
          628.96,
          1527.3,
          1139.27,
          1656.59,
          826.47,
          119.72,
          861.3,
          745.95,
          785.83,
          655.51,
          1121.57,
          875.8,
          62.39,
          827.5,
          1039.17,
          1442.51,
          580.21,
          997.14,
          672.48,
          56.35,
          814.03,
          990.63,
          778.71,
          793.58,
          1755.46,
          860.4,
          24.04,
          997.46,
          1005.66,
          787.49,
          1008.6,
          1388.23,
          993.68,
          34.27,
          840.27,
          730.39,
          1078.13,
          1320.62,
          1087.24,
          1134.84,
          157.66,
          755.73,
          711.82,
          793.81,
          1711.83,
          1362.93,
          1002.05,
          49.47,
          797.81,
          876.7,
          1836.15,
          128.01,
          85.17,
          417.37,
          4.08,
          48.75,
          958.79,
          800.22,
          1137.47,
          1021.83,
          765.8,
          10.15,
          949.09,
          986.91,
          1170.3,
          781.73,
          1154.69,
          737.99,
          141.01,
          1334.19,
          1699.45,
          1076.09,
          876.5,
          1250.03,
          674.95,
          39.69,
          624.41,
          1469.42,
          1514.3,
          1173.1,
          781.48,
          585.89,
          47.01,
          801.23,
          640.44,
          142.33,
          1464.76,
          2117.95,
          989.38,
          418.1,
          1114.83,
          869.27,
          1083.62,
          1619.6,
          1010.64,
          643.89,
          19.91,
          725.29,
          817.47,
          900.88,
          1123.3,
          1636.65,
          969.82,
          23.64,
          1200.12,
          1234.36,
          1178.94,
          484.7,
          503.56,
          477.7,
          19.97,
          502.55,
          437.88,
          532.03,
          489.29,
          594.25,
          1072.04,
          18.22,
          1385.86,
          1024.31,
          1209.09,
          1210.77,
          1341.44,
          1088.22,
          38.4,
          544.09,
          867.88,
          1013.72,
          1103.37,
          926.26,
          959.96,
          19.35,
          1084.73,
          869.7,
          1588.27,
          656.34,
          1221.51,
          1473.06,
          138.75,
          132.69,
          419.41,
          673.53,
          541.91,
          927.35,
          379.2,
          59.57,
          1913.4,
          911.35,
          1362.99,
          1052.02,
          1042.36,
          935.92,
          8.6,
          568.93,
          975.88,
          1303.11,
          894.43,
          1096.87,
          1197.81,
          22.05,
          520.9,
          1590.19,
          944.85,
          796.24,
          1160.07,
          740.7,
          24.72,
          770.59,
          1169.77,
          1024.5,
          56.4,
          987.92,
          900.26,
          39.67,
          407.9,
          482.3,
          16.6,
          1145.98,
          733.35,
          846.97,
          20.15,
          469.31,
          592.88,
          875.45,
          467.67,
          1144.22,
          781.09,
          7.8,
          261.55,
          1026.85,
          1273.48,
          12.4,
          557.91,
          810.16,
          6.05,
          430.26,
          436.19,
          714.66,
          400.64,
          799.08,
          848.42,
          14.95,
          390.77,
          523.51,
          507.21,
          382.97,
          1563.99,
          632.42,
          25.05,
          536.38,
          780.92,
          1025.18,
          709.6,
          1709.29,
          813.42,
          164.75,
          835.25,
          951.32,
          1183.94,
          1027.46,
          994.8,
          688.86,
          54.35,
          779.5,
          851.99,
          1163.33,
          926.15,
          1197.11,
          797.97,
          111.63,
          570.47,
          1013.13,
          746.76,
          1015.68,
          611.41,
          572.25,
          27.3,
          612.63,
          774.16,
          1123.35,
          558.81,
          1251.35,
          1049.35,
          7.15,
          797.75,
          490.66,
          882.12,
          999.15,
          1986.89,
          42.75,
          68.1,
          1043.52,
          1280.85,
          885.4,
          848.81,
          1938.84,
          962.44,
          47.8,
          1432.24,
          1266.37,
          1151.85,
          888.99,
          1108.76,
          942.86,
          223.91,
          733.02,
          779.34,
          1151.26,
          1413.49,
          69.27,
          638.85,
          85.89,
          1589.84,
          1442.08,
          1726.4,
          1244.78,
          1036.64,
          888.28,
          18.75,
          829.6,
          903.92,
          985.46,
          564.52,
          1856.58,
          1029.85,
          36.45,
          687.67,
          1110.04,
          765.1,
          625.58,
          1126.74,
          534.83,
          45.15,
          792.48,
          860.99,
          1034.9,
          435.73,
          1098.15,
          806.58,
          60.05,
          1240.87,
          1723.41,
          1225.22,
          1983.94,
          119.09,
          654.05,
          103.33,
          648.05,
          1572,
          2180.94,
          1551.68,
          1342.67,
          949.38,
          44.48,
          918.32,
          1180.74,
          1434,
          1475.35,
          1339.72,
          887.4,
          14.95,
          1485.37,
          1325.5,
          8.5,
          466.59,
          855.61,
          1133.08,
          38.6,
          883.22,
          1975.56
         ],
         "yaxis": "y"
        },
        {
         "hovertemplate": "Operacion=Transferencia interna<br>fecha=%{x}<br>suma_diaria=%{y}<extra></extra>",
         "legendgroup": "Transferencia interna",
         "line": {
          "color": "#FECB52",
          "dash": "solid"
         },
         "marker": {
          "symbol": "circle"
         },
         "mode": "lines",
         "name": "Transferencia interna",
         "showlegend": true,
         "type": "scattergl",
         "x": [
          "2024-01-04",
          "2024-01-28",
          "2024-01-30",
          "2024-02-01",
          "2024-02-05"
         ],
         "xaxis": "x",
         "y": [
          45,
          147.76,
          8.48,
          105.01,
          3.62
         ],
         "yaxis": "y"
        },
        {
         "hovertemplate": "Operacion=Cuota variable<br>fecha=%{x}<br>suma_diaria=%{y}<extra></extra>",
         "legendgroup": "Cuota variable",
         "line": {
          "color": "#636efa",
          "dash": "solid"
         },
         "marker": {
          "symbol": "circle"
         },
         "mode": "lines",
         "name": "Cuota variable",
         "showlegend": true,
         "type": "scattergl",
         "x": [
          "2024-01-16",
          "2024-02-13",
          "2024-03-18",
          "2024-04-24",
          "2024-05-10",
          "2024-06-10",
          "2024-07-10",
          "2024-08-13",
          "2024-09-04",
          "2024-10-23",
          "2024-11-08",
          "2024-12-03"
         ],
         "xaxis": "x",
         "y": [
          511.51,
          541.37,
          531.02,
          526.08,
          545.75,
          536.23,
          529.51,
          476.9,
          470.04,
          509.39,
          466.61,
          484.75
         ],
         "yaxis": "y"
        },
        {
         "hovertemplate": "Operacion=Donación<br>fecha=%{x}<br>suma_diaria=%{y}<extra></extra>",
         "legendgroup": "Donación",
         "line": {
          "color": "#EF553B",
          "dash": "solid"
         },
         "marker": {
          "symbol": "circle"
         },
         "mode": "lines",
         "name": "Donación",
         "showlegend": true,
         "type": "scattergl",
         "x": [
          "2024-01-16",
          "2024-01-27",
          "2024-02-05",
          "2024-02-12",
          "2024-03-11",
          "2024-03-13",
          "2024-03-15",
          "2024-03-19",
          "2024-03-24",
          "2024-04-11",
          "2024-05-10",
          "2024-06-07",
          "2024-07-10",
          "2024-08-13",
          "2024-09-04",
          "2024-10-18",
          "2024-10-21",
          "2024-10-23",
          "2024-11-08",
          "2024-12-03"
         ],
         "xaxis": "x",
         "y": [
          276.13,
          0.58,
          0.38,
          263.49,
          293.06,
          2.99,
          5.46,
          0.15,
          8.15,
          291.6,
          297.84,
          292.52,
          292.98,
          285.73,
          277.72,
          0.27,
          0.09,
          275.31,
          286.58,
          301.19
         ],
         "yaxis": "y"
        }
       ],
       "layout": {
        "legend": {
         "title": {
          "text": "Operacion"
         },
         "tracegroupgap": 0
        },
        "template": {
         "data": {
          "bar": [
           {
            "error_x": {
             "color": "#2a3f5f"
            },
            "error_y": {
             "color": "#2a3f5f"
            },
            "marker": {
             "line": {
              "color": "white",
              "width": 0.5
             },
             "pattern": {
              "fillmode": "overlay",
              "size": 10,
              "solidity": 0.2
             }
            },
            "type": "bar"
           }
          ],
          "barpolar": [
           {
            "marker": {
             "line": {
              "color": "white",
              "width": 0.5
             },
             "pattern": {
              "fillmode": "overlay",
              "size": 10,
              "solidity": 0.2
             }
            },
            "type": "barpolar"
           }
          ],
          "carpet": [
           {
            "aaxis": {
             "endlinecolor": "#2a3f5f",
             "gridcolor": "#C8D4E3",
             "linecolor": "#C8D4E3",
             "minorgridcolor": "#C8D4E3",
             "startlinecolor": "#2a3f5f"
            },
            "baxis": {
             "endlinecolor": "#2a3f5f",
             "gridcolor": "#C8D4E3",
             "linecolor": "#C8D4E3",
             "minorgridcolor": "#C8D4E3",
             "startlinecolor": "#2a3f5f"
            },
            "type": "carpet"
           }
          ],
          "choropleth": [
           {
            "colorbar": {
             "outlinewidth": 0,
             "ticks": ""
            },
            "type": "choropleth"
           }
          ],
          "contour": [
           {
            "colorbar": {
             "outlinewidth": 0,
             "ticks": ""
            },
            "colorscale": [
             [
              0,
              "#0d0887"
             ],
             [
              0.1111111111111111,
              "#46039f"
             ],
             [
              0.2222222222222222,
              "#7201a8"
             ],
             [
              0.3333333333333333,
              "#9c179e"
             ],
             [
              0.4444444444444444,
              "#bd3786"
             ],
             [
              0.5555555555555556,
              "#d8576b"
             ],
             [
              0.6666666666666666,
              "#ed7953"
             ],
             [
              0.7777777777777778,
              "#fb9f3a"
             ],
             [
              0.8888888888888888,
              "#fdca26"
             ],
             [
              1,
              "#f0f921"
             ]
            ],
            "type": "contour"
           }
          ],
          "contourcarpet": [
           {
            "colorbar": {
             "outlinewidth": 0,
             "ticks": ""
            },
            "type": "contourcarpet"
           }
          ],
          "heatmap": [
           {
            "colorbar": {
             "outlinewidth": 0,
             "ticks": ""
            },
            "colorscale": [
             [
              0,
              "#0d0887"
             ],
             [
              0.1111111111111111,
              "#46039f"
             ],
             [
              0.2222222222222222,
              "#7201a8"
             ],
             [
              0.3333333333333333,
              "#9c179e"
             ],
             [
              0.4444444444444444,
              "#bd3786"
             ],
             [
              0.5555555555555556,
              "#d8576b"
             ],
             [
              0.6666666666666666,
              "#ed7953"
             ],
             [
              0.7777777777777778,
              "#fb9f3a"
             ],
             [
              0.8888888888888888,
              "#fdca26"
             ],
             [
              1,
              "#f0f921"
             ]
            ],
            "type": "heatmap"
           }
          ],
          "heatmapgl": [
           {
            "colorbar": {
             "outlinewidth": 0,
             "ticks": ""
            },
            "colorscale": [
             [
              0,
              "#0d0887"
             ],
             [
              0.1111111111111111,
              "#46039f"
             ],
             [
              0.2222222222222222,
              "#7201a8"
             ],
             [
              0.3333333333333333,
              "#9c179e"
             ],
             [
              0.4444444444444444,
              "#bd3786"
             ],
             [
              0.5555555555555556,
              "#d8576b"
             ],
             [
              0.6666666666666666,
              "#ed7953"
             ],
             [
              0.7777777777777778,
              "#fb9f3a"
             ],
             [
              0.8888888888888888,
              "#fdca26"
             ],
             [
              1,
              "#f0f921"
             ]
            ],
            "type": "heatmapgl"
           }
          ],
          "histogram": [
           {
            "marker": {
             "pattern": {
              "fillmode": "overlay",
              "size": 10,
              "solidity": 0.2
             }
            },
            "type": "histogram"
           }
          ],
          "histogram2d": [
           {
            "colorbar": {
             "outlinewidth": 0,
             "ticks": ""
            },
            "colorscale": [
             [
              0,
              "#0d0887"
             ],
             [
              0.1111111111111111,
              "#46039f"
             ],
             [
              0.2222222222222222,
              "#7201a8"
             ],
             [
              0.3333333333333333,
              "#9c179e"
             ],
             [
              0.4444444444444444,
              "#bd3786"
             ],
             [
              0.5555555555555556,
              "#d8576b"
             ],
             [
              0.6666666666666666,
              "#ed7953"
             ],
             [
              0.7777777777777778,
              "#fb9f3a"
             ],
             [
              0.8888888888888888,
              "#fdca26"
             ],
             [
              1,
              "#f0f921"
             ]
            ],
            "type": "histogram2d"
           }
          ],
          "histogram2dcontour": [
           {
            "colorbar": {
             "outlinewidth": 0,
             "ticks": ""
            },
            "colorscale": [
             [
              0,
              "#0d0887"
             ],
             [
              0.1111111111111111,
              "#46039f"
             ],
             [
              0.2222222222222222,
              "#7201a8"
             ],
             [
              0.3333333333333333,
              "#9c179e"
             ],
             [
              0.4444444444444444,
              "#bd3786"
             ],
             [
              0.5555555555555556,
              "#d8576b"
             ],
             [
              0.6666666666666666,
              "#ed7953"
             ],
             [
              0.7777777777777778,
              "#fb9f3a"
             ],
             [
              0.8888888888888888,
              "#fdca26"
             ],
             [
              1,
              "#f0f921"
             ]
            ],
            "type": "histogram2dcontour"
           }
          ],
          "mesh3d": [
           {
            "colorbar": {
             "outlinewidth": 0,
             "ticks": ""
            },
            "type": "mesh3d"
           }
          ],
          "parcoords": [
           {
            "line": {
             "colorbar": {
              "outlinewidth": 0,
              "ticks": ""
             }
            },
            "type": "parcoords"
           }
          ],
          "pie": [
           {
            "automargin": true,
            "type": "pie"
           }
          ],
          "scatter": [
           {
            "fillpattern": {
             "fillmode": "overlay",
             "size": 10,
             "solidity": 0.2
            },
            "type": "scatter"
           }
          ],
          "scatter3d": [
           {
            "line": {
             "colorbar": {
              "outlinewidth": 0,
              "ticks": ""
             }
            },
            "marker": {
             "colorbar": {
              "outlinewidth": 0,
              "ticks": ""
             }
            },
            "type": "scatter3d"
           }
          ],
          "scattercarpet": [
           {
            "marker": {
             "colorbar": {
              "outlinewidth": 0,
              "ticks": ""
             }
            },
            "type": "scattercarpet"
           }
          ],
          "scattergeo": [
           {
            "marker": {
             "colorbar": {
              "outlinewidth": 0,
              "ticks": ""
             }
            },
            "type": "scattergeo"
           }
          ],
          "scattergl": [
           {
            "marker": {
             "colorbar": {
              "outlinewidth": 0,
              "ticks": ""
             }
            },
            "type": "scattergl"
           }
          ],
          "scattermapbox": [
           {
            "marker": {
             "colorbar": {
              "outlinewidth": 0,
              "ticks": ""
             }
            },
            "type": "scattermapbox"
           }
          ],
          "scatterpolar": [
           {
            "marker": {
             "colorbar": {
              "outlinewidth": 0,
              "ticks": ""
             }
            },
            "type": "scatterpolar"
           }
          ],
          "scatterpolargl": [
           {
            "marker": {
             "colorbar": {
              "outlinewidth": 0,
              "ticks": ""
             }
            },
            "type": "scatterpolargl"
           }
          ],
          "scatterternary": [
           {
            "marker": {
             "colorbar": {
              "outlinewidth": 0,
              "ticks": ""
             }
            },
            "type": "scatterternary"
           }
          ],
          "surface": [
           {
            "colorbar": {
             "outlinewidth": 0,
             "ticks": ""
            },
            "colorscale": [
             [
              0,
              "#0d0887"
             ],
             [
              0.1111111111111111,
              "#46039f"
             ],
             [
              0.2222222222222222,
              "#7201a8"
             ],
             [
              0.3333333333333333,
              "#9c179e"
             ],
             [
              0.4444444444444444,
              "#bd3786"
             ],
             [
              0.5555555555555556,
              "#d8576b"
             ],
             [
              0.6666666666666666,
              "#ed7953"
             ],
             [
              0.7777777777777778,
              "#fb9f3a"
             ],
             [
              0.8888888888888888,
              "#fdca26"
             ],
             [
              1,
              "#f0f921"
             ]
            ],
            "type": "surface"
           }
          ],
          "table": [
           {
            "cells": {
             "fill": {
              "color": "#EBF0F8"
             },
             "line": {
              "color": "white"
             }
            },
            "header": {
             "fill": {
              "color": "#C8D4E3"
             },
             "line": {
              "color": "white"
             }
            },
            "type": "table"
           }
          ]
         },
         "layout": {
          "annotationdefaults": {
           "arrowcolor": "#2a3f5f",
           "arrowhead": 0,
           "arrowwidth": 1
          },
          "autotypenumbers": "strict",
          "coloraxis": {
           "colorbar": {
            "outlinewidth": 0,
            "ticks": ""
           }
          },
          "colorscale": {
           "diverging": [
            [
             0,
             "#8e0152"
            ],
            [
             0.1,
             "#c51b7d"
            ],
            [
             0.2,
             "#de77ae"
            ],
            [
             0.3,
             "#f1b6da"
            ],
            [
             0.4,
             "#fde0ef"
            ],
            [
             0.5,
             "#f7f7f7"
            ],
            [
             0.6,
             "#e6f5d0"
            ],
            [
             0.7,
             "#b8e186"
            ],
            [
             0.8,
             "#7fbc41"
            ],
            [
             0.9,
             "#4d9221"
            ],
            [
             1,
             "#276419"
            ]
           ],
           "sequential": [
            [
             0,
             "#0d0887"
            ],
            [
             0.1111111111111111,
             "#46039f"
            ],
            [
             0.2222222222222222,
             "#7201a8"
            ],
            [
             0.3333333333333333,
             "#9c179e"
            ],
            [
             0.4444444444444444,
             "#bd3786"
            ],
            [
             0.5555555555555556,
             "#d8576b"
            ],
            [
             0.6666666666666666,
             "#ed7953"
            ],
            [
             0.7777777777777778,
             "#fb9f3a"
            ],
            [
             0.8888888888888888,
             "#fdca26"
            ],
            [
             1,
             "#f0f921"
            ]
           ],
           "sequentialminus": [
            [
             0,
             "#0d0887"
            ],
            [
             0.1111111111111111,
             "#46039f"
            ],
            [
             0.2222222222222222,
             "#7201a8"
            ],
            [
             0.3333333333333333,
             "#9c179e"
            ],
            [
             0.4444444444444444,
             "#bd3786"
            ],
            [
             0.5555555555555556,
             "#d8576b"
            ],
            [
             0.6666666666666666,
             "#ed7953"
            ],
            [
             0.7777777777777778,
             "#fb9f3a"
            ],
            [
             0.8888888888888888,
             "#fdca26"
            ],
            [
             1,
             "#f0f921"
            ]
           ]
          },
          "colorway": [
           "#636efa",
           "#EF553B",
           "#00cc96",
           "#ab63fa",
           "#FFA15A",
           "#19d3f3",
           "#FF6692",
           "#B6E880",
           "#FF97FF",
           "#FECB52"
          ],
          "font": {
           "color": "#2a3f5f"
          },
          "geo": {
           "bgcolor": "white",
           "lakecolor": "white",
           "landcolor": "white",
           "showlakes": true,
           "showland": true,
           "subunitcolor": "#C8D4E3"
          },
          "hoverlabel": {
           "align": "left"
          },
          "hovermode": "closest",
          "mapbox": {
           "style": "light"
          },
          "paper_bgcolor": "white",
          "plot_bgcolor": "white",
          "polar": {
           "angularaxis": {
            "gridcolor": "#EBF0F8",
            "linecolor": "#EBF0F8",
            "ticks": ""
           },
           "bgcolor": "white",
           "radialaxis": {
            "gridcolor": "#EBF0F8",
            "linecolor": "#EBF0F8",
            "ticks": ""
           }
          },
          "scene": {
           "xaxis": {
            "backgroundcolor": "white",
            "gridcolor": "#DFE8F3",
            "gridwidth": 2,
            "linecolor": "#EBF0F8",
            "showbackground": true,
            "ticks": "",
            "zerolinecolor": "#EBF0F8"
           },
           "yaxis": {
            "backgroundcolor": "white",
            "gridcolor": "#DFE8F3",
            "gridwidth": 2,
            "linecolor": "#EBF0F8",
            "showbackground": true,
            "ticks": "",
            "zerolinecolor": "#EBF0F8"
           },
           "zaxis": {
            "backgroundcolor": "white",
            "gridcolor": "#DFE8F3",
            "gridwidth": 2,
            "linecolor": "#EBF0F8",
            "showbackground": true,
            "ticks": "",
            "zerolinecolor": "#EBF0F8"
           }
          },
          "shapedefaults": {
           "line": {
            "color": "#2a3f5f"
           }
          },
          "ternary": {
           "aaxis": {
            "gridcolor": "#DFE8F3",
            "linecolor": "#A2B1C6",
            "ticks": ""
           },
           "baxis": {
            "gridcolor": "#DFE8F3",
            "linecolor": "#A2B1C6",
            "ticks": ""
           },
           "bgcolor": "white",
           "caxis": {
            "gridcolor": "#DFE8F3",
            "linecolor": "#A2B1C6",
            "ticks": ""
           }
          },
          "title": {
           "x": 0.05
          },
          "xaxis": {
           "automargin": true,
           "gridcolor": "#EBF0F8",
           "linecolor": "#EBF0F8",
           "ticks": "",
           "title": {
            "standoff": 15
           },
           "zerolinecolor": "#EBF0F8",
           "zerolinewidth": 2
          },
          "yaxis": {
           "automargin": true,
           "gridcolor": "#EBF0F8",
           "linecolor": "#EBF0F8",
           "ticks": "",
           "title": {
            "standoff": 15
           },
           "zerolinecolor": "#EBF0F8",
           "zerolinewidth": 2
          }
         }
        },
        "title": {
         "text": "Evolución Temporal de Transacciones por Tipo"
        },
        "xaxis": {
         "anchor": "y",
         "domain": [
          0,
          1
         ],
         "title": {
          "text": "Fecha"
         }
        },
        "yaxis": {
         "anchor": "x",
         "domain": [
          0,
          1
         ],
         "title": {
          "text": "Importe Total Diario (€)"
         }
        }
       }
      }
     },
     "metadata": {},
     "output_type": "display_data"
    }
   ],
   "source": [
    "# Consulta para análisis temporal\n",
    "query_temporal = \"\"\"\n",
    "SELECT \n",
    "    DATE(CONCAT(\n",
    "        SUBSTRING(f.Id_fecha, 1, 4), '-',\n",
    "        SUBSTRING(f.Id_fecha, 5, 2), '-',\n",
    "        SUBSTRING(f.Id_fecha, 7, 2)\n",
    "    )) as fecha,\n",
    "    o.Operacion,\n",
    "    SUM(f.Cantidad) as suma_diaria\n",
    "FROM fact_table f\n",
    "JOIN dim_operaciones o ON f.Id_tipo_operacion = o.Id_tipo_operacion\n",
    "GROUP BY fecha, o.Operacion\n",
    "ORDER BY fecha;\n",
    "\"\"\"\n",
    "\n",
    "df_temporal = ejecutar_query(query_temporal)\n",
    "\n",
    "# Crear gráfico de líneas temporal\n",
    "fig = px.line(df_temporal, \n",
    "              x='fecha', \n",
    "              y='suma_diaria', \n",
    "              color='Operacion',\n",
    "              title='Evolución Temporal de Transacciones por Tipo')\n",
    "\n",
    "fig.update_layout(\n",
    "    xaxis_title='Fecha',\n",
    "    yaxis_title='Importe Total Diario (€)',\n",
    "    template='plotly_white'\n",
    ")\n",
    "\n",
    "fig.show()"
   ]
  },
  {
   "cell_type": "code",
   "execution_count": 5,
   "metadata": {},
   "outputs": [
    {
     "name": "stderr",
     "output_type": "stream",
     "text": [
      "C:\\Users\\mikel\\AppData\\Local\\Temp\\ipykernel_29496\\1450764005.py:22: UserWarning:\n",
      "\n",
      "pandas only supports SQLAlchemy connectable (engine/connection) or database string URI or sqlite3 DBAPI2 connection. Other DBAPI2 objects are not tested. Please consider using SQLAlchemy.\n",
      "\n"
     ]
    },
    {
     "name": "stdout",
     "output_type": "stream",
     "text": [
      "\n",
      "=== ANÁLISIS DE CONSISTENCIA DE DATOS ===\n",
      "\n",
      "Estadísticas Generales:\n",
      "--------------------------------------------------\n",
      "total_registros: 340322\n",
      "dias_unicos: 366\n",
      "tipos_operacion_unicos: 12\n",
      "emisores_unicos: 1530\n",
      "receptores_unicos: 1339\n",
      "suma_total: 6,500,191.99 €\n",
      "promedio_operacion: 19.10 €\n",
      "min_cantidad: 0.00 €\n",
      "max_cantidad: 15,000.00 €\n",
      "operaciones_negativas: 0\n",
      "operaciones_positivas: 340244\n",
      "operaciones_cero: 78\n",
      "\n",
      "Balance por Tipo de Operación:\n",
      "--------------------------------------------------\n",
      "              Operacion  num_operaciones  total_por_tipo  promedio_por_tipo  min_por_tipo  max_por_tipo\n",
      "         Pago a usuario           112779      3430730.90          30.419944          0.00       2060.00\n",
      "         Conversión a €              969      1267647.50        1308.201754          1.00      15000.00\n",
      "    Recarga por tarjeta             9306      1255837.00         134.949173         50.00        500.00\n",
      "         Cobro desde QR            12894       299646.69          23.239235          0.01        500.00\n",
      "Bonificación por compra           100064       153011.49           1.529136          0.00        100.00\n",
      "   Descuento automático            81066        50318.25           0.620707          0.01         97.83\n",
      "  Comisión por retirada              967        14838.46          15.344840          0.01        181.50\n",
      " Cuota mensual de socio             6031        11760.45           1.950000          1.95          1.95\n",
      "         Cuota de socio              651         6510.00          10.000000         10.00         10.00\n",
      "         Cuota variable             1512         6129.16           4.053677          0.01         42.17\n",
      "               Donación            14069         3452.22           0.245378          0.01          4.26\n",
      "  Transferencia interna               14          309.87          22.133571          0.01        102.76\n"
     ]
    },
    {
     "name": "stderr",
     "output_type": "stream",
     "text": [
      "C:\\Users\\mikel\\AppData\\Local\\Temp\\ipykernel_29496\\1450764005.py:22: UserWarning:\n",
      "\n",
      "pandas only supports SQLAlchemy connectable (engine/connection) or database string URI or sqlite3 DBAPI2 connection. Other DBAPI2 objects are not tested. Please consider using SQLAlchemy.\n",
      "\n"
     ]
    },
    {
     "name": "stdout",
     "output_type": "stream",
     "text": [
      "\n",
      "Balance por Año:\n",
      "--------------------------------------------------\n",
      " año  operaciones_por_año  total_por_año\n",
      "2024               340322     6500191.99\n"
     ]
    },
    {
     "data": {
      "application/vnd.plotly.v1+json": {
       "config": {
        "plotlyServerURL": "https://plot.ly"
       },
       "data": [
        {
         "name": "Total por Tipo",
         "text": [
          3430730.9,
          1267647.5,
          1255837,
          299646.69,
          153011.49,
          50318.25,
          14838.46,
          11760.45,
          6510,
          6129.16,
          3452.22,
          309.87
         ],
         "textposition": "auto",
         "type": "bar",
         "x": [
          "Pago a usuario",
          "Conversión a €",
          "Recarga por tarjeta",
          "Cobro desde QR",
          "Bonificación por compra",
          "Descuento automático",
          "Comisión por retirada",
          "Cuota mensual de socio",
          "Cuota de socio",
          "Cuota variable",
          "Donación",
          "Transferencia interna"
         ],
         "y": [
          3430730.9,
          1267647.5,
          1255837,
          299646.69,
          153011.49,
          50318.25,
          14838.46,
          11760.45,
          6510,
          6129.16,
          3452.22,
          309.87
         ]
        }
       ],
       "layout": {
        "template": {
         "data": {
          "bar": [
           {
            "error_x": {
             "color": "#2a3f5f"
            },
            "error_y": {
             "color": "#2a3f5f"
            },
            "marker": {
             "line": {
              "color": "white",
              "width": 0.5
             },
             "pattern": {
              "fillmode": "overlay",
              "size": 10,
              "solidity": 0.2
             }
            },
            "type": "bar"
           }
          ],
          "barpolar": [
           {
            "marker": {
             "line": {
              "color": "white",
              "width": 0.5
             },
             "pattern": {
              "fillmode": "overlay",
              "size": 10,
              "solidity": 0.2
             }
            },
            "type": "barpolar"
           }
          ],
          "carpet": [
           {
            "aaxis": {
             "endlinecolor": "#2a3f5f",
             "gridcolor": "#C8D4E3",
             "linecolor": "#C8D4E3",
             "minorgridcolor": "#C8D4E3",
             "startlinecolor": "#2a3f5f"
            },
            "baxis": {
             "endlinecolor": "#2a3f5f",
             "gridcolor": "#C8D4E3",
             "linecolor": "#C8D4E3",
             "minorgridcolor": "#C8D4E3",
             "startlinecolor": "#2a3f5f"
            },
            "type": "carpet"
           }
          ],
          "choropleth": [
           {
            "colorbar": {
             "outlinewidth": 0,
             "ticks": ""
            },
            "type": "choropleth"
           }
          ],
          "contour": [
           {
            "colorbar": {
             "outlinewidth": 0,
             "ticks": ""
            },
            "colorscale": [
             [
              0,
              "#0d0887"
             ],
             [
              0.1111111111111111,
              "#46039f"
             ],
             [
              0.2222222222222222,
              "#7201a8"
             ],
             [
              0.3333333333333333,
              "#9c179e"
             ],
             [
              0.4444444444444444,
              "#bd3786"
             ],
             [
              0.5555555555555556,
              "#d8576b"
             ],
             [
              0.6666666666666666,
              "#ed7953"
             ],
             [
              0.7777777777777778,
              "#fb9f3a"
             ],
             [
              0.8888888888888888,
              "#fdca26"
             ],
             [
              1,
              "#f0f921"
             ]
            ],
            "type": "contour"
           }
          ],
          "contourcarpet": [
           {
            "colorbar": {
             "outlinewidth": 0,
             "ticks": ""
            },
            "type": "contourcarpet"
           }
          ],
          "heatmap": [
           {
            "colorbar": {
             "outlinewidth": 0,
             "ticks": ""
            },
            "colorscale": [
             [
              0,
              "#0d0887"
             ],
             [
              0.1111111111111111,
              "#46039f"
             ],
             [
              0.2222222222222222,
              "#7201a8"
             ],
             [
              0.3333333333333333,
              "#9c179e"
             ],
             [
              0.4444444444444444,
              "#bd3786"
             ],
             [
              0.5555555555555556,
              "#d8576b"
             ],
             [
              0.6666666666666666,
              "#ed7953"
             ],
             [
              0.7777777777777778,
              "#fb9f3a"
             ],
             [
              0.8888888888888888,
              "#fdca26"
             ],
             [
              1,
              "#f0f921"
             ]
            ],
            "type": "heatmap"
           }
          ],
          "heatmapgl": [
           {
            "colorbar": {
             "outlinewidth": 0,
             "ticks": ""
            },
            "colorscale": [
             [
              0,
              "#0d0887"
             ],
             [
              0.1111111111111111,
              "#46039f"
             ],
             [
              0.2222222222222222,
              "#7201a8"
             ],
             [
              0.3333333333333333,
              "#9c179e"
             ],
             [
              0.4444444444444444,
              "#bd3786"
             ],
             [
              0.5555555555555556,
              "#d8576b"
             ],
             [
              0.6666666666666666,
              "#ed7953"
             ],
             [
              0.7777777777777778,
              "#fb9f3a"
             ],
             [
              0.8888888888888888,
              "#fdca26"
             ],
             [
              1,
              "#f0f921"
             ]
            ],
            "type": "heatmapgl"
           }
          ],
          "histogram": [
           {
            "marker": {
             "pattern": {
              "fillmode": "overlay",
              "size": 10,
              "solidity": 0.2
             }
            },
            "type": "histogram"
           }
          ],
          "histogram2d": [
           {
            "colorbar": {
             "outlinewidth": 0,
             "ticks": ""
            },
            "colorscale": [
             [
              0,
              "#0d0887"
             ],
             [
              0.1111111111111111,
              "#46039f"
             ],
             [
              0.2222222222222222,
              "#7201a8"
             ],
             [
              0.3333333333333333,
              "#9c179e"
             ],
             [
              0.4444444444444444,
              "#bd3786"
             ],
             [
              0.5555555555555556,
              "#d8576b"
             ],
             [
              0.6666666666666666,
              "#ed7953"
             ],
             [
              0.7777777777777778,
              "#fb9f3a"
             ],
             [
              0.8888888888888888,
              "#fdca26"
             ],
             [
              1,
              "#f0f921"
             ]
            ],
            "type": "histogram2d"
           }
          ],
          "histogram2dcontour": [
           {
            "colorbar": {
             "outlinewidth": 0,
             "ticks": ""
            },
            "colorscale": [
             [
              0,
              "#0d0887"
             ],
             [
              0.1111111111111111,
              "#46039f"
             ],
             [
              0.2222222222222222,
              "#7201a8"
             ],
             [
              0.3333333333333333,
              "#9c179e"
             ],
             [
              0.4444444444444444,
              "#bd3786"
             ],
             [
              0.5555555555555556,
              "#d8576b"
             ],
             [
              0.6666666666666666,
              "#ed7953"
             ],
             [
              0.7777777777777778,
              "#fb9f3a"
             ],
             [
              0.8888888888888888,
              "#fdca26"
             ],
             [
              1,
              "#f0f921"
             ]
            ],
            "type": "histogram2dcontour"
           }
          ],
          "mesh3d": [
           {
            "colorbar": {
             "outlinewidth": 0,
             "ticks": ""
            },
            "type": "mesh3d"
           }
          ],
          "parcoords": [
           {
            "line": {
             "colorbar": {
              "outlinewidth": 0,
              "ticks": ""
             }
            },
            "type": "parcoords"
           }
          ],
          "pie": [
           {
            "automargin": true,
            "type": "pie"
           }
          ],
          "scatter": [
           {
            "fillpattern": {
             "fillmode": "overlay",
             "size": 10,
             "solidity": 0.2
            },
            "type": "scatter"
           }
          ],
          "scatter3d": [
           {
            "line": {
             "colorbar": {
              "outlinewidth": 0,
              "ticks": ""
             }
            },
            "marker": {
             "colorbar": {
              "outlinewidth": 0,
              "ticks": ""
             }
            },
            "type": "scatter3d"
           }
          ],
          "scattercarpet": [
           {
            "marker": {
             "colorbar": {
              "outlinewidth": 0,
              "ticks": ""
             }
            },
            "type": "scattercarpet"
           }
          ],
          "scattergeo": [
           {
            "marker": {
             "colorbar": {
              "outlinewidth": 0,
              "ticks": ""
             }
            },
            "type": "scattergeo"
           }
          ],
          "scattergl": [
           {
            "marker": {
             "colorbar": {
              "outlinewidth": 0,
              "ticks": ""
             }
            },
            "type": "scattergl"
           }
          ],
          "scattermapbox": [
           {
            "marker": {
             "colorbar": {
              "outlinewidth": 0,
              "ticks": ""
             }
            },
            "type": "scattermapbox"
           }
          ],
          "scatterpolar": [
           {
            "marker": {
             "colorbar": {
              "outlinewidth": 0,
              "ticks": ""
             }
            },
            "type": "scatterpolar"
           }
          ],
          "scatterpolargl": [
           {
            "marker": {
             "colorbar": {
              "outlinewidth": 0,
              "ticks": ""
             }
            },
            "type": "scatterpolargl"
           }
          ],
          "scatterternary": [
           {
            "marker": {
             "colorbar": {
              "outlinewidth": 0,
              "ticks": ""
             }
            },
            "type": "scatterternary"
           }
          ],
          "surface": [
           {
            "colorbar": {
             "outlinewidth": 0,
             "ticks": ""
            },
            "colorscale": [
             [
              0,
              "#0d0887"
             ],
             [
              0.1111111111111111,
              "#46039f"
             ],
             [
              0.2222222222222222,
              "#7201a8"
             ],
             [
              0.3333333333333333,
              "#9c179e"
             ],
             [
              0.4444444444444444,
              "#bd3786"
             ],
             [
              0.5555555555555556,
              "#d8576b"
             ],
             [
              0.6666666666666666,
              "#ed7953"
             ],
             [
              0.7777777777777778,
              "#fb9f3a"
             ],
             [
              0.8888888888888888,
              "#fdca26"
             ],
             [
              1,
              "#f0f921"
             ]
            ],
            "type": "surface"
           }
          ],
          "table": [
           {
            "cells": {
             "fill": {
              "color": "#EBF0F8"
             },
             "line": {
              "color": "white"
             }
            },
            "header": {
             "fill": {
              "color": "#C8D4E3"
             },
             "line": {
              "color": "white"
             }
            },
            "type": "table"
           }
          ]
         },
         "layout": {
          "annotationdefaults": {
           "arrowcolor": "#2a3f5f",
           "arrowhead": 0,
           "arrowwidth": 1
          },
          "autotypenumbers": "strict",
          "coloraxis": {
           "colorbar": {
            "outlinewidth": 0,
            "ticks": ""
           }
          },
          "colorscale": {
           "diverging": [
            [
             0,
             "#8e0152"
            ],
            [
             0.1,
             "#c51b7d"
            ],
            [
             0.2,
             "#de77ae"
            ],
            [
             0.3,
             "#f1b6da"
            ],
            [
             0.4,
             "#fde0ef"
            ],
            [
             0.5,
             "#f7f7f7"
            ],
            [
             0.6,
             "#e6f5d0"
            ],
            [
             0.7,
             "#b8e186"
            ],
            [
             0.8,
             "#7fbc41"
            ],
            [
             0.9,
             "#4d9221"
            ],
            [
             1,
             "#276419"
            ]
           ],
           "sequential": [
            [
             0,
             "#0d0887"
            ],
            [
             0.1111111111111111,
             "#46039f"
            ],
            [
             0.2222222222222222,
             "#7201a8"
            ],
            [
             0.3333333333333333,
             "#9c179e"
            ],
            [
             0.4444444444444444,
             "#bd3786"
            ],
            [
             0.5555555555555556,
             "#d8576b"
            ],
            [
             0.6666666666666666,
             "#ed7953"
            ],
            [
             0.7777777777777778,
             "#fb9f3a"
            ],
            [
             0.8888888888888888,
             "#fdca26"
            ],
            [
             1,
             "#f0f921"
            ]
           ],
           "sequentialminus": [
            [
             0,
             "#0d0887"
            ],
            [
             0.1111111111111111,
             "#46039f"
            ],
            [
             0.2222222222222222,
             "#7201a8"
            ],
            [
             0.3333333333333333,
             "#9c179e"
            ],
            [
             0.4444444444444444,
             "#bd3786"
            ],
            [
             0.5555555555555556,
             "#d8576b"
            ],
            [
             0.6666666666666666,
             "#ed7953"
            ],
            [
             0.7777777777777778,
             "#fb9f3a"
            ],
            [
             0.8888888888888888,
             "#fdca26"
            ],
            [
             1,
             "#f0f921"
            ]
           ]
          },
          "colorway": [
           "#636efa",
           "#EF553B",
           "#00cc96",
           "#ab63fa",
           "#FFA15A",
           "#19d3f3",
           "#FF6692",
           "#B6E880",
           "#FF97FF",
           "#FECB52"
          ],
          "font": {
           "color": "#2a3f5f"
          },
          "geo": {
           "bgcolor": "white",
           "lakecolor": "white",
           "landcolor": "white",
           "showlakes": true,
           "showland": true,
           "subunitcolor": "#C8D4E3"
          },
          "hoverlabel": {
           "align": "left"
          },
          "hovermode": "closest",
          "mapbox": {
           "style": "light"
          },
          "paper_bgcolor": "white",
          "plot_bgcolor": "white",
          "polar": {
           "angularaxis": {
            "gridcolor": "#EBF0F8",
            "linecolor": "#EBF0F8",
            "ticks": ""
           },
           "bgcolor": "white",
           "radialaxis": {
            "gridcolor": "#EBF0F8",
            "linecolor": "#EBF0F8",
            "ticks": ""
           }
          },
          "scene": {
           "xaxis": {
            "backgroundcolor": "white",
            "gridcolor": "#DFE8F3",
            "gridwidth": 2,
            "linecolor": "#EBF0F8",
            "showbackground": true,
            "ticks": "",
            "zerolinecolor": "#EBF0F8"
           },
           "yaxis": {
            "backgroundcolor": "white",
            "gridcolor": "#DFE8F3",
            "gridwidth": 2,
            "linecolor": "#EBF0F8",
            "showbackground": true,
            "ticks": "",
            "zerolinecolor": "#EBF0F8"
           },
           "zaxis": {
            "backgroundcolor": "white",
            "gridcolor": "#DFE8F3",
            "gridwidth": 2,
            "linecolor": "#EBF0F8",
            "showbackground": true,
            "ticks": "",
            "zerolinecolor": "#EBF0F8"
           }
          },
          "shapedefaults": {
           "line": {
            "color": "#2a3f5f"
           }
          },
          "ternary": {
           "aaxis": {
            "gridcolor": "#DFE8F3",
            "linecolor": "#A2B1C6",
            "ticks": ""
           },
           "baxis": {
            "gridcolor": "#DFE8F3",
            "linecolor": "#A2B1C6",
            "ticks": ""
           },
           "bgcolor": "white",
           "caxis": {
            "gridcolor": "#DFE8F3",
            "linecolor": "#A2B1C6",
            "ticks": ""
           }
          },
          "title": {
           "x": 0.05
          },
          "xaxis": {
           "automargin": true,
           "gridcolor": "#EBF0F8",
           "linecolor": "#EBF0F8",
           "ticks": "",
           "title": {
            "standoff": 15
           },
           "zerolinecolor": "#EBF0F8",
           "zerolinewidth": 2
          },
          "yaxis": {
           "automargin": true,
           "gridcolor": "#EBF0F8",
           "linecolor": "#EBF0F8",
           "ticks": "",
           "title": {
            "standoff": 15
           },
           "zerolinecolor": "#EBF0F8",
           "zerolinewidth": 2
          }
         }
        },
        "title": {
         "text": "Balance Total por Tipo de Operación"
        },
        "xaxis": {
         "title": {
          "text": "Tipo de Operación"
         }
        },
        "yaxis": {
         "title": {
          "text": "Total (€)"
         }
        }
       }
      }
     },
     "metadata": {},
     "output_type": "display_data"
    },
    {
     "data": {
      "application/vnd.plotly.v1+json": {
       "config": {
        "plotlyServerURL": "https://plot.ly"
       },
       "data": [
        {
         "name": "Total por Año",
         "text": [
          6500191.99
         ],
         "textposition": "auto",
         "type": "bar",
         "x": [
          "2024"
         ],
         "y": [
          6500191.99
         ]
        }
       ],
       "layout": {
        "template": {
         "data": {
          "bar": [
           {
            "error_x": {
             "color": "#2a3f5f"
            },
            "error_y": {
             "color": "#2a3f5f"
            },
            "marker": {
             "line": {
              "color": "white",
              "width": 0.5
             },
             "pattern": {
              "fillmode": "overlay",
              "size": 10,
              "solidity": 0.2
             }
            },
            "type": "bar"
           }
          ],
          "barpolar": [
           {
            "marker": {
             "line": {
              "color": "white",
              "width": 0.5
             },
             "pattern": {
              "fillmode": "overlay",
              "size": 10,
              "solidity": 0.2
             }
            },
            "type": "barpolar"
           }
          ],
          "carpet": [
           {
            "aaxis": {
             "endlinecolor": "#2a3f5f",
             "gridcolor": "#C8D4E3",
             "linecolor": "#C8D4E3",
             "minorgridcolor": "#C8D4E3",
             "startlinecolor": "#2a3f5f"
            },
            "baxis": {
             "endlinecolor": "#2a3f5f",
             "gridcolor": "#C8D4E3",
             "linecolor": "#C8D4E3",
             "minorgridcolor": "#C8D4E3",
             "startlinecolor": "#2a3f5f"
            },
            "type": "carpet"
           }
          ],
          "choropleth": [
           {
            "colorbar": {
             "outlinewidth": 0,
             "ticks": ""
            },
            "type": "choropleth"
           }
          ],
          "contour": [
           {
            "colorbar": {
             "outlinewidth": 0,
             "ticks": ""
            },
            "colorscale": [
             [
              0,
              "#0d0887"
             ],
             [
              0.1111111111111111,
              "#46039f"
             ],
             [
              0.2222222222222222,
              "#7201a8"
             ],
             [
              0.3333333333333333,
              "#9c179e"
             ],
             [
              0.4444444444444444,
              "#bd3786"
             ],
             [
              0.5555555555555556,
              "#d8576b"
             ],
             [
              0.6666666666666666,
              "#ed7953"
             ],
             [
              0.7777777777777778,
              "#fb9f3a"
             ],
             [
              0.8888888888888888,
              "#fdca26"
             ],
             [
              1,
              "#f0f921"
             ]
            ],
            "type": "contour"
           }
          ],
          "contourcarpet": [
           {
            "colorbar": {
             "outlinewidth": 0,
             "ticks": ""
            },
            "type": "contourcarpet"
           }
          ],
          "heatmap": [
           {
            "colorbar": {
             "outlinewidth": 0,
             "ticks": ""
            },
            "colorscale": [
             [
              0,
              "#0d0887"
             ],
             [
              0.1111111111111111,
              "#46039f"
             ],
             [
              0.2222222222222222,
              "#7201a8"
             ],
             [
              0.3333333333333333,
              "#9c179e"
             ],
             [
              0.4444444444444444,
              "#bd3786"
             ],
             [
              0.5555555555555556,
              "#d8576b"
             ],
             [
              0.6666666666666666,
              "#ed7953"
             ],
             [
              0.7777777777777778,
              "#fb9f3a"
             ],
             [
              0.8888888888888888,
              "#fdca26"
             ],
             [
              1,
              "#f0f921"
             ]
            ],
            "type": "heatmap"
           }
          ],
          "heatmapgl": [
           {
            "colorbar": {
             "outlinewidth": 0,
             "ticks": ""
            },
            "colorscale": [
             [
              0,
              "#0d0887"
             ],
             [
              0.1111111111111111,
              "#46039f"
             ],
             [
              0.2222222222222222,
              "#7201a8"
             ],
             [
              0.3333333333333333,
              "#9c179e"
             ],
             [
              0.4444444444444444,
              "#bd3786"
             ],
             [
              0.5555555555555556,
              "#d8576b"
             ],
             [
              0.6666666666666666,
              "#ed7953"
             ],
             [
              0.7777777777777778,
              "#fb9f3a"
             ],
             [
              0.8888888888888888,
              "#fdca26"
             ],
             [
              1,
              "#f0f921"
             ]
            ],
            "type": "heatmapgl"
           }
          ],
          "histogram": [
           {
            "marker": {
             "pattern": {
              "fillmode": "overlay",
              "size": 10,
              "solidity": 0.2
             }
            },
            "type": "histogram"
           }
          ],
          "histogram2d": [
           {
            "colorbar": {
             "outlinewidth": 0,
             "ticks": ""
            },
            "colorscale": [
             [
              0,
              "#0d0887"
             ],
             [
              0.1111111111111111,
              "#46039f"
             ],
             [
              0.2222222222222222,
              "#7201a8"
             ],
             [
              0.3333333333333333,
              "#9c179e"
             ],
             [
              0.4444444444444444,
              "#bd3786"
             ],
             [
              0.5555555555555556,
              "#d8576b"
             ],
             [
              0.6666666666666666,
              "#ed7953"
             ],
             [
              0.7777777777777778,
              "#fb9f3a"
             ],
             [
              0.8888888888888888,
              "#fdca26"
             ],
             [
              1,
              "#f0f921"
             ]
            ],
            "type": "histogram2d"
           }
          ],
          "histogram2dcontour": [
           {
            "colorbar": {
             "outlinewidth": 0,
             "ticks": ""
            },
            "colorscale": [
             [
              0,
              "#0d0887"
             ],
             [
              0.1111111111111111,
              "#46039f"
             ],
             [
              0.2222222222222222,
              "#7201a8"
             ],
             [
              0.3333333333333333,
              "#9c179e"
             ],
             [
              0.4444444444444444,
              "#bd3786"
             ],
             [
              0.5555555555555556,
              "#d8576b"
             ],
             [
              0.6666666666666666,
              "#ed7953"
             ],
             [
              0.7777777777777778,
              "#fb9f3a"
             ],
             [
              0.8888888888888888,
              "#fdca26"
             ],
             [
              1,
              "#f0f921"
             ]
            ],
            "type": "histogram2dcontour"
           }
          ],
          "mesh3d": [
           {
            "colorbar": {
             "outlinewidth": 0,
             "ticks": ""
            },
            "type": "mesh3d"
           }
          ],
          "parcoords": [
           {
            "line": {
             "colorbar": {
              "outlinewidth": 0,
              "ticks": ""
             }
            },
            "type": "parcoords"
           }
          ],
          "pie": [
           {
            "automargin": true,
            "type": "pie"
           }
          ],
          "scatter": [
           {
            "fillpattern": {
             "fillmode": "overlay",
             "size": 10,
             "solidity": 0.2
            },
            "type": "scatter"
           }
          ],
          "scatter3d": [
           {
            "line": {
             "colorbar": {
              "outlinewidth": 0,
              "ticks": ""
             }
            },
            "marker": {
             "colorbar": {
              "outlinewidth": 0,
              "ticks": ""
             }
            },
            "type": "scatter3d"
           }
          ],
          "scattercarpet": [
           {
            "marker": {
             "colorbar": {
              "outlinewidth": 0,
              "ticks": ""
             }
            },
            "type": "scattercarpet"
           }
          ],
          "scattergeo": [
           {
            "marker": {
             "colorbar": {
              "outlinewidth": 0,
              "ticks": ""
             }
            },
            "type": "scattergeo"
           }
          ],
          "scattergl": [
           {
            "marker": {
             "colorbar": {
              "outlinewidth": 0,
              "ticks": ""
             }
            },
            "type": "scattergl"
           }
          ],
          "scattermapbox": [
           {
            "marker": {
             "colorbar": {
              "outlinewidth": 0,
              "ticks": ""
             }
            },
            "type": "scattermapbox"
           }
          ],
          "scatterpolar": [
           {
            "marker": {
             "colorbar": {
              "outlinewidth": 0,
              "ticks": ""
             }
            },
            "type": "scatterpolar"
           }
          ],
          "scatterpolargl": [
           {
            "marker": {
             "colorbar": {
              "outlinewidth": 0,
              "ticks": ""
             }
            },
            "type": "scatterpolargl"
           }
          ],
          "scatterternary": [
           {
            "marker": {
             "colorbar": {
              "outlinewidth": 0,
              "ticks": ""
             }
            },
            "type": "scatterternary"
           }
          ],
          "surface": [
           {
            "colorbar": {
             "outlinewidth": 0,
             "ticks": ""
            },
            "colorscale": [
             [
              0,
              "#0d0887"
             ],
             [
              0.1111111111111111,
              "#46039f"
             ],
             [
              0.2222222222222222,
              "#7201a8"
             ],
             [
              0.3333333333333333,
              "#9c179e"
             ],
             [
              0.4444444444444444,
              "#bd3786"
             ],
             [
              0.5555555555555556,
              "#d8576b"
             ],
             [
              0.6666666666666666,
              "#ed7953"
             ],
             [
              0.7777777777777778,
              "#fb9f3a"
             ],
             [
              0.8888888888888888,
              "#fdca26"
             ],
             [
              1,
              "#f0f921"
             ]
            ],
            "type": "surface"
           }
          ],
          "table": [
           {
            "cells": {
             "fill": {
              "color": "#EBF0F8"
             },
             "line": {
              "color": "white"
             }
            },
            "header": {
             "fill": {
              "color": "#C8D4E3"
             },
             "line": {
              "color": "white"
             }
            },
            "type": "table"
           }
          ]
         },
         "layout": {
          "annotationdefaults": {
           "arrowcolor": "#2a3f5f",
           "arrowhead": 0,
           "arrowwidth": 1
          },
          "autotypenumbers": "strict",
          "coloraxis": {
           "colorbar": {
            "outlinewidth": 0,
            "ticks": ""
           }
          },
          "colorscale": {
           "diverging": [
            [
             0,
             "#8e0152"
            ],
            [
             0.1,
             "#c51b7d"
            ],
            [
             0.2,
             "#de77ae"
            ],
            [
             0.3,
             "#f1b6da"
            ],
            [
             0.4,
             "#fde0ef"
            ],
            [
             0.5,
             "#f7f7f7"
            ],
            [
             0.6,
             "#e6f5d0"
            ],
            [
             0.7,
             "#b8e186"
            ],
            [
             0.8,
             "#7fbc41"
            ],
            [
             0.9,
             "#4d9221"
            ],
            [
             1,
             "#276419"
            ]
           ],
           "sequential": [
            [
             0,
             "#0d0887"
            ],
            [
             0.1111111111111111,
             "#46039f"
            ],
            [
             0.2222222222222222,
             "#7201a8"
            ],
            [
             0.3333333333333333,
             "#9c179e"
            ],
            [
             0.4444444444444444,
             "#bd3786"
            ],
            [
             0.5555555555555556,
             "#d8576b"
            ],
            [
             0.6666666666666666,
             "#ed7953"
            ],
            [
             0.7777777777777778,
             "#fb9f3a"
            ],
            [
             0.8888888888888888,
             "#fdca26"
            ],
            [
             1,
             "#f0f921"
            ]
           ],
           "sequentialminus": [
            [
             0,
             "#0d0887"
            ],
            [
             0.1111111111111111,
             "#46039f"
            ],
            [
             0.2222222222222222,
             "#7201a8"
            ],
            [
             0.3333333333333333,
             "#9c179e"
            ],
            [
             0.4444444444444444,
             "#bd3786"
            ],
            [
             0.5555555555555556,
             "#d8576b"
            ],
            [
             0.6666666666666666,
             "#ed7953"
            ],
            [
             0.7777777777777778,
             "#fb9f3a"
            ],
            [
             0.8888888888888888,
             "#fdca26"
            ],
            [
             1,
             "#f0f921"
            ]
           ]
          },
          "colorway": [
           "#636efa",
           "#EF553B",
           "#00cc96",
           "#ab63fa",
           "#FFA15A",
           "#19d3f3",
           "#FF6692",
           "#B6E880",
           "#FF97FF",
           "#FECB52"
          ],
          "font": {
           "color": "#2a3f5f"
          },
          "geo": {
           "bgcolor": "white",
           "lakecolor": "white",
           "landcolor": "white",
           "showlakes": true,
           "showland": true,
           "subunitcolor": "#C8D4E3"
          },
          "hoverlabel": {
           "align": "left"
          },
          "hovermode": "closest",
          "mapbox": {
           "style": "light"
          },
          "paper_bgcolor": "white",
          "plot_bgcolor": "white",
          "polar": {
           "angularaxis": {
            "gridcolor": "#EBF0F8",
            "linecolor": "#EBF0F8",
            "ticks": ""
           },
           "bgcolor": "white",
           "radialaxis": {
            "gridcolor": "#EBF0F8",
            "linecolor": "#EBF0F8",
            "ticks": ""
           }
          },
          "scene": {
           "xaxis": {
            "backgroundcolor": "white",
            "gridcolor": "#DFE8F3",
            "gridwidth": 2,
            "linecolor": "#EBF0F8",
            "showbackground": true,
            "ticks": "",
            "zerolinecolor": "#EBF0F8"
           },
           "yaxis": {
            "backgroundcolor": "white",
            "gridcolor": "#DFE8F3",
            "gridwidth": 2,
            "linecolor": "#EBF0F8",
            "showbackground": true,
            "ticks": "",
            "zerolinecolor": "#EBF0F8"
           },
           "zaxis": {
            "backgroundcolor": "white",
            "gridcolor": "#DFE8F3",
            "gridwidth": 2,
            "linecolor": "#EBF0F8",
            "showbackground": true,
            "ticks": "",
            "zerolinecolor": "#EBF0F8"
           }
          },
          "shapedefaults": {
           "line": {
            "color": "#2a3f5f"
           }
          },
          "ternary": {
           "aaxis": {
            "gridcolor": "#DFE8F3",
            "linecolor": "#A2B1C6",
            "ticks": ""
           },
           "baxis": {
            "gridcolor": "#DFE8F3",
            "linecolor": "#A2B1C6",
            "ticks": ""
           },
           "bgcolor": "white",
           "caxis": {
            "gridcolor": "#DFE8F3",
            "linecolor": "#A2B1C6",
            "ticks": ""
           }
          },
          "title": {
           "x": 0.05
          },
          "xaxis": {
           "automargin": true,
           "gridcolor": "#EBF0F8",
           "linecolor": "#EBF0F8",
           "ticks": "",
           "title": {
            "standoff": 15
           },
           "zerolinecolor": "#EBF0F8",
           "zerolinewidth": 2
          },
          "yaxis": {
           "automargin": true,
           "gridcolor": "#EBF0F8",
           "linecolor": "#EBF0F8",
           "ticks": "",
           "title": {
            "standoff": 15
           },
           "zerolinecolor": "#EBF0F8",
           "zerolinewidth": 2
          }
         }
        },
        "title": {
         "text": "Balance Total por Año"
        },
        "xaxis": {
         "title": {
          "text": "Año"
         }
        },
        "yaxis": {
         "title": {
          "text": "Total (€)"
         }
        }
       }
      }
     },
     "metadata": {},
     "output_type": "display_data"
    }
   ],
   "source": [
    "# Consulta para verificar consistencia de datos\n",
    "query_consistencia = \"\"\"\n",
    "WITH stats AS (\n",
    "    SELECT \n",
    "        COUNT(*) as total_registros,\n",
    "        COUNT(DISTINCT Id_fecha) as dias_unicos,\n",
    "        COUNT(DISTINCT Id_tipo_operacion) as tipos_operacion_unicos,\n",
    "        COUNT(DISTINCT Usuario_emisor) as emisores_unicos,\n",
    "        COUNT(DISTINCT Usuario_receptor) as receptores_unicos,\n",
    "        SUM(Cantidad) as suma_total,\n",
    "        AVG(Cantidad) as promedio_operacion,\n",
    "        MIN(Cantidad) as min_cantidad,\n",
    "        MAX(Cantidad) as max_cantidad,\n",
    "        COUNT(CASE WHEN Cantidad < 0 THEN 1 END) as operaciones_negativas,\n",
    "        COUNT(CASE WHEN Cantidad > 0 THEN 1 END) as operaciones_positivas,\n",
    "        COUNT(CASE WHEN Cantidad = 0 THEN 1 END) as operaciones_cero\n",
    "    FROM fact_table\n",
    "),\n",
    "balance_por_tipo AS (\n",
    "    SELECT \n",
    "        o.Operacion,\n",
    "        COUNT(*) as num_operaciones,\n",
    "        SUM(f.Cantidad) as total_por_tipo,\n",
    "        AVG(f.Cantidad) as promedio_por_tipo,\n",
    "        MIN(f.Cantidad) as min_por_tipo,\n",
    "        MAX(f.Cantidad) as max_por_tipo\n",
    "    FROM fact_table f\n",
    "    JOIN dim_operaciones o ON f.Id_tipo_operacion = o.Id_tipo_operacion\n",
    "    GROUP BY o.Operacion\n",
    "),\n",
    "balance_por_fecha AS (\n",
    "    SELECT \n",
    "        SUBSTRING(Id_fecha, 1, 4) as año,\n",
    "        COUNT(*) as operaciones_por_año,\n",
    "        SUM(Cantidad) as total_por_año\n",
    "    FROM fact_table\n",
    "    GROUP BY SUBSTRING(Id_fecha, 1, 4)\n",
    ")\n",
    "SELECT \n",
    "    'Estadísticas Generales' as categoria,\n",
    "    total_registros,\n",
    "    dias_unicos,\n",
    "    tipos_operacion_unicos,\n",
    "    emisores_unicos,\n",
    "    receptores_unicos,\n",
    "    suma_total,\n",
    "    promedio_operacion,\n",
    "    min_cantidad,\n",
    "    max_cantidad,\n",
    "    operaciones_negativas,\n",
    "    operaciones_positivas,\n",
    "    operaciones_cero\n",
    "FROM stats;\n",
    "\"\"\"\n",
    "\n",
    "# Ejecutar la consulta\n",
    "df_consistencia = ejecutar_query(query_consistencia)\n",
    "\n",
    "# Mostrar resultados\n",
    "print(\"\\n=== ANÁLISIS DE CONSISTENCIA DE DATOS ===\")\n",
    "print(\"\\nEstadísticas Generales:\")\n",
    "print(\"-\" * 50)\n",
    "for columna in df_consistencia.columns:\n",
    "    if columna != 'categoria':\n",
    "        valor = df_consistencia[columna].iloc[0]\n",
    "        if isinstance(valor, (int, float)):\n",
    "            if columna in ['suma_total', 'promedio_operacion', 'min_cantidad', 'max_cantidad']:\n",
    "                print(f\"{columna}: {valor:,.2f} €\")\n",
    "            else:\n",
    "                print(f\"{columna}: {valor:,}\")\n",
    "        else:\n",
    "            print(f\"{columna}: {valor}\")\n",
    "\n",
    "# Consulta adicional para balance por tipo de operación\n",
    "query_balance_tipo = \"\"\"\n",
    "SELECT \n",
    "    o.Operacion,\n",
    "    COUNT(*) as num_operaciones,\n",
    "    SUM(f.Cantidad) as total_por_tipo,\n",
    "    AVG(f.Cantidad) as promedio_por_tipo,\n",
    "    MIN(f.Cantidad) as min_por_tipo,\n",
    "    MAX(f.Cantidad) as max_por_tipo\n",
    "FROM fact_table f\n",
    "JOIN dim_operaciones o ON f.Id_tipo_operacion = o.Id_tipo_operacion\n",
    "GROUP BY o.Operacion\n",
    "ORDER BY total_por_tipo DESC;\n",
    "\"\"\"\n",
    "\n",
    "df_balance_tipo = ejecutar_query(query_balance_tipo)\n",
    "\n",
    "print(\"\\nBalance por Tipo de Operación:\")\n",
    "print(\"-\" * 50)\n",
    "print(df_balance_tipo.to_string(index=False))\n",
    "\n",
    "# Consulta para balance por año\n",
    "query_balance_anual = \"\"\"\n",
    "SELECT \n",
    "    SUBSTRING(Id_fecha, 1, 4) as año,\n",
    "    COUNT(*) as operaciones_por_año,\n",
    "    SUM(Cantidad) as total_por_año\n",
    "FROM fact_table\n",
    "GROUP BY SUBSTRING(Id_fecha, 1, 4)\n",
    "ORDER BY año;\n",
    "\"\"\"\n",
    "\n",
    "df_balance_anual = ejecutar_query(query_balance_anual)\n",
    "\n",
    "print(\"\\nBalance por Año:\")\n",
    "print(\"-\" * 50)\n",
    "print(df_balance_anual.to_string(index=False))\n",
    "\n",
    "# Visualización del balance por tipo de operación\n",
    "fig = go.Figure(data=[\n",
    "    go.Bar(\n",
    "        name='Total por Tipo',\n",
    "        x=df_balance_tipo['Operacion'],\n",
    "        y=df_balance_tipo['total_por_tipo'],\n",
    "        text=df_balance_tipo['total_por_tipo'].round(2),\n",
    "        textposition='auto',\n",
    "    )\n",
    "])\n",
    "\n",
    "fig.update_layout(\n",
    "    title='Balance Total por Tipo de Operación',\n",
    "    xaxis_title='Tipo de Operación',\n",
    "    yaxis_title='Total (€)',\n",
    "    template='plotly_white'\n",
    ")\n",
    "\n",
    "fig.show()\n",
    "\n",
    "# Visualización del balance anual\n",
    "fig2 = go.Figure(data=[\n",
    "    go.Bar(\n",
    "        name='Total por Año',\n",
    "        x=df_balance_anual['año'],\n",
    "        y=df_balance_anual['total_por_año'],\n",
    "        text=df_balance_anual['total_por_año'].round(2),\n",
    "        textposition='auto',\n",
    "    )\n",
    "])\n",
    "\n",
    "fig2.update_layout(\n",
    "    title='Balance Total por Año',\n",
    "    xaxis_title='Año',\n",
    "    yaxis_title='Total (€)',\n",
    "    template='plotly_white'\n",
    ")\n",
    "\n",
    "fig2.show()"
   ]
  }
 ],
 "metadata": {
  "kernelspec": {
   "display_name": "Python 3",
   "language": "python",
   "name": "python3"
  },
  "language_info": {
   "codemirror_mode": {
    "name": "ipython",
    "version": 3
   },
   "file_extension": ".py",
   "mimetype": "text/x-python",
   "name": "python",
   "nbconvert_exporter": "python",
   "pygments_lexer": "ipython3",
   "version": "3.9.6"
  }
 },
 "nbformat": 4,
 "nbformat_minor": 2
}
