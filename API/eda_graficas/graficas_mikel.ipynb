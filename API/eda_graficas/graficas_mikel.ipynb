{
 "cells": [
  {
   "cell_type": "markdown",
   "metadata": {},
   "source": [
    "# Análisis de Flujos de Dinero en Ekhilur\n",
    "\n",
    "Este notebook realiza un análisis detallado de las transacciones financieras en la plataforma Ekhilur, utilizando consultas directas a la base de datos MySQL."
   ]
  },
  {
   "cell_type": "markdown",
   "metadata": {},
   "source": [
    "## 1. Configuración Inicial\n",
    "\n",
    "Primero importamos las librerías necesarias y establecemos la conexión con la base de datos."
   ]
  },
  {
   "cell_type": "code",
   "execution_count": 1,
   "metadata": {},
   "outputs": [
    {
     "name": "stderr",
     "output_type": "stream",
     "text": [
      "C:\\Users\\mikel\\AppData\\Local\\Temp\\ipykernel_12748\\1802020149.py:12: MatplotlibDeprecationWarning: The seaborn styles shipped by Matplotlib are deprecated since 3.6, as they no longer correspond to the styles shipped by seaborn. However, they will remain available as 'seaborn-v0_8-<style>'. Alternatively, directly use the seaborn API instead.\n",
      "  plt.style.use('seaborn')\n"
     ]
    }
   ],
   "source": [
    "# Importar librerías necesarias\n",
    "import mysql.connector\n",
    "import pandas as pd\n",
    "import numpy as np\n",
    "import matplotlib.pyplot as plt\n",
    "import seaborn as sns\n",
    "import plotly.express as px\n",
    "import plotly.graph_objects as go\n",
    "from plotly.subplots import make_subplots\n",
    "\n",
    "# Configuración de visualización\n",
    "plt.style.use('seaborn')\n",
    "sns.set_palette('husl')\n",
    "%matplotlib inline\n",
    "\n",
    "# Configuración para mostrar todas las columnas\n",
    "pd.set_option('display.max_columns', None)"
   ]
  },
  {
   "cell_type": "markdown",
   "metadata": {},
   "source": [
    "### Función para conectar a la base de datos\n",
    "\n",
    "Creamos una función helper para manejar las consultas SQL."
   ]
  },
  {
   "cell_type": "code",
   "execution_count": 2,
   "metadata": {},
   "outputs": [],
   "source": [
    "import os\n",
    "from dotenv import load_dotenv\n",
    "import mysql.connector\n",
    "import pandas as pd\n",
    "\n",
    "# Cargar variables de entorno\n",
    "load_dotenv()\n",
    "\n",
    "def get_db_connection():\n",
    "    return mysql.connector.connect(\n",
    "        host='localhost',\n",
    "        port=3308,\n",
    "        user='user',\n",
    "        password='userpassword',\n",
    "        database='ekhilur'\n",
    "    )\n",
    "\n",
    "def ejecutar_query(query):\n",
    "    \"\"\"Ejecuta una query SQL y devuelve los resultados como DataFrame\"\"\"\n",
    "    conn = get_db_connection()\n",
    "    try:\n",
    "        return pd.read_sql_query(query, conn)\n",
    "    finally:\n",
    "        conn.close()"
   ]
  },
  {
   "cell_type": "code",
   "execution_count": 3,
   "metadata": {},
   "outputs": [
    {
     "name": "stderr",
     "output_type": "stream",
     "text": [
      "C:\\Users\\mikel\\AppData\\Local\\Temp\\ipykernel_12748\\1450764005.py:22: UserWarning: pandas only supports SQLAlchemy connectable (engine/connection) or database string URI or sqlite3 DBAPI2 connection. Other DBAPI2 objects are not tested. Please consider using SQLAlchemy.\n",
      "  return pd.read_sql_query(query, conn)\n"
     ]
    },
    {
     "name": "stdout",
     "output_type": "stream",
     "text": [
      "\n",
      "=== ANÁLISIS DE CONSISTENCIA DE DATOS ===\n",
      "\n",
      "Estadísticas Generales:\n",
      "--------------------------------------------------\n",
      "total_registros: 340322\n",
      "dias_unicos: 366\n",
      "tipos_operacion_unicos: 12\n",
      "emisores_unicos: 1530\n",
      "receptores_unicos: 1339\n",
      "suma_total: 6,500,191.99 €\n",
      "promedio_operacion: 19.10 €\n",
      "min_cantidad: 0.00 €\n",
      "max_cantidad: 15,000.00 €\n",
      "operaciones_negativas: 0\n",
      "operaciones_positivas: 340244\n",
      "operaciones_cero: 78\n",
      "\n",
      "Balance por Tipo de Operación:\n",
      "--------------------------------------------------\n",
      "              Operacion  num_operaciones  total_por_tipo  promedio_por_tipo  min_por_tipo  max_por_tipo\n",
      "         Pago a usuario           112779      3430730.90          30.419944          0.00       2060.00\n",
      "         Conversión a €              969      1267647.50        1308.201754          1.00      15000.00\n",
      "    Recarga por tarjeta             9306      1255837.00         134.949173         50.00        500.00\n",
      "         Cobro desde QR            12894       299646.69          23.239235          0.01        500.00\n",
      "Bonificación por compra           100064       153011.49           1.529136          0.00        100.00\n",
      "   Descuento automático            81066        50318.25           0.620707          0.01         97.83\n",
      "  Comisión por retirada              967        14838.46          15.344840          0.01        181.50\n",
      " Cuota mensual de socio             6031        11760.45           1.950000          1.95          1.95\n",
      "         Cuota de socio              651         6510.00          10.000000         10.00         10.00\n",
      "         Cuota variable             1512         6129.16           4.053677          0.01         42.17\n",
      "               Donación            14069         3452.22           0.245378          0.01          4.26\n",
      "  Transferencia interna               14          309.87          22.133571          0.01        102.76\n"
     ]
    },
    {
     "name": "stderr",
     "output_type": "stream",
     "text": [
      "C:\\Users\\mikel\\AppData\\Local\\Temp\\ipykernel_12748\\1450764005.py:22: UserWarning: pandas only supports SQLAlchemy connectable (engine/connection) or database string URI or sqlite3 DBAPI2 connection. Other DBAPI2 objects are not tested. Please consider using SQLAlchemy.\n",
      "  return pd.read_sql_query(query, conn)\n"
     ]
    },
    {
     "name": "stdout",
     "output_type": "stream",
     "text": [
      "\n",
      "Balance por Año:\n",
      "--------------------------------------------------\n",
      " año  operaciones_por_año  total_por_año\n",
      "2024               340322     6500191.99\n"
     ]
    },
    {
     "data": {
      "application/vnd.plotly.v1+json": {
       "config": {
        "plotlyServerURL": "https://plot.ly"
       },
       "data": [
        {
         "name": "Total por Tipo",
         "text": [
          3430730.9,
          1267647.5,
          1255837,
          299646.69,
          153011.49,
          50318.25,
          14838.46,
          11760.45,
          6510,
          6129.16,
          3452.22,
          309.87
         ],
         "textposition": "auto",
         "type": "bar",
         "x": [
          "Pago a usuario",
          "Conversión a €",
          "Recarga por tarjeta",
          "Cobro desde QR",
          "Bonificación por compra",
          "Descuento automático",
          "Comisión por retirada",
          "Cuota mensual de socio",
          "Cuota de socio",
          "Cuota variable",
          "Donación",
          "Transferencia interna"
         ],
         "y": [
          3430730.9,
          1267647.5,
          1255837,
          299646.69,
          153011.49,
          50318.25,
          14838.46,
          11760.45,
          6510,
          6129.16,
          3452.22,
          309.87
         ]
        }
       ],
       "layout": {
        "template": {
         "data": {
          "bar": [
           {
            "error_x": {
             "color": "#2a3f5f"
            },
            "error_y": {
             "color": "#2a3f5f"
            },
            "marker": {
             "line": {
              "color": "white",
              "width": 0.5
             },
             "pattern": {
              "fillmode": "overlay",
              "size": 10,
              "solidity": 0.2
             }
            },
            "type": "bar"
           }
          ],
          "barpolar": [
           {
            "marker": {
             "line": {
              "color": "white",
              "width": 0.5
             },
             "pattern": {
              "fillmode": "overlay",
              "size": 10,
              "solidity": 0.2
             }
            },
            "type": "barpolar"
           }
          ],
          "carpet": [
           {
            "aaxis": {
             "endlinecolor": "#2a3f5f",
             "gridcolor": "#C8D4E3",
             "linecolor": "#C8D4E3",
             "minorgridcolor": "#C8D4E3",
             "startlinecolor": "#2a3f5f"
            },
            "baxis": {
             "endlinecolor": "#2a3f5f",
             "gridcolor": "#C8D4E3",
             "linecolor": "#C8D4E3",
             "minorgridcolor": "#C8D4E3",
             "startlinecolor": "#2a3f5f"
            },
            "type": "carpet"
           }
          ],
          "choropleth": [
           {
            "colorbar": {
             "outlinewidth": 0,
             "ticks": ""
            },
            "type": "choropleth"
           }
          ],
          "contour": [
           {
            "colorbar": {
             "outlinewidth": 0,
             "ticks": ""
            },
            "colorscale": [
             [
              0,
              "#0d0887"
             ],
             [
              0.1111111111111111,
              "#46039f"
             ],
             [
              0.2222222222222222,
              "#7201a8"
             ],
             [
              0.3333333333333333,
              "#9c179e"
             ],
             [
              0.4444444444444444,
              "#bd3786"
             ],
             [
              0.5555555555555556,
              "#d8576b"
             ],
             [
              0.6666666666666666,
              "#ed7953"
             ],
             [
              0.7777777777777778,
              "#fb9f3a"
             ],
             [
              0.8888888888888888,
              "#fdca26"
             ],
             [
              1,
              "#f0f921"
             ]
            ],
            "type": "contour"
           }
          ],
          "contourcarpet": [
           {
            "colorbar": {
             "outlinewidth": 0,
             "ticks": ""
            },
            "type": "contourcarpet"
           }
          ],
          "heatmap": [
           {
            "colorbar": {
             "outlinewidth": 0,
             "ticks": ""
            },
            "colorscale": [
             [
              0,
              "#0d0887"
             ],
             [
              0.1111111111111111,
              "#46039f"
             ],
             [
              0.2222222222222222,
              "#7201a8"
             ],
             [
              0.3333333333333333,
              "#9c179e"
             ],
             [
              0.4444444444444444,
              "#bd3786"
             ],
             [
              0.5555555555555556,
              "#d8576b"
             ],
             [
              0.6666666666666666,
              "#ed7953"
             ],
             [
              0.7777777777777778,
              "#fb9f3a"
             ],
             [
              0.8888888888888888,
              "#fdca26"
             ],
             [
              1,
              "#f0f921"
             ]
            ],
            "type": "heatmap"
           }
          ],
          "heatmapgl": [
           {
            "colorbar": {
             "outlinewidth": 0,
             "ticks": ""
            },
            "colorscale": [
             [
              0,
              "#0d0887"
             ],
             [
              0.1111111111111111,
              "#46039f"
             ],
             [
              0.2222222222222222,
              "#7201a8"
             ],
             [
              0.3333333333333333,
              "#9c179e"
             ],
             [
              0.4444444444444444,
              "#bd3786"
             ],
             [
              0.5555555555555556,
              "#d8576b"
             ],
             [
              0.6666666666666666,
              "#ed7953"
             ],
             [
              0.7777777777777778,
              "#fb9f3a"
             ],
             [
              0.8888888888888888,
              "#fdca26"
             ],
             [
              1,
              "#f0f921"
             ]
            ],
            "type": "heatmapgl"
           }
          ],
          "histogram": [
           {
            "marker": {
             "pattern": {
              "fillmode": "overlay",
              "size": 10,
              "solidity": 0.2
             }
            },
            "type": "histogram"
           }
          ],
          "histogram2d": [
           {
            "colorbar": {
             "outlinewidth": 0,
             "ticks": ""
            },
            "colorscale": [
             [
              0,
              "#0d0887"
             ],
             [
              0.1111111111111111,
              "#46039f"
             ],
             [
              0.2222222222222222,
              "#7201a8"
             ],
             [
              0.3333333333333333,
              "#9c179e"
             ],
             [
              0.4444444444444444,
              "#bd3786"
             ],
             [
              0.5555555555555556,
              "#d8576b"
             ],
             [
              0.6666666666666666,
              "#ed7953"
             ],
             [
              0.7777777777777778,
              "#fb9f3a"
             ],
             [
              0.8888888888888888,
              "#fdca26"
             ],
             [
              1,
              "#f0f921"
             ]
            ],
            "type": "histogram2d"
           }
          ],
          "histogram2dcontour": [
           {
            "colorbar": {
             "outlinewidth": 0,
             "ticks": ""
            },
            "colorscale": [
             [
              0,
              "#0d0887"
             ],
             [
              0.1111111111111111,
              "#46039f"
             ],
             [
              0.2222222222222222,
              "#7201a8"
             ],
             [
              0.3333333333333333,
              "#9c179e"
             ],
             [
              0.4444444444444444,
              "#bd3786"
             ],
             [
              0.5555555555555556,
              "#d8576b"
             ],
             [
              0.6666666666666666,
              "#ed7953"
             ],
             [
              0.7777777777777778,
              "#fb9f3a"
             ],
             [
              0.8888888888888888,
              "#fdca26"
             ],
             [
              1,
              "#f0f921"
             ]
            ],
            "type": "histogram2dcontour"
           }
          ],
          "mesh3d": [
           {
            "colorbar": {
             "outlinewidth": 0,
             "ticks": ""
            },
            "type": "mesh3d"
           }
          ],
          "parcoords": [
           {
            "line": {
             "colorbar": {
              "outlinewidth": 0,
              "ticks": ""
             }
            },
            "type": "parcoords"
           }
          ],
          "pie": [
           {
            "automargin": true,
            "type": "pie"
           }
          ],
          "scatter": [
           {
            "fillpattern": {
             "fillmode": "overlay",
             "size": 10,
             "solidity": 0.2
            },
            "type": "scatter"
           }
          ],
          "scatter3d": [
           {
            "line": {
             "colorbar": {
              "outlinewidth": 0,
              "ticks": ""
             }
            },
            "marker": {
             "colorbar": {
              "outlinewidth": 0,
              "ticks": ""
             }
            },
            "type": "scatter3d"
           }
          ],
          "scattercarpet": [
           {
            "marker": {
             "colorbar": {
              "outlinewidth": 0,
              "ticks": ""
             }
            },
            "type": "scattercarpet"
           }
          ],
          "scattergeo": [
           {
            "marker": {
             "colorbar": {
              "outlinewidth": 0,
              "ticks": ""
             }
            },
            "type": "scattergeo"
           }
          ],
          "scattergl": [
           {
            "marker": {
             "colorbar": {
              "outlinewidth": 0,
              "ticks": ""
             }
            },
            "type": "scattergl"
           }
          ],
          "scattermapbox": [
           {
            "marker": {
             "colorbar": {
              "outlinewidth": 0,
              "ticks": ""
             }
            },
            "type": "scattermapbox"
           }
          ],
          "scatterpolar": [
           {
            "marker": {
             "colorbar": {
              "outlinewidth": 0,
              "ticks": ""
             }
            },
            "type": "scatterpolar"
           }
          ],
          "scatterpolargl": [
           {
            "marker": {
             "colorbar": {
              "outlinewidth": 0,
              "ticks": ""
             }
            },
            "type": "scatterpolargl"
           }
          ],
          "scatterternary": [
           {
            "marker": {
             "colorbar": {
              "outlinewidth": 0,
              "ticks": ""
             }
            },
            "type": "scatterternary"
           }
          ],
          "surface": [
           {
            "colorbar": {
             "outlinewidth": 0,
             "ticks": ""
            },
            "colorscale": [
             [
              0,
              "#0d0887"
             ],
             [
              0.1111111111111111,
              "#46039f"
             ],
             [
              0.2222222222222222,
              "#7201a8"
             ],
             [
              0.3333333333333333,
              "#9c179e"
             ],
             [
              0.4444444444444444,
              "#bd3786"
             ],
             [
              0.5555555555555556,
              "#d8576b"
             ],
             [
              0.6666666666666666,
              "#ed7953"
             ],
             [
              0.7777777777777778,
              "#fb9f3a"
             ],
             [
              0.8888888888888888,
              "#fdca26"
             ],
             [
              1,
              "#f0f921"
             ]
            ],
            "type": "surface"
           }
          ],
          "table": [
           {
            "cells": {
             "fill": {
              "color": "#EBF0F8"
             },
             "line": {
              "color": "white"
             }
            },
            "header": {
             "fill": {
              "color": "#C8D4E3"
             },
             "line": {
              "color": "white"
             }
            },
            "type": "table"
           }
          ]
         },
         "layout": {
          "annotationdefaults": {
           "arrowcolor": "#2a3f5f",
           "arrowhead": 0,
           "arrowwidth": 1
          },
          "autotypenumbers": "strict",
          "coloraxis": {
           "colorbar": {
            "outlinewidth": 0,
            "ticks": ""
           }
          },
          "colorscale": {
           "diverging": [
            [
             0,
             "#8e0152"
            ],
            [
             0.1,
             "#c51b7d"
            ],
            [
             0.2,
             "#de77ae"
            ],
            [
             0.3,
             "#f1b6da"
            ],
            [
             0.4,
             "#fde0ef"
            ],
            [
             0.5,
             "#f7f7f7"
            ],
            [
             0.6,
             "#e6f5d0"
            ],
            [
             0.7,
             "#b8e186"
            ],
            [
             0.8,
             "#7fbc41"
            ],
            [
             0.9,
             "#4d9221"
            ],
            [
             1,
             "#276419"
            ]
           ],
           "sequential": [
            [
             0,
             "#0d0887"
            ],
            [
             0.1111111111111111,
             "#46039f"
            ],
            [
             0.2222222222222222,
             "#7201a8"
            ],
            [
             0.3333333333333333,
             "#9c179e"
            ],
            [
             0.4444444444444444,
             "#bd3786"
            ],
            [
             0.5555555555555556,
             "#d8576b"
            ],
            [
             0.6666666666666666,
             "#ed7953"
            ],
            [
             0.7777777777777778,
             "#fb9f3a"
            ],
            [
             0.8888888888888888,
             "#fdca26"
            ],
            [
             1,
             "#f0f921"
            ]
           ],
           "sequentialminus": [
            [
             0,
             "#0d0887"
            ],
            [
             0.1111111111111111,
             "#46039f"
            ],
            [
             0.2222222222222222,
             "#7201a8"
            ],
            [
             0.3333333333333333,
             "#9c179e"
            ],
            [
             0.4444444444444444,
             "#bd3786"
            ],
            [
             0.5555555555555556,
             "#d8576b"
            ],
            [
             0.6666666666666666,
             "#ed7953"
            ],
            [
             0.7777777777777778,
             "#fb9f3a"
            ],
            [
             0.8888888888888888,
             "#fdca26"
            ],
            [
             1,
             "#f0f921"
            ]
           ]
          },
          "colorway": [
           "#636efa",
           "#EF553B",
           "#00cc96",
           "#ab63fa",
           "#FFA15A",
           "#19d3f3",
           "#FF6692",
           "#B6E880",
           "#FF97FF",
           "#FECB52"
          ],
          "font": {
           "color": "#2a3f5f"
          },
          "geo": {
           "bgcolor": "white",
           "lakecolor": "white",
           "landcolor": "white",
           "showlakes": true,
           "showland": true,
           "subunitcolor": "#C8D4E3"
          },
          "hoverlabel": {
           "align": "left"
          },
          "hovermode": "closest",
          "mapbox": {
           "style": "light"
          },
          "paper_bgcolor": "white",
          "plot_bgcolor": "white",
          "polar": {
           "angularaxis": {
            "gridcolor": "#EBF0F8",
            "linecolor": "#EBF0F8",
            "ticks": ""
           },
           "bgcolor": "white",
           "radialaxis": {
            "gridcolor": "#EBF0F8",
            "linecolor": "#EBF0F8",
            "ticks": ""
           }
          },
          "scene": {
           "xaxis": {
            "backgroundcolor": "white",
            "gridcolor": "#DFE8F3",
            "gridwidth": 2,
            "linecolor": "#EBF0F8",
            "showbackground": true,
            "ticks": "",
            "zerolinecolor": "#EBF0F8"
           },
           "yaxis": {
            "backgroundcolor": "white",
            "gridcolor": "#DFE8F3",
            "gridwidth": 2,
            "linecolor": "#EBF0F8",
            "showbackground": true,
            "ticks": "",
            "zerolinecolor": "#EBF0F8"
           },
           "zaxis": {
            "backgroundcolor": "white",
            "gridcolor": "#DFE8F3",
            "gridwidth": 2,
            "linecolor": "#EBF0F8",
            "showbackground": true,
            "ticks": "",
            "zerolinecolor": "#EBF0F8"
           }
          },
          "shapedefaults": {
           "line": {
            "color": "#2a3f5f"
           }
          },
          "ternary": {
           "aaxis": {
            "gridcolor": "#DFE8F3",
            "linecolor": "#A2B1C6",
            "ticks": ""
           },
           "baxis": {
            "gridcolor": "#DFE8F3",
            "linecolor": "#A2B1C6",
            "ticks": ""
           },
           "bgcolor": "white",
           "caxis": {
            "gridcolor": "#DFE8F3",
            "linecolor": "#A2B1C6",
            "ticks": ""
           }
          },
          "title": {
           "x": 0.05
          },
          "xaxis": {
           "automargin": true,
           "gridcolor": "#EBF0F8",
           "linecolor": "#EBF0F8",
           "ticks": "",
           "title": {
            "standoff": 15
           },
           "zerolinecolor": "#EBF0F8",
           "zerolinewidth": 2
          },
          "yaxis": {
           "automargin": true,
           "gridcolor": "#EBF0F8",
           "linecolor": "#EBF0F8",
           "ticks": "",
           "title": {
            "standoff": 15
           },
           "zerolinecolor": "#EBF0F8",
           "zerolinewidth": 2
          }
         }
        },
        "title": {
         "text": "Balance Total por Tipo de Operación"
        },
        "xaxis": {
         "title": {
          "text": "Tipo de Operación"
         }
        },
        "yaxis": {
         "title": {
          "text": "Total (€)"
         }
        }
       }
      }
     },
     "metadata": {},
     "output_type": "display_data"
    },
    {
     "data": {
      "application/vnd.plotly.v1+json": {
       "config": {
        "plotlyServerURL": "https://plot.ly"
       },
       "data": [
        {
         "name": "Total por Año",
         "text": [
          6500191.99
         ],
         "textposition": "auto",
         "type": "bar",
         "x": [
          "2024"
         ],
         "y": [
          6500191.99
         ]
        }
       ],
       "layout": {
        "template": {
         "data": {
          "bar": [
           {
            "error_x": {
             "color": "#2a3f5f"
            },
            "error_y": {
             "color": "#2a3f5f"
            },
            "marker": {
             "line": {
              "color": "white",
              "width": 0.5
             },
             "pattern": {
              "fillmode": "overlay",
              "size": 10,
              "solidity": 0.2
             }
            },
            "type": "bar"
           }
          ],
          "barpolar": [
           {
            "marker": {
             "line": {
              "color": "white",
              "width": 0.5
             },
             "pattern": {
              "fillmode": "overlay",
              "size": 10,
              "solidity": 0.2
             }
            },
            "type": "barpolar"
           }
          ],
          "carpet": [
           {
            "aaxis": {
             "endlinecolor": "#2a3f5f",
             "gridcolor": "#C8D4E3",
             "linecolor": "#C8D4E3",
             "minorgridcolor": "#C8D4E3",
             "startlinecolor": "#2a3f5f"
            },
            "baxis": {
             "endlinecolor": "#2a3f5f",
             "gridcolor": "#C8D4E3",
             "linecolor": "#C8D4E3",
             "minorgridcolor": "#C8D4E3",
             "startlinecolor": "#2a3f5f"
            },
            "type": "carpet"
           }
          ],
          "choropleth": [
           {
            "colorbar": {
             "outlinewidth": 0,
             "ticks": ""
            },
            "type": "choropleth"
           }
          ],
          "contour": [
           {
            "colorbar": {
             "outlinewidth": 0,
             "ticks": ""
            },
            "colorscale": [
             [
              0,
              "#0d0887"
             ],
             [
              0.1111111111111111,
              "#46039f"
             ],
             [
              0.2222222222222222,
              "#7201a8"
             ],
             [
              0.3333333333333333,
              "#9c179e"
             ],
             [
              0.4444444444444444,
              "#bd3786"
             ],
             [
              0.5555555555555556,
              "#d8576b"
             ],
             [
              0.6666666666666666,
              "#ed7953"
             ],
             [
              0.7777777777777778,
              "#fb9f3a"
             ],
             [
              0.8888888888888888,
              "#fdca26"
             ],
             [
              1,
              "#f0f921"
             ]
            ],
            "type": "contour"
           }
          ],
          "contourcarpet": [
           {
            "colorbar": {
             "outlinewidth": 0,
             "ticks": ""
            },
            "type": "contourcarpet"
           }
          ],
          "heatmap": [
           {
            "colorbar": {
             "outlinewidth": 0,
             "ticks": ""
            },
            "colorscale": [
             [
              0,
              "#0d0887"
             ],
             [
              0.1111111111111111,
              "#46039f"
             ],
             [
              0.2222222222222222,
              "#7201a8"
             ],
             [
              0.3333333333333333,
              "#9c179e"
             ],
             [
              0.4444444444444444,
              "#bd3786"
             ],
             [
              0.5555555555555556,
              "#d8576b"
             ],
             [
              0.6666666666666666,
              "#ed7953"
             ],
             [
              0.7777777777777778,
              "#fb9f3a"
             ],
             [
              0.8888888888888888,
              "#fdca26"
             ],
             [
              1,
              "#f0f921"
             ]
            ],
            "type": "heatmap"
           }
          ],
          "heatmapgl": [
           {
            "colorbar": {
             "outlinewidth": 0,
             "ticks": ""
            },
            "colorscale": [
             [
              0,
              "#0d0887"
             ],
             [
              0.1111111111111111,
              "#46039f"
             ],
             [
              0.2222222222222222,
              "#7201a8"
             ],
             [
              0.3333333333333333,
              "#9c179e"
             ],
             [
              0.4444444444444444,
              "#bd3786"
             ],
             [
              0.5555555555555556,
              "#d8576b"
             ],
             [
              0.6666666666666666,
              "#ed7953"
             ],
             [
              0.7777777777777778,
              "#fb9f3a"
             ],
             [
              0.8888888888888888,
              "#fdca26"
             ],
             [
              1,
              "#f0f921"
             ]
            ],
            "type": "heatmapgl"
           }
          ],
          "histogram": [
           {
            "marker": {
             "pattern": {
              "fillmode": "overlay",
              "size": 10,
              "solidity": 0.2
             }
            },
            "type": "histogram"
           }
          ],
          "histogram2d": [
           {
            "colorbar": {
             "outlinewidth": 0,
             "ticks": ""
            },
            "colorscale": [
             [
              0,
              "#0d0887"
             ],
             [
              0.1111111111111111,
              "#46039f"
             ],
             [
              0.2222222222222222,
              "#7201a8"
             ],
             [
              0.3333333333333333,
              "#9c179e"
             ],
             [
              0.4444444444444444,
              "#bd3786"
             ],
             [
              0.5555555555555556,
              "#d8576b"
             ],
             [
              0.6666666666666666,
              "#ed7953"
             ],
             [
              0.7777777777777778,
              "#fb9f3a"
             ],
             [
              0.8888888888888888,
              "#fdca26"
             ],
             [
              1,
              "#f0f921"
             ]
            ],
            "type": "histogram2d"
           }
          ],
          "histogram2dcontour": [
           {
            "colorbar": {
             "outlinewidth": 0,
             "ticks": ""
            },
            "colorscale": [
             [
              0,
              "#0d0887"
             ],
             [
              0.1111111111111111,
              "#46039f"
             ],
             [
              0.2222222222222222,
              "#7201a8"
             ],
             [
              0.3333333333333333,
              "#9c179e"
             ],
             [
              0.4444444444444444,
              "#bd3786"
             ],
             [
              0.5555555555555556,
              "#d8576b"
             ],
             [
              0.6666666666666666,
              "#ed7953"
             ],
             [
              0.7777777777777778,
              "#fb9f3a"
             ],
             [
              0.8888888888888888,
              "#fdca26"
             ],
             [
              1,
              "#f0f921"
             ]
            ],
            "type": "histogram2dcontour"
           }
          ],
          "mesh3d": [
           {
            "colorbar": {
             "outlinewidth": 0,
             "ticks": ""
            },
            "type": "mesh3d"
           }
          ],
          "parcoords": [
           {
            "line": {
             "colorbar": {
              "outlinewidth": 0,
              "ticks": ""
             }
            },
            "type": "parcoords"
           }
          ],
          "pie": [
           {
            "automargin": true,
            "type": "pie"
           }
          ],
          "scatter": [
           {
            "fillpattern": {
             "fillmode": "overlay",
             "size": 10,
             "solidity": 0.2
            },
            "type": "scatter"
           }
          ],
          "scatter3d": [
           {
            "line": {
             "colorbar": {
              "outlinewidth": 0,
              "ticks": ""
             }
            },
            "marker": {
             "colorbar": {
              "outlinewidth": 0,
              "ticks": ""
             }
            },
            "type": "scatter3d"
           }
          ],
          "scattercarpet": [
           {
            "marker": {
             "colorbar": {
              "outlinewidth": 0,
              "ticks": ""
             }
            },
            "type": "scattercarpet"
           }
          ],
          "scattergeo": [
           {
            "marker": {
             "colorbar": {
              "outlinewidth": 0,
              "ticks": ""
             }
            },
            "type": "scattergeo"
           }
          ],
          "scattergl": [
           {
            "marker": {
             "colorbar": {
              "outlinewidth": 0,
              "ticks": ""
             }
            },
            "type": "scattergl"
           }
          ],
          "scattermapbox": [
           {
            "marker": {
             "colorbar": {
              "outlinewidth": 0,
              "ticks": ""
             }
            },
            "type": "scattermapbox"
           }
          ],
          "scatterpolar": [
           {
            "marker": {
             "colorbar": {
              "outlinewidth": 0,
              "ticks": ""
             }
            },
            "type": "scatterpolar"
           }
          ],
          "scatterpolargl": [
           {
            "marker": {
             "colorbar": {
              "outlinewidth": 0,
              "ticks": ""
             }
            },
            "type": "scatterpolargl"
           }
          ],
          "scatterternary": [
           {
            "marker": {
             "colorbar": {
              "outlinewidth": 0,
              "ticks": ""
             }
            },
            "type": "scatterternary"
           }
          ],
          "surface": [
           {
            "colorbar": {
             "outlinewidth": 0,
             "ticks": ""
            },
            "colorscale": [
             [
              0,
              "#0d0887"
             ],
             [
              0.1111111111111111,
              "#46039f"
             ],
             [
              0.2222222222222222,
              "#7201a8"
             ],
             [
              0.3333333333333333,
              "#9c179e"
             ],
             [
              0.4444444444444444,
              "#bd3786"
             ],
             [
              0.5555555555555556,
              "#d8576b"
             ],
             [
              0.6666666666666666,
              "#ed7953"
             ],
             [
              0.7777777777777778,
              "#fb9f3a"
             ],
             [
              0.8888888888888888,
              "#fdca26"
             ],
             [
              1,
              "#f0f921"
             ]
            ],
            "type": "surface"
           }
          ],
          "table": [
           {
            "cells": {
             "fill": {
              "color": "#EBF0F8"
             },
             "line": {
              "color": "white"
             }
            },
            "header": {
             "fill": {
              "color": "#C8D4E3"
             },
             "line": {
              "color": "white"
             }
            },
            "type": "table"
           }
          ]
         },
         "layout": {
          "annotationdefaults": {
           "arrowcolor": "#2a3f5f",
           "arrowhead": 0,
           "arrowwidth": 1
          },
          "autotypenumbers": "strict",
          "coloraxis": {
           "colorbar": {
            "outlinewidth": 0,
            "ticks": ""
           }
          },
          "colorscale": {
           "diverging": [
            [
             0,
             "#8e0152"
            ],
            [
             0.1,
             "#c51b7d"
            ],
            [
             0.2,
             "#de77ae"
            ],
            [
             0.3,
             "#f1b6da"
            ],
            [
             0.4,
             "#fde0ef"
            ],
            [
             0.5,
             "#f7f7f7"
            ],
            [
             0.6,
             "#e6f5d0"
            ],
            [
             0.7,
             "#b8e186"
            ],
            [
             0.8,
             "#7fbc41"
            ],
            [
             0.9,
             "#4d9221"
            ],
            [
             1,
             "#276419"
            ]
           ],
           "sequential": [
            [
             0,
             "#0d0887"
            ],
            [
             0.1111111111111111,
             "#46039f"
            ],
            [
             0.2222222222222222,
             "#7201a8"
            ],
            [
             0.3333333333333333,
             "#9c179e"
            ],
            [
             0.4444444444444444,
             "#bd3786"
            ],
            [
             0.5555555555555556,
             "#d8576b"
            ],
            [
             0.6666666666666666,
             "#ed7953"
            ],
            [
             0.7777777777777778,
             "#fb9f3a"
            ],
            [
             0.8888888888888888,
             "#fdca26"
            ],
            [
             1,
             "#f0f921"
            ]
           ],
           "sequentialminus": [
            [
             0,
             "#0d0887"
            ],
            [
             0.1111111111111111,
             "#46039f"
            ],
            [
             0.2222222222222222,
             "#7201a8"
            ],
            [
             0.3333333333333333,
             "#9c179e"
            ],
            [
             0.4444444444444444,
             "#bd3786"
            ],
            [
             0.5555555555555556,
             "#d8576b"
            ],
            [
             0.6666666666666666,
             "#ed7953"
            ],
            [
             0.7777777777777778,
             "#fb9f3a"
            ],
            [
             0.8888888888888888,
             "#fdca26"
            ],
            [
             1,
             "#f0f921"
            ]
           ]
          },
          "colorway": [
           "#636efa",
           "#EF553B",
           "#00cc96",
           "#ab63fa",
           "#FFA15A",
           "#19d3f3",
           "#FF6692",
           "#B6E880",
           "#FF97FF",
           "#FECB52"
          ],
          "font": {
           "color": "#2a3f5f"
          },
          "geo": {
           "bgcolor": "white",
           "lakecolor": "white",
           "landcolor": "white",
           "showlakes": true,
           "showland": true,
           "subunitcolor": "#C8D4E3"
          },
          "hoverlabel": {
           "align": "left"
          },
          "hovermode": "closest",
          "mapbox": {
           "style": "light"
          },
          "paper_bgcolor": "white",
          "plot_bgcolor": "white",
          "polar": {
           "angularaxis": {
            "gridcolor": "#EBF0F8",
            "linecolor": "#EBF0F8",
            "ticks": ""
           },
           "bgcolor": "white",
           "radialaxis": {
            "gridcolor": "#EBF0F8",
            "linecolor": "#EBF0F8",
            "ticks": ""
           }
          },
          "scene": {
           "xaxis": {
            "backgroundcolor": "white",
            "gridcolor": "#DFE8F3",
            "gridwidth": 2,
            "linecolor": "#EBF0F8",
            "showbackground": true,
            "ticks": "",
            "zerolinecolor": "#EBF0F8"
           },
           "yaxis": {
            "backgroundcolor": "white",
            "gridcolor": "#DFE8F3",
            "gridwidth": 2,
            "linecolor": "#EBF0F8",
            "showbackground": true,
            "ticks": "",
            "zerolinecolor": "#EBF0F8"
           },
           "zaxis": {
            "backgroundcolor": "white",
            "gridcolor": "#DFE8F3",
            "gridwidth": 2,
            "linecolor": "#EBF0F8",
            "showbackground": true,
            "ticks": "",
            "zerolinecolor": "#EBF0F8"
           }
          },
          "shapedefaults": {
           "line": {
            "color": "#2a3f5f"
           }
          },
          "ternary": {
           "aaxis": {
            "gridcolor": "#DFE8F3",
            "linecolor": "#A2B1C6",
            "ticks": ""
           },
           "baxis": {
            "gridcolor": "#DFE8F3",
            "linecolor": "#A2B1C6",
            "ticks": ""
           },
           "bgcolor": "white",
           "caxis": {
            "gridcolor": "#DFE8F3",
            "linecolor": "#A2B1C6",
            "ticks": ""
           }
          },
          "title": {
           "x": 0.05
          },
          "xaxis": {
           "automargin": true,
           "gridcolor": "#EBF0F8",
           "linecolor": "#EBF0F8",
           "ticks": "",
           "title": {
            "standoff": 15
           },
           "zerolinecolor": "#EBF0F8",
           "zerolinewidth": 2
          },
          "yaxis": {
           "automargin": true,
           "gridcolor": "#EBF0F8",
           "linecolor": "#EBF0F8",
           "ticks": "",
           "title": {
            "standoff": 15
           },
           "zerolinecolor": "#EBF0F8",
           "zerolinewidth": 2
          }
         }
        },
        "title": {
         "text": "Balance Total por Año"
        },
        "xaxis": {
         "title": {
          "text": "Año"
         }
        },
        "yaxis": {
         "title": {
          "text": "Total (€)"
         }
        }
       }
      }
     },
     "metadata": {},
     "output_type": "display_data"
    }
   ],
   "source": [
    "# Consulta para verificar consistencia de datos\n",
    "query_consistencia = \"\"\"\n",
    "WITH stats AS (\n",
    "    SELECT \n",
    "        COUNT(*) as total_registros,\n",
    "        COUNT(DISTINCT Id_fecha) as dias_unicos,\n",
    "        COUNT(DISTINCT Id_tipo_operacion) as tipos_operacion_unicos,\n",
    "        COUNT(DISTINCT Usuario_emisor) as emisores_unicos,\n",
    "        COUNT(DISTINCT Usuario_receptor) as receptores_unicos,\n",
    "        SUM(Cantidad) as suma_total,\n",
    "        AVG(Cantidad) as promedio_operacion,\n",
    "        MIN(Cantidad) as min_cantidad,\n",
    "        MAX(Cantidad) as max_cantidad,\n",
    "        COUNT(CASE WHEN Cantidad < 0 THEN 1 END) as operaciones_negativas,\n",
    "        COUNT(CASE WHEN Cantidad > 0 THEN 1 END) as operaciones_positivas,\n",
    "        COUNT(CASE WHEN Cantidad = 0 THEN 1 END) as operaciones_cero\n",
    "    FROM fact_table\n",
    "),\n",
    "balance_por_tipo AS (\n",
    "    SELECT \n",
    "        o.Operacion,\n",
    "        COUNT(*) as num_operaciones,\n",
    "        SUM(f.Cantidad) as total_por_tipo,\n",
    "        AVG(f.Cantidad) as promedio_por_tipo,\n",
    "        MIN(f.Cantidad) as min_por_tipo,\n",
    "        MAX(f.Cantidad) as max_por_tipo\n",
    "    FROM fact_table f\n",
    "    JOIN dim_operaciones o ON f.Id_tipo_operacion = o.Id_tipo_operacion\n",
    "    GROUP BY o.Operacion\n",
    "),\n",
    "balance_por_fecha AS (\n",
    "    SELECT \n",
    "        SUBSTRING(Id_fecha, 1, 4) as año,\n",
    "        COUNT(*) as operaciones_por_año,\n",
    "        SUM(Cantidad) as total_por_año\n",
    "    FROM fact_table\n",
    "    GROUP BY SUBSTRING(Id_fecha, 1, 4)\n",
    ")\n",
    "SELECT \n",
    "    'Estadísticas Generales' as categoria,\n",
    "    total_registros,\n",
    "    dias_unicos,\n",
    "    tipos_operacion_unicos,\n",
    "    emisores_unicos,\n",
    "    receptores_unicos,\n",
    "    suma_total,\n",
    "    promedio_operacion,\n",
    "    min_cantidad,\n",
    "    max_cantidad,\n",
    "    operaciones_negativas,\n",
    "    operaciones_positivas,\n",
    "    operaciones_cero\n",
    "FROM stats;\n",
    "\"\"\"\n",
    "\n",
    "# Ejecutar la consulta\n",
    "df_consistencia = ejecutar_query(query_consistencia)\n",
    "\n",
    "# Mostrar resultados\n",
    "print(\"\\n=== ANÁLISIS DE CONSISTENCIA DE DATOS ===\")\n",
    "print(\"\\nEstadísticas Generales:\")\n",
    "print(\"-\" * 50)\n",
    "for columna in df_consistencia.columns:\n",
    "    if columna != 'categoria':\n",
    "        valor = df_consistencia[columna].iloc[0]\n",
    "        if isinstance(valor, (int, float)):\n",
    "            if columna in ['suma_total', 'promedio_operacion', 'min_cantidad', 'max_cantidad']:\n",
    "                print(f\"{columna}: {valor:,.2f} €\")\n",
    "            else:\n",
    "                print(f\"{columna}: {valor:,}\")\n",
    "        else:\n",
    "            print(f\"{columna}: {valor}\")\n",
    "\n",
    "# Consulta adicional para balance por tipo de operación\n",
    "query_balance_tipo = \"\"\"\n",
    "SELECT \n",
    "    o.Operacion,\n",
    "    COUNT(*) as num_operaciones,\n",
    "    SUM(f.Cantidad) as total_por_tipo,\n",
    "    AVG(f.Cantidad) as promedio_por_tipo,\n",
    "    MIN(f.Cantidad) as min_por_tipo,\n",
    "    MAX(f.Cantidad) as max_por_tipo\n",
    "FROM fact_table f\n",
    "JOIN dim_operaciones o ON f.Id_tipo_operacion = o.Id_tipo_operacion\n",
    "GROUP BY o.Operacion\n",
    "ORDER BY total_por_tipo DESC;\n",
    "\"\"\"\n",
    "\n",
    "df_balance_tipo = ejecutar_query(query_balance_tipo)\n",
    "\n",
    "print(\"\\nBalance por Tipo de Operación:\")\n",
    "print(\"-\" * 50)\n",
    "print(df_balance_tipo.to_string(index=False))\n",
    "\n",
    "# Consulta para balance por año\n",
    "query_balance_anual = \"\"\"\n",
    "SELECT \n",
    "    SUBSTRING(Id_fecha, 1, 4) as año,\n",
    "    COUNT(*) as operaciones_por_año,\n",
    "    SUM(Cantidad) as total_por_año\n",
    "FROM fact_table\n",
    "GROUP BY SUBSTRING(Id_fecha, 1, 4)\n",
    "ORDER BY año;\n",
    "\"\"\"\n",
    "\n",
    "df_balance_anual = ejecutar_query(query_balance_anual)\n",
    "\n",
    "print(\"\\nBalance por Año:\")\n",
    "print(\"-\" * 50)\n",
    "print(df_balance_anual.to_string(index=False))\n",
    "\n",
    "# Visualización del balance por tipo de operación\n",
    "fig = go.Figure(data=[\n",
    "    go.Bar(\n",
    "        name='Total por Tipo',\n",
    "        x=df_balance_tipo['Operacion'],\n",
    "        y=df_balance_tipo['total_por_tipo'],\n",
    "        text=df_balance_tipo['total_por_tipo'].round(2),\n",
    "        textposition='auto',\n",
    "    )\n",
    "])\n",
    "\n",
    "fig.update_layout(\n",
    "    title='Balance Total por Tipo de Operación',\n",
    "    xaxis_title='Tipo de Operación',\n",
    "    yaxis_title='Total (€)',\n",
    "    template='plotly_white'\n",
    ")\n",
    "\n",
    "fig.show()\n",
    "\n",
    "# Visualización del balance anual\n",
    "fig2 = go.Figure(data=[\n",
    "    go.Bar(\n",
    "        name='Total por Año',\n",
    "        x=df_balance_anual['año'],\n",
    "        y=df_balance_anual['total_por_año'],\n",
    "        text=df_balance_anual['total_por_año'].round(2),\n",
    "        textposition='auto',\n",
    "    )\n",
    "])\n",
    "\n",
    "fig2.update_layout(\n",
    "    title='Balance Total por Año',\n",
    "    xaxis_title='Año',\n",
    "    yaxis_title='Total (€)',\n",
    "    template='plotly_white'\n",
    ")\n",
    "\n",
    "fig2.show()"
   ]
  },
  {
   "cell_type": "markdown",
   "metadata": {},
   "source": [
    "## 2. Análisis de Tipos de Operaciones\n",
    "\n",
    "Analizamos la distribución de las operaciones y sus importes asociados."
   ]
  },
  {
   "cell_type": "code",
   "execution_count": 4,
   "metadata": {},
   "outputs": [
    {
     "name": "stderr",
     "output_type": "stream",
     "text": [
      "C:\\Users\\mikel\\AppData\\Local\\Temp\\ipykernel_12748\\1450764005.py:22: UserWarning:\n",
      "\n",
      "pandas only supports SQLAlchemy connectable (engine/connection) or database string URI or sqlite3 DBAPI2 connection. Other DBAPI2 objects are not tested. Please consider using SQLAlchemy.\n",
      "\n"
     ]
    },
    {
     "data": {
      "application/vnd.plotly.v1+json": {
       "config": {
        "plotlyServerURL": "https://plot.ly"
       },
       "data": [
        {
         "name": "Suma Total",
         "type": "bar",
         "x": [
          "Pago a usuario",
          "Conversión a €",
          "Recarga por tarjeta",
          "Cobro desde QR",
          "Bonificación por compra",
          "Descuento automático",
          "Comisión por retirada",
          "Cuota mensual de socio",
          "Cuota de socio",
          "Cuota variable",
          "Donación",
          "Transferencia interna"
         ],
         "y": [
          3430730.9,
          1267647.5,
          1255837,
          299646.69,
          153011.49,
          50318.25,
          14838.46,
          11760.45,
          6510,
          6129.16,
          3452.22,
          309.87
         ]
        }
       ],
       "layout": {
        "template": {
         "data": {
          "bar": [
           {
            "error_x": {
             "color": "#2a3f5f"
            },
            "error_y": {
             "color": "#2a3f5f"
            },
            "marker": {
             "line": {
              "color": "white",
              "width": 0.5
             },
             "pattern": {
              "fillmode": "overlay",
              "size": 10,
              "solidity": 0.2
             }
            },
            "type": "bar"
           }
          ],
          "barpolar": [
           {
            "marker": {
             "line": {
              "color": "white",
              "width": 0.5
             },
             "pattern": {
              "fillmode": "overlay",
              "size": 10,
              "solidity": 0.2
             }
            },
            "type": "barpolar"
           }
          ],
          "carpet": [
           {
            "aaxis": {
             "endlinecolor": "#2a3f5f",
             "gridcolor": "#C8D4E3",
             "linecolor": "#C8D4E3",
             "minorgridcolor": "#C8D4E3",
             "startlinecolor": "#2a3f5f"
            },
            "baxis": {
             "endlinecolor": "#2a3f5f",
             "gridcolor": "#C8D4E3",
             "linecolor": "#C8D4E3",
             "minorgridcolor": "#C8D4E3",
             "startlinecolor": "#2a3f5f"
            },
            "type": "carpet"
           }
          ],
          "choropleth": [
           {
            "colorbar": {
             "outlinewidth": 0,
             "ticks": ""
            },
            "type": "choropleth"
           }
          ],
          "contour": [
           {
            "colorbar": {
             "outlinewidth": 0,
             "ticks": ""
            },
            "colorscale": [
             [
              0,
              "#0d0887"
             ],
             [
              0.1111111111111111,
              "#46039f"
             ],
             [
              0.2222222222222222,
              "#7201a8"
             ],
             [
              0.3333333333333333,
              "#9c179e"
             ],
             [
              0.4444444444444444,
              "#bd3786"
             ],
             [
              0.5555555555555556,
              "#d8576b"
             ],
             [
              0.6666666666666666,
              "#ed7953"
             ],
             [
              0.7777777777777778,
              "#fb9f3a"
             ],
             [
              0.8888888888888888,
              "#fdca26"
             ],
             [
              1,
              "#f0f921"
             ]
            ],
            "type": "contour"
           }
          ],
          "contourcarpet": [
           {
            "colorbar": {
             "outlinewidth": 0,
             "ticks": ""
            },
            "type": "contourcarpet"
           }
          ],
          "heatmap": [
           {
            "colorbar": {
             "outlinewidth": 0,
             "ticks": ""
            },
            "colorscale": [
             [
              0,
              "#0d0887"
             ],
             [
              0.1111111111111111,
              "#46039f"
             ],
             [
              0.2222222222222222,
              "#7201a8"
             ],
             [
              0.3333333333333333,
              "#9c179e"
             ],
             [
              0.4444444444444444,
              "#bd3786"
             ],
             [
              0.5555555555555556,
              "#d8576b"
             ],
             [
              0.6666666666666666,
              "#ed7953"
             ],
             [
              0.7777777777777778,
              "#fb9f3a"
             ],
             [
              0.8888888888888888,
              "#fdca26"
             ],
             [
              1,
              "#f0f921"
             ]
            ],
            "type": "heatmap"
           }
          ],
          "heatmapgl": [
           {
            "colorbar": {
             "outlinewidth": 0,
             "ticks": ""
            },
            "colorscale": [
             [
              0,
              "#0d0887"
             ],
             [
              0.1111111111111111,
              "#46039f"
             ],
             [
              0.2222222222222222,
              "#7201a8"
             ],
             [
              0.3333333333333333,
              "#9c179e"
             ],
             [
              0.4444444444444444,
              "#bd3786"
             ],
             [
              0.5555555555555556,
              "#d8576b"
             ],
             [
              0.6666666666666666,
              "#ed7953"
             ],
             [
              0.7777777777777778,
              "#fb9f3a"
             ],
             [
              0.8888888888888888,
              "#fdca26"
             ],
             [
              1,
              "#f0f921"
             ]
            ],
            "type": "heatmapgl"
           }
          ],
          "histogram": [
           {
            "marker": {
             "pattern": {
              "fillmode": "overlay",
              "size": 10,
              "solidity": 0.2
             }
            },
            "type": "histogram"
           }
          ],
          "histogram2d": [
           {
            "colorbar": {
             "outlinewidth": 0,
             "ticks": ""
            },
            "colorscale": [
             [
              0,
              "#0d0887"
             ],
             [
              0.1111111111111111,
              "#46039f"
             ],
             [
              0.2222222222222222,
              "#7201a8"
             ],
             [
              0.3333333333333333,
              "#9c179e"
             ],
             [
              0.4444444444444444,
              "#bd3786"
             ],
             [
              0.5555555555555556,
              "#d8576b"
             ],
             [
              0.6666666666666666,
              "#ed7953"
             ],
             [
              0.7777777777777778,
              "#fb9f3a"
             ],
             [
              0.8888888888888888,
              "#fdca26"
             ],
             [
              1,
              "#f0f921"
             ]
            ],
            "type": "histogram2d"
           }
          ],
          "histogram2dcontour": [
           {
            "colorbar": {
             "outlinewidth": 0,
             "ticks": ""
            },
            "colorscale": [
             [
              0,
              "#0d0887"
             ],
             [
              0.1111111111111111,
              "#46039f"
             ],
             [
              0.2222222222222222,
              "#7201a8"
             ],
             [
              0.3333333333333333,
              "#9c179e"
             ],
             [
              0.4444444444444444,
              "#bd3786"
             ],
             [
              0.5555555555555556,
              "#d8576b"
             ],
             [
              0.6666666666666666,
              "#ed7953"
             ],
             [
              0.7777777777777778,
              "#fb9f3a"
             ],
             [
              0.8888888888888888,
              "#fdca26"
             ],
             [
              1,
              "#f0f921"
             ]
            ],
            "type": "histogram2dcontour"
           }
          ],
          "mesh3d": [
           {
            "colorbar": {
             "outlinewidth": 0,
             "ticks": ""
            },
            "type": "mesh3d"
           }
          ],
          "parcoords": [
           {
            "line": {
             "colorbar": {
              "outlinewidth": 0,
              "ticks": ""
             }
            },
            "type": "parcoords"
           }
          ],
          "pie": [
           {
            "automargin": true,
            "type": "pie"
           }
          ],
          "scatter": [
           {
            "fillpattern": {
             "fillmode": "overlay",
             "size": 10,
             "solidity": 0.2
            },
            "type": "scatter"
           }
          ],
          "scatter3d": [
           {
            "line": {
             "colorbar": {
              "outlinewidth": 0,
              "ticks": ""
             }
            },
            "marker": {
             "colorbar": {
              "outlinewidth": 0,
              "ticks": ""
             }
            },
            "type": "scatter3d"
           }
          ],
          "scattercarpet": [
           {
            "marker": {
             "colorbar": {
              "outlinewidth": 0,
              "ticks": ""
             }
            },
            "type": "scattercarpet"
           }
          ],
          "scattergeo": [
           {
            "marker": {
             "colorbar": {
              "outlinewidth": 0,
              "ticks": ""
             }
            },
            "type": "scattergeo"
           }
          ],
          "scattergl": [
           {
            "marker": {
             "colorbar": {
              "outlinewidth": 0,
              "ticks": ""
             }
            },
            "type": "scattergl"
           }
          ],
          "scattermapbox": [
           {
            "marker": {
             "colorbar": {
              "outlinewidth": 0,
              "ticks": ""
             }
            },
            "type": "scattermapbox"
           }
          ],
          "scatterpolar": [
           {
            "marker": {
             "colorbar": {
              "outlinewidth": 0,
              "ticks": ""
             }
            },
            "type": "scatterpolar"
           }
          ],
          "scatterpolargl": [
           {
            "marker": {
             "colorbar": {
              "outlinewidth": 0,
              "ticks": ""
             }
            },
            "type": "scatterpolargl"
           }
          ],
          "scatterternary": [
           {
            "marker": {
             "colorbar": {
              "outlinewidth": 0,
              "ticks": ""
             }
            },
            "type": "scatterternary"
           }
          ],
          "surface": [
           {
            "colorbar": {
             "outlinewidth": 0,
             "ticks": ""
            },
            "colorscale": [
             [
              0,
              "#0d0887"
             ],
             [
              0.1111111111111111,
              "#46039f"
             ],
             [
              0.2222222222222222,
              "#7201a8"
             ],
             [
              0.3333333333333333,
              "#9c179e"
             ],
             [
              0.4444444444444444,
              "#bd3786"
             ],
             [
              0.5555555555555556,
              "#d8576b"
             ],
             [
              0.6666666666666666,
              "#ed7953"
             ],
             [
              0.7777777777777778,
              "#fb9f3a"
             ],
             [
              0.8888888888888888,
              "#fdca26"
             ],
             [
              1,
              "#f0f921"
             ]
            ],
            "type": "surface"
           }
          ],
          "table": [
           {
            "cells": {
             "fill": {
              "color": "#EBF0F8"
             },
             "line": {
              "color": "white"
             }
            },
            "header": {
             "fill": {
              "color": "#C8D4E3"
             },
             "line": {
              "color": "white"
             }
            },
            "type": "table"
           }
          ]
         },
         "layout": {
          "annotationdefaults": {
           "arrowcolor": "#2a3f5f",
           "arrowhead": 0,
           "arrowwidth": 1
          },
          "autotypenumbers": "strict",
          "coloraxis": {
           "colorbar": {
            "outlinewidth": 0,
            "ticks": ""
           }
          },
          "colorscale": {
           "diverging": [
            [
             0,
             "#8e0152"
            ],
            [
             0.1,
             "#c51b7d"
            ],
            [
             0.2,
             "#de77ae"
            ],
            [
             0.3,
             "#f1b6da"
            ],
            [
             0.4,
             "#fde0ef"
            ],
            [
             0.5,
             "#f7f7f7"
            ],
            [
             0.6,
             "#e6f5d0"
            ],
            [
             0.7,
             "#b8e186"
            ],
            [
             0.8,
             "#7fbc41"
            ],
            [
             0.9,
             "#4d9221"
            ],
            [
             1,
             "#276419"
            ]
           ],
           "sequential": [
            [
             0,
             "#0d0887"
            ],
            [
             0.1111111111111111,
             "#46039f"
            ],
            [
             0.2222222222222222,
             "#7201a8"
            ],
            [
             0.3333333333333333,
             "#9c179e"
            ],
            [
             0.4444444444444444,
             "#bd3786"
            ],
            [
             0.5555555555555556,
             "#d8576b"
            ],
            [
             0.6666666666666666,
             "#ed7953"
            ],
            [
             0.7777777777777778,
             "#fb9f3a"
            ],
            [
             0.8888888888888888,
             "#fdca26"
            ],
            [
             1,
             "#f0f921"
            ]
           ],
           "sequentialminus": [
            [
             0,
             "#0d0887"
            ],
            [
             0.1111111111111111,
             "#46039f"
            ],
            [
             0.2222222222222222,
             "#7201a8"
            ],
            [
             0.3333333333333333,
             "#9c179e"
            ],
            [
             0.4444444444444444,
             "#bd3786"
            ],
            [
             0.5555555555555556,
             "#d8576b"
            ],
            [
             0.6666666666666666,
             "#ed7953"
            ],
            [
             0.7777777777777778,
             "#fb9f3a"
            ],
            [
             0.8888888888888888,
             "#fdca26"
            ],
            [
             1,
             "#f0f921"
            ]
           ]
          },
          "colorway": [
           "#636efa",
           "#EF553B",
           "#00cc96",
           "#ab63fa",
           "#FFA15A",
           "#19d3f3",
           "#FF6692",
           "#B6E880",
           "#FF97FF",
           "#FECB52"
          ],
          "font": {
           "color": "#2a3f5f"
          },
          "geo": {
           "bgcolor": "white",
           "lakecolor": "white",
           "landcolor": "white",
           "showlakes": true,
           "showland": true,
           "subunitcolor": "#C8D4E3"
          },
          "hoverlabel": {
           "align": "left"
          },
          "hovermode": "closest",
          "mapbox": {
           "style": "light"
          },
          "paper_bgcolor": "white",
          "plot_bgcolor": "white",
          "polar": {
           "angularaxis": {
            "gridcolor": "#EBF0F8",
            "linecolor": "#EBF0F8",
            "ticks": ""
           },
           "bgcolor": "white",
           "radialaxis": {
            "gridcolor": "#EBF0F8",
            "linecolor": "#EBF0F8",
            "ticks": ""
           }
          },
          "scene": {
           "xaxis": {
            "backgroundcolor": "white",
            "gridcolor": "#DFE8F3",
            "gridwidth": 2,
            "linecolor": "#EBF0F8",
            "showbackground": true,
            "ticks": "",
            "zerolinecolor": "#EBF0F8"
           },
           "yaxis": {
            "backgroundcolor": "white",
            "gridcolor": "#DFE8F3",
            "gridwidth": 2,
            "linecolor": "#EBF0F8",
            "showbackground": true,
            "ticks": "",
            "zerolinecolor": "#EBF0F8"
           },
           "zaxis": {
            "backgroundcolor": "white",
            "gridcolor": "#DFE8F3",
            "gridwidth": 2,
            "linecolor": "#EBF0F8",
            "showbackground": true,
            "ticks": "",
            "zerolinecolor": "#EBF0F8"
           }
          },
          "shapedefaults": {
           "line": {
            "color": "#2a3f5f"
           }
          },
          "ternary": {
           "aaxis": {
            "gridcolor": "#DFE8F3",
            "linecolor": "#A2B1C6",
            "ticks": ""
           },
           "baxis": {
            "gridcolor": "#DFE8F3",
            "linecolor": "#A2B1C6",
            "ticks": ""
           },
           "bgcolor": "white",
           "caxis": {
            "gridcolor": "#DFE8F3",
            "linecolor": "#A2B1C6",
            "ticks": ""
           }
          },
          "title": {
           "x": 0.05
          },
          "xaxis": {
           "automargin": true,
           "gridcolor": "#EBF0F8",
           "linecolor": "#EBF0F8",
           "ticks": "",
           "title": {
            "standoff": 15
           },
           "zerolinecolor": "#EBF0F8",
           "zerolinewidth": 2
          },
          "yaxis": {
           "automargin": true,
           "gridcolor": "#EBF0F8",
           "linecolor": "#EBF0F8",
           "ticks": "",
           "title": {
            "standoff": 15
           },
           "zerolinecolor": "#EBF0F8",
           "zerolinewidth": 2
          }
         }
        },
        "title": {
         "text": "Volumen Total por Tipo de Operación"
        },
        "xaxis": {
         "title": {
          "text": "Tipo de Operación"
         }
        },
        "yaxis": {
         "title": {
          "text": "Suma Total (€)"
         }
        }
       }
      }
     },
     "metadata": {},
     "output_type": "display_data"
    }
   ],
   "source": [
    "# Consulta para obtener los tipos de operaciones y sus estadísticas\n",
    "query_operaciones = \"\"\"\n",
    "SELECT \n",
    "    o.Operacion,\n",
    "    COUNT(*) as total_operaciones,\n",
    "    SUM(f.Cantidad) as suma_total,\n",
    "    AVG(f.Cantidad) as promedio_importe\n",
    "FROM fact_table f\n",
    "JOIN dim_operaciones o ON f.Id_tipo_operacion = o.Id_tipo_operacion\n",
    "GROUP BY o.Operacion\n",
    "ORDER BY suma_total DESC;\n",
    "\"\"\"\n",
    "\n",
    "df_operaciones = ejecutar_query(query_operaciones)\n",
    "\n",
    "# Crear gráfico de barras con Plotly\n",
    "fig = go.Figure(data=[\n",
    "    go.Bar(name='Suma Total', x=df_operaciones['Operacion'], y=df_operaciones['suma_total'])\n",
    "])\n",
    "\n",
    "fig.update_layout(\n",
    "    title='Volumen Total por Tipo de Operación',\n",
    "    xaxis_title='Tipo de Operación',\n",
    "    yaxis_title='Suma Total (€)',\n",
    "    template='plotly_white'\n",
    ")\n",
    "\n",
    "fig.show()"
   ]
  },
  {
   "cell_type": "markdown",
   "metadata": {},
   "source": [
    "## 3. Análisis Temporal de Transacciones\n",
    "\n",
    "Analizamos cómo evolucionan las transacciones a lo largo del tiempo."
   ]
  },
  {
   "cell_type": "code",
   "execution_count": 5,
   "metadata": {},
   "outputs": [
    {
     "name": "stderr",
     "output_type": "stream",
     "text": [
      "C:\\Users\\mikel\\AppData\\Local\\Temp\\ipykernel_12748\\1450764005.py:22: UserWarning:\n",
      "\n",
      "pandas only supports SQLAlchemy connectable (engine/connection) or database string URI or sqlite3 DBAPI2 connection. Other DBAPI2 objects are not tested. Please consider using SQLAlchemy.\n",
      "\n"
     ]
    },
    {
     "data": {
      "application/vnd.plotly.v1+json": {
       "config": {
        "plotlyServerURL": "https://plot.ly"
       },
       "data": [
        {
         "hovertemplate": "Operacion=Bonificación por compra<br>fecha=%{x}<br>suma_diaria=%{y}<extra></extra>",
         "legendgroup": "Bonificación por compra",
         "line": {
          "color": "#636efa",
          "dash": "solid"
         },
         "marker": {
          "symbol": "circle"
         },
         "mode": "lines",
         "name": "Bonificación por compra",
         "showlegend": true,
         "type": "scattergl",
         "x": [
          "2024-01-01",
          "2024-01-02",
          "2024-01-03",
          "2024-01-04",
          "2024-01-05",
          "2024-01-06",
          "2024-01-07",
          "2024-01-08",
          "2024-01-09",
          "2024-01-10",
          "2024-01-11",
          "2024-01-12",
          "2024-01-13",
          "2024-01-14",
          "2024-01-15",
          "2024-01-16",
          "2024-01-17",
          "2024-01-18",
          "2024-01-19",
          "2024-01-20",
          "2024-01-21",
          "2024-01-22",
          "2024-01-23",
          "2024-01-24",
          "2024-01-25",
          "2024-01-26",
          "2024-01-27",
          "2024-01-28",
          "2024-01-29",
          "2024-01-30",
          "2024-01-31",
          "2024-02-01",
          "2024-02-02",
          "2024-02-03",
          "2024-02-04",
          "2024-02-05",
          "2024-02-06",
          "2024-02-07",
          "2024-02-08",
          "2024-02-09",
          "2024-02-10",
          "2024-02-11",
          "2024-02-12",
          "2024-02-13",
          "2024-02-14",
          "2024-02-15",
          "2024-02-16",
          "2024-02-17",
          "2024-02-18",
          "2024-02-19",
          "2024-02-20",
          "2024-02-21",
          "2024-02-22",
          "2024-02-23",
          "2024-02-24",
          "2024-02-25",
          "2024-02-26",
          "2024-02-27",
          "2024-02-28",
          "2024-02-29",
          "2024-03-01",
          "2024-03-02",
          "2024-03-03",
          "2024-03-04",
          "2024-03-05",
          "2024-03-06",
          "2024-03-07",
          "2024-03-08",
          "2024-03-09",
          "2024-03-10",
          "2024-03-11",
          "2024-03-12",
          "2024-03-13",
          "2024-03-14",
          "2024-03-15",
          "2024-03-16",
          "2024-03-17",
          "2024-03-18",
          "2024-03-19",
          "2024-03-20",
          "2024-03-21",
          "2024-03-22",
          "2024-03-23",
          "2024-03-24",
          "2024-03-25",
          "2024-03-26",
          "2024-03-27",
          "2024-03-28",
          "2024-03-29",
          "2024-03-30",
          "2024-03-31",
          "2024-04-01",
          "2024-04-02",
          "2024-04-03",
          "2024-04-04",
          "2024-04-05",
          "2024-04-06",
          "2024-04-07",
          "2024-04-08",
          "2024-04-09",
          "2024-04-10",
          "2024-04-11",
          "2024-04-12",
          "2024-04-13",
          "2024-04-14",
          "2024-04-15",
          "2024-04-16",
          "2024-04-17",
          "2024-04-18",
          "2024-04-19",
          "2024-04-20",
          "2024-04-21",
          "2024-04-22",
          "2024-04-23",
          "2024-04-24",
          "2024-04-25",
          "2024-04-26",
          "2024-04-27",
          "2024-04-28",
          "2024-04-29",
          "2024-04-30",
          "2024-05-01",
          "2024-05-02",
          "2024-05-03",
          "2024-05-04",
          "2024-05-05",
          "2024-05-06",
          "2024-05-07",
          "2024-05-08",
          "2024-05-09",
          "2024-05-10",
          "2024-05-11",
          "2024-05-12",
          "2024-05-13",
          "2024-05-14",
          "2024-05-15",
          "2024-05-16",
          "2024-05-17",
          "2024-05-18",
          "2024-05-19",
          "2024-05-20",
          "2024-05-21",
          "2024-05-22",
          "2024-05-23",
          "2024-05-24",
          "2024-05-25",
          "2024-05-26",
          "2024-05-27",
          "2024-05-28",
          "2024-05-29",
          "2024-05-30",
          "2024-05-31",
          "2024-06-01",
          "2024-06-02",
          "2024-06-03",
          "2024-06-04",
          "2024-06-05",
          "2024-06-06",
          "2024-06-07",
          "2024-06-08",
          "2024-06-09",
          "2024-06-10",
          "2024-06-11",
          "2024-06-12",
          "2024-06-13",
          "2024-06-14",
          "2024-06-15",
          "2024-06-16",
          "2024-06-17",
          "2024-06-18",
          "2024-06-19",
          "2024-06-20",
          "2024-06-21",
          "2024-06-22",
          "2024-06-23",
          "2024-06-24",
          "2024-06-25",
          "2024-06-26",
          "2024-06-27",
          "2024-06-28",
          "2024-06-29",
          "2024-06-30",
          "2024-07-01",
          "2024-07-02",
          "2024-07-03",
          "2024-07-04",
          "2024-07-05",
          "2024-07-06",
          "2024-07-07",
          "2024-07-08",
          "2024-07-09",
          "2024-07-10",
          "2024-07-11",
          "2024-07-12",
          "2024-07-13",
          "2024-07-14",
          "2024-07-15",
          "2024-07-16",
          "2024-07-17",
          "2024-07-18",
          "2024-07-19",
          "2024-07-20",
          "2024-07-21",
          "2024-07-22",
          "2024-07-23",
          "2024-07-24",
          "2024-07-25",
          "2024-07-26",
          "2024-07-27",
          "2024-07-28",
          "2024-07-29",
          "2024-07-30",
          "2024-07-31",
          "2024-08-01",
          "2024-08-02",
          "2024-08-03",
          "2024-08-04",
          "2024-08-05",
          "2024-08-06",
          "2024-08-07",
          "2024-08-08",
          "2024-08-09",
          "2024-08-10",
          "2024-08-11",
          "2024-08-12",
          "2024-08-13",
          "2024-08-14",
          "2024-08-15",
          "2024-08-16",
          "2024-08-17",
          "2024-08-18",
          "2024-08-19",
          "2024-08-20",
          "2024-08-21",
          "2024-08-22",
          "2024-08-23",
          "2024-08-24",
          "2024-08-25",
          "2024-08-26",
          "2024-08-27",
          "2024-08-28",
          "2024-08-29",
          "2024-08-30",
          "2024-08-31",
          "2024-09-01",
          "2024-09-02",
          "2024-09-03",
          "2024-09-04",
          "2024-09-05",
          "2024-09-06",
          "2024-09-07",
          "2024-09-08",
          "2024-09-09",
          "2024-09-10",
          "2024-09-11",
          "2024-09-12",
          "2024-09-13",
          "2024-09-14",
          "2024-09-15",
          "2024-09-16",
          "2024-09-17",
          "2024-09-18",
          "2024-09-19",
          "2024-09-20",
          "2024-09-21",
          "2024-09-22",
          "2024-09-23",
          "2024-09-24",
          "2024-09-25",
          "2024-09-26",
          "2024-09-27",
          "2024-09-28",
          "2024-09-29",
          "2024-09-30",
          "2024-10-01",
          "2024-10-02",
          "2024-10-03",
          "2024-10-04",
          "2024-10-05",
          "2024-10-06",
          "2024-10-07",
          "2024-10-08",
          "2024-10-09",
          "2024-10-10",
          "2024-10-11",
          "2024-10-12",
          "2024-10-13",
          "2024-10-14",
          "2024-10-15",
          "2024-10-16",
          "2024-10-17",
          "2024-10-18",
          "2024-10-19",
          "2024-10-20",
          "2024-10-21",
          "2024-10-22",
          "2024-10-23",
          "2024-10-24",
          "2024-10-25",
          "2024-10-26",
          "2024-10-27",
          "2024-10-28",
          "2024-10-29",
          "2024-10-30",
          "2024-10-31",
          "2024-11-01",
          "2024-11-02",
          "2024-11-03",
          "2024-11-04",
          "2024-11-05",
          "2024-11-06",
          "2024-11-07",
          "2024-11-08",
          "2024-11-09",
          "2024-11-10",
          "2024-11-11",
          "2024-11-12",
          "2024-11-13",
          "2024-11-14",
          "2024-11-15",
          "2024-11-16",
          "2024-11-17",
          "2024-11-18",
          "2024-11-19",
          "2024-11-20",
          "2024-11-21",
          "2024-11-22",
          "2024-11-23",
          "2024-11-24",
          "2024-11-25",
          "2024-11-26",
          "2024-11-27",
          "2024-11-28",
          "2024-11-29",
          "2024-11-30",
          "2024-12-01",
          "2024-12-02",
          "2024-12-03",
          "2024-12-04",
          "2024-12-05",
          "2024-12-06",
          "2024-12-07",
          "2024-12-08",
          "2024-12-09",
          "2024-12-10",
          "2024-12-11",
          "2024-12-12",
          "2024-12-13",
          "2024-12-14",
          "2024-12-15",
          "2024-12-16",
          "2024-12-17",
          "2024-12-18",
          "2024-12-19",
          "2024-12-20",
          "2024-12-21",
          "2024-12-22",
          "2024-12-23",
          "2024-12-24",
          "2024-12-25",
          "2024-12-26",
          "2024-12-27",
          "2024-12-28",
          "2024-12-29",
          "2024-12-30",
          "2024-12-31"
         ],
         "xaxis": "x",
         "y": [
          11.08,
          647.94,
          593.3,
          847.02,
          979.49,
          115.32,
          38.35,
          676.03,
          787.96,
          723.88,
          601.7,
          784.36,
          465.44,
          29.86,
          481.47,
          524.8,
          672.71,
          632.56,
          635.49,
          420.29,
          48.64,
          501.06,
          544.52,
          514,
          206.29,
          0,
          0,
          0,
          0,
          0,
          0,
          893.16,
          803.02,
          509.31,
          19.4,
          601.46,
          475.76,
          502.56,
          470.71,
          535.62,
          496.03,
          70.12,
          420.27,
          381.14,
          538.75,
          539.94,
          563.38,
          438.85,
          65.53,
          560.01,
          425.89,
          529.89,
          485.12,
          772.32,
          460.37,
          65.88,
          424.84,
          407.21,
          0,
          0,
          970.07,
          552.3,
          99.68,
          515.44,
          588.35,
          538.74,
          502.96,
          552.95,
          507.45,
          85.18,
          688.53,
          551.23,
          577.32,
          710.72,
          600.8,
          496.23,
          108.16,
          584.92,
          507.52,
          505.67,
          614.11,
          702.87,
          650.95,
          31.91,
          226.55,
          0,
          0,
          0,
          0,
          0,
          0,
          159.79,
          885.86,
          562.69,
          502.66,
          492.82,
          521.09,
          45.18,
          610.31,
          560.72,
          705.23,
          491.29,
          741.03,
          597.55,
          33.27,
          524.64,
          544.77,
          470.61,
          563.51,
          635.7,
          472.09,
          27.45,
          487.95,
          620.19,
          672.37,
          530.87,
          0,
          0,
          0,
          0,
          0,
          256.12,
          827.18,
          1073.66,
          575.11,
          100.86,
          797.48,
          907.31,
          802.6,
          806.24,
          692.55,
          654.52,
          63.04,
          751.99,
          588.48,
          664.81,
          576.95,
          709.63,
          418.54,
          57.28,
          593.61,
          567.67,
          0,
          0,
          0,
          0,
          0,
          0,
          0,
          0,
          0,
          0,
          1047.45,
          153.55,
          1139.1,
          796.17,
          826.28,
          585.03,
          753.41,
          548.72,
          101.67,
          624.48,
          591.07,
          727.37,
          520.55,
          732,
          544.6,
          38.69,
          559.21,
          625.41,
          711.05,
          564.48,
          259.72,
          0,
          0,
          0,
          0,
          0,
          0,
          0,
          0,
          0,
          1002.48,
          837.75,
          673.48,
          636.69,
          688.03,
          491.9,
          51.91,
          509.52,
          554.95,
          521.33,
          636.68,
          663.32,
          376.47,
          40.66,
          552.86,
          583.36,
          562.53,
          473.67,
          665.77,
          412.19,
          61.08,
          457.72,
          529.04,
          479.82,
          0,
          0,
          0,
          0,
          0,
          0,
          0,
          915.05,
          530.9,
          403.99,
          20.27,
          385.17,
          361.21,
          426.95,
          321.75,
          493.31,
          285.11,
          21.4,
          343.64,
          457.6,
          450.74,
          23,
          289.69,
          266.39,
          54.11,
          349.54,
          229.38,
          286.45,
          264.1,
          345.3,
          276.46,
          12.58,
          384.5,
          328.45,
          377.51,
          329.25,
          490.36,
          347.94,
          42.1,
          532.71,
          476.75,
          563.13,
          416.34,
          579.25,
          367.45,
          119.84,
          555.6,
          672.93,
          677.32,
          613.65,
          710.68,
          479.39,
          48.92,
          651.78,
          501.97,
          701.84,
          559.77,
          660.52,
          501.55,
          53.96,
          611.37,
          655.11,
          571.33,
          157.9,
          0,
          0,
          0,
          0,
          1073.03,
          955.28,
          575.66,
          737.36,
          546.67,
          41.15,
          568.29,
          588.46,
          571.2,
          673.22,
          947.42,
          103,
          46.72,
          540.99,
          635.61,
          692.35,
          529.57,
          733.9,
          526.17,
          52.2,
          712.99,
          640.41,
          312.89,
          231.72,
          230.24,
          316.01,
          36.49,
          169.27,
          259.06,
          279.73,
          275.97,
          265.73,
          433.54,
          109.44,
          784.86,
          844.62,
          931.99,
          718.87,
          730.11,
          519.19,
          42.89,
          639.21,
          816.3,
          768.9,
          603.34,
          1373.16,
          594.97,
          44.51,
          591.18,
          679.46,
          762.43,
          224.9,
          0,
          0,
          0,
          0,
          0,
          0,
          0,
          0,
          0,
          203.9,
          1252.34,
          1098.46,
          978.78,
          1039.69,
          53.75,
          541.08,
          60.41,
          780.87,
          924.53,
          1053.84,
          765.67,
          1098.99,
          698.95,
          89.32,
          893.58,
          988.22,
          1208.6,
          1091.49,
          1042.83,
          239.1,
          0,
          0,
          0,
          0,
          0,
          0,
          0,
          0,
          0,
          0
         ],
         "yaxis": "y"
        },
        {
         "hovertemplate": "Operacion=Comisión por retirada<br>fecha=%{x}<br>suma_diaria=%{y}<extra></extra>",
         "legendgroup": "Comisión por retirada",
         "line": {
          "color": "#EF553B",
          "dash": "solid"
         },
         "marker": {
          "symbol": "circle"
         },
         "mode": "lines",
         "name": "Comisión por retirada",
         "showlegend": true,
         "type": "scattergl",
         "x": [
          "2024-01-01",
          "2024-01-02",
          "2024-01-03",
          "2024-01-05",
          "2024-01-11",
          "2024-01-12",
          "2024-01-13",
          "2024-01-14",
          "2024-01-15",
          "2024-01-18",
          "2024-01-19",
          "2024-01-20",
          "2024-01-21",
          "2024-01-22",
          "2024-01-23",
          "2024-01-24",
          "2024-01-25",
          "2024-01-26",
          "2024-01-27",
          "2024-01-29",
          "2024-01-30",
          "2024-01-31",
          "2024-02-01",
          "2024-02-02",
          "2024-02-03",
          "2024-02-05",
          "2024-02-06",
          "2024-02-09",
          "2024-02-11",
          "2024-02-14",
          "2024-02-15",
          "2024-02-16",
          "2024-02-17",
          "2024-02-18",
          "2024-02-19",
          "2024-02-20",
          "2024-02-21",
          "2024-02-22",
          "2024-02-23",
          "2024-02-24",
          "2024-02-25",
          "2024-02-26",
          "2024-02-27",
          "2024-02-28",
          "2024-02-29",
          "2024-03-01",
          "2024-03-03",
          "2024-03-04",
          "2024-03-05",
          "2024-03-06",
          "2024-03-07",
          "2024-03-09",
          "2024-03-10",
          "2024-03-12",
          "2024-03-13",
          "2024-03-14",
          "2024-03-15",
          "2024-03-17",
          "2024-03-18",
          "2024-03-19",
          "2024-03-20",
          "2024-03-21",
          "2024-03-22",
          "2024-03-23",
          "2024-03-25",
          "2024-03-26",
          "2024-03-27",
          "2024-03-29",
          "2024-03-30",
          "2024-03-31",
          "2024-04-01",
          "2024-04-02",
          "2024-04-04",
          "2024-04-05",
          "2024-04-06",
          "2024-04-08",
          "2024-04-09",
          "2024-04-10",
          "2024-04-11",
          "2024-04-12",
          "2024-04-13",
          "2024-04-14",
          "2024-04-15",
          "2024-04-16",
          "2024-04-17",
          "2024-04-18",
          "2024-04-19",
          "2024-04-20",
          "2024-04-21",
          "2024-04-22",
          "2024-04-23",
          "2024-04-24",
          "2024-04-25",
          "2024-04-26",
          "2024-04-27",
          "2024-04-28",
          "2024-04-29",
          "2024-04-30",
          "2024-05-01",
          "2024-05-02",
          "2024-05-03",
          "2024-05-04",
          "2024-05-06",
          "2024-05-07",
          "2024-05-08",
          "2024-05-09",
          "2024-05-11",
          "2024-05-12",
          "2024-05-13",
          "2024-05-14",
          "2024-05-15",
          "2024-05-16",
          "2024-05-17",
          "2024-05-18",
          "2024-05-19",
          "2024-05-20",
          "2024-05-21",
          "2024-05-22",
          "2024-05-23",
          "2024-05-25",
          "2024-05-26",
          "2024-05-27",
          "2024-05-28",
          "2024-05-29",
          "2024-05-30",
          "2024-05-31",
          "2024-06-02",
          "2024-06-03",
          "2024-06-04",
          "2024-06-05",
          "2024-06-06",
          "2024-06-07",
          "2024-06-08",
          "2024-06-10",
          "2024-06-11",
          "2024-06-12",
          "2024-06-13",
          "2024-06-14",
          "2024-06-15",
          "2024-06-16",
          "2024-06-17",
          "2024-06-18",
          "2024-06-19",
          "2024-06-20",
          "2024-06-21",
          "2024-06-22",
          "2024-06-24",
          "2024-06-25",
          "2024-06-26",
          "2024-06-27",
          "2024-06-28",
          "2024-06-29",
          "2024-06-30",
          "2024-07-01",
          "2024-07-02",
          "2024-07-03",
          "2024-07-04",
          "2024-07-05",
          "2024-07-06",
          "2024-07-07",
          "2024-07-08",
          "2024-07-09",
          "2024-07-10",
          "2024-07-11",
          "2024-07-12",
          "2024-07-13",
          "2024-07-14",
          "2024-07-15",
          "2024-07-16",
          "2024-07-17",
          "2024-07-18",
          "2024-07-19",
          "2024-07-20",
          "2024-07-21",
          "2024-07-22",
          "2024-07-23",
          "2024-07-24",
          "2024-07-25",
          "2024-07-26",
          "2024-07-27",
          "2024-07-29",
          "2024-07-30",
          "2024-07-31",
          "2024-08-01",
          "2024-08-02",
          "2024-08-03",
          "2024-08-04",
          "2024-08-06",
          "2024-08-07",
          "2024-08-08",
          "2024-08-09",
          "2024-08-10",
          "2024-08-11",
          "2024-08-12",
          "2024-08-13",
          "2024-08-14",
          "2024-08-15",
          "2024-08-16",
          "2024-08-18",
          "2024-08-19",
          "2024-08-21",
          "2024-08-22",
          "2024-08-23",
          "2024-08-24",
          "2024-08-26",
          "2024-08-27",
          "2024-08-28",
          "2024-08-29",
          "2024-08-30",
          "2024-08-31",
          "2024-09-01",
          "2024-09-02",
          "2024-09-03",
          "2024-09-04",
          "2024-09-05",
          "2024-09-06",
          "2024-09-07",
          "2024-09-08",
          "2024-09-09",
          "2024-09-10",
          "2024-09-11",
          "2024-09-12",
          "2024-09-13",
          "2024-09-14",
          "2024-09-15",
          "2024-09-16",
          "2024-09-17",
          "2024-09-18",
          "2024-09-19",
          "2024-09-20",
          "2024-09-21",
          "2024-09-22",
          "2024-09-23",
          "2024-09-25",
          "2024-09-26",
          "2024-09-27",
          "2024-09-28",
          "2024-09-29",
          "2024-09-30",
          "2024-10-01",
          "2024-10-02",
          "2024-10-03",
          "2024-10-04",
          "2024-10-05",
          "2024-10-06",
          "2024-10-07",
          "2024-10-08",
          "2024-10-09",
          "2024-10-10",
          "2024-10-11",
          "2024-10-12",
          "2024-10-14",
          "2024-10-15",
          "2024-10-16",
          "2024-10-17",
          "2024-10-19",
          "2024-10-21",
          "2024-10-22",
          "2024-10-23",
          "2024-10-25",
          "2024-10-26",
          "2024-10-27",
          "2024-10-28",
          "2024-10-29",
          "2024-10-30",
          "2024-10-31",
          "2024-11-03",
          "2024-11-04",
          "2024-11-05",
          "2024-11-06",
          "2024-11-07",
          "2024-11-08",
          "2024-11-09",
          "2024-11-10",
          "2024-11-11",
          "2024-11-12",
          "2024-11-13",
          "2024-11-14",
          "2024-11-15",
          "2024-11-16",
          "2024-11-17",
          "2024-11-18",
          "2024-11-19",
          "2024-11-20",
          "2024-11-21",
          "2024-11-22",
          "2024-11-23",
          "2024-11-25",
          "2024-11-26",
          "2024-11-27",
          "2024-11-29",
          "2024-11-30",
          "2024-12-01",
          "2024-12-02",
          "2024-12-03",
          "2024-12-04",
          "2024-12-05",
          "2024-12-07",
          "2024-12-09",
          "2024-12-10",
          "2024-12-11",
          "2024-12-12",
          "2024-12-13",
          "2024-12-14",
          "2024-12-15",
          "2024-12-16",
          "2024-12-17",
          "2024-12-18",
          "2024-12-19",
          "2024-12-20",
          "2024-12-21",
          "2024-12-22",
          "2024-12-23",
          "2024-12-24",
          "2024-12-25",
          "2024-12-26",
          "2024-12-27",
          "2024-12-29",
          "2024-12-30",
          "2024-12-31"
         ],
         "xaxis": "x",
         "y": [
          30.25,
          8.71,
          21.18,
          50.3,
          224.35,
          26.95,
          19.05,
          39.93,
          82.63,
          24.2,
          56.42,
          20.85,
          4.91,
          8.47,
          103.22,
          7.24,
          129.18,
          15.28,
          21.2,
          52.4,
          74.68,
          29.35,
          18.15,
          72.96,
          102.85,
          12.1,
          61.36,
          46.56,
          59.29,
          22.09,
          60.78,
          115.97,
          23.41,
          24.67,
          36.33,
          43.79,
          63.89,
          9.81,
          54.99,
          7.47,
          163.18,
          26.3,
          48.33,
          35.44,
          113.21,
          77.79,
          10.66,
          26.63,
          18.14,
          95.1,
          0.71,
          43.82,
          24.56,
          12.1,
          29.49,
          33.74,
          26.62,
          12.1,
          108.61,
          56.07,
          8.34,
          49.15,
          16.38,
          18.4,
          33,
          141.02,
          26.11,
          27.23,
          12.1,
          0.86,
          2.9,
          55.72,
          0.46,
          54.97,
          29.35,
          232.32,
          36.18,
          39.2,
          35.54,
          9.52,
          27.31,
          7.38,
          53.64,
          14.52,
          67.72,
          46.83,
          18.15,
          15.73,
          14.11,
          98.1,
          34.02,
          108.9,
          124.19,
          39.12,
          12.1,
          23.76,
          77.51,
          42.35,
          24.2,
          34.76,
          43.1,
          13.38,
          56.27,
          41.85,
          44.04,
          38.85,
          8.47,
          5.99,
          167.31,
          152.3,
          9.08,
          102.97,
          29.44,
          27,
          10.89,
          112.01,
          6.05,
          31.46,
          0.64,
          2.3,
          11.32,
          120.48,
          58.7,
          53.55,
          74.17,
          3.87,
          9.64,
          71.59,
          55.19,
          69.05,
          163.01,
          8.2,
          57.09,
          76.92,
          50.39,
          217.8,
          54.66,
          24.83,
          28.1,
          22.69,
          15.13,
          70.46,
          78.24,
          8.47,
          38.72,
          25.5,
          2.78,
          26.24,
          3.63,
          33.31,
          12.56,
          17.51,
          12.1,
          106.6,
          57.04,
          93.34,
          68.97,
          124.5,
          115.18,
          12.06,
          73.58,
          17.91,
          52.03,
          17.84,
          12.1,
          49.78,
          19.97,
          19.36,
          38.82,
          47.95,
          0.71,
          113.7,
          22.43,
          3.61,
          50.66,
          140.5,
          69,
          6.05,
          33.89,
          6.39,
          6.75,
          30.07,
          22.99,
          29.72,
          65.34,
          31.46,
          62.92,
          42.11,
          25.9,
          13.41,
          15.54,
          4.84,
          24.2,
          5.75,
          24.23,
          12.1,
          6.05,
          93.65,
          11.52,
          44.48,
          18.76,
          14.01,
          28.61,
          90.33,
          54.74,
          10.64,
          20.27,
          114.1,
          27.57,
          1.51,
          3.85,
          22.78,
          50.59,
          1.96,
          43.46,
          31.48,
          31.46,
          9.08,
          25.52,
          0.94,
          92.89,
          5.14,
          52.04,
          27.45,
          35.09,
          158.89,
          102.2,
          8.96,
          51.33,
          35.67,
          9.05,
          20.61,
          59.29,
          35.09,
          40.65,
          34.04,
          0.74,
          6.49,
          19.6,
          137,
          97.41,
          69.17,
          15.13,
          15.13,
          0.92,
          131.04,
          180.48,
          14.76,
          82.29,
          81.14,
          1.16,
          63.01,
          32.96,
          8.84,
          115.58,
          40.72,
          93.98,
          54.07,
          137.75,
          97.23,
          72.6,
          31.53,
          30.86,
          19.48,
          129.83,
          3.03,
          31.46,
          14.6,
          18.09,
          43.75,
          79.02,
          24.05,
          12.87,
          42.35,
          118.56,
          43.23,
          20.71,
          12.1,
          74.67,
          3.63,
          21.18,
          37.49,
          102.4,
          70.1,
          162.62,
          39.16,
          10.89,
          11.19,
          24.2,
          107.53,
          30.79,
          1.23,
          5.09,
          5.38,
          20.7,
          62.92,
          17.77,
          169.4,
          45.84,
          128.38,
          43.68,
          140.74,
          8.47,
          12.1,
          29.66,
          231.67,
          32.04,
          36.3,
          19.54,
          35.11,
          12.48,
          16.24,
          49.01,
          108.9,
          9.08,
          14.36,
          195.21,
          21.78,
          53.39,
          12.1
         ],
         "yaxis": "y"
        },
        {
         "hovertemplate": "Operacion=Conversión a €<br>fecha=%{x}<br>suma_diaria=%{y}<extra></extra>",
         "legendgroup": "Conversión a €",
         "line": {
          "color": "#00cc96",
          "dash": "solid"
         },
         "marker": {
          "symbol": "circle"
         },
         "mode": "lines",
         "name": "Conversión a €",
         "showlegend": true,
         "type": "scattergl",
         "x": [
          "2024-01-01",
          "2024-01-02",
          "2024-01-03",
          "2024-01-05",
          "2024-01-07",
          "2024-01-08",
          "2024-01-09",
          "2024-01-10",
          "2024-01-11",
          "2024-01-12",
          "2024-01-13",
          "2024-01-14",
          "2024-01-15",
          "2024-01-16",
          "2024-01-17",
          "2024-01-18",
          "2024-01-19",
          "2024-01-20",
          "2024-01-21",
          "2024-01-22",
          "2024-01-23",
          "2024-01-24",
          "2024-01-25",
          "2024-01-26",
          "2024-01-27",
          "2024-01-29",
          "2024-01-30",
          "2024-01-31",
          "2024-02-02",
          "2024-02-03",
          "2024-02-05",
          "2024-02-06",
          "2024-02-09",
          "2024-02-11",
          "2024-02-12",
          "2024-02-13",
          "2024-02-14",
          "2024-02-15",
          "2024-02-16",
          "2024-02-17",
          "2024-02-18",
          "2024-02-19",
          "2024-02-20",
          "2024-02-21",
          "2024-02-22",
          "2024-02-23",
          "2024-02-24",
          "2024-02-25",
          "2024-02-26",
          "2024-02-27",
          "2024-02-28",
          "2024-02-29",
          "2024-03-01",
          "2024-03-03",
          "2024-03-04",
          "2024-03-05",
          "2024-03-06",
          "2024-03-07",
          "2024-03-09",
          "2024-03-10",
          "2024-03-11",
          "2024-03-12",
          "2024-03-13",
          "2024-03-14",
          "2024-03-15",
          "2024-03-17",
          "2024-03-18",
          "2024-03-19",
          "2024-03-20",
          "2024-03-21",
          "2024-03-22",
          "2024-03-23",
          "2024-03-25",
          "2024-03-26",
          "2024-03-27",
          "2024-03-29",
          "2024-03-30",
          "2024-03-31",
          "2024-04-01",
          "2024-04-02",
          "2024-04-04",
          "2024-04-05",
          "2024-04-06",
          "2024-04-08",
          "2024-04-09",
          "2024-04-10",
          "2024-04-11",
          "2024-04-12",
          "2024-04-13",
          "2024-04-14",
          "2024-04-15",
          "2024-04-16",
          "2024-04-17",
          "2024-04-18",
          "2024-04-19",
          "2024-04-20",
          "2024-04-21",
          "2024-04-22",
          "2024-04-23",
          "2024-04-24",
          "2024-04-25",
          "2024-04-26",
          "2024-04-27",
          "2024-04-28",
          "2024-04-29",
          "2024-04-30",
          "2024-05-01",
          "2024-05-02",
          "2024-05-03",
          "2024-05-04",
          "2024-05-06",
          "2024-05-07",
          "2024-05-08",
          "2024-05-09",
          "2024-05-10",
          "2024-05-11",
          "2024-05-12",
          "2024-05-13",
          "2024-05-14",
          "2024-05-15",
          "2024-05-16",
          "2024-05-17",
          "2024-05-18",
          "2024-05-19",
          "2024-05-20",
          "2024-05-21",
          "2024-05-22",
          "2024-05-25",
          "2024-05-26",
          "2024-05-27",
          "2024-05-28",
          "2024-05-29",
          "2024-05-30",
          "2024-05-31",
          "2024-06-02",
          "2024-06-03",
          "2024-06-04",
          "2024-06-05",
          "2024-06-06",
          "2024-06-07",
          "2024-06-08",
          "2024-06-10",
          "2024-06-11",
          "2024-06-12",
          "2024-06-13",
          "2024-06-14",
          "2024-06-15",
          "2024-06-16",
          "2024-06-17",
          "2024-06-18",
          "2024-06-19",
          "2024-06-20",
          "2024-06-21",
          "2024-06-22",
          "2024-06-24",
          "2024-06-25",
          "2024-06-26",
          "2024-06-27",
          "2024-06-28",
          "2024-06-29",
          "2024-06-30",
          "2024-07-01",
          "2024-07-02",
          "2024-07-03",
          "2024-07-04",
          "2024-07-05",
          "2024-07-06",
          "2024-07-07",
          "2024-07-08",
          "2024-07-09",
          "2024-07-10",
          "2024-07-11",
          "2024-07-12",
          "2024-07-13",
          "2024-07-14",
          "2024-07-15",
          "2024-07-16",
          "2024-07-17",
          "2024-07-18",
          "2024-07-19",
          "2024-07-20",
          "2024-07-21",
          "2024-07-22",
          "2024-07-23",
          "2024-07-24",
          "2024-07-25",
          "2024-07-26",
          "2024-07-27",
          "2024-07-29",
          "2024-07-30",
          "2024-08-01",
          "2024-08-02",
          "2024-08-03",
          "2024-08-04",
          "2024-08-06",
          "2024-08-07",
          "2024-08-08",
          "2024-08-09",
          "2024-08-10",
          "2024-08-11",
          "2024-08-12",
          "2024-08-13",
          "2024-08-14",
          "2024-08-15",
          "2024-08-16",
          "2024-08-18",
          "2024-08-19",
          "2024-08-20",
          "2024-08-21",
          "2024-08-22",
          "2024-08-23",
          "2024-08-24",
          "2024-08-25",
          "2024-08-26",
          "2024-08-27",
          "2024-08-28",
          "2024-08-29",
          "2024-08-30",
          "2024-08-31",
          "2024-09-01",
          "2024-09-02",
          "2024-09-03",
          "2024-09-04",
          "2024-09-05",
          "2024-09-06",
          "2024-09-07",
          "2024-09-08",
          "2024-09-09",
          "2024-09-10",
          "2024-09-11",
          "2024-09-12",
          "2024-09-13",
          "2024-09-14",
          "2024-09-15",
          "2024-09-16",
          "2024-09-17",
          "2024-09-18",
          "2024-09-19",
          "2024-09-20",
          "2024-09-21",
          "2024-09-22",
          "2024-09-23",
          "2024-09-25",
          "2024-09-26",
          "2024-09-27",
          "2024-09-28",
          "2024-09-29",
          "2024-09-30",
          "2024-10-01",
          "2024-10-02",
          "2024-10-03",
          "2024-10-04",
          "2024-10-05",
          "2024-10-06",
          "2024-10-07",
          "2024-10-08",
          "2024-10-09",
          "2024-10-10",
          "2024-10-11",
          "2024-10-12",
          "2024-10-14",
          "2024-10-15",
          "2024-10-16",
          "2024-10-17",
          "2024-10-19",
          "2024-10-21",
          "2024-10-22",
          "2024-10-23",
          "2024-10-25",
          "2024-10-26",
          "2024-10-27",
          "2024-10-28",
          "2024-10-29",
          "2024-10-30",
          "2024-10-31",
          "2024-11-03",
          "2024-11-04",
          "2024-11-05",
          "2024-11-06",
          "2024-11-07",
          "2024-11-08",
          "2024-11-09",
          "2024-11-10",
          "2024-11-11",
          "2024-11-12",
          "2024-11-13",
          "2024-11-14",
          "2024-11-15",
          "2024-11-16",
          "2024-11-17",
          "2024-11-18",
          "2024-11-19",
          "2024-11-20",
          "2024-11-21",
          "2024-11-22",
          "2024-11-23",
          "2024-11-25",
          "2024-11-26",
          "2024-11-27",
          "2024-11-29",
          "2024-12-01",
          "2024-12-02",
          "2024-12-03",
          "2024-12-04",
          "2024-12-05",
          "2024-12-07",
          "2024-12-09",
          "2024-12-10",
          "2024-12-11",
          "2024-12-12",
          "2024-12-14",
          "2024-12-15",
          "2024-12-16",
          "2024-12-17",
          "2024-12-18",
          "2024-12-19",
          "2024-12-20",
          "2024-12-21",
          "2024-12-22",
          "2024-12-23",
          "2024-12-24",
          "2024-12-25",
          "2024-12-26",
          "2024-12-27",
          "2024-12-29",
          "2024-12-30",
          "2024-12-31"
         ],
         "xaxis": "x",
         "y": [
          2500,
          719.8,
          1750,
          3018,
          925,
          1500,
          2800,
          9512.41,
          18541.6,
          2227,
          1574,
          3200,
          6829,
          7205,
          5200,
          2000,
          4662.42,
          1723,
          400,
          700,
          8525.3,
          598.3,
          10675.91,
          1263,
          1752,
          4330.25,
          6171.44,
          3926,
          6029.54,
          8500,
          3800,
          5071.3,
          4766,
          3000,
          1000,
          2618,
          8158.75,
          5439,
          1584.5,
          934.95,
          1838.61,
          3000,
          3618.98,
          5280,
          746.9,
          4835.68,
          592.42,
          13335,
          2173.36,
          3994.25,
          5360.12,
          9355.63,
          3454.6,
          880.83,
          2205,
          1442,
          7851.58,
          58.41,
          3621.28,
          2000,
          9680,
          1000,
          2437.4,
          2788,
          2200,
          1000,
          8976.31,
          4633.44,
          690,
          4062.11,
          1354,
          1520.65,
          2726.24,
          11654.48,
          2158.03,
          2250,
          1000,
          71.01,
          240,
          4604.6,
          38.31,
          4553.25,
          2425.08,
          19200,
          2970,
          3240,
          3737.49,
          787.07,
          2256.81,
          610,
          4433,
          3600,
          3196.35,
          5065,
          1500,
          1300,
          1165.94,
          12882.16,
          2811.18,
          9000,
          9064,
          3882,
          1000,
          1963.51,
          5755.36,
          3500,
          2000,
          2828.32,
          3561.61,
          1105.79,
          4650.33,
          3459.08,
          3640,
          3199,
          4990.57,
          700,
          1618.86,
          14327,
          11553.94,
          750,
          9110,
          2433.39,
          2231.13,
          900,
          8586.01,
          500,
          2600,
          3690,
          2350,
          6456.37,
          4846.23,
          3120,
          6129.92,
          313,
          745.71,
          5916.14,
          4510,
          13305,
          4763.33,
          1137.77,
          4718.59,
          5356.78,
          3164.35,
          18000,
          4516.82,
          2051.8,
          2322.23,
          1875,
          1250,
          5823,
          6456.16,
          700,
          3200.17,
          2107.78,
          974,
          1425,
          300,
          2753.87,
          1038,
          1447.03,
          1000,
          8410,
          4719.83,
          7712.79,
          5700,
          10289.13,
          9519.28,
          945,
          5938.05,
          1480,
          4300,
          1475.14,
          1000,
          4114.13,
          1650,
          1600,
          3208.33,
          3915,
          58.93,
          9396.92,
          1801.33,
          264,
          6087.43,
          11611,
          5705,
          500,
          2800.81,
          527.97,
          557.93,
          2485.23,
          2300,
          4900,
          2600,
          5200,
          3480,
          2140.31,
          1071.25,
          1133.55,
          400,
          2000,
          475,
          2000,
          1000,
          500,
          7739.48,
          951.94,
          3676,
          500,
          1550,
          1157.37,
          2364.75,
          7465,
          450,
          4023.96,
          779.05,
          1675,
          9430,
          2278.18,
          125,
          318,
          1882.75,
          4180.64,
          160,
          3560,
          2601.59,
          2600,
          750,
          2060,
          1177.69,
          7276.79,
          380,
          3850,
          2268.8,
          2900,
          13131.66,
          8445.95,
          740,
          4141.91,
          2943.04,
          748.1,
          1703,
          4900,
          2900,
          3359.04,
          2762,
          61.07,
          537,
          1620,
          11162.33,
          8050,
          6316.6,
          1250,
          1250,
          75.76,
          11030,
          14916.19,
          1220,
          6100.72,
          6705.61,
          96.23,
          5210,
          2724,
          630,
          10953.55,
          3300,
          7767.03,
          4469,
          8884.65,
          8035.42,
          6000,
          2955,
          2539.81,
          2254.8,
          9735,
          250,
          2600,
          1186.98,
          1495.5,
          2727.1,
          6511.3,
          1987.5,
          955,
          3500,
          9797.73,
          3572,
          1712,
          1000,
          6171.23,
          300,
          1750,
          3098.33,
          8463.06,
          5768.32,
          13440,
          3235.64,
          900,
          925,
          2002,
          8886.52,
          2544,
          302,
          444.02,
          1711,
          5850,
          1967.61,
          14000,
          3337.59,
          10575,
          3610,
          13130.48,
          4000,
          2100,
          15908.85,
          1000,
          3000,
          1615,
          3695,
          1031.52,
          1250,
          4050,
          9000,
          750,
          1187.23,
          15133.59,
          1800,
          4421.62,
          1000
         ],
         "yaxis": "y"
        },
        {
         "hovertemplate": "Operacion=Cuota de socio<br>fecha=%{x}<br>suma_diaria=%{y}<extra></extra>",
         "legendgroup": "Cuota de socio",
         "line": {
          "color": "#ab63fa",
          "dash": "solid"
         },
         "marker": {
          "symbol": "circle"
         },
         "mode": "lines",
         "name": "Cuota de socio",
         "showlegend": true,
         "type": "scattergl",
         "x": [
          "2024-01-01",
          "2024-01-02",
          "2024-01-03",
          "2024-01-04",
          "2024-01-05",
          "2024-01-06",
          "2024-01-07",
          "2024-01-08",
          "2024-01-09",
          "2024-01-10",
          "2024-01-11",
          "2024-01-12",
          "2024-01-13",
          "2024-01-14",
          "2024-01-15",
          "2024-01-16",
          "2024-01-17",
          "2024-01-18",
          "2024-01-19",
          "2024-01-20",
          "2024-01-21",
          "2024-01-22",
          "2024-01-23",
          "2024-01-24",
          "2024-01-25",
          "2024-01-26",
          "2024-01-28",
          "2024-01-30",
          "2024-01-31",
          "2024-02-01",
          "2024-02-02",
          "2024-02-03",
          "2024-02-04",
          "2024-02-05",
          "2024-02-06",
          "2024-02-07",
          "2024-02-08",
          "2024-02-09",
          "2024-02-10",
          "2024-02-12",
          "2024-02-14",
          "2024-02-15",
          "2024-02-16",
          "2024-02-17",
          "2024-02-19",
          "2024-02-20",
          "2024-02-21",
          "2024-02-22",
          "2024-02-23",
          "2024-02-24",
          "2024-02-25",
          "2024-02-26",
          "2024-02-27",
          "2024-02-29",
          "2024-03-01",
          "2024-03-02",
          "2024-03-04",
          "2024-03-05",
          "2024-03-06",
          "2024-03-07",
          "2024-03-08",
          "2024-03-09",
          "2024-03-11",
          "2024-03-12",
          "2024-03-14",
          "2024-03-15",
          "2024-03-16",
          "2024-03-18",
          "2024-03-19",
          "2024-03-20",
          "2024-03-22",
          "2024-03-23",
          "2024-03-25",
          "2024-03-26",
          "2024-04-02",
          "2024-04-03",
          "2024-04-04",
          "2024-04-05",
          "2024-04-07",
          "2024-04-08",
          "2024-04-09",
          "2024-04-10",
          "2024-04-11",
          "2024-04-12",
          "2024-04-15",
          "2024-04-16",
          "2024-04-17",
          "2024-04-19",
          "2024-04-20",
          "2024-04-22",
          "2024-04-24",
          "2024-04-25",
          "2024-04-26",
          "2024-04-29",
          "2024-04-30",
          "2024-05-02",
          "2024-05-03",
          "2024-05-06",
          "2024-05-07",
          "2024-05-08",
          "2024-05-09",
          "2024-05-15",
          "2024-05-20",
          "2024-05-21",
          "2024-05-22",
          "2024-05-23",
          "2024-05-24",
          "2024-05-25",
          "2024-05-26",
          "2024-05-27",
          "2024-05-28",
          "2024-05-30",
          "2024-05-31",
          "2024-06-01",
          "2024-06-03",
          "2024-06-04",
          "2024-06-05",
          "2024-06-06",
          "2024-06-07",
          "2024-06-08",
          "2024-06-11",
          "2024-06-12",
          "2024-06-13",
          "2024-06-14",
          "2024-06-17",
          "2024-06-21",
          "2024-06-25",
          "2024-06-27",
          "2024-07-02",
          "2024-07-04",
          "2024-07-09",
          "2024-07-12",
          "2024-07-15",
          "2024-07-16",
          "2024-07-23",
          "2024-07-29",
          "2024-07-30",
          "2024-08-02",
          "2024-08-07",
          "2024-08-08",
          "2024-08-11",
          "2024-08-12",
          "2024-08-14",
          "2024-08-26",
          "2024-08-28",
          "2024-08-30",
          "2024-09-02",
          "2024-09-03",
          "2024-09-10",
          "2024-09-12",
          "2024-09-16",
          "2024-09-17",
          "2024-09-24",
          "2024-09-28",
          "2024-09-30",
          "2024-10-01",
          "2024-10-02",
          "2024-10-03",
          "2024-10-05",
          "2024-10-07",
          "2024-10-08",
          "2024-10-14",
          "2024-10-15",
          "2024-10-16",
          "2024-10-17",
          "2024-10-20",
          "2024-10-21",
          "2024-10-22",
          "2024-10-23",
          "2024-10-24",
          "2024-10-25",
          "2024-10-28",
          "2024-10-30",
          "2024-11-04",
          "2024-11-05",
          "2024-11-06",
          "2024-11-07",
          "2024-11-08",
          "2024-11-09",
          "2024-11-12",
          "2024-11-13",
          "2024-11-14",
          "2024-11-16",
          "2024-11-17",
          "2024-11-18",
          "2024-11-19",
          "2024-11-22",
          "2024-11-23",
          "2024-11-24",
          "2024-11-25",
          "2024-11-27",
          "2024-11-29",
          "2024-11-30",
          "2024-12-03",
          "2024-12-04",
          "2024-12-05",
          "2024-12-06",
          "2024-12-11",
          "2024-12-12",
          "2024-12-13",
          "2024-12-14",
          "2024-12-17",
          "2024-12-18",
          "2024-12-23",
          "2024-12-29"
         ],
         "xaxis": "x",
         "y": [
          70,
          310,
          470,
          330,
          320,
          50,
          50,
          170,
          220,
          200,
          130,
          180,
          30,
          20,
          150,
          40,
          80,
          80,
          50,
          20,
          30,
          30,
          40,
          40,
          50,
          20,
          10,
          30,
          50,
          20,
          70,
          40,
          10,
          20,
          30,
          30,
          40,
          30,
          10,
          20,
          50,
          60,
          20,
          10,
          20,
          50,
          60,
          20,
          20,
          10,
          20,
          10,
          40,
          10,
          30,
          10,
          10,
          30,
          30,
          20,
          30,
          10,
          10,
          10,
          30,
          20,
          10,
          10,
          20,
          40,
          20,
          10,
          20,
          10,
          30,
          10,
          20,
          20,
          20,
          20,
          20,
          20,
          50,
          10,
          10,
          20,
          40,
          10,
          10,
          10,
          40,
          20,
          10,
          10,
          30,
          20,
          80,
          20,
          20,
          10,
          20,
          30,
          20,
          20,
          10,
          10,
          30,
          10,
          20,
          20,
          40,
          30,
          10,
          20,
          20,
          10,
          10,
          10,
          20,
          10,
          20,
          10,
          20,
          10,
          20,
          20,
          10,
          10,
          10,
          20,
          20,
          10,
          10,
          10,
          10,
          10,
          20,
          20,
          20,
          10,
          10,
          10,
          10,
          20,
          10,
          20,
          10,
          20,
          10,
          10,
          10,
          20,
          20,
          10,
          10,
          10,
          10,
          30,
          20,
          20,
          10,
          10,
          10,
          20,
          20,
          10,
          10,
          20,
          10,
          10,
          40,
          10,
          10,
          10,
          10,
          10,
          10,
          10,
          10,
          20,
          20,
          30,
          10,
          10,
          10,
          30,
          20,
          10,
          10,
          20,
          10,
          10,
          10,
          10,
          30,
          10,
          10,
          10,
          10,
          10,
          10,
          10,
          10,
          10,
          10
         ],
         "yaxis": "y"
        },
        {
         "hovertemplate": "Operacion=Cuota mensual de socio<br>fecha=%{x}<br>suma_diaria=%{y}<extra></extra>",
         "legendgroup": "Cuota mensual de socio",
         "line": {
          "color": "#FFA15A",
          "dash": "solid"
         },
         "marker": {
          "symbol": "circle"
         },
         "mode": "lines",
         "name": "Cuota mensual de socio",
         "showlegend": true,
         "type": "scattergl",
         "x": [
          "2024-01-01",
          "2024-01-03",
          "2024-01-04",
          "2024-02-02",
          "2024-02-05",
          "2024-02-06",
          "2024-02-07",
          "2024-02-08",
          "2024-02-09",
          "2024-02-13",
          "2024-02-20",
          "2024-03-03",
          "2024-03-04",
          "2024-03-05",
          "2024-03-07",
          "2024-03-13",
          "2024-03-17",
          "2024-03-18",
          "2024-03-20",
          "2024-03-21",
          "2024-03-24",
          "2024-03-25",
          "2024-04-04",
          "2024-04-05",
          "2024-04-06",
          "2024-04-09",
          "2024-04-10",
          "2024-04-12",
          "2024-04-22",
          "2024-04-23",
          "2024-04-24",
          "2024-05-04",
          "2024-05-10",
          "2024-05-11",
          "2024-05-12",
          "2024-05-14",
          "2024-05-15",
          "2024-05-16",
          "2024-05-17",
          "2024-05-18",
          "2024-05-19",
          "2024-05-21",
          "2024-05-22",
          "2024-05-23",
          "2024-05-29",
          "2024-06-01",
          "2024-06-03",
          "2024-06-06",
          "2024-06-07",
          "2024-06-10",
          "2024-06-11",
          "2024-06-12",
          "2024-06-13",
          "2024-06-14",
          "2024-06-19",
          "2024-06-21",
          "2024-06-22",
          "2024-07-08",
          "2024-07-11",
          "2024-07-15",
          "2024-07-16",
          "2024-07-18",
          "2024-07-19",
          "2024-07-21",
          "2024-07-23",
          "2024-07-24",
          "2024-07-27",
          "2024-08-02",
          "2024-08-06",
          "2024-08-08",
          "2024-08-09",
          "2024-08-17",
          "2024-08-18",
          "2024-08-19",
          "2024-08-20",
          "2024-08-21",
          "2024-08-22",
          "2024-08-24",
          "2024-08-25",
          "2024-08-27",
          "2024-08-28",
          "2024-08-29",
          "2024-08-30",
          "2024-09-01",
          "2024-09-04",
          "2024-09-05",
          "2024-09-06",
          "2024-09-07",
          "2024-09-08",
          "2024-09-10",
          "2024-09-11",
          "2024-09-12",
          "2024-09-13",
          "2024-09-14",
          "2024-09-15",
          "2024-09-17",
          "2024-09-20",
          "2024-09-22",
          "2024-09-24",
          "2024-09-25",
          "2024-09-27",
          "2024-09-30",
          "2024-10-02",
          "2024-10-03",
          "2024-10-04",
          "2024-10-06",
          "2024-10-07",
          "2024-10-08",
          "2024-10-09",
          "2024-10-10",
          "2024-10-11",
          "2024-10-17",
          "2024-10-18",
          "2024-10-19",
          "2024-10-20",
          "2024-10-23",
          "2024-10-24",
          "2024-10-27",
          "2024-10-29",
          "2024-10-30",
          "2024-10-31",
          "2024-11-03",
          "2024-11-06",
          "2024-11-08",
          "2024-11-10",
          "2024-11-13",
          "2024-11-14",
          "2024-11-15",
          "2024-11-16",
          "2024-11-17",
          "2024-11-19",
          "2024-11-20",
          "2024-11-23",
          "2024-12-01",
          "2024-12-03",
          "2024-12-04",
          "2024-12-05",
          "2024-12-06",
          "2024-12-07",
          "2024-12-08",
          "2024-12-11",
          "2024-12-12",
          "2024-12-13",
          "2024-12-14",
          "2024-12-16",
          "2024-12-19",
          "2024-12-20",
          "2024-12-21",
          "2024-12-24"
         ],
         "xaxis": "x",
         "y": [
          107.25,
          11.7,
          1.95,
          674.7,
          7.8,
          1.95,
          3.9,
          1.95,
          1.95,
          1.95,
          1.95,
          1.95,
          797.55,
          5.85,
          5.85,
          1.95,
          1.95,
          1.95,
          3.9,
          17.55,
          5.85,
          1.95,
          858,
          5.85,
          9.75,
          1.95,
          1.95,
          1.95,
          1.95,
          1.95,
          25.35,
          3.9,
          943.8,
          3.9,
          5.85,
          9.75,
          1.95,
          3.9,
          1.95,
          1.95,
          1.95,
          1.95,
          1.95,
          1.95,
          1.95,
          5.85,
          1.95,
          1.95,
          5.85,
          1029.6,
          7.8,
          3.9,
          5.85,
          19.5,
          1.95,
          3.9,
          3.9,
          1.95,
          1019.85,
          42.9,
          1.95,
          19.5,
          3.9,
          7.8,
          7.8,
          3.9,
          3.9,
          1.95,
          1.95,
          1.95,
          3.9,
          1058.85,
          3.9,
          1.95,
          11.7,
          9.75,
          1.95,
          3.9,
          3.9,
          1.95,
          1.95,
          19.5,
          3.9,
          1.95,
          1074.45,
          21.45,
          5.85,
          1.95,
          1.95,
          11.7,
          1.95,
          1.95,
          3.9,
          3.9,
          1.95,
          1.95,
          1.95,
          5.85,
          1.95,
          3.9,
          1.95,
          1.95,
          3.9,
          1.95,
          7.8,
          1070.55,
          1.95,
          1.95,
          9.75,
          3.9,
          3.9,
          9.75,
          15.6,
          5.85,
          1.95,
          29.25,
          1.95,
          3.9,
          1.95,
          3.9,
          1.95,
          1.95,
          1.95,
          1.95,
          3.9,
          29.25,
          1152.45,
          17.55,
          3.9,
          5.85,
          1.95,
          7.8,
          1.95,
          7.8,
          37.05,
          1131,
          42.9,
          7.8,
          1.95,
          5.85,
          1.95,
          3.9,
          3.9,
          5.85,
          13.65,
          7.8,
          15.6,
          1.95,
          9.75
         ],
         "yaxis": "y"
        },
        {
         "hovertemplate": "Operacion=Descuento automático<br>fecha=%{x}<br>suma_diaria=%{y}<extra></extra>",
         "legendgroup": "Descuento automático",
         "line": {
          "color": "#19d3f3",
          "dash": "solid"
         },
         "marker": {
          "symbol": "circle"
         },
         "mode": "lines",
         "name": "Descuento automático",
         "showlegend": true,
         "type": "scattergl",
         "x": [
          "2024-01-01",
          "2024-01-02",
          "2024-01-03",
          "2024-01-04",
          "2024-01-05",
          "2024-01-06",
          "2024-01-07",
          "2024-01-08",
          "2024-01-09",
          "2024-01-10",
          "2024-01-11",
          "2024-01-12",
          "2024-01-13",
          "2024-01-14",
          "2024-01-15",
          "2024-01-16",
          "2024-01-17",
          "2024-01-18",
          "2024-01-19",
          "2024-01-20",
          "2024-01-21",
          "2024-01-22",
          "2024-01-23",
          "2024-01-24",
          "2024-01-25",
          "2024-01-26",
          "2024-01-27",
          "2024-01-28",
          "2024-01-29",
          "2024-01-30",
          "2024-01-31",
          "2024-02-01",
          "2024-02-02",
          "2024-02-03",
          "2024-02-04",
          "2024-02-05",
          "2024-02-06",
          "2024-02-07",
          "2024-02-08",
          "2024-02-09",
          "2024-02-10",
          "2024-02-11",
          "2024-02-12",
          "2024-02-13",
          "2024-02-14",
          "2024-02-15",
          "2024-02-16",
          "2024-02-17",
          "2024-02-18",
          "2024-02-19",
          "2024-02-20",
          "2024-02-21",
          "2024-02-22",
          "2024-02-23",
          "2024-02-24",
          "2024-02-25",
          "2024-02-26",
          "2024-02-27",
          "2024-02-28",
          "2024-02-29",
          "2024-03-01",
          "2024-03-02",
          "2024-03-03",
          "2024-03-04",
          "2024-03-05",
          "2024-03-06",
          "2024-03-07",
          "2024-03-08",
          "2024-03-09",
          "2024-03-10",
          "2024-03-11",
          "2024-03-12",
          "2024-03-13",
          "2024-03-14",
          "2024-03-15",
          "2024-03-16",
          "2024-03-17",
          "2024-03-18",
          "2024-03-19",
          "2024-03-20",
          "2024-03-21",
          "2024-03-22",
          "2024-03-23",
          "2024-03-24",
          "2024-03-25",
          "2024-03-26",
          "2024-03-27",
          "2024-03-28",
          "2024-03-29",
          "2024-03-30",
          "2024-03-31",
          "2024-04-01",
          "2024-04-02",
          "2024-04-03",
          "2024-04-04",
          "2024-04-05",
          "2024-04-06",
          "2024-04-07",
          "2024-04-08",
          "2024-04-09",
          "2024-04-10",
          "2024-04-11",
          "2024-04-12",
          "2024-04-13",
          "2024-04-14",
          "2024-04-15",
          "2024-04-16",
          "2024-04-17",
          "2024-04-18",
          "2024-04-19",
          "2024-04-20",
          "2024-04-21",
          "2024-04-22",
          "2024-04-23",
          "2024-04-24",
          "2024-04-25",
          "2024-04-26",
          "2024-04-27",
          "2024-04-28",
          "2024-04-29",
          "2024-04-30",
          "2024-05-01",
          "2024-05-02",
          "2024-05-03",
          "2024-05-04",
          "2024-05-05",
          "2024-05-06",
          "2024-05-07",
          "2024-05-08",
          "2024-05-09",
          "2024-05-10",
          "2024-05-11",
          "2024-05-12",
          "2024-05-13",
          "2024-05-14",
          "2024-05-15",
          "2024-05-16",
          "2024-05-17",
          "2024-05-18",
          "2024-05-19",
          "2024-05-20",
          "2024-05-21",
          "2024-05-22",
          "2024-05-23",
          "2024-05-24",
          "2024-05-25",
          "2024-05-26",
          "2024-05-27",
          "2024-05-28",
          "2024-05-29",
          "2024-05-30",
          "2024-05-31",
          "2024-06-01",
          "2024-06-02",
          "2024-06-03",
          "2024-06-04",
          "2024-06-05",
          "2024-06-06",
          "2024-06-07",
          "2024-06-08",
          "2024-06-09",
          "2024-06-10",
          "2024-06-11",
          "2024-06-12",
          "2024-06-13",
          "2024-06-14",
          "2024-06-15",
          "2024-06-16",
          "2024-06-17",
          "2024-06-18",
          "2024-06-19",
          "2024-06-20",
          "2024-06-21",
          "2024-06-22",
          "2024-06-23",
          "2024-06-24",
          "2024-06-25",
          "2024-06-26",
          "2024-06-27",
          "2024-06-28",
          "2024-06-29",
          "2024-06-30",
          "2024-07-01",
          "2024-07-02",
          "2024-07-03",
          "2024-07-04",
          "2024-07-05",
          "2024-07-06",
          "2024-07-07",
          "2024-07-08",
          "2024-07-09",
          "2024-07-10",
          "2024-07-11",
          "2024-07-12",
          "2024-07-13",
          "2024-07-14",
          "2024-07-15",
          "2024-07-16",
          "2024-07-17",
          "2024-07-18",
          "2024-07-19",
          "2024-07-20",
          "2024-07-21",
          "2024-07-22",
          "2024-07-23",
          "2024-07-24",
          "2024-07-25",
          "2024-07-26",
          "2024-07-27",
          "2024-07-28",
          "2024-07-29",
          "2024-07-30",
          "2024-07-31",
          "2024-08-01",
          "2024-08-02",
          "2024-08-03",
          "2024-08-04",
          "2024-08-05",
          "2024-08-06",
          "2024-08-07",
          "2024-08-08",
          "2024-08-09",
          "2024-08-10",
          "2024-08-11",
          "2024-08-12",
          "2024-08-13",
          "2024-08-14",
          "2024-08-15",
          "2024-08-16",
          "2024-08-17",
          "2024-08-18",
          "2024-08-19",
          "2024-08-20",
          "2024-08-21",
          "2024-08-22",
          "2024-08-23",
          "2024-08-24",
          "2024-08-25",
          "2024-08-26",
          "2024-08-27",
          "2024-08-28",
          "2024-08-29",
          "2024-08-30",
          "2024-08-31",
          "2024-09-01",
          "2024-09-02",
          "2024-09-03",
          "2024-09-04",
          "2024-09-05",
          "2024-09-06",
          "2024-09-07",
          "2024-09-08",
          "2024-09-09",
          "2024-09-10",
          "2024-09-11",
          "2024-09-12",
          "2024-09-13",
          "2024-09-14",
          "2024-09-15",
          "2024-09-16",
          "2024-09-17",
          "2024-09-18",
          "2024-09-19",
          "2024-09-20",
          "2024-09-21",
          "2024-09-22",
          "2024-09-23",
          "2024-09-24",
          "2024-09-25",
          "2024-09-26",
          "2024-09-27",
          "2024-09-28",
          "2024-09-29",
          "2024-09-30",
          "2024-10-01",
          "2024-10-02",
          "2024-10-03",
          "2024-10-04",
          "2024-10-05",
          "2024-10-06",
          "2024-10-07",
          "2024-10-08",
          "2024-10-09",
          "2024-10-10",
          "2024-10-11",
          "2024-10-12",
          "2024-10-13",
          "2024-10-14",
          "2024-10-15",
          "2024-10-16",
          "2024-10-17",
          "2024-10-18",
          "2024-10-19",
          "2024-10-20",
          "2024-10-21",
          "2024-10-22",
          "2024-10-23",
          "2024-10-24",
          "2024-10-25",
          "2024-10-26",
          "2024-10-27",
          "2024-10-28",
          "2024-10-29",
          "2024-10-30",
          "2024-10-31",
          "2024-11-01",
          "2024-11-02",
          "2024-11-03",
          "2024-11-04",
          "2024-11-05",
          "2024-11-06",
          "2024-11-07",
          "2024-11-08",
          "2024-11-09",
          "2024-11-10",
          "2024-11-11",
          "2024-11-12",
          "2024-11-13",
          "2024-11-14",
          "2024-11-15",
          "2024-11-16",
          "2024-11-17",
          "2024-11-18",
          "2024-11-19",
          "2024-11-20",
          "2024-11-21",
          "2024-11-22",
          "2024-11-23",
          "2024-11-24",
          "2024-11-25",
          "2024-11-26",
          "2024-11-27",
          "2024-11-28",
          "2024-11-29",
          "2024-11-30",
          "2024-12-01",
          "2024-12-02",
          "2024-12-03",
          "2024-12-04",
          "2024-12-05",
          "2024-12-06",
          "2024-12-07",
          "2024-12-08",
          "2024-12-09",
          "2024-12-10",
          "2024-12-11",
          "2024-12-12",
          "2024-12-13",
          "2024-12-14",
          "2024-12-15",
          "2024-12-16",
          "2024-12-17",
          "2024-12-18",
          "2024-12-19",
          "2024-12-20",
          "2024-12-21",
          "2024-12-22",
          "2024-12-23",
          "2024-12-24",
          "2024-12-25",
          "2024-12-26",
          "2024-12-27",
          "2024-12-28",
          "2024-12-29",
          "2024-12-30",
          "2024-12-31"
         ],
         "xaxis": "x",
         "y": [
          0.23,
          60.93,
          76.86,
          144.46,
          183.32,
          15.95,
          5.18,
          115.86,
          152.38,
          158.35,
          138.83,
          173.62,
          83.63,
          4.91,
          113.29,
          130.17,
          166.72,
          178.59,
          118.31,
          94.02,
          11.25,
          119.99,
          135.26,
          114.05,
          114.83,
          80.33,
          67.5,
          8.02,
          55.69,
          44.83,
          40.13,
          243.24,
          236.01,
          135.29,
          3.25,
          167.27,
          123.92,
          124.59,
          133.74,
          123.7,
          121.02,
          16.43,
          104.71,
          101.21,
          114.31,
          148.05,
          131.52,
          113.11,
          12.86,
          132.14,
          120.87,
          146.92,
          139.34,
          215.51,
          127.91,
          21.11,
          112.64,
          116.22,
          102.61,
          65.01,
          298.39,
          161.84,
          26.24,
          129.63,
          149.4,
          132.11,
          138.59,
          146.87,
          135.29,
          23.15,
          177.31,
          152.56,
          155.82,
          197.74,
          147.61,
          127.6,
          36.35,
          124.07,
          155.13,
          128.68,
          162.46,
          201.26,
          188.79,
          9.09,
          99.89,
          104.07,
          112.79,
          6.76,
          9.48,
          51.55,
          1.13,
          34.31,
          298.88,
          170.63,
          133.54,
          147.74,
          146.77,
          13.08,
          186.25,
          153.52,
          203.5,
          145.93,
          220.74,
          150.35,
          9.11,
          151.54,
          131.92,
          119.69,
          175.02,
          174.77,
          125.24,
          7.37,
          151.27,
          207.22,
          180.25,
          193.83,
          109.19,
          86.59,
          10.78,
          99.31,
          74.26,
          93.52,
          247.11,
          387.47,
          162.69,
          17.47,
          216.98,
          280.79,
          290.27,
          213.52,
          209.34,
          197.32,
          14.34,
          296.52,
          165.55,
          193.69,
          169.69,
          203.53,
          113.15,
          18.12,
          188.32,
          170.89,
          113.94,
          102.48,
          136.35,
          111.82,
          6.88,
          89.8,
          77.74,
          83.13,
          85.72,
          73.88,
          346.57,
          40.37,
          335.7,
          207.05,
          288.43,
          167.45,
          223.83,
          172.83,
          18.19,
          207.89,
          160.8,
          233.28,
          156.81,
          224.7,
          162.84,
          9.22,
          183.21,
          197,
          208.49,
          156.51,
          147.35,
          158.4,
          11.39,
          12.84,
          62.35,
          52.41,
          75.02,
          86.93,
          57.64,
          10.55,
          265.16,
          289.17,
          181.2,
          203.97,
          176.56,
          138.97,
          14.54,
          129.74,
          163.54,
          145.96,
          256.66,
          169.17,
          104.67,
          10.65,
          161.19,
          142.99,
          161.15,
          156.17,
          171.26,
          118.53,
          19.88,
          136.87,
          154.18,
          170.76,
          6.38,
          100.79,
          65.54,
          3.79,
          78.11,
          65.05,
          12.3,
          281.38,
          156.8,
          127.12,
          2.26,
          97,
          106.78,
          129.21,
          72.02,
          149.24,
          82.85,
          5.78,
          80.76,
          142.02,
          129.8,
          7.59,
          80.83,
          71.66,
          17.47,
          112.84,
          61.49,
          94.3,
          71.81,
          94.85,
          76.55,
          3.4,
          125.57,
          96.74,
          77.07,
          103.44,
          117.28,
          105.54,
          14.86,
          173.77,
          147.48,
          184.47,
          118.84,
          171.79,
          96.48,
          45.21,
          176.6,
          204.57,
          227.47,
          226.07,
          230.89,
          133.76,
          15.58,
          190.07,
          145.9,
          195.16,
          155.28,
          169.71,
          145.42,
          16.72,
          191.5,
          191.07,
          155.83,
          116.14,
          89.9,
          74.9,
          9.64,
          71.61,
          352.11,
          328.55,
          147.25,
          223.3,
          165.04,
          13.1,
          171.58,
          171.05,
          144.87,
          225.58,
          287.57,
          38.33,
          15.07,
          176.52,
          181.53,
          215.69,
          144.15,
          199.37,
          150.6,
          15.44,
          194.06,
          195.04,
          176.6,
          197.42,
          143.18,
          191.29,
          17.17,
          123.56,
          168.51,
          169.44,
          173,
          108.75,
          113.05,
          41.82,
          246.02,
          262.48,
          279.87,
          224.37,
          211.86,
          145.21,
          15.54,
          221.6,
          252.09,
          250.17,
          154.21,
          440.09,
          204.4,
          15.2,
          189.75,
          202.47,
          233.73,
          148.82,
          153.15,
          120.9,
          13.33,
          119.07,
          110.94,
          103.18,
          111.98,
          111.86,
          59.74,
          59.24,
          430.33,
          358.07,
          295.62,
          252.7,
          16.41,
          127.3,
          22.99,
          245.68,
          298.4,
          310.73,
          260.4,
          317.5,
          222.77,
          25.14,
          309.03,
          331.65,
          358.22,
          353.1,
          349.38,
          203.6,
          18.99,
          293.69,
          165.67,
          1.75,
          81.86,
          127.87,
          101.82,
          4.09,
          154.35,
          120.92
         ],
         "yaxis": "y"
        },
        {
         "hovertemplate": "Operacion=Pago a usuario<br>fecha=%{x}<br>suma_diaria=%{y}<extra></extra>",
         "legendgroup": "Pago a usuario",
         "line": {
          "color": "#FF6692",
          "dash": "solid"
         },
         "marker": {
          "symbol": "circle"
         },
         "mode": "lines",
         "name": "Pago a usuario",
         "showlegend": true,
         "type": "scattergl",
         "x": [
          "2024-01-01",
          "2024-01-02",
          "2024-01-03",
          "2024-01-04",
          "2024-01-05",
          "2024-01-06",
          "2024-01-07",
          "2024-01-08",
          "2024-01-09",
          "2024-01-10",
          "2024-01-11",
          "2024-01-12",
          "2024-01-13",
          "2024-01-14",
          "2024-01-15",
          "2024-01-16",
          "2024-01-17",
          "2024-01-18",
          "2024-01-19",
          "2024-01-20",
          "2024-01-21",
          "2024-01-22",
          "2024-01-23",
          "2024-01-24",
          "2024-01-25",
          "2024-01-26",
          "2024-01-27",
          "2024-01-28",
          "2024-01-29",
          "2024-01-30",
          "2024-01-31",
          "2024-02-01",
          "2024-02-02",
          "2024-02-03",
          "2024-02-04",
          "2024-02-05",
          "2024-02-06",
          "2024-02-07",
          "2024-02-08",
          "2024-02-09",
          "2024-02-10",
          "2024-02-11",
          "2024-02-12",
          "2024-02-13",
          "2024-02-14",
          "2024-02-15",
          "2024-02-16",
          "2024-02-17",
          "2024-02-18",
          "2024-02-19",
          "2024-02-20",
          "2024-02-21",
          "2024-02-22",
          "2024-02-23",
          "2024-02-24",
          "2024-02-25",
          "2024-02-26",
          "2024-02-27",
          "2024-02-28",
          "2024-02-29",
          "2024-03-01",
          "2024-03-02",
          "2024-03-03",
          "2024-03-04",
          "2024-03-05",
          "2024-03-06",
          "2024-03-07",
          "2024-03-08",
          "2024-03-09",
          "2024-03-10",
          "2024-03-11",
          "2024-03-12",
          "2024-03-13",
          "2024-03-14",
          "2024-03-15",
          "2024-03-16",
          "2024-03-17",
          "2024-03-18",
          "2024-03-19",
          "2024-03-20",
          "2024-03-21",
          "2024-03-22",
          "2024-03-23",
          "2024-03-24",
          "2024-03-25",
          "2024-03-26",
          "2024-03-27",
          "2024-03-28",
          "2024-03-29",
          "2024-03-30",
          "2024-03-31",
          "2024-04-01",
          "2024-04-02",
          "2024-04-03",
          "2024-04-04",
          "2024-04-05",
          "2024-04-06",
          "2024-04-07",
          "2024-04-08",
          "2024-04-09",
          "2024-04-10",
          "2024-04-11",
          "2024-04-12",
          "2024-04-13",
          "2024-04-14",
          "2024-04-15",
          "2024-04-16",
          "2024-04-17",
          "2024-04-18",
          "2024-04-19",
          "2024-04-20",
          "2024-04-21",
          "2024-04-22",
          "2024-04-23",
          "2024-04-24",
          "2024-04-25",
          "2024-04-26",
          "2024-04-27",
          "2024-04-28",
          "2024-04-29",
          "2024-04-30",
          "2024-05-01",
          "2024-05-02",
          "2024-05-03",
          "2024-05-04",
          "2024-05-05",
          "2024-05-06",
          "2024-05-07",
          "2024-05-08",
          "2024-05-09",
          "2024-05-10",
          "2024-05-11",
          "2024-05-12",
          "2024-05-13",
          "2024-05-14",
          "2024-05-15",
          "2024-05-16",
          "2024-05-17",
          "2024-05-18",
          "2024-05-19",
          "2024-05-20",
          "2024-05-21",
          "2024-05-22",
          "2024-05-23",
          "2024-05-24",
          "2024-05-25",
          "2024-05-26",
          "2024-05-27",
          "2024-05-28",
          "2024-05-29",
          "2024-05-30",
          "2024-05-31",
          "2024-06-01",
          "2024-06-02",
          "2024-06-03",
          "2024-06-04",
          "2024-06-05",
          "2024-06-06",
          "2024-06-07",
          "2024-06-08",
          "2024-06-09",
          "2024-06-10",
          "2024-06-11",
          "2024-06-12",
          "2024-06-13",
          "2024-06-14",
          "2024-06-15",
          "2024-06-16",
          "2024-06-17",
          "2024-06-18",
          "2024-06-19",
          "2024-06-20",
          "2024-06-21",
          "2024-06-22",
          "2024-06-23",
          "2024-06-24",
          "2024-06-25",
          "2024-06-26",
          "2024-06-27",
          "2024-06-28",
          "2024-06-29",
          "2024-06-30",
          "2024-07-01",
          "2024-07-02",
          "2024-07-03",
          "2024-07-04",
          "2024-07-05",
          "2024-07-06",
          "2024-07-07",
          "2024-07-08",
          "2024-07-09",
          "2024-07-10",
          "2024-07-11",
          "2024-07-12",
          "2024-07-13",
          "2024-07-14",
          "2024-07-15",
          "2024-07-16",
          "2024-07-17",
          "2024-07-18",
          "2024-07-19",
          "2024-07-20",
          "2024-07-21",
          "2024-07-22",
          "2024-07-23",
          "2024-07-24",
          "2024-07-25",
          "2024-07-26",
          "2024-07-27",
          "2024-07-28",
          "2024-07-29",
          "2024-07-30",
          "2024-07-31",
          "2024-08-01",
          "2024-08-02",
          "2024-08-03",
          "2024-08-04",
          "2024-08-05",
          "2024-08-06",
          "2024-08-07",
          "2024-08-08",
          "2024-08-09",
          "2024-08-10",
          "2024-08-11",
          "2024-08-12",
          "2024-08-13",
          "2024-08-14",
          "2024-08-15",
          "2024-08-16",
          "2024-08-17",
          "2024-08-18",
          "2024-08-19",
          "2024-08-20",
          "2024-08-21",
          "2024-08-22",
          "2024-08-23",
          "2024-08-24",
          "2024-08-25",
          "2024-08-26",
          "2024-08-27",
          "2024-08-28",
          "2024-08-29",
          "2024-08-30",
          "2024-08-31",
          "2024-09-01",
          "2024-09-02",
          "2024-09-03",
          "2024-09-04",
          "2024-09-05",
          "2024-09-06",
          "2024-09-07",
          "2024-09-08",
          "2024-09-09",
          "2024-09-10",
          "2024-09-11",
          "2024-09-12",
          "2024-09-13",
          "2024-09-14",
          "2024-09-15",
          "2024-09-16",
          "2024-09-17",
          "2024-09-18",
          "2024-09-19",
          "2024-09-20",
          "2024-09-21",
          "2024-09-22",
          "2024-09-23",
          "2024-09-24",
          "2024-09-25",
          "2024-09-26",
          "2024-09-27",
          "2024-09-28",
          "2024-09-29",
          "2024-09-30",
          "2024-10-01",
          "2024-10-02",
          "2024-10-03",
          "2024-10-04",
          "2024-10-05",
          "2024-10-06",
          "2024-10-07",
          "2024-10-08",
          "2024-10-09",
          "2024-10-10",
          "2024-10-11",
          "2024-10-12",
          "2024-10-13",
          "2024-10-14",
          "2024-10-15",
          "2024-10-16",
          "2024-10-17",
          "2024-10-18",
          "2024-10-19",
          "2024-10-20",
          "2024-10-21",
          "2024-10-22",
          "2024-10-23",
          "2024-10-24",
          "2024-10-25",
          "2024-10-26",
          "2024-10-27",
          "2024-10-28",
          "2024-10-29",
          "2024-10-30",
          "2024-10-31",
          "2024-11-01",
          "2024-11-02",
          "2024-11-03",
          "2024-11-04",
          "2024-11-05",
          "2024-11-06",
          "2024-11-07",
          "2024-11-08",
          "2024-11-09",
          "2024-11-10",
          "2024-11-11",
          "2024-11-12",
          "2024-11-13",
          "2024-11-14",
          "2024-11-15",
          "2024-11-16",
          "2024-11-17",
          "2024-11-18",
          "2024-11-19",
          "2024-11-20",
          "2024-11-21",
          "2024-11-22",
          "2024-11-23",
          "2024-11-24",
          "2024-11-25",
          "2024-11-26",
          "2024-11-27",
          "2024-11-28",
          "2024-11-29",
          "2024-11-30",
          "2024-12-01",
          "2024-12-02",
          "2024-12-03",
          "2024-12-04",
          "2024-12-05",
          "2024-12-06",
          "2024-12-07",
          "2024-12-08",
          "2024-12-09",
          "2024-12-10",
          "2024-12-11",
          "2024-12-12",
          "2024-12-13",
          "2024-12-14",
          "2024-12-15",
          "2024-12-16",
          "2024-12-17",
          "2024-12-18",
          "2024-12-19",
          "2024-12-20",
          "2024-12-21",
          "2024-12-22",
          "2024-12-23",
          "2024-12-24",
          "2024-12-25",
          "2024-12-26",
          "2024-12-27",
          "2024-12-28",
          "2024-12-29",
          "2024-12-30",
          "2024-12-31"
         ],
         "xaxis": "x",
         "y": [
          740.39,
          13489.41,
          13427.2,
          15878.2,
          18639.96,
          2879.11,
          885.12,
          14389.17,
          13825.57,
          13521.33,
          12874.76,
          16495.2,
          9089.87,
          1197.13,
          10697.16,
          10911.23,
          12915.99,
          12480.71,
          14241.79,
          8331.22,
          973.05,
          10887.47,
          10675.93,
          9884.18,
          10887.26,
          6722.13,
          5402.44,
          537.02,
          5529.49,
          4483.37,
          4846.64,
          16699.81,
          14924.7,
          10260.46,
          289.59,
          12595.89,
          10291.13,
          10088.49,
          10772.5,
          9847.2,
          9531.72,
          975.98,
          6708.71,
          8567.71,
          10470.89,
          10030.31,
          11449.71,
          8463.55,
          1041.5,
          10311.81,
          9024.74,
          9781.4,
          8846.43,
          14801.71,
          9464.65,
          1013.45,
          8436.06,
          8638.63,
          6449.82,
          6087.91,
          20074.25,
          10179.18,
          1875.44,
          10086.39,
          11665.63,
          10729.03,
          10111.9,
          11341.18,
          9822.54,
          1486.11,
          13835,
          11335.74,
          12543.33,
          15339.74,
          11861.1,
          9173.96,
          1584.94,
          13785.23,
          9666.33,
          9923.82,
          12167.71,
          14144.95,
          14976.47,
          400.85,
          10110.47,
          8327.64,
          9655.19,
          166.6,
          424.98,
          4031.36,
          225,
          2391.35,
          16684.87,
          11115.97,
          9039.74,
          9191.37,
          9134.32,
          752.59,
          12638.68,
          11602.02,
          13431.76,
          8990.15,
          13927.57,
          10723.25,
          351.97,
          10049.06,
          9793.41,
          8738.8,
          9986.31,
          12465.1,
          9256.62,
          409.72,
          10338.83,
          10454.4,
          12996.41,
          12606.51,
          8645.65,
          7801.03,
          664.44,
          7372.24,
          7549.99,
          3404.41,
          16232.01,
          18815.18,
          10793.2,
          1178.55,
          15534.73,
          15892.02,
          15116.54,
          13393.14,
          14209.68,
          12871.88,
          1041.49,
          16157.77,
          12949.19,
          12802.34,
          10897.61,
          12736.08,
          8358.89,
          819.84,
          11703.86,
          10339.3,
          6883.34,
          7275.98,
          10880.19,
          6261.61,
          377.87,
          6979.67,
          6064.12,
          6665.03,
          6168.09,
          5244,
          18915.94,
          1867.22,
          22134.28,
          15483.83,
          14750.22,
          9971.69,
          13535.79,
          8899.65,
          2061.9,
          11969.49,
          12621.85,
          14827.86,
          11361.65,
          14595.15,
          10153.01,
          673.9,
          9892.13,
          11995.41,
          12930.07,
          10930.33,
          10205.44,
          10206.52,
          668.21,
          725.72,
          4826.96,
          3138.44,
          4070.33,
          4712.19,
          5272.48,
          482.48,
          21880.19,
          16571.39,
          13708,
          13035.76,
          12686.17,
          9316.67,
          1248.09,
          10183.83,
          11026.48,
          10805.01,
          12957.28,
          13427.68,
          6861.08,
          639.54,
          12404.16,
          12269.19,
          10577.64,
          8991.2,
          11774.24,
          8494.82,
          994.7,
          8371.66,
          9820.52,
          11951.96,
          531.84,
          8425.65,
          4309.81,
          384.92,
          5525.22,
          6887.52,
          969.38,
          16422.34,
          10871.74,
          8257.55,
          387.28,
          8165.86,
          7204.25,
          9481.46,
          5628.07,
          8707.58,
          4930.67,
          305.43,
          7186.71,
          9775.54,
          8503.67,
          639.87,
          5356.69,
          5350.41,
          889.46,
          6840.44,
          4366.97,
          5285.44,
          5761.76,
          6827.18,
          5830.51,
          196.08,
          9022.76,
          5970.57,
          7923.72,
          7300.24,
          9951.45,
          7365.52,
          769.63,
          10346.27,
          10074.74,
          10247.26,
          8800.16,
          10544.42,
          7646.66,
          2202.31,
          11552.44,
          14432.99,
          14422.37,
          11881.26,
          13401.06,
          8668.11,
          962.21,
          11922.58,
          10728.81,
          13720.62,
          11151.27,
          12873.83,
          9796.35,
          746.71,
          11694.7,
          12761.98,
          13028.4,
          6919.11,
          7297.93,
          5520.03,
          1038.22,
          6004.59,
          19335.19,
          20021.29,
          12211.1,
          13188.58,
          10789.37,
          563.14,
          13492.9,
          9835.64,
          11195.93,
          14613.63,
          19218.35,
          1676.57,
          750.76,
          10023.99,
          11953.91,
          11701.5,
          9193.56,
          15091.26,
          9122.56,
          1451.4,
          13121.37,
          11293.92,
          11228.81,
          11980.66,
          9694.6,
          10413.22,
          841.53,
          8226.07,
          10546.9,
          10671.23,
          11235.37,
          3565.66,
          8742.03,
          1725.03,
          16186.14,
          17133.16,
          15570.37,
          12597.68,
          15965.07,
          9438.37,
          773.75,
          12739.23,
          15975.84,
          14767.01,
          12016.36,
          23410.12,
          10699.23,
          759.13,
          10737.95,
          12253.35,
          14929.43,
          10281.76,
          10762.39,
          6790.53,
          894.84,
          6790.72,
          7872.06,
          8265.84,
          6675.2,
          9059.49,
          4987.1,
          2976.32,
          24957.86,
          20204.41,
          18887.67,
          19545.81,
          866.2,
          10325.29,
          1209.05,
          15852.76,
          17932.2,
          20750.91,
          14105.94,
          20723.07,
          13737.84,
          1688.43,
          17473.26,
          17460.63,
          23477.2,
          21772.2,
          21811.25,
          12471.48,
          1102.41,
          17560.44,
          11994.6,
          191.47,
          5445.49,
          7715.29,
          7477.14,
          213.49,
          10756.51,
          8409.39
         ],
         "yaxis": "y"
        },
        {
         "hovertemplate": "Operacion=Recarga por tarjeta<br>fecha=%{x}<br>suma_diaria=%{y}<extra></extra>",
         "legendgroup": "Recarga por tarjeta",
         "line": {
          "color": "#B6E880",
          "dash": "solid"
         },
         "marker": {
          "symbol": "circle"
         },
         "mode": "lines",
         "name": "Recarga por tarjeta",
         "showlegend": true,
         "type": "scattergl",
         "x": [
          "2024-01-01",
          "2024-01-02",
          "2024-01-03",
          "2024-01-04",
          "2024-01-05",
          "2024-01-06",
          "2024-01-07",
          "2024-01-08",
          "2024-01-09",
          "2024-01-10",
          "2024-01-11",
          "2024-01-12",
          "2024-01-13",
          "2024-01-14",
          "2024-01-15",
          "2024-01-16",
          "2024-01-17",
          "2024-01-18",
          "2024-01-19",
          "2024-01-20",
          "2024-01-21",
          "2024-01-22",
          "2024-01-23",
          "2024-01-24",
          "2024-01-25",
          "2024-01-26",
          "2024-01-27",
          "2024-01-28",
          "2024-01-29",
          "2024-01-30",
          "2024-01-31",
          "2024-02-01",
          "2024-02-02",
          "2024-02-03",
          "2024-02-04",
          "2024-02-05",
          "2024-02-06",
          "2024-02-07",
          "2024-02-08",
          "2024-02-09",
          "2024-02-10",
          "2024-02-11",
          "2024-02-12",
          "2024-02-13",
          "2024-02-14",
          "2024-02-15",
          "2024-02-16",
          "2024-02-17",
          "2024-02-18",
          "2024-02-19",
          "2024-02-20",
          "2024-02-21",
          "2024-02-22",
          "2024-02-23",
          "2024-02-24",
          "2024-02-25",
          "2024-02-26",
          "2024-02-27",
          "2024-02-28",
          "2024-02-29",
          "2024-03-01",
          "2024-03-02",
          "2024-03-03",
          "2024-03-04",
          "2024-03-05",
          "2024-03-06",
          "2024-03-07",
          "2024-03-08",
          "2024-03-09",
          "2024-03-10",
          "2024-03-11",
          "2024-03-12",
          "2024-03-13",
          "2024-03-14",
          "2024-03-15",
          "2024-03-16",
          "2024-03-17",
          "2024-03-18",
          "2024-03-19",
          "2024-03-20",
          "2024-03-21",
          "2024-03-22",
          "2024-03-23",
          "2024-03-24",
          "2024-03-25",
          "2024-03-26",
          "2024-03-27",
          "2024-03-29",
          "2024-03-30",
          "2024-03-31",
          "2024-04-01",
          "2024-04-02",
          "2024-04-03",
          "2024-04-04",
          "2024-04-05",
          "2024-04-06",
          "2024-04-07",
          "2024-04-08",
          "2024-04-09",
          "2024-04-10",
          "2024-04-11",
          "2024-04-12",
          "2024-04-13",
          "2024-04-14",
          "2024-04-15",
          "2024-04-16",
          "2024-04-17",
          "2024-04-18",
          "2024-04-19",
          "2024-04-20",
          "2024-04-21",
          "2024-04-22",
          "2024-04-23",
          "2024-04-24",
          "2024-04-25",
          "2024-04-26",
          "2024-04-27",
          "2024-04-28",
          "2024-04-29",
          "2024-04-30",
          "2024-05-01",
          "2024-05-02",
          "2024-05-03",
          "2024-05-04",
          "2024-05-05",
          "2024-05-06",
          "2024-05-07",
          "2024-05-08",
          "2024-05-09",
          "2024-05-10",
          "2024-05-11",
          "2024-05-12",
          "2024-05-13",
          "2024-05-14",
          "2024-05-15",
          "2024-05-16",
          "2024-05-17",
          "2024-05-18",
          "2024-05-19",
          "2024-05-20",
          "2024-05-21",
          "2024-05-22",
          "2024-05-23",
          "2024-05-24",
          "2024-05-25",
          "2024-05-26",
          "2024-05-27",
          "2024-05-28",
          "2024-05-29",
          "2024-05-30",
          "2024-05-31",
          "2024-06-01",
          "2024-06-02",
          "2024-06-03",
          "2024-06-04",
          "2024-06-05",
          "2024-06-06",
          "2024-06-07",
          "2024-06-08",
          "2024-06-09",
          "2024-06-10",
          "2024-06-11",
          "2024-06-12",
          "2024-06-13",
          "2024-06-14",
          "2024-06-15",
          "2024-06-16",
          "2024-06-17",
          "2024-06-18",
          "2024-06-19",
          "2024-06-20",
          "2024-06-21",
          "2024-06-22",
          "2024-06-23",
          "2024-06-24",
          "2024-06-25",
          "2024-06-26",
          "2024-06-27",
          "2024-06-28",
          "2024-06-29",
          "2024-06-30",
          "2024-07-01",
          "2024-07-02",
          "2024-07-03",
          "2024-07-04",
          "2024-07-05",
          "2024-07-06",
          "2024-07-07",
          "2024-07-08",
          "2024-07-09",
          "2024-07-10",
          "2024-07-11",
          "2024-07-12",
          "2024-07-13",
          "2024-07-14",
          "2024-07-15",
          "2024-07-16",
          "2024-07-17",
          "2024-07-18",
          "2024-07-19",
          "2024-07-20",
          "2024-07-21",
          "2024-07-22",
          "2024-07-23",
          "2024-07-24",
          "2024-07-25",
          "2024-07-26",
          "2024-07-27",
          "2024-07-28",
          "2024-07-29",
          "2024-07-30",
          "2024-07-31",
          "2024-08-01",
          "2024-08-02",
          "2024-08-04",
          "2024-08-05",
          "2024-08-06",
          "2024-08-07",
          "2024-08-08",
          "2024-08-09",
          "2024-08-10",
          "2024-08-11",
          "2024-08-12",
          "2024-08-13",
          "2024-08-14",
          "2024-08-15",
          "2024-08-16",
          "2024-08-17",
          "2024-08-18",
          "2024-08-19",
          "2024-08-20",
          "2024-08-21",
          "2024-08-22",
          "2024-08-23",
          "2024-08-24",
          "2024-08-25",
          "2024-08-26",
          "2024-08-27",
          "2024-08-28",
          "2024-08-29",
          "2024-08-30",
          "2024-08-31",
          "2024-09-01",
          "2024-09-02",
          "2024-09-03",
          "2024-09-04",
          "2024-09-05",
          "2024-09-06",
          "2024-09-07",
          "2024-09-08",
          "2024-09-09",
          "2024-09-10",
          "2024-09-11",
          "2024-09-12",
          "2024-09-13",
          "2024-09-14",
          "2024-09-15",
          "2024-09-16",
          "2024-09-17",
          "2024-09-18",
          "2024-09-19",
          "2024-09-20",
          "2024-09-21",
          "2024-09-22",
          "2024-09-23",
          "2024-09-24",
          "2024-09-25",
          "2024-09-26",
          "2024-09-27",
          "2024-09-28",
          "2024-09-29",
          "2024-09-30",
          "2024-10-01",
          "2024-10-02",
          "2024-10-03",
          "2024-10-04",
          "2024-10-05",
          "2024-10-06",
          "2024-10-07",
          "2024-10-08",
          "2024-10-09",
          "2024-10-10",
          "2024-10-11",
          "2024-10-12",
          "2024-10-13",
          "2024-10-14",
          "2024-10-15",
          "2024-10-16",
          "2024-10-17",
          "2024-10-18",
          "2024-10-19",
          "2024-10-20",
          "2024-10-21",
          "2024-10-22",
          "2024-10-23",
          "2024-10-24",
          "2024-10-25",
          "2024-10-26",
          "2024-10-27",
          "2024-10-28",
          "2024-10-29",
          "2024-10-30",
          "2024-10-31",
          "2024-11-01",
          "2024-11-02",
          "2024-11-03",
          "2024-11-04",
          "2024-11-05",
          "2024-11-06",
          "2024-11-07",
          "2024-11-08",
          "2024-11-09",
          "2024-11-10",
          "2024-11-11",
          "2024-11-12",
          "2024-11-13",
          "2024-11-14",
          "2024-11-15",
          "2024-11-16",
          "2024-11-17",
          "2024-11-18",
          "2024-11-19",
          "2024-11-20",
          "2024-11-21",
          "2024-11-22",
          "2024-11-23",
          "2024-11-24",
          "2024-11-25",
          "2024-11-26",
          "2024-11-27",
          "2024-11-28",
          "2024-11-29",
          "2024-11-30",
          "2024-12-01",
          "2024-12-02",
          "2024-12-03",
          "2024-12-04",
          "2024-12-05",
          "2024-12-06",
          "2024-12-07",
          "2024-12-08",
          "2024-12-09",
          "2024-12-10",
          "2024-12-11",
          "2024-12-12",
          "2024-12-13",
          "2024-12-14",
          "2024-12-15",
          "2024-12-16",
          "2024-12-17",
          "2024-12-18",
          "2024-12-19",
          "2024-12-20",
          "2024-12-21",
          "2024-12-22",
          "2024-12-23",
          "2024-12-24",
          "2024-12-25",
          "2024-12-26",
          "2024-12-27",
          "2024-12-28",
          "2024-12-29",
          "2024-12-30",
          "2024-12-31"
         ],
         "xaxis": "x",
         "y": [
          330,
          5370,
          5550,
          6673,
          8289,
          1100,
          1330,
          5230,
          4805,
          5440,
          3450,
          5645,
          3530,
          990,
          4705,
          2800,
          4060,
          4370,
          3730,
          3465,
          600,
          3455,
          3160,
          4435,
          2955,
          2535,
          1370,
          960,
          2050,
          2800,
          1930,
          7219,
          4810,
          4170,
          250,
          5250,
          2460,
          4622,
          1980,
          4300,
          2380,
          500,
          3050,
          250,
          7295,
          4245,
          4300,
          3810,
          700,
          3588,
          3070,
          3290,
          4845,
          3035,
          2230,
          1690,
          5510,
          5515,
          2900,
          3110,
          5530,
          5744,
          1250,
          5205,
          3415,
          3950,
          2730,
          3780,
          3190,
          1200,
          4975,
          3890,
          2903,
          5700,
          3585,
          3050,
          1020,
          3405,
          4280,
          3250,
          2475,
          3580,
          3545,
          200,
          4357,
          3557,
          2152,
          500,
          1730,
          450,
          1895,
          7600,
          3760,
          3650,
          4459,
          3540,
          850,
          4105,
          3830,
          4130,
          3810,
          3855,
          6065,
          700,
          2410,
          4475,
          3390,
          4290,
          3620,
          3450,
          1530,
          3270,
          3720,
          4190,
          4120,
          2790,
          2410,
          1000,
          2560,
          2910,
          1940,
          6070,
          7490,
          6160,
          1600,
          6779,
          6930,
          3545,
          5555,
          3375,
          3790,
          995,
          3950,
          3448,
          6718,
          3295,
          2890,
          3011,
          1240,
          4415,
          3490,
          2670,
          1650,
          3641,
          1830,
          1186,
          2040,
          2760,
          2180,
          2740,
          3230,
          9425,
          2050,
          9080,
          6508,
          5007,
          5935,
          4700,
          4150,
          750,
          4226,
          3100,
          3310,
          2650,
          4115,
          3065,
          1000,
          5040,
          5020,
          3625,
          4800,
          2110,
          3040,
          450,
          850,
          1200,
          1830,
          1390,
          1700,
          2760,
          1566,
          7143,
          6815,
          4460,
          5700,
          2867,
          4610,
          700,
          3700,
          5045,
          4050,
          3840,
          4325,
          1920,
          525,
          3903,
          2810,
          4974,
          4160,
          4440,
          1800,
          500,
          3835,
          3286,
          3057,
          320,
          2989,
          1165,
          50,
          2043,
          1030,
          625,
          6936,
          1920,
          700,
          2850,
          2940,
          3870,
          2110,
          3090,
          1635,
          800,
          3057,
          2160,
          1680,
          400,
          2020,
          458,
          1000,
          3480,
          2230,
          1850,
          2160,
          2705,
          1852,
          1080,
          3510,
          3375,
          1935,
          2340,
          3755,
          2690,
          600,
          3750,
          5125,
          3997,
          3970,
          4380,
          2910,
          1679,
          5016,
          5068,
          4063,
          3460,
          4355,
          3725,
          880,
          5420,
          3160,
          5969,
          3570,
          3350,
          2264,
          550,
          3110,
          3170,
          2975,
          3600,
          3115,
          1270,
          1005,
          4510,
          8030,
          4365,
          4060,
          5860,
          3960,
          470,
          4735,
          4400,
          3865,
          5030,
          4360,
          1450,
          600,
          3245,
          5030,
          4000,
          3352,
          2850,
          5060,
          1950,
          6050,
          4135,
          2600,
          3845,
          3480,
          3612,
          550,
          3409,
          3310,
          6100,
          2745,
          3170,
          3235,
          1810,
          6330,
          6153,
          5160,
          3915,
          3930,
          4530,
          530,
          4670,
          3805,
          5580,
          6050,
          7505,
          3090,
          730,
          4732,
          4705,
          4205,
          3528,
          2010,
          3185,
          200,
          3000,
          2573,
          2110,
          2925,
          1540,
          4610,
          3550,
          11985,
          6465,
          9395,
          6715,
          850,
          3320,
          1115,
          5960,
          5995,
          6650,
          5365,
          6223,
          3575,
          3035,
          5765,
          9004,
          7380,
          6270,
          5600,
          4373,
          1312,
          5875,
          4235,
          502,
          2350,
          2420,
          1765,
          500,
          3760,
          1680
         ],
         "yaxis": "y"
        },
        {
         "hovertemplate": "Operacion=Cobro desde QR<br>fecha=%{x}<br>suma_diaria=%{y}<extra></extra>",
         "legendgroup": "Cobro desde QR",
         "line": {
          "color": "#FF97FF",
          "dash": "solid"
         },
         "marker": {
          "symbol": "circle"
         },
         "mode": "lines",
         "name": "Cobro desde QR",
         "showlegend": true,
         "type": "scattergl",
         "x": [
          "2024-01-02",
          "2024-01-03",
          "2024-01-04",
          "2024-01-05",
          "2024-01-06",
          "2024-01-07",
          "2024-01-08",
          "2024-01-09",
          "2024-01-10",
          "2024-01-11",
          "2024-01-12",
          "2024-01-13",
          "2024-01-14",
          "2024-01-15",
          "2024-01-16",
          "2024-01-17",
          "2024-01-18",
          "2024-01-19",
          "2024-01-20",
          "2024-01-21",
          "2024-01-22",
          "2024-01-23",
          "2024-01-24",
          "2024-01-25",
          "2024-01-26",
          "2024-01-27",
          "2024-01-28",
          "2024-01-29",
          "2024-01-30",
          "2024-01-31",
          "2024-02-01",
          "2024-02-02",
          "2024-02-03",
          "2024-02-04",
          "2024-02-05",
          "2024-02-06",
          "2024-02-07",
          "2024-02-08",
          "2024-02-09",
          "2024-02-10",
          "2024-02-11",
          "2024-02-12",
          "2024-02-13",
          "2024-02-14",
          "2024-02-15",
          "2024-02-16",
          "2024-02-17",
          "2024-02-18",
          "2024-02-19",
          "2024-02-20",
          "2024-02-21",
          "2024-02-22",
          "2024-02-23",
          "2024-02-24",
          "2024-02-25",
          "2024-02-26",
          "2024-02-27",
          "2024-02-28",
          "2024-02-29",
          "2024-03-01",
          "2024-03-02",
          "2024-03-03",
          "2024-03-04",
          "2024-03-05",
          "2024-03-06",
          "2024-03-07",
          "2024-03-08",
          "2024-03-09",
          "2024-03-10",
          "2024-03-11",
          "2024-03-12",
          "2024-03-13",
          "2024-03-14",
          "2024-03-15",
          "2024-03-16",
          "2024-03-17",
          "2024-03-18",
          "2024-03-19",
          "2024-03-20",
          "2024-03-21",
          "2024-03-22",
          "2024-03-23",
          "2024-03-24",
          "2024-03-25",
          "2024-03-26",
          "2024-03-27",
          "2024-03-28",
          "2024-03-29",
          "2024-03-30",
          "2024-03-31",
          "2024-04-01",
          "2024-04-02",
          "2024-04-03",
          "2024-04-04",
          "2024-04-05",
          "2024-04-06",
          "2024-04-07",
          "2024-04-08",
          "2024-04-09",
          "2024-04-10",
          "2024-04-11",
          "2024-04-12",
          "2024-04-13",
          "2024-04-14",
          "2024-04-15",
          "2024-04-16",
          "2024-04-17",
          "2024-04-18",
          "2024-04-19",
          "2024-04-20",
          "2024-04-21",
          "2024-04-22",
          "2024-04-23",
          "2024-04-24",
          "2024-04-25",
          "2024-04-26",
          "2024-04-27",
          "2024-04-28",
          "2024-04-29",
          "2024-04-30",
          "2024-05-01",
          "2024-05-02",
          "2024-05-03",
          "2024-05-04",
          "2024-05-05",
          "2024-05-06",
          "2024-05-07",
          "2024-05-08",
          "2024-05-09",
          "2024-05-10",
          "2024-05-11",
          "2024-05-12",
          "2024-05-13",
          "2024-05-14",
          "2024-05-15",
          "2024-05-16",
          "2024-05-17",
          "2024-05-18",
          "2024-05-19",
          "2024-05-20",
          "2024-05-21",
          "2024-05-22",
          "2024-05-23",
          "2024-05-24",
          "2024-05-25",
          "2024-05-26",
          "2024-05-27",
          "2024-05-28",
          "2024-05-29",
          "2024-05-30",
          "2024-05-31",
          "2024-06-01",
          "2024-06-02",
          "2024-06-03",
          "2024-06-04",
          "2024-06-05",
          "2024-06-06",
          "2024-06-07",
          "2024-06-08",
          "2024-06-09",
          "2024-06-10",
          "2024-06-11",
          "2024-06-12",
          "2024-06-13",
          "2024-06-14",
          "2024-06-15",
          "2024-06-16",
          "2024-06-17",
          "2024-06-18",
          "2024-06-19",
          "2024-06-20",
          "2024-06-21",
          "2024-06-22",
          "2024-06-23",
          "2024-06-24",
          "2024-06-25",
          "2024-06-26",
          "2024-06-27",
          "2024-06-28",
          "2024-06-29",
          "2024-06-30",
          "2024-07-01",
          "2024-07-02",
          "2024-07-03",
          "2024-07-04",
          "2024-07-05",
          "2024-07-06",
          "2024-07-07",
          "2024-07-08",
          "2024-07-09",
          "2024-07-10",
          "2024-07-11",
          "2024-07-12",
          "2024-07-13",
          "2024-07-14",
          "2024-07-15",
          "2024-07-16",
          "2024-07-17",
          "2024-07-18",
          "2024-07-19",
          "2024-07-20",
          "2024-07-21",
          "2024-07-22",
          "2024-07-23",
          "2024-07-24",
          "2024-07-25",
          "2024-07-26",
          "2024-07-27",
          "2024-07-28",
          "2024-07-29",
          "2024-07-30",
          "2024-07-31",
          "2024-08-01",
          "2024-08-02",
          "2024-08-03",
          "2024-08-04",
          "2024-08-05",
          "2024-08-06",
          "2024-08-07",
          "2024-08-08",
          "2024-08-09",
          "2024-08-10",
          "2024-08-11",
          "2024-08-12",
          "2024-08-13",
          "2024-08-14",
          "2024-08-15",
          "2024-08-16",
          "2024-08-17",
          "2024-08-18",
          "2024-08-19",
          "2024-08-20",
          "2024-08-21",
          "2024-08-22",
          "2024-08-23",
          "2024-08-24",
          "2024-08-25",
          "2024-08-26",
          "2024-08-27",
          "2024-08-28",
          "2024-08-29",
          "2024-08-30",
          "2024-08-31",
          "2024-09-01",
          "2024-09-02",
          "2024-09-03",
          "2024-09-04",
          "2024-09-05",
          "2024-09-06",
          "2024-09-07",
          "2024-09-08",
          "2024-09-09",
          "2024-09-10",
          "2024-09-11",
          "2024-09-12",
          "2024-09-13",
          "2024-09-14",
          "2024-09-15",
          "2024-09-16",
          "2024-09-17",
          "2024-09-18",
          "2024-09-19",
          "2024-09-20",
          "2024-09-21",
          "2024-09-22",
          "2024-09-23",
          "2024-09-24",
          "2024-09-25",
          "2024-09-26",
          "2024-09-27",
          "2024-09-28",
          "2024-09-29",
          "2024-09-30",
          "2024-10-01",
          "2024-10-02",
          "2024-10-03",
          "2024-10-04",
          "2024-10-05",
          "2024-10-06",
          "2024-10-07",
          "2024-10-08",
          "2024-10-09",
          "2024-10-10",
          "2024-10-11",
          "2024-10-12",
          "2024-10-13",
          "2024-10-14",
          "2024-10-15",
          "2024-10-16",
          "2024-10-17",
          "2024-10-18",
          "2024-10-19",
          "2024-10-20",
          "2024-10-21",
          "2024-10-22",
          "2024-10-23",
          "2024-10-24",
          "2024-10-25",
          "2024-10-26",
          "2024-10-27",
          "2024-10-28",
          "2024-10-29",
          "2024-10-30",
          "2024-10-31",
          "2024-11-01",
          "2024-11-02",
          "2024-11-03",
          "2024-11-04",
          "2024-11-05",
          "2024-11-06",
          "2024-11-07",
          "2024-11-08",
          "2024-11-09",
          "2024-11-10",
          "2024-11-11",
          "2024-11-12",
          "2024-11-13",
          "2024-11-14",
          "2024-11-15",
          "2024-11-16",
          "2024-11-17",
          "2024-11-18",
          "2024-11-19",
          "2024-11-20",
          "2024-11-21",
          "2024-11-22",
          "2024-11-23",
          "2024-11-24",
          "2024-11-25",
          "2024-11-26",
          "2024-11-27",
          "2024-11-28",
          "2024-11-29",
          "2024-11-30",
          "2024-12-01",
          "2024-12-02",
          "2024-12-03",
          "2024-12-04",
          "2024-12-05",
          "2024-12-06",
          "2024-12-07",
          "2024-12-08",
          "2024-12-09",
          "2024-12-10",
          "2024-12-11",
          "2024-12-12",
          "2024-12-13",
          "2024-12-14",
          "2024-12-15",
          "2024-12-16",
          "2024-12-17",
          "2024-12-18",
          "2024-12-19",
          "2024-12-20",
          "2024-12-21",
          "2024-12-22",
          "2024-12-23",
          "2024-12-24",
          "2024-12-25",
          "2024-12-26",
          "2024-12-27",
          "2024-12-28",
          "2024-12-29",
          "2024-12-30",
          "2024-12-31"
         ],
         "xaxis": "x",
         "y": [
          666.54,
          567.71,
          2157.44,
          2329.38,
          90.8,
          39.69,
          911.33,
          1175.6,
          1474.46,
          1275.06,
          1106.02,
          897.28,
          49.6,
          730.43,
          1482.89,
          1179.8,
          713.15,
          1228.24,
          729.75,
          41.13,
          701.82,
          721.71,
          795.32,
          783.22,
          646.42,
          583.9,
          50.26,
          685.63,
          631.95,
          445.8,
          1169.14,
          1409.98,
          797.34,
          16.5,
          1116.84,
          628.96,
          1527.3,
          1139.27,
          1656.59,
          826.47,
          119.72,
          861.3,
          745.95,
          785.83,
          655.51,
          1121.57,
          875.8,
          62.39,
          827.5,
          1039.17,
          1442.51,
          580.21,
          997.14,
          672.48,
          56.35,
          814.03,
          990.63,
          778.71,
          793.58,
          1755.46,
          860.4,
          24.04,
          997.46,
          1005.66,
          787.49,
          1008.6,
          1388.23,
          993.68,
          34.27,
          840.27,
          730.39,
          1078.13,
          1320.62,
          1087.24,
          1134.84,
          157.66,
          755.73,
          711.82,
          793.81,
          1711.83,
          1362.93,
          1002.05,
          49.47,
          797.81,
          876.7,
          1836.15,
          128.01,
          85.17,
          417.37,
          4.08,
          48.75,
          958.79,
          800.22,
          1137.47,
          1021.83,
          765.8,
          10.15,
          949.09,
          986.91,
          1170.3,
          781.73,
          1154.69,
          737.99,
          141.01,
          1334.19,
          1699.45,
          1076.09,
          876.5,
          1250.03,
          674.95,
          39.69,
          624.41,
          1469.42,
          1514.3,
          1173.1,
          781.48,
          585.89,
          47.01,
          801.23,
          640.44,
          142.33,
          1464.76,
          2117.95,
          989.38,
          418.1,
          1114.83,
          869.27,
          1083.62,
          1619.6,
          1010.64,
          643.89,
          19.91,
          725.29,
          817.47,
          900.88,
          1123.3,
          1636.65,
          969.82,
          23.64,
          1200.12,
          1234.36,
          1178.94,
          484.7,
          503.56,
          477.7,
          19.97,
          502.55,
          437.88,
          532.03,
          489.29,
          594.25,
          1072.04,
          18.22,
          1385.86,
          1024.31,
          1209.09,
          1210.77,
          1341.44,
          1088.22,
          38.4,
          544.09,
          867.88,
          1013.72,
          1103.37,
          926.26,
          959.96,
          19.35,
          1084.73,
          869.7,
          1588.27,
          656.34,
          1221.51,
          1473.06,
          138.75,
          132.69,
          419.41,
          673.53,
          541.91,
          927.35,
          379.2,
          59.57,
          1913.4,
          911.35,
          1362.99,
          1052.02,
          1042.36,
          935.92,
          8.6,
          568.93,
          975.88,
          1303.11,
          894.43,
          1096.87,
          1197.81,
          22.05,
          520.9,
          1590.19,
          944.85,
          796.24,
          1160.07,
          740.7,
          24.72,
          770.59,
          1169.77,
          1024.5,
          56.4,
          987.92,
          900.26,
          39.67,
          407.9,
          482.3,
          16.6,
          1145.98,
          733.35,
          846.97,
          20.15,
          469.31,
          592.88,
          875.45,
          467.67,
          1144.22,
          781.09,
          7.8,
          261.55,
          1026.85,
          1273.48,
          12.4,
          557.91,
          810.16,
          6.05,
          430.26,
          436.19,
          714.66,
          400.64,
          799.08,
          848.42,
          14.95,
          390.77,
          523.51,
          507.21,
          382.97,
          1563.99,
          632.42,
          25.05,
          536.38,
          780.92,
          1025.18,
          709.6,
          1709.29,
          813.42,
          164.75,
          835.25,
          951.32,
          1183.94,
          1027.46,
          994.8,
          688.86,
          54.35,
          779.5,
          851.99,
          1163.33,
          926.15,
          1197.11,
          797.97,
          111.63,
          570.47,
          1013.13,
          746.76,
          1015.68,
          611.41,
          572.25,
          27.3,
          612.63,
          774.16,
          1123.35,
          558.81,
          1251.35,
          1049.35,
          7.15,
          797.75,
          490.66,
          882.12,
          999.15,
          1986.89,
          42.75,
          68.1,
          1043.52,
          1280.85,
          885.4,
          848.81,
          1938.84,
          962.44,
          47.8,
          1432.24,
          1266.37,
          1151.85,
          888.99,
          1108.76,
          942.86,
          223.91,
          733.02,
          779.34,
          1151.26,
          1413.49,
          69.27,
          638.85,
          85.89,
          1589.84,
          1442.08,
          1726.4,
          1244.78,
          1036.64,
          888.28,
          18.75,
          829.6,
          903.92,
          985.46,
          564.52,
          1856.58,
          1029.85,
          36.45,
          687.67,
          1110.04,
          765.1,
          625.58,
          1126.74,
          534.83,
          45.15,
          792.48,
          860.99,
          1034.9,
          435.73,
          1098.15,
          806.58,
          60.05,
          1240.87,
          1723.41,
          1225.22,
          1983.94,
          119.09,
          654.05,
          103.33,
          648.05,
          1572,
          2180.94,
          1551.68,
          1342.67,
          949.38,
          44.48,
          918.32,
          1180.74,
          1434,
          1475.35,
          1339.72,
          887.4,
          14.95,
          1485.37,
          1325.5,
          8.5,
          466.59,
          855.61,
          1133.08,
          38.6,
          883.22,
          1975.56
         ],
         "yaxis": "y"
        },
        {
         "hovertemplate": "Operacion=Transferencia interna<br>fecha=%{x}<br>suma_diaria=%{y}<extra></extra>",
         "legendgroup": "Transferencia interna",
         "line": {
          "color": "#FECB52",
          "dash": "solid"
         },
         "marker": {
          "symbol": "circle"
         },
         "mode": "lines",
         "name": "Transferencia interna",
         "showlegend": true,
         "type": "scattergl",
         "x": [
          "2024-01-04",
          "2024-01-28",
          "2024-01-30",
          "2024-02-01",
          "2024-02-05"
         ],
         "xaxis": "x",
         "y": [
          45,
          147.76,
          8.48,
          105.01,
          3.62
         ],
         "yaxis": "y"
        },
        {
         "hovertemplate": "Operacion=Cuota variable<br>fecha=%{x}<br>suma_diaria=%{y}<extra></extra>",
         "legendgroup": "Cuota variable",
         "line": {
          "color": "#636efa",
          "dash": "solid"
         },
         "marker": {
          "symbol": "circle"
         },
         "mode": "lines",
         "name": "Cuota variable",
         "showlegend": true,
         "type": "scattergl",
         "x": [
          "2024-01-16",
          "2024-02-13",
          "2024-03-18",
          "2024-04-24",
          "2024-05-10",
          "2024-06-10",
          "2024-07-10",
          "2024-08-13",
          "2024-09-04",
          "2024-10-23",
          "2024-11-08",
          "2024-12-03"
         ],
         "xaxis": "x",
         "y": [
          511.51,
          541.37,
          531.02,
          526.08,
          545.75,
          536.23,
          529.51,
          476.9,
          470.04,
          509.39,
          466.61,
          484.75
         ],
         "yaxis": "y"
        },
        {
         "hovertemplate": "Operacion=Donación<br>fecha=%{x}<br>suma_diaria=%{y}<extra></extra>",
         "legendgroup": "Donación",
         "line": {
          "color": "#EF553B",
          "dash": "solid"
         },
         "marker": {
          "symbol": "circle"
         },
         "mode": "lines",
         "name": "Donación",
         "showlegend": true,
         "type": "scattergl",
         "x": [
          "2024-01-16",
          "2024-01-27",
          "2024-02-05",
          "2024-02-12",
          "2024-03-11",
          "2024-03-13",
          "2024-03-15",
          "2024-03-19",
          "2024-03-24",
          "2024-04-11",
          "2024-05-10",
          "2024-06-07",
          "2024-07-10",
          "2024-08-13",
          "2024-09-04",
          "2024-10-18",
          "2024-10-21",
          "2024-10-23",
          "2024-11-08",
          "2024-12-03"
         ],
         "xaxis": "x",
         "y": [
          276.13,
          0.58,
          0.38,
          263.49,
          293.06,
          2.99,
          5.46,
          0.15,
          8.15,
          291.6,
          297.84,
          292.52,
          292.98,
          285.73,
          277.72,
          0.27,
          0.09,
          275.31,
          286.58,
          301.19
         ],
         "yaxis": "y"
        }
       ],
       "layout": {
        "legend": {
         "title": {
          "text": "Operacion"
         },
         "tracegroupgap": 0
        },
        "template": {
         "data": {
          "bar": [
           {
            "error_x": {
             "color": "#2a3f5f"
            },
            "error_y": {
             "color": "#2a3f5f"
            },
            "marker": {
             "line": {
              "color": "white",
              "width": 0.5
             },
             "pattern": {
              "fillmode": "overlay",
              "size": 10,
              "solidity": 0.2
             }
            },
            "type": "bar"
           }
          ],
          "barpolar": [
           {
            "marker": {
             "line": {
              "color": "white",
              "width": 0.5
             },
             "pattern": {
              "fillmode": "overlay",
              "size": 10,
              "solidity": 0.2
             }
            },
            "type": "barpolar"
           }
          ],
          "carpet": [
           {
            "aaxis": {
             "endlinecolor": "#2a3f5f",
             "gridcolor": "#C8D4E3",
             "linecolor": "#C8D4E3",
             "minorgridcolor": "#C8D4E3",
             "startlinecolor": "#2a3f5f"
            },
            "baxis": {
             "endlinecolor": "#2a3f5f",
             "gridcolor": "#C8D4E3",
             "linecolor": "#C8D4E3",
             "minorgridcolor": "#C8D4E3",
             "startlinecolor": "#2a3f5f"
            },
            "type": "carpet"
           }
          ],
          "choropleth": [
           {
            "colorbar": {
             "outlinewidth": 0,
             "ticks": ""
            },
            "type": "choropleth"
           }
          ],
          "contour": [
           {
            "colorbar": {
             "outlinewidth": 0,
             "ticks": ""
            },
            "colorscale": [
             [
              0,
              "#0d0887"
             ],
             [
              0.1111111111111111,
              "#46039f"
             ],
             [
              0.2222222222222222,
              "#7201a8"
             ],
             [
              0.3333333333333333,
              "#9c179e"
             ],
             [
              0.4444444444444444,
              "#bd3786"
             ],
             [
              0.5555555555555556,
              "#d8576b"
             ],
             [
              0.6666666666666666,
              "#ed7953"
             ],
             [
              0.7777777777777778,
              "#fb9f3a"
             ],
             [
              0.8888888888888888,
              "#fdca26"
             ],
             [
              1,
              "#f0f921"
             ]
            ],
            "type": "contour"
           }
          ],
          "contourcarpet": [
           {
            "colorbar": {
             "outlinewidth": 0,
             "ticks": ""
            },
            "type": "contourcarpet"
           }
          ],
          "heatmap": [
           {
            "colorbar": {
             "outlinewidth": 0,
             "ticks": ""
            },
            "colorscale": [
             [
              0,
              "#0d0887"
             ],
             [
              0.1111111111111111,
              "#46039f"
             ],
             [
              0.2222222222222222,
              "#7201a8"
             ],
             [
              0.3333333333333333,
              "#9c179e"
             ],
             [
              0.4444444444444444,
              "#bd3786"
             ],
             [
              0.5555555555555556,
              "#d8576b"
             ],
             [
              0.6666666666666666,
              "#ed7953"
             ],
             [
              0.7777777777777778,
              "#fb9f3a"
             ],
             [
              0.8888888888888888,
              "#fdca26"
             ],
             [
              1,
              "#f0f921"
             ]
            ],
            "type": "heatmap"
           }
          ],
          "heatmapgl": [
           {
            "colorbar": {
             "outlinewidth": 0,
             "ticks": ""
            },
            "colorscale": [
             [
              0,
              "#0d0887"
             ],
             [
              0.1111111111111111,
              "#46039f"
             ],
             [
              0.2222222222222222,
              "#7201a8"
             ],
             [
              0.3333333333333333,
              "#9c179e"
             ],
             [
              0.4444444444444444,
              "#bd3786"
             ],
             [
              0.5555555555555556,
              "#d8576b"
             ],
             [
              0.6666666666666666,
              "#ed7953"
             ],
             [
              0.7777777777777778,
              "#fb9f3a"
             ],
             [
              0.8888888888888888,
              "#fdca26"
             ],
             [
              1,
              "#f0f921"
             ]
            ],
            "type": "heatmapgl"
           }
          ],
          "histogram": [
           {
            "marker": {
             "pattern": {
              "fillmode": "overlay",
              "size": 10,
              "solidity": 0.2
             }
            },
            "type": "histogram"
           }
          ],
          "histogram2d": [
           {
            "colorbar": {
             "outlinewidth": 0,
             "ticks": ""
            },
            "colorscale": [
             [
              0,
              "#0d0887"
             ],
             [
              0.1111111111111111,
              "#46039f"
             ],
             [
              0.2222222222222222,
              "#7201a8"
             ],
             [
              0.3333333333333333,
              "#9c179e"
             ],
             [
              0.4444444444444444,
              "#bd3786"
             ],
             [
              0.5555555555555556,
              "#d8576b"
             ],
             [
              0.6666666666666666,
              "#ed7953"
             ],
             [
              0.7777777777777778,
              "#fb9f3a"
             ],
             [
              0.8888888888888888,
              "#fdca26"
             ],
             [
              1,
              "#f0f921"
             ]
            ],
            "type": "histogram2d"
           }
          ],
          "histogram2dcontour": [
           {
            "colorbar": {
             "outlinewidth": 0,
             "ticks": ""
            },
            "colorscale": [
             [
              0,
              "#0d0887"
             ],
             [
              0.1111111111111111,
              "#46039f"
             ],
             [
              0.2222222222222222,
              "#7201a8"
             ],
             [
              0.3333333333333333,
              "#9c179e"
             ],
             [
              0.4444444444444444,
              "#bd3786"
             ],
             [
              0.5555555555555556,
              "#d8576b"
             ],
             [
              0.6666666666666666,
              "#ed7953"
             ],
             [
              0.7777777777777778,
              "#fb9f3a"
             ],
             [
              0.8888888888888888,
              "#fdca26"
             ],
             [
              1,
              "#f0f921"
             ]
            ],
            "type": "histogram2dcontour"
           }
          ],
          "mesh3d": [
           {
            "colorbar": {
             "outlinewidth": 0,
             "ticks": ""
            },
            "type": "mesh3d"
           }
          ],
          "parcoords": [
           {
            "line": {
             "colorbar": {
              "outlinewidth": 0,
              "ticks": ""
             }
            },
            "type": "parcoords"
           }
          ],
          "pie": [
           {
            "automargin": true,
            "type": "pie"
           }
          ],
          "scatter": [
           {
            "fillpattern": {
             "fillmode": "overlay",
             "size": 10,
             "solidity": 0.2
            },
            "type": "scatter"
           }
          ],
          "scatter3d": [
           {
            "line": {
             "colorbar": {
              "outlinewidth": 0,
              "ticks": ""
             }
            },
            "marker": {
             "colorbar": {
              "outlinewidth": 0,
              "ticks": ""
             }
            },
            "type": "scatter3d"
           }
          ],
          "scattercarpet": [
           {
            "marker": {
             "colorbar": {
              "outlinewidth": 0,
              "ticks": ""
             }
            },
            "type": "scattercarpet"
           }
          ],
          "scattergeo": [
           {
            "marker": {
             "colorbar": {
              "outlinewidth": 0,
              "ticks": ""
             }
            },
            "type": "scattergeo"
           }
          ],
          "scattergl": [
           {
            "marker": {
             "colorbar": {
              "outlinewidth": 0,
              "ticks": ""
             }
            },
            "type": "scattergl"
           }
          ],
          "scattermapbox": [
           {
            "marker": {
             "colorbar": {
              "outlinewidth": 0,
              "ticks": ""
             }
            },
            "type": "scattermapbox"
           }
          ],
          "scatterpolar": [
           {
            "marker": {
             "colorbar": {
              "outlinewidth": 0,
              "ticks": ""
             }
            },
            "type": "scatterpolar"
           }
          ],
          "scatterpolargl": [
           {
            "marker": {
             "colorbar": {
              "outlinewidth": 0,
              "ticks": ""
             }
            },
            "type": "scatterpolargl"
           }
          ],
          "scatterternary": [
           {
            "marker": {
             "colorbar": {
              "outlinewidth": 0,
              "ticks": ""
             }
            },
            "type": "scatterternary"
           }
          ],
          "surface": [
           {
            "colorbar": {
             "outlinewidth": 0,
             "ticks": ""
            },
            "colorscale": [
             [
              0,
              "#0d0887"
             ],
             [
              0.1111111111111111,
              "#46039f"
             ],
             [
              0.2222222222222222,
              "#7201a8"
             ],
             [
              0.3333333333333333,
              "#9c179e"
             ],
             [
              0.4444444444444444,
              "#bd3786"
             ],
             [
              0.5555555555555556,
              "#d8576b"
             ],
             [
              0.6666666666666666,
              "#ed7953"
             ],
             [
              0.7777777777777778,
              "#fb9f3a"
             ],
             [
              0.8888888888888888,
              "#fdca26"
             ],
             [
              1,
              "#f0f921"
             ]
            ],
            "type": "surface"
           }
          ],
          "table": [
           {
            "cells": {
             "fill": {
              "color": "#EBF0F8"
             },
             "line": {
              "color": "white"
             }
            },
            "header": {
             "fill": {
              "color": "#C8D4E3"
             },
             "line": {
              "color": "white"
             }
            },
            "type": "table"
           }
          ]
         },
         "layout": {
          "annotationdefaults": {
           "arrowcolor": "#2a3f5f",
           "arrowhead": 0,
           "arrowwidth": 1
          },
          "autotypenumbers": "strict",
          "coloraxis": {
           "colorbar": {
            "outlinewidth": 0,
            "ticks": ""
           }
          },
          "colorscale": {
           "diverging": [
            [
             0,
             "#8e0152"
            ],
            [
             0.1,
             "#c51b7d"
            ],
            [
             0.2,
             "#de77ae"
            ],
            [
             0.3,
             "#f1b6da"
            ],
            [
             0.4,
             "#fde0ef"
            ],
            [
             0.5,
             "#f7f7f7"
            ],
            [
             0.6,
             "#e6f5d0"
            ],
            [
             0.7,
             "#b8e186"
            ],
            [
             0.8,
             "#7fbc41"
            ],
            [
             0.9,
             "#4d9221"
            ],
            [
             1,
             "#276419"
            ]
           ],
           "sequential": [
            [
             0,
             "#0d0887"
            ],
            [
             0.1111111111111111,
             "#46039f"
            ],
            [
             0.2222222222222222,
             "#7201a8"
            ],
            [
             0.3333333333333333,
             "#9c179e"
            ],
            [
             0.4444444444444444,
             "#bd3786"
            ],
            [
             0.5555555555555556,
             "#d8576b"
            ],
            [
             0.6666666666666666,
             "#ed7953"
            ],
            [
             0.7777777777777778,
             "#fb9f3a"
            ],
            [
             0.8888888888888888,
             "#fdca26"
            ],
            [
             1,
             "#f0f921"
            ]
           ],
           "sequentialminus": [
            [
             0,
             "#0d0887"
            ],
            [
             0.1111111111111111,
             "#46039f"
            ],
            [
             0.2222222222222222,
             "#7201a8"
            ],
            [
             0.3333333333333333,
             "#9c179e"
            ],
            [
             0.4444444444444444,
             "#bd3786"
            ],
            [
             0.5555555555555556,
             "#d8576b"
            ],
            [
             0.6666666666666666,
             "#ed7953"
            ],
            [
             0.7777777777777778,
             "#fb9f3a"
            ],
            [
             0.8888888888888888,
             "#fdca26"
            ],
            [
             1,
             "#f0f921"
            ]
           ]
          },
          "colorway": [
           "#636efa",
           "#EF553B",
           "#00cc96",
           "#ab63fa",
           "#FFA15A",
           "#19d3f3",
           "#FF6692",
           "#B6E880",
           "#FF97FF",
           "#FECB52"
          ],
          "font": {
           "color": "#2a3f5f"
          },
          "geo": {
           "bgcolor": "white",
           "lakecolor": "white",
           "landcolor": "white",
           "showlakes": true,
           "showland": true,
           "subunitcolor": "#C8D4E3"
          },
          "hoverlabel": {
           "align": "left"
          },
          "hovermode": "closest",
          "mapbox": {
           "style": "light"
          },
          "paper_bgcolor": "white",
          "plot_bgcolor": "white",
          "polar": {
           "angularaxis": {
            "gridcolor": "#EBF0F8",
            "linecolor": "#EBF0F8",
            "ticks": ""
           },
           "bgcolor": "white",
           "radialaxis": {
            "gridcolor": "#EBF0F8",
            "linecolor": "#EBF0F8",
            "ticks": ""
           }
          },
          "scene": {
           "xaxis": {
            "backgroundcolor": "white",
            "gridcolor": "#DFE8F3",
            "gridwidth": 2,
            "linecolor": "#EBF0F8",
            "showbackground": true,
            "ticks": "",
            "zerolinecolor": "#EBF0F8"
           },
           "yaxis": {
            "backgroundcolor": "white",
            "gridcolor": "#DFE8F3",
            "gridwidth": 2,
            "linecolor": "#EBF0F8",
            "showbackground": true,
            "ticks": "",
            "zerolinecolor": "#EBF0F8"
           },
           "zaxis": {
            "backgroundcolor": "white",
            "gridcolor": "#DFE8F3",
            "gridwidth": 2,
            "linecolor": "#EBF0F8",
            "showbackground": true,
            "ticks": "",
            "zerolinecolor": "#EBF0F8"
           }
          },
          "shapedefaults": {
           "line": {
            "color": "#2a3f5f"
           }
          },
          "ternary": {
           "aaxis": {
            "gridcolor": "#DFE8F3",
            "linecolor": "#A2B1C6",
            "ticks": ""
           },
           "baxis": {
            "gridcolor": "#DFE8F3",
            "linecolor": "#A2B1C6",
            "ticks": ""
           },
           "bgcolor": "white",
           "caxis": {
            "gridcolor": "#DFE8F3",
            "linecolor": "#A2B1C6",
            "ticks": ""
           }
          },
          "title": {
           "x": 0.05
          },
          "xaxis": {
           "automargin": true,
           "gridcolor": "#EBF0F8",
           "linecolor": "#EBF0F8",
           "ticks": "",
           "title": {
            "standoff": 15
           },
           "zerolinecolor": "#EBF0F8",
           "zerolinewidth": 2
          },
          "yaxis": {
           "automargin": true,
           "gridcolor": "#EBF0F8",
           "linecolor": "#EBF0F8",
           "ticks": "",
           "title": {
            "standoff": 15
           },
           "zerolinecolor": "#EBF0F8",
           "zerolinewidth": 2
          }
         }
        },
        "title": {
         "text": "Evolución Temporal de Transacciones por Tipo"
        },
        "xaxis": {
         "anchor": "y",
         "domain": [
          0,
          1
         ],
         "title": {
          "text": "Fecha"
         }
        },
        "yaxis": {
         "anchor": "x",
         "domain": [
          0,
          1
         ],
         "title": {
          "text": "Importe Total Diario (€)"
         }
        }
       }
      }
     },
     "metadata": {},
     "output_type": "display_data"
    }
   ],
   "source": [
    "# Consulta para análisis temporal\n",
    "query_temporal = \"\"\"\n",
    "SELECT \n",
    "    DATE(CONCAT(\n",
    "        SUBSTRING(f.Id_fecha, 1, 4), '-',\n",
    "        SUBSTRING(f.Id_fecha, 5, 2), '-',\n",
    "        SUBSTRING(f.Id_fecha, 7, 2)\n",
    "    )) as fecha,\n",
    "    o.Operacion,\n",
    "    SUM(f.Cantidad) as suma_diaria\n",
    "FROM fact_table f\n",
    "JOIN dim_operaciones o ON f.Id_tipo_operacion = o.Id_tipo_operacion\n",
    "GROUP BY fecha, o.Operacion\n",
    "ORDER BY fecha;\n",
    "\"\"\"\n",
    "\n",
    "df_temporal = ejecutar_query(query_temporal)\n",
    "\n",
    "# Crear gráfico de líneas temporal\n",
    "fig = px.line(df_temporal, \n",
    "              x='fecha', \n",
    "              y='suma_diaria', \n",
    "              color='Operacion',\n",
    "              title='Evolución Temporal de Transacciones por Tipo')\n",
    "\n",
    "fig.update_layout(\n",
    "    xaxis_title='Fecha',\n",
    "    yaxis_title='Importe Total Diario (€)',\n",
    "    template='plotly_white'\n",
    ")\n",
    "\n",
    "fig.show()"
   ]
  },
  {
   "cell_type": "markdown",
   "metadata": {},
   "source": [
    "## 4. Análisis de Entradas y Salidas de Dinero\n",
    "\n",
    "En el circuito Ekhilur existen 13 tipos diferentes de operaciones que afectan de manera distinta al flujo de dinero. Es importante entender cómo cada operación impacta en la masa monetaria del sistema:\n",
    "\n",
    "### 4.1 Operaciones que AUMENTAN la masa monetaria\n",
    "1. **Recarga por tarjeta (ID: 6)**\n",
    "   - Entrada directa de dinero al circuito\n",
    "   - Usuario origen es siempre el mismo (sistema)\n",
    "   - Usuario destino puede ser particular o profesional\n",
    "\n",
    "2. **Bonificación por compra (ID: 4)**\n",
    "   - Entrada de dinero desde el ayuntamiento\n",
    "   - Usuario origen es siempre la cooperativa ekhilur\n",
    "   - Límites:\n",
    "     * 100€ por usuario/mes\n",
    "     * 12,500€ mensuales del ayuntamiento total\n",
    "\n",
    "### 4.2 Operaciones que REDUCEN la masa monetaria\n",
    "1. **Conversión a € (ID: 2)**\n",
    "   - Indicador principal de salidas de dinero\n",
    "   - Solo para cuentas profesionales\n",
    "   - Usuario origen y destino son el mismo\n",
    "   - Marca el dinero para su posterior retirada\n",
    "\n",
    "2. **Comisión por retirada (ID: 3)**\n",
    "   - 1% + IVA del total retirado\n",
    "   - Usuario destino siempre es la cooperativa\n",
    "\n",
    "3. **Cuota mensual de socio (ID: 5)**\n",
    "   - Cuota de mantenimiento\n",
    "   - Usuario destino es la cooperativa\n",
    "\n",
    "4. **Cuota variable (ID: 10)**\n",
    "   - 0.5% del saldo medio mensual para comercios\n",
    "   - Usuario destino es la cooperativa\n",
    "\n",
    "5. **Retirada a cuenta bancaria (ID: 12)**\n",
    "   - Salida efectiva del dinero del sistema\n",
    "   - Relacionada con la Conversión a €\n",
    "\n",
    "### 4.3 Operaciones NEUTRAS (no afectan a la masa monetaria)\n",
    "1. **Pago a usuario (ID: 1)**\n",
    "   - Puede ser:\n",
    "     * Pago normal (particular→profesional o entre profesionales)\n",
    "     * Recarga (profesional→particular)\n",
    "     * Bizum (particular→particular)\n",
    "\n",
    "2. **Descuento automático (ID: 0)**\n",
    "   - Bonificación del comercio al usuario\n",
    "   - Efecto interno\n",
    "\n",
    "3. **Cobro desde QR (ID: 7)**\n",
    "   - Similar al pago a usuario\n",
    "   - Método alternativo de cobro\n",
    "\n",
    "4. **Cuota de socio (ID: 8)**\n",
    "   - Pago único de 10€\n",
    "   - Movimiento interno\n",
    "\n",
    "5. **Transferencia interna (ID: 9)**\n",
    "   - Movimiento neutro que puede ignorarse\n",
    "\n",
    "6. **Donación (ID: 11)**\n",
    "   - 0.5% del saldo medio mensual\n",
    "   - Movimiento interno entre usuarios\n",
    "\n",
    "En las siguientes secciones analizaremos en detalle estos flujos de dinero, centrándonos especialmente en:\n",
    "1. El balance neto mensual (entradas - salidas)\n",
    "2. La evolución de las bonificaciones y su cumplimiento de límites\n",
    "3. El patrón de retiradas de dinero del sistema"
   ]
  },
  {
   "cell_type": "markdown",
   "metadata": {},
   "source": [
    "### 4.4 Balance Mensual de Masa Monetaria\n",
    "\n",
    "Para entender el flujo de dinero en el circuito, analizaremos:\n",
    "\n",
    "1. **Entradas mensuales**:\n",
    "   - Recargas por tarjeta\n",
    "   - Bonificaciones por compra\n",
    "\n",
    "2. **Salidas mensuales**:\n",
    "   - Conversiones a euros\n",
    "   - Comisiones por retirada\n",
    "   - Cuotas mensuales de socio\n",
    "   - Cuotas variables\n",
    "\n",
    "3. **Indicadores clave**:\n",
    "   - Balance neto mensual\n",
    "   - Tendencia de entradas y salidas\n",
    "   - Proporción entre tipos de operaciones"
   ]
  },
  {
   "cell_type": "code",
   "execution_count": 6,
   "metadata": {},
   "outputs": [
    {
     "name": "stderr",
     "output_type": "stream",
     "text": [
      "C:\\Users\\mikel\\AppData\\Local\\Temp\\ipykernel_12748\\1450764005.py:22: UserWarning:\n",
      "\n",
      "pandas only supports SQLAlchemy connectable (engine/connection) or database string URI or sqlite3 DBAPI2 connection. Other DBAPI2 objects are not tested. Please consider using SQLAlchemy.\n",
      "\n"
     ]
    },
    {
     "data": {
      "application/vnd.plotly.v1+json": {
       "config": {
        "plotlyServerURL": "https://plot.ly"
       },
       "data": [
        {
         "fill": "tozeroy",
         "line": {
          "color": "green",
          "width": 2
         },
         "name": "Entradas",
         "type": "scatter",
         "x": [
          "Enero",
          "Febrero",
          "Marzo",
          "Abril",
          "Mayo",
          "Junio",
          "Julio",
          "Agosto",
          "Septiembre",
          "Octubre",
          "Noviembre",
          "Diciembre"
         ],
         "xaxis": "x",
         "y": [
          119595.56,
          112830.54,
          107068.61,
          114843.64,
          123098.63,
          116902.01,
          109150.21,
          80660.1,
          112499.16,
          131111.03,
          121995.6,
          159093.4
         ],
         "yaxis": "y"
        },
        {
         "fill": "tozeroy",
         "line": {
          "color": "red",
          "width": 2
         },
         "name": "Salidas",
         "type": "scatter",
         "x": [
          "Enero",
          "Febrero",
          "Marzo",
          "Abril",
          "Mayo",
          "Junio",
          "Julio",
          "Agosto",
          "Septiembre",
          "Octubre",
          "Noviembre",
          "Diciembre"
         ],
         "xaxis": "x",
         "y": [
          115912.59,
          107493.44,
          84001.42,
          117537.49,
          114467.45,
          103740.57,
          120849.97,
          75869.45,
          86597.86,
          147329.89,
          97384.14,
          129191.3
         ],
         "yaxis": "y"
        },
        {
         "line": {
          "color": "blue",
          "dash": "dash",
          "width": 2
         },
         "name": "Balance Neto",
         "type": "scatter",
         "x": [
          "Enero",
          "Febrero",
          "Marzo",
          "Abril",
          "Mayo",
          "Junio",
          "Julio",
          "Agosto",
          "Septiembre",
          "Octubre",
          "Noviembre",
          "Diciembre"
         ],
         "xaxis": "x",
         "y": [
          3682.97,
          5337.1,
          23067.19,
          -2693.85,
          8631.18,
          13161.44,
          -11699.76,
          4790.65,
          25901.3,
          -16218.86,
          24611.46,
          29902.1
         ],
         "yaxis": "y"
        },
        {
         "marker": {
          "color": "lightgreen"
         },
         "name": "Recargas",
         "type": "bar",
         "x": [
          "Enero",
          "Febrero",
          "Marzo",
          "Abril",
          "Mayo",
          "Junio",
          "Julio",
          "Agosto",
          "Septiembre",
          "Octubre",
          "Noviembre",
          "Diciembre"
         ],
         "xaxis": "x2",
         "y": [
          107112,
          100374,
          94598,
          102384,
          110613,
          104452,
          96687,
          70588,
          100016,
          116508,
          109516,
          142989
         ],
         "yaxis": "y2"
        },
        {
         "marker": {
          "color": "darkgreen"
         },
         "name": "Bonificaciones",
         "type": "bar",
         "x": [
          "Enero",
          "Febrero",
          "Marzo",
          "Abril",
          "Mayo",
          "Junio",
          "Julio",
          "Agosto",
          "Septiembre",
          "Octubre",
          "Noviembre",
          "Diciembre"
         ],
         "xaxis": "x2",
         "y": [
          12483.56,
          12456.54,
          12470.61,
          12459.64,
          12485.63,
          12450.01,
          12463.21,
          10072.1,
          12483.16,
          14603.03,
          12479.6,
          16104.4
         ],
         "yaxis": "y2"
        },
        {
         "marker": {
          "color": "salmon"
         },
         "name": "Conversiones €",
         "type": "bar",
         "x": [
          "Enero",
          "Febrero",
          "Marzo",
          "Abril",
          "Mayo",
          "Junio",
          "Julio",
          "Agosto",
          "Septiembre",
          "Octubre",
          "Noviembre",
          "Diciembre"
         ],
         "xaxis": "x2",
         "y": [
          -114229.43,
          -105032.99,
          -81715.37,
          -114781.11,
          -111650.55,
          -100858.53,
          -117773.23,
          -73365.84,
          -83959.03,
          -143881.7,
          -94529.21,
          -125870.51
         ],
         "yaxis": "y2"
        },
        {
         "marker": {
          "color": "red"
         },
         "name": "Comisiones",
         "type": "bar",
         "x": [
          "Enero",
          "Febrero",
          "Marzo",
          "Abril",
          "Mayo",
          "Junio",
          "Julio",
          "Agosto",
          "Septiembre",
          "Octubre",
          "Noviembre",
          "Diciembre"
         ],
         "xaxis": "x2",
         "y": [
          -1050.75,
          -1222.93,
          -908.73,
          -1321.6,
          -1284.45,
          -1253.81,
          -1433.78,
          -893.76,
          -1016.34,
          -1757.1,
          -1157.87,
          -1537.34
         ],
         "yaxis": "y2"
        }
       ],
       "layout": {
        "annotations": [
         {
          "font": {
           "size": 16
          },
          "showarrow": false,
          "text": "Balance Mensual de Masa Monetaria",
          "x": 0.5,
          "xanchor": "center",
          "xref": "paper",
          "y": 1,
          "yanchor": "bottom",
          "yref": "paper"
         },
         {
          "font": {
           "size": 16
          },
          "showarrow": false,
          "text": "Desglose de Entradas y Salidas",
          "x": 0.5,
          "xanchor": "center",
          "xref": "paper",
          "y": 0.425,
          "yanchor": "bottom",
          "yref": "paper"
         }
        ],
        "barmode": "relative",
        "height": 800,
        "showlegend": true,
        "template": {
         "data": {
          "bar": [
           {
            "error_x": {
             "color": "#2a3f5f"
            },
            "error_y": {
             "color": "#2a3f5f"
            },
            "marker": {
             "line": {
              "color": "#E5ECF6",
              "width": 0.5
             },
             "pattern": {
              "fillmode": "overlay",
              "size": 10,
              "solidity": 0.2
             }
            },
            "type": "bar"
           }
          ],
          "barpolar": [
           {
            "marker": {
             "line": {
              "color": "#E5ECF6",
              "width": 0.5
             },
             "pattern": {
              "fillmode": "overlay",
              "size": 10,
              "solidity": 0.2
             }
            },
            "type": "barpolar"
           }
          ],
          "carpet": [
           {
            "aaxis": {
             "endlinecolor": "#2a3f5f",
             "gridcolor": "white",
             "linecolor": "white",
             "minorgridcolor": "white",
             "startlinecolor": "#2a3f5f"
            },
            "baxis": {
             "endlinecolor": "#2a3f5f",
             "gridcolor": "white",
             "linecolor": "white",
             "minorgridcolor": "white",
             "startlinecolor": "#2a3f5f"
            },
            "type": "carpet"
           }
          ],
          "choropleth": [
           {
            "colorbar": {
             "outlinewidth": 0,
             "ticks": ""
            },
            "type": "choropleth"
           }
          ],
          "contour": [
           {
            "colorbar": {
             "outlinewidth": 0,
             "ticks": ""
            },
            "colorscale": [
             [
              0,
              "#0d0887"
             ],
             [
              0.1111111111111111,
              "#46039f"
             ],
             [
              0.2222222222222222,
              "#7201a8"
             ],
             [
              0.3333333333333333,
              "#9c179e"
             ],
             [
              0.4444444444444444,
              "#bd3786"
             ],
             [
              0.5555555555555556,
              "#d8576b"
             ],
             [
              0.6666666666666666,
              "#ed7953"
             ],
             [
              0.7777777777777778,
              "#fb9f3a"
             ],
             [
              0.8888888888888888,
              "#fdca26"
             ],
             [
              1,
              "#f0f921"
             ]
            ],
            "type": "contour"
           }
          ],
          "contourcarpet": [
           {
            "colorbar": {
             "outlinewidth": 0,
             "ticks": ""
            },
            "type": "contourcarpet"
           }
          ],
          "heatmap": [
           {
            "colorbar": {
             "outlinewidth": 0,
             "ticks": ""
            },
            "colorscale": [
             [
              0,
              "#0d0887"
             ],
             [
              0.1111111111111111,
              "#46039f"
             ],
             [
              0.2222222222222222,
              "#7201a8"
             ],
             [
              0.3333333333333333,
              "#9c179e"
             ],
             [
              0.4444444444444444,
              "#bd3786"
             ],
             [
              0.5555555555555556,
              "#d8576b"
             ],
             [
              0.6666666666666666,
              "#ed7953"
             ],
             [
              0.7777777777777778,
              "#fb9f3a"
             ],
             [
              0.8888888888888888,
              "#fdca26"
             ],
             [
              1,
              "#f0f921"
             ]
            ],
            "type": "heatmap"
           }
          ],
          "heatmapgl": [
           {
            "colorbar": {
             "outlinewidth": 0,
             "ticks": ""
            },
            "colorscale": [
             [
              0,
              "#0d0887"
             ],
             [
              0.1111111111111111,
              "#46039f"
             ],
             [
              0.2222222222222222,
              "#7201a8"
             ],
             [
              0.3333333333333333,
              "#9c179e"
             ],
             [
              0.4444444444444444,
              "#bd3786"
             ],
             [
              0.5555555555555556,
              "#d8576b"
             ],
             [
              0.6666666666666666,
              "#ed7953"
             ],
             [
              0.7777777777777778,
              "#fb9f3a"
             ],
             [
              0.8888888888888888,
              "#fdca26"
             ],
             [
              1,
              "#f0f921"
             ]
            ],
            "type": "heatmapgl"
           }
          ],
          "histogram": [
           {
            "marker": {
             "pattern": {
              "fillmode": "overlay",
              "size": 10,
              "solidity": 0.2
             }
            },
            "type": "histogram"
           }
          ],
          "histogram2d": [
           {
            "colorbar": {
             "outlinewidth": 0,
             "ticks": ""
            },
            "colorscale": [
             [
              0,
              "#0d0887"
             ],
             [
              0.1111111111111111,
              "#46039f"
             ],
             [
              0.2222222222222222,
              "#7201a8"
             ],
             [
              0.3333333333333333,
              "#9c179e"
             ],
             [
              0.4444444444444444,
              "#bd3786"
             ],
             [
              0.5555555555555556,
              "#d8576b"
             ],
             [
              0.6666666666666666,
              "#ed7953"
             ],
             [
              0.7777777777777778,
              "#fb9f3a"
             ],
             [
              0.8888888888888888,
              "#fdca26"
             ],
             [
              1,
              "#f0f921"
             ]
            ],
            "type": "histogram2d"
           }
          ],
          "histogram2dcontour": [
           {
            "colorbar": {
             "outlinewidth": 0,
             "ticks": ""
            },
            "colorscale": [
             [
              0,
              "#0d0887"
             ],
             [
              0.1111111111111111,
              "#46039f"
             ],
             [
              0.2222222222222222,
              "#7201a8"
             ],
             [
              0.3333333333333333,
              "#9c179e"
             ],
             [
              0.4444444444444444,
              "#bd3786"
             ],
             [
              0.5555555555555556,
              "#d8576b"
             ],
             [
              0.6666666666666666,
              "#ed7953"
             ],
             [
              0.7777777777777778,
              "#fb9f3a"
             ],
             [
              0.8888888888888888,
              "#fdca26"
             ],
             [
              1,
              "#f0f921"
             ]
            ],
            "type": "histogram2dcontour"
           }
          ],
          "mesh3d": [
           {
            "colorbar": {
             "outlinewidth": 0,
             "ticks": ""
            },
            "type": "mesh3d"
           }
          ],
          "parcoords": [
           {
            "line": {
             "colorbar": {
              "outlinewidth": 0,
              "ticks": ""
             }
            },
            "type": "parcoords"
           }
          ],
          "pie": [
           {
            "automargin": true,
            "type": "pie"
           }
          ],
          "scatter": [
           {
            "fillpattern": {
             "fillmode": "overlay",
             "size": 10,
             "solidity": 0.2
            },
            "type": "scatter"
           }
          ],
          "scatter3d": [
           {
            "line": {
             "colorbar": {
              "outlinewidth": 0,
              "ticks": ""
             }
            },
            "marker": {
             "colorbar": {
              "outlinewidth": 0,
              "ticks": ""
             }
            },
            "type": "scatter3d"
           }
          ],
          "scattercarpet": [
           {
            "marker": {
             "colorbar": {
              "outlinewidth": 0,
              "ticks": ""
             }
            },
            "type": "scattercarpet"
           }
          ],
          "scattergeo": [
           {
            "marker": {
             "colorbar": {
              "outlinewidth": 0,
              "ticks": ""
             }
            },
            "type": "scattergeo"
           }
          ],
          "scattergl": [
           {
            "marker": {
             "colorbar": {
              "outlinewidth": 0,
              "ticks": ""
             }
            },
            "type": "scattergl"
           }
          ],
          "scattermapbox": [
           {
            "marker": {
             "colorbar": {
              "outlinewidth": 0,
              "ticks": ""
             }
            },
            "type": "scattermapbox"
           }
          ],
          "scatterpolar": [
           {
            "marker": {
             "colorbar": {
              "outlinewidth": 0,
              "ticks": ""
             }
            },
            "type": "scatterpolar"
           }
          ],
          "scatterpolargl": [
           {
            "marker": {
             "colorbar": {
              "outlinewidth": 0,
              "ticks": ""
             }
            },
            "type": "scatterpolargl"
           }
          ],
          "scatterternary": [
           {
            "marker": {
             "colorbar": {
              "outlinewidth": 0,
              "ticks": ""
             }
            },
            "type": "scatterternary"
           }
          ],
          "surface": [
           {
            "colorbar": {
             "outlinewidth": 0,
             "ticks": ""
            },
            "colorscale": [
             [
              0,
              "#0d0887"
             ],
             [
              0.1111111111111111,
              "#46039f"
             ],
             [
              0.2222222222222222,
              "#7201a8"
             ],
             [
              0.3333333333333333,
              "#9c179e"
             ],
             [
              0.4444444444444444,
              "#bd3786"
             ],
             [
              0.5555555555555556,
              "#d8576b"
             ],
             [
              0.6666666666666666,
              "#ed7953"
             ],
             [
              0.7777777777777778,
              "#fb9f3a"
             ],
             [
              0.8888888888888888,
              "#fdca26"
             ],
             [
              1,
              "#f0f921"
             ]
            ],
            "type": "surface"
           }
          ],
          "table": [
           {
            "cells": {
             "fill": {
              "color": "#EBF0F8"
             },
             "line": {
              "color": "white"
             }
            },
            "header": {
             "fill": {
              "color": "#C8D4E3"
             },
             "line": {
              "color": "white"
             }
            },
            "type": "table"
           }
          ]
         },
         "layout": {
          "annotationdefaults": {
           "arrowcolor": "#2a3f5f",
           "arrowhead": 0,
           "arrowwidth": 1
          },
          "autotypenumbers": "strict",
          "coloraxis": {
           "colorbar": {
            "outlinewidth": 0,
            "ticks": ""
           }
          },
          "colorscale": {
           "diverging": [
            [
             0,
             "#8e0152"
            ],
            [
             0.1,
             "#c51b7d"
            ],
            [
             0.2,
             "#de77ae"
            ],
            [
             0.3,
             "#f1b6da"
            ],
            [
             0.4,
             "#fde0ef"
            ],
            [
             0.5,
             "#f7f7f7"
            ],
            [
             0.6,
             "#e6f5d0"
            ],
            [
             0.7,
             "#b8e186"
            ],
            [
             0.8,
             "#7fbc41"
            ],
            [
             0.9,
             "#4d9221"
            ],
            [
             1,
             "#276419"
            ]
           ],
           "sequential": [
            [
             0,
             "#0d0887"
            ],
            [
             0.1111111111111111,
             "#46039f"
            ],
            [
             0.2222222222222222,
             "#7201a8"
            ],
            [
             0.3333333333333333,
             "#9c179e"
            ],
            [
             0.4444444444444444,
             "#bd3786"
            ],
            [
             0.5555555555555556,
             "#d8576b"
            ],
            [
             0.6666666666666666,
             "#ed7953"
            ],
            [
             0.7777777777777778,
             "#fb9f3a"
            ],
            [
             0.8888888888888888,
             "#fdca26"
            ],
            [
             1,
             "#f0f921"
            ]
           ],
           "sequentialminus": [
            [
             0,
             "#0d0887"
            ],
            [
             0.1111111111111111,
             "#46039f"
            ],
            [
             0.2222222222222222,
             "#7201a8"
            ],
            [
             0.3333333333333333,
             "#9c179e"
            ],
            [
             0.4444444444444444,
             "#bd3786"
            ],
            [
             0.5555555555555556,
             "#d8576b"
            ],
            [
             0.6666666666666666,
             "#ed7953"
            ],
            [
             0.7777777777777778,
             "#fb9f3a"
            ],
            [
             0.8888888888888888,
             "#fdca26"
            ],
            [
             1,
             "#f0f921"
            ]
           ]
          },
          "colorway": [
           "#636efa",
           "#EF553B",
           "#00cc96",
           "#ab63fa",
           "#FFA15A",
           "#19d3f3",
           "#FF6692",
           "#B6E880",
           "#FF97FF",
           "#FECB52"
          ],
          "font": {
           "color": "#2a3f5f"
          },
          "geo": {
           "bgcolor": "white",
           "lakecolor": "white",
           "landcolor": "#E5ECF6",
           "showlakes": true,
           "showland": true,
           "subunitcolor": "white"
          },
          "hoverlabel": {
           "align": "left"
          },
          "hovermode": "closest",
          "mapbox": {
           "style": "light"
          },
          "paper_bgcolor": "white",
          "plot_bgcolor": "#E5ECF6",
          "polar": {
           "angularaxis": {
            "gridcolor": "white",
            "linecolor": "white",
            "ticks": ""
           },
           "bgcolor": "#E5ECF6",
           "radialaxis": {
            "gridcolor": "white",
            "linecolor": "white",
            "ticks": ""
           }
          },
          "scene": {
           "xaxis": {
            "backgroundcolor": "#E5ECF6",
            "gridcolor": "white",
            "gridwidth": 2,
            "linecolor": "white",
            "showbackground": true,
            "ticks": "",
            "zerolinecolor": "white"
           },
           "yaxis": {
            "backgroundcolor": "#E5ECF6",
            "gridcolor": "white",
            "gridwidth": 2,
            "linecolor": "white",
            "showbackground": true,
            "ticks": "",
            "zerolinecolor": "white"
           },
           "zaxis": {
            "backgroundcolor": "#E5ECF6",
            "gridcolor": "white",
            "gridwidth": 2,
            "linecolor": "white",
            "showbackground": true,
            "ticks": "",
            "zerolinecolor": "white"
           }
          },
          "shapedefaults": {
           "line": {
            "color": "#2a3f5f"
           }
          },
          "ternary": {
           "aaxis": {
            "gridcolor": "white",
            "linecolor": "white",
            "ticks": ""
           },
           "baxis": {
            "gridcolor": "white",
            "linecolor": "white",
            "ticks": ""
           },
           "bgcolor": "#E5ECF6",
           "caxis": {
            "gridcolor": "white",
            "linecolor": "white",
            "ticks": ""
           }
          },
          "title": {
           "x": 0.05
          },
          "xaxis": {
           "automargin": true,
           "gridcolor": "white",
           "linecolor": "white",
           "ticks": "",
           "title": {
            "standoff": 15
           },
           "zerolinecolor": "white",
           "zerolinewidth": 2
          },
          "yaxis": {
           "automargin": true,
           "gridcolor": "white",
           "linecolor": "white",
           "ticks": "",
           "title": {
            "standoff": 15
           },
           "zerolinecolor": "white",
           "zerolinewidth": 2
          }
         }
        },
        "title": {
         "text": "Análisis de Flujos de Dinero en Ekhilur 2024"
        },
        "xaxis": {
         "anchor": "y",
         "domain": [
          0,
          1
         ]
        },
        "xaxis2": {
         "anchor": "y2",
         "domain": [
          0,
          1
         ],
         "title": {
          "text": "Mes"
         }
        },
        "yaxis": {
         "anchor": "x",
         "domain": [
          0.575,
          1
         ],
         "title": {
          "text": "Euros (€)"
         }
        },
        "yaxis2": {
         "anchor": "x2",
         "domain": [
          0,
          0.425
         ],
         "title": {
          "text": "Euros (€)"
         }
        }
       }
      }
     },
     "metadata": {},
     "output_type": "display_data"
    },
    {
     "name": "stdout",
     "output_type": "stream",
     "text": [
      "\n",
      "Resumen Estadístico del Balance 2024:\n",
      "--------------------------------------------------\n",
      "Total Entradas: 1,408,848.49€\n",
      "- Recargas: 1,255,837.00€\n",
      "- Bonificaciones: 153,011.49€\n",
      "\n",
      "Total Salidas: 1,300,375.57€\n",
      "- Conversiones: 1,267,647.50€\n",
      "- Comisiones: 14,838.46€\n",
      "- Cuotas Mensuales: 11,760.45€\n",
      "- Cuotas Variables: 6,129.16€\n",
      "\n",
      "Balance Neto: 108,472.92€\n"
     ]
    }
   ],
   "source": [
    "# Consulta SQL para obtener los datos\n",
    "query_balance_mensual = \"\"\"\n",
    "WITH datos_mensuales AS (\n",
    "    SELECT \n",
    "        SUBSTRING(f.Id_fecha, 1, 6) as año_mes,\n",
    "        CASE SUBSTRING(f.Id_fecha, 5, 2)\n",
    "            WHEN '01' THEN 'Enero'\n",
    "            WHEN '02' THEN 'Febrero'\n",
    "            WHEN '03' THEN 'Marzo'\n",
    "            WHEN '04' THEN 'Abril'\n",
    "            WHEN '05' THEN 'Mayo'\n",
    "            WHEN '06' THEN 'Junio'\n",
    "            WHEN '07' THEN 'Julio'\n",
    "            WHEN '08' THEN 'Agosto'\n",
    "            WHEN '09' THEN 'Septiembre'\n",
    "            WHEN '10' THEN 'Octubre'\n",
    "            WHEN '11' THEN 'Noviembre'\n",
    "            WHEN '12' THEN 'Diciembre'\n",
    "        END as nombre_mes,\n",
    "        -- Entradas de dinero\n",
    "        SUM(CASE \n",
    "            WHEN o.Operacion = 'Recarga por tarjeta' THEN f.Cantidad\n",
    "            ELSE 0 \n",
    "        END) as recarga_tarjeta,\n",
    "        \n",
    "        SUM(CASE \n",
    "            WHEN o.Operacion = 'Bonificación por compra' THEN f.Cantidad\n",
    "            ELSE 0 \n",
    "        END) as bonificaciones,\n",
    "        \n",
    "        -- Salidas de dinero\n",
    "        SUM(CASE \n",
    "            WHEN o.Operacion = 'Conversión a €' THEN f.Cantidad\n",
    "            ELSE 0 \n",
    "        END) as conversion_euros,\n",
    "        \n",
    "        SUM(CASE \n",
    "            WHEN o.Operacion = 'Comisión por retirada' THEN f.Cantidad\n",
    "            ELSE 0 \n",
    "        END) as comisiones,\n",
    "        \n",
    "        SUM(CASE \n",
    "            WHEN o.Operacion = 'Cuota mensual de socio' THEN f.Cantidad\n",
    "            ELSE 0 \n",
    "        END) as cuotas_mensuales,\n",
    "        \n",
    "        SUM(CASE \n",
    "            WHEN o.Operacion = 'Cuota variable' THEN f.Cantidad\n",
    "            ELSE 0 \n",
    "        END) as cuotas_variables\n",
    "        \n",
    "    FROM fact_table f\n",
    "    JOIN dim_operaciones o ON f.Id_tipo_operacion = o.Id_tipo_operacion\n",
    "    WHERE SUBSTRING(f.Id_fecha, 1, 4) = '2024'\n",
    "    GROUP BY SUBSTRING(f.Id_fecha, 1, 6), \n",
    "             CASE SUBSTRING(f.Id_fecha, 5, 2)\n",
    "                WHEN '01' THEN 'Enero'\n",
    "                WHEN '02' THEN 'Febrero'\n",
    "                WHEN '03' THEN 'Marzo'\n",
    "                WHEN '04' THEN 'Abril'\n",
    "                WHEN '05' THEN 'Mayo'\n",
    "                WHEN '06' THEN 'Junio'\n",
    "                WHEN '07' THEN 'Julio'\n",
    "                WHEN '08' THEN 'Agosto'\n",
    "                WHEN '09' THEN 'Septiembre'\n",
    "                WHEN '10' THEN 'Octubre'\n",
    "                WHEN '11' THEN 'Noviembre'\n",
    "                WHEN '12' THEN 'Diciembre'\n",
    "             END\n",
    ")\n",
    "SELECT \n",
    "    nombre_mes,\n",
    "    -- Entradas\n",
    "    ROUND(recarga_tarjeta, 2) as recarga_tarjeta,\n",
    "    ROUND(bonificaciones, 2) as bonificaciones,\n",
    "    ROUND(recarga_tarjeta + bonificaciones, 2) as total_entradas,\n",
    "    \n",
    "    -- Salidas\n",
    "    ROUND(conversion_euros, 2) as conversion_euros,\n",
    "    ROUND(comisiones, 2) as comisiones,\n",
    "    ROUND(cuotas_mensuales, 2) as cuotas_mensuales,\n",
    "    ROUND(cuotas_variables, 2) as cuotas_variables,\n",
    "    ROUND(conversion_euros + comisiones + cuotas_mensuales + cuotas_variables, 2) as total_salidas,\n",
    "    \n",
    "    -- Balance\n",
    "    ROUND((recarga_tarjeta + bonificaciones) - \n",
    "          (conversion_euros + comisiones + cuotas_mensuales + cuotas_variables), 2) as balance_neto\n",
    "FROM datos_mensuales\n",
    "ORDER BY año_mes;\n",
    "\"\"\"\n",
    "\n",
    "# Ejecutar la consulta\n",
    "df_balance = ejecutar_query(query_balance_mensual)\n",
    "\n",
    "# Crear visualización con Plotly\n",
    "fig = make_subplots(\n",
    "    rows=2, cols=1,\n",
    "    subplot_titles=('Balance Mensual de Masa Monetaria', 'Desglose de Entradas y Salidas'),\n",
    "    vertical_spacing=0.15,\n",
    "    specs=[[{\"type\": \"scatter\"}],\n",
    "           [{\"type\": \"bar\"}]]\n",
    ")\n",
    "\n",
    "# Gráfico de líneas para el balance general\n",
    "fig.add_trace(\n",
    "    go.Scatter(\n",
    "        x=df_balance['nombre_mes'],\n",
    "        y=df_balance['total_entradas'],\n",
    "        name='Entradas',\n",
    "        line=dict(color='green', width=2),\n",
    "        fill='tozeroy'\n",
    "    ),\n",
    "    row=1, col=1\n",
    ")\n",
    "\n",
    "fig.add_trace(\n",
    "    go.Scatter(\n",
    "        x=df_balance['nombre_mes'],\n",
    "        y=df_balance['total_salidas'],\n",
    "        name='Salidas',\n",
    "        line=dict(color='red', width=2),\n",
    "        fill='tozeroy'\n",
    "    ),\n",
    "    row=1, col=1\n",
    ")\n",
    "\n",
    "fig.add_trace(\n",
    "    go.Scatter(\n",
    "        x=df_balance['nombre_mes'],\n",
    "        y=df_balance['balance_neto'],\n",
    "        name='Balance Neto',\n",
    "        line=dict(color='blue', width=2, dash='dash')\n",
    "    ),\n",
    "    row=1, col=1\n",
    ")\n",
    "\n",
    "# Gráfico de barras para el desglose\n",
    "fig.add_trace(\n",
    "    go.Bar(\n",
    "        x=df_balance['nombre_mes'],\n",
    "        y=df_balance['recarga_tarjeta'],\n",
    "        name='Recargas',\n",
    "        marker_color='lightgreen'\n",
    "    ),\n",
    "    row=2, col=1\n",
    ")\n",
    "\n",
    "fig.add_trace(\n",
    "    go.Bar(\n",
    "        x=df_balance['nombre_mes'],\n",
    "        y=df_balance['bonificaciones'],\n",
    "        name='Bonificaciones',\n",
    "        marker_color='darkgreen'\n",
    "    ),\n",
    "    row=2, col=1\n",
    ")\n",
    "\n",
    "fig.add_trace(\n",
    "    go.Bar(\n",
    "        x=df_balance['nombre_mes'],\n",
    "        y=-df_balance['conversion_euros'],\n",
    "        name='Conversiones €',\n",
    "        marker_color='salmon'\n",
    "    ),\n",
    "    row=2, col=1\n",
    ")\n",
    "\n",
    "fig.add_trace(\n",
    "    go.Bar(\n",
    "        x=df_balance['nombre_mes'],\n",
    "        y=-df_balance['comisiones'],\n",
    "        name='Comisiones',\n",
    "        marker_color='red'\n",
    "    ),\n",
    "    row=2, col=1\n",
    ")\n",
    "\n",
    "# Actualizar diseño\n",
    "fig.update_layout(\n",
    "    height=800,\n",
    "    showlegend=True,\n",
    "    title_text=\"Análisis de Flujos de Dinero en Ekhilur 2024\",\n",
    "    barmode='relative'\n",
    ")\n",
    "\n",
    "fig.update_xaxes(title_text=\"Mes\", row=2, col=1)\n",
    "fig.update_yaxes(title_text=\"Euros (€)\", row=1, col=1)\n",
    "fig.update_yaxes(title_text=\"Euros (€)\", row=2, col=1)\n",
    "\n",
    "# Mostrar la gráfica\n",
    "fig.show()\n",
    "\n",
    "# Mostrar resumen estadístico\n",
    "print(\"\\nResumen Estadístico del Balance 2024:\")\n",
    "print(\"-\" * 50)\n",
    "print(f\"Total Entradas: {df_balance['total_entradas'].sum():,.2f}€\")\n",
    "print(f\"- Recargas: {df_balance['recarga_tarjeta'].sum():,.2f}€\")\n",
    "print(f\"- Bonificaciones: {df_balance['bonificaciones'].sum():,.2f}€\")\n",
    "print(f\"\\nTotal Salidas: {df_balance['total_salidas'].sum():,.2f}€\")\n",
    "print(f\"- Conversiones: {df_balance['conversion_euros'].sum():,.2f}€\")\n",
    "print(f\"- Comisiones: {df_balance['comisiones'].sum():,.2f}€\")\n",
    "print(f\"- Cuotas Mensuales: {df_balance['cuotas_mensuales'].sum():,.2f}€\")\n",
    "print(f\"- Cuotas Variables: {df_balance['cuotas_variables'].sum():,.2f}€\")\n",
    "print(f\"\\nBalance Neto: {df_balance['balance_neto'].sum():,.2f}€\")"
   ]
  },
  {
   "cell_type": "markdown",
   "metadata": {},
   "source": [
    "### 4.5 Análisis de Bonificaciones del Ayuntamiento\n",
    "\n",
    "Las bonificaciones municipales son una parte fundamental del circuito Ekhilur, representando la inversión directa del ayuntamiento para estimular la economía local. Este análisis se centra en:\n",
    "\n",
    "1. **Control de Límites**\n",
    "   - Límite global: 12,500€ mensuales del ayuntamiento\n",
    "   - Límite individual: 100€ por usuario/mes\n",
    "   - Caso especial: Agosto (remanente transferido a diciembre)\n",
    "\n",
    "2. **Distribución de Bonificaciones**\n",
    "   - Distribución mensual del fondo\n",
    "   - Número de usuarios beneficiados\n",
    "   - Promedio de bonificación por usuario\n",
    "   - Distribución entre particulares y profesionales\n",
    "\n",
    "3. **Impacto Económico**\n",
    "   - Relación bonificaciones/compras totales\n",
    "   - Efecto multiplicador (€ en compras por € bonificado)\n",
    "   - Patrones de uso y efectividad\n",
    "\n",
    "4. **Indicadores de Rendimiento**\n",
    "   - Porcentaje de utilización del fondo mensual\n",
    "   - Distribución entre sectores comerciales\n",
    "   - Evolución temporal del programa"
   ]
  },
  {
   "cell_type": "code",
   "execution_count": 7,
   "metadata": {},
   "outputs": [
    {
     "name": "stderr",
     "output_type": "stream",
     "text": [
      "C:\\Users\\mikel\\AppData\\Local\\Temp\\ipykernel_12748\\1450764005.py:22: UserWarning:\n",
      "\n",
      "pandas only supports SQLAlchemy connectable (engine/connection) or database string URI or sqlite3 DBAPI2 connection. Other DBAPI2 objects are not tested. Please consider using SQLAlchemy.\n",
      "\n"
     ]
    },
    {
     "data": {
      "application/vnd.plotly.v1+json": {
       "config": {
        "plotlyServerURL": "https://plot.ly"
       },
       "data": [
        {
         "marker": {
          "color": "green"
         },
         "name": "Bonificaciones",
         "type": "bar",
         "x": [
          "Enero",
          "Febrero",
          "Marzo",
          "Abril",
          "Mayo",
          "Junio",
          "Julio",
          "Agosto",
          "Septiembre",
          "Octubre",
          "Noviembre",
          "Diciembre"
         ],
         "xaxis": "x",
         "y": [
          12437.65,
          12429.3,
          12405.67,
          12447.53,
          12472.7,
          12437.38,
          12451.46,
          10064.63,
          12454.77,
          14559.08,
          12416.31,
          16085.72
         ],
         "yaxis": "y"
        },
        {
         "line": {
          "color": "red",
          "dash": "dash"
         },
         "name": "Límite Mensual",
         "type": "scatter",
         "x": [
          "Enero",
          "Febrero",
          "Marzo",
          "Abril",
          "Mayo",
          "Junio",
          "Julio",
          "Agosto",
          "Septiembre",
          "Octubre",
          "Noviembre",
          "Diciembre"
         ],
         "xaxis": "x",
         "y": [
          12500,
          12500,
          12500,
          12500,
          12500,
          12500,
          12500,
          12500,
          12500,
          12500,
          12500,
          12500
         ],
         "yaxis": "y"
        },
        {
         "domain": {
          "x": [
           0.55,
           1
          ],
          "y": [
           0.625,
           1
          ]
         },
         "labels": [
          "Particulares",
          "Empresas"
         ],
         "marker": {
          "colors": [
           "lightblue",
           "darkblue"
          ]
         },
         "type": "pie",
         "values": [
          140290.30000000002,
          12371.9
         ]
        },
        {
         "line": {
          "color": "lightblue"
         },
         "name": "Particulares",
         "type": "scatter",
         "x": [
          "Enero",
          "Febrero",
          "Marzo",
          "Abril",
          "Mayo",
          "Junio",
          "Julio",
          "Agosto",
          "Septiembre",
          "Octubre",
          "Noviembre",
          "Diciembre"
         ],
         "xaxis": "x2",
         "y": [
          785,
          785,
          788,
          773,
          796,
          789,
          783,
          729,
          799,
          833,
          839,
          872
         ],
         "yaxis": "y2"
        },
        {
         "line": {
          "color": "darkblue"
         },
         "name": "Empresas",
         "type": "scatter",
         "x": [
          "Enero",
          "Febrero",
          "Marzo",
          "Abril",
          "Mayo",
          "Junio",
          "Julio",
          "Agosto",
          "Septiembre",
          "Octubre",
          "Noviembre",
          "Diciembre"
         ],
         "xaxis": "x2",
         "y": [
          72,
          69,
          69,
          67,
          70,
          65,
          74,
          61,
          69,
          72,
          70,
          69
         ],
         "yaxis": "y2"
        },
        {
         "marker": {
          "color": "purple"
         },
         "name": "Promedio por Usuario",
         "type": "bar",
         "x": [
          "Enero",
          "Febrero",
          "Marzo",
          "Abril",
          "Mayo",
          "Junio",
          "Julio",
          "Agosto",
          "Septiembre",
          "Octubre",
          "Noviembre",
          "Diciembre"
         ],
         "xaxis": "x3",
         "y": [
          14.51,
          14.55,
          14.48,
          14.82,
          14.4,
          14.56,
          14.53,
          12.74,
          14.35,
          16.09,
          13.66,
          17.09
         ],
         "yaxis": "y3"
        }
       ],
       "layout": {
        "annotations": [
         {
          "font": {
           "size": 16
          },
          "showarrow": false,
          "text": "Uso del Fondo Mensual de Bonificaciones",
          "x": 0.225,
          "xanchor": "center",
          "xref": "paper",
          "y": 1,
          "yanchor": "bottom",
          "yref": "paper"
         },
         {
          "font": {
           "size": 16
          },
          "showarrow": false,
          "text": "Distribución por Tipo de Usuario",
          "x": 0.775,
          "xanchor": "center",
          "xref": "paper",
          "y": 1,
          "yanchor": "bottom",
          "yref": "paper"
         },
         {
          "font": {
           "size": 16
          },
          "showarrow": false,
          "text": "Usuarios Beneficiados por Mes",
          "x": 0.225,
          "xanchor": "center",
          "xref": "paper",
          "y": 0.375,
          "yanchor": "bottom",
          "yref": "paper"
         },
         {
          "font": {
           "size": 16
          },
          "showarrow": false,
          "text": "Promedio de Bonificación por Usuario",
          "x": 0.775,
          "xanchor": "center",
          "xref": "paper",
          "y": 0.375,
          "yanchor": "bottom",
          "yref": "paper"
         }
        ],
        "height": 800,
        "showlegend": true,
        "template": {
         "data": {
          "bar": [
           {
            "error_x": {
             "color": "#2a3f5f"
            },
            "error_y": {
             "color": "#2a3f5f"
            },
            "marker": {
             "line": {
              "color": "#E5ECF6",
              "width": 0.5
             },
             "pattern": {
              "fillmode": "overlay",
              "size": 10,
              "solidity": 0.2
             }
            },
            "type": "bar"
           }
          ],
          "barpolar": [
           {
            "marker": {
             "line": {
              "color": "#E5ECF6",
              "width": 0.5
             },
             "pattern": {
              "fillmode": "overlay",
              "size": 10,
              "solidity": 0.2
             }
            },
            "type": "barpolar"
           }
          ],
          "carpet": [
           {
            "aaxis": {
             "endlinecolor": "#2a3f5f",
             "gridcolor": "white",
             "linecolor": "white",
             "minorgridcolor": "white",
             "startlinecolor": "#2a3f5f"
            },
            "baxis": {
             "endlinecolor": "#2a3f5f",
             "gridcolor": "white",
             "linecolor": "white",
             "minorgridcolor": "white",
             "startlinecolor": "#2a3f5f"
            },
            "type": "carpet"
           }
          ],
          "choropleth": [
           {
            "colorbar": {
             "outlinewidth": 0,
             "ticks": ""
            },
            "type": "choropleth"
           }
          ],
          "contour": [
           {
            "colorbar": {
             "outlinewidth": 0,
             "ticks": ""
            },
            "colorscale": [
             [
              0,
              "#0d0887"
             ],
             [
              0.1111111111111111,
              "#46039f"
             ],
             [
              0.2222222222222222,
              "#7201a8"
             ],
             [
              0.3333333333333333,
              "#9c179e"
             ],
             [
              0.4444444444444444,
              "#bd3786"
             ],
             [
              0.5555555555555556,
              "#d8576b"
             ],
             [
              0.6666666666666666,
              "#ed7953"
             ],
             [
              0.7777777777777778,
              "#fb9f3a"
             ],
             [
              0.8888888888888888,
              "#fdca26"
             ],
             [
              1,
              "#f0f921"
             ]
            ],
            "type": "contour"
           }
          ],
          "contourcarpet": [
           {
            "colorbar": {
             "outlinewidth": 0,
             "ticks": ""
            },
            "type": "contourcarpet"
           }
          ],
          "heatmap": [
           {
            "colorbar": {
             "outlinewidth": 0,
             "ticks": ""
            },
            "colorscale": [
             [
              0,
              "#0d0887"
             ],
             [
              0.1111111111111111,
              "#46039f"
             ],
             [
              0.2222222222222222,
              "#7201a8"
             ],
             [
              0.3333333333333333,
              "#9c179e"
             ],
             [
              0.4444444444444444,
              "#bd3786"
             ],
             [
              0.5555555555555556,
              "#d8576b"
             ],
             [
              0.6666666666666666,
              "#ed7953"
             ],
             [
              0.7777777777777778,
              "#fb9f3a"
             ],
             [
              0.8888888888888888,
              "#fdca26"
             ],
             [
              1,
              "#f0f921"
             ]
            ],
            "type": "heatmap"
           }
          ],
          "heatmapgl": [
           {
            "colorbar": {
             "outlinewidth": 0,
             "ticks": ""
            },
            "colorscale": [
             [
              0,
              "#0d0887"
             ],
             [
              0.1111111111111111,
              "#46039f"
             ],
             [
              0.2222222222222222,
              "#7201a8"
             ],
             [
              0.3333333333333333,
              "#9c179e"
             ],
             [
              0.4444444444444444,
              "#bd3786"
             ],
             [
              0.5555555555555556,
              "#d8576b"
             ],
             [
              0.6666666666666666,
              "#ed7953"
             ],
             [
              0.7777777777777778,
              "#fb9f3a"
             ],
             [
              0.8888888888888888,
              "#fdca26"
             ],
             [
              1,
              "#f0f921"
             ]
            ],
            "type": "heatmapgl"
           }
          ],
          "histogram": [
           {
            "marker": {
             "pattern": {
              "fillmode": "overlay",
              "size": 10,
              "solidity": 0.2
             }
            },
            "type": "histogram"
           }
          ],
          "histogram2d": [
           {
            "colorbar": {
             "outlinewidth": 0,
             "ticks": ""
            },
            "colorscale": [
             [
              0,
              "#0d0887"
             ],
             [
              0.1111111111111111,
              "#46039f"
             ],
             [
              0.2222222222222222,
              "#7201a8"
             ],
             [
              0.3333333333333333,
              "#9c179e"
             ],
             [
              0.4444444444444444,
              "#bd3786"
             ],
             [
              0.5555555555555556,
              "#d8576b"
             ],
             [
              0.6666666666666666,
              "#ed7953"
             ],
             [
              0.7777777777777778,
              "#fb9f3a"
             ],
             [
              0.8888888888888888,
              "#fdca26"
             ],
             [
              1,
              "#f0f921"
             ]
            ],
            "type": "histogram2d"
           }
          ],
          "histogram2dcontour": [
           {
            "colorbar": {
             "outlinewidth": 0,
             "ticks": ""
            },
            "colorscale": [
             [
              0,
              "#0d0887"
             ],
             [
              0.1111111111111111,
              "#46039f"
             ],
             [
              0.2222222222222222,
              "#7201a8"
             ],
             [
              0.3333333333333333,
              "#9c179e"
             ],
             [
              0.4444444444444444,
              "#bd3786"
             ],
             [
              0.5555555555555556,
              "#d8576b"
             ],
             [
              0.6666666666666666,
              "#ed7953"
             ],
             [
              0.7777777777777778,
              "#fb9f3a"
             ],
             [
              0.8888888888888888,
              "#fdca26"
             ],
             [
              1,
              "#f0f921"
             ]
            ],
            "type": "histogram2dcontour"
           }
          ],
          "mesh3d": [
           {
            "colorbar": {
             "outlinewidth": 0,
             "ticks": ""
            },
            "type": "mesh3d"
           }
          ],
          "parcoords": [
           {
            "line": {
             "colorbar": {
              "outlinewidth": 0,
              "ticks": ""
             }
            },
            "type": "parcoords"
           }
          ],
          "pie": [
           {
            "automargin": true,
            "type": "pie"
           }
          ],
          "scatter": [
           {
            "fillpattern": {
             "fillmode": "overlay",
             "size": 10,
             "solidity": 0.2
            },
            "type": "scatter"
           }
          ],
          "scatter3d": [
           {
            "line": {
             "colorbar": {
              "outlinewidth": 0,
              "ticks": ""
             }
            },
            "marker": {
             "colorbar": {
              "outlinewidth": 0,
              "ticks": ""
             }
            },
            "type": "scatter3d"
           }
          ],
          "scattercarpet": [
           {
            "marker": {
             "colorbar": {
              "outlinewidth": 0,
              "ticks": ""
             }
            },
            "type": "scattercarpet"
           }
          ],
          "scattergeo": [
           {
            "marker": {
             "colorbar": {
              "outlinewidth": 0,
              "ticks": ""
             }
            },
            "type": "scattergeo"
           }
          ],
          "scattergl": [
           {
            "marker": {
             "colorbar": {
              "outlinewidth": 0,
              "ticks": ""
             }
            },
            "type": "scattergl"
           }
          ],
          "scattermapbox": [
           {
            "marker": {
             "colorbar": {
              "outlinewidth": 0,
              "ticks": ""
             }
            },
            "type": "scattermapbox"
           }
          ],
          "scatterpolar": [
           {
            "marker": {
             "colorbar": {
              "outlinewidth": 0,
              "ticks": ""
             }
            },
            "type": "scatterpolar"
           }
          ],
          "scatterpolargl": [
           {
            "marker": {
             "colorbar": {
              "outlinewidth": 0,
              "ticks": ""
             }
            },
            "type": "scatterpolargl"
           }
          ],
          "scatterternary": [
           {
            "marker": {
             "colorbar": {
              "outlinewidth": 0,
              "ticks": ""
             }
            },
            "type": "scatterternary"
           }
          ],
          "surface": [
           {
            "colorbar": {
             "outlinewidth": 0,
             "ticks": ""
            },
            "colorscale": [
             [
              0,
              "#0d0887"
             ],
             [
              0.1111111111111111,
              "#46039f"
             ],
             [
              0.2222222222222222,
              "#7201a8"
             ],
             [
              0.3333333333333333,
              "#9c179e"
             ],
             [
              0.4444444444444444,
              "#bd3786"
             ],
             [
              0.5555555555555556,
              "#d8576b"
             ],
             [
              0.6666666666666666,
              "#ed7953"
             ],
             [
              0.7777777777777778,
              "#fb9f3a"
             ],
             [
              0.8888888888888888,
              "#fdca26"
             ],
             [
              1,
              "#f0f921"
             ]
            ],
            "type": "surface"
           }
          ],
          "table": [
           {
            "cells": {
             "fill": {
              "color": "#EBF0F8"
             },
             "line": {
              "color": "white"
             }
            },
            "header": {
             "fill": {
              "color": "#C8D4E3"
             },
             "line": {
              "color": "white"
             }
            },
            "type": "table"
           }
          ]
         },
         "layout": {
          "annotationdefaults": {
           "arrowcolor": "#2a3f5f",
           "arrowhead": 0,
           "arrowwidth": 1
          },
          "autotypenumbers": "strict",
          "coloraxis": {
           "colorbar": {
            "outlinewidth": 0,
            "ticks": ""
           }
          },
          "colorscale": {
           "diverging": [
            [
             0,
             "#8e0152"
            ],
            [
             0.1,
             "#c51b7d"
            ],
            [
             0.2,
             "#de77ae"
            ],
            [
             0.3,
             "#f1b6da"
            ],
            [
             0.4,
             "#fde0ef"
            ],
            [
             0.5,
             "#f7f7f7"
            ],
            [
             0.6,
             "#e6f5d0"
            ],
            [
             0.7,
             "#b8e186"
            ],
            [
             0.8,
             "#7fbc41"
            ],
            [
             0.9,
             "#4d9221"
            ],
            [
             1,
             "#276419"
            ]
           ],
           "sequential": [
            [
             0,
             "#0d0887"
            ],
            [
             0.1111111111111111,
             "#46039f"
            ],
            [
             0.2222222222222222,
             "#7201a8"
            ],
            [
             0.3333333333333333,
             "#9c179e"
            ],
            [
             0.4444444444444444,
             "#bd3786"
            ],
            [
             0.5555555555555556,
             "#d8576b"
            ],
            [
             0.6666666666666666,
             "#ed7953"
            ],
            [
             0.7777777777777778,
             "#fb9f3a"
            ],
            [
             0.8888888888888888,
             "#fdca26"
            ],
            [
             1,
             "#f0f921"
            ]
           ],
           "sequentialminus": [
            [
             0,
             "#0d0887"
            ],
            [
             0.1111111111111111,
             "#46039f"
            ],
            [
             0.2222222222222222,
             "#7201a8"
            ],
            [
             0.3333333333333333,
             "#9c179e"
            ],
            [
             0.4444444444444444,
             "#bd3786"
            ],
            [
             0.5555555555555556,
             "#d8576b"
            ],
            [
             0.6666666666666666,
             "#ed7953"
            ],
            [
             0.7777777777777778,
             "#fb9f3a"
            ],
            [
             0.8888888888888888,
             "#fdca26"
            ],
            [
             1,
             "#f0f921"
            ]
           ]
          },
          "colorway": [
           "#636efa",
           "#EF553B",
           "#00cc96",
           "#ab63fa",
           "#FFA15A",
           "#19d3f3",
           "#FF6692",
           "#B6E880",
           "#FF97FF",
           "#FECB52"
          ],
          "font": {
           "color": "#2a3f5f"
          },
          "geo": {
           "bgcolor": "white",
           "lakecolor": "white",
           "landcolor": "#E5ECF6",
           "showlakes": true,
           "showland": true,
           "subunitcolor": "white"
          },
          "hoverlabel": {
           "align": "left"
          },
          "hovermode": "closest",
          "mapbox": {
           "style": "light"
          },
          "paper_bgcolor": "white",
          "plot_bgcolor": "#E5ECF6",
          "polar": {
           "angularaxis": {
            "gridcolor": "white",
            "linecolor": "white",
            "ticks": ""
           },
           "bgcolor": "#E5ECF6",
           "radialaxis": {
            "gridcolor": "white",
            "linecolor": "white",
            "ticks": ""
           }
          },
          "scene": {
           "xaxis": {
            "backgroundcolor": "#E5ECF6",
            "gridcolor": "white",
            "gridwidth": 2,
            "linecolor": "white",
            "showbackground": true,
            "ticks": "",
            "zerolinecolor": "white"
           },
           "yaxis": {
            "backgroundcolor": "#E5ECF6",
            "gridcolor": "white",
            "gridwidth": 2,
            "linecolor": "white",
            "showbackground": true,
            "ticks": "",
            "zerolinecolor": "white"
           },
           "zaxis": {
            "backgroundcolor": "#E5ECF6",
            "gridcolor": "white",
            "gridwidth": 2,
            "linecolor": "white",
            "showbackground": true,
            "ticks": "",
            "zerolinecolor": "white"
           }
          },
          "shapedefaults": {
           "line": {
            "color": "#2a3f5f"
           }
          },
          "ternary": {
           "aaxis": {
            "gridcolor": "white",
            "linecolor": "white",
            "ticks": ""
           },
           "baxis": {
            "gridcolor": "white",
            "linecolor": "white",
            "ticks": ""
           },
           "bgcolor": "#E5ECF6",
           "caxis": {
            "gridcolor": "white",
            "linecolor": "white",
            "ticks": ""
           }
          },
          "title": {
           "x": 0.05
          },
          "xaxis": {
           "automargin": true,
           "gridcolor": "white",
           "linecolor": "white",
           "ticks": "",
           "title": {
            "standoff": 15
           },
           "zerolinecolor": "white",
           "zerolinewidth": 2
          },
          "yaxis": {
           "automargin": true,
           "gridcolor": "white",
           "linecolor": "white",
           "ticks": "",
           "title": {
            "standoff": 15
           },
           "zerolinecolor": "white",
           "zerolinewidth": 2
          }
         }
        },
        "title": {
         "text": "Análisis de Bonificaciones Municipales 2024"
        },
        "xaxis": {
         "anchor": "y",
         "domain": [
          0,
          0.45
         ]
        },
        "xaxis2": {
         "anchor": "y2",
         "domain": [
          0,
          0.45
         ]
        },
        "xaxis3": {
         "anchor": "y3",
         "domain": [
          0.55,
          1
         ]
        },
        "yaxis": {
         "anchor": "x",
         "domain": [
          0.625,
          1
         ],
         "title": {
          "text": "Euros (€)"
         }
        },
        "yaxis2": {
         "anchor": "x2",
         "domain": [
          0,
          0.375
         ],
         "title": {
          "text": "Número de Usuarios"
         }
        },
        "yaxis3": {
         "anchor": "x3",
         "domain": [
          0,
          0.375
         ],
         "title": {
          "text": "Euros (€)"
         }
        }
       }
      }
     },
     "metadata": {},
     "output_type": "display_data"
    },
    {
     "name": "stdout",
     "output_type": "stream",
     "text": [
      "\n",
      "Resumen Estadístico de Bonificaciones 2024:\n",
      "--------------------------------------------------\n",
      "Total Bonificaciones: 152,662.20€\n",
      "Total Usuarios Beneficiados: 10,398\n",
      "\n",
      "Distribución por Tipo:\n",
      "- Particulares: 140,290.30€ (9,571 usuarios)\n",
      "- Empresas: 12,371.90€ (827 usuarios)\n",
      "\n",
      "Promedios:\n",
      "- Bonificación media por usuario: 14.65€\n",
      "- Máxima bonificación registrada: 100.00€\n",
      "\n",
      "Uso del Fondo:\n",
      "- Promedio mensual de uso: 101.77%\n",
      "- Mes con mayor uso: Diciembre (128.69%)\n",
      "- Mes con menor uso: Agosto (80.52%)\n"
     ]
    }
   ],
   "source": [
    "# Consulta SQL para análisis de bonificaciones\n",
    "query_bonificaciones = \"\"\"\n",
    "WITH bonificaciones_mensuales AS (\n",
    "    SELECT \n",
    "        SUBSTRING(f.Id_fecha, 1, 6) as año_mes,\n",
    "        CASE SUBSTRING(f.Id_fecha, 5, 2)\n",
    "            WHEN '01' THEN 'Enero'\n",
    "            WHEN '02' THEN 'Febrero'\n",
    "            WHEN '03' THEN 'Marzo'\n",
    "            WHEN '04' THEN 'Abril'\n",
    "            WHEN '05' THEN 'Mayo'\n",
    "            WHEN '06' THEN 'Junio'\n",
    "            WHEN '07' THEN 'Julio'\n",
    "            WHEN '08' THEN 'Agosto'\n",
    "            WHEN '09' THEN 'Septiembre'\n",
    "            WHEN '10' THEN 'Octubre'\n",
    "            WHEN '11' THEN 'Noviembre'\n",
    "            WHEN '12' THEN 'Diciembre'\n",
    "        END as nombre_mes,\n",
    "        -- Datos de bonificaciones\n",
    "        SUM(f.Cantidad) as total_bonificaciones,\n",
    "        COUNT(DISTINCT f.Usuario_receptor) as usuarios_beneficiados,\n",
    "        SUM(f.Cantidad) / COUNT(DISTINCT f.Usuario_receptor) as promedio_por_usuario,\n",
    "        -- Máxima bonificación por usuario\n",
    "        MAX(f.Cantidad) as maxima_bonificacion,\n",
    "        -- Conteo por tipo de usuario\n",
    "        COUNT(DISTINCT CASE \n",
    "            WHEN u.Tipo_usuario = 'usuario' THEN f.Usuario_receptor \n",
    "        END) as usuarios_particulares,\n",
    "        COUNT(DISTINCT CASE \n",
    "            WHEN u.Tipo_usuario IN ('autonomo', 'Empresa') THEN f.Usuario_receptor \n",
    "        END) as usuarios_empresas,\n",
    "        -- Suma por tipo de usuario\n",
    "        SUM(CASE \n",
    "            WHEN u.Tipo_usuario = 'usuario' THEN f.Cantidad \n",
    "            ELSE 0 \n",
    "        END) as suma_particulares,\n",
    "        SUM(CASE \n",
    "            WHEN u.Tipo_usuario IN ('autonomo', 'Empresa') THEN f.Cantidad \n",
    "            ELSE 0 \n",
    "        END) as suma_empresas,\n",
    "        -- Comparación con límite mensual\n",
    "        12500 as limite_mensual,\n",
    "        (SUM(f.Cantidad) / 12500) * 100 as porcentaje_uso\n",
    "    FROM fact_table f\n",
    "    JOIN dim_operaciones o ON f.Id_tipo_operacion = o.Id_tipo_operacion\n",
    "    JOIN dim_usuarios u ON f.Usuario_receptor = u.Id_usuario\n",
    "    WHERE o.Operacion = 'Bonificación por compra'\n",
    "    AND SUBSTRING(f.Id_fecha, 1, 4) = '2024'\n",
    "    AND f.Usuario_emisor = 'dea65d4fd2a24ea5a7d621beab8d2c7889114849e374b53933bda0e8a1ade7a4'\n",
    "    AND u.Tipo_usuario IN ('usuario', 'autonomo', 'Empresa')  -- Excluimos Asociacion y ekhilur\n",
    "    GROUP BY SUBSTRING(f.Id_fecha, 1, 6),\n",
    "             CASE SUBSTRING(f.Id_fecha, 5, 2)\n",
    "                WHEN '01' THEN 'Enero'\n",
    "                WHEN '02' THEN 'Febrero'\n",
    "                WHEN '03' THEN 'Marzo'\n",
    "                WHEN '04' THEN 'Abril'\n",
    "                WHEN '05' THEN 'Mayo'\n",
    "                WHEN '06' THEN 'Junio'\n",
    "                WHEN '07' THEN 'Julio'\n",
    "                WHEN '08' THEN 'Agosto'\n",
    "                WHEN '09' THEN 'Septiembre'\n",
    "                WHEN '10' THEN 'Octubre'\n",
    "                WHEN '11' THEN 'Noviembre'\n",
    "                WHEN '12' THEN 'Diciembre'\n",
    "             END\n",
    ")\n",
    "SELECT \n",
    "    nombre_mes,\n",
    "    ROUND(total_bonificaciones, 2) as total_bonificaciones,\n",
    "    usuarios_beneficiados,\n",
    "    ROUND(promedio_por_usuario, 2) as promedio_por_usuario,\n",
    "    ROUND(maxima_bonificacion, 2) as maxima_bonificacion,\n",
    "    usuarios_particulares,\n",
    "    usuarios_empresas,\n",
    "    ROUND(suma_particulares, 2) as suma_particulares,\n",
    "    ROUND(suma_empresas, 2) as suma_empresas,\n",
    "    limite_mensual,\n",
    "    ROUND(porcentaje_uso, 2) as porcentaje_uso\n",
    "FROM bonificaciones_mensuales\n",
    "ORDER BY año_mes;\n",
    "\"\"\"\n",
    "\n",
    "# Ejecutar la consulta\n",
    "df_bonificaciones = ejecutar_query(query_bonificaciones)\n",
    "\n",
    "# Crear visualizaciones\n",
    "fig = make_subplots(\n",
    "    rows=2, cols=2,\n",
    "    subplot_titles=(\n",
    "        'Uso del Fondo Mensual de Bonificaciones',\n",
    "        'Distribución por Tipo de Usuario',\n",
    "        'Usuarios Beneficiados por Mes',\n",
    "        'Promedio de Bonificación por Usuario'\n",
    "    ),\n",
    "    specs=[[{\"type\": \"bar\"}, {\"type\": \"pie\"}],\n",
    "           [{\"type\": \"scatter\"}, {\"type\": \"bar\"}]]\n",
    ")\n",
    "\n",
    "# 1. Gráfico de barras: Uso del fondo mensual\n",
    "fig.add_trace(\n",
    "    go.Bar(\n",
    "        name='Bonificaciones',\n",
    "        x=df_bonificaciones['nombre_mes'],\n",
    "        y=df_bonificaciones['total_bonificaciones'],\n",
    "        marker_color='green'\n",
    "    ),\n",
    "    row=1, col=1\n",
    ")\n",
    "fig.add_trace(\n",
    "    go.Scatter(\n",
    "        name='Límite Mensual',\n",
    "        x=df_bonificaciones['nombre_mes'],\n",
    "        y=df_bonificaciones['limite_mensual'],\n",
    "        line=dict(color='red', dash='dash')\n",
    "    ),\n",
    "    row=1, col=1\n",
    ")\n",
    "\n",
    "# 2. Gráfico circular: Distribución total entre particulares y empresas\n",
    "fig.add_trace(\n",
    "    go.Pie(\n",
    "        labels=['Particulares', 'Empresas'],\n",
    "        values=[\n",
    "            df_bonificaciones['suma_particulares'].sum(),\n",
    "            df_bonificaciones['suma_empresas'].sum()\n",
    "        ],\n",
    "        marker_colors=['lightblue', 'darkblue']\n",
    "    ),\n",
    "    row=1, col=2\n",
    ")\n",
    "\n",
    "# 3. Gráfico de líneas: Usuarios beneficiados por mes\n",
    "fig.add_trace(\n",
    "    go.Scatter(\n",
    "        name='Particulares',\n",
    "        x=df_bonificaciones['nombre_mes'],\n",
    "        y=df_bonificaciones['usuarios_particulares'],\n",
    "        line=dict(color='lightblue')\n",
    "    ),\n",
    "    row=2, col=1\n",
    ")\n",
    "fig.add_trace(\n",
    "    go.Scatter(\n",
    "        name='Empresas',\n",
    "        x=df_bonificaciones['nombre_mes'],\n",
    "        y=df_bonificaciones['usuarios_empresas'],\n",
    "        line=dict(color='darkblue')\n",
    "    ),\n",
    "    row=2, col=1\n",
    ")\n",
    "\n",
    "# 4. Gráfico de barras: Promedio de bonificación por usuario\n",
    "fig.add_trace(\n",
    "    go.Bar(\n",
    "        name='Promedio por Usuario',\n",
    "        x=df_bonificaciones['nombre_mes'],\n",
    "        y=df_bonificaciones['promedio_por_usuario'],\n",
    "        marker_color='purple'\n",
    "    ),\n",
    "    row=2, col=2\n",
    ")\n",
    "\n",
    "# Actualizar diseño\n",
    "fig.update_layout(\n",
    "    height=800,\n",
    "    showlegend=True,\n",
    "    title_text=\"Análisis de Bonificaciones Municipales 2024\"\n",
    ")\n",
    "\n",
    "# Actualizar etiquetas de los ejes\n",
    "fig.update_yaxes(title_text=\"Euros (€)\", row=1, col=1)\n",
    "fig.update_yaxes(title_text=\"Número de Usuarios\", row=2, col=1)\n",
    "fig.update_yaxes(title_text=\"Euros (€)\", row=2, col=2)\n",
    "\n",
    "# Mostrar la gráfica\n",
    "fig.show()\n",
    "\n",
    "# Mostrar resumen estadístico\n",
    "print(\"\\nResumen Estadístico de Bonificaciones 2024:\")\n",
    "print(\"-\" * 50)\n",
    "print(f\"Total Bonificaciones: {df_bonificaciones['total_bonificaciones'].sum():,.2f}€\")\n",
    "print(f\"Total Usuarios Beneficiados: {df_bonificaciones['usuarios_beneficiados'].sum():,}\")\n",
    "print(f\"\\nDistribución por Tipo:\")\n",
    "print(f\"- Particulares: {df_bonificaciones['suma_particulares'].sum():,.2f}€ ({df_bonificaciones['usuarios_particulares'].sum():,} usuarios)\")\n",
    "print(f\"- Empresas: {df_bonificaciones['suma_empresas'].sum():,.2f}€ ({df_bonificaciones['usuarios_empresas'].sum():,} usuarios)\")\n",
    "print(f\"\\nPromedios:\")\n",
    "print(f\"- Bonificación media por usuario: {df_bonificaciones['promedio_por_usuario'].mean():,.2f}€\")\n",
    "print(f\"- Máxima bonificación registrada: {df_bonificaciones['maxima_bonificacion'].max():,.2f}€\")\n",
    "print(f\"\\nUso del Fondo:\")\n",
    "print(f\"- Promedio mensual de uso: {df_bonificaciones['porcentaje_uso'].mean():,.2f}%\")\n",
    "print(f\"- Mes con mayor uso: {df_bonificaciones.loc[df_bonificaciones['porcentaje_uso'].idxmax(), 'nombre_mes']} ({df_bonificaciones['porcentaje_uso'].max():,.2f}%)\")\n",
    "print(f\"- Mes con menor uso: {df_bonificaciones.loc[df_bonificaciones['porcentaje_uso'].idxmin(), 'nombre_mes']} ({df_bonificaciones['porcentaje_uso'].min():,.2f}%)\")"
   ]
  },
  {
   "cell_type": "markdown",
   "metadata": {},
   "source": [
    "### 4.6 Impacto de las Bonificaciones en las Ventas\n",
    "\n",
    "Analizamos la efectividad del programa de bonificaciones estudiando:\n",
    "\n",
    "1. **Relación Bonificación-Venta**\n",
    "   - Volumen de ventas por cada euro bonificado\n",
    "   - Distribución temporal de las ventas en relación con las bonificaciones\n",
    "   - Patrones de compra de usuarios bonificados\n",
    "\n",
    "2. **Impacto en Comercios**\n",
    "   - Ventas en comercios que participan en el programa\n",
    "   - Comparativa de ventas con y sin bonificación\n",
    "   - Fidelización de clientes\n",
    "\n",
    "3. **Eficiencia del Programa**\n",
    "   - Retorno de inversión para el ayuntamiento\n",
    "   - Distribución del impacto entre sectores comerciales\n",
    "   - Efectividad en la estimulación del comercio local"
   ]
  },
  {
   "cell_type": "code",
   "execution_count": 8,
   "metadata": {},
   "outputs": [
    {
     "name": "stderr",
     "output_type": "stream",
     "text": [
      "C:\\Users\\mikel\\AppData\\Local\\Temp\\ipykernel_12748\\1450764005.py:22: UserWarning:\n",
      "\n",
      "pandas only supports SQLAlchemy connectable (engine/connection) or database string URI or sqlite3 DBAPI2 connection. Other DBAPI2 objects are not tested. Please consider using SQLAlchemy.\n",
      "\n"
     ]
    },
    {
     "data": {
      "application/vnd.plotly.v1+json": {
       "config": {
        "plotlyServerURL": "https://plot.ly"
       },
       "data": [
        {
         "marker": {
          "color": "blue"
         },
         "name": "Ventas Totales",
         "type": "bar",
         "x": [
          "Enero",
          "Febrero",
          "Marzo",
          "Abril",
          "Mayo",
          "Junio",
          "Julio",
          "Agosto",
          "Septiembre",
          "Octubre",
          "Noviembre",
          "Diciembre"
         ],
         "xaxis": "x",
         "y": [
          210138.01,
          190234.8,
          204350.18,
          197668.25,
          221211.57,
          203761.02,
          199788.12,
          147189.74,
          196301.05,
          233963.67,
          218931.1,
          281357.17
         ],
         "yaxis": "y"
        },
        {
         "marker": {
          "color": "green"
         },
         "name": "Bonificaciones",
         "type": "bar",
         "x": [
          "Enero",
          "Febrero",
          "Marzo",
          "Abril",
          "Mayo",
          "Junio",
          "Julio",
          "Agosto",
          "Septiembre",
          "Octubre",
          "Noviembre",
          "Diciembre"
         ],
         "xaxis": "x",
         "y": [
          12483.56,
          12456.54,
          12469.92,
          12459.14,
          12483.33,
          12450.01,
          12463.21,
          10072.1,
          12483.16,
          14603.03,
          12479.6,
          16104.4
         ],
         "yaxis": "y"
        },
        {
         "line": {
          "color": "red"
         },
         "mode": "lines+markers",
         "name": "Multiplicador",
         "type": "scatter",
         "x": [
          "Enero",
          "Febrero",
          "Marzo",
          "Abril",
          "Mayo",
          "Junio",
          "Julio",
          "Agosto",
          "Septiembre",
          "Octubre",
          "Noviembre",
          "Diciembre"
         ],
         "xaxis": "x2",
         "y": [
          16.83,
          15.27,
          16.39,
          15.87,
          17.72,
          16.37,
          16.03,
          14.61,
          15.73,
          16.02,
          17.54,
          17.47
         ],
         "yaxis": "y2"
        },
        {
         "line": {
          "color": "purple"
         },
         "mode": "lines+markers",
         "name": "Comercios Activos",
         "type": "scatter",
         "x": [
          "Enero",
          "Febrero",
          "Marzo",
          "Abril",
          "Mayo",
          "Junio",
          "Julio",
          "Agosto",
          "Septiembre",
          "Octubre",
          "Noviembre",
          "Diciembre"
         ],
         "xaxis": "x3",
         "y": [
          93,
          94,
          95,
          97,
          100,
          99,
          97,
          97,
          98,
          99,
          95,
          94
         ],
         "yaxis": "y3"
        },
        {
         "line": {
          "color": "orange"
         },
         "mode": "lines+markers",
         "name": "Compradores Únicos",
         "type": "scatter",
         "x": [
          "Enero",
          "Febrero",
          "Marzo",
          "Abril",
          "Mayo",
          "Junio",
          "Julio",
          "Agosto",
          "Septiembre",
          "Octubre",
          "Noviembre",
          "Diciembre"
         ],
         "xaxis": "x3",
         "y": [
          860,
          849,
          849,
          836,
          884,
          854,
          852,
          773,
          868,
          914,
          922,
          949
         ],
         "yaxis": "y3"
        },
        {
         "marker": {
          "color": "lightblue"
         },
         "name": "Ticket Medio",
         "type": "bar",
         "x": [
          "Enero",
          "Febrero",
          "Marzo",
          "Abril",
          "Mayo",
          "Junio",
          "Julio",
          "Agosto",
          "Septiembre",
          "Octubre",
          "Noviembre",
          "Diciembre"
         ],
         "xaxis": "x4",
         "y": [
          23,
          21.47,
          22.94,
          22.21,
          22.97,
          24.16,
          23.83,
          24.13,
          23.06,
          24.41,
          23.45,
          28.44
         ],
         "yaxis": "y4"
        },
        {
         "marker": {
          "color": "darkblue"
         },
         "name": "Venta Media por Comercio",
         "type": "bar",
         "x": [
          "Enero",
          "Febrero",
          "Marzo",
          "Abril",
          "Mayo",
          "Junio",
          "Julio",
          "Agosto",
          "Septiembre",
          "Octubre",
          "Noviembre",
          "Diciembre"
         ],
         "xaxis": "x4",
         "y": [
          2259.55,
          2023.77,
          2151.05,
          2037.82,
          2212.12,
          2058.19,
          2059.67,
          1517.42,
          2003.07,
          2363.27,
          2304.54,
          2993.16
         ],
         "yaxis": "y4"
        }
       ],
       "layout": {
        "annotations": [
         {
          "font": {
           "size": 16
          },
          "showarrow": false,
          "text": "Ventas vs Bonificaciones por Mes",
          "x": 0.225,
          "xanchor": "center",
          "xref": "paper",
          "y": 1,
          "yanchor": "bottom",
          "yref": "paper"
         },
         {
          "font": {
           "size": 16
          },
          "showarrow": false,
          "text": "Efecto Multiplicador de Bonificaciones",
          "x": 0.775,
          "xanchor": "center",
          "xref": "paper",
          "y": 1,
          "yanchor": "bottom",
          "yref": "paper"
         },
         {
          "font": {
           "size": 16
          },
          "showarrow": false,
          "text": "Actividad Comercial",
          "x": 0.225,
          "xanchor": "center",
          "xref": "paper",
          "y": 0.375,
          "yanchor": "bottom",
          "yref": "paper"
         },
         {
          "font": {
           "size": 16
          },
          "showarrow": false,
          "text": "Ticket Medio y Venta por Comercio",
          "x": 0.775,
          "xanchor": "center",
          "xref": "paper",
          "y": 0.375,
          "yanchor": "bottom",
          "yref": "paper"
         }
        ],
        "barmode": "group",
        "height": 800,
        "showlegend": true,
        "template": {
         "data": {
          "bar": [
           {
            "error_x": {
             "color": "#2a3f5f"
            },
            "error_y": {
             "color": "#2a3f5f"
            },
            "marker": {
             "line": {
              "color": "#E5ECF6",
              "width": 0.5
             },
             "pattern": {
              "fillmode": "overlay",
              "size": 10,
              "solidity": 0.2
             }
            },
            "type": "bar"
           }
          ],
          "barpolar": [
           {
            "marker": {
             "line": {
              "color": "#E5ECF6",
              "width": 0.5
             },
             "pattern": {
              "fillmode": "overlay",
              "size": 10,
              "solidity": 0.2
             }
            },
            "type": "barpolar"
           }
          ],
          "carpet": [
           {
            "aaxis": {
             "endlinecolor": "#2a3f5f",
             "gridcolor": "white",
             "linecolor": "white",
             "minorgridcolor": "white",
             "startlinecolor": "#2a3f5f"
            },
            "baxis": {
             "endlinecolor": "#2a3f5f",
             "gridcolor": "white",
             "linecolor": "white",
             "minorgridcolor": "white",
             "startlinecolor": "#2a3f5f"
            },
            "type": "carpet"
           }
          ],
          "choropleth": [
           {
            "colorbar": {
             "outlinewidth": 0,
             "ticks": ""
            },
            "type": "choropleth"
           }
          ],
          "contour": [
           {
            "colorbar": {
             "outlinewidth": 0,
             "ticks": ""
            },
            "colorscale": [
             [
              0,
              "#0d0887"
             ],
             [
              0.1111111111111111,
              "#46039f"
             ],
             [
              0.2222222222222222,
              "#7201a8"
             ],
             [
              0.3333333333333333,
              "#9c179e"
             ],
             [
              0.4444444444444444,
              "#bd3786"
             ],
             [
              0.5555555555555556,
              "#d8576b"
             ],
             [
              0.6666666666666666,
              "#ed7953"
             ],
             [
              0.7777777777777778,
              "#fb9f3a"
             ],
             [
              0.8888888888888888,
              "#fdca26"
             ],
             [
              1,
              "#f0f921"
             ]
            ],
            "type": "contour"
           }
          ],
          "contourcarpet": [
           {
            "colorbar": {
             "outlinewidth": 0,
             "ticks": ""
            },
            "type": "contourcarpet"
           }
          ],
          "heatmap": [
           {
            "colorbar": {
             "outlinewidth": 0,
             "ticks": ""
            },
            "colorscale": [
             [
              0,
              "#0d0887"
             ],
             [
              0.1111111111111111,
              "#46039f"
             ],
             [
              0.2222222222222222,
              "#7201a8"
             ],
             [
              0.3333333333333333,
              "#9c179e"
             ],
             [
              0.4444444444444444,
              "#bd3786"
             ],
             [
              0.5555555555555556,
              "#d8576b"
             ],
             [
              0.6666666666666666,
              "#ed7953"
             ],
             [
              0.7777777777777778,
              "#fb9f3a"
             ],
             [
              0.8888888888888888,
              "#fdca26"
             ],
             [
              1,
              "#f0f921"
             ]
            ],
            "type": "heatmap"
           }
          ],
          "heatmapgl": [
           {
            "colorbar": {
             "outlinewidth": 0,
             "ticks": ""
            },
            "colorscale": [
             [
              0,
              "#0d0887"
             ],
             [
              0.1111111111111111,
              "#46039f"
             ],
             [
              0.2222222222222222,
              "#7201a8"
             ],
             [
              0.3333333333333333,
              "#9c179e"
             ],
             [
              0.4444444444444444,
              "#bd3786"
             ],
             [
              0.5555555555555556,
              "#d8576b"
             ],
             [
              0.6666666666666666,
              "#ed7953"
             ],
             [
              0.7777777777777778,
              "#fb9f3a"
             ],
             [
              0.8888888888888888,
              "#fdca26"
             ],
             [
              1,
              "#f0f921"
             ]
            ],
            "type": "heatmapgl"
           }
          ],
          "histogram": [
           {
            "marker": {
             "pattern": {
              "fillmode": "overlay",
              "size": 10,
              "solidity": 0.2
             }
            },
            "type": "histogram"
           }
          ],
          "histogram2d": [
           {
            "colorbar": {
             "outlinewidth": 0,
             "ticks": ""
            },
            "colorscale": [
             [
              0,
              "#0d0887"
             ],
             [
              0.1111111111111111,
              "#46039f"
             ],
             [
              0.2222222222222222,
              "#7201a8"
             ],
             [
              0.3333333333333333,
              "#9c179e"
             ],
             [
              0.4444444444444444,
              "#bd3786"
             ],
             [
              0.5555555555555556,
              "#d8576b"
             ],
             [
              0.6666666666666666,
              "#ed7953"
             ],
             [
              0.7777777777777778,
              "#fb9f3a"
             ],
             [
              0.8888888888888888,
              "#fdca26"
             ],
             [
              1,
              "#f0f921"
             ]
            ],
            "type": "histogram2d"
           }
          ],
          "histogram2dcontour": [
           {
            "colorbar": {
             "outlinewidth": 0,
             "ticks": ""
            },
            "colorscale": [
             [
              0,
              "#0d0887"
             ],
             [
              0.1111111111111111,
              "#46039f"
             ],
             [
              0.2222222222222222,
              "#7201a8"
             ],
             [
              0.3333333333333333,
              "#9c179e"
             ],
             [
              0.4444444444444444,
              "#bd3786"
             ],
             [
              0.5555555555555556,
              "#d8576b"
             ],
             [
              0.6666666666666666,
              "#ed7953"
             ],
             [
              0.7777777777777778,
              "#fb9f3a"
             ],
             [
              0.8888888888888888,
              "#fdca26"
             ],
             [
              1,
              "#f0f921"
             ]
            ],
            "type": "histogram2dcontour"
           }
          ],
          "mesh3d": [
           {
            "colorbar": {
             "outlinewidth": 0,
             "ticks": ""
            },
            "type": "mesh3d"
           }
          ],
          "parcoords": [
           {
            "line": {
             "colorbar": {
              "outlinewidth": 0,
              "ticks": ""
             }
            },
            "type": "parcoords"
           }
          ],
          "pie": [
           {
            "automargin": true,
            "type": "pie"
           }
          ],
          "scatter": [
           {
            "fillpattern": {
             "fillmode": "overlay",
             "size": 10,
             "solidity": 0.2
            },
            "type": "scatter"
           }
          ],
          "scatter3d": [
           {
            "line": {
             "colorbar": {
              "outlinewidth": 0,
              "ticks": ""
             }
            },
            "marker": {
             "colorbar": {
              "outlinewidth": 0,
              "ticks": ""
             }
            },
            "type": "scatter3d"
           }
          ],
          "scattercarpet": [
           {
            "marker": {
             "colorbar": {
              "outlinewidth": 0,
              "ticks": ""
             }
            },
            "type": "scattercarpet"
           }
          ],
          "scattergeo": [
           {
            "marker": {
             "colorbar": {
              "outlinewidth": 0,
              "ticks": ""
             }
            },
            "type": "scattergeo"
           }
          ],
          "scattergl": [
           {
            "marker": {
             "colorbar": {
              "outlinewidth": 0,
              "ticks": ""
             }
            },
            "type": "scattergl"
           }
          ],
          "scattermapbox": [
           {
            "marker": {
             "colorbar": {
              "outlinewidth": 0,
              "ticks": ""
             }
            },
            "type": "scattermapbox"
           }
          ],
          "scatterpolar": [
           {
            "marker": {
             "colorbar": {
              "outlinewidth": 0,
              "ticks": ""
             }
            },
            "type": "scatterpolar"
           }
          ],
          "scatterpolargl": [
           {
            "marker": {
             "colorbar": {
              "outlinewidth": 0,
              "ticks": ""
             }
            },
            "type": "scatterpolargl"
           }
          ],
          "scatterternary": [
           {
            "marker": {
             "colorbar": {
              "outlinewidth": 0,
              "ticks": ""
             }
            },
            "type": "scatterternary"
           }
          ],
          "surface": [
           {
            "colorbar": {
             "outlinewidth": 0,
             "ticks": ""
            },
            "colorscale": [
             [
              0,
              "#0d0887"
             ],
             [
              0.1111111111111111,
              "#46039f"
             ],
             [
              0.2222222222222222,
              "#7201a8"
             ],
             [
              0.3333333333333333,
              "#9c179e"
             ],
             [
              0.4444444444444444,
              "#bd3786"
             ],
             [
              0.5555555555555556,
              "#d8576b"
             ],
             [
              0.6666666666666666,
              "#ed7953"
             ],
             [
              0.7777777777777778,
              "#fb9f3a"
             ],
             [
              0.8888888888888888,
              "#fdca26"
             ],
             [
              1,
              "#f0f921"
             ]
            ],
            "type": "surface"
           }
          ],
          "table": [
           {
            "cells": {
             "fill": {
              "color": "#EBF0F8"
             },
             "line": {
              "color": "white"
             }
            },
            "header": {
             "fill": {
              "color": "#C8D4E3"
             },
             "line": {
              "color": "white"
             }
            },
            "type": "table"
           }
          ]
         },
         "layout": {
          "annotationdefaults": {
           "arrowcolor": "#2a3f5f",
           "arrowhead": 0,
           "arrowwidth": 1
          },
          "autotypenumbers": "strict",
          "coloraxis": {
           "colorbar": {
            "outlinewidth": 0,
            "ticks": ""
           }
          },
          "colorscale": {
           "diverging": [
            [
             0,
             "#8e0152"
            ],
            [
             0.1,
             "#c51b7d"
            ],
            [
             0.2,
             "#de77ae"
            ],
            [
             0.3,
             "#f1b6da"
            ],
            [
             0.4,
             "#fde0ef"
            ],
            [
             0.5,
             "#f7f7f7"
            ],
            [
             0.6,
             "#e6f5d0"
            ],
            [
             0.7,
             "#b8e186"
            ],
            [
             0.8,
             "#7fbc41"
            ],
            [
             0.9,
             "#4d9221"
            ],
            [
             1,
             "#276419"
            ]
           ],
           "sequential": [
            [
             0,
             "#0d0887"
            ],
            [
             0.1111111111111111,
             "#46039f"
            ],
            [
             0.2222222222222222,
             "#7201a8"
            ],
            [
             0.3333333333333333,
             "#9c179e"
            ],
            [
             0.4444444444444444,
             "#bd3786"
            ],
            [
             0.5555555555555556,
             "#d8576b"
            ],
            [
             0.6666666666666666,
             "#ed7953"
            ],
            [
             0.7777777777777778,
             "#fb9f3a"
            ],
            [
             0.8888888888888888,
             "#fdca26"
            ],
            [
             1,
             "#f0f921"
            ]
           ],
           "sequentialminus": [
            [
             0,
             "#0d0887"
            ],
            [
             0.1111111111111111,
             "#46039f"
            ],
            [
             0.2222222222222222,
             "#7201a8"
            ],
            [
             0.3333333333333333,
             "#9c179e"
            ],
            [
             0.4444444444444444,
             "#bd3786"
            ],
            [
             0.5555555555555556,
             "#d8576b"
            ],
            [
             0.6666666666666666,
             "#ed7953"
            ],
            [
             0.7777777777777778,
             "#fb9f3a"
            ],
            [
             0.8888888888888888,
             "#fdca26"
            ],
            [
             1,
             "#f0f921"
            ]
           ]
          },
          "colorway": [
           "#636efa",
           "#EF553B",
           "#00cc96",
           "#ab63fa",
           "#FFA15A",
           "#19d3f3",
           "#FF6692",
           "#B6E880",
           "#FF97FF",
           "#FECB52"
          ],
          "font": {
           "color": "#2a3f5f"
          },
          "geo": {
           "bgcolor": "white",
           "lakecolor": "white",
           "landcolor": "#E5ECF6",
           "showlakes": true,
           "showland": true,
           "subunitcolor": "white"
          },
          "hoverlabel": {
           "align": "left"
          },
          "hovermode": "closest",
          "mapbox": {
           "style": "light"
          },
          "paper_bgcolor": "white",
          "plot_bgcolor": "#E5ECF6",
          "polar": {
           "angularaxis": {
            "gridcolor": "white",
            "linecolor": "white",
            "ticks": ""
           },
           "bgcolor": "#E5ECF6",
           "radialaxis": {
            "gridcolor": "white",
            "linecolor": "white",
            "ticks": ""
           }
          },
          "scene": {
           "xaxis": {
            "backgroundcolor": "#E5ECF6",
            "gridcolor": "white",
            "gridwidth": 2,
            "linecolor": "white",
            "showbackground": true,
            "ticks": "",
            "zerolinecolor": "white"
           },
           "yaxis": {
            "backgroundcolor": "#E5ECF6",
            "gridcolor": "white",
            "gridwidth": 2,
            "linecolor": "white",
            "showbackground": true,
            "ticks": "",
            "zerolinecolor": "white"
           },
           "zaxis": {
            "backgroundcolor": "#E5ECF6",
            "gridcolor": "white",
            "gridwidth": 2,
            "linecolor": "white",
            "showbackground": true,
            "ticks": "",
            "zerolinecolor": "white"
           }
          },
          "shapedefaults": {
           "line": {
            "color": "#2a3f5f"
           }
          },
          "ternary": {
           "aaxis": {
            "gridcolor": "white",
            "linecolor": "white",
            "ticks": ""
           },
           "baxis": {
            "gridcolor": "white",
            "linecolor": "white",
            "ticks": ""
           },
           "bgcolor": "#E5ECF6",
           "caxis": {
            "gridcolor": "white",
            "linecolor": "white",
            "ticks": ""
           }
          },
          "title": {
           "x": 0.05
          },
          "xaxis": {
           "automargin": true,
           "gridcolor": "white",
           "linecolor": "white",
           "ticks": "",
           "title": {
            "standoff": 15
           },
           "zerolinecolor": "white",
           "zerolinewidth": 2
          },
          "yaxis": {
           "automargin": true,
           "gridcolor": "white",
           "linecolor": "white",
           "ticks": "",
           "title": {
            "standoff": 15
           },
           "zerolinecolor": "white",
           "zerolinewidth": 2
          }
         }
        },
        "title": {
         "text": "Impacto de las Bonificaciones en las Ventas 2024"
        },
        "xaxis": {
         "anchor": "y",
         "domain": [
          0,
          0.45
         ]
        },
        "xaxis2": {
         "anchor": "y2",
         "domain": [
          0.55,
          1
         ]
        },
        "xaxis3": {
         "anchor": "y3",
         "domain": [
          0,
          0.45
         ]
        },
        "xaxis4": {
         "anchor": "y4",
         "domain": [
          0.55,
          1
         ]
        },
        "yaxis": {
         "anchor": "x",
         "domain": [
          0.625,
          1
         ],
         "title": {
          "text": "Euros (€)"
         }
        },
        "yaxis2": {
         "anchor": "x2",
         "domain": [
          0.625,
          1
         ],
         "title": {
          "text": "Ratio Venta/Bonificación"
         }
        },
        "yaxis3": {
         "anchor": "x3",
         "domain": [
          0,
          0.375
         ],
         "title": {
          "text": "Número"
         }
        },
        "yaxis4": {
         "anchor": "x4",
         "domain": [
          0,
          0.375
         ],
         "title": {
          "text": "Euros (€)"
         }
        }
       }
      }
     },
     "metadata": {},
     "output_type": "display_data"
    },
    {
     "name": "stdout",
     "output_type": "stream",
     "text": [
      "\n",
      "Resumen del Impacto de Bonificaciones en Ventas 2024:\n",
      "--------------------------------------------------\n",
      "Ventas Totales: 2,504,894.68€\n",
      "Total Bonificaciones: 153,008.00€\n",
      "Multiplicador Medio: 16.32x\n",
      "\n",
      "Actividad Comercial:\n",
      "- Número total de ventas: 105,677\n",
      "- Promedio mensual de comercios activos: 96\n",
      "- Promedio mensual de compradores únicos: 868\n",
      "\n",
      "Promedios:\n",
      "- Ticket medio: 23.67€\n",
      "- Venta media mensual por comercio: 2,165.30€\n",
      "\n",
      "Meses Destacados:\n",
      "- Mayor multiplicador: Mayo (17.72x)\n",
      "- Mayor volumen de ventas: Diciembre (281,357.17€)\n"
     ]
    }
   ],
   "source": [
    "# Consulta SQL para analizar la relación entre bonificaciones y ventas\n",
    "query_impacto_ventas = \"\"\"\n",
    "WITH ventas_comercios AS (\n",
    "    SELECT \n",
    "        SUBSTRING(f.Id_fecha, 1, 6) as año_mes,\n",
    "        CASE SUBSTRING(f.Id_fecha, 5, 2)\n",
    "            WHEN '01' THEN 'Enero'\n",
    "            WHEN '02' THEN 'Febrero'\n",
    "            WHEN '03' THEN 'Marzo'\n",
    "            WHEN '04' THEN 'Abril'\n",
    "            WHEN '05' THEN 'Mayo'\n",
    "            WHEN '06' THEN 'Junio'\n",
    "            WHEN '07' THEN 'Julio'\n",
    "            WHEN '08' THEN 'Agosto'\n",
    "            WHEN '09' THEN 'Septiembre'\n",
    "            WHEN '10' THEN 'Octubre'\n",
    "            WHEN '11' THEN 'Noviembre'\n",
    "            WHEN '12' THEN 'Diciembre'\n",
    "        END as nombre_mes,\n",
    "        -- Ventas totales (solo compras normales)\n",
    "        SUM(CASE \n",
    "            WHEN o.Operacion IN ('Pago a usuario', 'Cobro desde QR') \n",
    "            AND (\n",
    "                ue.Tipo_usuario IN ('usuario', 'autonomo', 'Empresa')\n",
    "                AND ur.Tipo_usuario IN ('autonomo', 'Empresa')\n",
    "            )\n",
    "            THEN f.Cantidad \n",
    "            ELSE 0 \n",
    "        END) as ventas_totales,\n",
    "        -- Bonificaciones\n",
    "        SUM(CASE \n",
    "            WHEN o.Operacion = 'Bonificación por compra' \n",
    "            THEN f.Cantidad \n",
    "            ELSE 0 \n",
    "        END) as bonificaciones,\n",
    "        -- Número de transacciones\n",
    "        COUNT(DISTINCT CASE \n",
    "            WHEN o.Operacion IN ('Pago a usuario', 'Cobro desde QR')\n",
    "            AND (\n",
    "                ue.Tipo_usuario IN ('usuario', 'autonomo', 'Empresa')\n",
    "                AND ur.Tipo_usuario IN ('autonomo', 'Empresa')\n",
    "            )\n",
    "            THEN f.Id_transaccion \n",
    "        END) as num_ventas,\n",
    "        -- Número de comercios con ventas\n",
    "        COUNT(DISTINCT CASE \n",
    "            WHEN o.Operacion IN ('Pago a usuario', 'Cobro desde QR')\n",
    "            AND ur.Tipo_usuario IN ('autonomo', 'Empresa')\n",
    "            THEN f.Usuario_receptor \n",
    "        END) as comercios_activos,\n",
    "        -- Número de compradores únicos (al menos una compra en el mes)\n",
    "        COUNT(DISTINCT CASE \n",
    "            WHEN o.Operacion IN ('Pago a usuario', 'Cobro desde QR')\n",
    "            AND (\n",
    "                ue.Tipo_usuario IN ('usuario', 'autonomo', 'Empresa')\n",
    "                AND ur.Tipo_usuario IN ('autonomo', 'Empresa')\n",
    "            )\n",
    "            THEN f.Usuario_emisor \n",
    "        END) as compradores_unicos\n",
    "    FROM fact_table f\n",
    "    JOIN dim_operaciones o ON f.Id_tipo_operacion = o.Id_tipo_operacion\n",
    "    JOIN dim_usuarios ur ON f.Usuario_receptor = ur.Id_usuario\n",
    "    JOIN dim_usuarios ue ON f.Usuario_emisor = ue.Id_usuario\n",
    "    WHERE SUBSTRING(f.Id_fecha, 1, 4) = '2024'\n",
    "    GROUP BY SUBSTRING(f.Id_fecha, 1, 6),\n",
    "             CASE SUBSTRING(f.Id_fecha, 5, 2)\n",
    "                WHEN '01' THEN 'Enero'\n",
    "                WHEN '02' THEN 'Febrero'\n",
    "                WHEN '03' THEN 'Marzo'\n",
    "                WHEN '04' THEN 'Abril'\n",
    "                WHEN '05' THEN 'Mayo'\n",
    "                WHEN '06' THEN 'Junio'\n",
    "                WHEN '07' THEN 'Julio'\n",
    "                WHEN '08' THEN 'Agosto'\n",
    "                WHEN '09' THEN 'Septiembre'\n",
    "                WHEN '10' THEN 'Octubre'\n",
    "                WHEN '11' THEN 'Noviembre'\n",
    "                WHEN '12' THEN 'Diciembre'\n",
    "             END\n",
    ")\n",
    "SELECT \n",
    "    nombre_mes,\n",
    "    ROUND(ventas_totales, 2) as ventas_totales,\n",
    "    ROUND(bonificaciones, 2) as bonificaciones,\n",
    "    num_ventas,\n",
    "    comercios_activos,\n",
    "    compradores_unicos,\n",
    "    ROUND(ventas_totales / NULLIF(bonificaciones, 0), 2) as multiplicador_bonificacion,\n",
    "    ROUND(ventas_totales / comercios_activos, 2) as venta_media_por_comercio,\n",
    "    ROUND(ventas_totales / num_ventas, 2) as ticket_medio\n",
    "FROM ventas_comercios\n",
    "ORDER BY año_mes;\n",
    "\"\"\"\n",
    "\n",
    "# Ejecutar la consulta\n",
    "df_impacto = ejecutar_query(query_impacto_ventas)\n",
    "\n",
    "# Crear visualizaciones\n",
    "fig = make_subplots(\n",
    "    rows=2, cols=2,\n",
    "    subplot_titles=(\n",
    "        'Ventas vs Bonificaciones por Mes',\n",
    "        'Efecto Multiplicador de Bonificaciones',\n",
    "        'Actividad Comercial',\n",
    "        'Ticket Medio y Venta por Comercio'\n",
    "    ),\n",
    "    specs=[[{\"type\": \"bar\"}, {\"type\": \"scatter\"}],\n",
    "           [{\"type\": \"scatter\"}, {\"type\": \"bar\"}]]\n",
    ")\n",
    "\n",
    "# 1. Gráfico de barras: Ventas vs Bonificaciones\n",
    "fig.add_trace(\n",
    "    go.Bar(\n",
    "        name='Ventas Totales',\n",
    "        x=df_impacto['nombre_mes'],\n",
    "        y=df_impacto['ventas_totales'],\n",
    "        marker_color='blue'\n",
    "    ),\n",
    "    row=1, col=1\n",
    ")\n",
    "fig.add_trace(\n",
    "    go.Bar(\n",
    "        name='Bonificaciones',\n",
    "        x=df_impacto['nombre_mes'],\n",
    "        y=df_impacto['bonificaciones'],\n",
    "        marker_color='green'\n",
    "    ),\n",
    "    row=1, col=1\n",
    ")\n",
    "\n",
    "# 2. Gráfico de líneas: Multiplicador de bonificaciones\n",
    "fig.add_trace(\n",
    "    go.Scatter(\n",
    "        name='Multiplicador',\n",
    "        x=df_impacto['nombre_mes'],\n",
    "        y=df_impacto['multiplicador_bonificacion'],\n",
    "        mode='lines+markers',\n",
    "        line=dict(color='red')\n",
    "    ),\n",
    "    row=1, col=2\n",
    ")\n",
    "\n",
    "# 3. Gráfico de líneas: Actividad comercial\n",
    "fig.add_trace(\n",
    "    go.Scatter(\n",
    "        name='Comercios Activos',\n",
    "        x=df_impacto['nombre_mes'],\n",
    "        y=df_impacto['comercios_activos'],\n",
    "        mode='lines+markers',\n",
    "        line=dict(color='purple')\n",
    "    ),\n",
    "    row=2, col=1\n",
    ")\n",
    "fig.add_trace(\n",
    "    go.Scatter(\n",
    "        name='Compradores Únicos',\n",
    "        x=df_impacto['nombre_mes'],\n",
    "        y=df_impacto['compradores_unicos'],\n",
    "        mode='lines+markers',\n",
    "        line=dict(color='orange')\n",
    "    ),\n",
    "    row=2, col=1\n",
    ")\n",
    "\n",
    "# 4. Gráfico de barras: Ticket medio y venta por comercio\n",
    "fig.add_trace(\n",
    "    go.Bar(\n",
    "        name='Ticket Medio',\n",
    "        x=df_impacto['nombre_mes'],\n",
    "        y=df_impacto['ticket_medio'],\n",
    "        marker_color='lightblue'\n",
    "    ),\n",
    "    row=2, col=2\n",
    ")\n",
    "fig.add_trace(\n",
    "    go.Bar(\n",
    "        name='Venta Media por Comercio',\n",
    "        x=df_impacto['nombre_mes'],\n",
    "        y=df_impacto['venta_media_por_comercio'],\n",
    "        marker_color='darkblue'\n",
    "    ),\n",
    "    row=2, col=2\n",
    ")\n",
    "\n",
    "# Actualizar diseño\n",
    "fig.update_layout(\n",
    "    height=800,\n",
    "    showlegend=True,\n",
    "    title_text=\"Impacto de las Bonificaciones en las Ventas 2024\",\n",
    "    barmode='group'\n",
    ")\n",
    "\n",
    "# Actualizar etiquetas de los ejes\n",
    "fig.update_yaxes(title_text=\"Euros (€)\", row=1, col=1)\n",
    "fig.update_yaxes(title_text=\"Ratio Venta/Bonificación\", row=1, col=2)\n",
    "fig.update_yaxes(title_text=\"Número\", row=2, col=1)\n",
    "fig.update_yaxes(title_text=\"Euros (€)\", row=2, col=2)\n",
    "\n",
    "# Mostrar la gráfica\n",
    "fig.show()\n",
    "\n",
    "# Mostrar resumen estadístico\n",
    "print(\"\\nResumen del Impacto de Bonificaciones en Ventas 2024:\")\n",
    "print(\"-\" * 50)\n",
    "print(f\"Ventas Totales: {df_impacto['ventas_totales'].sum():,.2f}€\")\n",
    "print(f\"Total Bonificaciones: {df_impacto['bonificaciones'].sum():,.2f}€\")\n",
    "print(f\"Multiplicador Medio: {df_impacto['multiplicador_bonificacion'].mean():,.2f}x\")\n",
    "print(f\"\\nActividad Comercial:\")\n",
    "print(f\"- Número total de ventas: {df_impacto['num_ventas'].sum():,}\")\n",
    "print(f\"- Promedio mensual de comercios activos: {df_impacto['comercios_activos'].mean():,.0f}\")\n",
    "print(f\"- Promedio mensual de compradores únicos: {df_impacto['compradores_unicos'].mean():,.0f}\")\n",
    "print(f\"\\nPromedios:\")\n",
    "print(f\"- Ticket medio: {df_impacto['ticket_medio'].mean():,.2f}€\")\n",
    "print(f\"- Venta media mensual por comercio: {df_impacto['venta_media_por_comercio'].mean():,.2f}€\")\n",
    "print(f\"\\nMeses Destacados:\")\n",
    "print(f\"- Mayor multiplicador: {df_impacto.loc[df_impacto['multiplicador_bonificacion'].idxmax(), 'nombre_mes']} ({df_impacto['multiplicador_bonificacion'].max():,.2f}x)\")\n",
    "print(f\"- Mayor volumen de ventas: {df_impacto.loc[df_impacto['ventas_totales'].idxmax(), 'nombre_mes']} ({df_impacto['ventas_totales'].max():,.2f}€)\")"
   ]
  },
  {
   "cell_type": "markdown",
   "metadata": {},
   "source": [
    "### 4.7 Análisis de Efectividad de Descuentos Automáticos\n",
    "\n",
    "Analizaremos el impacto real de los descuentos en el comportamiento de compra, comparando los patrones de los usuarios 3 meses antes y después de empezar a usar descuentos. El análisis se estructura en tres áreas clave:\n",
    "\n",
    "1. **Patrones de Compra**\n",
    "   \n",
    "   Examinaremos:\n",
    "   - Distribución de usuarios por frecuencia de compra (≤1, 1-5, 5-15, 15-30, >30 compras/mes)\n",
    "   - Evolución del número de días de compra mensual\n",
    "   - Cambios en el ticket medio por compra\n",
    "   - Transformación de usuarios ocasionales a regulares\n",
    "\n",
    "2. **Impacto en Ventas**\n",
    "\n",
    "   Analizaremos:\n",
    "   - Segmentación de usuarios por nivel de gasto mensual (≤50€, 50-150€, 150-500€, 500-1000€, >1000€)\n",
    "   - Cambios en el gasto mensual promedio\n",
    "   - Evolución de la distribución del gasto\n",
    "   - Identificación de segmentos de mayor crecimiento\n",
    "\n",
    "3. **Visualización de Resultados**\n",
    "\n",
    "   Presentaremos:\n",
    "   - Gráficos de barras comparativos antes/después para frecuencia y gasto\n",
    "   - Gráficos circulares mostrando la distribución actual\n",
    "   - Estadísticas detalladas de cada segmento\n",
    "   - Porcentajes de cambio en cada categoría\n",
    "\n",
    "Este análisis nos permitirá evaluar la efectividad del programa de descuentos y entender cómo ha influido en los hábitos de compra de los usuarios."
   ]
  },
  {
   "cell_type": "code",
   "execution_count": 9,
   "metadata": {},
   "outputs": [
    {
     "name": "stderr",
     "output_type": "stream",
     "text": [
      "C:\\Users\\mikel\\AppData\\Local\\Temp\\ipykernel_12748\\1450764005.py:22: UserWarning:\n",
      "\n",
      "pandas only supports SQLAlchemy connectable (engine/connection) or database string URI or sqlite3 DBAPI2 connection. Other DBAPI2 objects are not tested. Please consider using SQLAlchemy.\n",
      "\n"
     ]
    },
    {
     "data": {
      "application/vnd.plotly.v1+json": {
       "config": {
        "plotlyServerURL": "https://plot.ly"
       },
       "data": [
        {
         "marker": {
          "color": "lightcoral"
         },
         "name": "Antes",
         "type": "bar",
         "x": [
          "≤1 compra/mes",
          "1-5 compras/mes",
          "5-15 compras/mes",
          "15-30 compras/mes",
          ">30 compras/mes"
         ],
         "xaxis": "x",
         "y": [
          156,
          159,
          81,
          13,
          9
         ],
         "yaxis": "y"
        },
        {
         "marker": {
          "color": "lightgreen"
         },
         "name": "Después",
         "type": "bar",
         "x": [
          "≤1 compra/mes",
          "1-5 compras/mes",
          "5-15 compras/mes",
          "15-30 compras/mes",
          ">30 compras/mes"
         ],
         "xaxis": "x",
         "y": [
          31,
          166,
          285,
          143,
          71
         ],
         "yaxis": "y"
        },
        {
         "domain": {
          "x": [
           0.55,
           1
          ],
          "y": [
           0.625,
           1
          ]
         },
         "hole": 0.3,
         "labels": [
          "≤1 compra/mes",
          "1-5 compras/mes",
          "5-15 compras/mes",
          "15-30 compras/mes",
          ">30 compras/mes"
         ],
         "marker": {
          "colors": [
           "lightcoral",
           "lightsalmon",
           "lightgreen",
           "mediumseagreen",
           "darkgreen"
          ]
         },
         "type": "pie",
         "values": [
          31,
          166,
          285,
          143,
          71
         ]
        },
        {
         "marker": {
          "color": "lightcoral"
         },
         "name": "Antes",
         "type": "bar",
         "x": [
          "≤50€/mes",
          "50-150€/mes",
          "150-500€/mes",
          "500-1000€/mes",
          ">1000€/mes"
         ],
         "xaxis": "x2",
         "y": [
          215,
          120,
          69,
          10,
          4
         ],
         "yaxis": "y2"
        },
        {
         "marker": {
          "color": "lightgreen"
         },
         "name": "Después",
         "type": "bar",
         "x": [
          "≤50€/mes",
          "50-150€/mes",
          "150-500€/mes",
          "500-1000€/mes",
          ">1000€/mes"
         ],
         "xaxis": "x2",
         "y": [
          50,
          163,
          349,
          104,
          30
         ],
         "yaxis": "y2"
        },
        {
         "domain": {
          "x": [
           0.55,
           1
          ],
          "y": [
           0,
           0.375
          ]
         },
         "hole": 0.3,
         "labels": [
          "≤50€/mes",
          "50-150€/mes",
          "150-500€/mes",
          "500-1000€/mes",
          ">1000€/mes"
         ],
         "marker": {
          "colors": [
           "lightcoral",
           "lightsalmon",
           "lightgreen",
           "mediumseagreen",
           "darkgreen"
          ]
         },
         "type": "pie",
         "values": [
          50,
          163,
          349,
          104,
          30
         ]
        }
       ],
       "layout": {
        "annotations": [
         {
          "font": {
           "size": 16
          },
          "showarrow": false,
          "text": "Distribución de Frecuencia de Compras",
          "x": 0.225,
          "xanchor": "center",
          "xref": "paper",
          "y": 1,
          "yanchor": "bottom",
          "yref": "paper"
         },
         {
          "font": {
           "size": 16
          },
          "showarrow": false,
          "text": "Cambio en Patrones de Compra",
          "x": 0.775,
          "xanchor": "center",
          "xref": "paper",
          "y": 1,
          "yanchor": "bottom",
          "yref": "paper"
         },
         {
          "font": {
           "size": 16
          },
          "showarrow": false,
          "text": "Distribución de Gasto Mensual",
          "x": 0.225,
          "xanchor": "center",
          "xref": "paper",
          "y": 0.375,
          "yanchor": "bottom",
          "yref": "paper"
         },
         {
          "font": {
           "size": 16
          },
          "showarrow": false,
          "text": "Cambio en Patrones de Gasto",
          "x": 0.775,
          "xanchor": "center",
          "xref": "paper",
          "y": 0.375,
          "yanchor": "bottom",
          "yref": "paper"
         }
        ],
        "height": 1000,
        "showlegend": true,
        "template": {
         "data": {
          "bar": [
           {
            "error_x": {
             "color": "#2a3f5f"
            },
            "error_y": {
             "color": "#2a3f5f"
            },
            "marker": {
             "line": {
              "color": "#E5ECF6",
              "width": 0.5
             },
             "pattern": {
              "fillmode": "overlay",
              "size": 10,
              "solidity": 0.2
             }
            },
            "type": "bar"
           }
          ],
          "barpolar": [
           {
            "marker": {
             "line": {
              "color": "#E5ECF6",
              "width": 0.5
             },
             "pattern": {
              "fillmode": "overlay",
              "size": 10,
              "solidity": 0.2
             }
            },
            "type": "barpolar"
           }
          ],
          "carpet": [
           {
            "aaxis": {
             "endlinecolor": "#2a3f5f",
             "gridcolor": "white",
             "linecolor": "white",
             "minorgridcolor": "white",
             "startlinecolor": "#2a3f5f"
            },
            "baxis": {
             "endlinecolor": "#2a3f5f",
             "gridcolor": "white",
             "linecolor": "white",
             "minorgridcolor": "white",
             "startlinecolor": "#2a3f5f"
            },
            "type": "carpet"
           }
          ],
          "choropleth": [
           {
            "colorbar": {
             "outlinewidth": 0,
             "ticks": ""
            },
            "type": "choropleth"
           }
          ],
          "contour": [
           {
            "colorbar": {
             "outlinewidth": 0,
             "ticks": ""
            },
            "colorscale": [
             [
              0,
              "#0d0887"
             ],
             [
              0.1111111111111111,
              "#46039f"
             ],
             [
              0.2222222222222222,
              "#7201a8"
             ],
             [
              0.3333333333333333,
              "#9c179e"
             ],
             [
              0.4444444444444444,
              "#bd3786"
             ],
             [
              0.5555555555555556,
              "#d8576b"
             ],
             [
              0.6666666666666666,
              "#ed7953"
             ],
             [
              0.7777777777777778,
              "#fb9f3a"
             ],
             [
              0.8888888888888888,
              "#fdca26"
             ],
             [
              1,
              "#f0f921"
             ]
            ],
            "type": "contour"
           }
          ],
          "contourcarpet": [
           {
            "colorbar": {
             "outlinewidth": 0,
             "ticks": ""
            },
            "type": "contourcarpet"
           }
          ],
          "heatmap": [
           {
            "colorbar": {
             "outlinewidth": 0,
             "ticks": ""
            },
            "colorscale": [
             [
              0,
              "#0d0887"
             ],
             [
              0.1111111111111111,
              "#46039f"
             ],
             [
              0.2222222222222222,
              "#7201a8"
             ],
             [
              0.3333333333333333,
              "#9c179e"
             ],
             [
              0.4444444444444444,
              "#bd3786"
             ],
             [
              0.5555555555555556,
              "#d8576b"
             ],
             [
              0.6666666666666666,
              "#ed7953"
             ],
             [
              0.7777777777777778,
              "#fb9f3a"
             ],
             [
              0.8888888888888888,
              "#fdca26"
             ],
             [
              1,
              "#f0f921"
             ]
            ],
            "type": "heatmap"
           }
          ],
          "heatmapgl": [
           {
            "colorbar": {
             "outlinewidth": 0,
             "ticks": ""
            },
            "colorscale": [
             [
              0,
              "#0d0887"
             ],
             [
              0.1111111111111111,
              "#46039f"
             ],
             [
              0.2222222222222222,
              "#7201a8"
             ],
             [
              0.3333333333333333,
              "#9c179e"
             ],
             [
              0.4444444444444444,
              "#bd3786"
             ],
             [
              0.5555555555555556,
              "#d8576b"
             ],
             [
              0.6666666666666666,
              "#ed7953"
             ],
             [
              0.7777777777777778,
              "#fb9f3a"
             ],
             [
              0.8888888888888888,
              "#fdca26"
             ],
             [
              1,
              "#f0f921"
             ]
            ],
            "type": "heatmapgl"
           }
          ],
          "histogram": [
           {
            "marker": {
             "pattern": {
              "fillmode": "overlay",
              "size": 10,
              "solidity": 0.2
             }
            },
            "type": "histogram"
           }
          ],
          "histogram2d": [
           {
            "colorbar": {
             "outlinewidth": 0,
             "ticks": ""
            },
            "colorscale": [
             [
              0,
              "#0d0887"
             ],
             [
              0.1111111111111111,
              "#46039f"
             ],
             [
              0.2222222222222222,
              "#7201a8"
             ],
             [
              0.3333333333333333,
              "#9c179e"
             ],
             [
              0.4444444444444444,
              "#bd3786"
             ],
             [
              0.5555555555555556,
              "#d8576b"
             ],
             [
              0.6666666666666666,
              "#ed7953"
             ],
             [
              0.7777777777777778,
              "#fb9f3a"
             ],
             [
              0.8888888888888888,
              "#fdca26"
             ],
             [
              1,
              "#f0f921"
             ]
            ],
            "type": "histogram2d"
           }
          ],
          "histogram2dcontour": [
           {
            "colorbar": {
             "outlinewidth": 0,
             "ticks": ""
            },
            "colorscale": [
             [
              0,
              "#0d0887"
             ],
             [
              0.1111111111111111,
              "#46039f"
             ],
             [
              0.2222222222222222,
              "#7201a8"
             ],
             [
              0.3333333333333333,
              "#9c179e"
             ],
             [
              0.4444444444444444,
              "#bd3786"
             ],
             [
              0.5555555555555556,
              "#d8576b"
             ],
             [
              0.6666666666666666,
              "#ed7953"
             ],
             [
              0.7777777777777778,
              "#fb9f3a"
             ],
             [
              0.8888888888888888,
              "#fdca26"
             ],
             [
              1,
              "#f0f921"
             ]
            ],
            "type": "histogram2dcontour"
           }
          ],
          "mesh3d": [
           {
            "colorbar": {
             "outlinewidth": 0,
             "ticks": ""
            },
            "type": "mesh3d"
           }
          ],
          "parcoords": [
           {
            "line": {
             "colorbar": {
              "outlinewidth": 0,
              "ticks": ""
             }
            },
            "type": "parcoords"
           }
          ],
          "pie": [
           {
            "automargin": true,
            "type": "pie"
           }
          ],
          "scatter": [
           {
            "fillpattern": {
             "fillmode": "overlay",
             "size": 10,
             "solidity": 0.2
            },
            "type": "scatter"
           }
          ],
          "scatter3d": [
           {
            "line": {
             "colorbar": {
              "outlinewidth": 0,
              "ticks": ""
             }
            },
            "marker": {
             "colorbar": {
              "outlinewidth": 0,
              "ticks": ""
             }
            },
            "type": "scatter3d"
           }
          ],
          "scattercarpet": [
           {
            "marker": {
             "colorbar": {
              "outlinewidth": 0,
              "ticks": ""
             }
            },
            "type": "scattercarpet"
           }
          ],
          "scattergeo": [
           {
            "marker": {
             "colorbar": {
              "outlinewidth": 0,
              "ticks": ""
             }
            },
            "type": "scattergeo"
           }
          ],
          "scattergl": [
           {
            "marker": {
             "colorbar": {
              "outlinewidth": 0,
              "ticks": ""
             }
            },
            "type": "scattergl"
           }
          ],
          "scattermapbox": [
           {
            "marker": {
             "colorbar": {
              "outlinewidth": 0,
              "ticks": ""
             }
            },
            "type": "scattermapbox"
           }
          ],
          "scatterpolar": [
           {
            "marker": {
             "colorbar": {
              "outlinewidth": 0,
              "ticks": ""
             }
            },
            "type": "scatterpolar"
           }
          ],
          "scatterpolargl": [
           {
            "marker": {
             "colorbar": {
              "outlinewidth": 0,
              "ticks": ""
             }
            },
            "type": "scatterpolargl"
           }
          ],
          "scatterternary": [
           {
            "marker": {
             "colorbar": {
              "outlinewidth": 0,
              "ticks": ""
             }
            },
            "type": "scatterternary"
           }
          ],
          "surface": [
           {
            "colorbar": {
             "outlinewidth": 0,
             "ticks": ""
            },
            "colorscale": [
             [
              0,
              "#0d0887"
             ],
             [
              0.1111111111111111,
              "#46039f"
             ],
             [
              0.2222222222222222,
              "#7201a8"
             ],
             [
              0.3333333333333333,
              "#9c179e"
             ],
             [
              0.4444444444444444,
              "#bd3786"
             ],
             [
              0.5555555555555556,
              "#d8576b"
             ],
             [
              0.6666666666666666,
              "#ed7953"
             ],
             [
              0.7777777777777778,
              "#fb9f3a"
             ],
             [
              0.8888888888888888,
              "#fdca26"
             ],
             [
              1,
              "#f0f921"
             ]
            ],
            "type": "surface"
           }
          ],
          "table": [
           {
            "cells": {
             "fill": {
              "color": "#EBF0F8"
             },
             "line": {
              "color": "white"
             }
            },
            "header": {
             "fill": {
              "color": "#C8D4E3"
             },
             "line": {
              "color": "white"
             }
            },
            "type": "table"
           }
          ]
         },
         "layout": {
          "annotationdefaults": {
           "arrowcolor": "#2a3f5f",
           "arrowhead": 0,
           "arrowwidth": 1
          },
          "autotypenumbers": "strict",
          "coloraxis": {
           "colorbar": {
            "outlinewidth": 0,
            "ticks": ""
           }
          },
          "colorscale": {
           "diverging": [
            [
             0,
             "#8e0152"
            ],
            [
             0.1,
             "#c51b7d"
            ],
            [
             0.2,
             "#de77ae"
            ],
            [
             0.3,
             "#f1b6da"
            ],
            [
             0.4,
             "#fde0ef"
            ],
            [
             0.5,
             "#f7f7f7"
            ],
            [
             0.6,
             "#e6f5d0"
            ],
            [
             0.7,
             "#b8e186"
            ],
            [
             0.8,
             "#7fbc41"
            ],
            [
             0.9,
             "#4d9221"
            ],
            [
             1,
             "#276419"
            ]
           ],
           "sequential": [
            [
             0,
             "#0d0887"
            ],
            [
             0.1111111111111111,
             "#46039f"
            ],
            [
             0.2222222222222222,
             "#7201a8"
            ],
            [
             0.3333333333333333,
             "#9c179e"
            ],
            [
             0.4444444444444444,
             "#bd3786"
            ],
            [
             0.5555555555555556,
             "#d8576b"
            ],
            [
             0.6666666666666666,
             "#ed7953"
            ],
            [
             0.7777777777777778,
             "#fb9f3a"
            ],
            [
             0.8888888888888888,
             "#fdca26"
            ],
            [
             1,
             "#f0f921"
            ]
           ],
           "sequentialminus": [
            [
             0,
             "#0d0887"
            ],
            [
             0.1111111111111111,
             "#46039f"
            ],
            [
             0.2222222222222222,
             "#7201a8"
            ],
            [
             0.3333333333333333,
             "#9c179e"
            ],
            [
             0.4444444444444444,
             "#bd3786"
            ],
            [
             0.5555555555555556,
             "#d8576b"
            ],
            [
             0.6666666666666666,
             "#ed7953"
            ],
            [
             0.7777777777777778,
             "#fb9f3a"
            ],
            [
             0.8888888888888888,
             "#fdca26"
            ],
            [
             1,
             "#f0f921"
            ]
           ]
          },
          "colorway": [
           "#636efa",
           "#EF553B",
           "#00cc96",
           "#ab63fa",
           "#FFA15A",
           "#19d3f3",
           "#FF6692",
           "#B6E880",
           "#FF97FF",
           "#FECB52"
          ],
          "font": {
           "color": "#2a3f5f"
          },
          "geo": {
           "bgcolor": "white",
           "lakecolor": "white",
           "landcolor": "#E5ECF6",
           "showlakes": true,
           "showland": true,
           "subunitcolor": "white"
          },
          "hoverlabel": {
           "align": "left"
          },
          "hovermode": "closest",
          "mapbox": {
           "style": "light"
          },
          "paper_bgcolor": "white",
          "plot_bgcolor": "#E5ECF6",
          "polar": {
           "angularaxis": {
            "gridcolor": "white",
            "linecolor": "white",
            "ticks": ""
           },
           "bgcolor": "#E5ECF6",
           "radialaxis": {
            "gridcolor": "white",
            "linecolor": "white",
            "ticks": ""
           }
          },
          "scene": {
           "xaxis": {
            "backgroundcolor": "#E5ECF6",
            "gridcolor": "white",
            "gridwidth": 2,
            "linecolor": "white",
            "showbackground": true,
            "ticks": "",
            "zerolinecolor": "white"
           },
           "yaxis": {
            "backgroundcolor": "#E5ECF6",
            "gridcolor": "white",
            "gridwidth": 2,
            "linecolor": "white",
            "showbackground": true,
            "ticks": "",
            "zerolinecolor": "white"
           },
           "zaxis": {
            "backgroundcolor": "#E5ECF6",
            "gridcolor": "white",
            "gridwidth": 2,
            "linecolor": "white",
            "showbackground": true,
            "ticks": "",
            "zerolinecolor": "white"
           }
          },
          "shapedefaults": {
           "line": {
            "color": "#2a3f5f"
           }
          },
          "ternary": {
           "aaxis": {
            "gridcolor": "white",
            "linecolor": "white",
            "ticks": ""
           },
           "baxis": {
            "gridcolor": "white",
            "linecolor": "white",
            "ticks": ""
           },
           "bgcolor": "#E5ECF6",
           "caxis": {
            "gridcolor": "white",
            "linecolor": "white",
            "ticks": ""
           }
          },
          "title": {
           "x": 0.05
          },
          "xaxis": {
           "automargin": true,
           "gridcolor": "white",
           "linecolor": "white",
           "ticks": "",
           "title": {
            "standoff": 15
           },
           "zerolinecolor": "white",
           "zerolinewidth": 2
          },
          "yaxis": {
           "automargin": true,
           "gridcolor": "white",
           "linecolor": "white",
           "ticks": "",
           "title": {
            "standoff": 15
           },
           "zerolinecolor": "white",
           "zerolinewidth": 2
          }
         }
        },
        "title": {
         "text": "Impacto de los Descuentos en Patrones de Uso"
        },
        "xaxis": {
         "anchor": "y",
         "domain": [
          0,
          0.45
         ],
         "title": {
          "text": "Categoría de Compras"
         }
        },
        "xaxis2": {
         "anchor": "y2",
         "domain": [
          0,
          0.45
         ],
         "title": {
          "text": "Categoría de Gasto"
         }
        },
        "yaxis": {
         "anchor": "x",
         "domain": [
          0.625,
          1
         ],
         "title": {
          "text": "Número de Usuarios"
         }
        },
        "yaxis2": {
         "anchor": "x2",
         "domain": [
          0,
          0.375
         ],
         "title": {
          "text": "Número de Usuarios"
         }
        }
       }
      }
     },
     "metadata": {},
     "output_type": "display_data"
    },
    {
     "name": "stdout",
     "output_type": "stream",
     "text": [
      "\n",
      "Estadísticas Detalladas del Impacto de Descuentos\n",
      "----------------------------------------------------------------------\n",
      "\n",
      "ANTES DE DESCUENTOS:\n",
      "\n",
      "Frecuencia de Compras:\n",
      "- ≤1 compra/mes: 156 usuarios (37.3%)\n",
      "- 1-5 compras/mes: 159 usuarios (38.0%)\n",
      "- 5-15 compras/mes: 81 usuarios (19.4%)\n",
      "- 15-30 compras/mes: 13 usuarios (3.1%)\n",
      "- >30 compras/mes: 9 usuarios (2.2%)\n",
      "\n",
      "Gasto Mensual:\n",
      "- ≤50€/mes: 215 usuarios (51.4%)\n",
      "- 50-150€/mes: 120 usuarios (28.7%)\n",
      "- 150-500€/mes: 69 usuarios (16.5%)\n",
      "- 500-1000€/mes: 10 usuarios (2.4%)\n",
      "- >1000€/mes: 4 usuarios (1.0%)\n",
      "\n",
      "Total usuarios: 418\n",
      "\n",
      "DESPUÉS DE DESCUENTOS:\n",
      "\n",
      "Frecuencia de Compras:\n",
      "- ≤1 compra/mes: 31 usuarios (4.5%)\n",
      "- 1-5 compras/mes: 166 usuarios (23.9%)\n",
      "- 5-15 compras/mes: 285 usuarios (40.9%)\n",
      "- 15-30 compras/mes: 143 usuarios (20.5%)\n",
      "- >30 compras/mes: 71 usuarios (10.2%)\n",
      "\n",
      "Gasto Mensual:\n",
      "- ≤50€/mes: 50 usuarios (7.2%)\n",
      "- 50-150€/mes: 163 usuarios (23.4%)\n",
      "- 150-500€/mes: 349 usuarios (50.1%)\n",
      "- 500-1000€/mes: 104 usuarios (14.9%)\n",
      "- >1000€/mes: 30 usuarios (4.3%)\n",
      "\n",
      "Total usuarios: 696\n"
     ]
    }
   ],
   "source": [
    "query_distribucion = \"\"\"\n",
    "WITH primera_fecha_descuento AS (\n",
    "    SELECT \n",
    "        f.Usuario_receptor,\n",
    "        MIN(f.Id_fecha) as primera_fecha_descuento\n",
    "    FROM fact_table f\n",
    "    JOIN dim_operaciones o ON f.Id_tipo_operacion = o.Id_tipo_operacion\n",
    "    WHERE o.Operacion = 'Descuento automático'\n",
    "    GROUP BY f.Usuario_receptor\n",
    "),\n",
    "metricas_usuario_periodo AS (\n",
    "    SELECT \n",
    "        f.Usuario_emisor,\n",
    "        CASE \n",
    "            WHEN f.Id_fecha < fd.primera_fecha_descuento THEN 'Antes'\n",
    "            ELSE 'Después'\n",
    "        END as periodo,\n",
    "        COUNT(*) / 3.0 as compras_mensuales,\n",
    "        SUM(f.Cantidad) / 3.0 as gasto_mensual\n",
    "    FROM fact_table f\n",
    "    JOIN dim_operaciones o ON f.Id_tipo_operacion = o.Id_tipo_operacion\n",
    "    JOIN primera_fecha_descuento fd ON f.Usuario_emisor = fd.Usuario_receptor\n",
    "    WHERE o.Operacion IN ('Pago a usuario', 'Cobro desde QR')\n",
    "    AND (\n",
    "        f.Id_fecha BETWEEN \n",
    "            DATE_FORMAT(DATE_SUB(STR_TO_DATE(fd.primera_fecha_descuento, '%Y%m%d'), INTERVAL 90 DAY), '%Y%m%d')\n",
    "            AND fd.primera_fecha_descuento\n",
    "        OR \n",
    "        f.Id_fecha BETWEEN \n",
    "            fd.primera_fecha_descuento \n",
    "            AND DATE_FORMAT(DATE_ADD(STR_TO_DATE(fd.primera_fecha_descuento, '%Y%m%d'), INTERVAL 90 DAY), '%Y%m%d')\n",
    "    )\n",
    "    GROUP BY \n",
    "        f.Usuario_emisor,\n",
    "        CASE \n",
    "            WHEN f.Id_fecha < fd.primera_fecha_descuento THEN 'Antes'\n",
    "            ELSE 'Después'\n",
    "        END\n",
    ")\n",
    "SELECT \n",
    "    periodo,\n",
    "    -- Distribución por frecuencia de compras\n",
    "    SUM(CASE WHEN compras_mensuales <= 1 THEN 1 ELSE 0 END) as compras_muy_bajo,\n",
    "    SUM(CASE WHEN compras_mensuales > 1 AND compras_mensuales <= 5 THEN 1 ELSE 0 END) as compras_bajo,\n",
    "    SUM(CASE WHEN compras_mensuales > 5 AND compras_mensuales <= 15 THEN 1 ELSE 0 END) as compras_medio,\n",
    "    SUM(CASE WHEN compras_mensuales > 15 AND compras_mensuales <= 30 THEN 1 ELSE 0 END) as compras_alto,\n",
    "    SUM(CASE WHEN compras_mensuales > 30 THEN 1 ELSE 0 END) as compras_muy_alto,\n",
    "    -- Distribución por gasto mensual\n",
    "    SUM(CASE WHEN gasto_mensual <= 50 THEN 1 ELSE 0 END) as gasto_muy_bajo,\n",
    "    SUM(CASE WHEN gasto_mensual > 50 AND gasto_mensual <= 150 THEN 1 ELSE 0 END) as gasto_bajo,\n",
    "    SUM(CASE WHEN gasto_mensual > 150 AND gasto_mensual <= 500 THEN 1 ELSE 0 END) as gasto_medio,\n",
    "    SUM(CASE WHEN gasto_mensual > 500 AND gasto_mensual <= 1000 THEN 1 ELSE 0 END) as gasto_alto,\n",
    "    SUM(CASE WHEN gasto_mensual > 1000 THEN 1 ELSE 0 END) as gasto_muy_alto,\n",
    "    COUNT(*) as total_usuarios\n",
    "FROM metricas_usuario_periodo\n",
    "GROUP BY periodo\n",
    "ORDER BY periodo;\n",
    "\"\"\"\n",
    "\n",
    "# Ejecutar la consulta\n",
    "df_distribucion = ejecutar_query(query_distribucion)\n",
    "\n",
    "# Crear figura con subplots\n",
    "fig = make_subplots(\n",
    "    rows=2, cols=2,\n",
    "    subplot_titles=(\n",
    "        'Distribución de Frecuencia de Compras',\n",
    "        'Cambio en Patrones de Compra',\n",
    "        'Distribución de Gasto Mensual',\n",
    "        'Cambio en Patrones de Gasto'\n",
    "    ),\n",
    "    specs=[[{\"type\": \"bar\"}, {\"type\": \"pie\"}],\n",
    "           [{\"type\": \"bar\"}, {\"type\": \"pie\"}]]\n",
    ")\n",
    "\n",
    "# 1. Gráfico de barras para frecuencia de compras\n",
    "categorias_compras = ['≤1 compra/mes', '1-5 compras/mes', '5-15 compras/mes', '15-30 compras/mes', '>30 compras/mes']\n",
    "valores_antes = [\n",
    "    df_distribucion.iloc[0]['compras_muy_bajo'],\n",
    "    df_distribucion.iloc[0]['compras_bajo'],\n",
    "    df_distribucion.iloc[0]['compras_medio'],\n",
    "    df_distribucion.iloc[0]['compras_alto'],\n",
    "    df_distribucion.iloc[0]['compras_muy_alto']\n",
    "]\n",
    "valores_despues = [\n",
    "    df_distribucion.iloc[1]['compras_muy_bajo'],\n",
    "    df_distribucion.iloc[1]['compras_bajo'],\n",
    "    df_distribucion.iloc[1]['compras_medio'],\n",
    "    df_distribucion.iloc[1]['compras_alto'],\n",
    "    df_distribucion.iloc[1]['compras_muy_alto']\n",
    "]\n",
    "\n",
    "fig.add_trace(\n",
    "    go.Bar(name='Antes', x=categorias_compras, y=valores_antes, marker_color='lightcoral'),\n",
    "    row=1, col=1\n",
    ")\n",
    "fig.add_trace(\n",
    "    go.Bar(name='Después', x=categorias_compras, y=valores_despues, marker_color='lightgreen'),\n",
    "    row=1, col=1\n",
    ")\n",
    "\n",
    "# 2. Gráfico circular para el cambio en compras\n",
    "fig.add_trace(\n",
    "    go.Pie(\n",
    "        labels=categorias_compras,\n",
    "        values=valores_despues,\n",
    "        hole=.3,\n",
    "        marker_colors=['lightcoral', 'lightsalmon', 'lightgreen', 'mediumseagreen', 'darkgreen']\n",
    "    ),\n",
    "    row=1, col=2\n",
    ")\n",
    "\n",
    "# 3. Gráfico de barras para gasto mensual\n",
    "categorias_gasto = ['≤50€/mes', '50-150€/mes', '150-500€/mes', '500-1000€/mes', '>1000€/mes']\n",
    "valores_gasto_antes = [\n",
    "    df_distribucion.iloc[0]['gasto_muy_bajo'],\n",
    "    df_distribucion.iloc[0]['gasto_bajo'],\n",
    "    df_distribucion.iloc[0]['gasto_medio'],\n",
    "    df_distribucion.iloc[0]['gasto_alto'],\n",
    "    df_distribucion.iloc[0]['gasto_muy_alto']\n",
    "]\n",
    "valores_gasto_despues = [\n",
    "    df_distribucion.iloc[1]['gasto_muy_bajo'],\n",
    "    df_distribucion.iloc[1]['gasto_bajo'],\n",
    "    df_distribucion.iloc[1]['gasto_medio'],\n",
    "    df_distribucion.iloc[1]['gasto_alto'],\n",
    "    df_distribucion.iloc[1]['gasto_muy_alto']\n",
    "]\n",
    "\n",
    "fig.add_trace(\n",
    "    go.Bar(name='Antes', x=categorias_gasto, y=valores_gasto_antes, marker_color='lightcoral'),\n",
    "    row=2, col=1\n",
    ")\n",
    "fig.add_trace(\n",
    "    go.Bar(name='Después', x=categorias_gasto, y=valores_gasto_despues, marker_color='lightgreen'),\n",
    "    row=2, col=1\n",
    ")\n",
    "\n",
    "# 4. Gráfico circular para el cambio en gasto\n",
    "fig.add_trace(\n",
    "    go.Pie(\n",
    "        labels=categorias_gasto,\n",
    "        values=valores_gasto_despues,\n",
    "        hole=.3,\n",
    "        marker_colors=['lightcoral', 'lightsalmon', 'lightgreen', 'mediumseagreen', 'darkgreen']\n",
    "    ),\n",
    "    row=2, col=2\n",
    ")\n",
    "\n",
    "# Actualizar diseño\n",
    "fig.update_layout(\n",
    "    height=1000,\n",
    "    showlegend=True,\n",
    "    title_text=\"Impacto de los Descuentos en Patrones de Uso\",\n",
    ")\n",
    "\n",
    "# Actualizar ejes\n",
    "fig.update_xaxes(title_text=\"Categoría de Compras\", row=1, col=1)\n",
    "fig.update_xaxes(title_text=\"Categoría de Gasto\", row=2, col=1)\n",
    "fig.update_yaxes(title_text=\"Número de Usuarios\", row=1, col=1)\n",
    "fig.update_yaxes(title_text=\"Número de Usuarios\", row=2, col=1)\n",
    "\n",
    "# Mostrar la figura\n",
    "fig.show()\n",
    "\n",
    "# Imprimir estadísticas\n",
    "print(\"\\nEstadísticas Detalladas del Impacto de Descuentos\")\n",
    "print(\"-\" * 70)\n",
    "for index, row in df_distribucion.iterrows():\n",
    "    total = row['total_usuarios']\n",
    "    periodo = row['periodo']\n",
    "    \n",
    "    print(f\"\\n{periodo.upper()} DE DESCUENTOS:\")\n",
    "    print(\"\\nFrecuencia de Compras:\")\n",
    "    for cat, val in zip(categorias_compras, [\n",
    "        row['compras_muy_bajo'],\n",
    "        row['compras_bajo'],\n",
    "        row['compras_medio'],\n",
    "        row['compras_alto'],\n",
    "        row['compras_muy_alto']\n",
    "    ]):\n",
    "        print(f\"- {cat}: {val:.0f} usuarios ({val/total*100:.1f}%)\")\n",
    "    \n",
    "    print(\"\\nGasto Mensual:\")\n",
    "    for cat, val in zip(categorias_gasto, [\n",
    "        row['gasto_muy_bajo'],\n",
    "        row['gasto_bajo'],\n",
    "        row['gasto_medio'],\n",
    "        row['gasto_alto'],\n",
    "        row['gasto_muy_alto']\n",
    "    ]):\n",
    "        print(f\"- {cat}: {val:.0f} usuarios ({val/total*100:.1f}%)\")\n",
    "    \n",
    "    print(f\"\\nTotal usuarios: {total}\")"
   ]
  },
  {
   "cell_type": "markdown",
   "metadata": {},
   "source": [
    "### 4.8 Análisis de Ingresos de Ekhilur\n",
    "\n",
    "Analizaremos los cuatro tipos de ingresos directos que tiene Ekhilur en 2024, que suman un total de 39,238.07€:\n",
    "\n",
    "1. **Comisiones por Retirada** (14,838.46€ - 37.8%)\n",
    "   - 967 operaciones de 95 usuarios únicos\n",
    "   - Promedio: 15.34€ por operación\n",
    "   - Por tipo de usuario:\n",
    "     * Empresas (41): 8,547.27€ (208.47€/empresa)\n",
    "     * Autónomos (44): 5,997.31€ (136.30€/autónomo)\n",
    "     * Otros (10): 293.88€ (29.39€/usuario)\n",
    "\n",
    "2. **Cuotas Mensuales** (11,760.45€ - 30.0%)\n",
    "   - 6,031 cuotas de 627 usuarios únicos\n",
    "   - Cuota fija: 1.95€ mensual\n",
    "   - Por tipo de usuario:\n",
    "     * Usuarios (480): 11,514.75€ (97.9%)\n",
    "     * Autónomos (9): 171.60€ (1.5%)\n",
    "     * Otros (4): 74.10€ (0.6%)\n",
    "\n",
    "3. **Cuotas de Socio** (6,510.00€ - 16.6%)\n",
    "   - 651 nuevos socios en 2024\n",
    "   - Cuota única: 10.00€\n",
    "   - Principal fuente de crecimiento de la base de usuarios\n",
    "\n",
    "4. **Cuotas Variables** (6,129.16€ - 15.6%)\n",
    "   - 1,512 operaciones de 143 usuarios únicos\n",
    "   - Promedio: 4.05€ por operación\n",
    "   - Por tipo de usuario:\n",
    "     * Empresas (60): 3,185.24€ (4.86€/mes)\n",
    "     * Autónomos (63): 2,533.84€ (3.90€/mes)\n",
    "     * Asociaciones (20): 410.08€ (1.98€/mes)\n",
    "\n",
    "**Métricas Clave:**\n",
    "- Total operaciones: 9,161\n",
    "- Base de usuarios activa: 627\n",
    "- ARPU (Ingreso medio por usuario): 62.58€\n",
    "- Tasa de conversión a socios: 92.8% (651/702 usuarios)\n",
    "\n",
    "**Conclusiones:**\n",
    "1. Las empresas y autónomos generan el 98% de las comisiones por retirada\n",
    "2. Los usuarios particulares dominan las cuotas mensuales (97.9%)\n",
    "3. Fuerte crecimiento en nuevos socios (651 en 2024)\n",
    "4. Las cuotas variables se concentran en empresas y autónomos (93.3%)"
   ]
  },
  {
   "cell_type": "code",
   "execution_count": 10,
   "metadata": {},
   "outputs": [
    {
     "name": "stderr",
     "output_type": "stream",
     "text": [
      "C:\\Users\\mikel\\AppData\\Local\\Temp\\ipykernel_12748\\1450764005.py:22: UserWarning:\n",
      "\n",
      "pandas only supports SQLAlchemy connectable (engine/connection) or database string URI or sqlite3 DBAPI2 connection. Other DBAPI2 objects are not tested. Please consider using SQLAlchemy.\n",
      "\n"
     ]
    },
    {
     "data": {
      "application/vnd.plotly.v1+json": {
       "config": {
        "plotlyServerURL": "https://plot.ly"
       },
       "data": [
        {
         "line": {
          "dash": "solid",
          "width": 3
         },
         "marker": {
          "size": 10
         },
         "mode": "lines+markers",
         "name": "Total",
         "type": "scatter",
         "x": [
          "Enero",
          "Febrero",
          "Marzo",
          "Abril",
          "Mayo",
          "Junio",
          "Julio",
          "Agosto",
          "Septiembre",
          "Octubre",
          "Noviembre",
          "Diciembre"
         ],
         "y": [
          4953.16,
          3180.45,
          2666.05,
          3186.38,
          3236.9,
          3102.04,
          3196.74,
          2633.61,
          2758.83,
          3728.19,
          3134.93,
          3460.79
         ]
        },
        {
         "mode": "lines+markers",
         "name": "Comisión por retirada",
         "type": "scatter",
         "x": [
          "Enero",
          "Febrero",
          "Marzo",
          "Abril",
          "Mayo",
          "Junio",
          "Julio",
          "Agosto",
          "Septiembre",
          "Octubre",
          "Noviembre",
          "Diciembre"
         ],
         "y": [
          1050.75,
          1222.93,
          908.73,
          1321.6,
          1284.45,
          1253.81,
          1433.78,
          893.76,
          1016.34,
          1757.1,
          1157.87,
          1537.34
         ]
        },
        {
         "mode": "lines+markers",
         "name": "Cuota de socio",
         "type": "scatter",
         "x": [
          "Enero",
          "Febrero",
          "Marzo",
          "Abril",
          "Mayo",
          "Junio",
          "Julio",
          "Agosto",
          "Septiembre",
          "Octubre",
          "Noviembre",
          "Diciembre"
         ],
         "y": [
          3270,
          720,
          380,
          430,
          420,
          220,
          120,
          130,
          120,
          280,
          280,
          140
         ]
        },
        {
         "mode": "lines+markers",
         "name": "Cuota mensual de socio",
         "type": "scatter",
         "x": [
          "Enero",
          "Febrero",
          "Marzo",
          "Abril",
          "Mayo",
          "Junio",
          "Julio",
          "Agosto",
          "Septiembre",
          "Octubre",
          "Noviembre",
          "Diciembre"
         ],
         "y": [
          120.9,
          696.15,
          846.3,
          908.7,
          986.7,
          1092,
          1113.45,
          1132.95,
          1152.45,
          1181.7,
          1230.45,
          1298.7
         ]
        },
        {
         "mode": "lines+markers",
         "name": "Cuota variable",
         "type": "scatter",
         "x": [
          "Enero",
          "Febrero",
          "Marzo",
          "Abril",
          "Mayo",
          "Junio",
          "Julio",
          "Agosto",
          "Septiembre",
          "Octubre",
          "Noviembre",
          "Diciembre"
         ],
         "y": [
          511.51,
          541.37,
          531.02,
          526.08,
          545.75,
          536.23,
          529.51,
          476.9,
          470.04,
          509.39,
          466.61,
          484.75
         ]
        }
       ],
       "layout": {
        "height": 600,
        "showlegend": true,
        "template": {
         "data": {
          "bar": [
           {
            "error_x": {
             "color": "#2a3f5f"
            },
            "error_y": {
             "color": "#2a3f5f"
            },
            "marker": {
             "line": {
              "color": "#E5ECF6",
              "width": 0.5
             },
             "pattern": {
              "fillmode": "overlay",
              "size": 10,
              "solidity": 0.2
             }
            },
            "type": "bar"
           }
          ],
          "barpolar": [
           {
            "marker": {
             "line": {
              "color": "#E5ECF6",
              "width": 0.5
             },
             "pattern": {
              "fillmode": "overlay",
              "size": 10,
              "solidity": 0.2
             }
            },
            "type": "barpolar"
           }
          ],
          "carpet": [
           {
            "aaxis": {
             "endlinecolor": "#2a3f5f",
             "gridcolor": "white",
             "linecolor": "white",
             "minorgridcolor": "white",
             "startlinecolor": "#2a3f5f"
            },
            "baxis": {
             "endlinecolor": "#2a3f5f",
             "gridcolor": "white",
             "linecolor": "white",
             "minorgridcolor": "white",
             "startlinecolor": "#2a3f5f"
            },
            "type": "carpet"
           }
          ],
          "choropleth": [
           {
            "colorbar": {
             "outlinewidth": 0,
             "ticks": ""
            },
            "type": "choropleth"
           }
          ],
          "contour": [
           {
            "colorbar": {
             "outlinewidth": 0,
             "ticks": ""
            },
            "colorscale": [
             [
              0,
              "#0d0887"
             ],
             [
              0.1111111111111111,
              "#46039f"
             ],
             [
              0.2222222222222222,
              "#7201a8"
             ],
             [
              0.3333333333333333,
              "#9c179e"
             ],
             [
              0.4444444444444444,
              "#bd3786"
             ],
             [
              0.5555555555555556,
              "#d8576b"
             ],
             [
              0.6666666666666666,
              "#ed7953"
             ],
             [
              0.7777777777777778,
              "#fb9f3a"
             ],
             [
              0.8888888888888888,
              "#fdca26"
             ],
             [
              1,
              "#f0f921"
             ]
            ],
            "type": "contour"
           }
          ],
          "contourcarpet": [
           {
            "colorbar": {
             "outlinewidth": 0,
             "ticks": ""
            },
            "type": "contourcarpet"
           }
          ],
          "heatmap": [
           {
            "colorbar": {
             "outlinewidth": 0,
             "ticks": ""
            },
            "colorscale": [
             [
              0,
              "#0d0887"
             ],
             [
              0.1111111111111111,
              "#46039f"
             ],
             [
              0.2222222222222222,
              "#7201a8"
             ],
             [
              0.3333333333333333,
              "#9c179e"
             ],
             [
              0.4444444444444444,
              "#bd3786"
             ],
             [
              0.5555555555555556,
              "#d8576b"
             ],
             [
              0.6666666666666666,
              "#ed7953"
             ],
             [
              0.7777777777777778,
              "#fb9f3a"
             ],
             [
              0.8888888888888888,
              "#fdca26"
             ],
             [
              1,
              "#f0f921"
             ]
            ],
            "type": "heatmap"
           }
          ],
          "heatmapgl": [
           {
            "colorbar": {
             "outlinewidth": 0,
             "ticks": ""
            },
            "colorscale": [
             [
              0,
              "#0d0887"
             ],
             [
              0.1111111111111111,
              "#46039f"
             ],
             [
              0.2222222222222222,
              "#7201a8"
             ],
             [
              0.3333333333333333,
              "#9c179e"
             ],
             [
              0.4444444444444444,
              "#bd3786"
             ],
             [
              0.5555555555555556,
              "#d8576b"
             ],
             [
              0.6666666666666666,
              "#ed7953"
             ],
             [
              0.7777777777777778,
              "#fb9f3a"
             ],
             [
              0.8888888888888888,
              "#fdca26"
             ],
             [
              1,
              "#f0f921"
             ]
            ],
            "type": "heatmapgl"
           }
          ],
          "histogram": [
           {
            "marker": {
             "pattern": {
              "fillmode": "overlay",
              "size": 10,
              "solidity": 0.2
             }
            },
            "type": "histogram"
           }
          ],
          "histogram2d": [
           {
            "colorbar": {
             "outlinewidth": 0,
             "ticks": ""
            },
            "colorscale": [
             [
              0,
              "#0d0887"
             ],
             [
              0.1111111111111111,
              "#46039f"
             ],
             [
              0.2222222222222222,
              "#7201a8"
             ],
             [
              0.3333333333333333,
              "#9c179e"
             ],
             [
              0.4444444444444444,
              "#bd3786"
             ],
             [
              0.5555555555555556,
              "#d8576b"
             ],
             [
              0.6666666666666666,
              "#ed7953"
             ],
             [
              0.7777777777777778,
              "#fb9f3a"
             ],
             [
              0.8888888888888888,
              "#fdca26"
             ],
             [
              1,
              "#f0f921"
             ]
            ],
            "type": "histogram2d"
           }
          ],
          "histogram2dcontour": [
           {
            "colorbar": {
             "outlinewidth": 0,
             "ticks": ""
            },
            "colorscale": [
             [
              0,
              "#0d0887"
             ],
             [
              0.1111111111111111,
              "#46039f"
             ],
             [
              0.2222222222222222,
              "#7201a8"
             ],
             [
              0.3333333333333333,
              "#9c179e"
             ],
             [
              0.4444444444444444,
              "#bd3786"
             ],
             [
              0.5555555555555556,
              "#d8576b"
             ],
             [
              0.6666666666666666,
              "#ed7953"
             ],
             [
              0.7777777777777778,
              "#fb9f3a"
             ],
             [
              0.8888888888888888,
              "#fdca26"
             ],
             [
              1,
              "#f0f921"
             ]
            ],
            "type": "histogram2dcontour"
           }
          ],
          "mesh3d": [
           {
            "colorbar": {
             "outlinewidth": 0,
             "ticks": ""
            },
            "type": "mesh3d"
           }
          ],
          "parcoords": [
           {
            "line": {
             "colorbar": {
              "outlinewidth": 0,
              "ticks": ""
             }
            },
            "type": "parcoords"
           }
          ],
          "pie": [
           {
            "automargin": true,
            "type": "pie"
           }
          ],
          "scatter": [
           {
            "fillpattern": {
             "fillmode": "overlay",
             "size": 10,
             "solidity": 0.2
            },
            "type": "scatter"
           }
          ],
          "scatter3d": [
           {
            "line": {
             "colorbar": {
              "outlinewidth": 0,
              "ticks": ""
             }
            },
            "marker": {
             "colorbar": {
              "outlinewidth": 0,
              "ticks": ""
             }
            },
            "type": "scatter3d"
           }
          ],
          "scattercarpet": [
           {
            "marker": {
             "colorbar": {
              "outlinewidth": 0,
              "ticks": ""
             }
            },
            "type": "scattercarpet"
           }
          ],
          "scattergeo": [
           {
            "marker": {
             "colorbar": {
              "outlinewidth": 0,
              "ticks": ""
             }
            },
            "type": "scattergeo"
           }
          ],
          "scattergl": [
           {
            "marker": {
             "colorbar": {
              "outlinewidth": 0,
              "ticks": ""
             }
            },
            "type": "scattergl"
           }
          ],
          "scattermapbox": [
           {
            "marker": {
             "colorbar": {
              "outlinewidth": 0,
              "ticks": ""
             }
            },
            "type": "scattermapbox"
           }
          ],
          "scatterpolar": [
           {
            "marker": {
             "colorbar": {
              "outlinewidth": 0,
              "ticks": ""
             }
            },
            "type": "scatterpolar"
           }
          ],
          "scatterpolargl": [
           {
            "marker": {
             "colorbar": {
              "outlinewidth": 0,
              "ticks": ""
             }
            },
            "type": "scatterpolargl"
           }
          ],
          "scatterternary": [
           {
            "marker": {
             "colorbar": {
              "outlinewidth": 0,
              "ticks": ""
             }
            },
            "type": "scatterternary"
           }
          ],
          "surface": [
           {
            "colorbar": {
             "outlinewidth": 0,
             "ticks": ""
            },
            "colorscale": [
             [
              0,
              "#0d0887"
             ],
             [
              0.1111111111111111,
              "#46039f"
             ],
             [
              0.2222222222222222,
              "#7201a8"
             ],
             [
              0.3333333333333333,
              "#9c179e"
             ],
             [
              0.4444444444444444,
              "#bd3786"
             ],
             [
              0.5555555555555556,
              "#d8576b"
             ],
             [
              0.6666666666666666,
              "#ed7953"
             ],
             [
              0.7777777777777778,
              "#fb9f3a"
             ],
             [
              0.8888888888888888,
              "#fdca26"
             ],
             [
              1,
              "#f0f921"
             ]
            ],
            "type": "surface"
           }
          ],
          "table": [
           {
            "cells": {
             "fill": {
              "color": "#EBF0F8"
             },
             "line": {
              "color": "white"
             }
            },
            "header": {
             "fill": {
              "color": "#C8D4E3"
             },
             "line": {
              "color": "white"
             }
            },
            "type": "table"
           }
          ]
         },
         "layout": {
          "annotationdefaults": {
           "arrowcolor": "#2a3f5f",
           "arrowhead": 0,
           "arrowwidth": 1
          },
          "autotypenumbers": "strict",
          "coloraxis": {
           "colorbar": {
            "outlinewidth": 0,
            "ticks": ""
           }
          },
          "colorscale": {
           "diverging": [
            [
             0,
             "#8e0152"
            ],
            [
             0.1,
             "#c51b7d"
            ],
            [
             0.2,
             "#de77ae"
            ],
            [
             0.3,
             "#f1b6da"
            ],
            [
             0.4,
             "#fde0ef"
            ],
            [
             0.5,
             "#f7f7f7"
            ],
            [
             0.6,
             "#e6f5d0"
            ],
            [
             0.7,
             "#b8e186"
            ],
            [
             0.8,
             "#7fbc41"
            ],
            [
             0.9,
             "#4d9221"
            ],
            [
             1,
             "#276419"
            ]
           ],
           "sequential": [
            [
             0,
             "#0d0887"
            ],
            [
             0.1111111111111111,
             "#46039f"
            ],
            [
             0.2222222222222222,
             "#7201a8"
            ],
            [
             0.3333333333333333,
             "#9c179e"
            ],
            [
             0.4444444444444444,
             "#bd3786"
            ],
            [
             0.5555555555555556,
             "#d8576b"
            ],
            [
             0.6666666666666666,
             "#ed7953"
            ],
            [
             0.7777777777777778,
             "#fb9f3a"
            ],
            [
             0.8888888888888888,
             "#fdca26"
            ],
            [
             1,
             "#f0f921"
            ]
           ],
           "sequentialminus": [
            [
             0,
             "#0d0887"
            ],
            [
             0.1111111111111111,
             "#46039f"
            ],
            [
             0.2222222222222222,
             "#7201a8"
            ],
            [
             0.3333333333333333,
             "#9c179e"
            ],
            [
             0.4444444444444444,
             "#bd3786"
            ],
            [
             0.5555555555555556,
             "#d8576b"
            ],
            [
             0.6666666666666666,
             "#ed7953"
            ],
            [
             0.7777777777777778,
             "#fb9f3a"
            ],
            [
             0.8888888888888888,
             "#fdca26"
            ],
            [
             1,
             "#f0f921"
            ]
           ]
          },
          "colorway": [
           "#636efa",
           "#EF553B",
           "#00cc96",
           "#ab63fa",
           "#FFA15A",
           "#19d3f3",
           "#FF6692",
           "#B6E880",
           "#FF97FF",
           "#FECB52"
          ],
          "font": {
           "color": "#2a3f5f"
          },
          "geo": {
           "bgcolor": "white",
           "lakecolor": "white",
           "landcolor": "#E5ECF6",
           "showlakes": true,
           "showland": true,
           "subunitcolor": "white"
          },
          "hoverlabel": {
           "align": "left"
          },
          "hovermode": "closest",
          "mapbox": {
           "style": "light"
          },
          "paper_bgcolor": "white",
          "plot_bgcolor": "#E5ECF6",
          "polar": {
           "angularaxis": {
            "gridcolor": "white",
            "linecolor": "white",
            "ticks": ""
           },
           "bgcolor": "#E5ECF6",
           "radialaxis": {
            "gridcolor": "white",
            "linecolor": "white",
            "ticks": ""
           }
          },
          "scene": {
           "xaxis": {
            "backgroundcolor": "#E5ECF6",
            "gridcolor": "white",
            "gridwidth": 2,
            "linecolor": "white",
            "showbackground": true,
            "ticks": "",
            "zerolinecolor": "white"
           },
           "yaxis": {
            "backgroundcolor": "#E5ECF6",
            "gridcolor": "white",
            "gridwidth": 2,
            "linecolor": "white",
            "showbackground": true,
            "ticks": "",
            "zerolinecolor": "white"
           },
           "zaxis": {
            "backgroundcolor": "#E5ECF6",
            "gridcolor": "white",
            "gridwidth": 2,
            "linecolor": "white",
            "showbackground": true,
            "ticks": "",
            "zerolinecolor": "white"
           }
          },
          "shapedefaults": {
           "line": {
            "color": "#2a3f5f"
           }
          },
          "ternary": {
           "aaxis": {
            "gridcolor": "white",
            "linecolor": "white",
            "ticks": ""
           },
           "baxis": {
            "gridcolor": "white",
            "linecolor": "white",
            "ticks": ""
           },
           "bgcolor": "#E5ECF6",
           "caxis": {
            "gridcolor": "white",
            "linecolor": "white",
            "ticks": ""
           }
          },
          "title": {
           "x": 0.05
          },
          "xaxis": {
           "automargin": true,
           "gridcolor": "white",
           "linecolor": "white",
           "ticks": "",
           "title": {
            "standoff": 15
           },
           "zerolinecolor": "white",
           "zerolinewidth": 2
          },
          "yaxis": {
           "automargin": true,
           "gridcolor": "white",
           "linecolor": "white",
           "ticks": "",
           "title": {
            "standoff": 15
           },
           "zerolinecolor": "white",
           "zerolinewidth": 2
          }
         }
        },
        "title": {
         "text": "Evolución de Ingresos Ekhilur 2024"
        },
        "xaxis": {
         "title": {
          "text": "Mes"
         }
        },
        "yaxis": {
         "title": {
          "text": "Euros (€)"
         }
        }
       }
      }
     },
     "metadata": {},
     "output_type": "display_data"
    },
    {
     "name": "stdout",
     "output_type": "stream",
     "text": [
      "\n",
      "Resumen Mensual de Ingresos\n",
      "--------------------------------------------------\n",
      "\n",
      "Enero: 4,953.16€\n",
      "  - Comisión por retirada: 1,050.75€ (21.2%)\n",
      "  - Cuota de socio: 3,270.00€ (66.0%)\n",
      "  - Cuota mensual de socio: 120.90€ (2.4%)\n",
      "  - Cuota variable: 511.51€ (10.3%)\n",
      "\n",
      "Febrero: 3,180.45€\n",
      "  - Comisión por retirada: 1,222.93€ (38.5%)\n",
      "  - Cuota de socio: 720.00€ (22.6%)\n",
      "  - Cuota mensual de socio: 696.15€ (21.9%)\n",
      "  - Cuota variable: 541.37€ (17.0%)\n",
      "\n",
      "Marzo: 2,666.05€\n",
      "  - Cuota variable: 531.02€ (19.9%)\n",
      "  - Cuota mensual de socio: 846.30€ (31.7%)\n",
      "  - Comisión por retirada: 908.73€ (34.1%)\n",
      "  - Cuota de socio: 380.00€ (14.3%)\n",
      "\n",
      "Abril: 3,186.38€\n",
      "  - Comisión por retirada: 1,321.60€ (41.5%)\n",
      "  - Cuota de socio: 430.00€ (13.5%)\n",
      "  - Cuota mensual de socio: 908.70€ (28.5%)\n",
      "  - Cuota variable: 526.08€ (16.5%)\n",
      "\n",
      "Mayo: 3,236.90€\n",
      "  - Cuota variable: 545.75€ (16.9%)\n",
      "  - Comisión por retirada: 1,284.45€ (39.7%)\n",
      "  - Cuota de socio: 420.00€ (13.0%)\n",
      "  - Cuota mensual de socio: 986.70€ (30.5%)\n",
      "\n",
      "Junio: 3,102.04€\n",
      "  - Cuota mensual de socio: 1,092.00€ (35.2%)\n",
      "  - Cuota variable: 536.23€ (17.3%)\n",
      "  - Comisión por retirada: 1,253.81€ (40.4%)\n",
      "  - Cuota de socio: 220.00€ (7.1%)\n",
      "\n",
      "Julio: 3,196.74€\n",
      "  - Comisión por retirada: 1,433.78€ (44.9%)\n",
      "  - Cuota de socio: 120.00€ (3.8%)\n",
      "  - Cuota mensual de socio: 1,113.45€ (34.8%)\n",
      "  - Cuota variable: 529.51€ (16.6%)\n",
      "\n",
      "Agosto: 2,633.61€\n",
      "  - Comisión por retirada: 893.76€ (33.9%)\n",
      "  - Cuota de socio: 130.00€ (4.9%)\n",
      "  - Cuota mensual de socio: 1,132.95€ (43.0%)\n",
      "  - Cuota variable: 476.90€ (18.1%)\n",
      "\n",
      "Septiembre: 2,758.83€\n",
      "  - Cuota variable: 470.04€ (17.0%)\n",
      "  - Cuota mensual de socio: 1,152.45€ (41.8%)\n",
      "  - Comisión por retirada: 1,016.34€ (36.8%)\n",
      "  - Cuota de socio: 120.00€ (4.3%)\n",
      "\n",
      "Octubre: 3,728.19€\n",
      "  - Comisión por retirada: 1,757.10€ (47.1%)\n",
      "  - Cuota de socio: 280.00€ (7.5%)\n",
      "  - Cuota mensual de socio: 1,181.70€ (31.7%)\n",
      "  - Cuota variable: 509.39€ (13.7%)\n",
      "\n",
      "Noviembre: 3,134.93€\n",
      "  - Comisión por retirada: 1,157.87€ (36.9%)\n",
      "  - Cuota de socio: 280.00€ (8.9%)\n",
      "  - Cuota mensual de socio: 1,230.45€ (39.2%)\n",
      "  - Cuota variable: 466.61€ (14.9%)\n",
      "\n",
      "Diciembre: 3,460.79€\n",
      "  - Cuota mensual de socio: 1,298.70€ (37.5%)\n",
      "  - Comisión por retirada: 1,537.34€ (44.4%)\n",
      "  - Cuota de socio: 140.00€ (4.0%)\n",
      "  - Cuota variable: 484.75€ (14.0%)\n"
     ]
    }
   ],
   "source": [
    "query_ingresos_mensual = \"\"\"\n",
    "WITH ingresos_mensuales AS (\n",
    "    SELECT \n",
    "        SUBSTRING(f.Id_fecha, 1, 6) as año_mes,\n",
    "        o.Operacion,\n",
    "        SUM(f.Cantidad) as total_cantidad\n",
    "    FROM fact_table f\n",
    "    JOIN dim_operaciones o ON f.Id_tipo_operacion = o.Id_tipo_operacion\n",
    "    WHERE o.Operacion IN (\n",
    "        'Comisión por retirada',\n",
    "        'Cuota de socio',\n",
    "        'Cuota mensual de socio',\n",
    "        'Cuota variable'\n",
    "    )\n",
    "    AND SUBSTRING(f.Id_fecha, 1, 4) = '2024'\n",
    "    GROUP BY \n",
    "        SUBSTRING(f.Id_fecha, 1, 6),\n",
    "        o.Operacion\n",
    ")\n",
    "SELECT \n",
    "    año_mes,\n",
    "    CASE SUBSTRING(año_mes, 5, 2)\n",
    "        WHEN '01' THEN 'Enero'\n",
    "        WHEN '02' THEN 'Febrero'\n",
    "        WHEN '03' THEN 'Marzo'\n",
    "        WHEN '04' THEN 'Abril'\n",
    "        WHEN '05' THEN 'Mayo'\n",
    "        WHEN '06' THEN 'Junio'\n",
    "        WHEN '07' THEN 'Julio'\n",
    "        WHEN '08' THEN 'Agosto'\n",
    "        WHEN '09' THEN 'Septiembre'\n",
    "        WHEN '10' THEN 'Octubre'\n",
    "        WHEN '11' THEN 'Noviembre'\n",
    "        WHEN '12' THEN 'Diciembre'\n",
    "    END as mes,\n",
    "    Operacion,\n",
    "    ROUND(total_cantidad, 2) as total_euros\n",
    "FROM ingresos_mensuales\n",
    "ORDER BY año_mes, Operacion;\n",
    "\"\"\"\n",
    "\n",
    "# Ejecutar la consulta\n",
    "df_ingresos = ejecutar_query(query_ingresos_mensual)\n",
    "\n",
    "# Crear figura\n",
    "fig = go.Figure()\n",
    "\n",
    "# Calcular totales mensuales\n",
    "totales_mensuales = df_ingresos.groupby(['año_mes', 'mes'])['total_euros'].sum().reset_index()\n",
    "totales_mensuales = totales_mensuales.sort_values('año_mes')\n",
    "\n",
    "# Añadir línea de total\n",
    "fig.add_trace(\n",
    "    go.Scatter(\n",
    "        name='Total',\n",
    "        x=totales_mensuales['mes'],\n",
    "        y=totales_mensuales['total_euros'],\n",
    "        mode='lines+markers',\n",
    "        line=dict(width=3, dash='solid'),\n",
    "        marker=dict(size=10),\n",
    "    )\n",
    ")\n",
    "\n",
    "# Gráfico de líneas para cada tipo de ingreso\n",
    "for operacion in df_ingresos['Operacion'].unique():\n",
    "    datos = df_ingresos[df_ingresos['Operacion'] == operacion]\n",
    "    datos_ordenados = datos.sort_values('año_mes')\n",
    "    fig.add_trace(\n",
    "        go.Scatter(\n",
    "            name=operacion,\n",
    "            x=datos_ordenados['mes'],\n",
    "            y=datos_ordenados['total_euros'],\n",
    "            mode='lines+markers',\n",
    "        )\n",
    "    )\n",
    "\n",
    "# Actualizar diseño\n",
    "fig.update_layout(\n",
    "    height=600,\n",
    "    title_text=\"Evolución de Ingresos Ekhilur 2024\",\n",
    "    xaxis_title=\"Mes\",\n",
    "    yaxis_title=\"Euros (€)\",\n",
    "    showlegend=True,\n",
    ")\n",
    "\n",
    "# Mostrar la figura\n",
    "fig.show()\n",
    "\n",
    "# Imprimir resumen mensual\n",
    "print(\"\\nResumen Mensual de Ingresos\")\n",
    "print(\"-\" * 50)\n",
    "df_ingresos_ordenado = df_ingresos.sort_values('año_mes')\n",
    "for mes, datos_mes in df_ingresos_ordenado.groupby(['año_mes', 'mes']):\n",
    "    total_mes = datos_mes['total_euros'].sum()\n",
    "    print(f\"\\n{mes[1]}: {total_mes:,.2f}€\")\n",
    "    for _, fila in datos_mes.iterrows():\n",
    "        porcentaje = (fila['total_euros'] / total_mes) * 100\n",
    "        print(f\"  - {fila['Operacion']}: {fila['total_euros']:,.2f}€ ({porcentaje:.1f}%)\")"
   ]
  },
  {
   "cell_type": "code",
   "execution_count": 11,
   "metadata": {},
   "outputs": [
    {
     "name": "stdout",
     "output_type": "stream",
     "text": [
      "Tipos de usuarios en la base de datos:\n",
      "-----------------------------------\n",
      "- Asociacion\n",
      "- autonomo\n",
      "- ekhilur\n",
      "- Empresa\n",
      "- usuario\n"
     ]
    },
    {
     "name": "stderr",
     "output_type": "stream",
     "text": [
      "C:\\Users\\mikel\\AppData\\Local\\Temp\\ipykernel_12748\\1450764005.py:22: UserWarning:\n",
      "\n",
      "pandas only supports SQLAlchemy connectable (engine/connection) or database string URI or sqlite3 DBAPI2 connection. Other DBAPI2 objects are not tested. Please consider using SQLAlchemy.\n",
      "\n"
     ]
    }
   ],
   "source": [
    "query_tipos_usuario = \"\"\"\n",
    "SELECT DISTINCT Tipo_usuario\n",
    "FROM dim_usuarios\n",
    "ORDER BY Tipo_usuario;\n",
    "\"\"\"\n",
    "\n",
    "# Ejecutar la consulta\n",
    "df_tipos = ejecutar_query(query_tipos_usuario)\n",
    "print(\"Tipos de usuarios en la base de datos:\")\n",
    "print(\"-\" * 35)\n",
    "for tipo in df_tipos['Tipo_usuario']:\n",
    "    print(f\"- {tipo}\")"
   ]
  },
  {
   "cell_type": "code",
   "execution_count": 12,
   "metadata": {},
   "outputs": [
    {
     "name": "stderr",
     "output_type": "stream",
     "text": [
      "C:\\Users\\mikel\\AppData\\Local\\Temp\\ipykernel_12748\\1450764005.py:22: UserWarning:\n",
      "\n",
      "pandas only supports SQLAlchemy connectable (engine/connection) or database string URI or sqlite3 DBAPI2 connection. Other DBAPI2 objects are not tested. Please consider using SQLAlchemy.\n",
      "\n"
     ]
    },
    {
     "data": {
      "application/vnd.plotly.v1+json": {
       "config": {
        "plotlyServerURL": "https://plot.ly"
       },
       "data": [
        {
         "line": {
          "color": "rgb(31, 119, 180)",
          "width": 2
         },
         "mode": "lines+markers",
         "name": "Usuarios Particulares",
         "showlegend": true,
         "type": "scatter",
         "x": [
          "Enero",
          "Enero",
          "Enero",
          "Enero",
          "Enero",
          "Enero",
          "Enero",
          "Enero",
          "Enero",
          "Enero",
          "Enero",
          "Enero",
          "Enero",
          "Enero",
          "Enero",
          "Enero",
          "Enero",
          "Enero",
          "Enero",
          "Enero",
          "Enero",
          "Enero",
          "Enero",
          "Enero",
          "Enero",
          "Enero",
          "Enero",
          "Enero",
          "Enero",
          "Enero",
          "Enero",
          "Febrero",
          "Febrero",
          "Febrero",
          "Febrero",
          "Febrero",
          "Febrero",
          "Febrero",
          "Febrero",
          "Febrero",
          "Febrero",
          "Febrero",
          "Febrero",
          "Febrero",
          "Febrero",
          "Febrero",
          "Febrero",
          "Febrero",
          "Febrero",
          "Febrero",
          "Febrero",
          "Febrero",
          "Febrero",
          "Febrero",
          "Febrero",
          "Febrero",
          "Febrero",
          "Febrero",
          "Febrero",
          "Febrero",
          "Marzo",
          "Marzo",
          "Marzo",
          "Marzo",
          "Marzo",
          "Marzo",
          "Marzo",
          "Marzo",
          "Marzo",
          "Marzo",
          "Marzo",
          "Marzo",
          "Marzo",
          "Marzo",
          "Marzo",
          "Marzo",
          "Marzo",
          "Marzo",
          "Marzo",
          "Marzo",
          "Marzo",
          "Marzo",
          "Marzo",
          "Marzo",
          "Marzo",
          "Marzo",
          "Marzo",
          "Marzo",
          "Marzo",
          "Marzo",
          "Marzo",
          "Abril",
          "Abril",
          "Abril",
          "Abril",
          "Abril",
          "Abril",
          "Abril",
          "Abril",
          "Abril",
          "Abril",
          "Abril",
          "Abril",
          "Abril",
          "Abril",
          "Abril",
          "Abril",
          "Abril",
          "Abril",
          "Abril",
          "Abril",
          "Abril",
          "Abril",
          "Abril",
          "Abril",
          "Abril",
          "Abril",
          "Abril",
          "Abril",
          "Abril",
          "Abril",
          "Mayo",
          "Mayo",
          "Mayo",
          "Mayo",
          "Mayo",
          "Mayo",
          "Mayo",
          "Mayo",
          "Mayo",
          "Mayo",
          "Mayo",
          "Mayo",
          "Mayo",
          "Mayo",
          "Mayo",
          "Mayo",
          "Mayo",
          "Mayo",
          "Mayo",
          "Mayo",
          "Mayo",
          "Mayo",
          "Mayo",
          "Mayo",
          "Mayo",
          "Mayo",
          "Mayo",
          "Mayo",
          "Mayo",
          "Mayo",
          "Mayo",
          "Junio",
          "Junio",
          "Junio",
          "Junio",
          "Junio",
          "Junio",
          "Junio",
          "Junio",
          "Junio",
          "Junio",
          "Junio",
          "Junio",
          "Junio",
          "Junio",
          "Junio",
          "Junio",
          "Junio",
          "Junio",
          "Junio",
          "Junio",
          "Junio",
          "Junio",
          "Junio",
          "Junio",
          "Junio",
          "Junio",
          "Junio",
          "Junio",
          "Junio",
          "Junio",
          "Julio",
          "Julio",
          "Julio",
          "Julio",
          "Julio",
          "Julio",
          "Julio",
          "Julio",
          "Julio",
          "Julio",
          "Julio",
          "Julio",
          "Julio",
          "Julio",
          "Julio",
          "Julio",
          "Julio",
          "Julio",
          "Julio",
          "Julio",
          "Julio",
          "Julio",
          "Julio",
          "Julio",
          "Julio",
          "Julio",
          "Julio",
          "Julio",
          "Julio",
          "Julio",
          "Julio",
          "Agosto",
          "Agosto",
          "Agosto",
          "Agosto",
          "Agosto",
          "Agosto",
          "Agosto",
          "Agosto",
          "Agosto",
          "Agosto",
          "Agosto",
          "Agosto",
          "Agosto",
          "Agosto",
          "Agosto",
          "Agosto",
          "Agosto",
          "Agosto",
          "Agosto",
          "Agosto",
          "Agosto",
          "Agosto",
          "Agosto",
          "Agosto",
          "Agosto",
          "Agosto",
          "Agosto",
          "Agosto",
          "Agosto",
          "Agosto",
          "Agosto",
          "Septiembre",
          "Septiembre",
          "Septiembre",
          "Septiembre",
          "Septiembre",
          "Septiembre",
          "Septiembre",
          "Septiembre",
          "Septiembre",
          "Septiembre",
          "Septiembre",
          "Septiembre",
          "Septiembre",
          "Septiembre",
          "Septiembre",
          "Septiembre",
          "Septiembre",
          "Septiembre",
          "Septiembre",
          "Septiembre",
          "Septiembre",
          "Septiembre",
          "Septiembre",
          "Septiembre",
          "Septiembre",
          "Septiembre",
          "Septiembre",
          "Septiembre",
          "Septiembre",
          "Septiembre",
          "Octubre",
          "Octubre",
          "Octubre",
          "Octubre",
          "Octubre",
          "Octubre",
          "Octubre",
          "Octubre",
          "Octubre",
          "Octubre",
          "Octubre",
          "Octubre",
          "Octubre",
          "Octubre",
          "Octubre",
          "Octubre",
          "Octubre",
          "Octubre",
          "Octubre",
          "Octubre",
          "Octubre",
          "Octubre",
          "Octubre",
          "Octubre",
          "Octubre",
          "Octubre",
          "Octubre",
          "Octubre",
          "Octubre",
          "Octubre",
          "Octubre",
          "Noviembre",
          "Noviembre",
          "Noviembre",
          "Noviembre",
          "Noviembre",
          "Noviembre",
          "Noviembre",
          "Noviembre",
          "Noviembre",
          "Noviembre",
          "Noviembre",
          "Noviembre",
          "Noviembre",
          "Noviembre",
          "Noviembre",
          "Noviembre",
          "Noviembre",
          "Noviembre",
          "Noviembre",
          "Noviembre",
          "Noviembre",
          "Noviembre",
          "Noviembre",
          "Noviembre",
          "Noviembre",
          "Noviembre",
          "Noviembre",
          "Noviembre",
          "Noviembre",
          "Noviembre",
          "Diciembre",
          "Diciembre",
          "Diciembre",
          "Diciembre",
          "Diciembre",
          "Diciembre",
          "Diciembre",
          "Diciembre",
          "Diciembre",
          "Diciembre",
          "Diciembre",
          "Diciembre",
          "Diciembre",
          "Diciembre",
          "Diciembre",
          "Diciembre",
          "Diciembre",
          "Diciembre",
          "Diciembre",
          "Diciembre",
          "Diciembre",
          "Diciembre",
          "Diciembre",
          "Diciembre",
          "Diciembre",
          "Diciembre",
          "Diciembre",
          "Diciembre",
          "Diciembre",
          "Diciembre",
          "Diciembre"
         ],
         "xaxis": "x",
         "y": [
          1114,
          1114,
          1114,
          1114,
          1114,
          1114,
          1114,
          1114,
          1114,
          1114,
          1114,
          1114,
          1114,
          1114,
          1114,
          1114,
          1114,
          1114,
          1114,
          1114,
          1114,
          1114,
          1114,
          1114,
          1114,
          1114,
          1114,
          1114,
          1114,
          1114,
          1114,
          1135,
          1135,
          1135,
          1135,
          1135,
          1135,
          1135,
          1135,
          1135,
          1135,
          1135,
          1135,
          1135,
          1135,
          1135,
          1135,
          1135,
          1135,
          1135,
          1135,
          1135,
          1135,
          1135,
          1135,
          1135,
          1135,
          1135,
          1135,
          1135,
          1156,
          1156,
          1156,
          1156,
          1156,
          1156,
          1156,
          1156,
          1156,
          1156,
          1156,
          1156,
          1156,
          1156,
          1156,
          1156,
          1156,
          1156,
          1156,
          1156,
          1156,
          1156,
          1156,
          1156,
          1156,
          1156,
          1156,
          1156,
          1156,
          1156,
          1156,
          1175,
          1175,
          1175,
          1175,
          1175,
          1175,
          1175,
          1175,
          1175,
          1175,
          1175,
          1175,
          1175,
          1175,
          1175,
          1175,
          1175,
          1175,
          1175,
          1175,
          1175,
          1175,
          1175,
          1175,
          1175,
          1175,
          1175,
          1175,
          1175,
          1175,
          1203,
          1203,
          1203,
          1203,
          1203,
          1203,
          1203,
          1203,
          1203,
          1203,
          1203,
          1203,
          1203,
          1203,
          1203,
          1203,
          1203,
          1203,
          1203,
          1203,
          1203,
          1203,
          1203,
          1203,
          1203,
          1203,
          1203,
          1203,
          1203,
          1203,
          1203,
          1199,
          1199,
          1199,
          1199,
          1199,
          1199,
          1199,
          1199,
          1199,
          1199,
          1199,
          1199,
          1199,
          1199,
          1199,
          1199,
          1199,
          1199,
          1199,
          1199,
          1199,
          1199,
          1199,
          1199,
          1199,
          1199,
          1199,
          1199,
          1199,
          1199,
          1209,
          1209,
          1209,
          1209,
          1209,
          1209,
          1209,
          1209,
          1209,
          1209,
          1209,
          1209,
          1209,
          1209,
          1209,
          1209,
          1209,
          1209,
          1209,
          1209,
          1209,
          1209,
          1209,
          1209,
          1209,
          1209,
          1209,
          1209,
          1209,
          1209,
          1209,
          1219,
          1219,
          1219,
          1219,
          1219,
          1219,
          1219,
          1219,
          1219,
          1219,
          1219,
          1219,
          1219,
          1219,
          1219,
          1219,
          1219,
          1219,
          1219,
          1219,
          1219,
          1219,
          1219,
          1219,
          1219,
          1219,
          1219,
          1219,
          1219,
          1219,
          1219,
          1240,
          1240,
          1240,
          1240,
          1240,
          1240,
          1240,
          1240,
          1240,
          1240,
          1240,
          1240,
          1240,
          1240,
          1240,
          1240,
          1240,
          1240,
          1240,
          1240,
          1240,
          1240,
          1240,
          1240,
          1240,
          1240,
          1240,
          1240,
          1240,
          1240,
          1279,
          1279,
          1279,
          1279,
          1279,
          1279,
          1279,
          1279,
          1279,
          1279,
          1279,
          1279,
          1279,
          1279,
          1279,
          1279,
          1279,
          1279,
          1279,
          1279,
          1279,
          1279,
          1279,
          1279,
          1279,
          1279,
          1279,
          1279,
          1279,
          1279,
          1279,
          1307,
          1307,
          1307,
          1307,
          1307,
          1307,
          1307,
          1307,
          1307,
          1307,
          1307,
          1307,
          1307,
          1307,
          1307,
          1307,
          1307,
          1307,
          1307,
          1307,
          1307,
          1307,
          1307,
          1307,
          1307,
          1307,
          1307,
          1307,
          1307,
          1307,
          1316,
          1316,
          1316,
          1316,
          1316,
          1316,
          1316,
          1316,
          1316,
          1316,
          1316,
          1316,
          1316,
          1316,
          1316,
          1316,
          1316,
          1316,
          1316,
          1316,
          1316,
          1316,
          1316,
          1316,
          1316,
          1316,
          1316,
          1316,
          1316,
          1316,
          1316
         ],
         "yaxis": "y"
        },
        {
         "line": {
          "color": "rgb(44, 160, 44)",
          "width": 2
         },
         "mode": "lines+markers",
         "name": "Autónomos",
         "showlegend": true,
         "type": "scatter",
         "x": [
          "Enero",
          "Enero",
          "Enero",
          "Enero",
          "Enero",
          "Enero",
          "Enero",
          "Enero",
          "Enero",
          "Enero",
          "Enero",
          "Enero",
          "Enero",
          "Enero",
          "Enero",
          "Enero",
          "Enero",
          "Enero",
          "Enero",
          "Enero",
          "Enero",
          "Enero",
          "Enero",
          "Enero",
          "Enero",
          "Enero",
          "Enero",
          "Enero",
          "Enero",
          "Enero",
          "Enero",
          "Febrero",
          "Febrero",
          "Febrero",
          "Febrero",
          "Febrero",
          "Febrero",
          "Febrero",
          "Febrero",
          "Febrero",
          "Febrero",
          "Febrero",
          "Febrero",
          "Febrero",
          "Febrero",
          "Febrero",
          "Febrero",
          "Febrero",
          "Febrero",
          "Febrero",
          "Febrero",
          "Febrero",
          "Febrero",
          "Febrero",
          "Febrero",
          "Febrero",
          "Febrero",
          "Febrero",
          "Febrero",
          "Febrero",
          "Marzo",
          "Marzo",
          "Marzo",
          "Marzo",
          "Marzo",
          "Marzo",
          "Marzo",
          "Marzo",
          "Marzo",
          "Marzo",
          "Marzo",
          "Marzo",
          "Marzo",
          "Marzo",
          "Marzo",
          "Marzo",
          "Marzo",
          "Marzo",
          "Marzo",
          "Marzo",
          "Marzo",
          "Marzo",
          "Marzo",
          "Marzo",
          "Marzo",
          "Marzo",
          "Marzo",
          "Marzo",
          "Marzo",
          "Marzo",
          "Marzo",
          "Abril",
          "Abril",
          "Abril",
          "Abril",
          "Abril",
          "Abril",
          "Abril",
          "Abril",
          "Abril",
          "Abril",
          "Abril",
          "Abril",
          "Abril",
          "Abril",
          "Abril",
          "Abril",
          "Abril",
          "Abril",
          "Abril",
          "Abril",
          "Abril",
          "Abril",
          "Abril",
          "Abril",
          "Abril",
          "Abril",
          "Abril",
          "Abril",
          "Abril",
          "Abril",
          "Mayo",
          "Mayo",
          "Mayo",
          "Mayo",
          "Mayo",
          "Mayo",
          "Mayo",
          "Mayo",
          "Mayo",
          "Mayo",
          "Mayo",
          "Mayo",
          "Mayo",
          "Mayo",
          "Mayo",
          "Mayo",
          "Mayo",
          "Mayo",
          "Mayo",
          "Mayo",
          "Mayo",
          "Mayo",
          "Mayo",
          "Mayo",
          "Mayo",
          "Mayo",
          "Mayo",
          "Mayo",
          "Mayo",
          "Mayo",
          "Mayo",
          "Junio",
          "Junio",
          "Junio",
          "Junio",
          "Junio",
          "Junio",
          "Junio",
          "Junio",
          "Junio",
          "Junio",
          "Junio",
          "Junio",
          "Junio",
          "Junio",
          "Junio",
          "Junio",
          "Junio",
          "Junio",
          "Junio",
          "Junio",
          "Junio",
          "Junio",
          "Junio",
          "Junio",
          "Junio",
          "Junio",
          "Junio",
          "Junio",
          "Junio",
          "Junio",
          "Julio",
          "Julio",
          "Julio",
          "Julio",
          "Julio",
          "Julio",
          "Julio",
          "Julio",
          "Julio",
          "Julio",
          "Julio",
          "Julio",
          "Julio",
          "Julio",
          "Julio",
          "Julio",
          "Julio",
          "Julio",
          "Julio",
          "Julio",
          "Julio",
          "Julio",
          "Julio",
          "Julio",
          "Julio",
          "Julio",
          "Julio",
          "Julio",
          "Julio",
          "Julio",
          "Julio",
          "Agosto",
          "Agosto",
          "Agosto",
          "Agosto",
          "Agosto",
          "Agosto",
          "Agosto",
          "Agosto",
          "Agosto",
          "Agosto",
          "Agosto",
          "Agosto",
          "Agosto",
          "Agosto",
          "Agosto",
          "Agosto",
          "Agosto",
          "Agosto",
          "Agosto",
          "Agosto",
          "Agosto",
          "Agosto",
          "Agosto",
          "Agosto",
          "Agosto",
          "Agosto",
          "Agosto",
          "Agosto",
          "Agosto",
          "Agosto",
          "Agosto",
          "Septiembre",
          "Septiembre",
          "Septiembre",
          "Septiembre",
          "Septiembre",
          "Septiembre",
          "Septiembre",
          "Septiembre",
          "Septiembre",
          "Septiembre",
          "Septiembre",
          "Septiembre",
          "Septiembre",
          "Septiembre",
          "Septiembre",
          "Septiembre",
          "Septiembre",
          "Septiembre",
          "Septiembre",
          "Septiembre",
          "Septiembre",
          "Septiembre",
          "Septiembre",
          "Septiembre",
          "Septiembre",
          "Septiembre",
          "Septiembre",
          "Septiembre",
          "Septiembre",
          "Septiembre",
          "Octubre",
          "Octubre",
          "Octubre",
          "Octubre",
          "Octubre",
          "Octubre",
          "Octubre",
          "Octubre",
          "Octubre",
          "Octubre",
          "Octubre",
          "Octubre",
          "Octubre",
          "Octubre",
          "Octubre",
          "Octubre",
          "Octubre",
          "Octubre",
          "Octubre",
          "Octubre",
          "Octubre",
          "Octubre",
          "Octubre",
          "Octubre",
          "Octubre",
          "Octubre",
          "Octubre",
          "Octubre",
          "Octubre",
          "Octubre",
          "Octubre",
          "Noviembre",
          "Noviembre",
          "Noviembre",
          "Noviembre",
          "Noviembre",
          "Noviembre",
          "Noviembre",
          "Noviembre",
          "Noviembre",
          "Noviembre",
          "Noviembre",
          "Noviembre",
          "Noviembre",
          "Noviembre",
          "Noviembre",
          "Noviembre",
          "Noviembre",
          "Noviembre",
          "Noviembre",
          "Noviembre",
          "Noviembre",
          "Noviembre",
          "Noviembre",
          "Noviembre",
          "Noviembre",
          "Noviembre",
          "Noviembre",
          "Noviembre",
          "Noviembre",
          "Noviembre",
          "Diciembre",
          "Diciembre",
          "Diciembre",
          "Diciembre",
          "Diciembre",
          "Diciembre",
          "Diciembre",
          "Diciembre",
          "Diciembre",
          "Diciembre",
          "Diciembre",
          "Diciembre",
          "Diciembre",
          "Diciembre",
          "Diciembre",
          "Diciembre",
          "Diciembre",
          "Diciembre",
          "Diciembre",
          "Diciembre",
          "Diciembre",
          "Diciembre",
          "Diciembre",
          "Diciembre",
          "Diciembre",
          "Diciembre",
          "Diciembre",
          "Diciembre",
          "Diciembre",
          "Diciembre",
          "Diciembre"
         ],
         "xaxis": "x2",
         "y": [
          61,
          61,
          61,
          61,
          61,
          61,
          61,
          61,
          61,
          61,
          61,
          61,
          61,
          61,
          61,
          61,
          61,
          61,
          61,
          61,
          61,
          61,
          61,
          61,
          61,
          61,
          61,
          61,
          61,
          61,
          61,
          61,
          61,
          61,
          61,
          61,
          61,
          61,
          61,
          61,
          61,
          61,
          61,
          61,
          61,
          61,
          61,
          61,
          61,
          61,
          61,
          61,
          61,
          61,
          61,
          61,
          61,
          61,
          61,
          61,
          61,
          61,
          61,
          61,
          61,
          61,
          61,
          61,
          61,
          61,
          61,
          61,
          61,
          61,
          61,
          61,
          61,
          61,
          61,
          61,
          61,
          61,
          61,
          61,
          61,
          61,
          61,
          61,
          61,
          61,
          61,
          61,
          61,
          61,
          61,
          61,
          61,
          61,
          61,
          61,
          61,
          61,
          61,
          61,
          61,
          61,
          61,
          61,
          61,
          61,
          61,
          61,
          61,
          61,
          61,
          61,
          61,
          61,
          61,
          61,
          61,
          63,
          63,
          63,
          63,
          63,
          63,
          63,
          63,
          63,
          63,
          63,
          63,
          63,
          63,
          63,
          63,
          63,
          63,
          63,
          63,
          63,
          63,
          63,
          63,
          63,
          63,
          63,
          63,
          63,
          63,
          63,
          63,
          63,
          63,
          63,
          63,
          63,
          63,
          63,
          63,
          63,
          63,
          63,
          63,
          63,
          63,
          63,
          63,
          63,
          63,
          63,
          63,
          63,
          63,
          63,
          63,
          63,
          63,
          63,
          63,
          63,
          63,
          63,
          63,
          63,
          63,
          63,
          63,
          63,
          63,
          63,
          63,
          63,
          63,
          63,
          63,
          63,
          63,
          63,
          63,
          63,
          63,
          63,
          63,
          63,
          63,
          63,
          63,
          63,
          63,
          63,
          63,
          63,
          63,
          63,
          63,
          63,
          63,
          63,
          63,
          63,
          63,
          63,
          63,
          63,
          63,
          63,
          63,
          63,
          63,
          63,
          63,
          63,
          63,
          63,
          63,
          63,
          63,
          63,
          63,
          63,
          63,
          63,
          63,
          63,
          63,
          63,
          63,
          63,
          63,
          63,
          63,
          63,
          63,
          63,
          63,
          63,
          63,
          63,
          63,
          63,
          63,
          63,
          63,
          63,
          63,
          63,
          63,
          63,
          63,
          63,
          63,
          63,
          63,
          63,
          63,
          63,
          63,
          63,
          63,
          63,
          63,
          63,
          63,
          63,
          63,
          63,
          63,
          63,
          63,
          63,
          63,
          63,
          63,
          63,
          63,
          63,
          63,
          63,
          63,
          63,
          63,
          63,
          63,
          63,
          63,
          63,
          63,
          63,
          63,
          63,
          63,
          63,
          63,
          63,
          63,
          63,
          63,
          63,
          63,
          63,
          63,
          63,
          63,
          63,
          63,
          63,
          63,
          63,
          63,
          63,
          63,
          63,
          63,
          63,
          63,
          63,
          63,
          63,
          63,
          63,
          63,
          63,
          63,
          63,
          63,
          63,
          63,
          63,
          63,
          63,
          63,
          63,
          63,
          63,
          63,
          63,
          63,
          63,
          63,
          63,
          63,
          63,
          63,
          63
         ],
         "yaxis": "y2"
        },
        {
         "line": {
          "color": "rgb(255, 127, 14)",
          "width": 2
         },
         "mode": "lines+markers",
         "name": "Empresas",
         "showlegend": true,
         "type": "scatter",
         "x": [
          "Enero",
          "Enero",
          "Enero",
          "Enero",
          "Enero",
          "Enero",
          "Enero",
          "Enero",
          "Enero",
          "Enero",
          "Enero",
          "Enero",
          "Enero",
          "Enero",
          "Enero",
          "Enero",
          "Enero",
          "Enero",
          "Enero",
          "Enero",
          "Enero",
          "Enero",
          "Enero",
          "Enero",
          "Enero",
          "Enero",
          "Enero",
          "Enero",
          "Enero",
          "Enero",
          "Febrero",
          "Febrero",
          "Febrero",
          "Febrero",
          "Febrero",
          "Febrero",
          "Febrero",
          "Febrero",
          "Febrero",
          "Febrero",
          "Febrero",
          "Febrero",
          "Febrero",
          "Febrero",
          "Febrero",
          "Febrero",
          "Febrero",
          "Febrero",
          "Febrero",
          "Febrero",
          "Febrero",
          "Febrero",
          "Febrero",
          "Febrero",
          "Febrero",
          "Febrero",
          "Febrero",
          "Febrero",
          "Febrero",
          "Marzo",
          "Marzo",
          "Marzo",
          "Marzo",
          "Marzo",
          "Marzo",
          "Marzo",
          "Marzo",
          "Marzo",
          "Marzo",
          "Marzo",
          "Marzo",
          "Marzo",
          "Marzo",
          "Marzo",
          "Marzo",
          "Marzo",
          "Marzo",
          "Marzo",
          "Marzo",
          "Marzo",
          "Marzo",
          "Marzo",
          "Marzo",
          "Marzo",
          "Marzo",
          "Marzo",
          "Marzo",
          "Marzo",
          "Marzo",
          "Marzo",
          "Abril",
          "Abril",
          "Abril",
          "Abril",
          "Abril",
          "Abril",
          "Abril",
          "Abril",
          "Abril",
          "Abril",
          "Abril",
          "Abril",
          "Abril",
          "Abril",
          "Abril",
          "Abril",
          "Abril",
          "Abril",
          "Abril",
          "Abril",
          "Abril",
          "Abril",
          "Abril",
          "Abril",
          "Abril",
          "Abril",
          "Abril",
          "Abril",
          "Abril",
          "Abril",
          "Mayo",
          "Mayo",
          "Mayo",
          "Mayo",
          "Mayo",
          "Mayo",
          "Mayo",
          "Mayo",
          "Mayo",
          "Mayo",
          "Mayo",
          "Mayo",
          "Mayo",
          "Mayo",
          "Mayo",
          "Mayo",
          "Mayo",
          "Mayo",
          "Mayo",
          "Mayo",
          "Mayo",
          "Mayo",
          "Mayo",
          "Mayo",
          "Mayo",
          "Mayo",
          "Mayo",
          "Mayo",
          "Mayo",
          "Mayo",
          "Mayo",
          "Junio",
          "Junio",
          "Junio",
          "Junio",
          "Junio",
          "Junio",
          "Junio",
          "Junio",
          "Junio",
          "Junio",
          "Junio",
          "Junio",
          "Junio",
          "Junio",
          "Junio",
          "Junio",
          "Junio",
          "Junio",
          "Junio",
          "Junio",
          "Junio",
          "Junio",
          "Junio",
          "Junio",
          "Junio",
          "Junio",
          "Junio",
          "Junio",
          "Junio",
          "Junio",
          "Julio",
          "Julio",
          "Julio",
          "Julio",
          "Julio",
          "Julio",
          "Julio",
          "Julio",
          "Julio",
          "Julio",
          "Julio",
          "Julio",
          "Julio",
          "Julio",
          "Julio",
          "Julio",
          "Julio",
          "Julio",
          "Julio",
          "Julio",
          "Julio",
          "Julio",
          "Julio",
          "Julio",
          "Julio",
          "Julio",
          "Julio",
          "Julio",
          "Julio",
          "Julio",
          "Julio",
          "Agosto",
          "Agosto",
          "Agosto",
          "Agosto",
          "Agosto",
          "Agosto",
          "Agosto",
          "Agosto",
          "Agosto",
          "Agosto",
          "Agosto",
          "Agosto",
          "Agosto",
          "Agosto",
          "Agosto",
          "Agosto",
          "Agosto",
          "Agosto",
          "Agosto",
          "Agosto",
          "Agosto",
          "Agosto",
          "Agosto",
          "Agosto",
          "Agosto",
          "Agosto",
          "Agosto",
          "Agosto",
          "Agosto",
          "Agosto",
          "Agosto",
          "Septiembre",
          "Septiembre",
          "Septiembre",
          "Septiembre",
          "Septiembre",
          "Septiembre",
          "Septiembre",
          "Septiembre",
          "Septiembre",
          "Septiembre",
          "Septiembre",
          "Septiembre",
          "Septiembre",
          "Septiembre",
          "Septiembre",
          "Septiembre",
          "Septiembre",
          "Septiembre",
          "Septiembre",
          "Septiembre",
          "Septiembre",
          "Septiembre",
          "Septiembre",
          "Septiembre",
          "Septiembre",
          "Septiembre",
          "Septiembre",
          "Septiembre",
          "Septiembre",
          "Septiembre",
          "Octubre",
          "Octubre",
          "Octubre",
          "Octubre",
          "Octubre",
          "Octubre",
          "Octubre",
          "Octubre",
          "Octubre",
          "Octubre",
          "Octubre",
          "Octubre",
          "Octubre",
          "Octubre",
          "Octubre",
          "Octubre",
          "Octubre",
          "Octubre",
          "Octubre",
          "Octubre",
          "Octubre",
          "Octubre",
          "Octubre",
          "Octubre",
          "Octubre",
          "Octubre",
          "Octubre",
          "Octubre",
          "Octubre",
          "Octubre",
          "Octubre",
          "Noviembre",
          "Noviembre",
          "Noviembre",
          "Noviembre",
          "Noviembre",
          "Noviembre",
          "Noviembre",
          "Noviembre",
          "Noviembre",
          "Noviembre",
          "Noviembre",
          "Noviembre",
          "Noviembre",
          "Noviembre",
          "Noviembre",
          "Noviembre",
          "Noviembre",
          "Noviembre",
          "Noviembre",
          "Noviembre",
          "Noviembre",
          "Noviembre",
          "Noviembre",
          "Noviembre",
          "Noviembre",
          "Noviembre",
          "Noviembre",
          "Noviembre",
          "Noviembre",
          "Noviembre",
          "Diciembre",
          "Diciembre",
          "Diciembre",
          "Diciembre",
          "Diciembre",
          "Diciembre",
          "Diciembre",
          "Diciembre",
          "Diciembre",
          "Diciembre",
          "Diciembre",
          "Diciembre",
          "Diciembre",
          "Diciembre",
          "Diciembre",
          "Diciembre",
          "Diciembre",
          "Diciembre",
          "Diciembre",
          "Diciembre",
          "Diciembre",
          "Diciembre",
          "Diciembre",
          "Diciembre",
          "Diciembre",
          "Diciembre",
          "Diciembre",
          "Diciembre",
          "Diciembre",
          "Diciembre",
          "Diciembre"
         ],
         "xaxis": "x3",
         "y": [
          53,
          53,
          53,
          53,
          53,
          53,
          53,
          53,
          53,
          53,
          53,
          53,
          53,
          53,
          53,
          53,
          53,
          53,
          53,
          53,
          53,
          53,
          53,
          53,
          53,
          53,
          53,
          53,
          53,
          53,
          53,
          53,
          53,
          53,
          53,
          53,
          53,
          53,
          53,
          53,
          53,
          53,
          53,
          53,
          53,
          53,
          53,
          53,
          53,
          53,
          53,
          53,
          53,
          53,
          53,
          53,
          53,
          53,
          53,
          54,
          54,
          54,
          54,
          54,
          54,
          54,
          54,
          54,
          54,
          54,
          54,
          54,
          54,
          54,
          54,
          54,
          54,
          54,
          54,
          54,
          54,
          54,
          54,
          54,
          54,
          54,
          54,
          54,
          54,
          54,
          54,
          54,
          54,
          54,
          54,
          54,
          54,
          54,
          54,
          54,
          54,
          54,
          54,
          54,
          54,
          54,
          54,
          54,
          54,
          54,
          54,
          54,
          54,
          54,
          54,
          54,
          54,
          54,
          54,
          54,
          56,
          56,
          56,
          56,
          56,
          56,
          56,
          56,
          56,
          56,
          56,
          56,
          56,
          56,
          56,
          56,
          56,
          56,
          56,
          56,
          56,
          56,
          56,
          56,
          56,
          56,
          56,
          56,
          56,
          56,
          56,
          57,
          57,
          57,
          57,
          57,
          57,
          57,
          57,
          57,
          57,
          57,
          57,
          57,
          57,
          57,
          57,
          57,
          57,
          57,
          57,
          57,
          57,
          57,
          57,
          57,
          57,
          57,
          57,
          57,
          57,
          58,
          58,
          58,
          58,
          58,
          58,
          58,
          58,
          58,
          58,
          58,
          58,
          58,
          58,
          58,
          58,
          58,
          58,
          58,
          58,
          58,
          58,
          58,
          58,
          58,
          58,
          58,
          58,
          58,
          58,
          58,
          58,
          58,
          58,
          58,
          58,
          58,
          58,
          58,
          58,
          58,
          58,
          58,
          58,
          58,
          58,
          58,
          58,
          58,
          58,
          58,
          58,
          58,
          58,
          58,
          58,
          58,
          58,
          58,
          58,
          58,
          58,
          58,
          58,
          58,
          58,
          58,
          58,
          58,
          58,
          58,
          58,
          58,
          58,
          58,
          58,
          58,
          58,
          58,
          58,
          58,
          58,
          58,
          58,
          58,
          58,
          58,
          58,
          58,
          58,
          58,
          58,
          58,
          58,
          58,
          58,
          58,
          58,
          58,
          58,
          58,
          58,
          58,
          58,
          58,
          58,
          58,
          58,
          58,
          58,
          58,
          58,
          58,
          58,
          58,
          58,
          58,
          58,
          58,
          58,
          58,
          58,
          58,
          58,
          58,
          58,
          58,
          58,
          58,
          58,
          58,
          58,
          58,
          58,
          58,
          58,
          58,
          58,
          58,
          58,
          58,
          58,
          58,
          58,
          58,
          58,
          58,
          58,
          58,
          58,
          58,
          58,
          58,
          58,
          58,
          58,
          58,
          58,
          58,
          58,
          58,
          58,
          58,
          58,
          58,
          58,
          58,
          58,
          58,
          58,
          58,
          58,
          58,
          58,
          58,
          58,
          58,
          58,
          58,
          58,
          58,
          58,
          58,
          58
         ],
         "yaxis": "y3"
        }
       ],
       "layout": {
        "annotations": [
         {
          "font": {
           "size": 16
          },
          "showarrow": false,
          "text": "Usuarios Particulares",
          "x": 0.5,
          "xanchor": "center",
          "xref": "paper",
          "y": 1,
          "yanchor": "bottom",
          "yref": "paper"
         },
         {
          "font": {
           "size": 16
          },
          "showarrow": false,
          "text": "Autónomos",
          "x": 0.5,
          "xanchor": "center",
          "xref": "paper",
          "y": 0.6266666666666667,
          "yanchor": "bottom",
          "yref": "paper"
         },
         {
          "font": {
           "size": 16
          },
          "showarrow": false,
          "text": "Empresas",
          "x": 0.5,
          "xanchor": "center",
          "xref": "paper",
          "y": 0.25333333333333335,
          "yanchor": "bottom",
          "yref": "paper"
         }
        ],
        "height": 900,
        "showlegend": true,
        "template": {
         "data": {
          "bar": [
           {
            "error_x": {
             "color": "#2a3f5f"
            },
            "error_y": {
             "color": "#2a3f5f"
            },
            "marker": {
             "line": {
              "color": "#E5ECF6",
              "width": 0.5
             },
             "pattern": {
              "fillmode": "overlay",
              "size": 10,
              "solidity": 0.2
             }
            },
            "type": "bar"
           }
          ],
          "barpolar": [
           {
            "marker": {
             "line": {
              "color": "#E5ECF6",
              "width": 0.5
             },
             "pattern": {
              "fillmode": "overlay",
              "size": 10,
              "solidity": 0.2
             }
            },
            "type": "barpolar"
           }
          ],
          "carpet": [
           {
            "aaxis": {
             "endlinecolor": "#2a3f5f",
             "gridcolor": "white",
             "linecolor": "white",
             "minorgridcolor": "white",
             "startlinecolor": "#2a3f5f"
            },
            "baxis": {
             "endlinecolor": "#2a3f5f",
             "gridcolor": "white",
             "linecolor": "white",
             "minorgridcolor": "white",
             "startlinecolor": "#2a3f5f"
            },
            "type": "carpet"
           }
          ],
          "choropleth": [
           {
            "colorbar": {
             "outlinewidth": 0,
             "ticks": ""
            },
            "type": "choropleth"
           }
          ],
          "contour": [
           {
            "colorbar": {
             "outlinewidth": 0,
             "ticks": ""
            },
            "colorscale": [
             [
              0,
              "#0d0887"
             ],
             [
              0.1111111111111111,
              "#46039f"
             ],
             [
              0.2222222222222222,
              "#7201a8"
             ],
             [
              0.3333333333333333,
              "#9c179e"
             ],
             [
              0.4444444444444444,
              "#bd3786"
             ],
             [
              0.5555555555555556,
              "#d8576b"
             ],
             [
              0.6666666666666666,
              "#ed7953"
             ],
             [
              0.7777777777777778,
              "#fb9f3a"
             ],
             [
              0.8888888888888888,
              "#fdca26"
             ],
             [
              1,
              "#f0f921"
             ]
            ],
            "type": "contour"
           }
          ],
          "contourcarpet": [
           {
            "colorbar": {
             "outlinewidth": 0,
             "ticks": ""
            },
            "type": "contourcarpet"
           }
          ],
          "heatmap": [
           {
            "colorbar": {
             "outlinewidth": 0,
             "ticks": ""
            },
            "colorscale": [
             [
              0,
              "#0d0887"
             ],
             [
              0.1111111111111111,
              "#46039f"
             ],
             [
              0.2222222222222222,
              "#7201a8"
             ],
             [
              0.3333333333333333,
              "#9c179e"
             ],
             [
              0.4444444444444444,
              "#bd3786"
             ],
             [
              0.5555555555555556,
              "#d8576b"
             ],
             [
              0.6666666666666666,
              "#ed7953"
             ],
             [
              0.7777777777777778,
              "#fb9f3a"
             ],
             [
              0.8888888888888888,
              "#fdca26"
             ],
             [
              1,
              "#f0f921"
             ]
            ],
            "type": "heatmap"
           }
          ],
          "heatmapgl": [
           {
            "colorbar": {
             "outlinewidth": 0,
             "ticks": ""
            },
            "colorscale": [
             [
              0,
              "#0d0887"
             ],
             [
              0.1111111111111111,
              "#46039f"
             ],
             [
              0.2222222222222222,
              "#7201a8"
             ],
             [
              0.3333333333333333,
              "#9c179e"
             ],
             [
              0.4444444444444444,
              "#bd3786"
             ],
             [
              0.5555555555555556,
              "#d8576b"
             ],
             [
              0.6666666666666666,
              "#ed7953"
             ],
             [
              0.7777777777777778,
              "#fb9f3a"
             ],
             [
              0.8888888888888888,
              "#fdca26"
             ],
             [
              1,
              "#f0f921"
             ]
            ],
            "type": "heatmapgl"
           }
          ],
          "histogram": [
           {
            "marker": {
             "pattern": {
              "fillmode": "overlay",
              "size": 10,
              "solidity": 0.2
             }
            },
            "type": "histogram"
           }
          ],
          "histogram2d": [
           {
            "colorbar": {
             "outlinewidth": 0,
             "ticks": ""
            },
            "colorscale": [
             [
              0,
              "#0d0887"
             ],
             [
              0.1111111111111111,
              "#46039f"
             ],
             [
              0.2222222222222222,
              "#7201a8"
             ],
             [
              0.3333333333333333,
              "#9c179e"
             ],
             [
              0.4444444444444444,
              "#bd3786"
             ],
             [
              0.5555555555555556,
              "#d8576b"
             ],
             [
              0.6666666666666666,
              "#ed7953"
             ],
             [
              0.7777777777777778,
              "#fb9f3a"
             ],
             [
              0.8888888888888888,
              "#fdca26"
             ],
             [
              1,
              "#f0f921"
             ]
            ],
            "type": "histogram2d"
           }
          ],
          "histogram2dcontour": [
           {
            "colorbar": {
             "outlinewidth": 0,
             "ticks": ""
            },
            "colorscale": [
             [
              0,
              "#0d0887"
             ],
             [
              0.1111111111111111,
              "#46039f"
             ],
             [
              0.2222222222222222,
              "#7201a8"
             ],
             [
              0.3333333333333333,
              "#9c179e"
             ],
             [
              0.4444444444444444,
              "#bd3786"
             ],
             [
              0.5555555555555556,
              "#d8576b"
             ],
             [
              0.6666666666666666,
              "#ed7953"
             ],
             [
              0.7777777777777778,
              "#fb9f3a"
             ],
             [
              0.8888888888888888,
              "#fdca26"
             ],
             [
              1,
              "#f0f921"
             ]
            ],
            "type": "histogram2dcontour"
           }
          ],
          "mesh3d": [
           {
            "colorbar": {
             "outlinewidth": 0,
             "ticks": ""
            },
            "type": "mesh3d"
           }
          ],
          "parcoords": [
           {
            "line": {
             "colorbar": {
              "outlinewidth": 0,
              "ticks": ""
             }
            },
            "type": "parcoords"
           }
          ],
          "pie": [
           {
            "automargin": true,
            "type": "pie"
           }
          ],
          "scatter": [
           {
            "fillpattern": {
             "fillmode": "overlay",
             "size": 10,
             "solidity": 0.2
            },
            "type": "scatter"
           }
          ],
          "scatter3d": [
           {
            "line": {
             "colorbar": {
              "outlinewidth": 0,
              "ticks": ""
             }
            },
            "marker": {
             "colorbar": {
              "outlinewidth": 0,
              "ticks": ""
             }
            },
            "type": "scatter3d"
           }
          ],
          "scattercarpet": [
           {
            "marker": {
             "colorbar": {
              "outlinewidth": 0,
              "ticks": ""
             }
            },
            "type": "scattercarpet"
           }
          ],
          "scattergeo": [
           {
            "marker": {
             "colorbar": {
              "outlinewidth": 0,
              "ticks": ""
             }
            },
            "type": "scattergeo"
           }
          ],
          "scattergl": [
           {
            "marker": {
             "colorbar": {
              "outlinewidth": 0,
              "ticks": ""
             }
            },
            "type": "scattergl"
           }
          ],
          "scattermapbox": [
           {
            "marker": {
             "colorbar": {
              "outlinewidth": 0,
              "ticks": ""
             }
            },
            "type": "scattermapbox"
           }
          ],
          "scatterpolar": [
           {
            "marker": {
             "colorbar": {
              "outlinewidth": 0,
              "ticks": ""
             }
            },
            "type": "scatterpolar"
           }
          ],
          "scatterpolargl": [
           {
            "marker": {
             "colorbar": {
              "outlinewidth": 0,
              "ticks": ""
             }
            },
            "type": "scatterpolargl"
           }
          ],
          "scatterternary": [
           {
            "marker": {
             "colorbar": {
              "outlinewidth": 0,
              "ticks": ""
             }
            },
            "type": "scatterternary"
           }
          ],
          "surface": [
           {
            "colorbar": {
             "outlinewidth": 0,
             "ticks": ""
            },
            "colorscale": [
             [
              0,
              "#0d0887"
             ],
             [
              0.1111111111111111,
              "#46039f"
             ],
             [
              0.2222222222222222,
              "#7201a8"
             ],
             [
              0.3333333333333333,
              "#9c179e"
             ],
             [
              0.4444444444444444,
              "#bd3786"
             ],
             [
              0.5555555555555556,
              "#d8576b"
             ],
             [
              0.6666666666666666,
              "#ed7953"
             ],
             [
              0.7777777777777778,
              "#fb9f3a"
             ],
             [
              0.8888888888888888,
              "#fdca26"
             ],
             [
              1,
              "#f0f921"
             ]
            ],
            "type": "surface"
           }
          ],
          "table": [
           {
            "cells": {
             "fill": {
              "color": "#EBF0F8"
             },
             "line": {
              "color": "white"
             }
            },
            "header": {
             "fill": {
              "color": "#C8D4E3"
             },
             "line": {
              "color": "white"
             }
            },
            "type": "table"
           }
          ]
         },
         "layout": {
          "annotationdefaults": {
           "arrowcolor": "#2a3f5f",
           "arrowhead": 0,
           "arrowwidth": 1
          },
          "autotypenumbers": "strict",
          "coloraxis": {
           "colorbar": {
            "outlinewidth": 0,
            "ticks": ""
           }
          },
          "colorscale": {
           "diverging": [
            [
             0,
             "#8e0152"
            ],
            [
             0.1,
             "#c51b7d"
            ],
            [
             0.2,
             "#de77ae"
            ],
            [
             0.3,
             "#f1b6da"
            ],
            [
             0.4,
             "#fde0ef"
            ],
            [
             0.5,
             "#f7f7f7"
            ],
            [
             0.6,
             "#e6f5d0"
            ],
            [
             0.7,
             "#b8e186"
            ],
            [
             0.8,
             "#7fbc41"
            ],
            [
             0.9,
             "#4d9221"
            ],
            [
             1,
             "#276419"
            ]
           ],
           "sequential": [
            [
             0,
             "#0d0887"
            ],
            [
             0.1111111111111111,
             "#46039f"
            ],
            [
             0.2222222222222222,
             "#7201a8"
            ],
            [
             0.3333333333333333,
             "#9c179e"
            ],
            [
             0.4444444444444444,
             "#bd3786"
            ],
            [
             0.5555555555555556,
             "#d8576b"
            ],
            [
             0.6666666666666666,
             "#ed7953"
            ],
            [
             0.7777777777777778,
             "#fb9f3a"
            ],
            [
             0.8888888888888888,
             "#fdca26"
            ],
            [
             1,
             "#f0f921"
            ]
           ],
           "sequentialminus": [
            [
             0,
             "#0d0887"
            ],
            [
             0.1111111111111111,
             "#46039f"
            ],
            [
             0.2222222222222222,
             "#7201a8"
            ],
            [
             0.3333333333333333,
             "#9c179e"
            ],
            [
             0.4444444444444444,
             "#bd3786"
            ],
            [
             0.5555555555555556,
             "#d8576b"
            ],
            [
             0.6666666666666666,
             "#ed7953"
            ],
            [
             0.7777777777777778,
             "#fb9f3a"
            ],
            [
             0.8888888888888888,
             "#fdca26"
            ],
            [
             1,
             "#f0f921"
            ]
           ]
          },
          "colorway": [
           "#636efa",
           "#EF553B",
           "#00cc96",
           "#ab63fa",
           "#FFA15A",
           "#19d3f3",
           "#FF6692",
           "#B6E880",
           "#FF97FF",
           "#FECB52"
          ],
          "font": {
           "color": "#2a3f5f"
          },
          "geo": {
           "bgcolor": "white",
           "lakecolor": "white",
           "landcolor": "#E5ECF6",
           "showlakes": true,
           "showland": true,
           "subunitcolor": "white"
          },
          "hoverlabel": {
           "align": "left"
          },
          "hovermode": "closest",
          "mapbox": {
           "style": "light"
          },
          "paper_bgcolor": "white",
          "plot_bgcolor": "#E5ECF6",
          "polar": {
           "angularaxis": {
            "gridcolor": "white",
            "linecolor": "white",
            "ticks": ""
           },
           "bgcolor": "#E5ECF6",
           "radialaxis": {
            "gridcolor": "white",
            "linecolor": "white",
            "ticks": ""
           }
          },
          "scene": {
           "xaxis": {
            "backgroundcolor": "#E5ECF6",
            "gridcolor": "white",
            "gridwidth": 2,
            "linecolor": "white",
            "showbackground": true,
            "ticks": "",
            "zerolinecolor": "white"
           },
           "yaxis": {
            "backgroundcolor": "#E5ECF6",
            "gridcolor": "white",
            "gridwidth": 2,
            "linecolor": "white",
            "showbackground": true,
            "ticks": "",
            "zerolinecolor": "white"
           },
           "zaxis": {
            "backgroundcolor": "#E5ECF6",
            "gridcolor": "white",
            "gridwidth": 2,
            "linecolor": "white",
            "showbackground": true,
            "ticks": "",
            "zerolinecolor": "white"
           }
          },
          "shapedefaults": {
           "line": {
            "color": "#2a3f5f"
           }
          },
          "ternary": {
           "aaxis": {
            "gridcolor": "white",
            "linecolor": "white",
            "ticks": ""
           },
           "baxis": {
            "gridcolor": "white",
            "linecolor": "white",
            "ticks": ""
           },
           "bgcolor": "#E5ECF6",
           "caxis": {
            "gridcolor": "white",
            "linecolor": "white",
            "ticks": ""
           }
          },
          "title": {
           "x": 0.05
          },
          "xaxis": {
           "automargin": true,
           "gridcolor": "white",
           "linecolor": "white",
           "ticks": "",
           "title": {
            "standoff": 15
           },
           "zerolinecolor": "white",
           "zerolinewidth": 2
          },
          "yaxis": {
           "automargin": true,
           "gridcolor": "white",
           "linecolor": "white",
           "ticks": "",
           "title": {
            "standoff": 15
           },
           "zerolinecolor": "white",
           "zerolinewidth": 2
          }
         }
        },
        "title": {
         "text": "Evolución de Usuarios Únicos por Tipo en Ekhilur 2024"
        },
        "xaxis": {
         "anchor": "y",
         "domain": [
          0,
          1
         ],
         "title": {
          "text": "Mes"
         }
        },
        "xaxis2": {
         "anchor": "y2",
         "domain": [
          0,
          1
         ],
         "title": {
          "text": "Mes"
         }
        },
        "xaxis3": {
         "anchor": "y3",
         "domain": [
          0,
          1
         ],
         "title": {
          "text": "Mes"
         }
        },
        "yaxis": {
         "anchor": "x",
         "domain": [
          0.7466666666666667,
          1
         ],
         "title": {
          "text": "Número de Usuarios"
         }
        },
        "yaxis2": {
         "anchor": "x2",
         "domain": [
          0.37333333333333335,
          0.6266666666666667
         ],
         "title": {
          "text": "Número de Usuarios"
         }
        },
        "yaxis3": {
         "anchor": "x3",
         "domain": [
          0,
          0.25333333333333335
         ],
         "title": {
          "text": "Número de Usuarios"
         }
        }
       }
      }
     },
     "metadata": {},
     "output_type": "display_data"
    },
    {
     "name": "stdout",
     "output_type": "stream",
     "text": [
      "\n",
      "Estadísticas de Usuarios Únicos por Tipo\n",
      "--------------------------------------------------\n",
      "\n",
      "Usuario:\n",
      "- Usuarios iniciales (Enero): 1175\n",
      "- Usuarios finales (Diciembre): 1240\n",
      "- Crecimiento absoluto: +65 usuarios\n",
      "- Crecimiento porcentual: +5.5%\n",
      "- Promedio diario: 226.7 usuarios\n",
      "\n",
      "Autonomo:\n",
      "- Usuarios iniciales (Enero): 61\n",
      "- Usuarios finales (Diciembre): 63\n",
      "- Crecimiento absoluto: +2 usuarios\n",
      "- Crecimiento porcentual: +3.3%\n",
      "- Promedio diario: 31.5 usuarios\n",
      "\n",
      "Empresa:\n",
      "- Usuarios iniciales (Enero): 54\n",
      "- Usuarios finales (Diciembre): 58\n",
      "- Crecimiento absoluto: +4 usuarios\n",
      "- Crecimiento porcentual: +7.4%\n",
      "- Promedio diario: 18.9 usuarios\n"
     ]
    }
   ],
   "source": [
    "query_usuarios_tipo = \"\"\"\n",
    "WITH usuarios_por_periodo AS (\n",
    "    -- Usuarios únicos por día y tipo\n",
    "    SELECT \n",
    "        f.Id_fecha,\n",
    "        SUBSTRING(f.Id_fecha, 1, 6) as año_mes,\n",
    "        du.Tipo_usuario,\n",
    "        COUNT(DISTINCT f.Usuario_emisor) as usuarios_unicos_dia\n",
    "    FROM fact_table f\n",
    "    JOIN dim_usuarios du ON f.Usuario_emisor = du.Id_usuario\n",
    "    WHERE SUBSTRING(f.Id_fecha, 1, 4) = '2024'\n",
    "    AND du.Tipo_usuario IN ('usuario', 'Empresa', 'autonomo')  -- Solo estos tres tipos\n",
    "    GROUP BY f.Id_fecha, SUBSTRING(f.Id_fecha, 1, 6), du.Tipo_usuario\n",
    "),\n",
    "usuarios_mensuales AS (\n",
    "    -- Usuarios únicos por mes y tipo\n",
    "    SELECT \n",
    "        SUBSTRING(f.Id_fecha, 1, 6) as año_mes,\n",
    "        du.Tipo_usuario,\n",
    "        COUNT(DISTINCT f.Usuario_emisor) as usuarios_unicos_mes\n",
    "    FROM fact_table f\n",
    "    JOIN dim_usuarios du ON f.Usuario_emisor = du.Id_usuario\n",
    "    WHERE SUBSTRING(f.Id_fecha, 1, 4) = '2024'\n",
    "    AND du.Tipo_usuario IN ('usuario', 'Empresa', 'autonomo')  -- Solo estos tres tipos\n",
    "    GROUP BY SUBSTRING(f.Id_fecha, 1, 6), du.Tipo_usuario\n",
    ")\n",
    "SELECT \n",
    "    u.Id_fecha,\n",
    "    u.año_mes,\n",
    "    CASE SUBSTRING(u.año_mes, 5, 2)\n",
    "        WHEN '01' THEN 'Enero'\n",
    "        WHEN '02' THEN 'Febrero'\n",
    "        WHEN '03' THEN 'Marzo'\n",
    "        WHEN '04' THEN 'Abril'\n",
    "        WHEN '05' THEN 'Mayo'\n",
    "        WHEN '06' THEN 'Junio'\n",
    "        WHEN '07' THEN 'Julio'\n",
    "        WHEN '08' THEN 'Agosto'\n",
    "        WHEN '09' THEN 'Septiembre'\n",
    "        WHEN '10' THEN 'Octubre'\n",
    "        WHEN '11' THEN 'Noviembre'\n",
    "        WHEN '12' THEN 'Diciembre'\n",
    "    END as mes,\n",
    "    u.Tipo_usuario,\n",
    "    u.usuarios_unicos_dia,\n",
    "    m.usuarios_unicos_mes\n",
    "FROM usuarios_por_periodo u\n",
    "JOIN usuarios_mensuales m ON u.año_mes = m.año_mes AND u.Tipo_usuario = m.Tipo_usuario\n",
    "ORDER BY u.Id_fecha, u.Tipo_usuario;\n",
    "\"\"\"\n",
    "\n",
    "# Ejecutar la consulta\n",
    "df_usuarios = ejecutar_query(query_usuarios_tipo)\n",
    "\n",
    "# Crear tres subplots separados\n",
    "fig = make_subplots(\n",
    "    rows=3, cols=1,\n",
    "    subplot_titles=(\n",
    "        'Usuarios Particulares',\n",
    "        'Autónomos',\n",
    "        'Empresas'\n",
    "    ),\n",
    "    vertical_spacing=0.12,\n",
    "    row_heights=[0.33, 0.33, 0.33]\n",
    ")\n",
    "\n",
    "# Colores para cada tipo de usuario\n",
    "colores = {\n",
    "    'usuario': 'rgb(31, 119, 180)',    # Azul\n",
    "    'autonomo': 'rgb(44, 160, 44)',    # Verde\n",
    "    'Empresa': 'rgb(255, 127, 14)'     # Naranja\n",
    "}\n",
    "\n",
    "# 1. Gráfico para usuarios particulares\n",
    "datos_usuarios = df_usuarios[df_usuarios['Tipo_usuario'] == 'usuario']\n",
    "fig.add_trace(\n",
    "    go.Scatter(\n",
    "        x=datos_usuarios['mes'],\n",
    "        y=datos_usuarios['usuarios_unicos_mes'],\n",
    "        mode='lines+markers',\n",
    "        name='Usuarios Particulares',\n",
    "        line=dict(color=colores['usuario'], width=2),\n",
    "        showlegend=True\n",
    "    ),\n",
    "    row=1, col=1\n",
    ")\n",
    "\n",
    "# 2. Gráfico para autónomos\n",
    "datos_autonomos = df_usuarios[df_usuarios['Tipo_usuario'] == 'autonomo']\n",
    "fig.add_trace(\n",
    "    go.Scatter(\n",
    "        x=datos_autonomos['mes'],\n",
    "        y=datos_autonomos['usuarios_unicos_mes'],\n",
    "        mode='lines+markers',\n",
    "        name='Autónomos',\n",
    "        line=dict(color=colores['autonomo'], width=2),\n",
    "        showlegend=True\n",
    "    ),\n",
    "    row=2, col=1\n",
    ")\n",
    "\n",
    "# 3. Gráfico para empresas\n",
    "datos_empresas = df_usuarios[df_usuarios['Tipo_usuario'] == 'Empresa']\n",
    "fig.add_trace(\n",
    "    go.Scatter(\n",
    "        x=datos_empresas['mes'],\n",
    "        y=datos_empresas['usuarios_unicos_mes'],\n",
    "        mode='lines+markers',\n",
    "        name='Empresas',\n",
    "        line=dict(color=colores['Empresa'], width=2),\n",
    "        showlegend=True\n",
    "    ),\n",
    "    row=3, col=1\n",
    ")\n",
    "\n",
    "# Actualizar diseño\n",
    "fig.update_layout(\n",
    "    height=900,\n",
    "    title_text='Evolución de Usuarios Únicos por Tipo en Ekhilur 2024',\n",
    "    showlegend=True\n",
    ")\n",
    "\n",
    "# Actualizar ejes\n",
    "for i in range(1, 4):\n",
    "    fig.update_xaxes(title_text=\"Mes\", row=i, col=1)\n",
    "    fig.update_yaxes(title_text=\"Número de Usuarios\", row=i, col=1)\n",
    "\n",
    "# Mostrar la figura\n",
    "fig.show()\n",
    "\n",
    "# Imprimir estadísticas\n",
    "print(\"\\nEstadísticas de Usuarios Únicos por Tipo\")\n",
    "print(\"-\" * 50)\n",
    "\n",
    "# Función para calcular el crecimiento\n",
    "def calcular_crecimiento(datos):\n",
    "    primer_mes = datos.iloc[0]\n",
    "    ultimo_mes = datos.iloc[-1]\n",
    "    crecimiento_abs = ultimo_mes - primer_mes\n",
    "    crecimiento_porc = (crecimiento_abs / primer_mes) * 100\n",
    "    return crecimiento_abs, crecimiento_porc\n",
    "\n",
    "# Estadísticas por tipo de usuario\n",
    "for tipo in ['usuario', 'autonomo', 'Empresa']:\n",
    "    datos_tipo = df_usuarios[df_usuarios['Tipo_usuario'] == tipo]\n",
    "    datos_mensuales = datos_tipo.groupby('mes')['usuarios_unicos_mes'].first()\n",
    "    \n",
    "    crecimiento_abs, crecimiento_porc = calcular_crecimiento(datos_mensuales)\n",
    "    \n",
    "    print(f\"\\n{tipo.capitalize()}:\")\n",
    "    print(f\"- Usuarios iniciales (Enero): {datos_mensuales.iloc[0]}\")\n",
    "    print(f\"- Usuarios finales (Diciembre): {datos_mensuales.iloc[-1]}\")\n",
    "    print(f\"- Crecimiento absoluto: {crecimiento_abs:+.0f} usuarios\")\n",
    "    print(f\"- Crecimiento porcentual: {crecimiento_porc:+.1f}%\")\n",
    "    print(f\"- Promedio diario: {datos_tipo['usuarios_unicos_dia'].mean():.1f} usuarios\")"
   ]
  },
  {
   "cell_type": "code",
   "execution_count": 13,
   "metadata": {},
   "outputs": [
    {
     "name": "stdout",
     "output_type": "stream",
     "text": [
      "Operaciones disponibles en la base de datos:\n",
      "----------------------------------------\n",
      "- Bonificación por compra\n",
      "- Cobro desde QR\n",
      "- Comisión por retirada\n",
      "- Conversión a €\n",
      "- Cuota de socio\n",
      "- Cuota mensual de socio\n",
      "- Cuota variable\n",
      "- Descuento automático\n",
      "- Donación\n",
      "- Pago a usuario\n",
      "- Recarga por tarjeta\n",
      "- Retirada a cuenta bancaria\n",
      "- Transferencia interna\n"
     ]
    },
    {
     "name": "stderr",
     "output_type": "stream",
     "text": [
      "C:\\Users\\mikel\\AppData\\Local\\Temp\\ipykernel_12748\\1450764005.py:22: UserWarning:\n",
      "\n",
      "pandas only supports SQLAlchemy connectable (engine/connection) or database string URI or sqlite3 DBAPI2 connection. Other DBAPI2 objects are not tested. Please consider using SQLAlchemy.\n",
      "\n"
     ]
    }
   ],
   "source": [
    "query_actividad = \"\"\"\n",
    "WITH actividad_diaria AS (\n",
    "    -- Actividad diaria: transacciones por usuario\n",
    "    SELECT \n",
    "        f.Id_fecha,\n",
    "        SUBSTRING(f.Id_fecha, 1, 6) as año_mes,\n",
    "        du.Tipo_usuario,\n",
    "        o.Operacion,\n",
    "        COUNT(DISTINCT f.Usuario_emisor) as usuarios_unicos,\n",
    "        COUNT(*) as num_transacciones,\n",
    "        ROUND(CAST(COUNT(*) AS FLOAT) / COUNT(DISTINCT f.Usuario_emisor), 2) as transacciones_por_usuario\n",
    "    FROM fact_table f\n",
    "    JOIN dim_usuarios du ON f.Usuario_emisor = du.Id_usuario\n",
    "    JOIN dim_operaciones o ON f.Id_tipo_operacion = o.Id_tipo_operacion\n",
    "    WHERE SUBSTRING(f.Id_fecha, 1, 4) = '2024'\n",
    "    AND du.Tipo_usuario IN ('usuario', 'Empresa', 'autonomo')\n",
    "    AND o.Operacion IN (\n",
    "        'Retirada',\n",
    "        'Recarga',\n",
    "        'Pago',\n",
    "        'Cobro'\n",
    "    )\n",
    "    GROUP BY f.Id_fecha, SUBSTRING(f.Id_fecha, 1, 6), du.Tipo_usuario, o.Operacion\n",
    "),\n",
    "actividad_mensual AS (\n",
    "    -- Actividad mensual: transacciones por usuario\n",
    "    SELECT \n",
    "        SUBSTRING(f.Id_fecha, 1, 6) as año_mes,\n",
    "        du.Tipo_usuario,\n",
    "        o.Operacion,\n",
    "        COUNT(DISTINCT f.Usuario_emisor) as usuarios_unicos_mes,\n",
    "        COUNT(*) as num_transacciones_mes,\n",
    "        ROUND(CAST(COUNT(*) AS FLOAT) / COUNT(DISTINCT f.Usuario_emisor), 2) as transacciones_por_usuario_mes\n",
    "    FROM fact_table f\n",
    "    JOIN dim_usuarios du ON f.Usuario_emisor = du.Id_usuario\n",
    "    JOIN dim_operaciones o ON f.Id_tipo_operacion = o.Id_tipo_operacion\n",
    "    WHERE SUBSTRING(f.Id_fecha, 1, 4) = '2024'\n",
    "    AND du.Tipo_usuario IN ('usuario', 'Empresa', 'autonomo')\n",
    "    AND o.Operacion IN (\n",
    "        'Retirada',\n",
    "        'Recarga',\n",
    "        'Pago',\n",
    "        'Cobro'\n",
    "    )\n",
    "    GROUP BY SUBSTRING(f.Id_fecha, 1, 6), du.Tipo_usuario, o.Operacion\n",
    ")\n",
    "SELECT DISTINCT o.Operacion\n",
    "FROM dim_operaciones o\n",
    "ORDER BY o.Operacion;\n",
    "\"\"\"\n",
    "\n",
    "# Ejecutar la consulta para ver qué operaciones existen\n",
    "df_operaciones = ejecutar_query(query_actividad)\n",
    "print(\"Operaciones disponibles en la base de datos:\")\n",
    "print(\"-\" * 40)\n",
    "for op in df_operaciones['Operacion']:\n",
    "    print(f\"- {op}\")"
   ]
  },
  {
   "cell_type": "code",
   "execution_count": 14,
   "metadata": {},
   "outputs": [
    {
     "name": "stderr",
     "output_type": "stream",
     "text": [
      "C:\\Users\\mikel\\AppData\\Local\\Temp\\ipykernel_12748\\1450764005.py:22: UserWarning:\n",
      "\n",
      "pandas only supports SQLAlchemy connectable (engine/connection) or database string URI or sqlite3 DBAPI2 connection. Other DBAPI2 objects are not tested. Please consider using SQLAlchemy.\n",
      "\n",
      "C:\\Users\\mikel\\AppData\\Roaming\\Python\\Python39\\site-packages\\_plotly_utils\\basevalidators.py:106: FutureWarning:\n",
      "\n",
      "The behavior of DatetimeProperties.to_pydatetime is deprecated, in a future version this will return a Series containing python datetime objects instead of an ndarray. To retain the old behavior, call `np.array` on the result\n",
      "\n"
     ]
    },
    {
     "data": {
      "application/vnd.plotly.v1+json": {
       "config": {
        "plotlyServerURL": "https://plot.ly"
       },
       "data": [
        {
         "line": {
          "color": "lightgray",
          "width": 1
         },
         "mode": "lines",
         "name": "Usuarios únicos diarios",
         "type": "scatter",
         "x": [
          "2024-01-01T00:00:00",
          "2024-01-02T00:00:00",
          "2024-01-03T00:00:00",
          "2024-01-04T00:00:00",
          "2024-01-05T00:00:00",
          "2024-01-06T00:00:00",
          "2024-01-07T00:00:00",
          "2024-01-08T00:00:00",
          "2024-01-09T00:00:00",
          "2024-01-10T00:00:00",
          "2024-01-11T00:00:00",
          "2024-01-12T00:00:00",
          "2024-01-13T00:00:00",
          "2024-01-14T00:00:00",
          "2024-01-15T00:00:00",
          "2024-01-16T00:00:00",
          "2024-01-17T00:00:00",
          "2024-01-18T00:00:00",
          "2024-01-19T00:00:00",
          "2024-01-20T00:00:00",
          "2024-01-21T00:00:00",
          "2024-01-22T00:00:00",
          "2024-01-23T00:00:00",
          "2024-01-24T00:00:00",
          "2024-01-25T00:00:00",
          "2024-01-26T00:00:00",
          "2024-01-27T00:00:00",
          "2024-01-28T00:00:00",
          "2024-01-29T00:00:00",
          "2024-01-30T00:00:00",
          "2024-01-31T00:00:00",
          "2024-02-01T00:00:00",
          "2024-02-02T00:00:00",
          "2024-02-03T00:00:00",
          "2024-02-04T00:00:00",
          "2024-02-05T00:00:00",
          "2024-02-06T00:00:00",
          "2024-02-07T00:00:00",
          "2024-02-08T00:00:00",
          "2024-02-09T00:00:00",
          "2024-02-10T00:00:00",
          "2024-02-11T00:00:00",
          "2024-02-12T00:00:00",
          "2024-02-13T00:00:00",
          "2024-02-14T00:00:00",
          "2024-02-15T00:00:00",
          "2024-02-16T00:00:00",
          "2024-02-17T00:00:00",
          "2024-02-18T00:00:00",
          "2024-02-19T00:00:00",
          "2024-02-20T00:00:00",
          "2024-02-21T00:00:00",
          "2024-02-22T00:00:00",
          "2024-02-23T00:00:00",
          "2024-02-24T00:00:00",
          "2024-02-25T00:00:00",
          "2024-02-26T00:00:00",
          "2024-02-27T00:00:00",
          "2024-02-28T00:00:00",
          "2024-02-29T00:00:00",
          "2024-03-01T00:00:00",
          "2024-03-02T00:00:00",
          "2024-03-03T00:00:00",
          "2024-03-04T00:00:00",
          "2024-03-05T00:00:00",
          "2024-03-06T00:00:00",
          "2024-03-07T00:00:00",
          "2024-03-08T00:00:00",
          "2024-03-09T00:00:00",
          "2024-03-10T00:00:00",
          "2024-03-11T00:00:00",
          "2024-03-12T00:00:00",
          "2024-03-13T00:00:00",
          "2024-03-14T00:00:00",
          "2024-03-15T00:00:00",
          "2024-03-16T00:00:00",
          "2024-03-17T00:00:00",
          "2024-03-18T00:00:00",
          "2024-03-19T00:00:00",
          "2024-03-20T00:00:00",
          "2024-03-21T00:00:00",
          "2024-03-22T00:00:00",
          "2024-03-23T00:00:00",
          "2024-03-24T00:00:00",
          "2024-03-25T00:00:00",
          "2024-03-26T00:00:00",
          "2024-03-27T00:00:00",
          "2024-03-28T00:00:00",
          "2024-03-29T00:00:00",
          "2024-03-30T00:00:00",
          "2024-03-31T00:00:00",
          "2024-04-01T00:00:00",
          "2024-04-02T00:00:00",
          "2024-04-03T00:00:00",
          "2024-04-04T00:00:00",
          "2024-04-05T00:00:00",
          "2024-04-06T00:00:00",
          "2024-04-07T00:00:00",
          "2024-04-08T00:00:00",
          "2024-04-09T00:00:00",
          "2024-04-10T00:00:00",
          "2024-04-11T00:00:00",
          "2024-04-12T00:00:00",
          "2024-04-13T00:00:00",
          "2024-04-14T00:00:00",
          "2024-04-15T00:00:00",
          "2024-04-16T00:00:00",
          "2024-04-17T00:00:00",
          "2024-04-18T00:00:00",
          "2024-04-19T00:00:00",
          "2024-04-20T00:00:00",
          "2024-04-21T00:00:00",
          "2024-04-22T00:00:00",
          "2024-04-23T00:00:00",
          "2024-04-24T00:00:00",
          "2024-04-25T00:00:00",
          "2024-04-26T00:00:00",
          "2024-04-27T00:00:00",
          "2024-04-28T00:00:00",
          "2024-04-29T00:00:00",
          "2024-04-30T00:00:00",
          "2024-05-01T00:00:00",
          "2024-05-02T00:00:00",
          "2024-05-03T00:00:00",
          "2024-05-04T00:00:00",
          "2024-05-05T00:00:00",
          "2024-05-06T00:00:00",
          "2024-05-07T00:00:00",
          "2024-05-08T00:00:00",
          "2024-05-09T00:00:00",
          "2024-05-10T00:00:00",
          "2024-05-11T00:00:00",
          "2024-05-12T00:00:00",
          "2024-05-13T00:00:00",
          "2024-05-14T00:00:00",
          "2024-05-15T00:00:00",
          "2024-05-16T00:00:00",
          "2024-05-17T00:00:00",
          "2024-05-18T00:00:00",
          "2024-05-19T00:00:00",
          "2024-05-20T00:00:00",
          "2024-05-21T00:00:00",
          "2024-05-22T00:00:00",
          "2024-05-23T00:00:00",
          "2024-05-24T00:00:00",
          "2024-05-25T00:00:00",
          "2024-05-26T00:00:00",
          "2024-05-27T00:00:00",
          "2024-05-28T00:00:00",
          "2024-05-29T00:00:00",
          "2024-05-30T00:00:00",
          "2024-05-31T00:00:00",
          "2024-06-01T00:00:00",
          "2024-06-02T00:00:00",
          "2024-06-03T00:00:00",
          "2024-06-04T00:00:00",
          "2024-06-05T00:00:00",
          "2024-06-06T00:00:00",
          "2024-06-07T00:00:00",
          "2024-06-08T00:00:00",
          "2024-06-09T00:00:00",
          "2024-06-10T00:00:00",
          "2024-06-11T00:00:00",
          "2024-06-12T00:00:00",
          "2024-06-13T00:00:00",
          "2024-06-14T00:00:00",
          "2024-06-15T00:00:00",
          "2024-06-16T00:00:00",
          "2024-06-17T00:00:00",
          "2024-06-18T00:00:00",
          "2024-06-19T00:00:00",
          "2024-06-20T00:00:00",
          "2024-06-21T00:00:00",
          "2024-06-22T00:00:00",
          "2024-06-23T00:00:00",
          "2024-06-24T00:00:00",
          "2024-06-25T00:00:00",
          "2024-06-26T00:00:00",
          "2024-06-27T00:00:00",
          "2024-06-28T00:00:00",
          "2024-06-29T00:00:00",
          "2024-06-30T00:00:00",
          "2024-07-01T00:00:00",
          "2024-07-02T00:00:00",
          "2024-07-03T00:00:00",
          "2024-07-04T00:00:00",
          "2024-07-05T00:00:00",
          "2024-07-06T00:00:00",
          "2024-07-07T00:00:00",
          "2024-07-08T00:00:00",
          "2024-07-09T00:00:00",
          "2024-07-10T00:00:00",
          "2024-07-11T00:00:00",
          "2024-07-12T00:00:00",
          "2024-07-13T00:00:00",
          "2024-07-14T00:00:00",
          "2024-07-15T00:00:00",
          "2024-07-16T00:00:00",
          "2024-07-17T00:00:00",
          "2024-07-18T00:00:00",
          "2024-07-19T00:00:00",
          "2024-07-20T00:00:00",
          "2024-07-21T00:00:00",
          "2024-07-22T00:00:00",
          "2024-07-23T00:00:00",
          "2024-07-24T00:00:00",
          "2024-07-25T00:00:00",
          "2024-07-26T00:00:00",
          "2024-07-27T00:00:00",
          "2024-07-28T00:00:00",
          "2024-07-29T00:00:00",
          "2024-07-30T00:00:00",
          "2024-07-31T00:00:00",
          "2024-08-01T00:00:00",
          "2024-08-02T00:00:00",
          "2024-08-03T00:00:00",
          "2024-08-04T00:00:00",
          "2024-08-05T00:00:00",
          "2024-08-06T00:00:00",
          "2024-08-07T00:00:00",
          "2024-08-08T00:00:00",
          "2024-08-09T00:00:00",
          "2024-08-10T00:00:00",
          "2024-08-11T00:00:00",
          "2024-08-12T00:00:00",
          "2024-08-13T00:00:00",
          "2024-08-14T00:00:00",
          "2024-08-15T00:00:00",
          "2024-08-16T00:00:00",
          "2024-08-17T00:00:00",
          "2024-08-18T00:00:00",
          "2024-08-19T00:00:00",
          "2024-08-20T00:00:00",
          "2024-08-21T00:00:00",
          "2024-08-22T00:00:00",
          "2024-08-23T00:00:00",
          "2024-08-24T00:00:00",
          "2024-08-25T00:00:00",
          "2024-08-26T00:00:00",
          "2024-08-27T00:00:00",
          "2024-08-28T00:00:00",
          "2024-08-29T00:00:00",
          "2024-08-30T00:00:00",
          "2024-08-31T00:00:00",
          "2024-09-01T00:00:00",
          "2024-09-02T00:00:00",
          "2024-09-03T00:00:00",
          "2024-09-04T00:00:00",
          "2024-09-05T00:00:00",
          "2024-09-06T00:00:00",
          "2024-09-07T00:00:00",
          "2024-09-08T00:00:00",
          "2024-09-09T00:00:00",
          "2024-09-10T00:00:00",
          "2024-09-11T00:00:00",
          "2024-09-12T00:00:00",
          "2024-09-13T00:00:00",
          "2024-09-14T00:00:00",
          "2024-09-15T00:00:00",
          "2024-09-16T00:00:00",
          "2024-09-17T00:00:00",
          "2024-09-18T00:00:00",
          "2024-09-19T00:00:00",
          "2024-09-20T00:00:00",
          "2024-09-21T00:00:00",
          "2024-09-22T00:00:00",
          "2024-09-23T00:00:00",
          "2024-09-24T00:00:00",
          "2024-09-25T00:00:00",
          "2024-09-26T00:00:00",
          "2024-09-27T00:00:00",
          "2024-09-28T00:00:00",
          "2024-09-29T00:00:00",
          "2024-09-30T00:00:00",
          "2024-10-01T00:00:00",
          "2024-10-02T00:00:00",
          "2024-10-03T00:00:00",
          "2024-10-04T00:00:00",
          "2024-10-05T00:00:00",
          "2024-10-06T00:00:00",
          "2024-10-07T00:00:00",
          "2024-10-08T00:00:00",
          "2024-10-09T00:00:00",
          "2024-10-10T00:00:00",
          "2024-10-11T00:00:00",
          "2024-10-12T00:00:00",
          "2024-10-13T00:00:00",
          "2024-10-14T00:00:00",
          "2024-10-15T00:00:00",
          "2024-10-16T00:00:00",
          "2024-10-17T00:00:00",
          "2024-10-18T00:00:00",
          "2024-10-19T00:00:00",
          "2024-10-20T00:00:00",
          "2024-10-21T00:00:00",
          "2024-10-22T00:00:00",
          "2024-10-23T00:00:00",
          "2024-10-24T00:00:00",
          "2024-10-25T00:00:00",
          "2024-10-26T00:00:00",
          "2024-10-27T00:00:00",
          "2024-10-28T00:00:00",
          "2024-10-29T00:00:00",
          "2024-10-30T00:00:00",
          "2024-10-31T00:00:00",
          "2024-11-01T00:00:00",
          "2024-11-02T00:00:00",
          "2024-11-03T00:00:00",
          "2024-11-04T00:00:00",
          "2024-11-05T00:00:00",
          "2024-11-06T00:00:00",
          "2024-11-07T00:00:00",
          "2024-11-08T00:00:00",
          "2024-11-09T00:00:00",
          "2024-11-10T00:00:00",
          "2024-11-11T00:00:00",
          "2024-11-12T00:00:00",
          "2024-11-13T00:00:00",
          "2024-11-14T00:00:00",
          "2024-11-15T00:00:00",
          "2024-11-16T00:00:00",
          "2024-11-17T00:00:00",
          "2024-11-18T00:00:00",
          "2024-11-19T00:00:00",
          "2024-11-20T00:00:00",
          "2024-11-21T00:00:00",
          "2024-11-22T00:00:00",
          "2024-11-23T00:00:00",
          "2024-11-24T00:00:00",
          "2024-11-25T00:00:00",
          "2024-11-26T00:00:00",
          "2024-11-27T00:00:00",
          "2024-11-28T00:00:00",
          "2024-11-29T00:00:00",
          "2024-11-30T00:00:00",
          "2024-12-01T00:00:00",
          "2024-12-02T00:00:00",
          "2024-12-03T00:00:00",
          "2024-12-04T00:00:00",
          "2024-12-05T00:00:00",
          "2024-12-06T00:00:00",
          "2024-12-07T00:00:00",
          "2024-12-08T00:00:00",
          "2024-12-09T00:00:00",
          "2024-12-10T00:00:00",
          "2024-12-11T00:00:00",
          "2024-12-12T00:00:00",
          "2024-12-13T00:00:00",
          "2024-12-14T00:00:00",
          "2024-12-15T00:00:00",
          "2024-12-16T00:00:00",
          "2024-12-17T00:00:00",
          "2024-12-18T00:00:00",
          "2024-12-19T00:00:00",
          "2024-12-20T00:00:00",
          "2024-12-21T00:00:00",
          "2024-12-22T00:00:00",
          "2024-12-23T00:00:00",
          "2024-12-24T00:00:00",
          "2024-12-25T00:00:00",
          "2024-12-26T00:00:00",
          "2024-12-27T00:00:00",
          "2024-12-28T00:00:00",
          "2024-12-29T00:00:00",
          "2024-12-30T00:00:00",
          "2024-12-31T00:00:00"
         ],
         "xaxis": "x",
         "y": [
          14,
          238,
          230,
          282,
          288,
          72,
          55,
          260,
          275,
          247,
          258,
          259,
          216,
          53,
          242,
          259,
          264,
          254,
          255,
          195,
          53,
          253,
          255,
          242,
          266,
          191,
          148,
          43,
          166,
          159,
          151,
          273,
          251,
          196,
          35,
          238,
          246,
          249,
          242,
          258,
          190,
          53,
          221,
          225,
          232,
          242,
          247,
          204,
          47,
          255,
          232,
          250,
          219,
          257,
          206,
          52,
          227,
          222,
          202,
          165,
          287,
          226,
          58,
          237,
          260,
          248,
          237,
          257,
          230,
          56,
          235,
          251,
          266,
          254,
          257,
          187,
          53,
          258,
          231,
          236,
          254,
          272,
          229,
          41,
          214,
          202,
          210,
          25,
          36,
          81,
          21,
          48,
          232,
          212,
          189,
          193,
          167,
          49,
          244,
          258,
          271,
          243,
          268,
          198,
          45,
          241,
          257,
          237,
          230,
          260,
          184,
          44,
          238,
          245,
          265,
          244,
          211,
          170,
          34,
          193,
          197,
          73,
          276,
          281,
          226,
          63,
          271,
          306,
          276,
          272,
          278,
          223,
          63,
          257,
          242,
          265,
          248,
          276,
          185,
          55,
          259,
          282,
          226,
          190,
          221,
          162,
          41,
          195,
          197,
          184,
          183,
          160,
          221,
          55,
          265,
          290,
          267,
          254,
          251,
          190,
          54,
          267,
          256,
          252,
          256,
          261,
          239,
          44,
          248,
          275,
          266,
          241,
          234,
          198,
          44,
          36,
          94,
          121,
          112,
          144,
          118,
          33,
          260,
          250,
          254,
          226,
          235,
          204,
          41,
          215,
          242,
          229,
          232,
          244,
          162,
          35,
          238,
          230,
          236,
          214,
          231,
          187,
          40,
          205,
          213,
          241,
          33,
          185,
          124,
          21,
          112,
          145,
          25,
          225,
          188,
          163,
          27,
          165,
          156,
          169,
          135,
          165,
          145,
          31,
          147,
          179,
          171,
          30,
          133,
          111,
          35,
          162,
          152,
          150,
          128,
          170,
          147,
          18,
          162,
          158,
          174,
          155,
          192,
          159,
          38,
          199,
          216,
          237,
          214,
          218,
          175,
          47,
          251,
          274,
          262,
          238,
          244,
          187,
          52,
          267,
          237,
          258,
          228,
          228,
          202,
          51,
          260,
          254,
          247,
          212,
          187,
          132,
          44,
          167,
          298,
          276,
          248,
          258,
          208,
          41,
          244,
          204,
          233,
          262,
          298,
          62,
          59,
          237,
          277,
          265,
          247,
          289,
          200,
          51,
          239,
          272,
          248,
          222,
          223,
          195,
          44,
          226,
          228,
          232,
          204,
          84,
          175,
          54,
          296,
          284,
          309,
          274,
          268,
          244,
          59,
          267,
          301,
          280,
          283,
          323,
          232,
          50,
          276,
          301,
          268,
          244,
          229,
          191,
          56,
          177,
          219,
          232,
          203,
          188,
          138,
          65,
          299,
          307,
          323,
          322,
          66,
          198,
          45,
          271,
          307,
          338,
          285,
          282,
          213,
          60,
          281,
          305,
          324,
          304,
          298,
          201,
          49,
          293,
          208,
          8,
          175,
          200,
          158,
          41,
          218,
          173
         ],
         "yaxis": "y"
        },
        {
         "line": {
          "color": "blue",
          "width": 2
         },
         "mode": "lines",
         "name": "Media móvil 14 días",
         "type": "scatter",
         "x": [
          "2024-01-01T00:00:00",
          "2024-01-02T00:00:00",
          "2024-01-03T00:00:00",
          "2024-01-04T00:00:00",
          "2024-01-05T00:00:00",
          "2024-01-06T00:00:00",
          "2024-01-07T00:00:00",
          "2024-01-08T00:00:00",
          "2024-01-09T00:00:00",
          "2024-01-10T00:00:00",
          "2024-01-11T00:00:00",
          "2024-01-12T00:00:00",
          "2024-01-13T00:00:00",
          "2024-01-14T00:00:00",
          "2024-01-15T00:00:00",
          "2024-01-16T00:00:00",
          "2024-01-17T00:00:00",
          "2024-01-18T00:00:00",
          "2024-01-19T00:00:00",
          "2024-01-20T00:00:00",
          "2024-01-21T00:00:00",
          "2024-01-22T00:00:00",
          "2024-01-23T00:00:00",
          "2024-01-24T00:00:00",
          "2024-01-25T00:00:00",
          "2024-01-26T00:00:00",
          "2024-01-27T00:00:00",
          "2024-01-28T00:00:00",
          "2024-01-29T00:00:00",
          "2024-01-30T00:00:00",
          "2024-01-31T00:00:00",
          "2024-02-01T00:00:00",
          "2024-02-02T00:00:00",
          "2024-02-03T00:00:00",
          "2024-02-04T00:00:00",
          "2024-02-05T00:00:00",
          "2024-02-06T00:00:00",
          "2024-02-07T00:00:00",
          "2024-02-08T00:00:00",
          "2024-02-09T00:00:00",
          "2024-02-10T00:00:00",
          "2024-02-11T00:00:00",
          "2024-02-12T00:00:00",
          "2024-02-13T00:00:00",
          "2024-02-14T00:00:00",
          "2024-02-15T00:00:00",
          "2024-02-16T00:00:00",
          "2024-02-17T00:00:00",
          "2024-02-18T00:00:00",
          "2024-02-19T00:00:00",
          "2024-02-20T00:00:00",
          "2024-02-21T00:00:00",
          "2024-02-22T00:00:00",
          "2024-02-23T00:00:00",
          "2024-02-24T00:00:00",
          "2024-02-25T00:00:00",
          "2024-02-26T00:00:00",
          "2024-02-27T00:00:00",
          "2024-02-28T00:00:00",
          "2024-02-29T00:00:00",
          "2024-03-01T00:00:00",
          "2024-03-02T00:00:00",
          "2024-03-03T00:00:00",
          "2024-03-04T00:00:00",
          "2024-03-05T00:00:00",
          "2024-03-06T00:00:00",
          "2024-03-07T00:00:00",
          "2024-03-08T00:00:00",
          "2024-03-09T00:00:00",
          "2024-03-10T00:00:00",
          "2024-03-11T00:00:00",
          "2024-03-12T00:00:00",
          "2024-03-13T00:00:00",
          "2024-03-14T00:00:00",
          "2024-03-15T00:00:00",
          "2024-03-16T00:00:00",
          "2024-03-17T00:00:00",
          "2024-03-18T00:00:00",
          "2024-03-19T00:00:00",
          "2024-03-20T00:00:00",
          "2024-03-21T00:00:00",
          "2024-03-22T00:00:00",
          "2024-03-23T00:00:00",
          "2024-03-24T00:00:00",
          "2024-03-25T00:00:00",
          "2024-03-26T00:00:00",
          "2024-03-27T00:00:00",
          "2024-03-28T00:00:00",
          "2024-03-29T00:00:00",
          "2024-03-30T00:00:00",
          "2024-03-31T00:00:00",
          "2024-04-01T00:00:00",
          "2024-04-02T00:00:00",
          "2024-04-03T00:00:00",
          "2024-04-04T00:00:00",
          "2024-04-05T00:00:00",
          "2024-04-06T00:00:00",
          "2024-04-07T00:00:00",
          "2024-04-08T00:00:00",
          "2024-04-09T00:00:00",
          "2024-04-10T00:00:00",
          "2024-04-11T00:00:00",
          "2024-04-12T00:00:00",
          "2024-04-13T00:00:00",
          "2024-04-14T00:00:00",
          "2024-04-15T00:00:00",
          "2024-04-16T00:00:00",
          "2024-04-17T00:00:00",
          "2024-04-18T00:00:00",
          "2024-04-19T00:00:00",
          "2024-04-20T00:00:00",
          "2024-04-21T00:00:00",
          "2024-04-22T00:00:00",
          "2024-04-23T00:00:00",
          "2024-04-24T00:00:00",
          "2024-04-25T00:00:00",
          "2024-04-26T00:00:00",
          "2024-04-27T00:00:00",
          "2024-04-28T00:00:00",
          "2024-04-29T00:00:00",
          "2024-04-30T00:00:00",
          "2024-05-01T00:00:00",
          "2024-05-02T00:00:00",
          "2024-05-03T00:00:00",
          "2024-05-04T00:00:00",
          "2024-05-05T00:00:00",
          "2024-05-06T00:00:00",
          "2024-05-07T00:00:00",
          "2024-05-08T00:00:00",
          "2024-05-09T00:00:00",
          "2024-05-10T00:00:00",
          "2024-05-11T00:00:00",
          "2024-05-12T00:00:00",
          "2024-05-13T00:00:00",
          "2024-05-14T00:00:00",
          "2024-05-15T00:00:00",
          "2024-05-16T00:00:00",
          "2024-05-17T00:00:00",
          "2024-05-18T00:00:00",
          "2024-05-19T00:00:00",
          "2024-05-20T00:00:00",
          "2024-05-21T00:00:00",
          "2024-05-22T00:00:00",
          "2024-05-23T00:00:00",
          "2024-05-24T00:00:00",
          "2024-05-25T00:00:00",
          "2024-05-26T00:00:00",
          "2024-05-27T00:00:00",
          "2024-05-28T00:00:00",
          "2024-05-29T00:00:00",
          "2024-05-30T00:00:00",
          "2024-05-31T00:00:00",
          "2024-06-01T00:00:00",
          "2024-06-02T00:00:00",
          "2024-06-03T00:00:00",
          "2024-06-04T00:00:00",
          "2024-06-05T00:00:00",
          "2024-06-06T00:00:00",
          "2024-06-07T00:00:00",
          "2024-06-08T00:00:00",
          "2024-06-09T00:00:00",
          "2024-06-10T00:00:00",
          "2024-06-11T00:00:00",
          "2024-06-12T00:00:00",
          "2024-06-13T00:00:00",
          "2024-06-14T00:00:00",
          "2024-06-15T00:00:00",
          "2024-06-16T00:00:00",
          "2024-06-17T00:00:00",
          "2024-06-18T00:00:00",
          "2024-06-19T00:00:00",
          "2024-06-20T00:00:00",
          "2024-06-21T00:00:00",
          "2024-06-22T00:00:00",
          "2024-06-23T00:00:00",
          "2024-06-24T00:00:00",
          "2024-06-25T00:00:00",
          "2024-06-26T00:00:00",
          "2024-06-27T00:00:00",
          "2024-06-28T00:00:00",
          "2024-06-29T00:00:00",
          "2024-06-30T00:00:00",
          "2024-07-01T00:00:00",
          "2024-07-02T00:00:00",
          "2024-07-03T00:00:00",
          "2024-07-04T00:00:00",
          "2024-07-05T00:00:00",
          "2024-07-06T00:00:00",
          "2024-07-07T00:00:00",
          "2024-07-08T00:00:00",
          "2024-07-09T00:00:00",
          "2024-07-10T00:00:00",
          "2024-07-11T00:00:00",
          "2024-07-12T00:00:00",
          "2024-07-13T00:00:00",
          "2024-07-14T00:00:00",
          "2024-07-15T00:00:00",
          "2024-07-16T00:00:00",
          "2024-07-17T00:00:00",
          "2024-07-18T00:00:00",
          "2024-07-19T00:00:00",
          "2024-07-20T00:00:00",
          "2024-07-21T00:00:00",
          "2024-07-22T00:00:00",
          "2024-07-23T00:00:00",
          "2024-07-24T00:00:00",
          "2024-07-25T00:00:00",
          "2024-07-26T00:00:00",
          "2024-07-27T00:00:00",
          "2024-07-28T00:00:00",
          "2024-07-29T00:00:00",
          "2024-07-30T00:00:00",
          "2024-07-31T00:00:00",
          "2024-08-01T00:00:00",
          "2024-08-02T00:00:00",
          "2024-08-03T00:00:00",
          "2024-08-04T00:00:00",
          "2024-08-05T00:00:00",
          "2024-08-06T00:00:00",
          "2024-08-07T00:00:00",
          "2024-08-08T00:00:00",
          "2024-08-09T00:00:00",
          "2024-08-10T00:00:00",
          "2024-08-11T00:00:00",
          "2024-08-12T00:00:00",
          "2024-08-13T00:00:00",
          "2024-08-14T00:00:00",
          "2024-08-15T00:00:00",
          "2024-08-16T00:00:00",
          "2024-08-17T00:00:00",
          "2024-08-18T00:00:00",
          "2024-08-19T00:00:00",
          "2024-08-20T00:00:00",
          "2024-08-21T00:00:00",
          "2024-08-22T00:00:00",
          "2024-08-23T00:00:00",
          "2024-08-24T00:00:00",
          "2024-08-25T00:00:00",
          "2024-08-26T00:00:00",
          "2024-08-27T00:00:00",
          "2024-08-28T00:00:00",
          "2024-08-29T00:00:00",
          "2024-08-30T00:00:00",
          "2024-08-31T00:00:00",
          "2024-09-01T00:00:00",
          "2024-09-02T00:00:00",
          "2024-09-03T00:00:00",
          "2024-09-04T00:00:00",
          "2024-09-05T00:00:00",
          "2024-09-06T00:00:00",
          "2024-09-07T00:00:00",
          "2024-09-08T00:00:00",
          "2024-09-09T00:00:00",
          "2024-09-10T00:00:00",
          "2024-09-11T00:00:00",
          "2024-09-12T00:00:00",
          "2024-09-13T00:00:00",
          "2024-09-14T00:00:00",
          "2024-09-15T00:00:00",
          "2024-09-16T00:00:00",
          "2024-09-17T00:00:00",
          "2024-09-18T00:00:00",
          "2024-09-19T00:00:00",
          "2024-09-20T00:00:00",
          "2024-09-21T00:00:00",
          "2024-09-22T00:00:00",
          "2024-09-23T00:00:00",
          "2024-09-24T00:00:00",
          "2024-09-25T00:00:00",
          "2024-09-26T00:00:00",
          "2024-09-27T00:00:00",
          "2024-09-28T00:00:00",
          "2024-09-29T00:00:00",
          "2024-09-30T00:00:00",
          "2024-10-01T00:00:00",
          "2024-10-02T00:00:00",
          "2024-10-03T00:00:00",
          "2024-10-04T00:00:00",
          "2024-10-05T00:00:00",
          "2024-10-06T00:00:00",
          "2024-10-07T00:00:00",
          "2024-10-08T00:00:00",
          "2024-10-09T00:00:00",
          "2024-10-10T00:00:00",
          "2024-10-11T00:00:00",
          "2024-10-12T00:00:00",
          "2024-10-13T00:00:00",
          "2024-10-14T00:00:00",
          "2024-10-15T00:00:00",
          "2024-10-16T00:00:00",
          "2024-10-17T00:00:00",
          "2024-10-18T00:00:00",
          "2024-10-19T00:00:00",
          "2024-10-20T00:00:00",
          "2024-10-21T00:00:00",
          "2024-10-22T00:00:00",
          "2024-10-23T00:00:00",
          "2024-10-24T00:00:00",
          "2024-10-25T00:00:00",
          "2024-10-26T00:00:00",
          "2024-10-27T00:00:00",
          "2024-10-28T00:00:00",
          "2024-10-29T00:00:00",
          "2024-10-30T00:00:00",
          "2024-10-31T00:00:00",
          "2024-11-01T00:00:00",
          "2024-11-02T00:00:00",
          "2024-11-03T00:00:00",
          "2024-11-04T00:00:00",
          "2024-11-05T00:00:00",
          "2024-11-06T00:00:00",
          "2024-11-07T00:00:00",
          "2024-11-08T00:00:00",
          "2024-11-09T00:00:00",
          "2024-11-10T00:00:00",
          "2024-11-11T00:00:00",
          "2024-11-12T00:00:00",
          "2024-11-13T00:00:00",
          "2024-11-14T00:00:00",
          "2024-11-15T00:00:00",
          "2024-11-16T00:00:00",
          "2024-11-17T00:00:00",
          "2024-11-18T00:00:00",
          "2024-11-19T00:00:00",
          "2024-11-20T00:00:00",
          "2024-11-21T00:00:00",
          "2024-11-22T00:00:00",
          "2024-11-23T00:00:00",
          "2024-11-24T00:00:00",
          "2024-11-25T00:00:00",
          "2024-11-26T00:00:00",
          "2024-11-27T00:00:00",
          "2024-11-28T00:00:00",
          "2024-11-29T00:00:00",
          "2024-11-30T00:00:00",
          "2024-12-01T00:00:00",
          "2024-12-02T00:00:00",
          "2024-12-03T00:00:00",
          "2024-12-04T00:00:00",
          "2024-12-05T00:00:00",
          "2024-12-06T00:00:00",
          "2024-12-07T00:00:00",
          "2024-12-08T00:00:00",
          "2024-12-09T00:00:00",
          "2024-12-10T00:00:00",
          "2024-12-11T00:00:00",
          "2024-12-12T00:00:00",
          "2024-12-13T00:00:00",
          "2024-12-14T00:00:00",
          "2024-12-15T00:00:00",
          "2024-12-16T00:00:00",
          "2024-12-17T00:00:00",
          "2024-12-18T00:00:00",
          "2024-12-19T00:00:00",
          "2024-12-20T00:00:00",
          "2024-12-21T00:00:00",
          "2024-12-22T00:00:00",
          "2024-12-23T00:00:00",
          "2024-12-24T00:00:00",
          "2024-12-25T00:00:00",
          "2024-12-26T00:00:00",
          "2024-12-27T00:00:00",
          "2024-12-28T00:00:00",
          "2024-12-29T00:00:00",
          "2024-12-30T00:00:00",
          "2024-12-31T00:00:00"
         ],
         "xaxis": "x",
         "y": [
          null,
          null,
          null,
          null,
          null,
          null,
          null,
          196.21428571428572,
          212.5,
          214,
          216.42857142857142,
          214.42857142857142,
          212.07142857142858,
          220.85714285714286,
          220.71428571428572,
          220.21428571428572,
          218.78571428571428,
          218.42857142857142,
          219,
          214.14285714285714,
          209.28571428571428,
          208.57142857142858,
          203.14285714285714,
          196,
          187.92857142857142,
          189.28571428571428,
          189,
          189.07142857142858,
          187.78571428571428,
          186.71428571428572,
          186.07142857142858,
          186.57142857142858,
          184.85714285714286,
          189.64285714285714,
          192.64285714285714,
          193.35714285714286,
          197.28571428571428,
          202,
          207.78571428571428,
          205.57142857142858,
          205.28571428571428,
          205.85714285714286,
          206.71428571428572,
          207.92857142857142,
          206.92857142857142,
          207,
          205.35714285714286,
          205.28571428571428,
          206.42857142857142,
          206.35714285714286,
          206.78571428571428,
          206.57142857142858,
          204.42857142857142,
          198.92857142857142,
          201.78571428571428,
          203.35714285714286,
          204.14285714285714,
          202.85714285714286,
          204.85714285714286,
          204.71428571428572,
          206,
          206,
          207.71428571428572,
          208,
          208.57142857142858,
          210.64285714285714,
          215.21428571428572,
          221.57142857142858,
          219.42857142857142,
          216.64285714285714,
          216.28571428571428,
          217.78571428571428,
          215.71428571428572,
          214.85714285714286,
          216.07142857142858,
          217.14285714285714,
          217.07142857142858,
          216,
          214.5,
          211,
          207,
          190.64285714285714,
          174.85714285714286,
          167.28571428571428,
          165,
          150,
          150.07142857142858,
          148.35714285714286,
          143.71428571428572,
          138.07142857142858,
          133.64285714285714,
          134.21428571428572,
          136.35714285714286,
          140.35714285714286,
          144.71428571428572,
          160.28571428571428,
          176.85714285714286,
          185.21428571428572,
          186.92857142857142,
          200.71428571428572,
          202.5,
          204.28571428571428,
          207.21428571428572,
          212,
          213.21428571428572,
          212.85714285714286,
          212.42857142857142,
          211.5,
          211.07142857142858,
          211.14285714285714,
          207.07142857142858,
          205.07142857142858,
          204.28571428571428,
          200.85714285714286,
          196.57142857142858,
          184.85714285714286,
          188.14285714285714,
          189.64285714285714,
          192.64285714285714,
          194,
          196.35714285714286,
          200.71428571428572,
          201.5,
          203.5,
          208.28571428571428,
          212.07142857142858,
          214.14285714285714,
          218.71428571428572,
          221.92857142857142,
          235.64285714285714,
          233.64285714285714,
          233.28571428571428,
          230.35714285714286,
          229.78571428571428,
          228.92857142857142,
          227.21428571428572,
          223.64285714285714,
          217.78571428571428,
          213.71428571428572,
          209.35714285714286,
          207.78571428571428,
          203.35714285714286,
          200.14285714285714,
          194.35714285714286,
          189.71428571428572,
          181.42857142857142,
          184,
          184,
          184.42857142857142,
          185,
          187.92857142857142,
          192.5,
          194.64285714285714,
          196.64285714285714,
          197.57142857142858,
          202.71428571428572,
          206.92857142857142,
          211.78571428571428,
          217,
          224.21428571428572,
          225.5,
          224.71428571428572,
          223.5,
          222.42857142857142,
          222.35714285714286,
          221.42857142857142,
          220.21428571428572,
          220.78571428571428,
          220.07142857142858,
          203.57142857142858,
          192,
          182.64285714285714,
          172.35714285714286,
          164,
          155.35714285714286,
          154.57142857142858,
          155.42857142857142,
          153.64285714285714,
          152.78571428571428,
          151.71428571428572,
          151.78571428571428,
          152.21428571428572,
          152,
          164.78571428571428,
          175.35714285714286,
          183.07142857142858,
          191.64285714285714,
          198.78571428571428,
          201.92857142857142,
          202.07142857142858,
          200.5,
          199.07142857142858,
          197.78571428571428,
          196.92857142857142,
          196.64285714285714,
          195.42857142857142,
          195.35714285714286,
          194.64285714285714,
          192.57142857142858,
          193.42857142857142,
          179.21428571428572,
          175,
          172.28571428571428,
          171.28571428571428,
          162.28571428571428,
          156.21428571428572,
          141.14285714285714,
          141.92857142857142,
          138.85714285714286,
          137.14285714285714,
          136.21428571428572,
          133.35714285714286,
          129.28571428571428,
          124.14285714285714,
          131.42857142857142,
          130,
          131.5,
          132.21428571428572,
          134.71428571428572,
          137.14285714285714,
          147.57142857142858,
          133.64285714285714,
          129.71428571428572,
          126,
          126.57142857142857,
          126.35714285714286,
          126.07142857142857,
          124.71428571428571,
          124.21428571428571,
          124.57142857142857,
          124.71428571428571,
          123.78571428571429,
          124.85714285714286,
          123.35714285714286,
          123.57142857142857,
          132.5,
          136.71428571428572,
          140.14285714285714,
          140.35714285714286,
          143,
          147.57142857142858,
          153.78571428571428,
          159.92857142857142,
          163.35714285714286,
          165.35714285714286,
          167.42857142857142,
          173.78571428571428,
          182.07142857142858,
          188.35714285714286,
          194.28571428571428,
          198,
          200,
          201,
          205.85714285714286,
          207.35714285714286,
          208.85714285714286,
          209.85714285714286,
          210.57142857142858,
          212.5,
          212.78571428571428,
          213.42857142857142,
          212,
          210.92857142857142,
          209.07142857142858,
          205,
          201.07142857142858,
          200.5,
          193.35714285714286,
          197.71428571428572,
          199,
          200.42857142857142,
          202.57142857142858,
          203,
          202.28571428571428,
          201.14285714285714,
          197.57142857142858,
          196.57142857142858,
          200.14285714285714,
          208.07142857142858,
          203.07142857142858,
          204.14285714285714,
          209.14285714285714,
          207.64285714285714,
          206.85714285714286,
          206.78571428571428,
          209,
          208.42857142857142,
          209.14285714285714,
          208.78571428571428,
          213.64285714285714,
          214.71428571428572,
          211.85714285714286,
          206.5,
          216,
          214.92857142857142,
          214.14285714285714,
          210.64285714285714,
          208.28571428571428,
          205.21428571428572,
          190.57142857142858,
          188.78571428571428,
          189,
          193.07142857142858,
          193.92857142857142,
          198.28571428571428,
          202,
          205.21428571428572,
          208.71428571428572,
          209.78571428571428,
          212.71428571428572,
          217.92857142857142,
          221.35714285714286,
          227,
          244.07142857142858,
          248.14285714285714,
          247.85714285714286,
          246.42857142857142,
          247.64285714285714,
          244.71428571428572,
          242.57142857142858,
          239.78571428571428,
          236,
          235.78571428571428,
          229.35714285714286,
          223.5,
          220.07142857142858,
          214.35714285714286,
          204.71428571428572,
          198,
          199.07142857142858,
          200.71428571428572,
          201.14285714285714,
          205.07142857142858,
          210.64285714285714,
          199,
          199.5,
          198.71428571428572,
          205.42857142857142,
          211.71428571428572,
          219.28571428571428,
          225.14285714285714,
          231.85714285714286,
          237.21428571428572,
          236.85714285714286,
          235.57142857142858,
          235.42857142857142,
          235.5,
          234.21428571428572,
          250.78571428571428,
          251,
          251.28571428571428,
          252.85714285714286,
          245.78571428571428,
          222.21428571428572,
          214.35714285714286,
          208.5,
          204.57142857142858,
          203.21428571428572,
          198.71428571428572,
          189.28571428571428,
          null,
          null,
          null,
          null,
          null,
          null
         ],
         "yaxis": "y"
        },
        {
         "line": {
          "color": "red",
          "width": 2
         },
         "mode": "lines",
         "name": "Media móvil 28 días",
         "type": "scatter",
         "x": [
          "2024-01-01T00:00:00",
          "2024-01-02T00:00:00",
          "2024-01-03T00:00:00",
          "2024-01-04T00:00:00",
          "2024-01-05T00:00:00",
          "2024-01-06T00:00:00",
          "2024-01-07T00:00:00",
          "2024-01-08T00:00:00",
          "2024-01-09T00:00:00",
          "2024-01-10T00:00:00",
          "2024-01-11T00:00:00",
          "2024-01-12T00:00:00",
          "2024-01-13T00:00:00",
          "2024-01-14T00:00:00",
          "2024-01-15T00:00:00",
          "2024-01-16T00:00:00",
          "2024-01-17T00:00:00",
          "2024-01-18T00:00:00",
          "2024-01-19T00:00:00",
          "2024-01-20T00:00:00",
          "2024-01-21T00:00:00",
          "2024-01-22T00:00:00",
          "2024-01-23T00:00:00",
          "2024-01-24T00:00:00",
          "2024-01-25T00:00:00",
          "2024-01-26T00:00:00",
          "2024-01-27T00:00:00",
          "2024-01-28T00:00:00",
          "2024-01-29T00:00:00",
          "2024-01-30T00:00:00",
          "2024-01-31T00:00:00",
          "2024-02-01T00:00:00",
          "2024-02-02T00:00:00",
          "2024-02-03T00:00:00",
          "2024-02-04T00:00:00",
          "2024-02-05T00:00:00",
          "2024-02-06T00:00:00",
          "2024-02-07T00:00:00",
          "2024-02-08T00:00:00",
          "2024-02-09T00:00:00",
          "2024-02-10T00:00:00",
          "2024-02-11T00:00:00",
          "2024-02-12T00:00:00",
          "2024-02-13T00:00:00",
          "2024-02-14T00:00:00",
          "2024-02-15T00:00:00",
          "2024-02-16T00:00:00",
          "2024-02-17T00:00:00",
          "2024-02-18T00:00:00",
          "2024-02-19T00:00:00",
          "2024-02-20T00:00:00",
          "2024-02-21T00:00:00",
          "2024-02-22T00:00:00",
          "2024-02-23T00:00:00",
          "2024-02-24T00:00:00",
          "2024-02-25T00:00:00",
          "2024-02-26T00:00:00",
          "2024-02-27T00:00:00",
          "2024-02-28T00:00:00",
          "2024-02-29T00:00:00",
          "2024-03-01T00:00:00",
          "2024-03-02T00:00:00",
          "2024-03-03T00:00:00",
          "2024-03-04T00:00:00",
          "2024-03-05T00:00:00",
          "2024-03-06T00:00:00",
          "2024-03-07T00:00:00",
          "2024-03-08T00:00:00",
          "2024-03-09T00:00:00",
          "2024-03-10T00:00:00",
          "2024-03-11T00:00:00",
          "2024-03-12T00:00:00",
          "2024-03-13T00:00:00",
          "2024-03-14T00:00:00",
          "2024-03-15T00:00:00",
          "2024-03-16T00:00:00",
          "2024-03-17T00:00:00",
          "2024-03-18T00:00:00",
          "2024-03-19T00:00:00",
          "2024-03-20T00:00:00",
          "2024-03-21T00:00:00",
          "2024-03-22T00:00:00",
          "2024-03-23T00:00:00",
          "2024-03-24T00:00:00",
          "2024-03-25T00:00:00",
          "2024-03-26T00:00:00",
          "2024-03-27T00:00:00",
          "2024-03-28T00:00:00",
          "2024-03-29T00:00:00",
          "2024-03-30T00:00:00",
          "2024-03-31T00:00:00",
          "2024-04-01T00:00:00",
          "2024-04-02T00:00:00",
          "2024-04-03T00:00:00",
          "2024-04-04T00:00:00",
          "2024-04-05T00:00:00",
          "2024-04-06T00:00:00",
          "2024-04-07T00:00:00",
          "2024-04-08T00:00:00",
          "2024-04-09T00:00:00",
          "2024-04-10T00:00:00",
          "2024-04-11T00:00:00",
          "2024-04-12T00:00:00",
          "2024-04-13T00:00:00",
          "2024-04-14T00:00:00",
          "2024-04-15T00:00:00",
          "2024-04-16T00:00:00",
          "2024-04-17T00:00:00",
          "2024-04-18T00:00:00",
          "2024-04-19T00:00:00",
          "2024-04-20T00:00:00",
          "2024-04-21T00:00:00",
          "2024-04-22T00:00:00",
          "2024-04-23T00:00:00",
          "2024-04-24T00:00:00",
          "2024-04-25T00:00:00",
          "2024-04-26T00:00:00",
          "2024-04-27T00:00:00",
          "2024-04-28T00:00:00",
          "2024-04-29T00:00:00",
          "2024-04-30T00:00:00",
          "2024-05-01T00:00:00",
          "2024-05-02T00:00:00",
          "2024-05-03T00:00:00",
          "2024-05-04T00:00:00",
          "2024-05-05T00:00:00",
          "2024-05-06T00:00:00",
          "2024-05-07T00:00:00",
          "2024-05-08T00:00:00",
          "2024-05-09T00:00:00",
          "2024-05-10T00:00:00",
          "2024-05-11T00:00:00",
          "2024-05-12T00:00:00",
          "2024-05-13T00:00:00",
          "2024-05-14T00:00:00",
          "2024-05-15T00:00:00",
          "2024-05-16T00:00:00",
          "2024-05-17T00:00:00",
          "2024-05-18T00:00:00",
          "2024-05-19T00:00:00",
          "2024-05-20T00:00:00",
          "2024-05-21T00:00:00",
          "2024-05-22T00:00:00",
          "2024-05-23T00:00:00",
          "2024-05-24T00:00:00",
          "2024-05-25T00:00:00",
          "2024-05-26T00:00:00",
          "2024-05-27T00:00:00",
          "2024-05-28T00:00:00",
          "2024-05-29T00:00:00",
          "2024-05-30T00:00:00",
          "2024-05-31T00:00:00",
          "2024-06-01T00:00:00",
          "2024-06-02T00:00:00",
          "2024-06-03T00:00:00",
          "2024-06-04T00:00:00",
          "2024-06-05T00:00:00",
          "2024-06-06T00:00:00",
          "2024-06-07T00:00:00",
          "2024-06-08T00:00:00",
          "2024-06-09T00:00:00",
          "2024-06-10T00:00:00",
          "2024-06-11T00:00:00",
          "2024-06-12T00:00:00",
          "2024-06-13T00:00:00",
          "2024-06-14T00:00:00",
          "2024-06-15T00:00:00",
          "2024-06-16T00:00:00",
          "2024-06-17T00:00:00",
          "2024-06-18T00:00:00",
          "2024-06-19T00:00:00",
          "2024-06-20T00:00:00",
          "2024-06-21T00:00:00",
          "2024-06-22T00:00:00",
          "2024-06-23T00:00:00",
          "2024-06-24T00:00:00",
          "2024-06-25T00:00:00",
          "2024-06-26T00:00:00",
          "2024-06-27T00:00:00",
          "2024-06-28T00:00:00",
          "2024-06-29T00:00:00",
          "2024-06-30T00:00:00",
          "2024-07-01T00:00:00",
          "2024-07-02T00:00:00",
          "2024-07-03T00:00:00",
          "2024-07-04T00:00:00",
          "2024-07-05T00:00:00",
          "2024-07-06T00:00:00",
          "2024-07-07T00:00:00",
          "2024-07-08T00:00:00",
          "2024-07-09T00:00:00",
          "2024-07-10T00:00:00",
          "2024-07-11T00:00:00",
          "2024-07-12T00:00:00",
          "2024-07-13T00:00:00",
          "2024-07-14T00:00:00",
          "2024-07-15T00:00:00",
          "2024-07-16T00:00:00",
          "2024-07-17T00:00:00",
          "2024-07-18T00:00:00",
          "2024-07-19T00:00:00",
          "2024-07-20T00:00:00",
          "2024-07-21T00:00:00",
          "2024-07-22T00:00:00",
          "2024-07-23T00:00:00",
          "2024-07-24T00:00:00",
          "2024-07-25T00:00:00",
          "2024-07-26T00:00:00",
          "2024-07-27T00:00:00",
          "2024-07-28T00:00:00",
          "2024-07-29T00:00:00",
          "2024-07-30T00:00:00",
          "2024-07-31T00:00:00",
          "2024-08-01T00:00:00",
          "2024-08-02T00:00:00",
          "2024-08-03T00:00:00",
          "2024-08-04T00:00:00",
          "2024-08-05T00:00:00",
          "2024-08-06T00:00:00",
          "2024-08-07T00:00:00",
          "2024-08-08T00:00:00",
          "2024-08-09T00:00:00",
          "2024-08-10T00:00:00",
          "2024-08-11T00:00:00",
          "2024-08-12T00:00:00",
          "2024-08-13T00:00:00",
          "2024-08-14T00:00:00",
          "2024-08-15T00:00:00",
          "2024-08-16T00:00:00",
          "2024-08-17T00:00:00",
          "2024-08-18T00:00:00",
          "2024-08-19T00:00:00",
          "2024-08-20T00:00:00",
          "2024-08-21T00:00:00",
          "2024-08-22T00:00:00",
          "2024-08-23T00:00:00",
          "2024-08-24T00:00:00",
          "2024-08-25T00:00:00",
          "2024-08-26T00:00:00",
          "2024-08-27T00:00:00",
          "2024-08-28T00:00:00",
          "2024-08-29T00:00:00",
          "2024-08-30T00:00:00",
          "2024-08-31T00:00:00",
          "2024-09-01T00:00:00",
          "2024-09-02T00:00:00",
          "2024-09-03T00:00:00",
          "2024-09-04T00:00:00",
          "2024-09-05T00:00:00",
          "2024-09-06T00:00:00",
          "2024-09-07T00:00:00",
          "2024-09-08T00:00:00",
          "2024-09-09T00:00:00",
          "2024-09-10T00:00:00",
          "2024-09-11T00:00:00",
          "2024-09-12T00:00:00",
          "2024-09-13T00:00:00",
          "2024-09-14T00:00:00",
          "2024-09-15T00:00:00",
          "2024-09-16T00:00:00",
          "2024-09-17T00:00:00",
          "2024-09-18T00:00:00",
          "2024-09-19T00:00:00",
          "2024-09-20T00:00:00",
          "2024-09-21T00:00:00",
          "2024-09-22T00:00:00",
          "2024-09-23T00:00:00",
          "2024-09-24T00:00:00",
          "2024-09-25T00:00:00",
          "2024-09-26T00:00:00",
          "2024-09-27T00:00:00",
          "2024-09-28T00:00:00",
          "2024-09-29T00:00:00",
          "2024-09-30T00:00:00",
          "2024-10-01T00:00:00",
          "2024-10-02T00:00:00",
          "2024-10-03T00:00:00",
          "2024-10-04T00:00:00",
          "2024-10-05T00:00:00",
          "2024-10-06T00:00:00",
          "2024-10-07T00:00:00",
          "2024-10-08T00:00:00",
          "2024-10-09T00:00:00",
          "2024-10-10T00:00:00",
          "2024-10-11T00:00:00",
          "2024-10-12T00:00:00",
          "2024-10-13T00:00:00",
          "2024-10-14T00:00:00",
          "2024-10-15T00:00:00",
          "2024-10-16T00:00:00",
          "2024-10-17T00:00:00",
          "2024-10-18T00:00:00",
          "2024-10-19T00:00:00",
          "2024-10-20T00:00:00",
          "2024-10-21T00:00:00",
          "2024-10-22T00:00:00",
          "2024-10-23T00:00:00",
          "2024-10-24T00:00:00",
          "2024-10-25T00:00:00",
          "2024-10-26T00:00:00",
          "2024-10-27T00:00:00",
          "2024-10-28T00:00:00",
          "2024-10-29T00:00:00",
          "2024-10-30T00:00:00",
          "2024-10-31T00:00:00",
          "2024-11-01T00:00:00",
          "2024-11-02T00:00:00",
          "2024-11-03T00:00:00",
          "2024-11-04T00:00:00",
          "2024-11-05T00:00:00",
          "2024-11-06T00:00:00",
          "2024-11-07T00:00:00",
          "2024-11-08T00:00:00",
          "2024-11-09T00:00:00",
          "2024-11-10T00:00:00",
          "2024-11-11T00:00:00",
          "2024-11-12T00:00:00",
          "2024-11-13T00:00:00",
          "2024-11-14T00:00:00",
          "2024-11-15T00:00:00",
          "2024-11-16T00:00:00",
          "2024-11-17T00:00:00",
          "2024-11-18T00:00:00",
          "2024-11-19T00:00:00",
          "2024-11-20T00:00:00",
          "2024-11-21T00:00:00",
          "2024-11-22T00:00:00",
          "2024-11-23T00:00:00",
          "2024-11-24T00:00:00",
          "2024-11-25T00:00:00",
          "2024-11-26T00:00:00",
          "2024-11-27T00:00:00",
          "2024-11-28T00:00:00",
          "2024-11-29T00:00:00",
          "2024-11-30T00:00:00",
          "2024-12-01T00:00:00",
          "2024-12-02T00:00:00",
          "2024-12-03T00:00:00",
          "2024-12-04T00:00:00",
          "2024-12-05T00:00:00",
          "2024-12-06T00:00:00",
          "2024-12-07T00:00:00",
          "2024-12-08T00:00:00",
          "2024-12-09T00:00:00",
          "2024-12-10T00:00:00",
          "2024-12-11T00:00:00",
          "2024-12-12T00:00:00",
          "2024-12-13T00:00:00",
          "2024-12-14T00:00:00",
          "2024-12-15T00:00:00",
          "2024-12-16T00:00:00",
          "2024-12-17T00:00:00",
          "2024-12-18T00:00:00",
          "2024-12-19T00:00:00",
          "2024-12-20T00:00:00",
          "2024-12-21T00:00:00",
          "2024-12-22T00:00:00",
          "2024-12-23T00:00:00",
          "2024-12-24T00:00:00",
          "2024-12-25T00:00:00",
          "2024-12-26T00:00:00",
          "2024-12-27T00:00:00",
          "2024-12-28T00:00:00",
          "2024-12-29T00:00:00",
          "2024-12-30T00:00:00",
          "2024-12-31T00:00:00"
         ],
         "xaxis": "x",
         "y": [
          null,
          null,
          null,
          null,
          null,
          null,
          null,
          null,
          null,
          null,
          null,
          null,
          null,
          null,
          202.39285714285714,
          207.82142857142858,
          205,
          202.17857142857142,
          201.85714285714286,
          200.53571428571428,
          204.96428571428572,
          204.25,
          203.46428571428572,
          202.42857142857142,
          202.5,
          201.92857142857142,
          201.89285714285714,
          200.96428571428572,
          200.96428571428572,
          200.21428571428572,
          199,
          197.85714285714286,
          197.42857142857142,
          197.14285714285714,
          197.46428571428572,
          197.25,
          197.32142857142858,
          196.5,
          196.78571428571428,
          195.10714285714286,
          197.46428571428572,
          199.53571428571428,
          199.85714285714286,
          202.03571428571428,
          204.28571428571428,
          206.10714285714286,
          202.25,
          203.53571428571428,
          204.60714285714286,
          205.42857142857142,
          205.39285714285714,
          205.89285714285714,
          205.85714285714286,
          205.67857142857142,
          205.64285714285714,
          207.07142857142858,
          207.17857142857142,
          207.67857142857142,
          208.60714285714286,
          209.82142857142858,
          210.25,
          210.60714285714286,
          210,
          210.21428571428572,
          210.32142857142858,
          210.28571428571428,
          209.78571428571428,
          211.03571428571428,
          211.57142857142858,
          212.39285714285714,
          212,
          211.53571428571428,
          210.82142857142858,
          211.10714285714286,
          206.10714285714286,
          197.14285714285714,
          191.96428571428572,
          190.64285714285714,
          183.89285714285714,
          182.89285714285714,
          181.60714285714286,
          179.89285714285714,
          177.60714285714286,
          175.35714285714286,
          175.10714285714286,
          175.42857142857142,
          175.67857142857142,
          175.85714285714286,
          175.46428571428572,
          175.85714285714286,
          176.25,
          175.96428571428572,
          175.35714285714286,
          176.28571428571428,
          176.32142857142858,
          175.46428571428572,
          175.03571428571428,
          173.42857142857142,
          173.53571428571428,
          174.39285714285714,
          175.92857142857142,
          177.89285714285714,
          185.71428571428572,
          191.96428571428572,
          195.14285714285714,
          195.60714285714286,
          200.78571428571428,
          199.53571428571428,
          194.57142857142858,
          197.67857142857142,
          200.82142857142858,
          202.92857142857142,
          203.42857142857142,
          204.39285714285714,
          206.10714285714286,
          206.28571428571428,
          207.32142857142858,
          207.67857142857142,
          208.57142857142858,
          209.21428571428572,
          209.78571428571428,
          209.25,
          210.25,
          210.89285714285714,
          211.46428571428572,
          211.5,
          211.89285714285714,
          212.64285714285714,
          213.96428571428572,
          212.57142857142858,
          210.64285714285714,
          211,
          210.71428571428572,
          210.96428571428572,
          211.03571428571428,
          211.03571428571428,
          215,
          211.67857142857142,
          207.35714285714286,
          207.17857142857142,
          206.89285714285714,
          206.67857142857142,
          206.10714285714286,
          205.78571428571428,
          205.14285714285714,
          204.17857142857142,
          203,
          202.67857142857142,
          203.03571428571428,
          203.53571428571428,
          203.07142857142858,
          203.35714285714286,
          202.82142857142858,
          204.75,
          204.35714285714286,
          203.96428571428572,
          203.71428571428572,
          205.14285714285714,
          206.96428571428572,
          207.42857142857142,
          208.71428571428572,
          208.82142857142858,
          203.14285714285714,
          199.46428571428572,
          197.21428571428572,
          194.67857142857142,
          194.10714285714286,
          190.42857142857142,
          189.64285714285714,
          189.46428571428572,
          188.03571428571428,
          187.57142857142858,
          186.57142857142858,
          186,
          186.5,
          186.03571428571428,
          184.17857142857142,
          183.67857142857142,
          182.85714285714286,
          182,
          181.39285714285714,
          178.64285714285714,
          178.32142857142858,
          177.96428571428572,
          176.35714285714286,
          175.28571428571428,
          174.32142857142858,
          174.21428571428572,
          173.82142857142858,
          173.67857142857142,
          179.71428571428572,
          183.96428571428572,
          188.25,
          185.42857142857142,
          186.89285714285714,
          187.10714285714286,
          186.67857142857142,
          181.39285714285714,
          177.64285714285714,
          169.46428571428572,
          169.42857142857142,
          167.75,
          166.28571428571428,
          165.78571428571428,
          164,
          160.92857142857142,
          158.78571428571428,
          155.32142857142858,
          152.5,
          151.89285714285714,
          151.75,
          148.5,
          146.67857142857142,
          144.35714285714286,
          137.78571428571428,
          134.28571428571428,
          131.57142857142858,
          131.39285714285714,
          129.85714285714286,
          127.67857142857143,
          124.42857142857143,
          127.82142857142857,
          127.28571428571429,
          128.10714285714286,
          128,
          129.78571428571428,
          130.25,
          135.57142857142858,
          133.07142857142858,
          133.21428571428572,
          133.07142857142858,
          133.46428571428572,
          134.67857142857142,
          136.82142857142858,
          139.25,
          142.07142857142858,
          143.96428571428572,
          145.03571428571428,
          145.60714285714286,
          149.32142857142858,
          152.71428571428572,
          155.96428571428572,
          163.39285714285714,
          167.35714285714286,
          170.07142857142858,
          170.67857142857142,
          174.42857142857142,
          177.46428571428572,
          181.32142857142858,
          184.89285714285714,
          186.96428571428572,
          188.92857142857142,
          190.10714285714286,
          193.60714285714286,
          197.03571428571428,
          199.64285714285714,
          201.67857142857142,
          201.5,
          200.53571428571428,
          200.75,
          199.60714285714286,
          202.53571428571428,
          203.92857142857142,
          205.14285714285714,
          206.57142857142858,
          207.75,
          207.53571428571428,
          207.28571428571428,
          204.78571428571428,
          203.75,
          204.60714285714286,
          206.53571428571428,
          202.07142857142858,
          202.32142857142858,
          201.25,
          202.67857142857142,
          202.92857142857142,
          203.60714285714286,
          205.78571428571428,
          205.71428571428572,
          205.71428571428572,
          204.96428571428572,
          205.60714285714286,
          205.64285714285714,
          206,
          207.28571428571428,
          209.53571428571428,
          209.53571428571428,
          211.64285714285714,
          209.14285714285714,
          207.57142857142858,
          206,
          199.78571428571428,
          198.60714285714286,
          199.07142857142858,
          200.92857142857142,
          203.78571428571428,
          206.5,
          206.92857142857142,
          205.85714285714286,
          212.35714285714286,
          212.35714285714286,
          213.42857142857142,
          214.28571428571428,
          214.82142857142858,
          216.10714285714286,
          217.32142857142858,
          218.46428571428572,
          218.42857142857142,
          219.75,
          220.78571428571428,
          221.5,
          222.28571428571428,
          222.5,
          222.35714285714286,
          222.78571428571428,
          221.03571428571428,
          220.71428571428572,
          220.71428571428572,
          220.67857142857142,
          224.39285714285714,
          223.07142857142858,
          223.46428571428572,
          223.57142857142858,
          224.39285714285714,
          224.89285714285714,
          226.60714285714286,
          219.39285714285714,
          217.75,
          217.25,
          217.39285714285714,
          217.60714285714286,
          219.67857142857142,
          219.75,
          218.28571428571428,
          217.60714285714286,
          217.96428571428572,
          218.14285714285714,
          218.28571428571428,
          220.28571428571428,
          222.42857142857142,
          224.89285714285714,
          225.25,
          225,
          229.14285714285714,
          228.75,
          220.75,
          219.75,
          220.17857142857142,
          220.89285714285714,
          220.03571428571428,
          217.14285714285714,
          212.35714285714286,
          null,
          null,
          null,
          null,
          null,
          null,
          null,
          null,
          null,
          null,
          null,
          null,
          null
         ],
         "yaxis": "y"
        },
        {
         "marker": {
          "color": "lightblue"
         },
         "name": "Promedio por día",
         "type": "bar",
         "x": [
          "Lunes",
          "Martes",
          "Miércoles",
          "Jueves",
          "Viernes",
          "Sábado",
          "Domingo"
         ],
         "xaxis": "x2",
         "y": [
          221.0566,
          237.283,
          229.4423,
          220.2308,
          226.5192,
          180.2692,
          46.1154
         ],
         "yaxis": "y2"
        },
        {
         "marker": {
          "color": "lightgreen"
         },
         "name": "Usuarios únicos por mes",
         "type": "bar",
         "x": [
          "Enero",
          "Febrero",
          "Marzo",
          "Abril",
          "Mayo",
          "Junio",
          "Julio",
          "Agosto",
          "Septiembre",
          "Octubre",
          "Noviembre",
          "Diciembre"
         ],
         "xaxis": "x3",
         "y": [
          860,
          849,
          849,
          836,
          884,
          854,
          852,
          773,
          868,
          914,
          922,
          949
         ],
         "yaxis": "y3"
        }
       ],
       "layout": {
        "annotations": [
         {
          "font": {
           "size": 16
          },
          "showarrow": false,
          "text": "Evolución Diaria de Usuarios Únicos en Compras (al menos una compra por día)",
          "x": 0.5,
          "xanchor": "center",
          "xref": "paper",
          "y": 1,
          "yanchor": "bottom",
          "yref": "paper"
         },
         {
          "font": {
           "size": 16
          },
          "showarrow": false,
          "text": "Promedio de Usuarios Únicos por Día de la Semana",
          "x": 0.5,
          "xanchor": "center",
          "xref": "paper",
          "y": 0.5,
          "yanchor": "bottom",
          "yref": "paper"
         },
         {
          "font": {
           "size": 16
          },
          "showarrow": false,
          "text": "Usuarios Únicos por Mes (al menos una compra en el mes)",
          "x": 0.5,
          "xanchor": "center",
          "xref": "paper",
          "y": 0.19,
          "yanchor": "bottom",
          "yref": "paper"
         }
        ],
        "height": 1200,
        "showlegend": true,
        "template": {
         "data": {
          "bar": [
           {
            "error_x": {
             "color": "#2a3f5f"
            },
            "error_y": {
             "color": "#2a3f5f"
            },
            "marker": {
             "line": {
              "color": "#E5ECF6",
              "width": 0.5
             },
             "pattern": {
              "fillmode": "overlay",
              "size": 10,
              "solidity": 0.2
             }
            },
            "type": "bar"
           }
          ],
          "barpolar": [
           {
            "marker": {
             "line": {
              "color": "#E5ECF6",
              "width": 0.5
             },
             "pattern": {
              "fillmode": "overlay",
              "size": 10,
              "solidity": 0.2
             }
            },
            "type": "barpolar"
           }
          ],
          "carpet": [
           {
            "aaxis": {
             "endlinecolor": "#2a3f5f",
             "gridcolor": "white",
             "linecolor": "white",
             "minorgridcolor": "white",
             "startlinecolor": "#2a3f5f"
            },
            "baxis": {
             "endlinecolor": "#2a3f5f",
             "gridcolor": "white",
             "linecolor": "white",
             "minorgridcolor": "white",
             "startlinecolor": "#2a3f5f"
            },
            "type": "carpet"
           }
          ],
          "choropleth": [
           {
            "colorbar": {
             "outlinewidth": 0,
             "ticks": ""
            },
            "type": "choropleth"
           }
          ],
          "contour": [
           {
            "colorbar": {
             "outlinewidth": 0,
             "ticks": ""
            },
            "colorscale": [
             [
              0,
              "#0d0887"
             ],
             [
              0.1111111111111111,
              "#46039f"
             ],
             [
              0.2222222222222222,
              "#7201a8"
             ],
             [
              0.3333333333333333,
              "#9c179e"
             ],
             [
              0.4444444444444444,
              "#bd3786"
             ],
             [
              0.5555555555555556,
              "#d8576b"
             ],
             [
              0.6666666666666666,
              "#ed7953"
             ],
             [
              0.7777777777777778,
              "#fb9f3a"
             ],
             [
              0.8888888888888888,
              "#fdca26"
             ],
             [
              1,
              "#f0f921"
             ]
            ],
            "type": "contour"
           }
          ],
          "contourcarpet": [
           {
            "colorbar": {
             "outlinewidth": 0,
             "ticks": ""
            },
            "type": "contourcarpet"
           }
          ],
          "heatmap": [
           {
            "colorbar": {
             "outlinewidth": 0,
             "ticks": ""
            },
            "colorscale": [
             [
              0,
              "#0d0887"
             ],
             [
              0.1111111111111111,
              "#46039f"
             ],
             [
              0.2222222222222222,
              "#7201a8"
             ],
             [
              0.3333333333333333,
              "#9c179e"
             ],
             [
              0.4444444444444444,
              "#bd3786"
             ],
             [
              0.5555555555555556,
              "#d8576b"
             ],
             [
              0.6666666666666666,
              "#ed7953"
             ],
             [
              0.7777777777777778,
              "#fb9f3a"
             ],
             [
              0.8888888888888888,
              "#fdca26"
             ],
             [
              1,
              "#f0f921"
             ]
            ],
            "type": "heatmap"
           }
          ],
          "heatmapgl": [
           {
            "colorbar": {
             "outlinewidth": 0,
             "ticks": ""
            },
            "colorscale": [
             [
              0,
              "#0d0887"
             ],
             [
              0.1111111111111111,
              "#46039f"
             ],
             [
              0.2222222222222222,
              "#7201a8"
             ],
             [
              0.3333333333333333,
              "#9c179e"
             ],
             [
              0.4444444444444444,
              "#bd3786"
             ],
             [
              0.5555555555555556,
              "#d8576b"
             ],
             [
              0.6666666666666666,
              "#ed7953"
             ],
             [
              0.7777777777777778,
              "#fb9f3a"
             ],
             [
              0.8888888888888888,
              "#fdca26"
             ],
             [
              1,
              "#f0f921"
             ]
            ],
            "type": "heatmapgl"
           }
          ],
          "histogram": [
           {
            "marker": {
             "pattern": {
              "fillmode": "overlay",
              "size": 10,
              "solidity": 0.2
             }
            },
            "type": "histogram"
           }
          ],
          "histogram2d": [
           {
            "colorbar": {
             "outlinewidth": 0,
             "ticks": ""
            },
            "colorscale": [
             [
              0,
              "#0d0887"
             ],
             [
              0.1111111111111111,
              "#46039f"
             ],
             [
              0.2222222222222222,
              "#7201a8"
             ],
             [
              0.3333333333333333,
              "#9c179e"
             ],
             [
              0.4444444444444444,
              "#bd3786"
             ],
             [
              0.5555555555555556,
              "#d8576b"
             ],
             [
              0.6666666666666666,
              "#ed7953"
             ],
             [
              0.7777777777777778,
              "#fb9f3a"
             ],
             [
              0.8888888888888888,
              "#fdca26"
             ],
             [
              1,
              "#f0f921"
             ]
            ],
            "type": "histogram2d"
           }
          ],
          "histogram2dcontour": [
           {
            "colorbar": {
             "outlinewidth": 0,
             "ticks": ""
            },
            "colorscale": [
             [
              0,
              "#0d0887"
             ],
             [
              0.1111111111111111,
              "#46039f"
             ],
             [
              0.2222222222222222,
              "#7201a8"
             ],
             [
              0.3333333333333333,
              "#9c179e"
             ],
             [
              0.4444444444444444,
              "#bd3786"
             ],
             [
              0.5555555555555556,
              "#d8576b"
             ],
             [
              0.6666666666666666,
              "#ed7953"
             ],
             [
              0.7777777777777778,
              "#fb9f3a"
             ],
             [
              0.8888888888888888,
              "#fdca26"
             ],
             [
              1,
              "#f0f921"
             ]
            ],
            "type": "histogram2dcontour"
           }
          ],
          "mesh3d": [
           {
            "colorbar": {
             "outlinewidth": 0,
             "ticks": ""
            },
            "type": "mesh3d"
           }
          ],
          "parcoords": [
           {
            "line": {
             "colorbar": {
              "outlinewidth": 0,
              "ticks": ""
             }
            },
            "type": "parcoords"
           }
          ],
          "pie": [
           {
            "automargin": true,
            "type": "pie"
           }
          ],
          "scatter": [
           {
            "fillpattern": {
             "fillmode": "overlay",
             "size": 10,
             "solidity": 0.2
            },
            "type": "scatter"
           }
          ],
          "scatter3d": [
           {
            "line": {
             "colorbar": {
              "outlinewidth": 0,
              "ticks": ""
             }
            },
            "marker": {
             "colorbar": {
              "outlinewidth": 0,
              "ticks": ""
             }
            },
            "type": "scatter3d"
           }
          ],
          "scattercarpet": [
           {
            "marker": {
             "colorbar": {
              "outlinewidth": 0,
              "ticks": ""
             }
            },
            "type": "scattercarpet"
           }
          ],
          "scattergeo": [
           {
            "marker": {
             "colorbar": {
              "outlinewidth": 0,
              "ticks": ""
             }
            },
            "type": "scattergeo"
           }
          ],
          "scattergl": [
           {
            "marker": {
             "colorbar": {
              "outlinewidth": 0,
              "ticks": ""
             }
            },
            "type": "scattergl"
           }
          ],
          "scattermapbox": [
           {
            "marker": {
             "colorbar": {
              "outlinewidth": 0,
              "ticks": ""
             }
            },
            "type": "scattermapbox"
           }
          ],
          "scatterpolar": [
           {
            "marker": {
             "colorbar": {
              "outlinewidth": 0,
              "ticks": ""
             }
            },
            "type": "scatterpolar"
           }
          ],
          "scatterpolargl": [
           {
            "marker": {
             "colorbar": {
              "outlinewidth": 0,
              "ticks": ""
             }
            },
            "type": "scatterpolargl"
           }
          ],
          "scatterternary": [
           {
            "marker": {
             "colorbar": {
              "outlinewidth": 0,
              "ticks": ""
             }
            },
            "type": "scatterternary"
           }
          ],
          "surface": [
           {
            "colorbar": {
             "outlinewidth": 0,
             "ticks": ""
            },
            "colorscale": [
             [
              0,
              "#0d0887"
             ],
             [
              0.1111111111111111,
              "#46039f"
             ],
             [
              0.2222222222222222,
              "#7201a8"
             ],
             [
              0.3333333333333333,
              "#9c179e"
             ],
             [
              0.4444444444444444,
              "#bd3786"
             ],
             [
              0.5555555555555556,
              "#d8576b"
             ],
             [
              0.6666666666666666,
              "#ed7953"
             ],
             [
              0.7777777777777778,
              "#fb9f3a"
             ],
             [
              0.8888888888888888,
              "#fdca26"
             ],
             [
              1,
              "#f0f921"
             ]
            ],
            "type": "surface"
           }
          ],
          "table": [
           {
            "cells": {
             "fill": {
              "color": "#EBF0F8"
             },
             "line": {
              "color": "white"
             }
            },
            "header": {
             "fill": {
              "color": "#C8D4E3"
             },
             "line": {
              "color": "white"
             }
            },
            "type": "table"
           }
          ]
         },
         "layout": {
          "annotationdefaults": {
           "arrowcolor": "#2a3f5f",
           "arrowhead": 0,
           "arrowwidth": 1
          },
          "autotypenumbers": "strict",
          "coloraxis": {
           "colorbar": {
            "outlinewidth": 0,
            "ticks": ""
           }
          },
          "colorscale": {
           "diverging": [
            [
             0,
             "#8e0152"
            ],
            [
             0.1,
             "#c51b7d"
            ],
            [
             0.2,
             "#de77ae"
            ],
            [
             0.3,
             "#f1b6da"
            ],
            [
             0.4,
             "#fde0ef"
            ],
            [
             0.5,
             "#f7f7f7"
            ],
            [
             0.6,
             "#e6f5d0"
            ],
            [
             0.7,
             "#b8e186"
            ],
            [
             0.8,
             "#7fbc41"
            ],
            [
             0.9,
             "#4d9221"
            ],
            [
             1,
             "#276419"
            ]
           ],
           "sequential": [
            [
             0,
             "#0d0887"
            ],
            [
             0.1111111111111111,
             "#46039f"
            ],
            [
             0.2222222222222222,
             "#7201a8"
            ],
            [
             0.3333333333333333,
             "#9c179e"
            ],
            [
             0.4444444444444444,
             "#bd3786"
            ],
            [
             0.5555555555555556,
             "#d8576b"
            ],
            [
             0.6666666666666666,
             "#ed7953"
            ],
            [
             0.7777777777777778,
             "#fb9f3a"
            ],
            [
             0.8888888888888888,
             "#fdca26"
            ],
            [
             1,
             "#f0f921"
            ]
           ],
           "sequentialminus": [
            [
             0,
             "#0d0887"
            ],
            [
             0.1111111111111111,
             "#46039f"
            ],
            [
             0.2222222222222222,
             "#7201a8"
            ],
            [
             0.3333333333333333,
             "#9c179e"
            ],
            [
             0.4444444444444444,
             "#bd3786"
            ],
            [
             0.5555555555555556,
             "#d8576b"
            ],
            [
             0.6666666666666666,
             "#ed7953"
            ],
            [
             0.7777777777777778,
             "#fb9f3a"
            ],
            [
             0.8888888888888888,
             "#fdca26"
            ],
            [
             1,
             "#f0f921"
            ]
           ]
          },
          "colorway": [
           "#636efa",
           "#EF553B",
           "#00cc96",
           "#ab63fa",
           "#FFA15A",
           "#19d3f3",
           "#FF6692",
           "#B6E880",
           "#FF97FF",
           "#FECB52"
          ],
          "font": {
           "color": "#2a3f5f"
          },
          "geo": {
           "bgcolor": "white",
           "lakecolor": "white",
           "landcolor": "#E5ECF6",
           "showlakes": true,
           "showland": true,
           "subunitcolor": "white"
          },
          "hoverlabel": {
           "align": "left"
          },
          "hovermode": "closest",
          "mapbox": {
           "style": "light"
          },
          "paper_bgcolor": "white",
          "plot_bgcolor": "#E5ECF6",
          "polar": {
           "angularaxis": {
            "gridcolor": "white",
            "linecolor": "white",
            "ticks": ""
           },
           "bgcolor": "#E5ECF6",
           "radialaxis": {
            "gridcolor": "white",
            "linecolor": "white",
            "ticks": ""
           }
          },
          "scene": {
           "xaxis": {
            "backgroundcolor": "#E5ECF6",
            "gridcolor": "white",
            "gridwidth": 2,
            "linecolor": "white",
            "showbackground": true,
            "ticks": "",
            "zerolinecolor": "white"
           },
           "yaxis": {
            "backgroundcolor": "#E5ECF6",
            "gridcolor": "white",
            "gridwidth": 2,
            "linecolor": "white",
            "showbackground": true,
            "ticks": "",
            "zerolinecolor": "white"
           },
           "zaxis": {
            "backgroundcolor": "#E5ECF6",
            "gridcolor": "white",
            "gridwidth": 2,
            "linecolor": "white",
            "showbackground": true,
            "ticks": "",
            "zerolinecolor": "white"
           }
          },
          "shapedefaults": {
           "line": {
            "color": "#2a3f5f"
           }
          },
          "ternary": {
           "aaxis": {
            "gridcolor": "white",
            "linecolor": "white",
            "ticks": ""
           },
           "baxis": {
            "gridcolor": "white",
            "linecolor": "white",
            "ticks": ""
           },
           "bgcolor": "#E5ECF6",
           "caxis": {
            "gridcolor": "white",
            "linecolor": "white",
            "ticks": ""
           }
          },
          "title": {
           "x": 0.05
          },
          "xaxis": {
           "automargin": true,
           "gridcolor": "white",
           "linecolor": "white",
           "ticks": "",
           "title": {
            "standoff": 15
           },
           "zerolinecolor": "white",
           "zerolinewidth": 2
          },
          "yaxis": {
           "automargin": true,
           "gridcolor": "white",
           "linecolor": "white",
           "ticks": "",
           "title": {
            "standoff": 15
           },
           "zerolinecolor": "white",
           "zerolinewidth": 2
          }
         }
        },
        "title": {
         "text": "Análisis de Usuarios Únicos en Operaciones de Compra - 2024"
        },
        "xaxis": {
         "anchor": "y",
         "domain": [
          0,
          1
         ],
         "title": {
          "text": "Fecha"
         }
        },
        "xaxis2": {
         "anchor": "y2",
         "domain": [
          0,
          1
         ],
         "title": {
          "text": "Día de la Semana"
         }
        },
        "xaxis3": {
         "anchor": "y3",
         "domain": [
          0,
          1
         ],
         "title": {
          "text": "Mes"
         }
        },
        "yaxis": {
         "anchor": "x",
         "domain": [
          0.62,
          1
         ],
         "title": {
          "text": "Número de Usuarios Únicos por Día"
         }
        },
        "yaxis2": {
         "anchor": "x2",
         "domain": [
          0.31,
          0.5
         ],
         "title": {
          "text": "Promedio de Usuarios Únicos por Día"
         }
        },
        "yaxis3": {
         "anchor": "x3",
         "domain": [
          0,
          0.19
         ],
         "title": {
          "text": "Total Usuarios Únicos por Mes"
         }
        }
       }
      }
     },
     "metadata": {},
     "output_type": "display_data"
    },
    {
     "name": "stdout",
     "output_type": "stream",
     "text": [
      "\n",
      "ESTADÍSTICAS DIARIAS:\n",
      "Media de usuarios únicos por día: 194.61\n",
      "Mediana de usuarios únicos por día: 222.50\n",
      "Máximo de usuarios únicos en un día: 338.00\n",
      "Mínimo de usuarios únicos en un día: 8.00\n",
      "\n",
      "DATOS DIARIOS:\n",
      "Fecha: 20240101, Usuarios únicos: 14.00, Media móvil 14d: nan, Media móvil 28d: nan\n",
      "Fecha: 20240102, Usuarios únicos: 238.00, Media móvil 14d: nan, Media móvil 28d: nan\n",
      "Fecha: 20240103, Usuarios únicos: 230.00, Media móvil 14d: nan, Media móvil 28d: nan\n",
      "Fecha: 20240104, Usuarios únicos: 282.00, Media móvil 14d: nan, Media móvil 28d: nan\n",
      "Fecha: 20240105, Usuarios únicos: 288.00, Media móvil 14d: nan, Media móvil 28d: nan\n",
      "Fecha: 20240106, Usuarios únicos: 72.00, Media móvil 14d: nan, Media móvil 28d: nan\n",
      "Fecha: 20240107, Usuarios únicos: 55.00, Media móvil 14d: nan, Media móvil 28d: nan\n",
      "Fecha: 20240108, Usuarios únicos: 260.00, Media móvil 14d: 196.21, Media móvil 28d: nan\n",
      "Fecha: 20240109, Usuarios únicos: 275.00, Media móvil 14d: 212.50, Media móvil 28d: nan\n",
      "Fecha: 20240110, Usuarios únicos: 247.00, Media móvil 14d: 214.00, Media móvil 28d: nan\n",
      "Fecha: 20240111, Usuarios únicos: 258.00, Media móvil 14d: 216.43, Media móvil 28d: nan\n",
      "Fecha: 20240112, Usuarios únicos: 259.00, Media móvil 14d: 214.43, Media móvil 28d: nan\n",
      "Fecha: 20240113, Usuarios únicos: 216.00, Media móvil 14d: 212.07, Media móvil 28d: nan\n",
      "Fecha: 20240114, Usuarios únicos: 53.00, Media móvil 14d: 220.86, Media móvil 28d: nan\n",
      "Fecha: 20240115, Usuarios únicos: 242.00, Media móvil 14d: 220.71, Media móvil 28d: 202.39\n",
      "Fecha: 20240116, Usuarios únicos: 259.00, Media móvil 14d: 220.21, Media móvil 28d: 207.82\n",
      "Fecha: 20240117, Usuarios únicos: 264.00, Media móvil 14d: 218.79, Media móvil 28d: 205.00\n",
      "Fecha: 20240118, Usuarios únicos: 254.00, Media móvil 14d: 218.43, Media móvil 28d: 202.18\n",
      "Fecha: 20240119, Usuarios únicos: 255.00, Media móvil 14d: 219.00, Media móvil 28d: 201.86\n",
      "Fecha: 20240120, Usuarios únicos: 195.00, Media móvil 14d: 214.14, Media móvil 28d: 200.54\n",
      "Fecha: 20240121, Usuarios únicos: 53.00, Media móvil 14d: 209.29, Media móvil 28d: 204.96\n",
      "Fecha: 20240122, Usuarios únicos: 253.00, Media móvil 14d: 208.57, Media móvil 28d: 204.25\n",
      "Fecha: 20240123, Usuarios únicos: 255.00, Media móvil 14d: 203.14, Media móvil 28d: 203.46\n",
      "Fecha: 20240124, Usuarios únicos: 242.00, Media móvil 14d: 196.00, Media móvil 28d: 202.43\n",
      "Fecha: 20240125, Usuarios únicos: 266.00, Media móvil 14d: 187.93, Media móvil 28d: 202.50\n",
      "Fecha: 20240126, Usuarios únicos: 191.00, Media móvil 14d: 189.29, Media móvil 28d: 201.93\n",
      "Fecha: 20240127, Usuarios únicos: 148.00, Media móvil 14d: 189.00, Media móvil 28d: 201.89\n",
      "Fecha: 20240128, Usuarios únicos: 43.00, Media móvil 14d: 189.07, Media móvil 28d: 200.96\n",
      "Fecha: 20240129, Usuarios únicos: 166.00, Media móvil 14d: 187.79, Media móvil 28d: 200.96\n",
      "Fecha: 20240130, Usuarios únicos: 159.00, Media móvil 14d: 186.71, Media móvil 28d: 200.21\n",
      "Fecha: 20240131, Usuarios únicos: 151.00, Media móvil 14d: 186.07, Media móvil 28d: 199.00\n",
      "Fecha: 20240201, Usuarios únicos: 273.00, Media móvil 14d: 186.57, Media móvil 28d: 197.86\n",
      "Fecha: 20240202, Usuarios únicos: 251.00, Media móvil 14d: 184.86, Media móvil 28d: 197.43\n",
      "Fecha: 20240203, Usuarios únicos: 196.00, Media móvil 14d: 189.64, Media móvil 28d: 197.14\n",
      "Fecha: 20240204, Usuarios únicos: 35.00, Media móvil 14d: 192.64, Media móvil 28d: 197.46\n",
      "Fecha: 20240205, Usuarios únicos: 238.00, Media móvil 14d: 193.36, Media móvil 28d: 197.25\n",
      "Fecha: 20240206, Usuarios únicos: 246.00, Media móvil 14d: 197.29, Media móvil 28d: 197.32\n",
      "Fecha: 20240207, Usuarios únicos: 249.00, Media móvil 14d: 202.00, Media móvil 28d: 196.50\n",
      "Fecha: 20240208, Usuarios únicos: 242.00, Media móvil 14d: 207.79, Media móvil 28d: 196.79\n",
      "Fecha: 20240209, Usuarios únicos: 258.00, Media móvil 14d: 205.57, Media móvil 28d: 195.11\n",
      "Fecha: 20240210, Usuarios únicos: 190.00, Media móvil 14d: 205.29, Media móvil 28d: 197.46\n",
      "Fecha: 20240211, Usuarios únicos: 53.00, Media móvil 14d: 205.86, Media móvil 28d: 199.54\n",
      "Fecha: 20240212, Usuarios únicos: 221.00, Media móvil 14d: 206.71, Media móvil 28d: 199.86\n",
      "Fecha: 20240213, Usuarios únicos: 225.00, Media móvil 14d: 207.93, Media móvil 28d: 202.04\n",
      "Fecha: 20240214, Usuarios únicos: 232.00, Media móvil 14d: 206.93, Media móvil 28d: 204.29\n",
      "Fecha: 20240215, Usuarios únicos: 242.00, Media móvil 14d: 207.00, Media móvil 28d: 206.11\n",
      "Fecha: 20240216, Usuarios únicos: 247.00, Media móvil 14d: 205.36, Media móvil 28d: 202.25\n",
      "Fecha: 20240217, Usuarios únicos: 204.00, Media móvil 14d: 205.29, Media móvil 28d: 203.54\n",
      "Fecha: 20240218, Usuarios únicos: 47.00, Media móvil 14d: 206.43, Media móvil 28d: 204.61\n",
      "Fecha: 20240219, Usuarios únicos: 255.00, Media móvil 14d: 206.36, Media móvil 28d: 205.43\n",
      "Fecha: 20240220, Usuarios únicos: 232.00, Media móvil 14d: 206.79, Media móvil 28d: 205.39\n",
      "Fecha: 20240221, Usuarios únicos: 250.00, Media móvil 14d: 206.57, Media móvil 28d: 205.89\n",
      "Fecha: 20240222, Usuarios únicos: 219.00, Media móvil 14d: 204.43, Media móvil 28d: 205.86\n",
      "Fecha: 20240223, Usuarios únicos: 257.00, Media móvil 14d: 198.93, Media móvil 28d: 205.68\n",
      "Fecha: 20240224, Usuarios únicos: 206.00, Media móvil 14d: 201.79, Media móvil 28d: 205.64\n",
      "Fecha: 20240225, Usuarios únicos: 52.00, Media móvil 14d: 203.36, Media móvil 28d: 207.07\n",
      "Fecha: 20240226, Usuarios únicos: 227.00, Media móvil 14d: 204.14, Media móvil 28d: 207.18\n",
      "Fecha: 20240227, Usuarios únicos: 222.00, Media móvil 14d: 202.86, Media móvil 28d: 207.68\n",
      "Fecha: 20240228, Usuarios únicos: 202.00, Media móvil 14d: 204.86, Media móvil 28d: 208.61\n",
      "Fecha: 20240229, Usuarios únicos: 165.00, Media móvil 14d: 204.71, Media móvil 28d: 209.82\n",
      "Fecha: 20240301, Usuarios únicos: 287.00, Media móvil 14d: 206.00, Media móvil 28d: 210.25\n",
      "Fecha: 20240302, Usuarios únicos: 226.00, Media móvil 14d: 206.00, Media móvil 28d: 210.61\n",
      "Fecha: 20240303, Usuarios únicos: 58.00, Media móvil 14d: 207.71, Media móvil 28d: 210.00\n",
      "Fecha: 20240304, Usuarios únicos: 237.00, Media móvil 14d: 208.00, Media móvil 28d: 210.21\n",
      "Fecha: 20240305, Usuarios únicos: 260.00, Media móvil 14d: 208.57, Media móvil 28d: 210.32\n",
      "Fecha: 20240306, Usuarios únicos: 248.00, Media móvil 14d: 210.64, Media móvil 28d: 210.29\n",
      "Fecha: 20240307, Usuarios únicos: 237.00, Media móvil 14d: 215.21, Media móvil 28d: 209.79\n",
      "Fecha: 20240308, Usuarios únicos: 257.00, Media móvil 14d: 221.57, Media móvil 28d: 211.04\n",
      "Fecha: 20240309, Usuarios únicos: 230.00, Media móvil 14d: 219.43, Media móvil 28d: 211.57\n",
      "Fecha: 20240310, Usuarios únicos: 56.00, Media móvil 14d: 216.64, Media móvil 28d: 212.39\n",
      "Fecha: 20240311, Usuarios únicos: 235.00, Media móvil 14d: 216.29, Media móvil 28d: 212.00\n",
      "Fecha: 20240312, Usuarios únicos: 251.00, Media móvil 14d: 217.79, Media móvil 28d: 211.54\n",
      "Fecha: 20240313, Usuarios únicos: 266.00, Media móvil 14d: 215.71, Media móvil 28d: 210.82\n",
      "Fecha: 20240314, Usuarios únicos: 254.00, Media móvil 14d: 214.86, Media móvil 28d: 211.11\n",
      "Fecha: 20240315, Usuarios únicos: 257.00, Media móvil 14d: 216.07, Media móvil 28d: 206.11\n",
      "Fecha: 20240316, Usuarios únicos: 187.00, Media móvil 14d: 217.14, Media móvil 28d: 197.14\n",
      "Fecha: 20240317, Usuarios únicos: 53.00, Media móvil 14d: 217.07, Media móvil 28d: 191.96\n",
      "Fecha: 20240318, Usuarios únicos: 258.00, Media móvil 14d: 216.00, Media móvil 28d: 190.64\n",
      "Fecha: 20240319, Usuarios únicos: 231.00, Media móvil 14d: 214.50, Media móvil 28d: 183.89\n",
      "Fecha: 20240320, Usuarios únicos: 236.00, Media móvil 14d: 211.00, Media móvil 28d: 182.89\n",
      "Fecha: 20240321, Usuarios únicos: 254.00, Media móvil 14d: 207.00, Media móvil 28d: 181.61\n",
      "Fecha: 20240322, Usuarios únicos: 272.00, Media móvil 14d: 190.64, Media móvil 28d: 179.89\n",
      "Fecha: 20240323, Usuarios únicos: 229.00, Media móvil 14d: 174.86, Media móvil 28d: 177.61\n",
      "Fecha: 20240324, Usuarios únicos: 41.00, Media móvil 14d: 167.29, Media móvil 28d: 175.36\n",
      "Fecha: 20240325, Usuarios únicos: 214.00, Media móvil 14d: 165.00, Media móvil 28d: 175.11\n",
      "Fecha: 20240326, Usuarios únicos: 202.00, Media móvil 14d: 150.00, Media móvil 28d: 175.43\n",
      "Fecha: 20240327, Usuarios únicos: 210.00, Media móvil 14d: 150.07, Media móvil 28d: 175.68\n",
      "Fecha: 20240328, Usuarios únicos: 25.00, Media móvil 14d: 148.36, Media móvil 28d: 175.86\n",
      "Fecha: 20240329, Usuarios únicos: 36.00, Media móvil 14d: 143.71, Media móvil 28d: 175.46\n",
      "Fecha: 20240330, Usuarios únicos: 81.00, Media móvil 14d: 138.07, Media móvil 28d: 175.86\n",
      "Fecha: 20240331, Usuarios únicos: 21.00, Media móvil 14d: 133.64, Media móvil 28d: 176.25\n",
      "Fecha: 20240401, Usuarios únicos: 48.00, Media móvil 14d: 134.21, Media móvil 28d: 175.96\n",
      "Fecha: 20240402, Usuarios únicos: 232.00, Media móvil 14d: 136.36, Media móvil 28d: 175.36\n",
      "Fecha: 20240403, Usuarios únicos: 212.00, Media móvil 14d: 140.36, Media móvil 28d: 176.29\n",
      "Fecha: 20240404, Usuarios únicos: 189.00, Media móvil 14d: 144.71, Media móvil 28d: 176.32\n",
      "Fecha: 20240405, Usuarios únicos: 193.00, Media móvil 14d: 160.29, Media móvil 28d: 175.46\n",
      "Fecha: 20240406, Usuarios únicos: 167.00, Media móvil 14d: 176.86, Media móvil 28d: 175.04\n",
      "Fecha: 20240407, Usuarios únicos: 49.00, Media móvil 14d: 185.21, Media móvil 28d: 173.43\n",
      "Fecha: 20240408, Usuarios únicos: 244.00, Media móvil 14d: 186.93, Media móvil 28d: 173.54\n",
      "Fecha: 20240409, Usuarios únicos: 258.00, Media móvil 14d: 200.71, Media móvil 28d: 174.39\n",
      "Fecha: 20240410, Usuarios únicos: 271.00, Media móvil 14d: 202.50, Media móvil 28d: 175.93\n",
      "Fecha: 20240411, Usuarios únicos: 243.00, Media móvil 14d: 204.29, Media móvil 28d: 177.89\n",
      "Fecha: 20240412, Usuarios únicos: 268.00, Media móvil 14d: 207.21, Media móvil 28d: 185.71\n",
      "Fecha: 20240413, Usuarios únicos: 198.00, Media móvil 14d: 212.00, Media móvil 28d: 191.96\n",
      "Fecha: 20240414, Usuarios únicos: 45.00, Media móvil 14d: 213.21, Media móvil 28d: 195.14\n",
      "Fecha: 20240415, Usuarios únicos: 241.00, Media móvil 14d: 212.86, Media móvil 28d: 195.61\n",
      "Fecha: 20240416, Usuarios únicos: 257.00, Media móvil 14d: 212.43, Media móvil 28d: 200.79\n",
      "Fecha: 20240417, Usuarios únicos: 237.00, Media móvil 14d: 211.50, Media móvil 28d: 199.54\n",
      "Fecha: 20240418, Usuarios únicos: 230.00, Media móvil 14d: 211.07, Media móvil 28d: 194.57\n",
      "Fecha: 20240419, Usuarios únicos: 260.00, Media móvil 14d: 211.14, Media móvil 28d: 197.68\n",
      "Fecha: 20240420, Usuarios únicos: 184.00, Media móvil 14d: 207.07, Media móvil 28d: 200.82\n",
      "Fecha: 20240421, Usuarios únicos: 44.00, Media móvil 14d: 205.07, Media móvil 28d: 202.93\n",
      "Fecha: 20240422, Usuarios únicos: 238.00, Media móvil 14d: 204.29, Media móvil 28d: 203.43\n",
      "Fecha: 20240423, Usuarios únicos: 245.00, Media móvil 14d: 200.86, Media móvil 28d: 204.39\n",
      "Fecha: 20240424, Usuarios únicos: 265.00, Media móvil 14d: 196.57, Media móvil 28d: 206.11\n",
      "Fecha: 20240425, Usuarios únicos: 244.00, Media móvil 14d: 184.86, Media móvil 28d: 206.29\n",
      "Fecha: 20240426, Usuarios únicos: 211.00, Media móvil 14d: 188.14, Media móvil 28d: 207.32\n",
      "Fecha: 20240427, Usuarios únicos: 170.00, Media móvil 14d: 189.64, Media móvil 28d: 207.68\n",
      "Fecha: 20240428, Usuarios únicos: 34.00, Media móvil 14d: 192.64, Media móvil 28d: 208.57\n",
      "Fecha: 20240429, Usuarios únicos: 193.00, Media móvil 14d: 194.00, Media móvil 28d: 209.21\n",
      "Fecha: 20240430, Usuarios únicos: 197.00, Media móvil 14d: 196.36, Media móvil 28d: 209.79\n",
      "Fecha: 20240501, Usuarios únicos: 73.00, Media móvil 14d: 200.71, Media móvil 28d: 209.25\n",
      "Fecha: 20240502, Usuarios únicos: 276.00, Media móvil 14d: 201.50, Media móvil 28d: 210.25\n",
      "Fecha: 20240503, Usuarios únicos: 281.00, Media móvil 14d: 203.50, Media móvil 28d: 210.89\n",
      "Fecha: 20240504, Usuarios únicos: 226.00, Media móvil 14d: 208.29, Media móvil 28d: 211.46\n",
      "Fecha: 20240505, Usuarios únicos: 63.00, Media móvil 14d: 212.07, Media móvil 28d: 211.50\n",
      "Fecha: 20240506, Usuarios únicos: 271.00, Media móvil 14d: 214.14, Media móvil 28d: 211.89\n",
      "Fecha: 20240507, Usuarios únicos: 306.00, Media móvil 14d: 218.71, Media móvil 28d: 212.64\n",
      "Fecha: 20240508, Usuarios únicos: 276.00, Media móvil 14d: 221.93, Media móvil 28d: 213.96\n",
      "Fecha: 20240509, Usuarios únicos: 272.00, Media móvil 14d: 235.64, Media móvil 28d: 212.57\n",
      "Fecha: 20240510, Usuarios únicos: 278.00, Media móvil 14d: 233.64, Media móvil 28d: 210.64\n",
      "Fecha: 20240511, Usuarios únicos: 223.00, Media móvil 14d: 233.29, Media móvil 28d: 211.00\n",
      "Fecha: 20240512, Usuarios únicos: 63.00, Media móvil 14d: 230.36, Media móvil 28d: 210.71\n",
      "Fecha: 20240513, Usuarios únicos: 257.00, Media móvil 14d: 229.79, Media móvil 28d: 210.96\n",
      "Fecha: 20240514, Usuarios únicos: 242.00, Media móvil 14d: 228.93, Media móvil 28d: 211.04\n",
      "Fecha: 20240515, Usuarios únicos: 265.00, Media móvil 14d: 227.21, Media móvil 28d: 211.04\n",
      "Fecha: 20240516, Usuarios únicos: 248.00, Media móvil 14d: 223.64, Media móvil 28d: 215.00\n",
      "Fecha: 20240517, Usuarios únicos: 276.00, Media móvil 14d: 217.79, Media móvil 28d: 211.68\n",
      "Fecha: 20240518, Usuarios únicos: 185.00, Media móvil 14d: 213.71, Media móvil 28d: 207.36\n",
      "Fecha: 20240519, Usuarios únicos: 55.00, Media móvil 14d: 209.36, Media móvil 28d: 207.18\n",
      "Fecha: 20240520, Usuarios únicos: 259.00, Media móvil 14d: 207.79, Media móvil 28d: 206.89\n",
      "Fecha: 20240521, Usuarios únicos: 282.00, Media móvil 14d: 203.36, Media móvil 28d: 206.68\n",
      "Fecha: 20240522, Usuarios únicos: 226.00, Media móvil 14d: 200.14, Media móvil 28d: 206.11\n",
      "Fecha: 20240523, Usuarios únicos: 190.00, Media móvil 14d: 194.36, Media móvil 28d: 205.79\n",
      "Fecha: 20240524, Usuarios únicos: 221.00, Media móvil 14d: 189.71, Media móvil 28d: 205.14\n",
      "Fecha: 20240525, Usuarios únicos: 162.00, Media móvil 14d: 181.43, Media móvil 28d: 204.18\n",
      "Fecha: 20240526, Usuarios únicos: 41.00, Media móvil 14d: 184.00, Media móvil 28d: 203.00\n",
      "Fecha: 20240527, Usuarios únicos: 195.00, Media móvil 14d: 184.00, Media móvil 28d: 202.68\n",
      "Fecha: 20240528, Usuarios únicos: 197.00, Media móvil 14d: 184.43, Media móvil 28d: 203.04\n",
      "Fecha: 20240529, Usuarios únicos: 184.00, Media móvil 14d: 185.00, Media móvil 28d: 203.54\n",
      "Fecha: 20240530, Usuarios únicos: 183.00, Media móvil 14d: 187.93, Media móvil 28d: 203.07\n",
      "Fecha: 20240531, Usuarios únicos: 160.00, Media móvil 14d: 192.50, Media móvil 28d: 203.36\n",
      "Fecha: 20240601, Usuarios únicos: 221.00, Media móvil 14d: 194.64, Media móvil 28d: 202.82\n",
      "Fecha: 20240602, Usuarios únicos: 55.00, Media móvil 14d: 196.64, Media móvil 28d: 204.75\n",
      "Fecha: 20240603, Usuarios únicos: 265.00, Media móvil 14d: 197.57, Media móvil 28d: 204.36\n",
      "Fecha: 20240604, Usuarios únicos: 290.00, Media móvil 14d: 202.71, Media móvil 28d: 203.96\n",
      "Fecha: 20240605, Usuarios únicos: 267.00, Media móvil 14d: 206.93, Media móvil 28d: 203.71\n",
      "Fecha: 20240606, Usuarios únicos: 254.00, Media móvil 14d: 211.79, Media móvil 28d: 205.14\n",
      "Fecha: 20240607, Usuarios únicos: 251.00, Media móvil 14d: 217.00, Media móvil 28d: 206.96\n",
      "Fecha: 20240608, Usuarios únicos: 190.00, Media móvil 14d: 224.21, Media móvil 28d: 207.43\n",
      "Fecha: 20240609, Usuarios únicos: 54.00, Media móvil 14d: 225.50, Media móvil 28d: 208.71\n",
      "Fecha: 20240610, Usuarios únicos: 267.00, Media móvil 14d: 224.71, Media móvil 28d: 208.82\n",
      "Fecha: 20240611, Usuarios únicos: 256.00, Media móvil 14d: 223.50, Media móvil 28d: 203.14\n",
      "Fecha: 20240612, Usuarios únicos: 252.00, Media móvil 14d: 222.43, Media móvil 28d: 199.46\n",
      "Fecha: 20240613, Usuarios únicos: 256.00, Media móvil 14d: 222.36, Media móvil 28d: 197.21\n",
      "Fecha: 20240614, Usuarios únicos: 261.00, Media móvil 14d: 221.43, Media móvil 28d: 194.68\n",
      "Fecha: 20240615, Usuarios únicos: 239.00, Media móvil 14d: 220.21, Media móvil 28d: 194.11\n",
      "Fecha: 20240616, Usuarios únicos: 44.00, Media móvil 14d: 220.79, Media móvil 28d: 190.43\n",
      "Fecha: 20240617, Usuarios únicos: 248.00, Media móvil 14d: 220.07, Media móvil 28d: 189.64\n",
      "Fecha: 20240618, Usuarios únicos: 275.00, Media móvil 14d: 203.57, Media móvil 28d: 189.46\n",
      "Fecha: 20240619, Usuarios únicos: 266.00, Media móvil 14d: 192.00, Media móvil 28d: 188.04\n",
      "Fecha: 20240620, Usuarios únicos: 241.00, Media móvil 14d: 182.64, Media móvil 28d: 187.57\n",
      "Fecha: 20240621, Usuarios únicos: 234.00, Media móvil 14d: 172.36, Media móvil 28d: 186.57\n",
      "Fecha: 20240622, Usuarios únicos: 198.00, Media móvil 14d: 164.00, Media móvil 28d: 186.00\n",
      "Fecha: 20240623, Usuarios únicos: 44.00, Media móvil 14d: 155.36, Media móvil 28d: 186.50\n",
      "Fecha: 20240624, Usuarios únicos: 36.00, Media móvil 14d: 154.57, Media móvil 28d: 186.04\n",
      "Fecha: 20240625, Usuarios únicos: 94.00, Media móvil 14d: 155.43, Media móvil 28d: 184.18\n",
      "Fecha: 20240626, Usuarios únicos: 121.00, Media móvil 14d: 153.64, Media móvil 28d: 183.68\n",
      "Fecha: 20240627, Usuarios únicos: 112.00, Media móvil 14d: 152.79, Media móvil 28d: 182.86\n",
      "Fecha: 20240628, Usuarios únicos: 144.00, Media móvil 14d: 151.71, Media móvil 28d: 182.00\n",
      "Fecha: 20240629, Usuarios únicos: 118.00, Media móvil 14d: 151.79, Media móvil 28d: 181.39\n",
      "Fecha: 20240630, Usuarios únicos: 33.00, Media móvil 14d: 152.21, Media móvil 28d: 178.64\n",
      "Fecha: 20240701, Usuarios únicos: 260.00, Media móvil 14d: 152.00, Media móvil 28d: 178.32\n",
      "Fecha: 20240702, Usuarios únicos: 250.00, Media móvil 14d: 164.79, Media móvil 28d: 177.96\n",
      "Fecha: 20240703, Usuarios únicos: 254.00, Media móvil 14d: 175.36, Media móvil 28d: 176.36\n",
      "Fecha: 20240704, Usuarios únicos: 226.00, Media móvil 14d: 183.07, Media móvil 28d: 175.29\n",
      "Fecha: 20240705, Usuarios únicos: 235.00, Media móvil 14d: 191.64, Media móvil 28d: 174.32\n",
      "Fecha: 20240706, Usuarios únicos: 204.00, Media móvil 14d: 198.79, Media móvil 28d: 174.21\n",
      "Fecha: 20240707, Usuarios únicos: 41.00, Media móvil 14d: 201.93, Media móvil 28d: 173.82\n",
      "Fecha: 20240708, Usuarios únicos: 215.00, Media móvil 14d: 202.07, Media móvil 28d: 173.68\n",
      "Fecha: 20240709, Usuarios únicos: 242.00, Media móvil 14d: 200.50, Media móvil 28d: 179.71\n",
      "Fecha: 20240710, Usuarios únicos: 229.00, Media móvil 14d: 199.07, Media móvil 28d: 183.96\n",
      "Fecha: 20240711, Usuarios únicos: 232.00, Media móvil 14d: 197.79, Media móvil 28d: 188.25\n",
      "Fecha: 20240712, Usuarios únicos: 244.00, Media móvil 14d: 196.93, Media móvil 28d: 185.43\n",
      "Fecha: 20240713, Usuarios únicos: 162.00, Media móvil 14d: 196.64, Media móvil 28d: 186.89\n",
      "Fecha: 20240714, Usuarios únicos: 35.00, Media móvil 14d: 195.43, Media móvil 28d: 187.11\n",
      "Fecha: 20240715, Usuarios únicos: 238.00, Media móvil 14d: 195.36, Media móvil 28d: 186.68\n",
      "Fecha: 20240716, Usuarios únicos: 230.00, Media móvil 14d: 194.64, Media móvil 28d: 181.39\n",
      "Fecha: 20240717, Usuarios únicos: 236.00, Media móvil 14d: 192.57, Media móvil 28d: 177.64\n",
      "Fecha: 20240718, Usuarios únicos: 214.00, Media móvil 14d: 193.43, Media móvil 28d: 169.46\n",
      "Fecha: 20240719, Usuarios únicos: 231.00, Media móvil 14d: 179.21, Media móvil 28d: 169.43\n",
      "Fecha: 20240720, Usuarios únicos: 187.00, Media móvil 14d: 175.00, Media móvil 28d: 167.75\n",
      "Fecha: 20240721, Usuarios únicos: 40.00, Media móvil 14d: 172.29, Media móvil 28d: 166.29\n",
      "Fecha: 20240722, Usuarios únicos: 205.00, Media móvil 14d: 171.29, Media móvil 28d: 165.79\n",
      "Fecha: 20240723, Usuarios únicos: 213.00, Media móvil 14d: 162.29, Media móvil 28d: 164.00\n",
      "Fecha: 20240724, Usuarios únicos: 241.00, Media móvil 14d: 156.21, Media móvil 28d: 160.93\n",
      "Fecha: 20240725, Usuarios únicos: 33.00, Media móvil 14d: 141.14, Media móvil 28d: 158.79\n",
      "Fecha: 20240726, Usuarios únicos: 185.00, Media móvil 14d: 141.93, Media móvil 28d: 155.32\n",
      "Fecha: 20240727, Usuarios únicos: 124.00, Media móvil 14d: 138.86, Media móvil 28d: 152.50\n",
      "Fecha: 20240728, Usuarios únicos: 21.00, Media móvil 14d: 137.14, Media móvil 28d: 151.89\n",
      "Fecha: 20240729, Usuarios únicos: 112.00, Media móvil 14d: 136.21, Media móvil 28d: 151.75\n",
      "Fecha: 20240730, Usuarios únicos: 145.00, Media móvil 14d: 133.36, Media móvil 28d: 148.50\n",
      "Fecha: 20240731, Usuarios únicos: 25.00, Media móvil 14d: 129.29, Media móvil 28d: 146.68\n",
      "Fecha: 20240801, Usuarios únicos: 225.00, Media móvil 14d: 124.14, Media móvil 28d: 144.36\n",
      "Fecha: 20240802, Usuarios únicos: 188.00, Media móvil 14d: 131.43, Media móvil 28d: 137.79\n",
      "Fecha: 20240803, Usuarios únicos: 163.00, Media móvil 14d: 130.00, Media móvil 28d: 134.29\n",
      "Fecha: 20240804, Usuarios únicos: 27.00, Media móvil 14d: 131.50, Media móvil 28d: 131.57\n",
      "Fecha: 20240805, Usuarios únicos: 165.00, Media móvil 14d: 132.21, Media móvil 28d: 131.39\n",
      "Fecha: 20240806, Usuarios únicos: 156.00, Media móvil 14d: 134.71, Media móvil 28d: 129.86\n",
      "Fecha: 20240807, Usuarios únicos: 169.00, Media móvil 14d: 137.14, Media móvil 28d: 127.68\n",
      "Fecha: 20240808, Usuarios únicos: 135.00, Media móvil 14d: 147.57, Media móvil 28d: 124.43\n",
      "Fecha: 20240809, Usuarios únicos: 165.00, Media móvil 14d: 133.64, Media móvil 28d: 127.82\n",
      "Fecha: 20240810, Usuarios únicos: 145.00, Media móvil 14d: 129.71, Media móvil 28d: 127.29\n",
      "Fecha: 20240811, Usuarios únicos: 31.00, Media móvil 14d: 126.00, Media móvil 28d: 128.11\n",
      "Fecha: 20240812, Usuarios únicos: 147.00, Media móvil 14d: 126.57, Media móvil 28d: 128.00\n",
      "Fecha: 20240813, Usuarios únicos: 179.00, Media móvil 14d: 126.36, Media móvil 28d: 129.79\n",
      "Fecha: 20240814, Usuarios únicos: 171.00, Media móvil 14d: 126.07, Media móvil 28d: 130.25\n",
      "Fecha: 20240815, Usuarios únicos: 30.00, Media móvil 14d: 124.71, Media móvil 28d: 135.57\n",
      "Fecha: 20240816, Usuarios únicos: 133.00, Media móvil 14d: 124.21, Media móvil 28d: 133.07\n",
      "Fecha: 20240817, Usuarios únicos: 111.00, Media móvil 14d: 124.57, Media móvil 28d: 133.21\n",
      "Fecha: 20240818, Usuarios únicos: 35.00, Media móvil 14d: 124.71, Media móvil 28d: 133.07\n",
      "Fecha: 20240819, Usuarios únicos: 162.00, Media móvil 14d: 123.79, Media móvil 28d: 133.46\n",
      "Fecha: 20240820, Usuarios únicos: 152.00, Media móvil 14d: 124.86, Media móvil 28d: 134.68\n",
      "Fecha: 20240821, Usuarios únicos: 150.00, Media móvil 14d: 123.36, Media móvil 28d: 136.82\n",
      "Fecha: 20240822, Usuarios únicos: 128.00, Media móvil 14d: 123.57, Media móvil 28d: 139.25\n",
      "Fecha: 20240823, Usuarios únicos: 170.00, Media móvil 14d: 132.50, Media móvil 28d: 142.07\n",
      "Fecha: 20240824, Usuarios únicos: 147.00, Media móvil 14d: 136.71, Media móvil 28d: 143.96\n",
      "Fecha: 20240825, Usuarios únicos: 18.00, Media móvil 14d: 140.14, Media móvil 28d: 145.04\n",
      "Fecha: 20240826, Usuarios únicos: 162.00, Media móvil 14d: 140.36, Media móvil 28d: 145.61\n",
      "Fecha: 20240827, Usuarios únicos: 158.00, Media móvil 14d: 143.00, Media móvil 28d: 149.32\n",
      "Fecha: 20240828, Usuarios únicos: 174.00, Media móvil 14d: 147.57, Media móvil 28d: 152.71\n",
      "Fecha: 20240829, Usuarios únicos: 155.00, Media móvil 14d: 153.79, Media móvil 28d: 155.96\n",
      "Fecha: 20240830, Usuarios únicos: 192.00, Media móvil 14d: 159.93, Media móvil 28d: 163.39\n",
      "Fecha: 20240831, Usuarios únicos: 159.00, Media móvil 14d: 163.36, Media móvil 28d: 167.36\n",
      "Fecha: 20240901, Usuarios únicos: 38.00, Media móvil 14d: 165.36, Media móvil 28d: 170.07\n",
      "Fecha: 20240902, Usuarios únicos: 199.00, Media móvil 14d: 167.43, Media móvil 28d: 170.68\n",
      "Fecha: 20240903, Usuarios únicos: 216.00, Media móvil 14d: 173.79, Media móvil 28d: 174.43\n",
      "Fecha: 20240904, Usuarios únicos: 237.00, Media móvil 14d: 182.07, Media móvil 28d: 177.46\n",
      "Fecha: 20240905, Usuarios únicos: 214.00, Media móvil 14d: 188.36, Media móvil 28d: 181.32\n",
      "Fecha: 20240906, Usuarios únicos: 218.00, Media móvil 14d: 194.29, Media móvil 28d: 184.89\n",
      "Fecha: 20240907, Usuarios únicos: 175.00, Media móvil 14d: 198.00, Media móvil 28d: 186.96\n",
      "Fecha: 20240908, Usuarios únicos: 47.00, Media móvil 14d: 200.00, Media móvil 28d: 188.93\n",
      "Fecha: 20240909, Usuarios únicos: 251.00, Media móvil 14d: 201.00, Media móvil 28d: 190.11\n",
      "Fecha: 20240910, Usuarios únicos: 274.00, Media móvil 14d: 205.86, Media móvil 28d: 193.61\n",
      "Fecha: 20240911, Usuarios únicos: 262.00, Media móvil 14d: 207.36, Media móvil 28d: 197.04\n",
      "Fecha: 20240912, Usuarios únicos: 238.00, Media móvil 14d: 208.86, Media móvil 28d: 199.64\n",
      "Fecha: 20240913, Usuarios únicos: 244.00, Media móvil 14d: 209.86, Media móvil 28d: 201.68\n",
      "Fecha: 20240914, Usuarios únicos: 187.00, Media móvil 14d: 210.57, Media móvil 28d: 201.50\n",
      "Fecha: 20240915, Usuarios únicos: 52.00, Media móvil 14d: 212.50, Media móvil 28d: 200.54\n",
      "Fecha: 20240916, Usuarios únicos: 267.00, Media móvil 14d: 212.79, Media móvil 28d: 200.75\n",
      "Fecha: 20240917, Usuarios únicos: 237.00, Media móvil 14d: 213.43, Media móvil 28d: 199.61\n",
      "Fecha: 20240918, Usuarios únicos: 258.00, Media móvil 14d: 212.00, Media móvil 28d: 202.54\n",
      "Fecha: 20240919, Usuarios únicos: 228.00, Media móvil 14d: 210.93, Media móvil 28d: 203.93\n",
      "Fecha: 20240920, Usuarios únicos: 228.00, Media móvil 14d: 209.07, Media móvil 28d: 205.14\n",
      "Fecha: 20240921, Usuarios únicos: 202.00, Media móvil 14d: 205.00, Media móvil 28d: 206.57\n",
      "Fecha: 20240922, Usuarios únicos: 51.00, Media móvil 14d: 201.07, Media móvil 28d: 207.75\n",
      "Fecha: 20240923, Usuarios únicos: 260.00, Media móvil 14d: 200.50, Media móvil 28d: 207.54\n",
      "Fecha: 20240924, Usuarios únicos: 254.00, Media móvil 14d: 193.36, Media móvil 28d: 207.29\n",
      "Fecha: 20240925, Usuarios únicos: 247.00, Media móvil 14d: 197.71, Media móvil 28d: 204.79\n",
      "Fecha: 20240926, Usuarios únicos: 212.00, Media móvil 14d: 199.00, Media móvil 28d: 203.75\n",
      "Fecha: 20240927, Usuarios únicos: 187.00, Media móvil 14d: 200.43, Media móvil 28d: 204.61\n",
      "Fecha: 20240928, Usuarios únicos: 132.00, Media móvil 14d: 202.57, Media móvil 28d: 206.54\n",
      "Fecha: 20240929, Usuarios únicos: 44.00, Media móvil 14d: 203.00, Media móvil 28d: 202.07\n",
      "Fecha: 20240930, Usuarios únicos: 167.00, Media móvil 14d: 202.29, Media móvil 28d: 202.32\n",
      "Fecha: 20241001, Usuarios únicos: 298.00, Media móvil 14d: 201.14, Media móvil 28d: 201.25\n",
      "Fecha: 20241002, Usuarios únicos: 276.00, Media móvil 14d: 197.57, Media móvil 28d: 202.68\n",
      "Fecha: 20241003, Usuarios únicos: 248.00, Media móvil 14d: 196.57, Media móvil 28d: 202.93\n",
      "Fecha: 20241004, Usuarios únicos: 258.00, Media móvil 14d: 200.14, Media móvil 28d: 203.61\n",
      "Fecha: 20241005, Usuarios únicos: 208.00, Media móvil 14d: 208.07, Media móvil 28d: 205.79\n",
      "Fecha: 20241006, Usuarios únicos: 41.00, Media móvil 14d: 203.07, Media móvil 28d: 205.71\n",
      "Fecha: 20241007, Usuarios únicos: 244.00, Media móvil 14d: 204.14, Media móvil 28d: 205.71\n",
      "Fecha: 20241008, Usuarios únicos: 204.00, Media móvil 14d: 209.14, Media móvil 28d: 204.96\n",
      "Fecha: 20241009, Usuarios únicos: 233.00, Media móvil 14d: 207.64, Media móvil 28d: 205.61\n",
      "Fecha: 20241010, Usuarios únicos: 262.00, Media móvil 14d: 206.86, Media móvil 28d: 205.64\n",
      "Fecha: 20241011, Usuarios únicos: 298.00, Media móvil 14d: 206.79, Media móvil 28d: 206.00\n",
      "Fecha: 20241012, Usuarios únicos: 62.00, Media móvil 14d: 209.00, Media móvil 28d: 207.29\n",
      "Fecha: 20241013, Usuarios únicos: 59.00, Media móvil 14d: 208.43, Media móvil 28d: 209.54\n",
      "Fecha: 20241014, Usuarios únicos: 237.00, Media móvil 14d: 209.14, Media móvil 28d: 209.54\n",
      "Fecha: 20241015, Usuarios únicos: 277.00, Media móvil 14d: 208.79, Media móvil 28d: 211.64\n",
      "Fecha: 20241016, Usuarios únicos: 265.00, Media móvil 14d: 213.64, Media móvil 28d: 209.14\n",
      "Fecha: 20241017, Usuarios únicos: 247.00, Media móvil 14d: 214.71, Media móvil 28d: 207.57\n",
      "Fecha: 20241018, Usuarios únicos: 289.00, Media móvil 14d: 211.86, Media móvil 28d: 206.00\n",
      "Fecha: 20241019, Usuarios únicos: 200.00, Media móvil 14d: 206.50, Media móvil 28d: 199.79\n",
      "Fecha: 20241020, Usuarios únicos: 51.00, Media móvil 14d: 216.00, Media móvil 28d: 198.61\n",
      "Fecha: 20241021, Usuarios únicos: 239.00, Media móvil 14d: 214.93, Media móvil 28d: 199.07\n",
      "Fecha: 20241022, Usuarios únicos: 272.00, Media móvil 14d: 214.14, Media móvil 28d: 200.93\n",
      "Fecha: 20241023, Usuarios únicos: 248.00, Media móvil 14d: 210.64, Media móvil 28d: 203.79\n",
      "Fecha: 20241024, Usuarios únicos: 222.00, Media móvil 14d: 208.29, Media móvil 28d: 206.50\n",
      "Fecha: 20241025, Usuarios únicos: 223.00, Media móvil 14d: 205.21, Media móvil 28d: 206.93\n",
      "Fecha: 20241026, Usuarios únicos: 195.00, Media móvil 14d: 190.57, Media móvil 28d: 205.86\n",
      "Fecha: 20241027, Usuarios únicos: 44.00, Media móvil 14d: 188.79, Media móvil 28d: 212.36\n",
      "Fecha: 20241028, Usuarios únicos: 226.00, Media móvil 14d: 189.00, Media móvil 28d: 212.36\n",
      "Fecha: 20241029, Usuarios únicos: 228.00, Media móvil 14d: 193.07, Media móvil 28d: 213.43\n",
      "Fecha: 20241030, Usuarios únicos: 232.00, Media móvil 14d: 193.93, Media móvil 28d: 214.29\n",
      "Fecha: 20241031, Usuarios únicos: 204.00, Media móvil 14d: 198.29, Media móvil 28d: 214.82\n",
      "Fecha: 20241101, Usuarios únicos: 84.00, Media móvil 14d: 202.00, Media móvil 28d: 216.11\n",
      "Fecha: 20241102, Usuarios únicos: 175.00, Media móvil 14d: 205.21, Media móvil 28d: 217.32\n",
      "Fecha: 20241103, Usuarios únicos: 54.00, Media móvil 14d: 208.71, Media móvil 28d: 218.46\n",
      "Fecha: 20241104, Usuarios únicos: 296.00, Media móvil 14d: 209.79, Media móvil 28d: 218.43\n",
      "Fecha: 20241105, Usuarios únicos: 284.00, Media móvil 14d: 212.71, Media móvil 28d: 219.75\n",
      "Fecha: 20241106, Usuarios únicos: 309.00, Media móvil 14d: 217.93, Media móvil 28d: 220.79\n",
      "Fecha: 20241107, Usuarios únicos: 274.00, Media móvil 14d: 221.36, Media móvil 28d: 221.50\n",
      "Fecha: 20241108, Usuarios únicos: 268.00, Media móvil 14d: 227.00, Media móvil 28d: 222.29\n",
      "Fecha: 20241109, Usuarios únicos: 244.00, Media móvil 14d: 244.07, Media móvil 28d: 222.50\n",
      "Fecha: 20241110, Usuarios únicos: 59.00, Media móvil 14d: 248.14, Media móvil 28d: 222.36\n",
      "Fecha: 20241111, Usuarios únicos: 267.00, Media móvil 14d: 247.86, Media móvil 28d: 222.79\n",
      "Fecha: 20241112, Usuarios únicos: 301.00, Media móvil 14d: 246.43, Media móvil 28d: 221.04\n",
      "Fecha: 20241113, Usuarios únicos: 280.00, Media móvil 14d: 247.64, Media móvil 28d: 220.71\n",
      "Fecha: 20241114, Usuarios únicos: 283.00, Media móvil 14d: 244.71, Media móvil 28d: 220.71\n",
      "Fecha: 20241115, Usuarios únicos: 323.00, Media móvil 14d: 242.57, Media móvil 28d: 220.68\n",
      "Fecha: 20241116, Usuarios únicos: 232.00, Media móvil 14d: 239.79, Media móvil 28d: 224.39\n",
      "Fecha: 20241117, Usuarios únicos: 50.00, Media móvil 14d: 236.00, Media móvil 28d: 223.07\n",
      "Fecha: 20241118, Usuarios únicos: 276.00, Media móvil 14d: 235.79, Media móvil 28d: 223.46\n",
      "Fecha: 20241119, Usuarios únicos: 301.00, Media móvil 14d: 229.36, Media móvil 28d: 223.57\n",
      "Fecha: 20241120, Usuarios únicos: 268.00, Media móvil 14d: 223.50, Media móvil 28d: 224.39\n",
      "Fecha: 20241121, Usuarios únicos: 244.00, Media móvil 14d: 220.07, Media móvil 28d: 224.89\n",
      "Fecha: 20241122, Usuarios únicos: 229.00, Media móvil 14d: 214.36, Media móvil 28d: 226.61\n",
      "Fecha: 20241123, Usuarios únicos: 191.00, Media móvil 14d: 204.71, Media móvil 28d: 219.39\n",
      "Fecha: 20241124, Usuarios únicos: 56.00, Media móvil 14d: 198.00, Media móvil 28d: 217.75\n",
      "Fecha: 20241125, Usuarios únicos: 177.00, Media móvil 14d: 199.07, Media móvil 28d: 217.25\n",
      "Fecha: 20241126, Usuarios únicos: 219.00, Media móvil 14d: 200.71, Media móvil 28d: 217.39\n",
      "Fecha: 20241127, Usuarios únicos: 232.00, Media móvil 14d: 201.14, Media móvil 28d: 217.61\n",
      "Fecha: 20241128, Usuarios únicos: 203.00, Media móvil 14d: 205.07, Media móvil 28d: 219.68\n",
      "Fecha: 20241129, Usuarios únicos: 188.00, Media móvil 14d: 210.64, Media móvil 28d: 219.75\n",
      "Fecha: 20241130, Usuarios únicos: 138.00, Media móvil 14d: 199.00, Media móvil 28d: 218.29\n",
      "Fecha: 20241201, Usuarios únicos: 65.00, Media móvil 14d: 199.50, Media móvil 28d: 217.61\n",
      "Fecha: 20241202, Usuarios únicos: 299.00, Media móvil 14d: 198.71, Media móvil 28d: 217.96\n",
      "Fecha: 20241203, Usuarios únicos: 307.00, Media móvil 14d: 205.43, Media móvil 28d: 218.14\n",
      "Fecha: 20241204, Usuarios únicos: 323.00, Media móvil 14d: 211.71, Media móvil 28d: 218.29\n",
      "Fecha: 20241205, Usuarios únicos: 322.00, Media móvil 14d: 219.29, Media móvil 28d: 220.29\n",
      "Fecha: 20241206, Usuarios únicos: 66.00, Media móvil 14d: 225.14, Media móvil 28d: 222.43\n",
      "Fecha: 20241207, Usuarios únicos: 198.00, Media móvil 14d: 231.86, Media móvil 28d: 224.89\n",
      "Fecha: 20241208, Usuarios únicos: 45.00, Media móvil 14d: 237.21, Media móvil 28d: 225.25\n",
      "Fecha: 20241209, Usuarios únicos: 271.00, Media móvil 14d: 236.86, Media móvil 28d: 225.00\n",
      "Fecha: 20241210, Usuarios únicos: 307.00, Media móvil 14d: 235.57, Media móvil 28d: 229.14\n",
      "Fecha: 20241211, Usuarios únicos: 338.00, Media móvil 14d: 235.43, Media móvil 28d: 228.75\n",
      "Fecha: 20241212, Usuarios únicos: 285.00, Media móvil 14d: 235.50, Media móvil 28d: 220.75\n",
      "Fecha: 20241213, Usuarios únicos: 282.00, Media móvil 14d: 234.21, Media móvil 28d: 219.75\n",
      "Fecha: 20241214, Usuarios únicos: 213.00, Media móvil 14d: 250.79, Media móvil 28d: 220.18\n",
      "Fecha: 20241215, Usuarios únicos: 60.00, Media móvil 14d: 251.00, Media móvil 28d: 220.89\n",
      "Fecha: 20241216, Usuarios únicos: 281.00, Media móvil 14d: 251.29, Media móvil 28d: 220.04\n",
      "Fecha: 20241217, Usuarios únicos: 305.00, Media móvil 14d: 252.86, Media móvil 28d: 217.14\n",
      "Fecha: 20241218, Usuarios únicos: 324.00, Media móvil 14d: 245.79, Media móvil 28d: 212.36\n",
      "Fecha: 20241219, Usuarios únicos: 304.00, Media móvil 14d: 222.21, Media móvil 28d: nan\n",
      "Fecha: 20241220, Usuarios únicos: 298.00, Media móvil 14d: 214.36, Media móvil 28d: nan\n",
      "Fecha: 20241221, Usuarios únicos: 201.00, Media móvil 14d: 208.50, Media móvil 28d: nan\n",
      "Fecha: 20241222, Usuarios únicos: 49.00, Media móvil 14d: 204.57, Media móvil 28d: nan\n",
      "Fecha: 20241223, Usuarios únicos: 293.00, Media móvil 14d: 203.21, Media móvil 28d: nan\n",
      "Fecha: 20241224, Usuarios únicos: 208.00, Media móvil 14d: 198.71, Media móvil 28d: nan\n",
      "Fecha: 20241225, Usuarios únicos: 8.00, Media móvil 14d: 189.29, Media móvil 28d: nan\n",
      "Fecha: 20241226, Usuarios únicos: 175.00, Media móvil 14d: nan, Media móvil 28d: nan\n",
      "Fecha: 20241227, Usuarios únicos: 200.00, Media móvil 14d: nan, Media móvil 28d: nan\n",
      "Fecha: 20241228, Usuarios únicos: 158.00, Media móvil 14d: nan, Media móvil 28d: nan\n",
      "Fecha: 20241229, Usuarios únicos: 41.00, Media móvil 14d: nan, Media móvil 28d: nan\n",
      "Fecha: 20241230, Usuarios únicos: 218.00, Media móvil 14d: nan, Media móvil 28d: nan\n",
      "Fecha: 20241231, Usuarios únicos: 173.00, Media móvil 14d: nan, Media móvil 28d: nan\n",
      "\n",
      "PROMEDIOS POR DÍA DE LA SEMANA:\n",
      "Lunes: 221.06\n",
      "Martes: 237.28\n",
      "Miércoles: 229.44\n",
      "Jueves: 220.23\n",
      "Viernes: 226.52\n",
      "Sábado: 180.27\n",
      "Domingo: 46.12\n",
      "\n",
      "USUARIOS ÚNICOS POR MES:\n",
      "Enero: 860.00\n",
      "Febrero: 849.00\n",
      "Marzo: 849.00\n",
      "Abril: 836.00\n",
      "Mayo: 884.00\n",
      "Junio: 854.00\n",
      "Julio: 852.00\n",
      "Agosto: 773.00\n",
      "Septiembre: 868.00\n",
      "Octubre: 914.00\n",
      "Noviembre: 922.00\n",
      "Diciembre: 949.00\n"
     ]
    }
   ],
   "source": [
    "# La consulta SQL\n",
    "query_datos_completo = \"\"\"\n",
    "WITH usuarios_diarios AS (\n",
    "    -- Usuarios únicos por día (al menos una compra al día)\n",
    "    SELECT \n",
    "        f.Id_fecha,\n",
    "        COUNT(DISTINCT \n",
    "            CASE WHEN \n",
    "                (o.Operacion IN ('Pago a usuario', 'Cobro desde QR') AND \n",
    "                 (\n",
    "                   (du_origen.Tipo_usuario = 'usuario' AND \n",
    "                    du_destino.Tipo_usuario IN ('Empresa', 'autonomo'))\n",
    "                   OR\n",
    "                   (du_origen.Tipo_usuario IN ('Empresa', 'autonomo') AND \n",
    "                    du_destino.Tipo_usuario IN ('Empresa', 'autonomo'))\n",
    "                 ))\n",
    "                THEN f.Usuario_emisor\n",
    "            END\n",
    "        ) as usuarios_unicos_dia\n",
    "    FROM fact_table f\n",
    "    JOIN dim_usuarios du_origen ON f.Usuario_emisor = du_origen.Id_usuario\n",
    "    JOIN dim_usuarios du_destino ON f.Usuario_receptor = du_destino.Id_usuario\n",
    "    JOIN dim_operaciones o ON f.Id_tipo_operacion = o.Id_tipo_operacion\n",
    "    WHERE SUBSTRING(f.Id_fecha, 1, 4) = '2024'\n",
    "    GROUP BY f.Id_fecha\n",
    "),\n",
    "usuarios_semanales AS (\n",
    "    -- Usuarios únicos por día de la semana (promedio de usuarios únicos diarios)\n",
    "    SELECT \n",
    "        DAYOFWEEK(STR_TO_DATE(Id_fecha, '%Y%m%d')) as dia_semana,\n",
    "        AVG(usuarios_unicos_dia) as promedio_usuarios_dia\n",
    "    FROM usuarios_diarios\n",
    "    GROUP BY DAYOFWEEK(STR_TO_DATE(Id_fecha, '%Y%m%d'))\n",
    "),\n",
    "usuarios_mensuales AS (\n",
    "    -- Usuarios únicos por mes (al menos una compra en el mes)\n",
    "    SELECT \n",
    "        SUBSTRING(f.Id_fecha, 1, 6) as año_mes,\n",
    "        SUBSTRING(f.Id_fecha, 5, 2) as mes,\n",
    "        COUNT(DISTINCT \n",
    "            CASE WHEN \n",
    "                (o.Operacion IN ('Pago a usuario', 'Cobro desde QR') AND \n",
    "                 (\n",
    "                   (du_origen.Tipo_usuario = 'usuario' AND \n",
    "                    du_destino.Tipo_usuario IN ('Empresa', 'autonomo'))\n",
    "                   OR\n",
    "                   (du_origen.Tipo_usuario IN ('Empresa', 'autonomo') AND \n",
    "                    du_destino.Tipo_usuario IN ('Empresa', 'autonomo'))\n",
    "                 ))\n",
    "                THEN f.Usuario_emisor\n",
    "            END\n",
    "        ) as usuarios_unicos_mes\n",
    "    FROM fact_table f\n",
    "    JOIN dim_usuarios du_origen ON f.Usuario_emisor = du_origen.Id_usuario\n",
    "    JOIN dim_usuarios du_destino ON f.Usuario_receptor = du_destino.Id_usuario\n",
    "    JOIN dim_operaciones o ON f.Id_tipo_operacion = o.Id_tipo_operacion\n",
    "    WHERE SUBSTRING(f.Id_fecha, 1, 4) = '2024'\n",
    "    GROUP BY SUBSTRING(f.Id_fecha, 1, 6), SUBSTRING(f.Id_fecha, 5, 2)\n",
    ")\n",
    "SELECT \n",
    "    ud.Id_fecha,\n",
    "    CASE us.dia_semana\n",
    "        WHEN 1 THEN 'Domingo'\n",
    "        WHEN 2 THEN 'Lunes'\n",
    "        WHEN 3 THEN 'Martes'\n",
    "        WHEN 4 THEN 'Miércoles'\n",
    "        WHEN 5 THEN 'Jueves'\n",
    "        WHEN 6 THEN 'Viernes'\n",
    "        WHEN 7 THEN 'Sábado'\n",
    "    END as dia_semana,\n",
    "    CASE um.mes\n",
    "        WHEN '01' THEN 'Enero'\n",
    "        WHEN '02' THEN 'Febrero'\n",
    "        WHEN '03' THEN 'Marzo'\n",
    "        WHEN '04' THEN 'Abril'\n",
    "        WHEN '05' THEN 'Mayo'\n",
    "        WHEN '06' THEN 'Junio'\n",
    "        WHEN '07' THEN 'Julio'\n",
    "        WHEN '08' THEN 'Agosto'\n",
    "        WHEN '09' THEN 'Septiembre'\n",
    "        WHEN '10' THEN 'Octubre'\n",
    "        WHEN '11' THEN 'Noviembre'\n",
    "        WHEN '12' THEN 'Diciembre'\n",
    "    END as mes,\n",
    "    ud.usuarios_unicos_dia,\n",
    "    us.promedio_usuarios_dia,\n",
    "    um.usuarios_unicos_mes\n",
    "FROM usuarios_diarios ud\n",
    "JOIN usuarios_semanales us ON DAYOFWEEK(STR_TO_DATE(ud.Id_fecha, '%Y%m%d')) = us.dia_semana\n",
    "JOIN usuarios_mensuales um ON SUBSTRING(ud.Id_fecha, 5, 2) = um.mes\n",
    "ORDER BY ud.Id_fecha;\n",
    "\"\"\"\n",
    "\n",
    "# Ejecutar la consulta\n",
    "df = ejecutar_query(query_datos_completo)\n",
    "\n",
    "# Convertir Id_fecha a datetime\n",
    "df['fecha'] = pd.to_datetime(df['Id_fecha'], format='%Y%m%d')\n",
    "\n",
    "# Calcular medias móviles para la evolución diaria\n",
    "df['media_movil_14d'] = df['usuarios_unicos_dia'].rolling(window=14, center=True).mean()\n",
    "df['media_movil_28d'] = df['usuarios_unicos_dia'].rolling(window=28, center=True).mean()\n",
    "\n",
    "# Crear las tres gráficas\n",
    "fig = make_subplots(\n",
    "    rows=3, cols=1,\n",
    "    subplot_titles=(\n",
    "        'Evolución Diaria de Usuarios Únicos en Compras (al menos una compra por día)',\n",
    "        'Promedio de Usuarios Únicos por Día de la Semana',\n",
    "        'Usuarios Únicos por Mes (al menos una compra en el mes)'\n",
    "    ),\n",
    "    vertical_spacing=0.12,\n",
    "    row_heights=[0.5, 0.25, 0.25]\n",
    ")\n",
    "\n",
    "# 1. Gráfica de evolución diaria con medias móviles\n",
    "fig.add_trace(\n",
    "    go.Scatter(\n",
    "        x=df['fecha'],\n",
    "        y=df['usuarios_unicos_dia'],\n",
    "        name='Usuarios únicos diarios',\n",
    "        line=dict(color='lightgray', width=1),\n",
    "        mode='lines'\n",
    "    ),\n",
    "    row=1, col=1\n",
    ")\n",
    "\n",
    "fig.add_trace(\n",
    "    go.Scatter(\n",
    "        x=df['fecha'],\n",
    "        y=df['media_movil_14d'],\n",
    "        name='Media móvil 14 días',\n",
    "        line=dict(color='blue', width=2),\n",
    "        mode='lines'\n",
    "    ),\n",
    "    row=1, col=1\n",
    ")\n",
    "\n",
    "fig.add_trace(\n",
    "    go.Scatter(\n",
    "        x=df['fecha'],\n",
    "        y=df['media_movil_28d'],\n",
    "        name='Media móvil 28 días',\n",
    "        line=dict(color='red', width=2),\n",
    "        mode='lines'\n",
    "    ),\n",
    "    row=1, col=1\n",
    ")\n",
    "\n",
    "# 2. Gráfica de patrón semanal\n",
    "orden_dias = ['Lunes', 'Martes', 'Miércoles', 'Jueves', 'Viernes', 'Sábado', 'Domingo']\n",
    "promedios_semanales = df.groupby('dia_semana')['promedio_usuarios_dia'].first().reindex(orden_dias)\n",
    "\n",
    "fig.add_trace(\n",
    "    go.Bar(\n",
    "        x=orden_dias,\n",
    "        y=promedios_semanales,\n",
    "        name='Promedio por día',\n",
    "        marker_color='lightblue'\n",
    "    ),\n",
    "    row=2, col=1\n",
    ")\n",
    "\n",
    "# 3. Gráfica de usuarios únicos mensuales\n",
    "orden_meses = ['Enero', 'Febrero', 'Marzo', 'Abril', 'Mayo', 'Junio', \n",
    "               'Julio', 'Agosto', 'Septiembre', 'Octubre', 'Noviembre', 'Diciembre']\n",
    "usuarios_mensuales = df.groupby('mes')['usuarios_unicos_mes'].first().reindex(orden_meses)\n",
    "\n",
    "fig.add_trace(\n",
    "    go.Bar(\n",
    "        x=orden_meses,\n",
    "        y=usuarios_mensuales,\n",
    "        name='Usuarios únicos por mes',\n",
    "        marker_color='lightgreen'\n",
    "    ),\n",
    "    row=3, col=1\n",
    ")\n",
    "\n",
    "# Actualizar diseño\n",
    "fig.update_layout(\n",
    "    height=1200,\n",
    "    title_text='Análisis de Usuarios Únicos en Operaciones de Compra - 2024',\n",
    "    showlegend=True\n",
    ")\n",
    "\n",
    "# Actualizar ejes\n",
    "fig.update_xaxes(title_text=\"Fecha\", row=1, col=1)\n",
    "fig.update_xaxes(title_text=\"Día de la Semana\", row=2, col=1)\n",
    "fig.update_xaxes(title_text=\"Mes\", row=3, col=1)\n",
    "\n",
    "fig.update_yaxes(title_text=\"Número de Usuarios Únicos por Día\", row=1, col=1)\n",
    "fig.update_yaxes(title_text=\"Promedio de Usuarios Únicos por Día\", row=2, col=1)\n",
    "fig.update_yaxes(title_text=\"Total Usuarios Únicos por Mes\", row=3, col=1)\n",
    "\n",
    "# Mostrar la figura\n",
    "fig.show()\n",
    "\n",
    "# Después de ejecutar la query y tener el DataFrame df\n",
    "\n",
    "# Crear diccionario con toda la información\n",
    "resultados = {\n",
    "    \"estadisticas_diarias\": {\n",
    "        \"media_usuarios_dia\": float(df['usuarios_unicos_dia'].mean()),\n",
    "        \"mediana_usuarios_dia\": float(df['usuarios_unicos_dia'].median()),\n",
    "        \"maximo_usuarios_dia\": float(df['usuarios_unicos_dia'].max()),\n",
    "        \"minimo_usuarios_dia\": float(df['usuarios_unicos_dia'].min())\n",
    "    },\n",
    "    \"datos_diarios\": df[['Id_fecha', 'usuarios_unicos_dia', 'media_movil_14d', 'media_movil_28d']].to_dict('records'),\n",
    "    \"promedios_semanales\": promedios_semanales.to_dict(),\n",
    "    \"usuarios_mensuales\": usuarios_mensuales.to_dict()\n",
    "}\n",
    "\n",
    "# Imprimir en formato texto plano\n",
    "print(\"\\nESTADÍSTICAS DIARIAS:\")\n",
    "print(f\"Media de usuarios únicos por día: {resultados['estadisticas_diarias']['media_usuarios_dia']:.2f}\")\n",
    "print(f\"Mediana de usuarios únicos por día: {resultados['estadisticas_diarias']['mediana_usuarios_dia']:.2f}\")\n",
    "print(f\"Máximo de usuarios únicos en un día: {resultados['estadisticas_diarias']['maximo_usuarios_dia']:.2f}\")\n",
    "print(f\"Mínimo de usuarios únicos en un día: {resultados['estadisticas_diarias']['minimo_usuarios_dia']:.2f}\")\n",
    "\n",
    "print(\"\\nDATOS DIARIOS:\")\n",
    "for dato in resultados['datos_diarios']:\n",
    "    print(f\"Fecha: {dato['Id_fecha']}, \"\n",
    "          f\"Usuarios únicos: {dato['usuarios_unicos_dia']:.2f}, \"\n",
    "          f\"Media móvil 14d: {dato['media_movil_14d']:.2f}, \"\n",
    "          f\"Media móvil 28d: {dato['media_movil_28d']:.2f}\")\n",
    "\n",
    "print(\"\\nPROMEDIOS POR DÍA DE LA SEMANA:\")\n",
    "for dia, promedio in resultados['promedios_semanales'].items():\n",
    "    print(f\"{dia}: {promedio:.2f}\")\n",
    "\n",
    "print(\"\\nUSUARIOS ÚNICOS POR MES:\")\n",
    "for mes, usuarios in resultados['usuarios_mensuales'].items():\n",
    "    print(f\"{mes}: {usuarios:.2f}\")"
   ]
  },
  {
   "cell_type": "markdown",
   "metadata": {},
   "source": [
    "CORRECION QUERIES LANDING"
   ]
  },
  {
   "cell_type": "code",
   "execution_count": 15,
   "metadata": {},
   "outputs": [
    {
     "name": "stderr",
     "output_type": "stream",
     "text": [
      "C:\\Users\\mikel\\AppData\\Local\\Temp\\ipykernel_12748\\1450764005.py:22: UserWarning:\n",
      "\n",
      "pandas only supports SQLAlchemy connectable (engine/connection) or database string URI or sqlite3 DBAPI2 connection. Other DBAPI2 objects are not tested. Please consider using SQLAlchemy.\n",
      "\n"
     ]
    },
    {
     "data": {
      "application/vnd.plotly.v1+json": {
       "config": {
        "plotlyServerURL": "https://plot.ly"
       },
       "data": [
        {
         "marker": {
          "color": "#636EFA"
         },
         "name": "Noviembre 2024",
         "type": "bar",
         "x": [
          "usuario",
          "Empresas"
         ],
         "xaxis": "x",
         "y": [
          1563,
          128
         ],
         "yaxis": "y"
        },
        {
         "marker": {
          "color": "#EF553B"
         },
         "name": "Diciembre 2024",
         "type": "bar",
         "x": [
          "usuario",
          "Empresas"
         ],
         "xaxis": "x",
         "y": [
          1572,
          128
         ],
         "yaxis": "y"
        },
        {
         "line": {
          "color": "#EF553B"
         },
         "name": "Gasto Medio",
         "type": "scatter",
         "x": [
          1,
          2,
          3,
          4,
          5,
          6,
          7,
          8,
          9,
          10,
          11,
          12
         ],
         "xaxis": "x2",
         "y": [
          244.35,
          224.07,
          240.7,
          236.45,
          250.24,
          238.6,
          234.49,
          190.41,
          226.15,
          255.98,
          237.45,
          296.48
         ],
         "yaxis": "y2"
        },
        {
         "line": {
          "color": "#00CC96"
         },
         "name": "Ahorro Medio",
         "type": "scatter",
         "x": [
          1,
          2,
          3,
          4,
          5,
          6,
          7,
          8,
          9,
          10,
          11,
          12
         ],
         "xaxis": "x2",
         "y": [
          17.79,
          18.5,
          18.71,
          19.36,
          19.48,
          19.41,
          18.96,
          16.31,
          18.92,
          21.65,
          18.63,
          23.33
         ],
         "yaxis": "y2"
        },
        {
         "marker": {
          "color": "#00CC96"
         },
         "name": "Entradas",
         "type": "bar",
         "x": [
          1,
          2,
          3,
          4,
          5,
          6,
          7,
          8,
          9,
          10,
          11,
          12
         ],
         "xaxis": "x3",
         "y": [
          119595.56,
          112830.54,
          107068.61,
          114843.64,
          123098.63,
          116902.01,
          109150.21,
          80660.1,
          112499.16,
          131111.03,
          121995.6,
          159093.4
         ],
         "yaxis": "y3"
        },
        {
         "marker": {
          "color": "#EF553B"
         },
         "name": "Salidas",
         "type": "bar",
         "x": [
          1,
          2,
          3,
          4,
          5,
          6,
          7,
          8,
          9,
          10,
          11,
          12
         ],
         "xaxis": "x3",
         "y": [
          114861.84,
          106270.51,
          83092.69,
          116215.89,
          113183,
          102486.76,
          119416.19,
          74975.69,
          85581.52,
          145572.79,
          96226.27,
          127653.96
         ],
         "yaxis": "y3"
        },
        {
         "line": {
          "color": "#AB63FA"
         },
         "name": "Balance",
         "type": "scatter",
         "x": [
          1,
          2,
          3,
          4,
          5,
          6,
          7,
          8,
          9,
          10,
          11,
          12
         ],
         "xaxis": "x4",
         "y": [
          4733.72,
          6560.03,
          23975.92,
          -1372.25,
          9915.63,
          14415.25,
          -10265.98,
          5684.41,
          26917.64,
          -14461.76,
          25769.33,
          31439.44
         ],
         "yaxis": "y4"
        }
       ],
       "layout": {
        "annotations": [
         {
          "font": {
           "size": 16
          },
          "showarrow": false,
          "text": "Usuarios por Categoría",
          "x": 0.225,
          "xanchor": "center",
          "xref": "paper",
          "y": 1,
          "yanchor": "bottom",
          "yref": "paper"
         },
         {
          "font": {
           "size": 16
          },
          "showarrow": false,
          "text": "Gasto y Ahorro Medio Mensual",
          "x": 0.775,
          "xanchor": "center",
          "xref": "paper",
          "y": 1,
          "yanchor": "bottom",
          "yref": "paper"
         },
         {
          "font": {
           "size": 16
          },
          "showarrow": false,
          "text": "Flujo de Caja Mensual",
          "x": 0.225,
          "xanchor": "center",
          "xref": "paper",
          "y": 0.375,
          "yanchor": "bottom",
          "yref": "paper"
         },
         {
          "font": {
           "size": 16
          },
          "showarrow": false,
          "text": "Balance Mensual",
          "x": 0.775,
          "xanchor": "center",
          "xref": "paper",
          "y": 0.375,
          "yanchor": "bottom",
          "yref": "paper"
         }
        ],
        "height": 800,
        "showlegend": true,
        "template": {
         "data": {
          "bar": [
           {
            "error_x": {
             "color": "#2a3f5f"
            },
            "error_y": {
             "color": "#2a3f5f"
            },
            "marker": {
             "line": {
              "color": "white",
              "width": 0.5
             },
             "pattern": {
              "fillmode": "overlay",
              "size": 10,
              "solidity": 0.2
             }
            },
            "type": "bar"
           }
          ],
          "barpolar": [
           {
            "marker": {
             "line": {
              "color": "white",
              "width": 0.5
             },
             "pattern": {
              "fillmode": "overlay",
              "size": 10,
              "solidity": 0.2
             }
            },
            "type": "barpolar"
           }
          ],
          "carpet": [
           {
            "aaxis": {
             "endlinecolor": "#2a3f5f",
             "gridcolor": "#C8D4E3",
             "linecolor": "#C8D4E3",
             "minorgridcolor": "#C8D4E3",
             "startlinecolor": "#2a3f5f"
            },
            "baxis": {
             "endlinecolor": "#2a3f5f",
             "gridcolor": "#C8D4E3",
             "linecolor": "#C8D4E3",
             "minorgridcolor": "#C8D4E3",
             "startlinecolor": "#2a3f5f"
            },
            "type": "carpet"
           }
          ],
          "choropleth": [
           {
            "colorbar": {
             "outlinewidth": 0,
             "ticks": ""
            },
            "type": "choropleth"
           }
          ],
          "contour": [
           {
            "colorbar": {
             "outlinewidth": 0,
             "ticks": ""
            },
            "colorscale": [
             [
              0,
              "#0d0887"
             ],
             [
              0.1111111111111111,
              "#46039f"
             ],
             [
              0.2222222222222222,
              "#7201a8"
             ],
             [
              0.3333333333333333,
              "#9c179e"
             ],
             [
              0.4444444444444444,
              "#bd3786"
             ],
             [
              0.5555555555555556,
              "#d8576b"
             ],
             [
              0.6666666666666666,
              "#ed7953"
             ],
             [
              0.7777777777777778,
              "#fb9f3a"
             ],
             [
              0.8888888888888888,
              "#fdca26"
             ],
             [
              1,
              "#f0f921"
             ]
            ],
            "type": "contour"
           }
          ],
          "contourcarpet": [
           {
            "colorbar": {
             "outlinewidth": 0,
             "ticks": ""
            },
            "type": "contourcarpet"
           }
          ],
          "heatmap": [
           {
            "colorbar": {
             "outlinewidth": 0,
             "ticks": ""
            },
            "colorscale": [
             [
              0,
              "#0d0887"
             ],
             [
              0.1111111111111111,
              "#46039f"
             ],
             [
              0.2222222222222222,
              "#7201a8"
             ],
             [
              0.3333333333333333,
              "#9c179e"
             ],
             [
              0.4444444444444444,
              "#bd3786"
             ],
             [
              0.5555555555555556,
              "#d8576b"
             ],
             [
              0.6666666666666666,
              "#ed7953"
             ],
             [
              0.7777777777777778,
              "#fb9f3a"
             ],
             [
              0.8888888888888888,
              "#fdca26"
             ],
             [
              1,
              "#f0f921"
             ]
            ],
            "type": "heatmap"
           }
          ],
          "heatmapgl": [
           {
            "colorbar": {
             "outlinewidth": 0,
             "ticks": ""
            },
            "colorscale": [
             [
              0,
              "#0d0887"
             ],
             [
              0.1111111111111111,
              "#46039f"
             ],
             [
              0.2222222222222222,
              "#7201a8"
             ],
             [
              0.3333333333333333,
              "#9c179e"
             ],
             [
              0.4444444444444444,
              "#bd3786"
             ],
             [
              0.5555555555555556,
              "#d8576b"
             ],
             [
              0.6666666666666666,
              "#ed7953"
             ],
             [
              0.7777777777777778,
              "#fb9f3a"
             ],
             [
              0.8888888888888888,
              "#fdca26"
             ],
             [
              1,
              "#f0f921"
             ]
            ],
            "type": "heatmapgl"
           }
          ],
          "histogram": [
           {
            "marker": {
             "pattern": {
              "fillmode": "overlay",
              "size": 10,
              "solidity": 0.2
             }
            },
            "type": "histogram"
           }
          ],
          "histogram2d": [
           {
            "colorbar": {
             "outlinewidth": 0,
             "ticks": ""
            },
            "colorscale": [
             [
              0,
              "#0d0887"
             ],
             [
              0.1111111111111111,
              "#46039f"
             ],
             [
              0.2222222222222222,
              "#7201a8"
             ],
             [
              0.3333333333333333,
              "#9c179e"
             ],
             [
              0.4444444444444444,
              "#bd3786"
             ],
             [
              0.5555555555555556,
              "#d8576b"
             ],
             [
              0.6666666666666666,
              "#ed7953"
             ],
             [
              0.7777777777777778,
              "#fb9f3a"
             ],
             [
              0.8888888888888888,
              "#fdca26"
             ],
             [
              1,
              "#f0f921"
             ]
            ],
            "type": "histogram2d"
           }
          ],
          "histogram2dcontour": [
           {
            "colorbar": {
             "outlinewidth": 0,
             "ticks": ""
            },
            "colorscale": [
             [
              0,
              "#0d0887"
             ],
             [
              0.1111111111111111,
              "#46039f"
             ],
             [
              0.2222222222222222,
              "#7201a8"
             ],
             [
              0.3333333333333333,
              "#9c179e"
             ],
             [
              0.4444444444444444,
              "#bd3786"
             ],
             [
              0.5555555555555556,
              "#d8576b"
             ],
             [
              0.6666666666666666,
              "#ed7953"
             ],
             [
              0.7777777777777778,
              "#fb9f3a"
             ],
             [
              0.8888888888888888,
              "#fdca26"
             ],
             [
              1,
              "#f0f921"
             ]
            ],
            "type": "histogram2dcontour"
           }
          ],
          "mesh3d": [
           {
            "colorbar": {
             "outlinewidth": 0,
             "ticks": ""
            },
            "type": "mesh3d"
           }
          ],
          "parcoords": [
           {
            "line": {
             "colorbar": {
              "outlinewidth": 0,
              "ticks": ""
             }
            },
            "type": "parcoords"
           }
          ],
          "pie": [
           {
            "automargin": true,
            "type": "pie"
           }
          ],
          "scatter": [
           {
            "fillpattern": {
             "fillmode": "overlay",
             "size": 10,
             "solidity": 0.2
            },
            "type": "scatter"
           }
          ],
          "scatter3d": [
           {
            "line": {
             "colorbar": {
              "outlinewidth": 0,
              "ticks": ""
             }
            },
            "marker": {
             "colorbar": {
              "outlinewidth": 0,
              "ticks": ""
             }
            },
            "type": "scatter3d"
           }
          ],
          "scattercarpet": [
           {
            "marker": {
             "colorbar": {
              "outlinewidth": 0,
              "ticks": ""
             }
            },
            "type": "scattercarpet"
           }
          ],
          "scattergeo": [
           {
            "marker": {
             "colorbar": {
              "outlinewidth": 0,
              "ticks": ""
             }
            },
            "type": "scattergeo"
           }
          ],
          "scattergl": [
           {
            "marker": {
             "colorbar": {
              "outlinewidth": 0,
              "ticks": ""
             }
            },
            "type": "scattergl"
           }
          ],
          "scattermapbox": [
           {
            "marker": {
             "colorbar": {
              "outlinewidth": 0,
              "ticks": ""
             }
            },
            "type": "scattermapbox"
           }
          ],
          "scatterpolar": [
           {
            "marker": {
             "colorbar": {
              "outlinewidth": 0,
              "ticks": ""
             }
            },
            "type": "scatterpolar"
           }
          ],
          "scatterpolargl": [
           {
            "marker": {
             "colorbar": {
              "outlinewidth": 0,
              "ticks": ""
             }
            },
            "type": "scatterpolargl"
           }
          ],
          "scatterternary": [
           {
            "marker": {
             "colorbar": {
              "outlinewidth": 0,
              "ticks": ""
             }
            },
            "type": "scatterternary"
           }
          ],
          "surface": [
           {
            "colorbar": {
             "outlinewidth": 0,
             "ticks": ""
            },
            "colorscale": [
             [
              0,
              "#0d0887"
             ],
             [
              0.1111111111111111,
              "#46039f"
             ],
             [
              0.2222222222222222,
              "#7201a8"
             ],
             [
              0.3333333333333333,
              "#9c179e"
             ],
             [
              0.4444444444444444,
              "#bd3786"
             ],
             [
              0.5555555555555556,
              "#d8576b"
             ],
             [
              0.6666666666666666,
              "#ed7953"
             ],
             [
              0.7777777777777778,
              "#fb9f3a"
             ],
             [
              0.8888888888888888,
              "#fdca26"
             ],
             [
              1,
              "#f0f921"
             ]
            ],
            "type": "surface"
           }
          ],
          "table": [
           {
            "cells": {
             "fill": {
              "color": "#EBF0F8"
             },
             "line": {
              "color": "white"
             }
            },
            "header": {
             "fill": {
              "color": "#C8D4E3"
             },
             "line": {
              "color": "white"
             }
            },
            "type": "table"
           }
          ]
         },
         "layout": {
          "annotationdefaults": {
           "arrowcolor": "#2a3f5f",
           "arrowhead": 0,
           "arrowwidth": 1
          },
          "autotypenumbers": "strict",
          "coloraxis": {
           "colorbar": {
            "outlinewidth": 0,
            "ticks": ""
           }
          },
          "colorscale": {
           "diverging": [
            [
             0,
             "#8e0152"
            ],
            [
             0.1,
             "#c51b7d"
            ],
            [
             0.2,
             "#de77ae"
            ],
            [
             0.3,
             "#f1b6da"
            ],
            [
             0.4,
             "#fde0ef"
            ],
            [
             0.5,
             "#f7f7f7"
            ],
            [
             0.6,
             "#e6f5d0"
            ],
            [
             0.7,
             "#b8e186"
            ],
            [
             0.8,
             "#7fbc41"
            ],
            [
             0.9,
             "#4d9221"
            ],
            [
             1,
             "#276419"
            ]
           ],
           "sequential": [
            [
             0,
             "#0d0887"
            ],
            [
             0.1111111111111111,
             "#46039f"
            ],
            [
             0.2222222222222222,
             "#7201a8"
            ],
            [
             0.3333333333333333,
             "#9c179e"
            ],
            [
             0.4444444444444444,
             "#bd3786"
            ],
            [
             0.5555555555555556,
             "#d8576b"
            ],
            [
             0.6666666666666666,
             "#ed7953"
            ],
            [
             0.7777777777777778,
             "#fb9f3a"
            ],
            [
             0.8888888888888888,
             "#fdca26"
            ],
            [
             1,
             "#f0f921"
            ]
           ],
           "sequentialminus": [
            [
             0,
             "#0d0887"
            ],
            [
             0.1111111111111111,
             "#46039f"
            ],
            [
             0.2222222222222222,
             "#7201a8"
            ],
            [
             0.3333333333333333,
             "#9c179e"
            ],
            [
             0.4444444444444444,
             "#bd3786"
            ],
            [
             0.5555555555555556,
             "#d8576b"
            ],
            [
             0.6666666666666666,
             "#ed7953"
            ],
            [
             0.7777777777777778,
             "#fb9f3a"
            ],
            [
             0.8888888888888888,
             "#fdca26"
            ],
            [
             1,
             "#f0f921"
            ]
           ]
          },
          "colorway": [
           "#636efa",
           "#EF553B",
           "#00cc96",
           "#ab63fa",
           "#FFA15A",
           "#19d3f3",
           "#FF6692",
           "#B6E880",
           "#FF97FF",
           "#FECB52"
          ],
          "font": {
           "color": "#2a3f5f"
          },
          "geo": {
           "bgcolor": "white",
           "lakecolor": "white",
           "landcolor": "white",
           "showlakes": true,
           "showland": true,
           "subunitcolor": "#C8D4E3"
          },
          "hoverlabel": {
           "align": "left"
          },
          "hovermode": "closest",
          "mapbox": {
           "style": "light"
          },
          "paper_bgcolor": "white",
          "plot_bgcolor": "white",
          "polar": {
           "angularaxis": {
            "gridcolor": "#EBF0F8",
            "linecolor": "#EBF0F8",
            "ticks": ""
           },
           "bgcolor": "white",
           "radialaxis": {
            "gridcolor": "#EBF0F8",
            "linecolor": "#EBF0F8",
            "ticks": ""
           }
          },
          "scene": {
           "xaxis": {
            "backgroundcolor": "white",
            "gridcolor": "#DFE8F3",
            "gridwidth": 2,
            "linecolor": "#EBF0F8",
            "showbackground": true,
            "ticks": "",
            "zerolinecolor": "#EBF0F8"
           },
           "yaxis": {
            "backgroundcolor": "white",
            "gridcolor": "#DFE8F3",
            "gridwidth": 2,
            "linecolor": "#EBF0F8",
            "showbackground": true,
            "ticks": "",
            "zerolinecolor": "#EBF0F8"
           },
           "zaxis": {
            "backgroundcolor": "white",
            "gridcolor": "#DFE8F3",
            "gridwidth": 2,
            "linecolor": "#EBF0F8",
            "showbackground": true,
            "ticks": "",
            "zerolinecolor": "#EBF0F8"
           }
          },
          "shapedefaults": {
           "line": {
            "color": "#2a3f5f"
           }
          },
          "ternary": {
           "aaxis": {
            "gridcolor": "#DFE8F3",
            "linecolor": "#A2B1C6",
            "ticks": ""
           },
           "baxis": {
            "gridcolor": "#DFE8F3",
            "linecolor": "#A2B1C6",
            "ticks": ""
           },
           "bgcolor": "white",
           "caxis": {
            "gridcolor": "#DFE8F3",
            "linecolor": "#A2B1C6",
            "ticks": ""
           }
          },
          "title": {
           "x": 0.05
          },
          "xaxis": {
           "automargin": true,
           "gridcolor": "#EBF0F8",
           "linecolor": "#EBF0F8",
           "ticks": "",
           "title": {
            "standoff": 15
           },
           "zerolinecolor": "#EBF0F8",
           "zerolinewidth": 2
          },
          "yaxis": {
           "automargin": true,
           "gridcolor": "#EBF0F8",
           "linecolor": "#EBF0F8",
           "ticks": "",
           "title": {
            "standoff": 15
           },
           "zerolinecolor": "#EBF0F8",
           "zerolinewidth": 2
          }
         }
        },
        "title": {
         "text": "Dashboard Ekhilur 2024"
        },
        "xaxis": {
         "anchor": "y",
         "domain": [
          0,
          0.45
         ]
        },
        "xaxis2": {
         "anchor": "y2",
         "domain": [
          0.55,
          1
         ]
        },
        "xaxis3": {
         "anchor": "y3",
         "domain": [
          0,
          0.45
         ]
        },
        "xaxis4": {
         "anchor": "y4",
         "domain": [
          0.55,
          1
         ]
        },
        "yaxis": {
         "anchor": "x",
         "domain": [
          0.625,
          1
         ]
        },
        "yaxis2": {
         "anchor": "x2",
         "domain": [
          0.625,
          1
         ]
        },
        "yaxis3": {
         "anchor": "x3",
         "domain": [
          0,
          0.375
         ]
        },
        "yaxis4": {
         "anchor": "x4",
         "domain": [
          0,
          0.375
         ]
        }
       }
      }
     },
     "metadata": {},
     "output_type": "display_data"
    },
    {
     "data": {
      "application/vnd.plotly.v1+json": {
       "config": {
        "plotlyServerURL": "https://plot.ly"
       },
       "data": [
        {
         "domain": {
          "column": 0,
          "row": 0
         },
         "mode": "number",
         "title": {
          "text": "Número total de operaciones<br>Diciembre 2024"
         },
         "type": "indicator",
         "value": 9893
        },
        {
         "domain": {
          "column": 1,
          "row": 0
         },
         "mode": "number",
         "number": {
          "prefix": "€"
         },
         "title": {
          "text": "Importe total<br>Diciembre 2024"
         },
         "type": "indicator",
         "value": 281357.17
        }
       ],
       "layout": {
        "grid": {
         "columns": 2,
         "pattern": "independent",
         "rows": 1
        },
        "height": 400,
        "template": {
         "data": {
          "bar": [
           {
            "error_x": {
             "color": "#2a3f5f"
            },
            "error_y": {
             "color": "#2a3f5f"
            },
            "marker": {
             "line": {
              "color": "#E5ECF6",
              "width": 0.5
             },
             "pattern": {
              "fillmode": "overlay",
              "size": 10,
              "solidity": 0.2
             }
            },
            "type": "bar"
           }
          ],
          "barpolar": [
           {
            "marker": {
             "line": {
              "color": "#E5ECF6",
              "width": 0.5
             },
             "pattern": {
              "fillmode": "overlay",
              "size": 10,
              "solidity": 0.2
             }
            },
            "type": "barpolar"
           }
          ],
          "carpet": [
           {
            "aaxis": {
             "endlinecolor": "#2a3f5f",
             "gridcolor": "white",
             "linecolor": "white",
             "minorgridcolor": "white",
             "startlinecolor": "#2a3f5f"
            },
            "baxis": {
             "endlinecolor": "#2a3f5f",
             "gridcolor": "white",
             "linecolor": "white",
             "minorgridcolor": "white",
             "startlinecolor": "#2a3f5f"
            },
            "type": "carpet"
           }
          ],
          "choropleth": [
           {
            "colorbar": {
             "outlinewidth": 0,
             "ticks": ""
            },
            "type": "choropleth"
           }
          ],
          "contour": [
           {
            "colorbar": {
             "outlinewidth": 0,
             "ticks": ""
            },
            "colorscale": [
             [
              0,
              "#0d0887"
             ],
             [
              0.1111111111111111,
              "#46039f"
             ],
             [
              0.2222222222222222,
              "#7201a8"
             ],
             [
              0.3333333333333333,
              "#9c179e"
             ],
             [
              0.4444444444444444,
              "#bd3786"
             ],
             [
              0.5555555555555556,
              "#d8576b"
             ],
             [
              0.6666666666666666,
              "#ed7953"
             ],
             [
              0.7777777777777778,
              "#fb9f3a"
             ],
             [
              0.8888888888888888,
              "#fdca26"
             ],
             [
              1,
              "#f0f921"
             ]
            ],
            "type": "contour"
           }
          ],
          "contourcarpet": [
           {
            "colorbar": {
             "outlinewidth": 0,
             "ticks": ""
            },
            "type": "contourcarpet"
           }
          ],
          "heatmap": [
           {
            "colorbar": {
             "outlinewidth": 0,
             "ticks": ""
            },
            "colorscale": [
             [
              0,
              "#0d0887"
             ],
             [
              0.1111111111111111,
              "#46039f"
             ],
             [
              0.2222222222222222,
              "#7201a8"
             ],
             [
              0.3333333333333333,
              "#9c179e"
             ],
             [
              0.4444444444444444,
              "#bd3786"
             ],
             [
              0.5555555555555556,
              "#d8576b"
             ],
             [
              0.6666666666666666,
              "#ed7953"
             ],
             [
              0.7777777777777778,
              "#fb9f3a"
             ],
             [
              0.8888888888888888,
              "#fdca26"
             ],
             [
              1,
              "#f0f921"
             ]
            ],
            "type": "heatmap"
           }
          ],
          "heatmapgl": [
           {
            "colorbar": {
             "outlinewidth": 0,
             "ticks": ""
            },
            "colorscale": [
             [
              0,
              "#0d0887"
             ],
             [
              0.1111111111111111,
              "#46039f"
             ],
             [
              0.2222222222222222,
              "#7201a8"
             ],
             [
              0.3333333333333333,
              "#9c179e"
             ],
             [
              0.4444444444444444,
              "#bd3786"
             ],
             [
              0.5555555555555556,
              "#d8576b"
             ],
             [
              0.6666666666666666,
              "#ed7953"
             ],
             [
              0.7777777777777778,
              "#fb9f3a"
             ],
             [
              0.8888888888888888,
              "#fdca26"
             ],
             [
              1,
              "#f0f921"
             ]
            ],
            "type": "heatmapgl"
           }
          ],
          "histogram": [
           {
            "marker": {
             "pattern": {
              "fillmode": "overlay",
              "size": 10,
              "solidity": 0.2
             }
            },
            "type": "histogram"
           }
          ],
          "histogram2d": [
           {
            "colorbar": {
             "outlinewidth": 0,
             "ticks": ""
            },
            "colorscale": [
             [
              0,
              "#0d0887"
             ],
             [
              0.1111111111111111,
              "#46039f"
             ],
             [
              0.2222222222222222,
              "#7201a8"
             ],
             [
              0.3333333333333333,
              "#9c179e"
             ],
             [
              0.4444444444444444,
              "#bd3786"
             ],
             [
              0.5555555555555556,
              "#d8576b"
             ],
             [
              0.6666666666666666,
              "#ed7953"
             ],
             [
              0.7777777777777778,
              "#fb9f3a"
             ],
             [
              0.8888888888888888,
              "#fdca26"
             ],
             [
              1,
              "#f0f921"
             ]
            ],
            "type": "histogram2d"
           }
          ],
          "histogram2dcontour": [
           {
            "colorbar": {
             "outlinewidth": 0,
             "ticks": ""
            },
            "colorscale": [
             [
              0,
              "#0d0887"
             ],
             [
              0.1111111111111111,
              "#46039f"
             ],
             [
              0.2222222222222222,
              "#7201a8"
             ],
             [
              0.3333333333333333,
              "#9c179e"
             ],
             [
              0.4444444444444444,
              "#bd3786"
             ],
             [
              0.5555555555555556,
              "#d8576b"
             ],
             [
              0.6666666666666666,
              "#ed7953"
             ],
             [
              0.7777777777777778,
              "#fb9f3a"
             ],
             [
              0.8888888888888888,
              "#fdca26"
             ],
             [
              1,
              "#f0f921"
             ]
            ],
            "type": "histogram2dcontour"
           }
          ],
          "mesh3d": [
           {
            "colorbar": {
             "outlinewidth": 0,
             "ticks": ""
            },
            "type": "mesh3d"
           }
          ],
          "parcoords": [
           {
            "line": {
             "colorbar": {
              "outlinewidth": 0,
              "ticks": ""
             }
            },
            "type": "parcoords"
           }
          ],
          "pie": [
           {
            "automargin": true,
            "type": "pie"
           }
          ],
          "scatter": [
           {
            "fillpattern": {
             "fillmode": "overlay",
             "size": 10,
             "solidity": 0.2
            },
            "type": "scatter"
           }
          ],
          "scatter3d": [
           {
            "line": {
             "colorbar": {
              "outlinewidth": 0,
              "ticks": ""
             }
            },
            "marker": {
             "colorbar": {
              "outlinewidth": 0,
              "ticks": ""
             }
            },
            "type": "scatter3d"
           }
          ],
          "scattercarpet": [
           {
            "marker": {
             "colorbar": {
              "outlinewidth": 0,
              "ticks": ""
             }
            },
            "type": "scattercarpet"
           }
          ],
          "scattergeo": [
           {
            "marker": {
             "colorbar": {
              "outlinewidth": 0,
              "ticks": ""
             }
            },
            "type": "scattergeo"
           }
          ],
          "scattergl": [
           {
            "marker": {
             "colorbar": {
              "outlinewidth": 0,
              "ticks": ""
             }
            },
            "type": "scattergl"
           }
          ],
          "scattermapbox": [
           {
            "marker": {
             "colorbar": {
              "outlinewidth": 0,
              "ticks": ""
             }
            },
            "type": "scattermapbox"
           }
          ],
          "scatterpolar": [
           {
            "marker": {
             "colorbar": {
              "outlinewidth": 0,
              "ticks": ""
             }
            },
            "type": "scatterpolar"
           }
          ],
          "scatterpolargl": [
           {
            "marker": {
             "colorbar": {
              "outlinewidth": 0,
              "ticks": ""
             }
            },
            "type": "scatterpolargl"
           }
          ],
          "scatterternary": [
           {
            "marker": {
             "colorbar": {
              "outlinewidth": 0,
              "ticks": ""
             }
            },
            "type": "scatterternary"
           }
          ],
          "surface": [
           {
            "colorbar": {
             "outlinewidth": 0,
             "ticks": ""
            },
            "colorscale": [
             [
              0,
              "#0d0887"
             ],
             [
              0.1111111111111111,
              "#46039f"
             ],
             [
              0.2222222222222222,
              "#7201a8"
             ],
             [
              0.3333333333333333,
              "#9c179e"
             ],
             [
              0.4444444444444444,
              "#bd3786"
             ],
             [
              0.5555555555555556,
              "#d8576b"
             ],
             [
              0.6666666666666666,
              "#ed7953"
             ],
             [
              0.7777777777777778,
              "#fb9f3a"
             ],
             [
              0.8888888888888888,
              "#fdca26"
             ],
             [
              1,
              "#f0f921"
             ]
            ],
            "type": "surface"
           }
          ],
          "table": [
           {
            "cells": {
             "fill": {
              "color": "#EBF0F8"
             },
             "line": {
              "color": "white"
             }
            },
            "header": {
             "fill": {
              "color": "#C8D4E3"
             },
             "line": {
              "color": "white"
             }
            },
            "type": "table"
           }
          ]
         },
         "layout": {
          "annotationdefaults": {
           "arrowcolor": "#2a3f5f",
           "arrowhead": 0,
           "arrowwidth": 1
          },
          "autotypenumbers": "strict",
          "coloraxis": {
           "colorbar": {
            "outlinewidth": 0,
            "ticks": ""
           }
          },
          "colorscale": {
           "diverging": [
            [
             0,
             "#8e0152"
            ],
            [
             0.1,
             "#c51b7d"
            ],
            [
             0.2,
             "#de77ae"
            ],
            [
             0.3,
             "#f1b6da"
            ],
            [
             0.4,
             "#fde0ef"
            ],
            [
             0.5,
             "#f7f7f7"
            ],
            [
             0.6,
             "#e6f5d0"
            ],
            [
             0.7,
             "#b8e186"
            ],
            [
             0.8,
             "#7fbc41"
            ],
            [
             0.9,
             "#4d9221"
            ],
            [
             1,
             "#276419"
            ]
           ],
           "sequential": [
            [
             0,
             "#0d0887"
            ],
            [
             0.1111111111111111,
             "#46039f"
            ],
            [
             0.2222222222222222,
             "#7201a8"
            ],
            [
             0.3333333333333333,
             "#9c179e"
            ],
            [
             0.4444444444444444,
             "#bd3786"
            ],
            [
             0.5555555555555556,
             "#d8576b"
            ],
            [
             0.6666666666666666,
             "#ed7953"
            ],
            [
             0.7777777777777778,
             "#fb9f3a"
            ],
            [
             0.8888888888888888,
             "#fdca26"
            ],
            [
             1,
             "#f0f921"
            ]
           ],
           "sequentialminus": [
            [
             0,
             "#0d0887"
            ],
            [
             0.1111111111111111,
             "#46039f"
            ],
            [
             0.2222222222222222,
             "#7201a8"
            ],
            [
             0.3333333333333333,
             "#9c179e"
            ],
            [
             0.4444444444444444,
             "#bd3786"
            ],
            [
             0.5555555555555556,
             "#d8576b"
            ],
            [
             0.6666666666666666,
             "#ed7953"
            ],
            [
             0.7777777777777778,
             "#fb9f3a"
            ],
            [
             0.8888888888888888,
             "#fdca26"
            ],
            [
             1,
             "#f0f921"
            ]
           ]
          },
          "colorway": [
           "#636efa",
           "#EF553B",
           "#00cc96",
           "#ab63fa",
           "#FFA15A",
           "#19d3f3",
           "#FF6692",
           "#B6E880",
           "#FF97FF",
           "#FECB52"
          ],
          "font": {
           "color": "#2a3f5f"
          },
          "geo": {
           "bgcolor": "white",
           "lakecolor": "white",
           "landcolor": "#E5ECF6",
           "showlakes": true,
           "showland": true,
           "subunitcolor": "white"
          },
          "hoverlabel": {
           "align": "left"
          },
          "hovermode": "closest",
          "mapbox": {
           "style": "light"
          },
          "paper_bgcolor": "white",
          "plot_bgcolor": "#E5ECF6",
          "polar": {
           "angularaxis": {
            "gridcolor": "white",
            "linecolor": "white",
            "ticks": ""
           },
           "bgcolor": "#E5ECF6",
           "radialaxis": {
            "gridcolor": "white",
            "linecolor": "white",
            "ticks": ""
           }
          },
          "scene": {
           "xaxis": {
            "backgroundcolor": "#E5ECF6",
            "gridcolor": "white",
            "gridwidth": 2,
            "linecolor": "white",
            "showbackground": true,
            "ticks": "",
            "zerolinecolor": "white"
           },
           "yaxis": {
            "backgroundcolor": "#E5ECF6",
            "gridcolor": "white",
            "gridwidth": 2,
            "linecolor": "white",
            "showbackground": true,
            "ticks": "",
            "zerolinecolor": "white"
           },
           "zaxis": {
            "backgroundcolor": "#E5ECF6",
            "gridcolor": "white",
            "gridwidth": 2,
            "linecolor": "white",
            "showbackground": true,
            "ticks": "",
            "zerolinecolor": "white"
           }
          },
          "shapedefaults": {
           "line": {
            "color": "#2a3f5f"
           }
          },
          "ternary": {
           "aaxis": {
            "gridcolor": "white",
            "linecolor": "white",
            "ticks": ""
           },
           "baxis": {
            "gridcolor": "white",
            "linecolor": "white",
            "ticks": ""
           },
           "bgcolor": "#E5ECF6",
           "caxis": {
            "gridcolor": "white",
            "linecolor": "white",
            "ticks": ""
           }
          },
          "title": {
           "x": 0.05
          },
          "xaxis": {
           "automargin": true,
           "gridcolor": "white",
           "linecolor": "white",
           "ticks": "",
           "title": {
            "standoff": 15
           },
           "zerolinecolor": "white",
           "zerolinewidth": 2
          },
          "yaxis": {
           "automargin": true,
           "gridcolor": "white",
           "linecolor": "white",
           "ticks": "",
           "title": {
            "standoff": 15
           },
           "zerolinecolor": "white",
           "zerolinewidth": 2
          }
         }
        },
        "title": {
         "text": "Totales del Último Mes"
        }
       }
      }
     },
     "metadata": {},
     "output_type": "display_data"
    },
    {
     "name": "stdout",
     "output_type": "stream",
     "text": [
      "\n",
      "ESTADÍSTICAS RESUMEN\n",
      "================================================================================\n",
      "\n",
      "Usuarios por Categoría:\n",
      "  Categoria  Total_Noviembre_2024  Total_Diciembre_2024  Incremento_Absoluto  \\\n",
      "0   usuario                1563.0                1572.0                  9.0   \n",
      "1  Empresas                 128.0                 128.0                  0.0   \n",
      "\n",
      "   Incremento_Porcentual  \n",
      "0                    0.6  \n",
      "1                    0.0  \n",
      "\n",
      "Gasto Medio Mensual:\n",
      "     Mes  Gasto_Medio_Mensual  Num_Usuarios\n",
      "0    1.0               244.35           860\n",
      "1    2.0               224.07           849\n",
      "2    3.0               240.70           849\n",
      "3    4.0               236.45           836\n",
      "4    5.0               250.24           884\n",
      "5    6.0               238.60           854\n",
      "6    7.0               234.49           852\n",
      "7    8.0               190.41           773\n",
      "8    9.0               226.15           868\n",
      "9   10.0               255.98           914\n",
      "10  11.0               237.45           922\n",
      "11  12.0               296.48           949\n",
      "\n",
      "Ahorro Medio Mensual:\n",
      "     Mes  Ahorro_Medio_Mensual  Num_Usuarios  Total_Bonificaciones\n",
      "0    1.0                 17.79           864              15391.05\n",
      "1    2.0                 18.50           860              15911.05\n",
      "2    3.0                 18.71           863              16162.26\n",
      "3    4.0                 19.36           850              16472.24\n",
      "4    5.0                 19.48           883              17217.65\n",
      "5    6.0                 19.41           867              16826.06\n",
      "6    7.0                 18.96           867              16438.11\n",
      "7    8.0                 16.31           794              12953.55\n",
      "8    9.0                 18.92           876              16569.85\n",
      "9   10.0                 21.65           911              19719.00\n",
      "10  11.0                 18.63           931              17345.25\n",
      "11  12.0                 23.33           957              22323.67\n",
      "\n",
      "Totales Último Mes:\n",
      "   Número total de operaciones  Importe total (€)\n",
      "0                         9893          281357.17\n",
      "\n",
      "Flujo de Caja Mensual:\n",
      "    Mes   Entradas    Salidas   Balance\n",
      "0     1  119595.56  114861.84   4733.72\n",
      "1     2  112830.54  106270.51   6560.03\n",
      "2     3  107068.61   83092.69  23975.92\n",
      "3     4  114843.64  116215.89  -1372.25\n",
      "4     5  123098.63  113183.00   9915.63\n",
      "5     6  116902.01  102486.76  14415.25\n",
      "6     7  109150.21  119416.19 -10265.98\n",
      "7     8   80660.10   74975.69   5684.41\n",
      "8     9  112499.16   85581.52  26917.64\n",
      "9    10  131111.03  145572.79 -14461.76\n",
      "10   11  121995.60   96226.27  25769.33\n",
      "11   12  159093.40  127653.96  31439.44\n"
     ]
    }
   ],
   "source": [
    "# 1. Query de usuarios (analyze_users)\n",
    "query_users = \"\"\"\n",
    "WITH CategorizedUsers AS (\n",
    "    SELECT \n",
    "        Id_usuario, \n",
    "        Id_fecha_alta, \n",
    "        CASE \n",
    "            WHEN Tipo_usuario IN ('autonomo', 'Empresa') THEN 'Empresas'\n",
    "            ELSE Tipo_usuario\n",
    "        END AS Categoria_Agrupada\n",
    "    FROM dim_usuarios\n",
    "    WHERE Tipo_usuario NOT IN ('Asociacion', 'ekhilur')\n",
    "),\n",
    "Totals AS (\n",
    "    SELECT \n",
    "        Categoria_Agrupada,\n",
    "        SUM(CASE WHEN Id_fecha_alta <= '20241130' THEN 1 ELSE 0 END) AS Total_Noviembre_2024,\n",
    "        SUM(CASE WHEN Id_fecha_alta <= '20241231' THEN 1 ELSE 0 END) AS Total_Diciembre_2024\n",
    "    FROM CategorizedUsers\n",
    "    GROUP BY Categoria_Agrupada\n",
    ")\n",
    "SELECT \n",
    "    Categoria_Agrupada AS Categoria,\n",
    "    Total_Noviembre_2024,\n",
    "    Total_Diciembre_2024,\n",
    "    (Total_Diciembre_2024 - Total_Noviembre_2024) AS Incremento_Absoluto,\n",
    "    CASE \n",
    "        WHEN Total_Noviembre_2024 > 0 \n",
    "        THEN ROUND(((Total_Diciembre_2024 - Total_Noviembre_2024) / Total_Noviembre_2024) * 100, 1)\n",
    "        ELSE 0\n",
    "    END AS Incremento_Porcentual\n",
    "FROM Totals;\n",
    "\"\"\"\n",
    "\n",
    "# 2. Query de gasto medio mensual (analyze_monthly_average_simple)\n",
    "query_monthly_avg = \"\"\"\n",
    "WITH UsuariosFiltrados AS (\n",
    "    SELECT Id_usuario \n",
    "    FROM dim_usuarios \n",
    "    WHERE Tipo_usuario = 'usuario'\n",
    "),\n",
    "Fechas2024 AS (\n",
    "    SELECT Id_fecha, Mes \n",
    "    FROM dim_fecha \n",
    "    WHERE Ano = 2024\n",
    "),\n",
    "Operaciones2024 AS (\n",
    "    SELECT \n",
    "        f.Usuario_emisor, \n",
    "        f.Id_fecha, \n",
    "        f.Cantidad, \n",
    "        d.Mes,\n",
    "        o.Operacion,\n",
    "        du_origen.Tipo_usuario as tipo_origen,\n",
    "        du_destino.Tipo_usuario as tipo_destino\n",
    "    FROM fact_table f\n",
    "    INNER JOIN Fechas2024 d ON f.Id_fecha = d.Id_fecha\n",
    "    INNER JOIN dim_operaciones o ON f.Id_tipo_operacion = o.Id_tipo_operacion\n",
    "    INNER JOIN dim_usuarios du_origen ON f.Usuario_emisor = du_origen.Id_usuario\n",
    "    INNER JOIN dim_usuarios du_destino ON f.Usuario_receptor = du_destino.Id_usuario\n",
    "    WHERE (\n",
    "        -- Pago normal: usuario particular a profesional\n",
    "        (o.Operacion = 'Pago a usuario' \n",
    "         AND du_origen.Tipo_usuario = 'usuario' \n",
    "         AND du_destino.Tipo_usuario IN ('Empresa', 'autonomo'))\n",
    "        OR \n",
    "        -- Pago normal entre profesionales\n",
    "        (o.Operacion = 'Pago a usuario' \n",
    "         AND du_origen.Tipo_usuario IN ('Empresa', 'autonomo') \n",
    "         AND du_destino.Tipo_usuario IN ('Empresa', 'autonomo'))\n",
    "        OR\n",
    "        -- Cobro desde QR\n",
    "        (o.Operacion = 'Cobro desde QR' \n",
    "         AND (\n",
    "             (du_origen.Tipo_usuario = 'usuario' AND du_destino.Tipo_usuario IN ('Empresa', 'autonomo'))\n",
    "             OR \n",
    "             (du_origen.Tipo_usuario IN ('Empresa', 'autonomo') AND du_destino.Tipo_usuario IN ('Empresa', 'autonomo'))\n",
    "         ))\n",
    "    )\n",
    "    -- Excluir explícitamente recargas y bizum entre usuarios\n",
    "    AND NOT (\n",
    "        o.Operacion = 'Pago a usuario' \n",
    "        AND (\n",
    "            (du_origen.Tipo_usuario IN ('Empresa', 'autonomo') AND du_destino.Tipo_usuario = 'usuario')  -- Recarga\n",
    "            OR (du_origen.Tipo_usuario = 'usuario' AND du_destino.Tipo_usuario = 'usuario')  -- Bizum entre usuarios\n",
    "        )\n",
    "    )\n",
    "),\n",
    "GastoMensual AS (\n",
    "    SELECT \n",
    "        Usuario_emisor, \n",
    "        Mes, \n",
    "        ROUND(SUM(Cantidad), 2) AS GastoMensual\n",
    "    FROM Operaciones2024\n",
    "    GROUP BY Usuario_emisor, Mes\n",
    ")\n",
    "SELECT \n",
    "    Mes,\n",
    "    ROUND(AVG(GastoMensual), 2) AS Gasto_Medio_Mensual,\n",
    "    COUNT(DISTINCT Usuario_emisor) as Num_Usuarios\n",
    "FROM GastoMensual\n",
    "GROUP BY Mes\n",
    "ORDER BY Mes;\n",
    "\"\"\"\n",
    "\n",
    "# 3. Query de ahorro mensual (analyze_monthly_savings)\n",
    "query_savings = \"\"\"\n",
    "WITH Fechas2024 AS (\n",
    "    SELECT Id_fecha, Mes \n",
    "    FROM dim_fecha \n",
    "    WHERE Ano = 2024\n",
    "),\n",
    "Bonificaciones AS (\n",
    "    SELECT \n",
    "        f.Usuario_receptor,\n",
    "        f.Id_fecha,\n",
    "        f.Cantidad,\n",
    "        d.Mes,\n",
    "        o.Operacion\n",
    "    FROM fact_table f\n",
    "    INNER JOIN Fechas2024 d ON f.Id_fecha = d.Id_fecha\n",
    "    INNER JOIN dim_operaciones o ON f.Id_tipo_operacion = o.Id_tipo_operacion\n",
    "    WHERE o.Operacion IN ('Bonificación por compra', 'Descuento automático')\n",
    "),\n",
    "AhorroMensual AS (\n",
    "    SELECT \n",
    "        Usuario_receptor,\n",
    "        Mes,\n",
    "        ROUND(SUM(Cantidad), 2) AS AhorroMensual\n",
    "    FROM Bonificaciones\n",
    "    GROUP BY Usuario_receptor, Mes\n",
    ")\n",
    "SELECT \n",
    "    Mes,\n",
    "    ROUND(AVG(AhorroMensual), 2) AS Ahorro_Medio_Mensual,\n",
    "    COUNT(DISTINCT Usuario_receptor) as Num_Usuarios,\n",
    "    ROUND(SUM(AhorroMensual), 2) as Total_Bonificaciones\n",
    "FROM AhorroMensual\n",
    "GROUP BY Mes\n",
    "ORDER BY Mes;\n",
    "\"\"\"\n",
    "\n",
    "# 4. Query de totales simples (analyze_total_simple)\n",
    "query_total_simple = \"\"\"\n",
    "WITH UltimoMes AS (\n",
    "    SELECT Id_fecha \n",
    "    FROM dim_fecha \n",
    "    WHERE Ano = 2024 AND Mes = 12\n",
    "),\n",
    "Operaciones AS (\n",
    "    SELECT \n",
    "        f.Id_transaccion,\n",
    "        f.Cantidad,\n",
    "        o.Operacion,\n",
    "        du_origen.Tipo_usuario as tipo_origen,\n",
    "        du_destino.Tipo_usuario as tipo_destino\n",
    "    FROM fact_table f\n",
    "    INNER JOIN dim_operaciones o ON f.Id_tipo_operacion = o.Id_tipo_operacion\n",
    "    INNER JOIN dim_usuarios du_origen ON f.Usuario_emisor = du_origen.Id_usuario\n",
    "    INNER JOIN dim_usuarios du_destino ON f.Usuario_receptor = du_destino.Id_usuario\n",
    "    WHERE f.Id_fecha IN (SELECT Id_fecha FROM UltimoMes)\n",
    "    AND (\n",
    "        -- Caso 1: Pago normal (usuario a profesional)\n",
    "        (o.Operacion = 'Pago a usuario' \n",
    "         AND du_origen.Tipo_usuario = 'usuario' \n",
    "         AND du_destino.Tipo_usuario IN ('Empresa', 'autonomo'))\n",
    "        OR\n",
    "        -- Caso 2: Pago entre profesionales\n",
    "        (o.Operacion = 'Pago a usuario' \n",
    "         AND du_origen.Tipo_usuario IN ('Empresa', 'autonomo') \n",
    "         AND du_destino.Tipo_usuario IN ('Empresa', 'autonomo'))\n",
    "        OR\n",
    "        -- Caso 3: Cobro desde QR (puede ser usuario a profesional o entre profesionales)\n",
    "        (o.Operacion = 'Cobro desde QR' \n",
    "         AND (\n",
    "             (du_origen.Tipo_usuario = 'usuario' AND du_destino.Tipo_usuario IN ('Empresa', 'autonomo'))\n",
    "             OR \n",
    "             (du_origen.Tipo_usuario IN ('Empresa', 'autonomo') AND du_destino.Tipo_usuario IN ('Empresa', 'autonomo'))\n",
    "         ))\n",
    "    )\n",
    ")\n",
    "SELECT \n",
    "    COUNT(DISTINCT Id_transaccion) AS `Número total de operaciones`, \n",
    "    ROUND(SUM(Cantidad), 2) AS `Importe total (€)`\n",
    "FROM Operaciones;\n",
    "\"\"\"\n",
    "\n",
    "# 5. Query de flujo de caja (analyze_cash_flow)\n",
    "query_cash_flow = \"\"\"\n",
    "WITH Fechas2024 AS (\n",
    "    SELECT Id_fecha, Mes \n",
    "    FROM dim_fecha \n",
    "    WHERE Ano = 2024\n",
    "),\n",
    "Operaciones2024 AS (\n",
    "    SELECT \n",
    "        f.Id_fecha, \n",
    "        f.Cantidad, \n",
    "        d.Mes,\n",
    "        o.Operacion\n",
    "    FROM fact_table f\n",
    "    INNER JOIN Fechas2024 d ON f.Id_fecha = d.Id_fecha\n",
    "    INNER JOIN dim_operaciones o ON f.Id_tipo_operacion = o.Id_tipo_operacion\n",
    "    WHERE o.Operacion IN (\n",
    "        'Recarga por tarjeta',\n",
    "        'Bonificación por compra',\n",
    "        'Conversión a €',\n",
    "        'Cuota mensual de socio',\n",
    "        'Cuota variable'\n",
    "    )\n",
    "),\n",
    "Entradas AS (\n",
    "    SELECT Mes, ROUND(SUM(Cantidad), 2) AS Entradas\n",
    "    FROM Operaciones2024\n",
    "    WHERE Operacion IN ('Recarga por tarjeta', 'Bonificación por compra')\n",
    "    GROUP BY Mes\n",
    "),\n",
    "Salidas AS (\n",
    "    SELECT Mes, ROUND(SUM(Cantidad), 2) AS Salidas\n",
    "    FROM Operaciones2024\n",
    "    WHERE Operacion IN ('Conversión a €', 'Cuota mensual de socio', 'Cuota variable')\n",
    "    GROUP BY Mes\n",
    ")\n",
    "SELECT \n",
    "    CAST(COALESCE(e.Mes, s.Mes) AS UNSIGNED) AS Mes,\n",
    "    COALESCE(e.Entradas, 0) AS Entradas,\n",
    "    COALESCE(s.Salidas, 0) AS Salidas,\n",
    "    COALESCE(e.Entradas, 0) - COALESCE(s.Salidas, 0) AS Balance\n",
    "FROM Entradas e\n",
    "LEFT JOIN Salidas s ON e.Mes = s.Mes\n",
    "UNION\n",
    "SELECT \n",
    "    CAST(COALESCE(e.Mes, s.Mes) AS UNSIGNED) AS Mes,\n",
    "    COALESCE(e.Entradas, 0) AS Entradas,\n",
    "    COALESCE(s.Salidas, 0) AS Salidas,\n",
    "    COALESCE(e.Entradas, 0) - COALESCE(s.Salidas, 0) AS Balance\n",
    "FROM Salidas s\n",
    "LEFT JOIN Entradas e ON s.Mes = e.Mes\n",
    "ORDER BY Mes;\n",
    "\"\"\"\n",
    "\n",
    "# Ejecutar queries\n",
    "df_users = ejecutar_query(query_users)\n",
    "df_monthly_avg = ejecutar_query(query_monthly_avg)\n",
    "df_savings = ejecutar_query(query_savings)\n",
    "df_total_simple = ejecutar_query(query_total_simple)\n",
    "df_cash_flow = ejecutar_query(query_cash_flow)\n",
    "\n",
    "# Crear visualizaciones del dashboard principal\n",
    "fig = make_subplots(\n",
    "    rows=2, cols=2,\n",
    "    subplot_titles=(\n",
    "        'Usuarios por Categoría',\n",
    "        'Gasto y Ahorro Medio Mensual',\n",
    "        'Flujo de Caja Mensual',\n",
    "        'Balance Mensual'\n",
    "    )\n",
    ")\n",
    "\n",
    "# 1. Gráfico de usuarios\n",
    "fig.add_trace(\n",
    "    go.Bar(\n",
    "        name='Noviembre 2024',\n",
    "        x=df_users['Categoria'],\n",
    "        y=df_users['Total_Noviembre_2024'],\n",
    "        marker_color='#636EFA'\n",
    "    ),\n",
    "    row=1, col=1\n",
    ")\n",
    "fig.add_trace(\n",
    "    go.Bar(\n",
    "        name='Diciembre 2024',\n",
    "        x=df_users['Categoria'],\n",
    "        y=df_users['Total_Diciembre_2024'],\n",
    "        marker_color='#EF553B'\n",
    "    ),\n",
    "    row=1, col=1\n",
    ")\n",
    "\n",
    "# 2. Gráfico de gasto y ahorro\n",
    "fig.add_trace(\n",
    "    go.Scatter(\n",
    "        name='Gasto Medio',\n",
    "        x=df_monthly_avg['Mes'],\n",
    "        y=df_monthly_avg['Gasto_Medio_Mensual'],\n",
    "        line=dict(color='#EF553B')\n",
    "    ),\n",
    "    row=1, col=2\n",
    ")\n",
    "fig.add_trace(\n",
    "    go.Scatter(\n",
    "        name='Ahorro Medio',\n",
    "        x=df_savings['Mes'],\n",
    "        y=df_savings['Ahorro_Medio_Mensual'],\n",
    "        line=dict(color='#00CC96')\n",
    "    ),\n",
    "    row=1, col=2\n",
    ")\n",
    "\n",
    "# 3. Gráfico de flujo de caja\n",
    "fig.add_trace(\n",
    "    go.Bar(\n",
    "        name='Entradas',\n",
    "        x=df_cash_flow['Mes'],\n",
    "        y=df_cash_flow['Entradas'],\n",
    "        marker_color='#00CC96'\n",
    "    ),\n",
    "    row=2, col=1\n",
    ")\n",
    "fig.add_trace(\n",
    "    go.Bar(\n",
    "        name='Salidas',\n",
    "        x=df_cash_flow['Mes'],\n",
    "        y=df_cash_flow['Salidas'],\n",
    "        marker_color='#EF553B'\n",
    "    ),\n",
    "    row=2, col=1\n",
    ")\n",
    "\n",
    "# 4. Gráfico de balance\n",
    "fig.add_trace(\n",
    "    go.Scatter(\n",
    "        name='Balance',\n",
    "        x=df_cash_flow['Mes'],\n",
    "        y=df_cash_flow['Balance'],\n",
    "        line=dict(color='#AB63FA')\n",
    "    ),\n",
    "    row=2, col=2\n",
    ")\n",
    "\n",
    "# Actualizar layout del dashboard principal\n",
    "fig.update_layout(\n",
    "    height=800,\n",
    "    showlegend=True,\n",
    "    title_text=\"Dashboard Ekhilur 2024\",\n",
    "    template=\"plotly_white\"\n",
    ")\n",
    "\n",
    "# Mostrar dashboard principal\n",
    "fig.show()\n",
    "\n",
    "# Crear figura separada para totales\n",
    "fig_totals = go.Figure()\n",
    "\n",
    "fig_totals.add_trace(go.Indicator(\n",
    "    mode=\"number\",\n",
    "    value=df_total_simple.iloc[0]['Número total de operaciones'],\n",
    "    title={\"text\": \"Número total de operaciones<br>Diciembre 2024\"},\n",
    "    domain={'row': 0, 'column': 0}\n",
    "))\n",
    "\n",
    "fig_totals.add_trace(go.Indicator(\n",
    "    mode=\"number\",\n",
    "    value=df_total_simple.iloc[0]['Importe total (€)'],\n",
    "    title={\"text\": \"Importe total<br>Diciembre 2024\"},\n",
    "    number={'prefix': \"€\"},\n",
    "    domain={'row': 0, 'column': 1}\n",
    "))\n",
    "\n",
    "fig_totals.update_layout(\n",
    "    grid={'rows': 1, 'columns': 2, 'pattern': \"independent\"},\n",
    "    title_text=\"Totales del Último Mes\",\n",
    "    height=400\n",
    ")\n",
    "\n",
    "# Mostrar figura de totales\n",
    "fig_totals.show()\n",
    "\n",
    "# Imprimir estadísticas\n",
    "print(\"\\nESTADÍSTICAS RESUMEN\")\n",
    "print(\"=\" * 80)\n",
    "\n",
    "print(\"\\nUsuarios por Categoría:\")\n",
    "print(df_users)\n",
    "\n",
    "print(\"\\nGasto Medio Mensual:\")\n",
    "print(df_monthly_avg)\n",
    "\n",
    "print(\"\\nAhorro Medio Mensual:\")\n",
    "print(df_savings)\n",
    "\n",
    "print(\"\\nTotales Último Mes:\")\n",
    "print(df_total_simple)\n",
    "\n",
    "print(\"\\nFlujo de Caja Mensual:\")\n",
    "print(df_cash_flow)"
   ]
  },
  {
   "cell_type": "code",
   "execution_count": 18,
   "metadata": {},
   "outputs": [
    {
     "name": "stderr",
     "output_type": "stream",
     "text": [
      "C:\\Users\\mikel\\AppData\\Local\\Temp\\ipykernel_12748\\1450764005.py:22: UserWarning:\n",
      "\n",
      "pandas only supports SQLAlchemy connectable (engine/connection) or database string URI or sqlite3 DBAPI2 connection. Other DBAPI2 objects are not tested. Please consider using SQLAlchemy.\n",
      "\n",
      "C:\\Users\\mikel\\AppData\\Roaming\\Python\\Python39\\site-packages\\_plotly_utils\\basevalidators.py:106: FutureWarning:\n",
      "\n",
      "The behavior of DatetimeProperties.to_pydatetime is deprecated, in a future version this will return a Series containing python datetime objects instead of an ndarray. To retain the old behavior, call `np.array` on the result\n",
      "\n"
     ]
    },
    {
     "data": {
      "application/vnd.plotly.v1+json": {
       "config": {
        "plotlyServerURL": "https://plot.ly"
       },
       "data": [
        {
         "line": {
          "color": "lightgray",
          "width": 1
         },
         "mode": "lines",
         "name": "Operaciones diarias",
         "type": "scatter",
         "x": [
          "2024-01-01T00:00:00",
          "2024-01-02T00:00:00",
          "2024-01-03T00:00:00",
          "2024-01-04T00:00:00",
          "2024-01-05T00:00:00",
          "2024-01-06T00:00:00",
          "2024-01-07T00:00:00",
          "2024-01-08T00:00:00",
          "2024-01-09T00:00:00",
          "2024-01-10T00:00:00",
          "2024-01-11T00:00:00",
          "2024-01-12T00:00:00",
          "2024-01-13T00:00:00",
          "2024-01-14T00:00:00",
          "2024-01-15T00:00:00",
          "2024-01-16T00:00:00",
          "2024-01-17T00:00:00",
          "2024-01-18T00:00:00",
          "2024-01-19T00:00:00",
          "2024-01-20T00:00:00",
          "2024-01-21T00:00:00",
          "2024-01-22T00:00:00",
          "2024-01-23T00:00:00",
          "2024-01-24T00:00:00",
          "2024-01-25T00:00:00",
          "2024-01-26T00:00:00",
          "2024-01-27T00:00:00",
          "2024-01-28T00:00:00",
          "2024-01-29T00:00:00",
          "2024-01-30T00:00:00",
          "2024-01-31T00:00:00",
          "2024-02-01T00:00:00",
          "2024-02-02T00:00:00",
          "2024-02-03T00:00:00",
          "2024-02-04T00:00:00",
          "2024-02-05T00:00:00",
          "2024-02-06T00:00:00",
          "2024-02-07T00:00:00",
          "2024-02-08T00:00:00",
          "2024-02-09T00:00:00",
          "2024-02-10T00:00:00",
          "2024-02-11T00:00:00",
          "2024-02-12T00:00:00",
          "2024-02-13T00:00:00",
          "2024-02-14T00:00:00",
          "2024-02-15T00:00:00",
          "2024-02-16T00:00:00",
          "2024-02-17T00:00:00",
          "2024-02-18T00:00:00",
          "2024-02-19T00:00:00",
          "2024-02-20T00:00:00",
          "2024-02-21T00:00:00",
          "2024-02-22T00:00:00",
          "2024-02-23T00:00:00",
          "2024-02-24T00:00:00",
          "2024-02-25T00:00:00",
          "2024-02-26T00:00:00",
          "2024-02-27T00:00:00",
          "2024-02-28T00:00:00",
          "2024-02-29T00:00:00",
          "2024-03-01T00:00:00",
          "2024-03-02T00:00:00",
          "2024-03-03T00:00:00",
          "2024-03-04T00:00:00",
          "2024-03-05T00:00:00",
          "2024-03-06T00:00:00",
          "2024-03-07T00:00:00",
          "2024-03-08T00:00:00",
          "2024-03-09T00:00:00",
          "2024-03-10T00:00:00",
          "2024-03-11T00:00:00",
          "2024-03-12T00:00:00",
          "2024-03-13T00:00:00",
          "2024-03-14T00:00:00",
          "2024-03-15T00:00:00",
          "2024-03-16T00:00:00",
          "2024-03-17T00:00:00",
          "2024-03-18T00:00:00",
          "2024-03-19T00:00:00",
          "2024-03-20T00:00:00",
          "2024-03-21T00:00:00",
          "2024-03-22T00:00:00",
          "2024-03-23T00:00:00",
          "2024-03-24T00:00:00",
          "2024-03-25T00:00:00",
          "2024-03-26T00:00:00",
          "2024-03-27T00:00:00",
          "2024-03-28T00:00:00",
          "2024-03-29T00:00:00",
          "2024-03-30T00:00:00",
          "2024-03-31T00:00:00",
          "2024-04-01T00:00:00",
          "2024-04-02T00:00:00",
          "2024-04-03T00:00:00",
          "2024-04-04T00:00:00",
          "2024-04-05T00:00:00",
          "2024-04-06T00:00:00",
          "2024-04-07T00:00:00",
          "2024-04-08T00:00:00",
          "2024-04-09T00:00:00",
          "2024-04-10T00:00:00",
          "2024-04-11T00:00:00",
          "2024-04-12T00:00:00",
          "2024-04-13T00:00:00",
          "2024-04-14T00:00:00",
          "2024-04-15T00:00:00",
          "2024-04-16T00:00:00",
          "2024-04-17T00:00:00",
          "2024-04-18T00:00:00",
          "2024-04-19T00:00:00",
          "2024-04-20T00:00:00",
          "2024-04-21T00:00:00",
          "2024-04-22T00:00:00",
          "2024-04-23T00:00:00",
          "2024-04-24T00:00:00",
          "2024-04-25T00:00:00",
          "2024-04-26T00:00:00",
          "2024-04-27T00:00:00",
          "2024-04-28T00:00:00",
          "2024-04-29T00:00:00",
          "2024-04-30T00:00:00",
          "2024-05-01T00:00:00",
          "2024-05-02T00:00:00",
          "2024-05-03T00:00:00",
          "2024-05-04T00:00:00",
          "2024-05-05T00:00:00",
          "2024-05-06T00:00:00",
          "2024-05-07T00:00:00",
          "2024-05-08T00:00:00",
          "2024-05-09T00:00:00",
          "2024-05-10T00:00:00",
          "2024-05-11T00:00:00",
          "2024-05-12T00:00:00",
          "2024-05-13T00:00:00",
          "2024-05-14T00:00:00",
          "2024-05-15T00:00:00",
          "2024-05-16T00:00:00",
          "2024-05-17T00:00:00",
          "2024-05-18T00:00:00",
          "2024-05-19T00:00:00",
          "2024-05-20T00:00:00",
          "2024-05-21T00:00:00",
          "2024-05-22T00:00:00",
          "2024-05-23T00:00:00",
          "2024-05-24T00:00:00",
          "2024-05-25T00:00:00",
          "2024-05-26T00:00:00",
          "2024-05-27T00:00:00",
          "2024-05-28T00:00:00",
          "2024-05-29T00:00:00",
          "2024-05-30T00:00:00",
          "2024-05-31T00:00:00",
          "2024-06-01T00:00:00",
          "2024-06-02T00:00:00",
          "2024-06-03T00:00:00",
          "2024-06-04T00:00:00",
          "2024-06-05T00:00:00",
          "2024-06-06T00:00:00",
          "2024-06-07T00:00:00",
          "2024-06-08T00:00:00",
          "2024-06-09T00:00:00",
          "2024-06-10T00:00:00",
          "2024-06-11T00:00:00",
          "2024-06-12T00:00:00",
          "2024-06-13T00:00:00",
          "2024-06-14T00:00:00",
          "2024-06-15T00:00:00",
          "2024-06-16T00:00:00",
          "2024-06-17T00:00:00",
          "2024-06-18T00:00:00",
          "2024-06-19T00:00:00",
          "2024-06-20T00:00:00",
          "2024-06-21T00:00:00",
          "2024-06-22T00:00:00",
          "2024-06-23T00:00:00",
          "2024-06-24T00:00:00",
          "2024-06-25T00:00:00",
          "2024-06-26T00:00:00",
          "2024-06-27T00:00:00",
          "2024-06-28T00:00:00",
          "2024-06-29T00:00:00",
          "2024-06-30T00:00:00",
          "2024-07-01T00:00:00",
          "2024-07-02T00:00:00",
          "2024-07-03T00:00:00",
          "2024-07-04T00:00:00",
          "2024-07-05T00:00:00",
          "2024-07-06T00:00:00",
          "2024-07-07T00:00:00",
          "2024-07-08T00:00:00",
          "2024-07-09T00:00:00",
          "2024-07-10T00:00:00",
          "2024-07-11T00:00:00",
          "2024-07-12T00:00:00",
          "2024-07-13T00:00:00",
          "2024-07-14T00:00:00",
          "2024-07-15T00:00:00",
          "2024-07-16T00:00:00",
          "2024-07-17T00:00:00",
          "2024-07-18T00:00:00",
          "2024-07-19T00:00:00",
          "2024-07-20T00:00:00",
          "2024-07-21T00:00:00",
          "2024-07-22T00:00:00",
          "2024-07-23T00:00:00",
          "2024-07-24T00:00:00",
          "2024-07-25T00:00:00",
          "2024-07-26T00:00:00",
          "2024-07-27T00:00:00",
          "2024-07-28T00:00:00",
          "2024-07-29T00:00:00",
          "2024-07-30T00:00:00",
          "2024-07-31T00:00:00",
          "2024-08-01T00:00:00",
          "2024-08-02T00:00:00",
          "2024-08-03T00:00:00",
          "2024-08-04T00:00:00",
          "2024-08-05T00:00:00",
          "2024-08-06T00:00:00",
          "2024-08-07T00:00:00",
          "2024-08-08T00:00:00",
          "2024-08-09T00:00:00",
          "2024-08-10T00:00:00",
          "2024-08-11T00:00:00",
          "2024-08-12T00:00:00",
          "2024-08-13T00:00:00",
          "2024-08-14T00:00:00",
          "2024-08-15T00:00:00",
          "2024-08-16T00:00:00",
          "2024-08-17T00:00:00",
          "2024-08-18T00:00:00",
          "2024-08-19T00:00:00",
          "2024-08-20T00:00:00",
          "2024-08-21T00:00:00",
          "2024-08-22T00:00:00",
          "2024-08-23T00:00:00",
          "2024-08-24T00:00:00",
          "2024-08-25T00:00:00",
          "2024-08-26T00:00:00",
          "2024-08-27T00:00:00",
          "2024-08-28T00:00:00",
          "2024-08-29T00:00:00",
          "2024-08-30T00:00:00",
          "2024-08-31T00:00:00",
          "2024-09-01T00:00:00",
          "2024-09-02T00:00:00",
          "2024-09-03T00:00:00",
          "2024-09-04T00:00:00",
          "2024-09-05T00:00:00",
          "2024-09-06T00:00:00",
          "2024-09-07T00:00:00",
          "2024-09-08T00:00:00",
          "2024-09-09T00:00:00",
          "2024-09-10T00:00:00",
          "2024-09-11T00:00:00",
          "2024-09-12T00:00:00",
          "2024-09-13T00:00:00",
          "2024-09-14T00:00:00",
          "2024-09-15T00:00:00",
          "2024-09-16T00:00:00",
          "2024-09-17T00:00:00",
          "2024-09-18T00:00:00",
          "2024-09-19T00:00:00",
          "2024-09-20T00:00:00",
          "2024-09-21T00:00:00",
          "2024-09-22T00:00:00",
          "2024-09-23T00:00:00",
          "2024-09-24T00:00:00",
          "2024-09-25T00:00:00",
          "2024-09-26T00:00:00",
          "2024-09-27T00:00:00",
          "2024-09-28T00:00:00",
          "2024-09-29T00:00:00",
          "2024-09-30T00:00:00",
          "2024-10-01T00:00:00",
          "2024-10-02T00:00:00",
          "2024-10-03T00:00:00",
          "2024-10-04T00:00:00",
          "2024-10-05T00:00:00",
          "2024-10-06T00:00:00",
          "2024-10-07T00:00:00",
          "2024-10-08T00:00:00",
          "2024-10-09T00:00:00",
          "2024-10-10T00:00:00",
          "2024-10-11T00:00:00",
          "2024-10-12T00:00:00",
          "2024-10-13T00:00:00",
          "2024-10-14T00:00:00",
          "2024-10-15T00:00:00",
          "2024-10-16T00:00:00",
          "2024-10-17T00:00:00",
          "2024-10-18T00:00:00",
          "2024-10-19T00:00:00",
          "2024-10-20T00:00:00",
          "2024-10-21T00:00:00",
          "2024-10-22T00:00:00",
          "2024-10-23T00:00:00",
          "2024-10-24T00:00:00",
          "2024-10-25T00:00:00",
          "2024-10-26T00:00:00",
          "2024-10-27T00:00:00",
          "2024-10-28T00:00:00",
          "2024-10-29T00:00:00",
          "2024-10-30T00:00:00",
          "2024-10-31T00:00:00",
          "2024-11-01T00:00:00",
          "2024-11-02T00:00:00",
          "2024-11-03T00:00:00",
          "2024-11-04T00:00:00",
          "2024-11-05T00:00:00",
          "2024-11-06T00:00:00",
          "2024-11-07T00:00:00",
          "2024-11-08T00:00:00",
          "2024-11-09T00:00:00",
          "2024-11-10T00:00:00",
          "2024-11-11T00:00:00",
          "2024-11-12T00:00:00",
          "2024-11-13T00:00:00",
          "2024-11-14T00:00:00",
          "2024-11-15T00:00:00",
          "2024-11-16T00:00:00",
          "2024-11-17T00:00:00",
          "2024-11-18T00:00:00",
          "2024-11-19T00:00:00",
          "2024-11-20T00:00:00",
          "2024-11-21T00:00:00",
          "2024-11-22T00:00:00",
          "2024-11-23T00:00:00",
          "2024-11-24T00:00:00",
          "2024-11-25T00:00:00",
          "2024-11-26T00:00:00",
          "2024-11-27T00:00:00",
          "2024-11-28T00:00:00",
          "2024-11-29T00:00:00",
          "2024-11-30T00:00:00",
          "2024-12-01T00:00:00",
          "2024-12-02T00:00:00",
          "2024-12-03T00:00:00",
          "2024-12-04T00:00:00",
          "2024-12-05T00:00:00",
          "2024-12-06T00:00:00",
          "2024-12-07T00:00:00",
          "2024-12-08T00:00:00",
          "2024-12-09T00:00:00",
          "2024-12-10T00:00:00",
          "2024-12-11T00:00:00",
          "2024-12-12T00:00:00",
          "2024-12-13T00:00:00",
          "2024-12-14T00:00:00",
          "2024-12-15T00:00:00",
          "2024-12-16T00:00:00",
          "2024-12-17T00:00:00",
          "2024-12-18T00:00:00",
          "2024-12-19T00:00:00",
          "2024-12-20T00:00:00",
          "2024-12-21T00:00:00",
          "2024-12-22T00:00:00",
          "2024-12-23T00:00:00",
          "2024-12-24T00:00:00",
          "2024-12-25T00:00:00",
          "2024-12-26T00:00:00",
          "2024-12-27T00:00:00",
          "2024-12-28T00:00:00",
          "2024-12-29T00:00:00",
          "2024-12-30T00:00:00",
          "2024-12-31T00:00:00"
         ],
         "y": [
          14,
          349,
          359,
          473,
          476,
          86,
          56,
          386,
          407,
          382,
          403,
          389,
          313,
          60,
          356,
          385,
          405,
          375,
          402,
          324,
          59,
          363,
          383,
          358,
          369,
          275,
          228,
          46,
          230,
          227,
          199,
          443,
          367,
          322,
          38,
          379,
          361,
          376,
          362,
          378,
          282,
          63,
          329,
          328,
          341,
          343,
          401,
          314,
          52,
          397,
          334,
          377,
          312,
          403,
          346,
          62,
          328,
          339,
          257,
          227,
          487,
          364,
          66,
          340,
          383,
          365,
          353,
          379,
          354,
          62,
          359,
          390,
          384,
          411,
          408,
          311,
          64,
          399,
          358,
          337,
          358,
          423,
          365,
          46,
          305,
          304,
          330,
          26,
          37,
          119,
          21,
          57,
          367,
          330,
          301,
          316,
          290,
          51,
          385,
          404,
          432,
          360,
          420,
          328,
          52,
          365,
          378,
          358,
          347,
          391,
          296,
          45,
          347,
          376,
          413,
          363,
          302,
          239,
          38,
          264,
          284,
          98,
          431,
          445,
          379,
          70,
          410,
          460,
          425,
          399,
          430,
          373,
          68,
          416,
          371,
          395,
          372,
          434,
          278,
          62,
          408,
          422,
          313,
          275,
          320,
          237,
          44,
          272,
          283,
          251,
          266,
          224,
          400,
          66,
          422,
          441,
          423,
          390,
          399,
          310,
          63,
          399,
          367,
          368,
          381,
          408,
          374,
          49,
          348,
          437,
          408,
          361,
          363,
          314,
          47,
          43,
          131,
          152,
          154,
          196,
          181,
          38,
          404,
          419,
          380,
          347,
          353,
          338,
          48,
          325,
          386,
          343,
          356,
          387,
          264,
          39,
          337,
          312,
          370,
          327,
          354,
          295,
          52,
          305,
          338,
          387,
          38,
          274,
          184,
          22,
          175,
          198,
          26,
          338,
          261,
          246,
          29,
          245,
          236,
          224,
          179,
          260,
          216,
          36,
          210,
          264,
          245,
          33,
          185,
          157,
          37,
          216,
          205,
          187,
          191,
          235,
          219,
          19,
          220,
          213,
          262,
          192,
          290,
          251,
          42,
          305,
          305,
          351,
          317,
          315,
          274,
          48,
          369,
          433,
          405,
          342,
          375,
          271,
          59,
          401,
          358,
          351,
          323,
          340,
          300,
          56,
          385,
          363,
          384,
          305,
          270,
          191,
          47,
          226,
          481,
          384,
          366,
          402,
          322,
          42,
          364,
          308,
          329,
          403,
          463,
          74,
          69,
          334,
          401,
          378,
          335,
          416,
          333,
          61,
          344,
          368,
          349,
          308,
          331,
          295,
          46,
          303,
          332,
          332,
          312,
          108,
          250,
          59,
          430,
          405,
          448,
          379,
          400,
          374,
          70,
          378,
          451,
          411,
          395,
          494,
          341,
          57,
          395,
          425,
          398,
          340,
          335,
          285,
          61,
          266,
          308,
          320,
          278,
          274,
          200,
          82,
          462,
          474,
          487,
          496,
          73,
          329,
          52,
          404,
          484,
          488,
          393,
          464,
          320,
          67,
          417,
          483,
          510,
          463,
          448,
          330,
          52,
          440,
          305,
          8,
          226,
          290,
          217,
          44,
          334,
          251
         ]
        },
        {
         "line": {
          "color": "blue",
          "width": 2
         },
         "mode": "lines",
         "name": "Media móvil 14 días",
         "type": "scatter",
         "x": [
          "2024-01-01T00:00:00",
          "2024-01-02T00:00:00",
          "2024-01-03T00:00:00",
          "2024-01-04T00:00:00",
          "2024-01-05T00:00:00",
          "2024-01-06T00:00:00",
          "2024-01-07T00:00:00",
          "2024-01-08T00:00:00",
          "2024-01-09T00:00:00",
          "2024-01-10T00:00:00",
          "2024-01-11T00:00:00",
          "2024-01-12T00:00:00",
          "2024-01-13T00:00:00",
          "2024-01-14T00:00:00",
          "2024-01-15T00:00:00",
          "2024-01-16T00:00:00",
          "2024-01-17T00:00:00",
          "2024-01-18T00:00:00",
          "2024-01-19T00:00:00",
          "2024-01-20T00:00:00",
          "2024-01-21T00:00:00",
          "2024-01-22T00:00:00",
          "2024-01-23T00:00:00",
          "2024-01-24T00:00:00",
          "2024-01-25T00:00:00",
          "2024-01-26T00:00:00",
          "2024-01-27T00:00:00",
          "2024-01-28T00:00:00",
          "2024-01-29T00:00:00",
          "2024-01-30T00:00:00",
          "2024-01-31T00:00:00",
          "2024-02-01T00:00:00",
          "2024-02-02T00:00:00",
          "2024-02-03T00:00:00",
          "2024-02-04T00:00:00",
          "2024-02-05T00:00:00",
          "2024-02-06T00:00:00",
          "2024-02-07T00:00:00",
          "2024-02-08T00:00:00",
          "2024-02-09T00:00:00",
          "2024-02-10T00:00:00",
          "2024-02-11T00:00:00",
          "2024-02-12T00:00:00",
          "2024-02-13T00:00:00",
          "2024-02-14T00:00:00",
          "2024-02-15T00:00:00",
          "2024-02-16T00:00:00",
          "2024-02-17T00:00:00",
          "2024-02-18T00:00:00",
          "2024-02-19T00:00:00",
          "2024-02-20T00:00:00",
          "2024-02-21T00:00:00",
          "2024-02-22T00:00:00",
          "2024-02-23T00:00:00",
          "2024-02-24T00:00:00",
          "2024-02-25T00:00:00",
          "2024-02-26T00:00:00",
          "2024-02-27T00:00:00",
          "2024-02-28T00:00:00",
          "2024-02-29T00:00:00",
          "2024-03-01T00:00:00",
          "2024-03-02T00:00:00",
          "2024-03-03T00:00:00",
          "2024-03-04T00:00:00",
          "2024-03-05T00:00:00",
          "2024-03-06T00:00:00",
          "2024-03-07T00:00:00",
          "2024-03-08T00:00:00",
          "2024-03-09T00:00:00",
          "2024-03-10T00:00:00",
          "2024-03-11T00:00:00",
          "2024-03-12T00:00:00",
          "2024-03-13T00:00:00",
          "2024-03-14T00:00:00",
          "2024-03-15T00:00:00",
          "2024-03-16T00:00:00",
          "2024-03-17T00:00:00",
          "2024-03-18T00:00:00",
          "2024-03-19T00:00:00",
          "2024-03-20T00:00:00",
          "2024-03-21T00:00:00",
          "2024-03-22T00:00:00",
          "2024-03-23T00:00:00",
          "2024-03-24T00:00:00",
          "2024-03-25T00:00:00",
          "2024-03-26T00:00:00",
          "2024-03-27T00:00:00",
          "2024-03-28T00:00:00",
          "2024-03-29T00:00:00",
          "2024-03-30T00:00:00",
          "2024-03-31T00:00:00",
          "2024-04-01T00:00:00",
          "2024-04-02T00:00:00",
          "2024-04-03T00:00:00",
          "2024-04-04T00:00:00",
          "2024-04-05T00:00:00",
          "2024-04-06T00:00:00",
          "2024-04-07T00:00:00",
          "2024-04-08T00:00:00",
          "2024-04-09T00:00:00",
          "2024-04-10T00:00:00",
          "2024-04-11T00:00:00",
          "2024-04-12T00:00:00",
          "2024-04-13T00:00:00",
          "2024-04-14T00:00:00",
          "2024-04-15T00:00:00",
          "2024-04-16T00:00:00",
          "2024-04-17T00:00:00",
          "2024-04-18T00:00:00",
          "2024-04-19T00:00:00",
          "2024-04-20T00:00:00",
          "2024-04-21T00:00:00",
          "2024-04-22T00:00:00",
          "2024-04-23T00:00:00",
          "2024-04-24T00:00:00",
          "2024-04-25T00:00:00",
          "2024-04-26T00:00:00",
          "2024-04-27T00:00:00",
          "2024-04-28T00:00:00",
          "2024-04-29T00:00:00",
          "2024-04-30T00:00:00",
          "2024-05-01T00:00:00",
          "2024-05-02T00:00:00",
          "2024-05-03T00:00:00",
          "2024-05-04T00:00:00",
          "2024-05-05T00:00:00",
          "2024-05-06T00:00:00",
          "2024-05-07T00:00:00",
          "2024-05-08T00:00:00",
          "2024-05-09T00:00:00",
          "2024-05-10T00:00:00",
          "2024-05-11T00:00:00",
          "2024-05-12T00:00:00",
          "2024-05-13T00:00:00",
          "2024-05-14T00:00:00",
          "2024-05-15T00:00:00",
          "2024-05-16T00:00:00",
          "2024-05-17T00:00:00",
          "2024-05-18T00:00:00",
          "2024-05-19T00:00:00",
          "2024-05-20T00:00:00",
          "2024-05-21T00:00:00",
          "2024-05-22T00:00:00",
          "2024-05-23T00:00:00",
          "2024-05-24T00:00:00",
          "2024-05-25T00:00:00",
          "2024-05-26T00:00:00",
          "2024-05-27T00:00:00",
          "2024-05-28T00:00:00",
          "2024-05-29T00:00:00",
          "2024-05-30T00:00:00",
          "2024-05-31T00:00:00",
          "2024-06-01T00:00:00",
          "2024-06-02T00:00:00",
          "2024-06-03T00:00:00",
          "2024-06-04T00:00:00",
          "2024-06-05T00:00:00",
          "2024-06-06T00:00:00",
          "2024-06-07T00:00:00",
          "2024-06-08T00:00:00",
          "2024-06-09T00:00:00",
          "2024-06-10T00:00:00",
          "2024-06-11T00:00:00",
          "2024-06-12T00:00:00",
          "2024-06-13T00:00:00",
          "2024-06-14T00:00:00",
          "2024-06-15T00:00:00",
          "2024-06-16T00:00:00",
          "2024-06-17T00:00:00",
          "2024-06-18T00:00:00",
          "2024-06-19T00:00:00",
          "2024-06-20T00:00:00",
          "2024-06-21T00:00:00",
          "2024-06-22T00:00:00",
          "2024-06-23T00:00:00",
          "2024-06-24T00:00:00",
          "2024-06-25T00:00:00",
          "2024-06-26T00:00:00",
          "2024-06-27T00:00:00",
          "2024-06-28T00:00:00",
          "2024-06-29T00:00:00",
          "2024-06-30T00:00:00",
          "2024-07-01T00:00:00",
          "2024-07-02T00:00:00",
          "2024-07-03T00:00:00",
          "2024-07-04T00:00:00",
          "2024-07-05T00:00:00",
          "2024-07-06T00:00:00",
          "2024-07-07T00:00:00",
          "2024-07-08T00:00:00",
          "2024-07-09T00:00:00",
          "2024-07-10T00:00:00",
          "2024-07-11T00:00:00",
          "2024-07-12T00:00:00",
          "2024-07-13T00:00:00",
          "2024-07-14T00:00:00",
          "2024-07-15T00:00:00",
          "2024-07-16T00:00:00",
          "2024-07-17T00:00:00",
          "2024-07-18T00:00:00",
          "2024-07-19T00:00:00",
          "2024-07-20T00:00:00",
          "2024-07-21T00:00:00",
          "2024-07-22T00:00:00",
          "2024-07-23T00:00:00",
          "2024-07-24T00:00:00",
          "2024-07-25T00:00:00",
          "2024-07-26T00:00:00",
          "2024-07-27T00:00:00",
          "2024-07-28T00:00:00",
          "2024-07-29T00:00:00",
          "2024-07-30T00:00:00",
          "2024-07-31T00:00:00",
          "2024-08-01T00:00:00",
          "2024-08-02T00:00:00",
          "2024-08-03T00:00:00",
          "2024-08-04T00:00:00",
          "2024-08-05T00:00:00",
          "2024-08-06T00:00:00",
          "2024-08-07T00:00:00",
          "2024-08-08T00:00:00",
          "2024-08-09T00:00:00",
          "2024-08-10T00:00:00",
          "2024-08-11T00:00:00",
          "2024-08-12T00:00:00",
          "2024-08-13T00:00:00",
          "2024-08-14T00:00:00",
          "2024-08-15T00:00:00",
          "2024-08-16T00:00:00",
          "2024-08-17T00:00:00",
          "2024-08-18T00:00:00",
          "2024-08-19T00:00:00",
          "2024-08-20T00:00:00",
          "2024-08-21T00:00:00",
          "2024-08-22T00:00:00",
          "2024-08-23T00:00:00",
          "2024-08-24T00:00:00",
          "2024-08-25T00:00:00",
          "2024-08-26T00:00:00",
          "2024-08-27T00:00:00",
          "2024-08-28T00:00:00",
          "2024-08-29T00:00:00",
          "2024-08-30T00:00:00",
          "2024-08-31T00:00:00",
          "2024-09-01T00:00:00",
          "2024-09-02T00:00:00",
          "2024-09-03T00:00:00",
          "2024-09-04T00:00:00",
          "2024-09-05T00:00:00",
          "2024-09-06T00:00:00",
          "2024-09-07T00:00:00",
          "2024-09-08T00:00:00",
          "2024-09-09T00:00:00",
          "2024-09-10T00:00:00",
          "2024-09-11T00:00:00",
          "2024-09-12T00:00:00",
          "2024-09-13T00:00:00",
          "2024-09-14T00:00:00",
          "2024-09-15T00:00:00",
          "2024-09-16T00:00:00",
          "2024-09-17T00:00:00",
          "2024-09-18T00:00:00",
          "2024-09-19T00:00:00",
          "2024-09-20T00:00:00",
          "2024-09-21T00:00:00",
          "2024-09-22T00:00:00",
          "2024-09-23T00:00:00",
          "2024-09-24T00:00:00",
          "2024-09-25T00:00:00",
          "2024-09-26T00:00:00",
          "2024-09-27T00:00:00",
          "2024-09-28T00:00:00",
          "2024-09-29T00:00:00",
          "2024-09-30T00:00:00",
          "2024-10-01T00:00:00",
          "2024-10-02T00:00:00",
          "2024-10-03T00:00:00",
          "2024-10-04T00:00:00",
          "2024-10-05T00:00:00",
          "2024-10-06T00:00:00",
          "2024-10-07T00:00:00",
          "2024-10-08T00:00:00",
          "2024-10-09T00:00:00",
          "2024-10-10T00:00:00",
          "2024-10-11T00:00:00",
          "2024-10-12T00:00:00",
          "2024-10-13T00:00:00",
          "2024-10-14T00:00:00",
          "2024-10-15T00:00:00",
          "2024-10-16T00:00:00",
          "2024-10-17T00:00:00",
          "2024-10-18T00:00:00",
          "2024-10-19T00:00:00",
          "2024-10-20T00:00:00",
          "2024-10-21T00:00:00",
          "2024-10-22T00:00:00",
          "2024-10-23T00:00:00",
          "2024-10-24T00:00:00",
          "2024-10-25T00:00:00",
          "2024-10-26T00:00:00",
          "2024-10-27T00:00:00",
          "2024-10-28T00:00:00",
          "2024-10-29T00:00:00",
          "2024-10-30T00:00:00",
          "2024-10-31T00:00:00",
          "2024-11-01T00:00:00",
          "2024-11-02T00:00:00",
          "2024-11-03T00:00:00",
          "2024-11-04T00:00:00",
          "2024-11-05T00:00:00",
          "2024-11-06T00:00:00",
          "2024-11-07T00:00:00",
          "2024-11-08T00:00:00",
          "2024-11-09T00:00:00",
          "2024-11-10T00:00:00",
          "2024-11-11T00:00:00",
          "2024-11-12T00:00:00",
          "2024-11-13T00:00:00",
          "2024-11-14T00:00:00",
          "2024-11-15T00:00:00",
          "2024-11-16T00:00:00",
          "2024-11-17T00:00:00",
          "2024-11-18T00:00:00",
          "2024-11-19T00:00:00",
          "2024-11-20T00:00:00",
          "2024-11-21T00:00:00",
          "2024-11-22T00:00:00",
          "2024-11-23T00:00:00",
          "2024-11-24T00:00:00",
          "2024-11-25T00:00:00",
          "2024-11-26T00:00:00",
          "2024-11-27T00:00:00",
          "2024-11-28T00:00:00",
          "2024-11-29T00:00:00",
          "2024-11-30T00:00:00",
          "2024-12-01T00:00:00",
          "2024-12-02T00:00:00",
          "2024-12-03T00:00:00",
          "2024-12-04T00:00:00",
          "2024-12-05T00:00:00",
          "2024-12-06T00:00:00",
          "2024-12-07T00:00:00",
          "2024-12-08T00:00:00",
          "2024-12-09T00:00:00",
          "2024-12-10T00:00:00",
          "2024-12-11T00:00:00",
          "2024-12-12T00:00:00",
          "2024-12-13T00:00:00",
          "2024-12-14T00:00:00",
          "2024-12-15T00:00:00",
          "2024-12-16T00:00:00",
          "2024-12-17T00:00:00",
          "2024-12-18T00:00:00",
          "2024-12-19T00:00:00",
          "2024-12-20T00:00:00",
          "2024-12-21T00:00:00",
          "2024-12-22T00:00:00",
          "2024-12-23T00:00:00",
          "2024-12-24T00:00:00",
          "2024-12-25T00:00:00",
          "2024-12-26T00:00:00",
          "2024-12-27T00:00:00",
          "2024-12-28T00:00:00",
          "2024-12-29T00:00:00",
          "2024-12-30T00:00:00",
          "2024-12-31T00:00:00"
         ],
         "y": [
          null,
          null,
          null,
          null,
          null,
          null,
          null,
          296.64285714285717,
          321.07142857142856,
          323.64285714285717,
          326.92857142857144,
          319.92857142857144,
          314.64285714285717,
          331.64285714285717,
          331.85714285714283,
          330.2142857142857,
          328.5,
          326.7857142857143,
          324.35714285714283,
          316.2142857142857,
          310.14285714285717,
          309.14285714285717,
          300.14285714285717,
          288.85714285714283,
          274.14285714285717,
          279,
          276.5,
          276.35714285714283,
          274.85714285714283,
          276,
          274.42857142857144,
          275.7142857142857,
          275.2142857142857,
          282.57142857142856,
          286.42857142857144,
          287.64285714285717,
          294.7142857142857,
          301.92857142857144,
          312.07142857142856,
          304.92857142857144,
          307.35714285714283,
          306.7857142857143,
          307.7857142857143,
          309.07142857142856,
          307.14285714285717,
          307.2142857142857,
          303.64285714285717,
          305.42857142857144,
          310,
          309.92857142857144,
          309.85714285714283,
          310.64285714285717,
          304.64285714285717,
          296.35714285714283,
          302.5,
          306.07142857142856,
          307.07142857142856,
          303,
          306.5,
          305.64285714285717,
          308.57142857142856,
          306.85714285714283,
          307.42857142857144,
          307.42857142857144,
          309.64285714285717,
          313.2857142857143,
          322.35714285714283,
          335.5,
          329.85714285714283,
          326.07142857142856,
          325.92857142857144,
          330.14285714285717,
          328.35714285714283,
          326.35714285714283,
          326.7142857142857,
          329.85714285714283,
          330.64285714285717,
          329.5,
          325.64285714285717,
          319.5,
          315.64285714285717,
          288.14285714285717,
          261.64285714285717,
          247.92857142857142,
          244.85714285714286,
          220.42857142857142,
          221.07142857142858,
          220.57142857142858,
          216.5,
          208.85714285714286,
          203.5,
          203.85714285714286,
          209.57142857142858,
          216.71428571428572,
          224,
          247.85714285714286,
          275.2142857142857,
          290.14285714285717,
          292.35714285714283,
          314.35714285714283,
          315.14285714285717,
          317.14285714285717,
          320.42857142857144,
          325.7857142857143,
          326.2142857142857,
          325.7857142857143,
          323.07142857142856,
          321.07142857142856,
          319.7142857142857,
          319.92857142857144,
          311.5,
          305.14285714285717,
          304.14285714285717,
          296.92857142857144,
          290.2142857142857,
          271.64285714285717,
          277.64285714285717,
          281.5,
          287.42857142857144,
          289.2142857142857,
          293.7142857142857,
          299.7142857142857,
          300.57142857142856,
          303.14285714285717,
          312.2857142857143,
          321.85714285714283,
          324,
          334.85714285714283,
          341.07142857142856,
          362.2857142857143,
          358.07142857142856,
          357.2857142857143,
          350.07142857142856,
          349.5,
          349.35714285714283,
          346.64285714285717,
          338.64285714285717,
          329.7857142857143,
          321.92857142857144,
          312.2142857142857,
          310.5,
          300.2142857142857,
          293.92857142857144,
          283.64285714285717,
          276.07142857142856,
          261.07142857142856,
          269.7857142857143,
          270.07142857142856,
          271.07142857142856,
          272.42857142857144,
          280.2857142857143,
          288.5,
          294.14285714285717,
          299.35714285714283,
          300.7142857142857,
          309.7857142857143,
          315.7857142857143,
          324.14285714285717,
          332.35714285714283,
          345.5,
          343.64285714285717,
          342.42857142857144,
          337.14285714285717,
          336.85714285714283,
          335.7857142857143,
          333.7142857142857,
          331.14285714285717,
          331.42857142857144,
          330.2857142857143,
          304.85714285714283,
          288,
          272.57142857142856,
          256.35714285714283,
          241.21428571428572,
          227.42857142857142,
          226.64285714285714,
          230.64285714285714,
          229.35714285714286,
          227.35714285714286,
          226.35714285714286,
          225.64285714285714,
          227.35714285714286,
          227.42857142857142,
          247.57142857142858,
          265.7857142857143,
          279.42857142857144,
          293.85714285714283,
          307.5,
          313.42857142857144,
          313.5,
          308.7142857142857,
          301.07142857142856,
          300.35714285714283,
          298.92857142857144,
          299,
          295.92857142857144,
          296.2142857142857,
          294.7857142857143,
          291.35714285714283,
          294.5,
          271.7857142857143,
          263.7142857142857,
          258,
          256.7857142857143,
          245.21428571428572,
          237.07142857142858,
          212.5,
          213.28571428571428,
          206.64285714285714,
          203.14285714285714,
          201.5,
          197.21428571428572,
          189.92857142857142,
          178.28571428571428,
          188.35714285714286,
          187.35714285714286,
          189.64285714285714,
          190.64285714285714,
          193.14285714285714,
          197.85714285714286,
          213.5,
          191.71428571428572,
          186.28571428571428,
          179.92857142857142,
          180.5,
          178.42857142857142,
          176.21428571428572,
          173.57142857142858,
          174.42857142857142,
          172.64285714285714,
          172.85714285714286,
          171.64285714285714,
          172.35714285714286,
          168.71428571428572,
          169.92857142857142,
          181.28571428571428,
          188.78571428571428,
          195.5,
          195.85714285714286,
          202.21428571428572,
          209.35714285714286,
          221.07142857142858,
          230.07142857142858,
          235.78571428571428,
          239.71428571428572,
          241.78571428571428,
          252.42857142857142,
          268.14285714285717,
          278.35714285714283,
          289.07142857142856,
          295.14285714285717,
          296.57142857142856,
          297.7857142857143,
          304.64285714285717,
          308.42857142857144,
          308.42857142857144,
          308.85714285714283,
          310.64285714285717,
          312.5,
          313.07142857142856,
          314.2142857142857,
          309.2142857142857,
          307.7142857142857,
          305.07142857142856,
          297.57142857142856,
          291.85714285714283,
          291,
          278.5,
          287.2857142857143,
          289.64285714285717,
          292.7142857142857,
          297.14285714285717,
          298.7142857142857,
          297.7142857142857,
          296.2142857142857,
          292.2857142857143,
          288.35714285714283,
          295.35714285714283,
          309.14285714285717,
          300.7857142857143,
          302.35714285714283,
          310.07142857142856,
          304.35714285714283,
          303.92857142857144,
          301.7142857142857,
          302.7142857142857,
          303.5,
          304.85714285714283,
          303.42857142857144,
          307.7142857142857,
          309.14285714285717,
          302.35714285714283,
          292.92857142857144,
          308.7142857142857,
          307.07142857142856,
          304.85714285714283,
          299.92857142857144,
          296.64285714285717,
          295,
          273,
          267.07142857142856,
          266.92857142857144,
          273.07142857142856,
          275.7142857142857,
          282.7857142857143,
          287.85714285714283,
          292.7857142857143,
          298.42857142857144,
          300.14285714285717,
          305.5,
          314,
          319.64285714285717,
          325.57142857142856,
          353.14285714285717,
          359.64285714285717,
          359.5,
          357,
          358.42857142857144,
          354.85714285714283,
          352.07142857142856,
          347.42857142857144,
          341.07142857142856,
          340.42857142857144,
          332.42857142857144,
          322.2142857142857,
          315.7142857142857,
          307.35714285714283,
          291.64285714285717,
          281.57142857142856,
          283.35714285714283,
          288.14285714285717,
          291.64285714285717,
          298,
          309.14285714285717,
          290.42857142857144,
          293.57142857142856,
          292.92857142857144,
          302.7857142857143,
          315.35714285714283,
          327.35714285714283,
          335.57142857142856,
          349.14285714285717,
          357.7142857142857,
          356.64285714285717,
          353.42857142857144,
          354.07142857142856,
          355.7142857142857,
          353.35714285714283,
          380.14285714285717,
          380.2142857142857,
          380.2142857142857,
          382.7857142857143,
          370,
          335.7142857142857,
          323.7857142857143,
          311.35714285714283,
          304,
          302.35714285714283,
          296.42857142857144,
          279.85714285714283,
          null,
          null,
          null,
          null,
          null,
          null
         ]
        },
        {
         "line": {
          "color": "red",
          "width": 2
         },
         "mode": "lines",
         "name": "Media móvil 28 días",
         "type": "scatter",
         "x": [
          "2024-01-01T00:00:00",
          "2024-01-02T00:00:00",
          "2024-01-03T00:00:00",
          "2024-01-04T00:00:00",
          "2024-01-05T00:00:00",
          "2024-01-06T00:00:00",
          "2024-01-07T00:00:00",
          "2024-01-08T00:00:00",
          "2024-01-09T00:00:00",
          "2024-01-10T00:00:00",
          "2024-01-11T00:00:00",
          "2024-01-12T00:00:00",
          "2024-01-13T00:00:00",
          "2024-01-14T00:00:00",
          "2024-01-15T00:00:00",
          "2024-01-16T00:00:00",
          "2024-01-17T00:00:00",
          "2024-01-18T00:00:00",
          "2024-01-19T00:00:00",
          "2024-01-20T00:00:00",
          "2024-01-21T00:00:00",
          "2024-01-22T00:00:00",
          "2024-01-23T00:00:00",
          "2024-01-24T00:00:00",
          "2024-01-25T00:00:00",
          "2024-01-26T00:00:00",
          "2024-01-27T00:00:00",
          "2024-01-28T00:00:00",
          "2024-01-29T00:00:00",
          "2024-01-30T00:00:00",
          "2024-01-31T00:00:00",
          "2024-02-01T00:00:00",
          "2024-02-02T00:00:00",
          "2024-02-03T00:00:00",
          "2024-02-04T00:00:00",
          "2024-02-05T00:00:00",
          "2024-02-06T00:00:00",
          "2024-02-07T00:00:00",
          "2024-02-08T00:00:00",
          "2024-02-09T00:00:00",
          "2024-02-10T00:00:00",
          "2024-02-11T00:00:00",
          "2024-02-12T00:00:00",
          "2024-02-13T00:00:00",
          "2024-02-14T00:00:00",
          "2024-02-15T00:00:00",
          "2024-02-16T00:00:00",
          "2024-02-17T00:00:00",
          "2024-02-18T00:00:00",
          "2024-02-19T00:00:00",
          "2024-02-20T00:00:00",
          "2024-02-21T00:00:00",
          "2024-02-22T00:00:00",
          "2024-02-23T00:00:00",
          "2024-02-24T00:00:00",
          "2024-02-25T00:00:00",
          "2024-02-26T00:00:00",
          "2024-02-27T00:00:00",
          "2024-02-28T00:00:00",
          "2024-02-29T00:00:00",
          "2024-03-01T00:00:00",
          "2024-03-02T00:00:00",
          "2024-03-03T00:00:00",
          "2024-03-04T00:00:00",
          "2024-03-05T00:00:00",
          "2024-03-06T00:00:00",
          "2024-03-07T00:00:00",
          "2024-03-08T00:00:00",
          "2024-03-09T00:00:00",
          "2024-03-10T00:00:00",
          "2024-03-11T00:00:00",
          "2024-03-12T00:00:00",
          "2024-03-13T00:00:00",
          "2024-03-14T00:00:00",
          "2024-03-15T00:00:00",
          "2024-03-16T00:00:00",
          "2024-03-17T00:00:00",
          "2024-03-18T00:00:00",
          "2024-03-19T00:00:00",
          "2024-03-20T00:00:00",
          "2024-03-21T00:00:00",
          "2024-03-22T00:00:00",
          "2024-03-23T00:00:00",
          "2024-03-24T00:00:00",
          "2024-03-25T00:00:00",
          "2024-03-26T00:00:00",
          "2024-03-27T00:00:00",
          "2024-03-28T00:00:00",
          "2024-03-29T00:00:00",
          "2024-03-30T00:00:00",
          "2024-03-31T00:00:00",
          "2024-04-01T00:00:00",
          "2024-04-02T00:00:00",
          "2024-04-03T00:00:00",
          "2024-04-04T00:00:00",
          "2024-04-05T00:00:00",
          "2024-04-06T00:00:00",
          "2024-04-07T00:00:00",
          "2024-04-08T00:00:00",
          "2024-04-09T00:00:00",
          "2024-04-10T00:00:00",
          "2024-04-11T00:00:00",
          "2024-04-12T00:00:00",
          "2024-04-13T00:00:00",
          "2024-04-14T00:00:00",
          "2024-04-15T00:00:00",
          "2024-04-16T00:00:00",
          "2024-04-17T00:00:00",
          "2024-04-18T00:00:00",
          "2024-04-19T00:00:00",
          "2024-04-20T00:00:00",
          "2024-04-21T00:00:00",
          "2024-04-22T00:00:00",
          "2024-04-23T00:00:00",
          "2024-04-24T00:00:00",
          "2024-04-25T00:00:00",
          "2024-04-26T00:00:00",
          "2024-04-27T00:00:00",
          "2024-04-28T00:00:00",
          "2024-04-29T00:00:00",
          "2024-04-30T00:00:00",
          "2024-05-01T00:00:00",
          "2024-05-02T00:00:00",
          "2024-05-03T00:00:00",
          "2024-05-04T00:00:00",
          "2024-05-05T00:00:00",
          "2024-05-06T00:00:00",
          "2024-05-07T00:00:00",
          "2024-05-08T00:00:00",
          "2024-05-09T00:00:00",
          "2024-05-10T00:00:00",
          "2024-05-11T00:00:00",
          "2024-05-12T00:00:00",
          "2024-05-13T00:00:00",
          "2024-05-14T00:00:00",
          "2024-05-15T00:00:00",
          "2024-05-16T00:00:00",
          "2024-05-17T00:00:00",
          "2024-05-18T00:00:00",
          "2024-05-19T00:00:00",
          "2024-05-20T00:00:00",
          "2024-05-21T00:00:00",
          "2024-05-22T00:00:00",
          "2024-05-23T00:00:00",
          "2024-05-24T00:00:00",
          "2024-05-25T00:00:00",
          "2024-05-26T00:00:00",
          "2024-05-27T00:00:00",
          "2024-05-28T00:00:00",
          "2024-05-29T00:00:00",
          "2024-05-30T00:00:00",
          "2024-05-31T00:00:00",
          "2024-06-01T00:00:00",
          "2024-06-02T00:00:00",
          "2024-06-03T00:00:00",
          "2024-06-04T00:00:00",
          "2024-06-05T00:00:00",
          "2024-06-06T00:00:00",
          "2024-06-07T00:00:00",
          "2024-06-08T00:00:00",
          "2024-06-09T00:00:00",
          "2024-06-10T00:00:00",
          "2024-06-11T00:00:00",
          "2024-06-12T00:00:00",
          "2024-06-13T00:00:00",
          "2024-06-14T00:00:00",
          "2024-06-15T00:00:00",
          "2024-06-16T00:00:00",
          "2024-06-17T00:00:00",
          "2024-06-18T00:00:00",
          "2024-06-19T00:00:00",
          "2024-06-20T00:00:00",
          "2024-06-21T00:00:00",
          "2024-06-22T00:00:00",
          "2024-06-23T00:00:00",
          "2024-06-24T00:00:00",
          "2024-06-25T00:00:00",
          "2024-06-26T00:00:00",
          "2024-06-27T00:00:00",
          "2024-06-28T00:00:00",
          "2024-06-29T00:00:00",
          "2024-06-30T00:00:00",
          "2024-07-01T00:00:00",
          "2024-07-02T00:00:00",
          "2024-07-03T00:00:00",
          "2024-07-04T00:00:00",
          "2024-07-05T00:00:00",
          "2024-07-06T00:00:00",
          "2024-07-07T00:00:00",
          "2024-07-08T00:00:00",
          "2024-07-09T00:00:00",
          "2024-07-10T00:00:00",
          "2024-07-11T00:00:00",
          "2024-07-12T00:00:00",
          "2024-07-13T00:00:00",
          "2024-07-14T00:00:00",
          "2024-07-15T00:00:00",
          "2024-07-16T00:00:00",
          "2024-07-17T00:00:00",
          "2024-07-18T00:00:00",
          "2024-07-19T00:00:00",
          "2024-07-20T00:00:00",
          "2024-07-21T00:00:00",
          "2024-07-22T00:00:00",
          "2024-07-23T00:00:00",
          "2024-07-24T00:00:00",
          "2024-07-25T00:00:00",
          "2024-07-26T00:00:00",
          "2024-07-27T00:00:00",
          "2024-07-28T00:00:00",
          "2024-07-29T00:00:00",
          "2024-07-30T00:00:00",
          "2024-07-31T00:00:00",
          "2024-08-01T00:00:00",
          "2024-08-02T00:00:00",
          "2024-08-03T00:00:00",
          "2024-08-04T00:00:00",
          "2024-08-05T00:00:00",
          "2024-08-06T00:00:00",
          "2024-08-07T00:00:00",
          "2024-08-08T00:00:00",
          "2024-08-09T00:00:00",
          "2024-08-10T00:00:00",
          "2024-08-11T00:00:00",
          "2024-08-12T00:00:00",
          "2024-08-13T00:00:00",
          "2024-08-14T00:00:00",
          "2024-08-15T00:00:00",
          "2024-08-16T00:00:00",
          "2024-08-17T00:00:00",
          "2024-08-18T00:00:00",
          "2024-08-19T00:00:00",
          "2024-08-20T00:00:00",
          "2024-08-21T00:00:00",
          "2024-08-22T00:00:00",
          "2024-08-23T00:00:00",
          "2024-08-24T00:00:00",
          "2024-08-25T00:00:00",
          "2024-08-26T00:00:00",
          "2024-08-27T00:00:00",
          "2024-08-28T00:00:00",
          "2024-08-29T00:00:00",
          "2024-08-30T00:00:00",
          "2024-08-31T00:00:00",
          "2024-09-01T00:00:00",
          "2024-09-02T00:00:00",
          "2024-09-03T00:00:00",
          "2024-09-04T00:00:00",
          "2024-09-05T00:00:00",
          "2024-09-06T00:00:00",
          "2024-09-07T00:00:00",
          "2024-09-08T00:00:00",
          "2024-09-09T00:00:00",
          "2024-09-10T00:00:00",
          "2024-09-11T00:00:00",
          "2024-09-12T00:00:00",
          "2024-09-13T00:00:00",
          "2024-09-14T00:00:00",
          "2024-09-15T00:00:00",
          "2024-09-16T00:00:00",
          "2024-09-17T00:00:00",
          "2024-09-18T00:00:00",
          "2024-09-19T00:00:00",
          "2024-09-20T00:00:00",
          "2024-09-21T00:00:00",
          "2024-09-22T00:00:00",
          "2024-09-23T00:00:00",
          "2024-09-24T00:00:00",
          "2024-09-25T00:00:00",
          "2024-09-26T00:00:00",
          "2024-09-27T00:00:00",
          "2024-09-28T00:00:00",
          "2024-09-29T00:00:00",
          "2024-09-30T00:00:00",
          "2024-10-01T00:00:00",
          "2024-10-02T00:00:00",
          "2024-10-03T00:00:00",
          "2024-10-04T00:00:00",
          "2024-10-05T00:00:00",
          "2024-10-06T00:00:00",
          "2024-10-07T00:00:00",
          "2024-10-08T00:00:00",
          "2024-10-09T00:00:00",
          "2024-10-10T00:00:00",
          "2024-10-11T00:00:00",
          "2024-10-12T00:00:00",
          "2024-10-13T00:00:00",
          "2024-10-14T00:00:00",
          "2024-10-15T00:00:00",
          "2024-10-16T00:00:00",
          "2024-10-17T00:00:00",
          "2024-10-18T00:00:00",
          "2024-10-19T00:00:00",
          "2024-10-20T00:00:00",
          "2024-10-21T00:00:00",
          "2024-10-22T00:00:00",
          "2024-10-23T00:00:00",
          "2024-10-24T00:00:00",
          "2024-10-25T00:00:00",
          "2024-10-26T00:00:00",
          "2024-10-27T00:00:00",
          "2024-10-28T00:00:00",
          "2024-10-29T00:00:00",
          "2024-10-30T00:00:00",
          "2024-10-31T00:00:00",
          "2024-11-01T00:00:00",
          "2024-11-02T00:00:00",
          "2024-11-03T00:00:00",
          "2024-11-04T00:00:00",
          "2024-11-05T00:00:00",
          "2024-11-06T00:00:00",
          "2024-11-07T00:00:00",
          "2024-11-08T00:00:00",
          "2024-11-09T00:00:00",
          "2024-11-10T00:00:00",
          "2024-11-11T00:00:00",
          "2024-11-12T00:00:00",
          "2024-11-13T00:00:00",
          "2024-11-14T00:00:00",
          "2024-11-15T00:00:00",
          "2024-11-16T00:00:00",
          "2024-11-17T00:00:00",
          "2024-11-18T00:00:00",
          "2024-11-19T00:00:00",
          "2024-11-20T00:00:00",
          "2024-11-21T00:00:00",
          "2024-11-22T00:00:00",
          "2024-11-23T00:00:00",
          "2024-11-24T00:00:00",
          "2024-11-25T00:00:00",
          "2024-11-26T00:00:00",
          "2024-11-27T00:00:00",
          "2024-11-28T00:00:00",
          "2024-11-29T00:00:00",
          "2024-11-30T00:00:00",
          "2024-12-01T00:00:00",
          "2024-12-02T00:00:00",
          "2024-12-03T00:00:00",
          "2024-12-04T00:00:00",
          "2024-12-05T00:00:00",
          "2024-12-06T00:00:00",
          "2024-12-07T00:00:00",
          "2024-12-08T00:00:00",
          "2024-12-09T00:00:00",
          "2024-12-10T00:00:00",
          "2024-12-11T00:00:00",
          "2024-12-12T00:00:00",
          "2024-12-13T00:00:00",
          "2024-12-14T00:00:00",
          "2024-12-15T00:00:00",
          "2024-12-16T00:00:00",
          "2024-12-17T00:00:00",
          "2024-12-18T00:00:00",
          "2024-12-19T00:00:00",
          "2024-12-20T00:00:00",
          "2024-12-21T00:00:00",
          "2024-12-22T00:00:00",
          "2024-12-23T00:00:00",
          "2024-12-24T00:00:00",
          "2024-12-25T00:00:00",
          "2024-12-26T00:00:00",
          "2024-12-27T00:00:00",
          "2024-12-28T00:00:00",
          "2024-12-29T00:00:00",
          "2024-12-30T00:00:00",
          "2024-12-31T00:00:00"
         ],
         "y": [
          null,
          null,
          null,
          null,
          null,
          null,
          null,
          null,
          null,
          null,
          null,
          null,
          null,
          null,
          302.89285714285717,
          310.60714285714283,
          306.25,
          300.5357142857143,
          299.4642857142857,
          295.57142857142856,
          304,
          303.35714285714283,
          303.10714285714283,
          301.4642857142857,
          301.25,
          299.7857142857143,
          299.39285714285717,
          298.2857142857143,
          298.39285714285717,
          297.42857142857144,
          295.39285714285717,
          293.10714285714283,
          291.9642857142857,
          291.92857142857144,
          291.57142857142856,
          291.32142857142856,
          292.5357142857143,
          290.7857142857143,
          291.4642857142857,
          289.42857142857144,
          294,
          298.2142857142857,
          298.7857142857143,
          302.2857142857143,
          306.2857142857143,
          308.35714285714283,
          300.64285714285717,
          304.92857142857144,
          306.42857142857144,
          307.42857142857144,
          306.0357142857143,
          306.82142857142856,
          306.42857142857144,
          306.10714285714283,
          306.14285714285717,
          308.7142857142857,
          308.67857142857144,
          309.75,
          311.9642857142857,
          313.5,
          315.92857142857144,
          316.17857142857144,
          316.07142857142856,
          316.5,
          316.57142857142856,
          317.42857142857144,
          316,
          317.64285714285717,
          318.35714285714283,
          319.0357142857143,
          318.4642857142857,
          317.64285714285717,
          316.39285714285717,
          319,
          311.82142857142856,
          295.75,
          287,
          285.39285714285717,
          275.2857142857143,
          274.7142857142857,
          273.4642857142857,
          271.60714285714283,
          269.35714285714283,
          267.07142857142856,
          266.67857142857144,
          267.60714285714283,
          268.10714285714283,
          269.82142857142856,
          268,
          268.42857142857144,
          269.0357142857143,
          268.60714285714283,
          267.39285714285717,
          268.10714285714283,
          268.85714285714283,
          268.4642857142857,
          267.32142857142856,
          264.85714285714283,
          264.82142857142856,
          266.32142857142856,
          268.89285714285717,
          271.85714285714283,
          283.89285714285717,
          293.35714285714283,
          297.64285714285717,
          298.25,
          305.64285714285717,
          302.67857142857144,
          294.39285714285717,
          299.0357142857143,
          303.64285714285717,
          306.82142857142856,
          307.5,
          308.39285714285717,
          310.39285714285717,
          310.14285714285717,
          311.5357142857143,
          311.89285714285717,
          313.5,
          314.07142857142856,
          315.89285714285717,
          315.64285714285717,
          316.9642857142857,
          317.85714285714283,
          319.39285714285717,
          318.75,
          319.35714285714283,
          321.5357142857143,
          323.17857142857144,
          319.60714285714283,
          316.4642857142857,
          317.10714285714283,
          317.0357142857143,
          317.25,
          317.5357142857143,
          317.5,
          322.9642857142857,
          317.07142857142856,
          309.17857142857144,
          309.92857142857144,
          309.7857142857143,
          310.2142857142857,
          309.5357142857143,
          309.4642857142857,
          309.14285714285717,
          308.0357142857143,
          305.7857142857143,
          305.60714285714283,
          305,
          304.85714285714283,
          303.89285714285717,
          304.2142857142857,
          303.2857142857143,
          306.7142857142857,
          306.25,
          304.10714285714283,
          304.64285714285717,
          308.0357142857143,
          311.10714285714283,
          312.64285714285717,
          315.39285714285717,
          315.5,
          307.32142857142856,
          301.89285714285717,
          298.35714285714283,
          294.35714285714283,
          293.35714285714283,
          285.5357142857143,
          284.5357142857143,
          283.89285714285717,
          283.10714285714283,
          281.57142857142856,
          280.0357142857143,
          278.39285714285717,
          279.39285714285717,
          278.85714285714283,
          276.2142857142857,
          276.89285714285717,
          276,
          275.10714285714283,
          274.35714285714283,
          270.42857142857144,
          270.07142857142856,
          269.67857142857144,
          265.2142857142857,
          263.85714285714283,
          262.64285714285717,
          262.32142857142856,
          261.64285714285717,
          261.82142857142856,
          271.17857142857144,
          278.57142857142856,
          286.9642857142857,
          282.82142857142856,
          285.60714285714283,
          285.7142857142857,
          285.14285714285717,
          276.9642857142857,
          269.07142857142856,
          256.42857142857144,
          256.10714285714283,
          252.82142857142858,
          249.53571428571428,
          248.85714285714286,
          246,
          240.64285714285714,
          236.39285714285714,
          230.07142857142858,
          225.53571428571428,
          223.82142857142858,
          223.71428571428572,
          219.17857142857142,
          217.46428571428572,
          213,
          202.5,
          196.46428571428572,
          191.53571428571428,
          191,
          187.82142857142858,
          183.07142857142858,
          175.92857142857142,
          181.39285714285714,
          180,
          181.25,
          181.14285714285714,
          182.75,
          183.28571428571428,
          191.71428571428572,
          186.5,
          187.53571428571428,
          187.71428571428572,
          188.17857142857142,
          190.32142857142858,
          192.78571428571428,
          197.32142857142858,
          202.25,
          204.21428571428572,
          206.28571428571428,
          206.71428571428572,
          212.39285714285714,
          218.42857142857142,
          224.14285714285714,
          235.17857142857142,
          241.96428571428572,
          246.03571428571428,
          246.82142857142858,
          253.42857142857142,
          258.89285714285717,
          264.75,
          269.4642857142857,
          273.2142857142857,
          276.10714285714283,
          277.42857142857144,
          283.32142857142856,
          288.67857142857144,
          293.0357142857143,
          297.07142857142856,
          296.35714285714283,
          294.2142857142857,
          294.39285714285717,
          291.57142857142856,
          297.85714285714283,
          299.0357142857143,
          300.7857142857143,
          303.89285714285717,
          305.60714285714283,
          305.39285714285717,
          305.2142857142857,
          300.75,
          298.0357142857143,
          300.2142857142857,
          303.35714285714283,
          296.32142857142856,
          296.67857142857144,
          294.2857142857143,
          295.82142857142856,
          296.7857142857143,
          297.2142857142857,
          299.92857142857144,
          301.10714285714283,
          301.2857142857143,
          299.82142857142856,
          300,
          298.75,
          298.85714285714283,
          301.0357142857143,
          304.75,
          304.7142857142857,
          307.4642857142857,
          302.14285714285717,
          300.2857142857143,
          298.35714285714283,
          287.85714285714283,
          285.2857142857143,
          285.89285714285717,
          288.25,
          291.7142857142857,
          295.9642857142857,
          295.10714285714283,
          292.85714285714283,
          303.57142857142856,
          303.60714285714283,
          305.17857142857144,
          306.9642857142857,
          308.14285714285717,
          310.2857142857143,
          313.07142857142856,
          313.35714285714283,
          313.2142857142857,
          315.0357142857143,
          317.07142857142856,
          318.82142857142856,
          319.9642857142857,
          320.10714285714283,
          319.75,
          320.2857142857143,
          318.9642857142857,
          318.10714285714283,
          317.67857142857144,
          316.4642857142857,
          322.39285714285717,
          320.60714285714283,
          321.42857142857144,
          322.57142857142856,
          325.0357142857143,
          326.42857142857144,
          330.60714285714283,
          318.92857142857144,
          317.32142857142856,
          316.67857142857144,
          317.60714285714283,
          318.7857142857143,
          321.5357142857143,
          321.4642857142857,
          320.39285714285717,
          319.64285714285717,
          320,
          320.7857142857143,
          322.85714285714283,
          326.85714285714283,
          331.25,
          335.2857142857143,
          336.89285714285717,
          336.57142857142856,
          342.7857142857143,
          342.67857142857144,
          331.5357142857143,
          329.67857142857144,
          330.25,
          330.85714285714283,
          329.5,
          324.92857142857144,
          316.9642857142857,
          null,
          null,
          null,
          null,
          null,
          null,
          null,
          null,
          null,
          null,
          null,
          null,
          null
         ]
        }
       ],
       "layout": {
        "height": 600,
        "showlegend": true,
        "template": {
         "data": {
          "bar": [
           {
            "error_x": {
             "color": "#2a3f5f"
            },
            "error_y": {
             "color": "#2a3f5f"
            },
            "marker": {
             "line": {
              "color": "#E5ECF6",
              "width": 0.5
             },
             "pattern": {
              "fillmode": "overlay",
              "size": 10,
              "solidity": 0.2
             }
            },
            "type": "bar"
           }
          ],
          "barpolar": [
           {
            "marker": {
             "line": {
              "color": "#E5ECF6",
              "width": 0.5
             },
             "pattern": {
              "fillmode": "overlay",
              "size": 10,
              "solidity": 0.2
             }
            },
            "type": "barpolar"
           }
          ],
          "carpet": [
           {
            "aaxis": {
             "endlinecolor": "#2a3f5f",
             "gridcolor": "white",
             "linecolor": "white",
             "minorgridcolor": "white",
             "startlinecolor": "#2a3f5f"
            },
            "baxis": {
             "endlinecolor": "#2a3f5f",
             "gridcolor": "white",
             "linecolor": "white",
             "minorgridcolor": "white",
             "startlinecolor": "#2a3f5f"
            },
            "type": "carpet"
           }
          ],
          "choropleth": [
           {
            "colorbar": {
             "outlinewidth": 0,
             "ticks": ""
            },
            "type": "choropleth"
           }
          ],
          "contour": [
           {
            "colorbar": {
             "outlinewidth": 0,
             "ticks": ""
            },
            "colorscale": [
             [
              0,
              "#0d0887"
             ],
             [
              0.1111111111111111,
              "#46039f"
             ],
             [
              0.2222222222222222,
              "#7201a8"
             ],
             [
              0.3333333333333333,
              "#9c179e"
             ],
             [
              0.4444444444444444,
              "#bd3786"
             ],
             [
              0.5555555555555556,
              "#d8576b"
             ],
             [
              0.6666666666666666,
              "#ed7953"
             ],
             [
              0.7777777777777778,
              "#fb9f3a"
             ],
             [
              0.8888888888888888,
              "#fdca26"
             ],
             [
              1,
              "#f0f921"
             ]
            ],
            "type": "contour"
           }
          ],
          "contourcarpet": [
           {
            "colorbar": {
             "outlinewidth": 0,
             "ticks": ""
            },
            "type": "contourcarpet"
           }
          ],
          "heatmap": [
           {
            "colorbar": {
             "outlinewidth": 0,
             "ticks": ""
            },
            "colorscale": [
             [
              0,
              "#0d0887"
             ],
             [
              0.1111111111111111,
              "#46039f"
             ],
             [
              0.2222222222222222,
              "#7201a8"
             ],
             [
              0.3333333333333333,
              "#9c179e"
             ],
             [
              0.4444444444444444,
              "#bd3786"
             ],
             [
              0.5555555555555556,
              "#d8576b"
             ],
             [
              0.6666666666666666,
              "#ed7953"
             ],
             [
              0.7777777777777778,
              "#fb9f3a"
             ],
             [
              0.8888888888888888,
              "#fdca26"
             ],
             [
              1,
              "#f0f921"
             ]
            ],
            "type": "heatmap"
           }
          ],
          "heatmapgl": [
           {
            "colorbar": {
             "outlinewidth": 0,
             "ticks": ""
            },
            "colorscale": [
             [
              0,
              "#0d0887"
             ],
             [
              0.1111111111111111,
              "#46039f"
             ],
             [
              0.2222222222222222,
              "#7201a8"
             ],
             [
              0.3333333333333333,
              "#9c179e"
             ],
             [
              0.4444444444444444,
              "#bd3786"
             ],
             [
              0.5555555555555556,
              "#d8576b"
             ],
             [
              0.6666666666666666,
              "#ed7953"
             ],
             [
              0.7777777777777778,
              "#fb9f3a"
             ],
             [
              0.8888888888888888,
              "#fdca26"
             ],
             [
              1,
              "#f0f921"
             ]
            ],
            "type": "heatmapgl"
           }
          ],
          "histogram": [
           {
            "marker": {
             "pattern": {
              "fillmode": "overlay",
              "size": 10,
              "solidity": 0.2
             }
            },
            "type": "histogram"
           }
          ],
          "histogram2d": [
           {
            "colorbar": {
             "outlinewidth": 0,
             "ticks": ""
            },
            "colorscale": [
             [
              0,
              "#0d0887"
             ],
             [
              0.1111111111111111,
              "#46039f"
             ],
             [
              0.2222222222222222,
              "#7201a8"
             ],
             [
              0.3333333333333333,
              "#9c179e"
             ],
             [
              0.4444444444444444,
              "#bd3786"
             ],
             [
              0.5555555555555556,
              "#d8576b"
             ],
             [
              0.6666666666666666,
              "#ed7953"
             ],
             [
              0.7777777777777778,
              "#fb9f3a"
             ],
             [
              0.8888888888888888,
              "#fdca26"
             ],
             [
              1,
              "#f0f921"
             ]
            ],
            "type": "histogram2d"
           }
          ],
          "histogram2dcontour": [
           {
            "colorbar": {
             "outlinewidth": 0,
             "ticks": ""
            },
            "colorscale": [
             [
              0,
              "#0d0887"
             ],
             [
              0.1111111111111111,
              "#46039f"
             ],
             [
              0.2222222222222222,
              "#7201a8"
             ],
             [
              0.3333333333333333,
              "#9c179e"
             ],
             [
              0.4444444444444444,
              "#bd3786"
             ],
             [
              0.5555555555555556,
              "#d8576b"
             ],
             [
              0.6666666666666666,
              "#ed7953"
             ],
             [
              0.7777777777777778,
              "#fb9f3a"
             ],
             [
              0.8888888888888888,
              "#fdca26"
             ],
             [
              1,
              "#f0f921"
             ]
            ],
            "type": "histogram2dcontour"
           }
          ],
          "mesh3d": [
           {
            "colorbar": {
             "outlinewidth": 0,
             "ticks": ""
            },
            "type": "mesh3d"
           }
          ],
          "parcoords": [
           {
            "line": {
             "colorbar": {
              "outlinewidth": 0,
              "ticks": ""
             }
            },
            "type": "parcoords"
           }
          ],
          "pie": [
           {
            "automargin": true,
            "type": "pie"
           }
          ],
          "scatter": [
           {
            "fillpattern": {
             "fillmode": "overlay",
             "size": 10,
             "solidity": 0.2
            },
            "type": "scatter"
           }
          ],
          "scatter3d": [
           {
            "line": {
             "colorbar": {
              "outlinewidth": 0,
              "ticks": ""
             }
            },
            "marker": {
             "colorbar": {
              "outlinewidth": 0,
              "ticks": ""
             }
            },
            "type": "scatter3d"
           }
          ],
          "scattercarpet": [
           {
            "marker": {
             "colorbar": {
              "outlinewidth": 0,
              "ticks": ""
             }
            },
            "type": "scattercarpet"
           }
          ],
          "scattergeo": [
           {
            "marker": {
             "colorbar": {
              "outlinewidth": 0,
              "ticks": ""
             }
            },
            "type": "scattergeo"
           }
          ],
          "scattergl": [
           {
            "marker": {
             "colorbar": {
              "outlinewidth": 0,
              "ticks": ""
             }
            },
            "type": "scattergl"
           }
          ],
          "scattermapbox": [
           {
            "marker": {
             "colorbar": {
              "outlinewidth": 0,
              "ticks": ""
             }
            },
            "type": "scattermapbox"
           }
          ],
          "scatterpolar": [
           {
            "marker": {
             "colorbar": {
              "outlinewidth": 0,
              "ticks": ""
             }
            },
            "type": "scatterpolar"
           }
          ],
          "scatterpolargl": [
           {
            "marker": {
             "colorbar": {
              "outlinewidth": 0,
              "ticks": ""
             }
            },
            "type": "scatterpolargl"
           }
          ],
          "scatterternary": [
           {
            "marker": {
             "colorbar": {
              "outlinewidth": 0,
              "ticks": ""
             }
            },
            "type": "scatterternary"
           }
          ],
          "surface": [
           {
            "colorbar": {
             "outlinewidth": 0,
             "ticks": ""
            },
            "colorscale": [
             [
              0,
              "#0d0887"
             ],
             [
              0.1111111111111111,
              "#46039f"
             ],
             [
              0.2222222222222222,
              "#7201a8"
             ],
             [
              0.3333333333333333,
              "#9c179e"
             ],
             [
              0.4444444444444444,
              "#bd3786"
             ],
             [
              0.5555555555555556,
              "#d8576b"
             ],
             [
              0.6666666666666666,
              "#ed7953"
             ],
             [
              0.7777777777777778,
              "#fb9f3a"
             ],
             [
              0.8888888888888888,
              "#fdca26"
             ],
             [
              1,
              "#f0f921"
             ]
            ],
            "type": "surface"
           }
          ],
          "table": [
           {
            "cells": {
             "fill": {
              "color": "#EBF0F8"
             },
             "line": {
              "color": "white"
             }
            },
            "header": {
             "fill": {
              "color": "#C8D4E3"
             },
             "line": {
              "color": "white"
             }
            },
            "type": "table"
           }
          ]
         },
         "layout": {
          "annotationdefaults": {
           "arrowcolor": "#2a3f5f",
           "arrowhead": 0,
           "arrowwidth": 1
          },
          "autotypenumbers": "strict",
          "coloraxis": {
           "colorbar": {
            "outlinewidth": 0,
            "ticks": ""
           }
          },
          "colorscale": {
           "diverging": [
            [
             0,
             "#8e0152"
            ],
            [
             0.1,
             "#c51b7d"
            ],
            [
             0.2,
             "#de77ae"
            ],
            [
             0.3,
             "#f1b6da"
            ],
            [
             0.4,
             "#fde0ef"
            ],
            [
             0.5,
             "#f7f7f7"
            ],
            [
             0.6,
             "#e6f5d0"
            ],
            [
             0.7,
             "#b8e186"
            ],
            [
             0.8,
             "#7fbc41"
            ],
            [
             0.9,
             "#4d9221"
            ],
            [
             1,
             "#276419"
            ]
           ],
           "sequential": [
            [
             0,
             "#0d0887"
            ],
            [
             0.1111111111111111,
             "#46039f"
            ],
            [
             0.2222222222222222,
             "#7201a8"
            ],
            [
             0.3333333333333333,
             "#9c179e"
            ],
            [
             0.4444444444444444,
             "#bd3786"
            ],
            [
             0.5555555555555556,
             "#d8576b"
            ],
            [
             0.6666666666666666,
             "#ed7953"
            ],
            [
             0.7777777777777778,
             "#fb9f3a"
            ],
            [
             0.8888888888888888,
             "#fdca26"
            ],
            [
             1,
             "#f0f921"
            ]
           ],
           "sequentialminus": [
            [
             0,
             "#0d0887"
            ],
            [
             0.1111111111111111,
             "#46039f"
            ],
            [
             0.2222222222222222,
             "#7201a8"
            ],
            [
             0.3333333333333333,
             "#9c179e"
            ],
            [
             0.4444444444444444,
             "#bd3786"
            ],
            [
             0.5555555555555556,
             "#d8576b"
            ],
            [
             0.6666666666666666,
             "#ed7953"
            ],
            [
             0.7777777777777778,
             "#fb9f3a"
            ],
            [
             0.8888888888888888,
             "#fdca26"
            ],
            [
             1,
             "#f0f921"
            ]
           ]
          },
          "colorway": [
           "#636efa",
           "#EF553B",
           "#00cc96",
           "#ab63fa",
           "#FFA15A",
           "#19d3f3",
           "#FF6692",
           "#B6E880",
           "#FF97FF",
           "#FECB52"
          ],
          "font": {
           "color": "#2a3f5f"
          },
          "geo": {
           "bgcolor": "white",
           "lakecolor": "white",
           "landcolor": "#E5ECF6",
           "showlakes": true,
           "showland": true,
           "subunitcolor": "white"
          },
          "hoverlabel": {
           "align": "left"
          },
          "hovermode": "closest",
          "mapbox": {
           "style": "light"
          },
          "paper_bgcolor": "white",
          "plot_bgcolor": "#E5ECF6",
          "polar": {
           "angularaxis": {
            "gridcolor": "white",
            "linecolor": "white",
            "ticks": ""
           },
           "bgcolor": "#E5ECF6",
           "radialaxis": {
            "gridcolor": "white",
            "linecolor": "white",
            "ticks": ""
           }
          },
          "scene": {
           "xaxis": {
            "backgroundcolor": "#E5ECF6",
            "gridcolor": "white",
            "gridwidth": 2,
            "linecolor": "white",
            "showbackground": true,
            "ticks": "",
            "zerolinecolor": "white"
           },
           "yaxis": {
            "backgroundcolor": "#E5ECF6",
            "gridcolor": "white",
            "gridwidth": 2,
            "linecolor": "white",
            "showbackground": true,
            "ticks": "",
            "zerolinecolor": "white"
           },
           "zaxis": {
            "backgroundcolor": "#E5ECF6",
            "gridcolor": "white",
            "gridwidth": 2,
            "linecolor": "white",
            "showbackground": true,
            "ticks": "",
            "zerolinecolor": "white"
           }
          },
          "shapedefaults": {
           "line": {
            "color": "#2a3f5f"
           }
          },
          "ternary": {
           "aaxis": {
            "gridcolor": "white",
            "linecolor": "white",
            "ticks": ""
           },
           "baxis": {
            "gridcolor": "white",
            "linecolor": "white",
            "ticks": ""
           },
           "bgcolor": "#E5ECF6",
           "caxis": {
            "gridcolor": "white",
            "linecolor": "white",
            "ticks": ""
           }
          },
          "title": {
           "x": 0.05
          },
          "xaxis": {
           "automargin": true,
           "gridcolor": "white",
           "linecolor": "white",
           "ticks": "",
           "title": {
            "standoff": 15
           },
           "zerolinecolor": "white",
           "zerolinewidth": 2
          },
          "yaxis": {
           "automargin": true,
           "gridcolor": "white",
           "linecolor": "white",
           "ticks": "",
           "title": {
            "standoff": 15
           },
           "zerolinecolor": "white",
           "zerolinewidth": 2
          }
         }
        },
        "title": {
         "text": "Evolución Diaria del Número de Operaciones - 2024"
        },
        "xaxis": {
         "title": {
          "text": "Fecha"
         }
        },
        "yaxis": {
         "title": {
          "text": "Número de Operaciones"
         }
        }
       }
      }
     },
     "metadata": {},
     "output_type": "display_data"
    },
    {
     "data": {
      "application/vnd.plotly.v1+json": {
       "config": {
        "plotlyServerURL": "https://plot.ly"
       },
       "data": [
        {
         "line": {
          "color": "lightgray",
          "width": 1
         },
         "mode": "lines",
         "name": "Importe diario",
         "type": "scatter",
         "x": [
          "2024-01-01T00:00:00",
          "2024-01-02T00:00:00",
          "2024-01-03T00:00:00",
          "2024-01-04T00:00:00",
          "2024-01-05T00:00:00",
          "2024-01-06T00:00:00",
          "2024-01-07T00:00:00",
          "2024-01-08T00:00:00",
          "2024-01-09T00:00:00",
          "2024-01-10T00:00:00",
          "2024-01-11T00:00:00",
          "2024-01-12T00:00:00",
          "2024-01-13T00:00:00",
          "2024-01-14T00:00:00",
          "2024-01-15T00:00:00",
          "2024-01-16T00:00:00",
          "2024-01-17T00:00:00",
          "2024-01-18T00:00:00",
          "2024-01-19T00:00:00",
          "2024-01-20T00:00:00",
          "2024-01-21T00:00:00",
          "2024-01-22T00:00:00",
          "2024-01-23T00:00:00",
          "2024-01-24T00:00:00",
          "2024-01-25T00:00:00",
          "2024-01-26T00:00:00",
          "2024-01-27T00:00:00",
          "2024-01-28T00:00:00",
          "2024-01-29T00:00:00",
          "2024-01-30T00:00:00",
          "2024-01-31T00:00:00",
          "2024-02-01T00:00:00",
          "2024-02-02T00:00:00",
          "2024-02-03T00:00:00",
          "2024-02-04T00:00:00",
          "2024-02-05T00:00:00",
          "2024-02-06T00:00:00",
          "2024-02-07T00:00:00",
          "2024-02-08T00:00:00",
          "2024-02-09T00:00:00",
          "2024-02-10T00:00:00",
          "2024-02-11T00:00:00",
          "2024-02-12T00:00:00",
          "2024-02-13T00:00:00",
          "2024-02-14T00:00:00",
          "2024-02-15T00:00:00",
          "2024-02-16T00:00:00",
          "2024-02-17T00:00:00",
          "2024-02-18T00:00:00",
          "2024-02-19T00:00:00",
          "2024-02-20T00:00:00",
          "2024-02-21T00:00:00",
          "2024-02-22T00:00:00",
          "2024-02-23T00:00:00",
          "2024-02-24T00:00:00",
          "2024-02-25T00:00:00",
          "2024-02-26T00:00:00",
          "2024-02-27T00:00:00",
          "2024-02-28T00:00:00",
          "2024-02-29T00:00:00",
          "2024-03-01T00:00:00",
          "2024-03-02T00:00:00",
          "2024-03-03T00:00:00",
          "2024-03-04T00:00:00",
          "2024-03-05T00:00:00",
          "2024-03-06T00:00:00",
          "2024-03-07T00:00:00",
          "2024-03-08T00:00:00",
          "2024-03-09T00:00:00",
          "2024-03-10T00:00:00",
          "2024-03-11T00:00:00",
          "2024-03-12T00:00:00",
          "2024-03-13T00:00:00",
          "2024-03-14T00:00:00",
          "2024-03-15T00:00:00",
          "2024-03-16T00:00:00",
          "2024-03-17T00:00:00",
          "2024-03-18T00:00:00",
          "2024-03-19T00:00:00",
          "2024-03-20T00:00:00",
          "2024-03-21T00:00:00",
          "2024-03-22T00:00:00",
          "2024-03-23T00:00:00",
          "2024-03-24T00:00:00",
          "2024-03-25T00:00:00",
          "2024-03-26T00:00:00",
          "2024-03-27T00:00:00",
          "2024-03-28T00:00:00",
          "2024-03-29T00:00:00",
          "2024-03-30T00:00:00",
          "2024-03-31T00:00:00",
          "2024-04-01T00:00:00",
          "2024-04-02T00:00:00",
          "2024-04-03T00:00:00",
          "2024-04-04T00:00:00",
          "2024-04-05T00:00:00",
          "2024-04-06T00:00:00",
          "2024-04-07T00:00:00",
          "2024-04-08T00:00:00",
          "2024-04-09T00:00:00",
          "2024-04-10T00:00:00",
          "2024-04-11T00:00:00",
          "2024-04-12T00:00:00",
          "2024-04-13T00:00:00",
          "2024-04-14T00:00:00",
          "2024-04-15T00:00:00",
          "2024-04-16T00:00:00",
          "2024-04-17T00:00:00",
          "2024-04-18T00:00:00",
          "2024-04-19T00:00:00",
          "2024-04-20T00:00:00",
          "2024-04-21T00:00:00",
          "2024-04-22T00:00:00",
          "2024-04-23T00:00:00",
          "2024-04-24T00:00:00",
          "2024-04-25T00:00:00",
          "2024-04-26T00:00:00",
          "2024-04-27T00:00:00",
          "2024-04-28T00:00:00",
          "2024-04-29T00:00:00",
          "2024-04-30T00:00:00",
          "2024-05-01T00:00:00",
          "2024-05-02T00:00:00",
          "2024-05-03T00:00:00",
          "2024-05-04T00:00:00",
          "2024-05-05T00:00:00",
          "2024-05-06T00:00:00",
          "2024-05-07T00:00:00",
          "2024-05-08T00:00:00",
          "2024-05-09T00:00:00",
          "2024-05-10T00:00:00",
          "2024-05-11T00:00:00",
          "2024-05-12T00:00:00",
          "2024-05-13T00:00:00",
          "2024-05-14T00:00:00",
          "2024-05-15T00:00:00",
          "2024-05-16T00:00:00",
          "2024-05-17T00:00:00",
          "2024-05-18T00:00:00",
          "2024-05-19T00:00:00",
          "2024-05-20T00:00:00",
          "2024-05-21T00:00:00",
          "2024-05-22T00:00:00",
          "2024-05-23T00:00:00",
          "2024-05-24T00:00:00",
          "2024-05-25T00:00:00",
          "2024-05-26T00:00:00",
          "2024-05-27T00:00:00",
          "2024-05-28T00:00:00",
          "2024-05-29T00:00:00",
          "2024-05-30T00:00:00",
          "2024-05-31T00:00:00",
          "2024-06-01T00:00:00",
          "2024-06-02T00:00:00",
          "2024-06-03T00:00:00",
          "2024-06-04T00:00:00",
          "2024-06-05T00:00:00",
          "2024-06-06T00:00:00",
          "2024-06-07T00:00:00",
          "2024-06-08T00:00:00",
          "2024-06-09T00:00:00",
          "2024-06-10T00:00:00",
          "2024-06-11T00:00:00",
          "2024-06-12T00:00:00",
          "2024-06-13T00:00:00",
          "2024-06-14T00:00:00",
          "2024-06-15T00:00:00",
          "2024-06-16T00:00:00",
          "2024-06-17T00:00:00",
          "2024-06-18T00:00:00",
          "2024-06-19T00:00:00",
          "2024-06-20T00:00:00",
          "2024-06-21T00:00:00",
          "2024-06-22T00:00:00",
          "2024-06-23T00:00:00",
          "2024-06-24T00:00:00",
          "2024-06-25T00:00:00",
          "2024-06-26T00:00:00",
          "2024-06-27T00:00:00",
          "2024-06-28T00:00:00",
          "2024-06-29T00:00:00",
          "2024-06-30T00:00:00",
          "2024-07-01T00:00:00",
          "2024-07-02T00:00:00",
          "2024-07-03T00:00:00",
          "2024-07-04T00:00:00",
          "2024-07-05T00:00:00",
          "2024-07-06T00:00:00",
          "2024-07-07T00:00:00",
          "2024-07-08T00:00:00",
          "2024-07-09T00:00:00",
          "2024-07-10T00:00:00",
          "2024-07-11T00:00:00",
          "2024-07-12T00:00:00",
          "2024-07-13T00:00:00",
          "2024-07-14T00:00:00",
          "2024-07-15T00:00:00",
          "2024-07-16T00:00:00",
          "2024-07-17T00:00:00",
          "2024-07-18T00:00:00",
          "2024-07-19T00:00:00",
          "2024-07-20T00:00:00",
          "2024-07-21T00:00:00",
          "2024-07-22T00:00:00",
          "2024-07-23T00:00:00",
          "2024-07-24T00:00:00",
          "2024-07-25T00:00:00",
          "2024-07-26T00:00:00",
          "2024-07-27T00:00:00",
          "2024-07-28T00:00:00",
          "2024-07-29T00:00:00",
          "2024-07-30T00:00:00",
          "2024-07-31T00:00:00",
          "2024-08-01T00:00:00",
          "2024-08-02T00:00:00",
          "2024-08-03T00:00:00",
          "2024-08-04T00:00:00",
          "2024-08-05T00:00:00",
          "2024-08-06T00:00:00",
          "2024-08-07T00:00:00",
          "2024-08-08T00:00:00",
          "2024-08-09T00:00:00",
          "2024-08-10T00:00:00",
          "2024-08-11T00:00:00",
          "2024-08-12T00:00:00",
          "2024-08-13T00:00:00",
          "2024-08-14T00:00:00",
          "2024-08-15T00:00:00",
          "2024-08-16T00:00:00",
          "2024-08-17T00:00:00",
          "2024-08-18T00:00:00",
          "2024-08-19T00:00:00",
          "2024-08-20T00:00:00",
          "2024-08-21T00:00:00",
          "2024-08-22T00:00:00",
          "2024-08-23T00:00:00",
          "2024-08-24T00:00:00",
          "2024-08-25T00:00:00",
          "2024-08-26T00:00:00",
          "2024-08-27T00:00:00",
          "2024-08-28T00:00:00",
          "2024-08-29T00:00:00",
          "2024-08-30T00:00:00",
          "2024-08-31T00:00:00",
          "2024-09-01T00:00:00",
          "2024-09-02T00:00:00",
          "2024-09-03T00:00:00",
          "2024-09-04T00:00:00",
          "2024-09-05T00:00:00",
          "2024-09-06T00:00:00",
          "2024-09-07T00:00:00",
          "2024-09-08T00:00:00",
          "2024-09-09T00:00:00",
          "2024-09-10T00:00:00",
          "2024-09-11T00:00:00",
          "2024-09-12T00:00:00",
          "2024-09-13T00:00:00",
          "2024-09-14T00:00:00",
          "2024-09-15T00:00:00",
          "2024-09-16T00:00:00",
          "2024-09-17T00:00:00",
          "2024-09-18T00:00:00",
          "2024-09-19T00:00:00",
          "2024-09-20T00:00:00",
          "2024-09-21T00:00:00",
          "2024-09-22T00:00:00",
          "2024-09-23T00:00:00",
          "2024-09-24T00:00:00",
          "2024-09-25T00:00:00",
          "2024-09-26T00:00:00",
          "2024-09-27T00:00:00",
          "2024-09-28T00:00:00",
          "2024-09-29T00:00:00",
          "2024-09-30T00:00:00",
          "2024-10-01T00:00:00",
          "2024-10-02T00:00:00",
          "2024-10-03T00:00:00",
          "2024-10-04T00:00:00",
          "2024-10-05T00:00:00",
          "2024-10-06T00:00:00",
          "2024-10-07T00:00:00",
          "2024-10-08T00:00:00",
          "2024-10-09T00:00:00",
          "2024-10-10T00:00:00",
          "2024-10-11T00:00:00",
          "2024-10-12T00:00:00",
          "2024-10-13T00:00:00",
          "2024-10-14T00:00:00",
          "2024-10-15T00:00:00",
          "2024-10-16T00:00:00",
          "2024-10-17T00:00:00",
          "2024-10-18T00:00:00",
          "2024-10-19T00:00:00",
          "2024-10-20T00:00:00",
          "2024-10-21T00:00:00",
          "2024-10-22T00:00:00",
          "2024-10-23T00:00:00",
          "2024-10-24T00:00:00",
          "2024-10-25T00:00:00",
          "2024-10-26T00:00:00",
          "2024-10-27T00:00:00",
          "2024-10-28T00:00:00",
          "2024-10-29T00:00:00",
          "2024-10-30T00:00:00",
          "2024-10-31T00:00:00",
          "2024-11-01T00:00:00",
          "2024-11-02T00:00:00",
          "2024-11-03T00:00:00",
          "2024-11-04T00:00:00",
          "2024-11-05T00:00:00",
          "2024-11-06T00:00:00",
          "2024-11-07T00:00:00",
          "2024-11-08T00:00:00",
          "2024-11-09T00:00:00",
          "2024-11-10T00:00:00",
          "2024-11-11T00:00:00",
          "2024-11-12T00:00:00",
          "2024-11-13T00:00:00",
          "2024-11-14T00:00:00",
          "2024-11-15T00:00:00",
          "2024-11-16T00:00:00",
          "2024-11-17T00:00:00",
          "2024-11-18T00:00:00",
          "2024-11-19T00:00:00",
          "2024-11-20T00:00:00",
          "2024-11-21T00:00:00",
          "2024-11-22T00:00:00",
          "2024-11-23T00:00:00",
          "2024-11-24T00:00:00",
          "2024-11-25T00:00:00",
          "2024-11-26T00:00:00",
          "2024-11-27T00:00:00",
          "2024-11-28T00:00:00",
          "2024-11-29T00:00:00",
          "2024-11-30T00:00:00",
          "2024-12-01T00:00:00",
          "2024-12-02T00:00:00",
          "2024-12-03T00:00:00",
          "2024-12-04T00:00:00",
          "2024-12-05T00:00:00",
          "2024-12-06T00:00:00",
          "2024-12-07T00:00:00",
          "2024-12-08T00:00:00",
          "2024-12-09T00:00:00",
          "2024-12-10T00:00:00",
          "2024-12-11T00:00:00",
          "2024-12-12T00:00:00",
          "2024-12-13T00:00:00",
          "2024-12-14T00:00:00",
          "2024-12-15T00:00:00",
          "2024-12-16T00:00:00",
          "2024-12-17T00:00:00",
          "2024-12-18T00:00:00",
          "2024-12-19T00:00:00",
          "2024-12-20T00:00:00",
          "2024-12-21T00:00:00",
          "2024-12-22T00:00:00",
          "2024-12-23T00:00:00",
          "2024-12-24T00:00:00",
          "2024-12-25T00:00:00",
          "2024-12-26T00:00:00",
          "2024-12-27T00:00:00",
          "2024-12-28T00:00:00",
          "2024-12-29T00:00:00",
          "2024-12-30T00:00:00",
          "2024-12-31T00:00:00"
         ],
         "y": [
          580.05,
          9043.5,
          8694.11,
          12326.37,
          14719.33,
          2423.36,
          885.66,
          9884.87,
          11609.6,
          10591.93,
          9374.58,
          9968.08,
          7453.25,
          1176.73,
          6912.37,
          7581.97,
          9850.94,
          9368.78,
          9549.14,
          6668.67,
          789.18,
          7483.74,
          7962.88,
          7258.36,
          8057.08,
          5298.59,
          4207.32,
          567.28,
          3664.06,
          3251.43,
          2934.8,
          12697.19,
          11288.42,
          7521.17,
          306.09,
          8439.87,
          6831.9,
          7852.94,
          6946.5,
          7722.77,
          7420.96,
          1062.74,
          5718.87,
          5465.57,
          7600.15,
          7624.9,
          8360.26,
          6453.65,
          933.89,
          8002.3,
          6091.57,
          7805.79,
          7098.55,
          11047.73,
          6680,
          1039.99,
          6068.85,
          6983.27,
          5172.05,
          3996.86,
          14411.48,
          8232.66,
          1609.48,
          7468.06,
          8651.06,
          7815.46,
          7636.74,
          8711.07,
          7654.47,
          1340.38,
          9886.23,
          8038.45,
          8569.43,
          10281.83,
          9006.48,
          7504.91,
          1591.02,
          8546.28,
          7663.41,
          7509.45,
          8988.25,
          10239.83,
          9781.57,
          390.26,
          6572.91,
          5703.98,
          6995.36,
          294.61,
          440.15,
          2685.83,
          129.08,
          2420.1,
          11919.04,
          7786.48,
          7062.27,
          6938.12,
          7325.78,
          762.74,
          8725.2,
          7910.53,
          9670.03,
          7106.87,
          10151.81,
          8442.18,
          472.98,
          7495.4,
          8176.87,
          6634.42,
          7694.52,
          9324.27,
          6719.48,
          429.41,
          6711.53,
          8106.3,
          9733.07,
          9415.05,
          5562.82,
          5342.61,
          568.45,
          4605.37,
          4454.55,
          3331.74,
          11313.02,
          14610.64,
          8670.35,
          1476.65,
          10875.18,
          12139.65,
          11502.21,
          10261.75,
          10660.51,
          9281.7,
          936.4,
          10847.71,
          8167.67,
          8940.61,
          8387.14,
          10665.66,
          6550.94,
          823.48,
          7991.73,
          8450.29,
          5596.06,
          5269.18,
          7280.71,
          4825.86,
          397.84,
          4479.02,
          4606.08,
          4406.38,
          4417.1,
          4048.31,
          13672.8,
          1795.44,
          14968.72,
          10965.86,
          11210.61,
          8110.22,
          10852.89,
          8011.47,
          2080.3,
          8541.85,
          7917.48,
          9988.31,
          7763.89,
          10818.29,
          8013.79,
          543.25,
          6976.42,
          9097.2,
          10187.66,
          7926.1,
          7514.86,
          7724.62,
          756.96,
          833.41,
          3379.89,
          2657.6,
          3517.49,
          4031.69,
          3459.9,
          442.05,
          12958.88,
          12208.18,
          9921.89,
          8784.78,
          9592.2,
          7278.35,
          844.09,
          6934.03,
          8100.32,
          7782.53,
          10021.98,
          10310.25,
          5872.09,
          581.59,
          7561.56,
          9101.29,
          8306.11,
          7074.56,
          9780.52,
          6340.86,
          884.42,
          6826.44,
          7738.37,
          8278.83,
          397.24,
          5978.77,
          3239.7,
          334.59,
          2758.41,
          3479.31,
          515.98,
          12686.87,
          7340.5,
          5903.15,
          230.4,
          5455.02,
          5263.09,
          6083.72,
          4292.32,
          6866.07,
          4243.91,
          313.23,
          5088.15,
          6906.61,
          6380.69,
          372.27,
          3937.3,
          3805.83,
          795.51,
          4832.91,
          3524.9,
          4165.23,
          4202.92,
          5407.81,
          4651.38,
          211.03,
          5675.76,
          5026.04,
          5714.63,
          4943.27,
          7194.37,
          5674.85,
          584.68,
          7533.53,
          7240.46,
          8125.76,
          6219.14,
          8140.06,
          5582.32,
          2032.06,
          7745.63,
          10047.53,
          10252.94,
          8383.07,
          9986.87,
          6969.23,
          966.56,
          8870.12,
          7146.77,
          10181.65,
          8339.63,
          9362.7,
          7600.12,
          826.09,
          8001.78,
          8948.23,
          8186.23,
          5903.15,
          5083.94,
          3657.48,
          1045.52,
          3337.8,
          14614.48,
          13938.01,
          7730.42,
          9935.33,
          7789.08,
          570.29,
          7885.58,
          7655.08,
          8272.27,
          9723.26,
          13742.1,
          1689.32,
          778.86,
          7623.78,
          8560.23,
          9098.71,
          7518.43,
          10105.91,
          7367.22,
          1289.2,
          8626.28,
          8915.97,
          7783.86,
          9044.95,
          6898.03,
          7659.01,
          865.44,
          6034.4,
          6940.21,
          7749.75,
          7558.21,
          3594.93,
          6140.12,
          1490.92,
          10944.85,
          11661.37,
          12884.88,
          9157.62,
          10808.43,
          7645.21,
          722.5,
          9104.19,
          11387.51,
          9970.14,
          8118.33,
          17496.73,
          8407.1,
          725.58,
          8093.01,
          8798.85,
          10972.29,
          7198.13,
          7623.2,
          5541.9,
          651.99,
          5190.6,
          5371.48,
          5275.76,
          5186.58,
          5158.77,
          3608.13,
          2966.37,
          16877.11,
          15346.92,
          13166.01,
          14285.83,
          875.29,
          7896.33,
          1292.38,
          10578.78,
          12959.02,
          14934.26,
          11038.21,
          14476.56,
          9506.09,
          1662.91,
          12044.92,
          13573.18,
          16004,
          15099.7,
          14458.66,
          9130.54,
          717.36,
          13183.42,
          9604.04,
          199.97,
          3686.23,
          6170.6,
          5324.61,
          252.09,
          7427.97,
          6617.81
         ]
        },
        {
         "line": {
          "color": "orange",
          "width": 2
         },
         "mode": "lines",
         "name": "Media móvil 14 días",
         "type": "scatter",
         "x": [
          "2024-01-01T00:00:00",
          "2024-01-02T00:00:00",
          "2024-01-03T00:00:00",
          "2024-01-04T00:00:00",
          "2024-01-05T00:00:00",
          "2024-01-06T00:00:00",
          "2024-01-07T00:00:00",
          "2024-01-08T00:00:00",
          "2024-01-09T00:00:00",
          "2024-01-10T00:00:00",
          "2024-01-11T00:00:00",
          "2024-01-12T00:00:00",
          "2024-01-13T00:00:00",
          "2024-01-14T00:00:00",
          "2024-01-15T00:00:00",
          "2024-01-16T00:00:00",
          "2024-01-17T00:00:00",
          "2024-01-18T00:00:00",
          "2024-01-19T00:00:00",
          "2024-01-20T00:00:00",
          "2024-01-21T00:00:00",
          "2024-01-22T00:00:00",
          "2024-01-23T00:00:00",
          "2024-01-24T00:00:00",
          "2024-01-25T00:00:00",
          "2024-01-26T00:00:00",
          "2024-01-27T00:00:00",
          "2024-01-28T00:00:00",
          "2024-01-29T00:00:00",
          "2024-01-30T00:00:00",
          "2024-01-31T00:00:00",
          "2024-02-01T00:00:00",
          "2024-02-02T00:00:00",
          "2024-02-03T00:00:00",
          "2024-02-04T00:00:00",
          "2024-02-05T00:00:00",
          "2024-02-06T00:00:00",
          "2024-02-07T00:00:00",
          "2024-02-08T00:00:00",
          "2024-02-09T00:00:00",
          "2024-02-10T00:00:00",
          "2024-02-11T00:00:00",
          "2024-02-12T00:00:00",
          "2024-02-13T00:00:00",
          "2024-02-14T00:00:00",
          "2024-02-15T00:00:00",
          "2024-02-16T00:00:00",
          "2024-02-17T00:00:00",
          "2024-02-18T00:00:00",
          "2024-02-19T00:00:00",
          "2024-02-20T00:00:00",
          "2024-02-21T00:00:00",
          "2024-02-22T00:00:00",
          "2024-02-23T00:00:00",
          "2024-02-24T00:00:00",
          "2024-02-25T00:00:00",
          "2024-02-26T00:00:00",
          "2024-02-27T00:00:00",
          "2024-02-28T00:00:00",
          "2024-02-29T00:00:00",
          "2024-03-01T00:00:00",
          "2024-03-02T00:00:00",
          "2024-03-03T00:00:00",
          "2024-03-04T00:00:00",
          "2024-03-05T00:00:00",
          "2024-03-06T00:00:00",
          "2024-03-07T00:00:00",
          "2024-03-08T00:00:00",
          "2024-03-09T00:00:00",
          "2024-03-10T00:00:00",
          "2024-03-11T00:00:00",
          "2024-03-12T00:00:00",
          "2024-03-13T00:00:00",
          "2024-03-14T00:00:00",
          "2024-03-15T00:00:00",
          "2024-03-16T00:00:00",
          "2024-03-17T00:00:00",
          "2024-03-18T00:00:00",
          "2024-03-19T00:00:00",
          "2024-03-20T00:00:00",
          "2024-03-21T00:00:00",
          "2024-03-22T00:00:00",
          "2024-03-23T00:00:00",
          "2024-03-24T00:00:00",
          "2024-03-25T00:00:00",
          "2024-03-26T00:00:00",
          "2024-03-27T00:00:00",
          "2024-03-28T00:00:00",
          "2024-03-29T00:00:00",
          "2024-03-30T00:00:00",
          "2024-03-31T00:00:00",
          "2024-04-01T00:00:00",
          "2024-04-02T00:00:00",
          "2024-04-03T00:00:00",
          "2024-04-04T00:00:00",
          "2024-04-05T00:00:00",
          "2024-04-06T00:00:00",
          "2024-04-07T00:00:00",
          "2024-04-08T00:00:00",
          "2024-04-09T00:00:00",
          "2024-04-10T00:00:00",
          "2024-04-11T00:00:00",
          "2024-04-12T00:00:00",
          "2024-04-13T00:00:00",
          "2024-04-14T00:00:00",
          "2024-04-15T00:00:00",
          "2024-04-16T00:00:00",
          "2024-04-17T00:00:00",
          "2024-04-18T00:00:00",
          "2024-04-19T00:00:00",
          "2024-04-20T00:00:00",
          "2024-04-21T00:00:00",
          "2024-04-22T00:00:00",
          "2024-04-23T00:00:00",
          "2024-04-24T00:00:00",
          "2024-04-25T00:00:00",
          "2024-04-26T00:00:00",
          "2024-04-27T00:00:00",
          "2024-04-28T00:00:00",
          "2024-04-29T00:00:00",
          "2024-04-30T00:00:00",
          "2024-05-01T00:00:00",
          "2024-05-02T00:00:00",
          "2024-05-03T00:00:00",
          "2024-05-04T00:00:00",
          "2024-05-05T00:00:00",
          "2024-05-06T00:00:00",
          "2024-05-07T00:00:00",
          "2024-05-08T00:00:00",
          "2024-05-09T00:00:00",
          "2024-05-10T00:00:00",
          "2024-05-11T00:00:00",
          "2024-05-12T00:00:00",
          "2024-05-13T00:00:00",
          "2024-05-14T00:00:00",
          "2024-05-15T00:00:00",
          "2024-05-16T00:00:00",
          "2024-05-17T00:00:00",
          "2024-05-18T00:00:00",
          "2024-05-19T00:00:00",
          "2024-05-20T00:00:00",
          "2024-05-21T00:00:00",
          "2024-05-22T00:00:00",
          "2024-05-23T00:00:00",
          "2024-05-24T00:00:00",
          "2024-05-25T00:00:00",
          "2024-05-26T00:00:00",
          "2024-05-27T00:00:00",
          "2024-05-28T00:00:00",
          "2024-05-29T00:00:00",
          "2024-05-30T00:00:00",
          "2024-05-31T00:00:00",
          "2024-06-01T00:00:00",
          "2024-06-02T00:00:00",
          "2024-06-03T00:00:00",
          "2024-06-04T00:00:00",
          "2024-06-05T00:00:00",
          "2024-06-06T00:00:00",
          "2024-06-07T00:00:00",
          "2024-06-08T00:00:00",
          "2024-06-09T00:00:00",
          "2024-06-10T00:00:00",
          "2024-06-11T00:00:00",
          "2024-06-12T00:00:00",
          "2024-06-13T00:00:00",
          "2024-06-14T00:00:00",
          "2024-06-15T00:00:00",
          "2024-06-16T00:00:00",
          "2024-06-17T00:00:00",
          "2024-06-18T00:00:00",
          "2024-06-19T00:00:00",
          "2024-06-20T00:00:00",
          "2024-06-21T00:00:00",
          "2024-06-22T00:00:00",
          "2024-06-23T00:00:00",
          "2024-06-24T00:00:00",
          "2024-06-25T00:00:00",
          "2024-06-26T00:00:00",
          "2024-06-27T00:00:00",
          "2024-06-28T00:00:00",
          "2024-06-29T00:00:00",
          "2024-06-30T00:00:00",
          "2024-07-01T00:00:00",
          "2024-07-02T00:00:00",
          "2024-07-03T00:00:00",
          "2024-07-04T00:00:00",
          "2024-07-05T00:00:00",
          "2024-07-06T00:00:00",
          "2024-07-07T00:00:00",
          "2024-07-08T00:00:00",
          "2024-07-09T00:00:00",
          "2024-07-10T00:00:00",
          "2024-07-11T00:00:00",
          "2024-07-12T00:00:00",
          "2024-07-13T00:00:00",
          "2024-07-14T00:00:00",
          "2024-07-15T00:00:00",
          "2024-07-16T00:00:00",
          "2024-07-17T00:00:00",
          "2024-07-18T00:00:00",
          "2024-07-19T00:00:00",
          "2024-07-20T00:00:00",
          "2024-07-21T00:00:00",
          "2024-07-22T00:00:00",
          "2024-07-23T00:00:00",
          "2024-07-24T00:00:00",
          "2024-07-25T00:00:00",
          "2024-07-26T00:00:00",
          "2024-07-27T00:00:00",
          "2024-07-28T00:00:00",
          "2024-07-29T00:00:00",
          "2024-07-30T00:00:00",
          "2024-07-31T00:00:00",
          "2024-08-01T00:00:00",
          "2024-08-02T00:00:00",
          "2024-08-03T00:00:00",
          "2024-08-04T00:00:00",
          "2024-08-05T00:00:00",
          "2024-08-06T00:00:00",
          "2024-08-07T00:00:00",
          "2024-08-08T00:00:00",
          "2024-08-09T00:00:00",
          "2024-08-10T00:00:00",
          "2024-08-11T00:00:00",
          "2024-08-12T00:00:00",
          "2024-08-13T00:00:00",
          "2024-08-14T00:00:00",
          "2024-08-15T00:00:00",
          "2024-08-16T00:00:00",
          "2024-08-17T00:00:00",
          "2024-08-18T00:00:00",
          "2024-08-19T00:00:00",
          "2024-08-20T00:00:00",
          "2024-08-21T00:00:00",
          "2024-08-22T00:00:00",
          "2024-08-23T00:00:00",
          "2024-08-24T00:00:00",
          "2024-08-25T00:00:00",
          "2024-08-26T00:00:00",
          "2024-08-27T00:00:00",
          "2024-08-28T00:00:00",
          "2024-08-29T00:00:00",
          "2024-08-30T00:00:00",
          "2024-08-31T00:00:00",
          "2024-09-01T00:00:00",
          "2024-09-02T00:00:00",
          "2024-09-03T00:00:00",
          "2024-09-04T00:00:00",
          "2024-09-05T00:00:00",
          "2024-09-06T00:00:00",
          "2024-09-07T00:00:00",
          "2024-09-08T00:00:00",
          "2024-09-09T00:00:00",
          "2024-09-10T00:00:00",
          "2024-09-11T00:00:00",
          "2024-09-12T00:00:00",
          "2024-09-13T00:00:00",
          "2024-09-14T00:00:00",
          "2024-09-15T00:00:00",
          "2024-09-16T00:00:00",
          "2024-09-17T00:00:00",
          "2024-09-18T00:00:00",
          "2024-09-19T00:00:00",
          "2024-09-20T00:00:00",
          "2024-09-21T00:00:00",
          "2024-09-22T00:00:00",
          "2024-09-23T00:00:00",
          "2024-09-24T00:00:00",
          "2024-09-25T00:00:00",
          "2024-09-26T00:00:00",
          "2024-09-27T00:00:00",
          "2024-09-28T00:00:00",
          "2024-09-29T00:00:00",
          "2024-09-30T00:00:00",
          "2024-10-01T00:00:00",
          "2024-10-02T00:00:00",
          "2024-10-03T00:00:00",
          "2024-10-04T00:00:00",
          "2024-10-05T00:00:00",
          "2024-10-06T00:00:00",
          "2024-10-07T00:00:00",
          "2024-10-08T00:00:00",
          "2024-10-09T00:00:00",
          "2024-10-10T00:00:00",
          "2024-10-11T00:00:00",
          "2024-10-12T00:00:00",
          "2024-10-13T00:00:00",
          "2024-10-14T00:00:00",
          "2024-10-15T00:00:00",
          "2024-10-16T00:00:00",
          "2024-10-17T00:00:00",
          "2024-10-18T00:00:00",
          "2024-10-19T00:00:00",
          "2024-10-20T00:00:00",
          "2024-10-21T00:00:00",
          "2024-10-22T00:00:00",
          "2024-10-23T00:00:00",
          "2024-10-24T00:00:00",
          "2024-10-25T00:00:00",
          "2024-10-26T00:00:00",
          "2024-10-27T00:00:00",
          "2024-10-28T00:00:00",
          "2024-10-29T00:00:00",
          "2024-10-30T00:00:00",
          "2024-10-31T00:00:00",
          "2024-11-01T00:00:00",
          "2024-11-02T00:00:00",
          "2024-11-03T00:00:00",
          "2024-11-04T00:00:00",
          "2024-11-05T00:00:00",
          "2024-11-06T00:00:00",
          "2024-11-07T00:00:00",
          "2024-11-08T00:00:00",
          "2024-11-09T00:00:00",
          "2024-11-10T00:00:00",
          "2024-11-11T00:00:00",
          "2024-11-12T00:00:00",
          "2024-11-13T00:00:00",
          "2024-11-14T00:00:00",
          "2024-11-15T00:00:00",
          "2024-11-16T00:00:00",
          "2024-11-17T00:00:00",
          "2024-11-18T00:00:00",
          "2024-11-19T00:00:00",
          "2024-11-20T00:00:00",
          "2024-11-21T00:00:00",
          "2024-11-22T00:00:00",
          "2024-11-23T00:00:00",
          "2024-11-24T00:00:00",
          "2024-11-25T00:00:00",
          "2024-11-26T00:00:00",
          "2024-11-27T00:00:00",
          "2024-11-28T00:00:00",
          "2024-11-29T00:00:00",
          "2024-11-30T00:00:00",
          "2024-12-01T00:00:00",
          "2024-12-02T00:00:00",
          "2024-12-03T00:00:00",
          "2024-12-04T00:00:00",
          "2024-12-05T00:00:00",
          "2024-12-06T00:00:00",
          "2024-12-07T00:00:00",
          "2024-12-08T00:00:00",
          "2024-12-09T00:00:00",
          "2024-12-10T00:00:00",
          "2024-12-11T00:00:00",
          "2024-12-12T00:00:00",
          "2024-12-13T00:00:00",
          "2024-12-14T00:00:00",
          "2024-12-15T00:00:00",
          "2024-12-16T00:00:00",
          "2024-12-17T00:00:00",
          "2024-12-18T00:00:00",
          "2024-12-19T00:00:00",
          "2024-12-20T00:00:00",
          "2024-12-21T00:00:00",
          "2024-12-22T00:00:00",
          "2024-12-23T00:00:00",
          "2024-12-24T00:00:00",
          "2024-12-25T00:00:00",
          "2024-12-26T00:00:00",
          "2024-12-27T00:00:00",
          "2024-12-28T00:00:00",
          "2024-12-29T00:00:00",
          "2024-12-30T00:00:00",
          "2024-12-31T00:00:00"
         ],
         "y": [
          null,
          null,
          null,
          null,
          null,
          null,
          null,
          7766.53,
          8218.838571428572,
          8114.443571428572,
          8197.074285714287,
          7985.817857142858,
          7616.518571428572,
          7919.755,
          7912.863571428571,
          7741.354285714287,
          7480.874285714286,
          7242.762142857144,
          7148.655,
          6815.120000000001,
          6583.267857142857,
          6539.7357142857145,
          6307.7135714285705,
          5998.3892857142855,
          5504.379285714286,
          5742.122857142857,
          5866.357142857143,
          5927.25,
          5892.743571428572,
          5961.038571428571,
          5880.254285714285,
          5922.724285714286,
          5843.397142857144,
          6016.552857142857,
          6246.098571428572,
          6281.488571428572,
          6428.260714285715,
          6586.413571428571,
          6919.652857142857,
          6557.346428571429,
          6348.192142857143,
          6271.940714285714,
          6316.783571428571,
          6285.528571428572,
          6232.647857142857,
          6229.28,
          6240.140714285714,
          6477.637857142858,
          6424.712142857143,
          6423.087142857142,
          6448.085714285714,
          6556.492857142858,
          6383.057142857143,
          6123.9114285714295,
          6556.141428571428,
          6683.2135714285705,
          6731.47,
          6693.3099999999995,
          6876.130714285714,
          6876.821428571428,
          6915.263571428572,
          6748.359285714286,
          6817.964285714285,
          6839.420714285714,
          7112.090714285715,
          7187.460714285714,
          7430.130714285713,
          7879.057142857142,
          7492.985714285714,
          7441.0035714285705,
          7439.6849999999995,
          7516.700714285714,
          7446.154285714286,
          7424.296428571428,
          7520.832857142857,
          7630.03,
          7781.965714285713,
          7714.1,
          7477.434285714285,
          7310.686428571428,
          7198.2528571428575,
          6484.88,
          5872.999285714286,
          5528.779285714286,
          5424.3550000000005,
          4986.770714285713,
          5290.744285714286,
          5310.532142857142,
          5172.962142857143,
          4937.125714285714,
          4761.712142857143,
          4788.317857142857,
          4942.052857142858,
          5099.663571428572,
          5290.711428571429,
          5777.301428571429,
          6470.991428571428,
          6882.159285714287,
          6906.723571428572,
          7269.245,
          7001.947142857143,
          6919.657142857142,
          6964.817857142858,
          7135.257142857142,
          7091.949999999999,
          7068.140714285714,
          6924.307142857142,
          6938.290714285714,
          6942.793571428571,
          7107.663571428571,
          6779.878571428571,
          6558.480714285714,
          6565.3,
          6358.869285714286,
          6092.989285714285,
          5857.083571428571,
          6115.547857142856,
          6493.145714285715,
          6632.49357142857,
          6707.296428571429,
          7004.7,
          7292.796428571428,
          7419.163571428571,
          7479.642142857143,
          7843.762857142857,
          8125.126428571428,
          8151.408571428571,
          8597.289999999999,
          8862.512857142856,
          9263.146428571428,
          9054.155,
          8772.370714285713,
          8620.984285714285,
          8574.329285714284,
          8368.368571428571,
          8104.842857142858,
          7682.974999999999,
          7326.362857142857,
          7084.948571428571,
          6766.674285714284,
          6728.205714285715,
          6273.299285714286,
          6018.9,
          5695.026428571428,
          5411.452142857144,
          4938.784285714287,
          5447.488571428571,
          5516.914285714286,
          6015.270714285713,
          6194.954285714286,
          6595.993571428572,
          6798.925,
          7054.080714285715,
          7281.624285714286,
          7401.8,
          7692.002142857143,
          7928.530714285715,
          8327.24,
          8566.29642857143,
          9049.866428571428,
          8645.65142857143,
          8556.209285714287,
          7985.330714285715,
          7851.8550000000005,
          7778.787142857143,
          7765.635714285714,
          7527.205,
          7506.715714285715,
          7412.191428571428,
          6861.588571428571,
          6537.474999999999,
          6013.852857142857,
          5710.538571428571,
          5225.7814285714285,
          4900.503571428571,
          4893.275000000001,
          5320.5935714285715,
          5542.806428571428,
          5523.822857142856,
          5585.157142857143,
          5733.538571428572,
          5701.6621428571425,
          5707.885714285715,
          6143.644285714286,
          6480.817857142857,
          6846.884285714285,
          7311.490714285714,
          7759.959285714285,
          7932.258571428572,
          7942.225714285714,
          7556.702857142857,
          7334.782142857143,
          7219.369285714287,
          7097.210714285715,
          7110.662142857143,
          7043.698571428572,
          7046.579285714286,
          7038.894285714286,
          7013.040714285715,
          7048.490714285715,
          6361.009285714286,
          6051.617857142858,
          5863.589999999999,
          5845.947142857143,
          5502.865,
          5101.294999999999,
          4544.857142857143,
          4945.736428571428,
          4771.449285714285,
          4740.184285714286,
          4693.4685714285715,
          4595.51,
          4418.704285714286,
          4261.910714285715,
          4540.130714285714,
          4603.509285714286,
          4675.238571428571,
          4673.7128571428575,
          4840.122857142857,
          5084.93,
          5503.8378571428575,
          4624.223571428572,
          4381.137857142857,
          4231.329285714286,
          4271.694285714286,
          4227.257857142858,
          4103.101428571428,
          3966.066428571428,
          3959.680714285714,
          3855.5192857142856,
          3884.6242857142856,
          3877.3242857142855,
          3919.296428571429,
          3784.9700000000003,
          3737.3942857142856,
          4063.894285714286,
          4296.542142857143,
          4430.043571428571,
          4414.984285714286,
          4607.885714285714,
          4873.282857142856,
          5156.177857142858,
          5300.193571428572,
          5495.354285714287,
          5561.85,
          5691.923571428572,
          5839.771428571427,
          6198.449285714286,
          6522.614285714286,
          6768.314285714287,
          6967.778571428571,
          7060.234285714287,
          7087.511428571429,
          7182.982142857143,
          7176.290000000001,
          7323.1392857142855,
          7474.602857142857,
          7561.934285714286,
          7706.062857142856,
          7619.922142857143,
          7638.2185714285715,
          7559.697142857142,
          7412.075,
          7234.937857142858,
          6884.728571428571,
          6648.175,
          6653.815,
          6258.649285714286,
          6792.057142857142,
          7060.368571428572,
          7016.853571428571,
          7057.755714285714,
          7071.2528571428575,
          7052.981428571428,
          7044.681428571428,
          6952.313571428572,
          6958.459285714286,
          7231.324285714285,
          7849.764285714286,
          7709.181428571428,
          7690.134285714286,
          7996.2757142857145,
          7563.829285714287,
          7218.165,
          7203.022857142858,
          7215.207142857143,
          7185.074285714285,
          7236.425,
          7289.332142857143,
          7379.395714285713,
          7344.509285714285,
          7296.058571428572,
          6807.196428571428,
          7233.602857142857,
          7239.787142857143,
          7126.26,
          7010.544285714286,
          6914.1900000000005,
          6917.0314285714285,
          6451.961428571429,
          6364.311428571428,
          6378.72,
          6544.332142857143,
          6740.432142857143,
          7104.790714285715,
          7112.8385714285705,
          7392.152857142857,
          7391.167142857143,
          7380.957142857143,
          7600.227857142857,
          7917.892142857142,
          8076.491428571428,
          8116.5,
          9109.485714285713,
          9271.412857142857,
          9216.745714285715,
          9013.042857142857,
          8808.577142857142,
          8671.96357142857,
          8532,
          8304.483571428571,
          8154.247142857143,
          8149.210714285714,
          7869.668571428571,
          7439.952142857143,
          7104.639285714286,
          6895.228571428573,
          6013.945714285714,
          5671.162142857143,
          5831.2185714285715,
          6458.654285714286,
          6926.373571428571,
          7083.067857142858,
          7589.3321428571435,
          7107.338571428571,
          7275.512142857143,
          7321.254285714286,
          7706.124285714286,
          8248.091428571428,
          8937.984285714285,
          9355.957857142857,
          10021.514285714287,
          10442.797142857144,
          10349.692857142858,
          10004.53642857143,
          9877.840714285716,
          10080.554285714286,
          10138.687857142857,
          11108.92857142857,
          11197.086428571429,
          11156.013571428572,
          11342.059285714286,
          11102.417857142858,
          10049.968571428572,
          9524.827142857144,
          8931.544285714286,
          8632.867142857143,
          8532.094285714285,
          8202.312142857143,
          7705.5,
          null,
          null,
          null,
          null,
          null,
          null
         ]
        },
        {
         "line": {
          "color": "green",
          "width": 2
         },
         "mode": "lines",
         "name": "Media móvil 28 días",
         "type": "scatter",
         "x": [
          "2024-01-01T00:00:00",
          "2024-01-02T00:00:00",
          "2024-01-03T00:00:00",
          "2024-01-04T00:00:00",
          "2024-01-05T00:00:00",
          "2024-01-06T00:00:00",
          "2024-01-07T00:00:00",
          "2024-01-08T00:00:00",
          "2024-01-09T00:00:00",
          "2024-01-10T00:00:00",
          "2024-01-11T00:00:00",
          "2024-01-12T00:00:00",
          "2024-01-13T00:00:00",
          "2024-01-14T00:00:00",
          "2024-01-15T00:00:00",
          "2024-01-16T00:00:00",
          "2024-01-17T00:00:00",
          "2024-01-18T00:00:00",
          "2024-01-19T00:00:00",
          "2024-01-20T00:00:00",
          "2024-01-21T00:00:00",
          "2024-01-22T00:00:00",
          "2024-01-23T00:00:00",
          "2024-01-24T00:00:00",
          "2024-01-25T00:00:00",
          "2024-01-26T00:00:00",
          "2024-01-27T00:00:00",
          "2024-01-28T00:00:00",
          "2024-01-29T00:00:00",
          "2024-01-30T00:00:00",
          "2024-01-31T00:00:00",
          "2024-02-01T00:00:00",
          "2024-02-02T00:00:00",
          "2024-02-03T00:00:00",
          "2024-02-04T00:00:00",
          "2024-02-05T00:00:00",
          "2024-02-06T00:00:00",
          "2024-02-07T00:00:00",
          "2024-02-08T00:00:00",
          "2024-02-09T00:00:00",
          "2024-02-10T00:00:00",
          "2024-02-11T00:00:00",
          "2024-02-12T00:00:00",
          "2024-02-13T00:00:00",
          "2024-02-14T00:00:00",
          "2024-02-15T00:00:00",
          "2024-02-16T00:00:00",
          "2024-02-17T00:00:00",
          "2024-02-18T00:00:00",
          "2024-02-19T00:00:00",
          "2024-02-20T00:00:00",
          "2024-02-21T00:00:00",
          "2024-02-22T00:00:00",
          "2024-02-23T00:00:00",
          "2024-02-24T00:00:00",
          "2024-02-25T00:00:00",
          "2024-02-26T00:00:00",
          "2024-02-27T00:00:00",
          "2024-02-28T00:00:00",
          "2024-02-29T00:00:00",
          "2024-03-01T00:00:00",
          "2024-03-02T00:00:00",
          "2024-03-03T00:00:00",
          "2024-03-04T00:00:00",
          "2024-03-05T00:00:00",
          "2024-03-06T00:00:00",
          "2024-03-07T00:00:00",
          "2024-03-08T00:00:00",
          "2024-03-09T00:00:00",
          "2024-03-10T00:00:00",
          "2024-03-11T00:00:00",
          "2024-03-12T00:00:00",
          "2024-03-13T00:00:00",
          "2024-03-14T00:00:00",
          "2024-03-15T00:00:00",
          "2024-03-16T00:00:00",
          "2024-03-17T00:00:00",
          "2024-03-18T00:00:00",
          "2024-03-19T00:00:00",
          "2024-03-20T00:00:00",
          "2024-03-21T00:00:00",
          "2024-03-22T00:00:00",
          "2024-03-23T00:00:00",
          "2024-03-24T00:00:00",
          "2024-03-25T00:00:00",
          "2024-03-26T00:00:00",
          "2024-03-27T00:00:00",
          "2024-03-28T00:00:00",
          "2024-03-29T00:00:00",
          "2024-03-30T00:00:00",
          "2024-03-31T00:00:00",
          "2024-04-01T00:00:00",
          "2024-04-02T00:00:00",
          "2024-04-03T00:00:00",
          "2024-04-04T00:00:00",
          "2024-04-05T00:00:00",
          "2024-04-06T00:00:00",
          "2024-04-07T00:00:00",
          "2024-04-08T00:00:00",
          "2024-04-09T00:00:00",
          "2024-04-10T00:00:00",
          "2024-04-11T00:00:00",
          "2024-04-12T00:00:00",
          "2024-04-13T00:00:00",
          "2024-04-14T00:00:00",
          "2024-04-15T00:00:00",
          "2024-04-16T00:00:00",
          "2024-04-17T00:00:00",
          "2024-04-18T00:00:00",
          "2024-04-19T00:00:00",
          "2024-04-20T00:00:00",
          "2024-04-21T00:00:00",
          "2024-04-22T00:00:00",
          "2024-04-23T00:00:00",
          "2024-04-24T00:00:00",
          "2024-04-25T00:00:00",
          "2024-04-26T00:00:00",
          "2024-04-27T00:00:00",
          "2024-04-28T00:00:00",
          "2024-04-29T00:00:00",
          "2024-04-30T00:00:00",
          "2024-05-01T00:00:00",
          "2024-05-02T00:00:00",
          "2024-05-03T00:00:00",
          "2024-05-04T00:00:00",
          "2024-05-05T00:00:00",
          "2024-05-06T00:00:00",
          "2024-05-07T00:00:00",
          "2024-05-08T00:00:00",
          "2024-05-09T00:00:00",
          "2024-05-10T00:00:00",
          "2024-05-11T00:00:00",
          "2024-05-12T00:00:00",
          "2024-05-13T00:00:00",
          "2024-05-14T00:00:00",
          "2024-05-15T00:00:00",
          "2024-05-16T00:00:00",
          "2024-05-17T00:00:00",
          "2024-05-18T00:00:00",
          "2024-05-19T00:00:00",
          "2024-05-20T00:00:00",
          "2024-05-21T00:00:00",
          "2024-05-22T00:00:00",
          "2024-05-23T00:00:00",
          "2024-05-24T00:00:00",
          "2024-05-25T00:00:00",
          "2024-05-26T00:00:00",
          "2024-05-27T00:00:00",
          "2024-05-28T00:00:00",
          "2024-05-29T00:00:00",
          "2024-05-30T00:00:00",
          "2024-05-31T00:00:00",
          "2024-06-01T00:00:00",
          "2024-06-02T00:00:00",
          "2024-06-03T00:00:00",
          "2024-06-04T00:00:00",
          "2024-06-05T00:00:00",
          "2024-06-06T00:00:00",
          "2024-06-07T00:00:00",
          "2024-06-08T00:00:00",
          "2024-06-09T00:00:00",
          "2024-06-10T00:00:00",
          "2024-06-11T00:00:00",
          "2024-06-12T00:00:00",
          "2024-06-13T00:00:00",
          "2024-06-14T00:00:00",
          "2024-06-15T00:00:00",
          "2024-06-16T00:00:00",
          "2024-06-17T00:00:00",
          "2024-06-18T00:00:00",
          "2024-06-19T00:00:00",
          "2024-06-20T00:00:00",
          "2024-06-21T00:00:00",
          "2024-06-22T00:00:00",
          "2024-06-23T00:00:00",
          "2024-06-24T00:00:00",
          "2024-06-25T00:00:00",
          "2024-06-26T00:00:00",
          "2024-06-27T00:00:00",
          "2024-06-28T00:00:00",
          "2024-06-29T00:00:00",
          "2024-06-30T00:00:00",
          "2024-07-01T00:00:00",
          "2024-07-02T00:00:00",
          "2024-07-03T00:00:00",
          "2024-07-04T00:00:00",
          "2024-07-05T00:00:00",
          "2024-07-06T00:00:00",
          "2024-07-07T00:00:00",
          "2024-07-08T00:00:00",
          "2024-07-09T00:00:00",
          "2024-07-10T00:00:00",
          "2024-07-11T00:00:00",
          "2024-07-12T00:00:00",
          "2024-07-13T00:00:00",
          "2024-07-14T00:00:00",
          "2024-07-15T00:00:00",
          "2024-07-16T00:00:00",
          "2024-07-17T00:00:00",
          "2024-07-18T00:00:00",
          "2024-07-19T00:00:00",
          "2024-07-20T00:00:00",
          "2024-07-21T00:00:00",
          "2024-07-22T00:00:00",
          "2024-07-23T00:00:00",
          "2024-07-24T00:00:00",
          "2024-07-25T00:00:00",
          "2024-07-26T00:00:00",
          "2024-07-27T00:00:00",
          "2024-07-28T00:00:00",
          "2024-07-29T00:00:00",
          "2024-07-30T00:00:00",
          "2024-07-31T00:00:00",
          "2024-08-01T00:00:00",
          "2024-08-02T00:00:00",
          "2024-08-03T00:00:00",
          "2024-08-04T00:00:00",
          "2024-08-05T00:00:00",
          "2024-08-06T00:00:00",
          "2024-08-07T00:00:00",
          "2024-08-08T00:00:00",
          "2024-08-09T00:00:00",
          "2024-08-10T00:00:00",
          "2024-08-11T00:00:00",
          "2024-08-12T00:00:00",
          "2024-08-13T00:00:00",
          "2024-08-14T00:00:00",
          "2024-08-15T00:00:00",
          "2024-08-16T00:00:00",
          "2024-08-17T00:00:00",
          "2024-08-18T00:00:00",
          "2024-08-19T00:00:00",
          "2024-08-20T00:00:00",
          "2024-08-21T00:00:00",
          "2024-08-22T00:00:00",
          "2024-08-23T00:00:00",
          "2024-08-24T00:00:00",
          "2024-08-25T00:00:00",
          "2024-08-26T00:00:00",
          "2024-08-27T00:00:00",
          "2024-08-28T00:00:00",
          "2024-08-29T00:00:00",
          "2024-08-30T00:00:00",
          "2024-08-31T00:00:00",
          "2024-09-01T00:00:00",
          "2024-09-02T00:00:00",
          "2024-09-03T00:00:00",
          "2024-09-04T00:00:00",
          "2024-09-05T00:00:00",
          "2024-09-06T00:00:00",
          "2024-09-07T00:00:00",
          "2024-09-08T00:00:00",
          "2024-09-09T00:00:00",
          "2024-09-10T00:00:00",
          "2024-09-11T00:00:00",
          "2024-09-12T00:00:00",
          "2024-09-13T00:00:00",
          "2024-09-14T00:00:00",
          "2024-09-15T00:00:00",
          "2024-09-16T00:00:00",
          "2024-09-17T00:00:00",
          "2024-09-18T00:00:00",
          "2024-09-19T00:00:00",
          "2024-09-20T00:00:00",
          "2024-09-21T00:00:00",
          "2024-09-22T00:00:00",
          "2024-09-23T00:00:00",
          "2024-09-24T00:00:00",
          "2024-09-25T00:00:00",
          "2024-09-26T00:00:00",
          "2024-09-27T00:00:00",
          "2024-09-28T00:00:00",
          "2024-09-29T00:00:00",
          "2024-09-30T00:00:00",
          "2024-10-01T00:00:00",
          "2024-10-02T00:00:00",
          "2024-10-03T00:00:00",
          "2024-10-04T00:00:00",
          "2024-10-05T00:00:00",
          "2024-10-06T00:00:00",
          "2024-10-07T00:00:00",
          "2024-10-08T00:00:00",
          "2024-10-09T00:00:00",
          "2024-10-10T00:00:00",
          "2024-10-11T00:00:00",
          "2024-10-12T00:00:00",
          "2024-10-13T00:00:00",
          "2024-10-14T00:00:00",
          "2024-10-15T00:00:00",
          "2024-10-16T00:00:00",
          "2024-10-17T00:00:00",
          "2024-10-18T00:00:00",
          "2024-10-19T00:00:00",
          "2024-10-20T00:00:00",
          "2024-10-21T00:00:00",
          "2024-10-22T00:00:00",
          "2024-10-23T00:00:00",
          "2024-10-24T00:00:00",
          "2024-10-25T00:00:00",
          "2024-10-26T00:00:00",
          "2024-10-27T00:00:00",
          "2024-10-28T00:00:00",
          "2024-10-29T00:00:00",
          "2024-10-30T00:00:00",
          "2024-10-31T00:00:00",
          "2024-11-01T00:00:00",
          "2024-11-02T00:00:00",
          "2024-11-03T00:00:00",
          "2024-11-04T00:00:00",
          "2024-11-05T00:00:00",
          "2024-11-06T00:00:00",
          "2024-11-07T00:00:00",
          "2024-11-08T00:00:00",
          "2024-11-09T00:00:00",
          "2024-11-10T00:00:00",
          "2024-11-11T00:00:00",
          "2024-11-12T00:00:00",
          "2024-11-13T00:00:00",
          "2024-11-14T00:00:00",
          "2024-11-15T00:00:00",
          "2024-11-16T00:00:00",
          "2024-11-17T00:00:00",
          "2024-11-18T00:00:00",
          "2024-11-19T00:00:00",
          "2024-11-20T00:00:00",
          "2024-11-21T00:00:00",
          "2024-11-22T00:00:00",
          "2024-11-23T00:00:00",
          "2024-11-24T00:00:00",
          "2024-11-25T00:00:00",
          "2024-11-26T00:00:00",
          "2024-11-27T00:00:00",
          "2024-11-28T00:00:00",
          "2024-11-29T00:00:00",
          "2024-11-30T00:00:00",
          "2024-12-01T00:00:00",
          "2024-12-02T00:00:00",
          "2024-12-03T00:00:00",
          "2024-12-04T00:00:00",
          "2024-12-05T00:00:00",
          "2024-12-06T00:00:00",
          "2024-12-07T00:00:00",
          "2024-12-08T00:00:00",
          "2024-12-09T00:00:00",
          "2024-12-10T00:00:00",
          "2024-12-11T00:00:00",
          "2024-12-12T00:00:00",
          "2024-12-13T00:00:00",
          "2024-12-14T00:00:00",
          "2024-12-15T00:00:00",
          "2024-12-16T00:00:00",
          "2024-12-17T00:00:00",
          "2024-12-18T00:00:00",
          "2024-12-19T00:00:00",
          "2024-12-20T00:00:00",
          "2024-12-21T00:00:00",
          "2024-12-22T00:00:00",
          "2024-12-23T00:00:00",
          "2024-12-24T00:00:00",
          "2024-12-25T00:00:00",
          "2024-12-26T00:00:00",
          "2024-12-27T00:00:00",
          "2024-12-28T00:00:00",
          "2024-12-29T00:00:00",
          "2024-12-30T00:00:00",
          "2024-12-31T00:00:00"
         ],
         "y": [
          null,
          null,
          null,
          null,
          null,
          null,
          null,
          null,
          null,
          null,
          null,
          null,
          null,
          null,
          7153.132857142858,
          7263.276071428571,
          7056.416428571429,
          6850.726785714286,
          6863.970357142857,
          6741.437857142858,
          6923.5025000000005,
          6902.803571428572,
          6851.196428571428,
          6680.564285714286,
          6582.743214285714,
          6496.0260714285705,
          6415.836428571429,
          6414.683214285715,
          6410.612142857142,
          6367.987142857142,
          6292.401428571428,
          6212.016071428571,
          6149.734642857143,
          6107.274642857143,
          6099.595357142856,
          6104.763571428572,
          6123.283571428571,
          6056.451071428572,
          6076.002142857143,
          6041.768928571429,
          6247.095357142857,
          6335.405357142858,
          6352.287857142857,
          6438.1732142857145,
          6571.453214285714,
          6651.3550000000005,
          6340.628928571428,
          6452.166785714287,
          6477.577142857143,
          6524.126785714286,
          6489.419285714285,
          6554.389285714286,
          6553.050714285715,
          6577.702142857143,
          6612.998571428571,
          6621.3382142857145,
          6631.253928571429,
          6780.0882142857145,
          6871.976785714286,
          6906.5939285714285,
          7001.484285714286,
          7024.563571428572,
          7062.108571428572,
          7085.577499999999,
          7105.005357142858,
          7161.1425,
          7150.558928571429,
          7218.0482142857145,
          7189.194642857142,
          7299.964999999999,
          7276.760357142857,
          7294.7625,
          7249.073571428571,
          7314.191785714285,
          7181.9685714285715,
          6682.9925,
          6484.891428571428,
          6432.0199999999995,
          6251.7357142857145,
          6368.449285714285,
          6367.414285714286,
          6346.8975,
          6283.577857142857,
          6271.838928571428,
          6251.208928571427,
          6209.743571428572,
          6205.175,
          6244.482142857143,
          6131.090714285713,
          6171.995357142857,
          6205.469285714286,
          6165.539285714286,
          6128.007857142858,
          6146.345714285715,
          6115.094642857142,
          6068.89,
          6036.191428571429,
          5926.831071428572,
          5928.229285714285,
          5933.179999999999,
          6018.977142857143,
          6116.7525000000005,
          6442.4825,
          6625.4349999999995,
          6720.32,
          6736.011785714286,
          6814.057142857143,
          6547.468214285714,
          6388.370357142857,
          6540.182857142857,
          6814.2014285714295,
          6862.221785714285,
          6887.718571428572,
          6964.503571428571,
          7115.543571428571,
          7180.978571428571,
          7293.652857142857,
          7311.8207142857145,
          7341.803571428572,
          7358.354285714287,
          7478.079642857143,
          7477.75107142857,
          7560.115,
          7584.851428571427,
          7632.758214285714,
          7626.738928571429,
          7640.812857142858,
          7686.534285714287,
          7698.819642857142,
          7551.069285714285,
          7403.0025000000005,
          7464.355714285714,
          7445.900357142857,
          7439.807142857143,
          7435.294642857143,
          7440.706428571429,
          7479.086428571428,
          7232.803571428572,
          6855.577499999999,
          7034.236428571428,
          7045.621785714285,
          7191.819642857142,
          7149.898571428572,
          7139.484285714286,
          7062.643928571429,
          7069.514642857143,
          7024.149285714287,
          7065.002857142857,
          6982.6507142857145,
          6973.715357142857,
          7011.1332142857145,
          6988.874285714286,
          6994.325357142858,
          7046.570000000001,
          7036.561785714286,
          7000.300714285714,
          7023.404642857144,
          7187.390357142858,
          7282.280357142857,
          7290.642857142857,
          7394.17,
          7406.995714285714,
          7276.795357142857,
          7233.0028571428575,
          7170.546428571429,
          7138.4175000000005,
          7137.823928571429,
          6773.0775,
          6724.742142857142,
          6652.962142857143,
          6697.330714285714,
          6651.305,
          6675.396428571429,
          6630.371785714286,
          6604.188928571428,
          6560.038571428572,
          6502.6164285714285,
          6509.146428571427,
          6430.36857142857,
          6511.014642857143,
          6492.870357142857,
          6416.381071428571,
          6417.750357142856,
          6438.648214285714,
          6438.794285714285,
          6371.596071428571,
          6341.1839285714295,
          6422.100357142857,
          6372.680357142858,
          6377.2325,
          6591.269285714286,
          6746.9292857142855,
          6947.6875,
          6836.25,
          6905.788571428571,
          6897.924285714286,
          6894.086428571429,
          6529.783928571429,
          6218.038571428572,
          5882.113214285715,
          6021.473571428572,
          5941.055714285714,
          5891.941428571429,
          5870.023928571428,
          5817.202142857143,
          5715.8725,
          5655.200714285716,
          5450.57,
          5327.563571428572,
          5269.414285714286,
          5259.830000000001,
          5171.493928571429,
          5093.1125,
          5024.347499999999,
          4784.9800000000005,
          4576.293571428571,
          4485.756785714286,
          4482.581428571429,
          4411.383928571428,
          4260.902857142857,
          4113.988571428572,
          4249.905714285715,
          4229.5142857142855,
          4279.931428571429,
          4275.518571428572,
          4379.709642857143,
          4434.95,
          4620.616071428572,
          4344.058928571429,
          4338.839999999999,
          4330.686428571428,
          4343.339285714285,
          4417.571785714285,
          4488.192142857143,
          4561.1221428571425,
          4629.937142857142,
          4675.436785714286,
          4723.237142857143,
          4784.623928571428,
          4879.533928571429,
          4991.709642857143,
          5130.004285714285,
          5416.104285714287,
          5632.160357142857,
          5745.1389285714295,
          5751.247857142857,
          5895.4339285714295,
          6024.786428571429,
          6239.658571428571,
          6387.398214285714,
          6528.644285714286,
          6633.956428571429,
          6655.922857142857,
          6738.995,
          6879.073214285715,
          6967.344642857142,
          7001.626071428573,
          6926.2535714285705,
          6854.204642857143,
          6870.663214285713,
          6720.815714285714,
          6984.1735714285705,
          7191.753928571428,
          7245.728214285715,
          7309.845,
          7388.657857142857,
          7336.4517857142855,
          7341.45,
          7256.005357142857,
          7185.267142857143,
          7233.131071428571,
          7367.246428571429,
          7178.678214285714,
          7171.9746428571425,
          7127.4625,
          7177.943214285714,
          7139.266785714286,
          7109.938214285715,
          7136.481428571428,
          7128.163571428571,
          7144.703214285714,
          7167.006785714286,
          7165.854642857143,
          7151.484285714286,
          7263.691428571428,
          7328.480357142857,
          7471.392142857143,
          7464.960714285715,
          7561.267857142857,
          7287.186785714286,
          7066.1775,
          7060.027142857142,
          6833.584285714286,
          6774.692857142857,
          6807.5725,
          6916.832142857143,
          7059.913928571428,
          7224.65,
          7204.448571428571,
          7099.674642857143,
          7312.385,
          7310.372142857143,
          7363.243928571429,
          7464.218214285714,
          7495.340714285715,
          7516.765714285713,
          7780.723571428572,
          7817.862142857143,
          7797.732857142857,
          7778.6875,
          7774.504642857143,
          7888.377142857143,
          7822.419285714285,
          7848.318214285714,
          7772.707142857143,
          7765.083928571427,
          7734.948214285714,
          7678.922142857143,
          7590.5653571428575,
          7505.864285714286,
          7561.715714285713,
          7471.287499999999,
          7523.982142857143,
          7735.848571428572,
          7867.475357142857,
          7877.515714285714,
          8060.666071428573,
          7705.911071428571,
          7714.879642857143,
          7735.2325,
          7787.896428571429,
          7844.021785714286,
          8021.311785714286,
          8125.593214285715,
          8017.7300000000005,
          8056.979642857143,
          8090.455714285715,
          8231.595357142858,
          8402.107142857143,
          8581.811071428572,
          8864.01,
          9108.13357142857,
          9236.299285714285,
          9238.63392857143,
          9524.091785714287,
          9675.254642857142,
          9493.976428571428,
          9440.3925,
          9476.529285714287,
          9537.832142857142,
          9440.893571428573,
          9103.424285714285,
          8791.670357142857,
          null,
          null,
          null,
          null,
          null,
          null,
          null,
          null,
          null,
          null,
          null,
          null,
          null
         ]
        }
       ],
       "layout": {
        "height": 600,
        "showlegend": true,
        "template": {
         "data": {
          "bar": [
           {
            "error_x": {
             "color": "#2a3f5f"
            },
            "error_y": {
             "color": "#2a3f5f"
            },
            "marker": {
             "line": {
              "color": "#E5ECF6",
              "width": 0.5
             },
             "pattern": {
              "fillmode": "overlay",
              "size": 10,
              "solidity": 0.2
             }
            },
            "type": "bar"
           }
          ],
          "barpolar": [
           {
            "marker": {
             "line": {
              "color": "#E5ECF6",
              "width": 0.5
             },
             "pattern": {
              "fillmode": "overlay",
              "size": 10,
              "solidity": 0.2
             }
            },
            "type": "barpolar"
           }
          ],
          "carpet": [
           {
            "aaxis": {
             "endlinecolor": "#2a3f5f",
             "gridcolor": "white",
             "linecolor": "white",
             "minorgridcolor": "white",
             "startlinecolor": "#2a3f5f"
            },
            "baxis": {
             "endlinecolor": "#2a3f5f",
             "gridcolor": "white",
             "linecolor": "white",
             "minorgridcolor": "white",
             "startlinecolor": "#2a3f5f"
            },
            "type": "carpet"
           }
          ],
          "choropleth": [
           {
            "colorbar": {
             "outlinewidth": 0,
             "ticks": ""
            },
            "type": "choropleth"
           }
          ],
          "contour": [
           {
            "colorbar": {
             "outlinewidth": 0,
             "ticks": ""
            },
            "colorscale": [
             [
              0,
              "#0d0887"
             ],
             [
              0.1111111111111111,
              "#46039f"
             ],
             [
              0.2222222222222222,
              "#7201a8"
             ],
             [
              0.3333333333333333,
              "#9c179e"
             ],
             [
              0.4444444444444444,
              "#bd3786"
             ],
             [
              0.5555555555555556,
              "#d8576b"
             ],
             [
              0.6666666666666666,
              "#ed7953"
             ],
             [
              0.7777777777777778,
              "#fb9f3a"
             ],
             [
              0.8888888888888888,
              "#fdca26"
             ],
             [
              1,
              "#f0f921"
             ]
            ],
            "type": "contour"
           }
          ],
          "contourcarpet": [
           {
            "colorbar": {
             "outlinewidth": 0,
             "ticks": ""
            },
            "type": "contourcarpet"
           }
          ],
          "heatmap": [
           {
            "colorbar": {
             "outlinewidth": 0,
             "ticks": ""
            },
            "colorscale": [
             [
              0,
              "#0d0887"
             ],
             [
              0.1111111111111111,
              "#46039f"
             ],
             [
              0.2222222222222222,
              "#7201a8"
             ],
             [
              0.3333333333333333,
              "#9c179e"
             ],
             [
              0.4444444444444444,
              "#bd3786"
             ],
             [
              0.5555555555555556,
              "#d8576b"
             ],
             [
              0.6666666666666666,
              "#ed7953"
             ],
             [
              0.7777777777777778,
              "#fb9f3a"
             ],
             [
              0.8888888888888888,
              "#fdca26"
             ],
             [
              1,
              "#f0f921"
             ]
            ],
            "type": "heatmap"
           }
          ],
          "heatmapgl": [
           {
            "colorbar": {
             "outlinewidth": 0,
             "ticks": ""
            },
            "colorscale": [
             [
              0,
              "#0d0887"
             ],
             [
              0.1111111111111111,
              "#46039f"
             ],
             [
              0.2222222222222222,
              "#7201a8"
             ],
             [
              0.3333333333333333,
              "#9c179e"
             ],
             [
              0.4444444444444444,
              "#bd3786"
             ],
             [
              0.5555555555555556,
              "#d8576b"
             ],
             [
              0.6666666666666666,
              "#ed7953"
             ],
             [
              0.7777777777777778,
              "#fb9f3a"
             ],
             [
              0.8888888888888888,
              "#fdca26"
             ],
             [
              1,
              "#f0f921"
             ]
            ],
            "type": "heatmapgl"
           }
          ],
          "histogram": [
           {
            "marker": {
             "pattern": {
              "fillmode": "overlay",
              "size": 10,
              "solidity": 0.2
             }
            },
            "type": "histogram"
           }
          ],
          "histogram2d": [
           {
            "colorbar": {
             "outlinewidth": 0,
             "ticks": ""
            },
            "colorscale": [
             [
              0,
              "#0d0887"
             ],
             [
              0.1111111111111111,
              "#46039f"
             ],
             [
              0.2222222222222222,
              "#7201a8"
             ],
             [
              0.3333333333333333,
              "#9c179e"
             ],
             [
              0.4444444444444444,
              "#bd3786"
             ],
             [
              0.5555555555555556,
              "#d8576b"
             ],
             [
              0.6666666666666666,
              "#ed7953"
             ],
             [
              0.7777777777777778,
              "#fb9f3a"
             ],
             [
              0.8888888888888888,
              "#fdca26"
             ],
             [
              1,
              "#f0f921"
             ]
            ],
            "type": "histogram2d"
           }
          ],
          "histogram2dcontour": [
           {
            "colorbar": {
             "outlinewidth": 0,
             "ticks": ""
            },
            "colorscale": [
             [
              0,
              "#0d0887"
             ],
             [
              0.1111111111111111,
              "#46039f"
             ],
             [
              0.2222222222222222,
              "#7201a8"
             ],
             [
              0.3333333333333333,
              "#9c179e"
             ],
             [
              0.4444444444444444,
              "#bd3786"
             ],
             [
              0.5555555555555556,
              "#d8576b"
             ],
             [
              0.6666666666666666,
              "#ed7953"
             ],
             [
              0.7777777777777778,
              "#fb9f3a"
             ],
             [
              0.8888888888888888,
              "#fdca26"
             ],
             [
              1,
              "#f0f921"
             ]
            ],
            "type": "histogram2dcontour"
           }
          ],
          "mesh3d": [
           {
            "colorbar": {
             "outlinewidth": 0,
             "ticks": ""
            },
            "type": "mesh3d"
           }
          ],
          "parcoords": [
           {
            "line": {
             "colorbar": {
              "outlinewidth": 0,
              "ticks": ""
             }
            },
            "type": "parcoords"
           }
          ],
          "pie": [
           {
            "automargin": true,
            "type": "pie"
           }
          ],
          "scatter": [
           {
            "fillpattern": {
             "fillmode": "overlay",
             "size": 10,
             "solidity": 0.2
            },
            "type": "scatter"
           }
          ],
          "scatter3d": [
           {
            "line": {
             "colorbar": {
              "outlinewidth": 0,
              "ticks": ""
             }
            },
            "marker": {
             "colorbar": {
              "outlinewidth": 0,
              "ticks": ""
             }
            },
            "type": "scatter3d"
           }
          ],
          "scattercarpet": [
           {
            "marker": {
             "colorbar": {
              "outlinewidth": 0,
              "ticks": ""
             }
            },
            "type": "scattercarpet"
           }
          ],
          "scattergeo": [
           {
            "marker": {
             "colorbar": {
              "outlinewidth": 0,
              "ticks": ""
             }
            },
            "type": "scattergeo"
           }
          ],
          "scattergl": [
           {
            "marker": {
             "colorbar": {
              "outlinewidth": 0,
              "ticks": ""
             }
            },
            "type": "scattergl"
           }
          ],
          "scattermapbox": [
           {
            "marker": {
             "colorbar": {
              "outlinewidth": 0,
              "ticks": ""
             }
            },
            "type": "scattermapbox"
           }
          ],
          "scatterpolar": [
           {
            "marker": {
             "colorbar": {
              "outlinewidth": 0,
              "ticks": ""
             }
            },
            "type": "scatterpolar"
           }
          ],
          "scatterpolargl": [
           {
            "marker": {
             "colorbar": {
              "outlinewidth": 0,
              "ticks": ""
             }
            },
            "type": "scatterpolargl"
           }
          ],
          "scatterternary": [
           {
            "marker": {
             "colorbar": {
              "outlinewidth": 0,
              "ticks": ""
             }
            },
            "type": "scatterternary"
           }
          ],
          "surface": [
           {
            "colorbar": {
             "outlinewidth": 0,
             "ticks": ""
            },
            "colorscale": [
             [
              0,
              "#0d0887"
             ],
             [
              0.1111111111111111,
              "#46039f"
             ],
             [
              0.2222222222222222,
              "#7201a8"
             ],
             [
              0.3333333333333333,
              "#9c179e"
             ],
             [
              0.4444444444444444,
              "#bd3786"
             ],
             [
              0.5555555555555556,
              "#d8576b"
             ],
             [
              0.6666666666666666,
              "#ed7953"
             ],
             [
              0.7777777777777778,
              "#fb9f3a"
             ],
             [
              0.8888888888888888,
              "#fdca26"
             ],
             [
              1,
              "#f0f921"
             ]
            ],
            "type": "surface"
           }
          ],
          "table": [
           {
            "cells": {
             "fill": {
              "color": "#EBF0F8"
             },
             "line": {
              "color": "white"
             }
            },
            "header": {
             "fill": {
              "color": "#C8D4E3"
             },
             "line": {
              "color": "white"
             }
            },
            "type": "table"
           }
          ]
         },
         "layout": {
          "annotationdefaults": {
           "arrowcolor": "#2a3f5f",
           "arrowhead": 0,
           "arrowwidth": 1
          },
          "autotypenumbers": "strict",
          "coloraxis": {
           "colorbar": {
            "outlinewidth": 0,
            "ticks": ""
           }
          },
          "colorscale": {
           "diverging": [
            [
             0,
             "#8e0152"
            ],
            [
             0.1,
             "#c51b7d"
            ],
            [
             0.2,
             "#de77ae"
            ],
            [
             0.3,
             "#f1b6da"
            ],
            [
             0.4,
             "#fde0ef"
            ],
            [
             0.5,
             "#f7f7f7"
            ],
            [
             0.6,
             "#e6f5d0"
            ],
            [
             0.7,
             "#b8e186"
            ],
            [
             0.8,
             "#7fbc41"
            ],
            [
             0.9,
             "#4d9221"
            ],
            [
             1,
             "#276419"
            ]
           ],
           "sequential": [
            [
             0,
             "#0d0887"
            ],
            [
             0.1111111111111111,
             "#46039f"
            ],
            [
             0.2222222222222222,
             "#7201a8"
            ],
            [
             0.3333333333333333,
             "#9c179e"
            ],
            [
             0.4444444444444444,
             "#bd3786"
            ],
            [
             0.5555555555555556,
             "#d8576b"
            ],
            [
             0.6666666666666666,
             "#ed7953"
            ],
            [
             0.7777777777777778,
             "#fb9f3a"
            ],
            [
             0.8888888888888888,
             "#fdca26"
            ],
            [
             1,
             "#f0f921"
            ]
           ],
           "sequentialminus": [
            [
             0,
             "#0d0887"
            ],
            [
             0.1111111111111111,
             "#46039f"
            ],
            [
             0.2222222222222222,
             "#7201a8"
            ],
            [
             0.3333333333333333,
             "#9c179e"
            ],
            [
             0.4444444444444444,
             "#bd3786"
            ],
            [
             0.5555555555555556,
             "#d8576b"
            ],
            [
             0.6666666666666666,
             "#ed7953"
            ],
            [
             0.7777777777777778,
             "#fb9f3a"
            ],
            [
             0.8888888888888888,
             "#fdca26"
            ],
            [
             1,
             "#f0f921"
            ]
           ]
          },
          "colorway": [
           "#636efa",
           "#EF553B",
           "#00cc96",
           "#ab63fa",
           "#FFA15A",
           "#19d3f3",
           "#FF6692",
           "#B6E880",
           "#FF97FF",
           "#FECB52"
          ],
          "font": {
           "color": "#2a3f5f"
          },
          "geo": {
           "bgcolor": "white",
           "lakecolor": "white",
           "landcolor": "#E5ECF6",
           "showlakes": true,
           "showland": true,
           "subunitcolor": "white"
          },
          "hoverlabel": {
           "align": "left"
          },
          "hovermode": "closest",
          "mapbox": {
           "style": "light"
          },
          "paper_bgcolor": "white",
          "plot_bgcolor": "#E5ECF6",
          "polar": {
           "angularaxis": {
            "gridcolor": "white",
            "linecolor": "white",
            "ticks": ""
           },
           "bgcolor": "#E5ECF6",
           "radialaxis": {
            "gridcolor": "white",
            "linecolor": "white",
            "ticks": ""
           }
          },
          "scene": {
           "xaxis": {
            "backgroundcolor": "#E5ECF6",
            "gridcolor": "white",
            "gridwidth": 2,
            "linecolor": "white",
            "showbackground": true,
            "ticks": "",
            "zerolinecolor": "white"
           },
           "yaxis": {
            "backgroundcolor": "#E5ECF6",
            "gridcolor": "white",
            "gridwidth": 2,
            "linecolor": "white",
            "showbackground": true,
            "ticks": "",
            "zerolinecolor": "white"
           },
           "zaxis": {
            "backgroundcolor": "#E5ECF6",
            "gridcolor": "white",
            "gridwidth": 2,
            "linecolor": "white",
            "showbackground": true,
            "ticks": "",
            "zerolinecolor": "white"
           }
          },
          "shapedefaults": {
           "line": {
            "color": "#2a3f5f"
           }
          },
          "ternary": {
           "aaxis": {
            "gridcolor": "white",
            "linecolor": "white",
            "ticks": ""
           },
           "baxis": {
            "gridcolor": "white",
            "linecolor": "white",
            "ticks": ""
           },
           "bgcolor": "#E5ECF6",
           "caxis": {
            "gridcolor": "white",
            "linecolor": "white",
            "ticks": ""
           }
          },
          "title": {
           "x": 0.05
          },
          "xaxis": {
           "automargin": true,
           "gridcolor": "white",
           "linecolor": "white",
           "ticks": "",
           "title": {
            "standoff": 15
           },
           "zerolinecolor": "white",
           "zerolinewidth": 2
          },
          "yaxis": {
           "automargin": true,
           "gridcolor": "white",
           "linecolor": "white",
           "ticks": "",
           "title": {
            "standoff": 15
           },
           "zerolinecolor": "white",
           "zerolinewidth": 2
          }
         }
        },
        "title": {
         "text": "Evolución Diaria del Importe Total - 2024"
        },
        "xaxis": {
         "title": {
          "text": "Fecha"
         }
        },
        "yaxis": {
         "title": {
          "text": "Importe Total (€)"
         }
        }
       }
      }
     },
     "metadata": {},
     "output_type": "display_data"
    },
    {
     "data": {
      "application/vnd.plotly.v1+json": {
       "config": {
        "plotlyServerURL": "https://plot.ly"
       },
       "data": [
        {
         "marker": {
          "color": "lightblue"
         },
         "name": "Promedio operaciones",
         "type": "bar",
         "x": [
          "Lunes",
          "Martes",
          "Miércoles",
          "Jueves",
          "Viernes",
          "Sábado",
          "Domingo"
         ],
         "xaxis": "x",
         "y": [
          326.6981,
          354.2453,
          338.3269,
          323.7885,
          343.6538,
          280.8269,
          51.6154
         ],
         "yaxis": "y"
        },
        {
         "line": {
          "color": "red",
          "width": 2
         },
         "mode": "lines+markers",
         "name": "Promedio importe",
         "type": "scatter",
         "x": [
          "Lunes",
          "Martes",
          "Miércoles",
          "Jueves",
          "Viernes",
          "Sábado",
          "Domingo"
         ],
         "xaxis": "x",
         "y": [
          7582.924717,
          8243.533019,
          8162.347115,
          7690.460385,
          8722.111731,
          6562.562115,
          902.7575
         ],
         "yaxis": "y2"
        }
       ],
       "layout": {
        "height": 600,
        "showlegend": true,
        "template": {
         "data": {
          "bar": [
           {
            "error_x": {
             "color": "#2a3f5f"
            },
            "error_y": {
             "color": "#2a3f5f"
            },
            "marker": {
             "line": {
              "color": "#E5ECF6",
              "width": 0.5
             },
             "pattern": {
              "fillmode": "overlay",
              "size": 10,
              "solidity": 0.2
             }
            },
            "type": "bar"
           }
          ],
          "barpolar": [
           {
            "marker": {
             "line": {
              "color": "#E5ECF6",
              "width": 0.5
             },
             "pattern": {
              "fillmode": "overlay",
              "size": 10,
              "solidity": 0.2
             }
            },
            "type": "barpolar"
           }
          ],
          "carpet": [
           {
            "aaxis": {
             "endlinecolor": "#2a3f5f",
             "gridcolor": "white",
             "linecolor": "white",
             "minorgridcolor": "white",
             "startlinecolor": "#2a3f5f"
            },
            "baxis": {
             "endlinecolor": "#2a3f5f",
             "gridcolor": "white",
             "linecolor": "white",
             "minorgridcolor": "white",
             "startlinecolor": "#2a3f5f"
            },
            "type": "carpet"
           }
          ],
          "choropleth": [
           {
            "colorbar": {
             "outlinewidth": 0,
             "ticks": ""
            },
            "type": "choropleth"
           }
          ],
          "contour": [
           {
            "colorbar": {
             "outlinewidth": 0,
             "ticks": ""
            },
            "colorscale": [
             [
              0,
              "#0d0887"
             ],
             [
              0.1111111111111111,
              "#46039f"
             ],
             [
              0.2222222222222222,
              "#7201a8"
             ],
             [
              0.3333333333333333,
              "#9c179e"
             ],
             [
              0.4444444444444444,
              "#bd3786"
             ],
             [
              0.5555555555555556,
              "#d8576b"
             ],
             [
              0.6666666666666666,
              "#ed7953"
             ],
             [
              0.7777777777777778,
              "#fb9f3a"
             ],
             [
              0.8888888888888888,
              "#fdca26"
             ],
             [
              1,
              "#f0f921"
             ]
            ],
            "type": "contour"
           }
          ],
          "contourcarpet": [
           {
            "colorbar": {
             "outlinewidth": 0,
             "ticks": ""
            },
            "type": "contourcarpet"
           }
          ],
          "heatmap": [
           {
            "colorbar": {
             "outlinewidth": 0,
             "ticks": ""
            },
            "colorscale": [
             [
              0,
              "#0d0887"
             ],
             [
              0.1111111111111111,
              "#46039f"
             ],
             [
              0.2222222222222222,
              "#7201a8"
             ],
             [
              0.3333333333333333,
              "#9c179e"
             ],
             [
              0.4444444444444444,
              "#bd3786"
             ],
             [
              0.5555555555555556,
              "#d8576b"
             ],
             [
              0.6666666666666666,
              "#ed7953"
             ],
             [
              0.7777777777777778,
              "#fb9f3a"
             ],
             [
              0.8888888888888888,
              "#fdca26"
             ],
             [
              1,
              "#f0f921"
             ]
            ],
            "type": "heatmap"
           }
          ],
          "heatmapgl": [
           {
            "colorbar": {
             "outlinewidth": 0,
             "ticks": ""
            },
            "colorscale": [
             [
              0,
              "#0d0887"
             ],
             [
              0.1111111111111111,
              "#46039f"
             ],
             [
              0.2222222222222222,
              "#7201a8"
             ],
             [
              0.3333333333333333,
              "#9c179e"
             ],
             [
              0.4444444444444444,
              "#bd3786"
             ],
             [
              0.5555555555555556,
              "#d8576b"
             ],
             [
              0.6666666666666666,
              "#ed7953"
             ],
             [
              0.7777777777777778,
              "#fb9f3a"
             ],
             [
              0.8888888888888888,
              "#fdca26"
             ],
             [
              1,
              "#f0f921"
             ]
            ],
            "type": "heatmapgl"
           }
          ],
          "histogram": [
           {
            "marker": {
             "pattern": {
              "fillmode": "overlay",
              "size": 10,
              "solidity": 0.2
             }
            },
            "type": "histogram"
           }
          ],
          "histogram2d": [
           {
            "colorbar": {
             "outlinewidth": 0,
             "ticks": ""
            },
            "colorscale": [
             [
              0,
              "#0d0887"
             ],
             [
              0.1111111111111111,
              "#46039f"
             ],
             [
              0.2222222222222222,
              "#7201a8"
             ],
             [
              0.3333333333333333,
              "#9c179e"
             ],
             [
              0.4444444444444444,
              "#bd3786"
             ],
             [
              0.5555555555555556,
              "#d8576b"
             ],
             [
              0.6666666666666666,
              "#ed7953"
             ],
             [
              0.7777777777777778,
              "#fb9f3a"
             ],
             [
              0.8888888888888888,
              "#fdca26"
             ],
             [
              1,
              "#f0f921"
             ]
            ],
            "type": "histogram2d"
           }
          ],
          "histogram2dcontour": [
           {
            "colorbar": {
             "outlinewidth": 0,
             "ticks": ""
            },
            "colorscale": [
             [
              0,
              "#0d0887"
             ],
             [
              0.1111111111111111,
              "#46039f"
             ],
             [
              0.2222222222222222,
              "#7201a8"
             ],
             [
              0.3333333333333333,
              "#9c179e"
             ],
             [
              0.4444444444444444,
              "#bd3786"
             ],
             [
              0.5555555555555556,
              "#d8576b"
             ],
             [
              0.6666666666666666,
              "#ed7953"
             ],
             [
              0.7777777777777778,
              "#fb9f3a"
             ],
             [
              0.8888888888888888,
              "#fdca26"
             ],
             [
              1,
              "#f0f921"
             ]
            ],
            "type": "histogram2dcontour"
           }
          ],
          "mesh3d": [
           {
            "colorbar": {
             "outlinewidth": 0,
             "ticks": ""
            },
            "type": "mesh3d"
           }
          ],
          "parcoords": [
           {
            "line": {
             "colorbar": {
              "outlinewidth": 0,
              "ticks": ""
             }
            },
            "type": "parcoords"
           }
          ],
          "pie": [
           {
            "automargin": true,
            "type": "pie"
           }
          ],
          "scatter": [
           {
            "fillpattern": {
             "fillmode": "overlay",
             "size": 10,
             "solidity": 0.2
            },
            "type": "scatter"
           }
          ],
          "scatter3d": [
           {
            "line": {
             "colorbar": {
              "outlinewidth": 0,
              "ticks": ""
             }
            },
            "marker": {
             "colorbar": {
              "outlinewidth": 0,
              "ticks": ""
             }
            },
            "type": "scatter3d"
           }
          ],
          "scattercarpet": [
           {
            "marker": {
             "colorbar": {
              "outlinewidth": 0,
              "ticks": ""
             }
            },
            "type": "scattercarpet"
           }
          ],
          "scattergeo": [
           {
            "marker": {
             "colorbar": {
              "outlinewidth": 0,
              "ticks": ""
             }
            },
            "type": "scattergeo"
           }
          ],
          "scattergl": [
           {
            "marker": {
             "colorbar": {
              "outlinewidth": 0,
              "ticks": ""
             }
            },
            "type": "scattergl"
           }
          ],
          "scattermapbox": [
           {
            "marker": {
             "colorbar": {
              "outlinewidth": 0,
              "ticks": ""
             }
            },
            "type": "scattermapbox"
           }
          ],
          "scatterpolar": [
           {
            "marker": {
             "colorbar": {
              "outlinewidth": 0,
              "ticks": ""
             }
            },
            "type": "scatterpolar"
           }
          ],
          "scatterpolargl": [
           {
            "marker": {
             "colorbar": {
              "outlinewidth": 0,
              "ticks": ""
             }
            },
            "type": "scatterpolargl"
           }
          ],
          "scatterternary": [
           {
            "marker": {
             "colorbar": {
              "outlinewidth": 0,
              "ticks": ""
             }
            },
            "type": "scatterternary"
           }
          ],
          "surface": [
           {
            "colorbar": {
             "outlinewidth": 0,
             "ticks": ""
            },
            "colorscale": [
             [
              0,
              "#0d0887"
             ],
             [
              0.1111111111111111,
              "#46039f"
             ],
             [
              0.2222222222222222,
              "#7201a8"
             ],
             [
              0.3333333333333333,
              "#9c179e"
             ],
             [
              0.4444444444444444,
              "#bd3786"
             ],
             [
              0.5555555555555556,
              "#d8576b"
             ],
             [
              0.6666666666666666,
              "#ed7953"
             ],
             [
              0.7777777777777778,
              "#fb9f3a"
             ],
             [
              0.8888888888888888,
              "#fdca26"
             ],
             [
              1,
              "#f0f921"
             ]
            ],
            "type": "surface"
           }
          ],
          "table": [
           {
            "cells": {
             "fill": {
              "color": "#EBF0F8"
             },
             "line": {
              "color": "white"
             }
            },
            "header": {
             "fill": {
              "color": "#C8D4E3"
             },
             "line": {
              "color": "white"
             }
            },
            "type": "table"
           }
          ]
         },
         "layout": {
          "annotationdefaults": {
           "arrowcolor": "#2a3f5f",
           "arrowhead": 0,
           "arrowwidth": 1
          },
          "autotypenumbers": "strict",
          "coloraxis": {
           "colorbar": {
            "outlinewidth": 0,
            "ticks": ""
           }
          },
          "colorscale": {
           "diverging": [
            [
             0,
             "#8e0152"
            ],
            [
             0.1,
             "#c51b7d"
            ],
            [
             0.2,
             "#de77ae"
            ],
            [
             0.3,
             "#f1b6da"
            ],
            [
             0.4,
             "#fde0ef"
            ],
            [
             0.5,
             "#f7f7f7"
            ],
            [
             0.6,
             "#e6f5d0"
            ],
            [
             0.7,
             "#b8e186"
            ],
            [
             0.8,
             "#7fbc41"
            ],
            [
             0.9,
             "#4d9221"
            ],
            [
             1,
             "#276419"
            ]
           ],
           "sequential": [
            [
             0,
             "#0d0887"
            ],
            [
             0.1111111111111111,
             "#46039f"
            ],
            [
             0.2222222222222222,
             "#7201a8"
            ],
            [
             0.3333333333333333,
             "#9c179e"
            ],
            [
             0.4444444444444444,
             "#bd3786"
            ],
            [
             0.5555555555555556,
             "#d8576b"
            ],
            [
             0.6666666666666666,
             "#ed7953"
            ],
            [
             0.7777777777777778,
             "#fb9f3a"
            ],
            [
             0.8888888888888888,
             "#fdca26"
            ],
            [
             1,
             "#f0f921"
            ]
           ],
           "sequentialminus": [
            [
             0,
             "#0d0887"
            ],
            [
             0.1111111111111111,
             "#46039f"
            ],
            [
             0.2222222222222222,
             "#7201a8"
            ],
            [
             0.3333333333333333,
             "#9c179e"
            ],
            [
             0.4444444444444444,
             "#bd3786"
            ],
            [
             0.5555555555555556,
             "#d8576b"
            ],
            [
             0.6666666666666666,
             "#ed7953"
            ],
            [
             0.7777777777777778,
             "#fb9f3a"
            ],
            [
             0.8888888888888888,
             "#fdca26"
            ],
            [
             1,
             "#f0f921"
            ]
           ]
          },
          "colorway": [
           "#636efa",
           "#EF553B",
           "#00cc96",
           "#ab63fa",
           "#FFA15A",
           "#19d3f3",
           "#FF6692",
           "#B6E880",
           "#FF97FF",
           "#FECB52"
          ],
          "font": {
           "color": "#2a3f5f"
          },
          "geo": {
           "bgcolor": "white",
           "lakecolor": "white",
           "landcolor": "#E5ECF6",
           "showlakes": true,
           "showland": true,
           "subunitcolor": "white"
          },
          "hoverlabel": {
           "align": "left"
          },
          "hovermode": "closest",
          "mapbox": {
           "style": "light"
          },
          "paper_bgcolor": "white",
          "plot_bgcolor": "#E5ECF6",
          "polar": {
           "angularaxis": {
            "gridcolor": "white",
            "linecolor": "white",
            "ticks": ""
           },
           "bgcolor": "#E5ECF6",
           "radialaxis": {
            "gridcolor": "white",
            "linecolor": "white",
            "ticks": ""
           }
          },
          "scene": {
           "xaxis": {
            "backgroundcolor": "#E5ECF6",
            "gridcolor": "white",
            "gridwidth": 2,
            "linecolor": "white",
            "showbackground": true,
            "ticks": "",
            "zerolinecolor": "white"
           },
           "yaxis": {
            "backgroundcolor": "#E5ECF6",
            "gridcolor": "white",
            "gridwidth": 2,
            "linecolor": "white",
            "showbackground": true,
            "ticks": "",
            "zerolinecolor": "white"
           },
           "zaxis": {
            "backgroundcolor": "#E5ECF6",
            "gridcolor": "white",
            "gridwidth": 2,
            "linecolor": "white",
            "showbackground": true,
            "ticks": "",
            "zerolinecolor": "white"
           }
          },
          "shapedefaults": {
           "line": {
            "color": "#2a3f5f"
           }
          },
          "ternary": {
           "aaxis": {
            "gridcolor": "white",
            "linecolor": "white",
            "ticks": ""
           },
           "baxis": {
            "gridcolor": "white",
            "linecolor": "white",
            "ticks": ""
           },
           "bgcolor": "#E5ECF6",
           "caxis": {
            "gridcolor": "white",
            "linecolor": "white",
            "ticks": ""
           }
          },
          "title": {
           "x": 0.05
          },
          "xaxis": {
           "automargin": true,
           "gridcolor": "white",
           "linecolor": "white",
           "ticks": "",
           "title": {
            "standoff": 15
           },
           "zerolinecolor": "white",
           "zerolinewidth": 2
          },
          "yaxis": {
           "automargin": true,
           "gridcolor": "white",
           "linecolor": "white",
           "ticks": "",
           "title": {
            "standoff": 15
           },
           "zerolinecolor": "white",
           "zerolinewidth": 2
          }
         }
        },
        "title": {
         "text": "Patrón Semanal de Operaciones e Importes"
        },
        "xaxis": {
         "anchor": "y",
         "domain": [
          0,
          0.94
         ]
        },
        "yaxis": {
         "anchor": "x",
         "domain": [
          0,
          1
         ],
         "title": {
          "text": "Número de Operaciones"
         }
        },
        "yaxis2": {
         "anchor": "x",
         "overlaying": "y",
         "side": "right",
         "title": {
          "text": "Importe Promedio (€)"
         }
        }
       }
      }
     },
     "metadata": {},
     "output_type": "display_data"
    },
    {
     "data": {
      "application/vnd.plotly.v1+json": {
       "config": {
        "plotlyServerURL": "https://plot.ly"
       },
       "data": [
        {
         "marker": {
          "color": "lightgreen"
         },
         "name": "Operaciones mensuales",
         "type": "bar",
         "x": [
          "Enero",
          "Febrero",
          "Marzo",
          "Abril",
          "Mayo",
          "Junio",
          "Julio",
          "Agosto",
          "Septiembre",
          "Octubre",
          "Noviembre",
          "Diciembre"
         ],
         "xaxis": "x",
         "y": [
          9137,
          8861,
          8908,
          8899,
          9631,
          8433,
          8383,
          6101,
          8511,
          9585,
          9335,
          9893
         ],
         "yaxis": "y"
        },
        {
         "line": {
          "color": "purple",
          "width": 2
         },
         "mode": "lines+markers",
         "name": "Importe total mensual",
         "type": "scatter",
         "x": [
          "Enero",
          "Febrero",
          "Marzo",
          "Abril",
          "Mayo",
          "Junio",
          "Julio",
          "Agosto",
          "Septiembre",
          "Octubre",
          "Noviembre",
          "Diciembre"
         ],
         "xaxis": "x",
         "y": [
          210138.01,
          190234.8,
          204350.18,
          197668.25,
          221211.57,
          203761.02,
          199788.12,
          147189.74,
          196301.05,
          233963.67,
          218931.1,
          281357.17
         ],
         "yaxis": "y2"
        }
       ],
       "layout": {
        "height": 600,
        "showlegend": true,
        "template": {
         "data": {
          "bar": [
           {
            "error_x": {
             "color": "#2a3f5f"
            },
            "error_y": {
             "color": "#2a3f5f"
            },
            "marker": {
             "line": {
              "color": "#E5ECF6",
              "width": 0.5
             },
             "pattern": {
              "fillmode": "overlay",
              "size": 10,
              "solidity": 0.2
             }
            },
            "type": "bar"
           }
          ],
          "barpolar": [
           {
            "marker": {
             "line": {
              "color": "#E5ECF6",
              "width": 0.5
             },
             "pattern": {
              "fillmode": "overlay",
              "size": 10,
              "solidity": 0.2
             }
            },
            "type": "barpolar"
           }
          ],
          "carpet": [
           {
            "aaxis": {
             "endlinecolor": "#2a3f5f",
             "gridcolor": "white",
             "linecolor": "white",
             "minorgridcolor": "white",
             "startlinecolor": "#2a3f5f"
            },
            "baxis": {
             "endlinecolor": "#2a3f5f",
             "gridcolor": "white",
             "linecolor": "white",
             "minorgridcolor": "white",
             "startlinecolor": "#2a3f5f"
            },
            "type": "carpet"
           }
          ],
          "choropleth": [
           {
            "colorbar": {
             "outlinewidth": 0,
             "ticks": ""
            },
            "type": "choropleth"
           }
          ],
          "contour": [
           {
            "colorbar": {
             "outlinewidth": 0,
             "ticks": ""
            },
            "colorscale": [
             [
              0,
              "#0d0887"
             ],
             [
              0.1111111111111111,
              "#46039f"
             ],
             [
              0.2222222222222222,
              "#7201a8"
             ],
             [
              0.3333333333333333,
              "#9c179e"
             ],
             [
              0.4444444444444444,
              "#bd3786"
             ],
             [
              0.5555555555555556,
              "#d8576b"
             ],
             [
              0.6666666666666666,
              "#ed7953"
             ],
             [
              0.7777777777777778,
              "#fb9f3a"
             ],
             [
              0.8888888888888888,
              "#fdca26"
             ],
             [
              1,
              "#f0f921"
             ]
            ],
            "type": "contour"
           }
          ],
          "contourcarpet": [
           {
            "colorbar": {
             "outlinewidth": 0,
             "ticks": ""
            },
            "type": "contourcarpet"
           }
          ],
          "heatmap": [
           {
            "colorbar": {
             "outlinewidth": 0,
             "ticks": ""
            },
            "colorscale": [
             [
              0,
              "#0d0887"
             ],
             [
              0.1111111111111111,
              "#46039f"
             ],
             [
              0.2222222222222222,
              "#7201a8"
             ],
             [
              0.3333333333333333,
              "#9c179e"
             ],
             [
              0.4444444444444444,
              "#bd3786"
             ],
             [
              0.5555555555555556,
              "#d8576b"
             ],
             [
              0.6666666666666666,
              "#ed7953"
             ],
             [
              0.7777777777777778,
              "#fb9f3a"
             ],
             [
              0.8888888888888888,
              "#fdca26"
             ],
             [
              1,
              "#f0f921"
             ]
            ],
            "type": "heatmap"
           }
          ],
          "heatmapgl": [
           {
            "colorbar": {
             "outlinewidth": 0,
             "ticks": ""
            },
            "colorscale": [
             [
              0,
              "#0d0887"
             ],
             [
              0.1111111111111111,
              "#46039f"
             ],
             [
              0.2222222222222222,
              "#7201a8"
             ],
             [
              0.3333333333333333,
              "#9c179e"
             ],
             [
              0.4444444444444444,
              "#bd3786"
             ],
             [
              0.5555555555555556,
              "#d8576b"
             ],
             [
              0.6666666666666666,
              "#ed7953"
             ],
             [
              0.7777777777777778,
              "#fb9f3a"
             ],
             [
              0.8888888888888888,
              "#fdca26"
             ],
             [
              1,
              "#f0f921"
             ]
            ],
            "type": "heatmapgl"
           }
          ],
          "histogram": [
           {
            "marker": {
             "pattern": {
              "fillmode": "overlay",
              "size": 10,
              "solidity": 0.2
             }
            },
            "type": "histogram"
           }
          ],
          "histogram2d": [
           {
            "colorbar": {
             "outlinewidth": 0,
             "ticks": ""
            },
            "colorscale": [
             [
              0,
              "#0d0887"
             ],
             [
              0.1111111111111111,
              "#46039f"
             ],
             [
              0.2222222222222222,
              "#7201a8"
             ],
             [
              0.3333333333333333,
              "#9c179e"
             ],
             [
              0.4444444444444444,
              "#bd3786"
             ],
             [
              0.5555555555555556,
              "#d8576b"
             ],
             [
              0.6666666666666666,
              "#ed7953"
             ],
             [
              0.7777777777777778,
              "#fb9f3a"
             ],
             [
              0.8888888888888888,
              "#fdca26"
             ],
             [
              1,
              "#f0f921"
             ]
            ],
            "type": "histogram2d"
           }
          ],
          "histogram2dcontour": [
           {
            "colorbar": {
             "outlinewidth": 0,
             "ticks": ""
            },
            "colorscale": [
             [
              0,
              "#0d0887"
             ],
             [
              0.1111111111111111,
              "#46039f"
             ],
             [
              0.2222222222222222,
              "#7201a8"
             ],
             [
              0.3333333333333333,
              "#9c179e"
             ],
             [
              0.4444444444444444,
              "#bd3786"
             ],
             [
              0.5555555555555556,
              "#d8576b"
             ],
             [
              0.6666666666666666,
              "#ed7953"
             ],
             [
              0.7777777777777778,
              "#fb9f3a"
             ],
             [
              0.8888888888888888,
              "#fdca26"
             ],
             [
              1,
              "#f0f921"
             ]
            ],
            "type": "histogram2dcontour"
           }
          ],
          "mesh3d": [
           {
            "colorbar": {
             "outlinewidth": 0,
             "ticks": ""
            },
            "type": "mesh3d"
           }
          ],
          "parcoords": [
           {
            "line": {
             "colorbar": {
              "outlinewidth": 0,
              "ticks": ""
             }
            },
            "type": "parcoords"
           }
          ],
          "pie": [
           {
            "automargin": true,
            "type": "pie"
           }
          ],
          "scatter": [
           {
            "fillpattern": {
             "fillmode": "overlay",
             "size": 10,
             "solidity": 0.2
            },
            "type": "scatter"
           }
          ],
          "scatter3d": [
           {
            "line": {
             "colorbar": {
              "outlinewidth": 0,
              "ticks": ""
             }
            },
            "marker": {
             "colorbar": {
              "outlinewidth": 0,
              "ticks": ""
             }
            },
            "type": "scatter3d"
           }
          ],
          "scattercarpet": [
           {
            "marker": {
             "colorbar": {
              "outlinewidth": 0,
              "ticks": ""
             }
            },
            "type": "scattercarpet"
           }
          ],
          "scattergeo": [
           {
            "marker": {
             "colorbar": {
              "outlinewidth": 0,
              "ticks": ""
             }
            },
            "type": "scattergeo"
           }
          ],
          "scattergl": [
           {
            "marker": {
             "colorbar": {
              "outlinewidth": 0,
              "ticks": ""
             }
            },
            "type": "scattergl"
           }
          ],
          "scattermapbox": [
           {
            "marker": {
             "colorbar": {
              "outlinewidth": 0,
              "ticks": ""
             }
            },
            "type": "scattermapbox"
           }
          ],
          "scatterpolar": [
           {
            "marker": {
             "colorbar": {
              "outlinewidth": 0,
              "ticks": ""
             }
            },
            "type": "scatterpolar"
           }
          ],
          "scatterpolargl": [
           {
            "marker": {
             "colorbar": {
              "outlinewidth": 0,
              "ticks": ""
             }
            },
            "type": "scatterpolargl"
           }
          ],
          "scatterternary": [
           {
            "marker": {
             "colorbar": {
              "outlinewidth": 0,
              "ticks": ""
             }
            },
            "type": "scatterternary"
           }
          ],
          "surface": [
           {
            "colorbar": {
             "outlinewidth": 0,
             "ticks": ""
            },
            "colorscale": [
             [
              0,
              "#0d0887"
             ],
             [
              0.1111111111111111,
              "#46039f"
             ],
             [
              0.2222222222222222,
              "#7201a8"
             ],
             [
              0.3333333333333333,
              "#9c179e"
             ],
             [
              0.4444444444444444,
              "#bd3786"
             ],
             [
              0.5555555555555556,
              "#d8576b"
             ],
             [
              0.6666666666666666,
              "#ed7953"
             ],
             [
              0.7777777777777778,
              "#fb9f3a"
             ],
             [
              0.8888888888888888,
              "#fdca26"
             ],
             [
              1,
              "#f0f921"
             ]
            ],
            "type": "surface"
           }
          ],
          "table": [
           {
            "cells": {
             "fill": {
              "color": "#EBF0F8"
             },
             "line": {
              "color": "white"
             }
            },
            "header": {
             "fill": {
              "color": "#C8D4E3"
             },
             "line": {
              "color": "white"
             }
            },
            "type": "table"
           }
          ]
         },
         "layout": {
          "annotationdefaults": {
           "arrowcolor": "#2a3f5f",
           "arrowhead": 0,
           "arrowwidth": 1
          },
          "autotypenumbers": "strict",
          "coloraxis": {
           "colorbar": {
            "outlinewidth": 0,
            "ticks": ""
           }
          },
          "colorscale": {
           "diverging": [
            [
             0,
             "#8e0152"
            ],
            [
             0.1,
             "#c51b7d"
            ],
            [
             0.2,
             "#de77ae"
            ],
            [
             0.3,
             "#f1b6da"
            ],
            [
             0.4,
             "#fde0ef"
            ],
            [
             0.5,
             "#f7f7f7"
            ],
            [
             0.6,
             "#e6f5d0"
            ],
            [
             0.7,
             "#b8e186"
            ],
            [
             0.8,
             "#7fbc41"
            ],
            [
             0.9,
             "#4d9221"
            ],
            [
             1,
             "#276419"
            ]
           ],
           "sequential": [
            [
             0,
             "#0d0887"
            ],
            [
             0.1111111111111111,
             "#46039f"
            ],
            [
             0.2222222222222222,
             "#7201a8"
            ],
            [
             0.3333333333333333,
             "#9c179e"
            ],
            [
             0.4444444444444444,
             "#bd3786"
            ],
            [
             0.5555555555555556,
             "#d8576b"
            ],
            [
             0.6666666666666666,
             "#ed7953"
            ],
            [
             0.7777777777777778,
             "#fb9f3a"
            ],
            [
             0.8888888888888888,
             "#fdca26"
            ],
            [
             1,
             "#f0f921"
            ]
           ],
           "sequentialminus": [
            [
             0,
             "#0d0887"
            ],
            [
             0.1111111111111111,
             "#46039f"
            ],
            [
             0.2222222222222222,
             "#7201a8"
            ],
            [
             0.3333333333333333,
             "#9c179e"
            ],
            [
             0.4444444444444444,
             "#bd3786"
            ],
            [
             0.5555555555555556,
             "#d8576b"
            ],
            [
             0.6666666666666666,
             "#ed7953"
            ],
            [
             0.7777777777777778,
             "#fb9f3a"
            ],
            [
             0.8888888888888888,
             "#fdca26"
            ],
            [
             1,
             "#f0f921"
            ]
           ]
          },
          "colorway": [
           "#636efa",
           "#EF553B",
           "#00cc96",
           "#ab63fa",
           "#FFA15A",
           "#19d3f3",
           "#FF6692",
           "#B6E880",
           "#FF97FF",
           "#FECB52"
          ],
          "font": {
           "color": "#2a3f5f"
          },
          "geo": {
           "bgcolor": "white",
           "lakecolor": "white",
           "landcolor": "#E5ECF6",
           "showlakes": true,
           "showland": true,
           "subunitcolor": "white"
          },
          "hoverlabel": {
           "align": "left"
          },
          "hovermode": "closest",
          "mapbox": {
           "style": "light"
          },
          "paper_bgcolor": "white",
          "plot_bgcolor": "#E5ECF6",
          "polar": {
           "angularaxis": {
            "gridcolor": "white",
            "linecolor": "white",
            "ticks": ""
           },
           "bgcolor": "#E5ECF6",
           "radialaxis": {
            "gridcolor": "white",
            "linecolor": "white",
            "ticks": ""
           }
          },
          "scene": {
           "xaxis": {
            "backgroundcolor": "#E5ECF6",
            "gridcolor": "white",
            "gridwidth": 2,
            "linecolor": "white",
            "showbackground": true,
            "ticks": "",
            "zerolinecolor": "white"
           },
           "yaxis": {
            "backgroundcolor": "#E5ECF6",
            "gridcolor": "white",
            "gridwidth": 2,
            "linecolor": "white",
            "showbackground": true,
            "ticks": "",
            "zerolinecolor": "white"
           },
           "zaxis": {
            "backgroundcolor": "#E5ECF6",
            "gridcolor": "white",
            "gridwidth": 2,
            "linecolor": "white",
            "showbackground": true,
            "ticks": "",
            "zerolinecolor": "white"
           }
          },
          "shapedefaults": {
           "line": {
            "color": "#2a3f5f"
           }
          },
          "ternary": {
           "aaxis": {
            "gridcolor": "white",
            "linecolor": "white",
            "ticks": ""
           },
           "baxis": {
            "gridcolor": "white",
            "linecolor": "white",
            "ticks": ""
           },
           "bgcolor": "#E5ECF6",
           "caxis": {
            "gridcolor": "white",
            "linecolor": "white",
            "ticks": ""
           }
          },
          "title": {
           "x": 0.05
          },
          "xaxis": {
           "automargin": true,
           "gridcolor": "white",
           "linecolor": "white",
           "ticks": "",
           "title": {
            "standoff": 15
           },
           "zerolinecolor": "white",
           "zerolinewidth": 2
          },
          "yaxis": {
           "automargin": true,
           "gridcolor": "white",
           "linecolor": "white",
           "ticks": "",
           "title": {
            "standoff": 15
           },
           "zerolinecolor": "white",
           "zerolinewidth": 2
          }
         }
        },
        "title": {
         "text": "Evolución Mensual de Operaciones e Importes"
        },
        "xaxis": {
         "anchor": "y",
         "domain": [
          0,
          0.94
         ]
        },
        "yaxis": {
         "anchor": "x",
         "domain": [
          0,
          1
         ],
         "title": {
          "text": "Número de Operaciones"
         }
        },
        "yaxis2": {
         "anchor": "x",
         "overlaying": "y",
         "side": "right",
         "title": {
          "text": "Importe Total Mensual (€)"
         }
        }
       }
      }
     },
     "metadata": {},
     "output_type": "display_data"
    },
    {
     "name": "stdout",
     "output_type": "stream",
     "text": [
      "\n",
      "ESTADÍSTICAS DE OPERACIONES:\n",
      "Media diaria de operaciones: 288.73\n",
      "Mediana diaria de operaciones: 330.00\n",
      "Máximo de operaciones en un día: 510\n",
      "Mínimo de operaciones en un día: 8\n",
      "\n",
      "ESTADÍSTICAS DE IMPORTES:\n",
      "Importe medio diario: 6843.97€\n",
      "Importe total del periodo: 2504894.68€\n",
      "Ticket medio global: 22.45€\n",
      "\n",
      "DÍAS CON MAYOR ACTIVIDAD:\n",
      "Día con más operaciones: 18/12/2024 (510 operaciones)\n",
      "Día con mayor importe: 15/11/2024 (17496.73€)\n"
     ]
    }
   ],
   "source": [
    "# Consulta SQL para obtener datos de operaciones\n",
    "query_operaciones = \"\"\"\n",
    "WITH operaciones_diarias AS (\n",
    "    -- Operaciones e importes por día\n",
    "    SELECT \n",
    "        f.Id_fecha,\n",
    "        COUNT(*) as num_operaciones_dia,\n",
    "        SUM(f.Cantidad) as importe_total_dia,\n",
    "        AVG(f.Cantidad) as ticket_medio_dia\n",
    "    FROM fact_table f\n",
    "    JOIN dim_usuarios du_origen ON f.Usuario_emisor = du_origen.Id_usuario\n",
    "    JOIN dim_usuarios du_destino ON f.Usuario_receptor = du_destino.Id_usuario\n",
    "    JOIN dim_operaciones o ON f.Id_tipo_operacion = o.Id_tipo_operacion\n",
    "    WHERE \n",
    "        SUBSTRING(f.Id_fecha, 1, 4) = '2024'\n",
    "        AND (o.Operacion IN ('Pago a usuario', 'Cobro desde QR'))\n",
    "        AND (\n",
    "            (du_origen.Tipo_usuario = 'usuario' AND \n",
    "             du_destino.Tipo_usuario IN ('Empresa', 'autonomo'))\n",
    "            OR\n",
    "            (du_origen.Tipo_usuario IN ('Empresa', 'autonomo') AND \n",
    "             du_destino.Tipo_usuario IN ('Empresa', 'autonomo'))\n",
    "        )\n",
    "    GROUP BY f.Id_fecha\n",
    "),\n",
    "operaciones_semanales AS (\n",
    "    -- Promedio de operaciones e importes por día de la semana\n",
    "    SELECT \n",
    "        DAYOFWEEK(STR_TO_DATE(Id_fecha, '%Y%m%d')) as dia_semana,\n",
    "        AVG(num_operaciones_dia) as promedio_operaciones_dia,\n",
    "        AVG(importe_total_dia) as promedio_importe_dia,\n",
    "        AVG(ticket_medio_dia) as promedio_ticket_dia\n",
    "    FROM operaciones_diarias\n",
    "    GROUP BY DAYOFWEEK(STR_TO_DATE(Id_fecha, '%Y%m%d'))\n",
    "),\n",
    "operaciones_mensuales AS (\n",
    "    -- Totales mensuales\n",
    "    SELECT \n",
    "        SUBSTRING(f.Id_fecha, 1, 6) as año_mes,\n",
    "        SUBSTRING(f.Id_fecha, 5, 2) as mes,\n",
    "        COUNT(*) as num_operaciones_mes,\n",
    "        SUM(f.Cantidad) as importe_total_mes,\n",
    "        AVG(f.Cantidad) as ticket_medio_mes\n",
    "    FROM fact_table f\n",
    "    JOIN dim_usuarios du_origen ON f.Usuario_emisor = du_origen.Id_usuario\n",
    "    JOIN dim_usuarios du_destino ON f.Usuario_receptor = du_destino.Id_usuario\n",
    "    JOIN dim_operaciones o ON f.Id_tipo_operacion = o.Id_tipo_operacion\n",
    "    WHERE \n",
    "        SUBSTRING(f.Id_fecha, 1, 4) = '2024'\n",
    "        AND (o.Operacion IN ('Pago a usuario', 'Cobro desde QR'))\n",
    "        AND (\n",
    "            (du_origen.Tipo_usuario = 'usuario' AND \n",
    "             du_destino.Tipo_usuario IN ('Empresa', 'autonomo'))\n",
    "            OR\n",
    "            (du_origen.Tipo_usuario IN ('Empresa', 'autonomo') AND \n",
    "             du_destino.Tipo_usuario IN ('Empresa', 'autonomo'))\n",
    "        )\n",
    "    GROUP BY SUBSTRING(f.Id_fecha, 1, 6), SUBSTRING(f.Id_fecha, 5, 2)\n",
    ")\n",
    "SELECT \n",
    "    od.Id_fecha,\n",
    "    CASE os.dia_semana\n",
    "        WHEN 1 THEN 'Domingo'\n",
    "        WHEN 2 THEN 'Lunes'\n",
    "        WHEN 3 THEN 'Martes'\n",
    "        WHEN 4 THEN 'Miércoles'\n",
    "        WHEN 5 THEN 'Jueves'\n",
    "        WHEN 6 THEN 'Viernes'\n",
    "        WHEN 7 THEN 'Sábado'\n",
    "    END as dia_semana,\n",
    "    CASE om.mes\n",
    "        WHEN '01' THEN 'Enero'\n",
    "        WHEN '02' THEN 'Febrero'\n",
    "        WHEN '03' THEN 'Marzo'\n",
    "        WHEN '04' THEN 'Abril'\n",
    "        WHEN '05' THEN 'Mayo'\n",
    "        WHEN '06' THEN 'Junio'\n",
    "        WHEN '07' THEN 'Julio'\n",
    "        WHEN '08' THEN 'Agosto'\n",
    "        WHEN '09' THEN 'Septiembre'\n",
    "        WHEN '10' THEN 'Octubre'\n",
    "        WHEN '11' THEN 'Noviembre'\n",
    "        WHEN '12' THEN 'Diciembre'\n",
    "    END as mes,\n",
    "    od.num_operaciones_dia,\n",
    "    od.importe_total_dia,\n",
    "    od.ticket_medio_dia,\n",
    "    os.promedio_operaciones_dia,\n",
    "    os.promedio_importe_dia,\n",
    "    os.promedio_ticket_dia,\n",
    "    om.num_operaciones_mes,\n",
    "    om.importe_total_mes,\n",
    "    om.ticket_medio_mes\n",
    "FROM operaciones_diarias od\n",
    "JOIN operaciones_semanales os ON DAYOFWEEK(STR_TO_DATE(od.Id_fecha, '%Y%m%d')) = os.dia_semana\n",
    "JOIN operaciones_mensuales om ON SUBSTRING(od.Id_fecha, 5, 2) = om.mes\n",
    "ORDER BY od.Id_fecha;\n",
    "\"\"\"\n",
    "\n",
    "# Ejecutar la consulta\n",
    "df = ejecutar_query(query_operaciones)\n",
    "\n",
    "# Convertir Id_fecha a datetime\n",
    "df['fecha'] = pd.to_datetime(df['Id_fecha'], format='%Y%m%d')\n",
    "\n",
    "# Calcular medias móviles\n",
    "df['media_movil_operaciones_14d'] = df['num_operaciones_dia'].rolling(window=14, center=True).mean()\n",
    "df['media_movil_operaciones_28d'] = df['num_operaciones_dia'].rolling(window=28, center=True).mean()\n",
    "df['media_movil_importe_14d'] = df['importe_total_dia'].rolling(window=14, center=True).mean()\n",
    "df['media_movil_importe_28d'] = df['importe_total_dia'].rolling(window=28, center=True).mean()\n",
    "\n",
    "# Después de obtener el DataFrame, vamos a crear tres gráficas separadas para mejor visualización\n",
    "\n",
    "import plotly.graph_objects as go\n",
    "from plotly.subplots import make_subplots\n",
    "\n",
    "# 1. Gráfica de evolución diaria\n",
    "fig1 = go.Figure()\n",
    "\n",
    "# Añadir operaciones diarias\n",
    "fig1.add_trace(\n",
    "    go.Scatter(\n",
    "        x=df['fecha'],\n",
    "        y=df['num_operaciones_dia'],\n",
    "        name='Operaciones diarias',\n",
    "        line=dict(color='lightgray', width=1),\n",
    "        mode='lines'\n",
    "    )\n",
    ")\n",
    "\n",
    "# Añadir medias móviles\n",
    "fig1.add_trace(\n",
    "    go.Scatter(\n",
    "        x=df['fecha'],\n",
    "        y=df['media_movil_operaciones_14d'],\n",
    "        name='Media móvil 14 días',\n",
    "        line=dict(color='blue', width=2),\n",
    "        mode='lines'\n",
    "    )\n",
    ")\n",
    "\n",
    "fig1.add_trace(\n",
    "    go.Scatter(\n",
    "        x=df['fecha'],\n",
    "        y=df['media_movil_operaciones_28d'],\n",
    "        name='Media móvil 28 días',\n",
    "        line=dict(color='red', width=2),\n",
    "        mode='lines'\n",
    "    )\n",
    ")\n",
    "\n",
    "# Configurar diseño\n",
    "fig1.update_layout(\n",
    "    title='Evolución Diaria del Número de Operaciones - 2024',\n",
    "    xaxis_title='Fecha',\n",
    "    yaxis_title='Número de Operaciones',\n",
    "    height=600,\n",
    "    showlegend=True\n",
    ")\n",
    "\n",
    "# Mostrar primera gráfica\n",
    "fig1.show()\n",
    "\n",
    "# 2. Gráfica de importe diario\n",
    "fig2 = go.Figure()\n",
    "\n",
    "fig2.add_trace(\n",
    "    go.Scatter(\n",
    "        x=df['fecha'],\n",
    "        y=df['importe_total_dia'],\n",
    "        name='Importe diario',\n",
    "        line=dict(color='lightgray', width=1),\n",
    "        mode='lines'\n",
    "    )\n",
    ")\n",
    "\n",
    "fig2.add_trace(\n",
    "    go.Scatter(\n",
    "        x=df['fecha'],\n",
    "        y=df['media_movil_importe_14d'],\n",
    "        name='Media móvil 14 días',\n",
    "        line=dict(color='orange', width=2),\n",
    "        mode='lines'\n",
    "    )\n",
    ")\n",
    "\n",
    "fig2.add_trace(\n",
    "    go.Scatter(\n",
    "        x=df['fecha'],\n",
    "        y=df['media_movil_importe_28d'],\n",
    "        name='Media móvil 28 días',\n",
    "        line=dict(color='green', width=2),\n",
    "        mode='lines'\n",
    "    )\n",
    ")\n",
    "\n",
    "fig2.update_layout(\n",
    "    title='Evolución Diaria del Importe Total - 2024',\n",
    "    xaxis_title='Fecha',\n",
    "    yaxis_title='Importe Total (€)',\n",
    "    height=600,\n",
    "    showlegend=True\n",
    ")\n",
    "\n",
    "# Mostrar segunda gráfica\n",
    "fig2.show()\n",
    "\n",
    "# 3. Gráfica de patrón semanal\n",
    "fig3 = make_subplots(specs=[[{\"secondary_y\": True}]])\n",
    "\n",
    "orden_dias = ['Lunes', 'Martes', 'Miércoles', 'Jueves', 'Viernes', 'Sábado', 'Domingo']\n",
    "promedios_semanales = df.groupby('dia_semana')['promedio_operaciones_dia'].first().reindex(orden_dias)\n",
    "promedios_importe = df.groupby('dia_semana')['promedio_importe_dia'].first().reindex(orden_dias)\n",
    "\n",
    "fig3.add_trace(\n",
    "    go.Bar(\n",
    "        x=orden_dias,\n",
    "        y=promedios_semanales,\n",
    "        name='Promedio operaciones',\n",
    "        marker_color='lightblue'\n",
    "    ),\n",
    "    secondary_y=False\n",
    ")\n",
    "\n",
    "fig3.add_trace(\n",
    "    go.Scatter(\n",
    "        x=orden_dias,\n",
    "        y=promedios_importe,\n",
    "        name='Promedio importe',\n",
    "        line=dict(color='red', width=2),\n",
    "        mode='lines+markers'\n",
    "    ),\n",
    "    secondary_y=True\n",
    ")\n",
    "\n",
    "fig3.update_layout(\n",
    "    title='Patrón Semanal de Operaciones e Importes',\n",
    "    height=600,\n",
    "    showlegend=True\n",
    ")\n",
    "\n",
    "fig3.update_yaxes(title_text=\"Número de Operaciones\", secondary_y=False)\n",
    "fig3.update_yaxes(title_text=\"Importe Promedio (€)\", secondary_y=True)\n",
    "\n",
    "# Mostrar tercera gráfica\n",
    "fig3.show()\n",
    "\n",
    "# 4. Gráfica mensual\n",
    "fig4 = make_subplots(specs=[[{\"secondary_y\": True}]])\n",
    "\n",
    "orden_meses = ['Enero', 'Febrero', 'Marzo', 'Abril', 'Mayo', 'Junio', \n",
    "               'Julio', 'Agosto', 'Septiembre', 'Octubre', 'Noviembre', 'Diciembre']\n",
    "operaciones_mensuales = df.groupby('mes')['num_operaciones_mes'].first().reindex(orden_meses)\n",
    "importes_mensuales = df.groupby('mes')['importe_total_mes'].first().reindex(orden_meses)\n",
    "\n",
    "fig4.add_trace(\n",
    "    go.Bar(\n",
    "        x=orden_meses,\n",
    "        y=operaciones_mensuales,\n",
    "        name='Operaciones mensuales',\n",
    "        marker_color='lightgreen'\n",
    "    ),\n",
    "    secondary_y=False\n",
    ")\n",
    "\n",
    "fig4.add_trace(\n",
    "    go.Scatter(\n",
    "        x=orden_meses,\n",
    "        y=importes_mensuales,\n",
    "        name='Importe total mensual',\n",
    "        line=dict(color='purple', width=2),\n",
    "        mode='lines+markers'\n",
    "    ),\n",
    "    secondary_y=True\n",
    ")\n",
    "\n",
    "fig4.update_layout(\n",
    "    title='Evolución Mensual de Operaciones e Importes',\n",
    "    height=600,\n",
    "    showlegend=True\n",
    ")\n",
    "\n",
    "fig4.update_yaxes(title_text=\"Número de Operaciones\", secondary_y=False)\n",
    "fig4.update_yaxes(title_text=\"Importe Total Mensual (€)\", secondary_y=True)\n",
    "\n",
    "# Mostrar cuarta gráfica\n",
    "fig4.show()\n",
    "\n",
    "# Mostrar estadísticas\n",
    "print(\"\\nESTADÍSTICAS DE OPERACIONES:\")\n",
    "print(f\"Media diaria de operaciones: {df['num_operaciones_dia'].mean():.2f}\")\n",
    "print(f\"Mediana diaria de operaciones: {df['num_operaciones_dia'].median():.2f}\")\n",
    "print(f\"Máximo de operaciones en un día: {df['num_operaciones_dia'].max():.0f}\")\n",
    "print(f\"Mínimo de operaciones en un día: {df['num_operaciones_dia'].min():.0f}\")\n",
    "\n",
    "print(\"\\nESTADÍSTICAS DE IMPORTES:\")\n",
    "print(f\"Importe medio diario: {df['importe_total_dia'].mean():.2f}€\")\n",
    "print(f\"Importe total del periodo: {df['importe_total_dia'].sum():.2f}€\")\n",
    "print(f\"Ticket medio global: {df['ticket_medio_dia'].mean():.2f}€\")\n",
    "\n",
    "print(\"\\nDÍAS CON MAYOR ACTIVIDAD:\")\n",
    "max_ops_day = df.loc[df['num_operaciones_dia'].idxmax()]\n",
    "max_amount_day = df.loc[df['importe_total_dia'].idxmax()]\n",
    "print(f\"Día con más operaciones: {max_ops_day['fecha'].strftime('%d/%m/%Y')} ({max_ops_day['num_operaciones_dia']:.0f} operaciones)\")\n",
    "print(f\"Día con mayor importe: {max_amount_day['fecha'].strftime('%d/%m/%Y')} ({max_amount_day['importe_total_dia']:.2f}€)\")"
   ]
  }
 ],
 "metadata": {
  "kernelspec": {
   "display_name": "Python 3",
   "language": "python",
   "name": "python3"
  },
  "language_info": {
   "codemirror_mode": {
    "name": "ipython",
    "version": 3
   },
   "file_extension": ".py",
   "mimetype": "text/x-python",
   "name": "python",
   "nbconvert_exporter": "python",
   "pygments_lexer": "ipython3",
   "version": "3.9.6"
  }
 },
 "nbformat": 4,
 "nbformat_minor": 2
}
