{
 "cells": [
  {
   "cell_type": "markdown",
   "metadata": {},
   "source": [
    "Aquí está el resumen del contexto:\n",
    "\n",
    "1. **Objetivo Principal**: Análisis y desarrollo de endpoints para una aplicación de pagos \"Ekhilur\" con 5 endpoints principales para la landing page:\n",
    "   - `/analyze_users`: Análisis de usuarios por categoría\n",
    "   - `/analyze_monthly_average_simple`: Análisis de gasto medio mensual\n",
    "   - `/analyze_monthly_savings`: Análisis de ahorros mensuales\n",
    "   - `/analyze_total_simple`: Análisis de operaciones totales\n",
    "   - `/analyze_cash_flow`: Análisis de flujo de caja\n",
    "\n",
    "2. **Tipos de Transacciones Principales**:\n",
    "   - **Pago a usuario**: Tres subtipos:\n",
    "     * Pago normal (usuario particular → profesional)\n",
    "     * Pago entre profesionales\n",
    "     * Recarga (profesional → usuario particular)\n",
    "     * Bizum entre usuarios (particular → particular)\n",
    "   - **Cobro desde QR**: Operaciones de cobro por compra\n",
    "   - **Bonificación por compra**: Cashback del ayuntamiento\n",
    "   - **Descuento automático**: Bonificación del comercio\n",
    "   - **Cuotas**: De socio y mensual\n",
    "   - **Otras operaciones**: Conversión a €, Recargas, etc.\n",
    "\n",
    "3. **Lógica de Negocio Importante**:\n",
    "   - Las operaciones que suman al volumen de compras:\n",
    "     * Pagos normales (usuario → profesional)\n",
    "     * Pagos entre profesionales\n",
    "     * Cobros QR\n",
    "   - Operaciones que afectan la masa monetaria:\n",
    "     * Entradas: Recargas, Bonificaciones\n",
    "     * Salidas: Conversiones, Cuotas\n",
    "\n",
    "4. **Estado Actual**:\n",
    "   - Se han revisado y corregido las queries SQL para asegurar que reflejen correctamente la lógica de negocio\n",
    "   - Se han implementado filtros específicos para excluir operaciones que no deben contabilizarse\n",
    "   - Se ha verificado la correcta categorización de usuarios y operaciones\n",
    "\n",
    "5. **Tecnologías Utilizadas**:\n",
    "   - Flask para la API\n",
    "   - MySQL como base de datos\n",
    "   - Pandas para manipulación de datos\n",
    "   - SQLAlchemy para ORM\n",
    "\n",
    "6. **Estructura de Datos**:\n",
    "   - Tablas principales: `dim_usuarios`, `dim_operaciones`, `fact_table`, `dim_fecha`\n",
    "   - Relaciones establecidas entre usuarios emisores y receptores\n",
    "   - Categorización de usuarios: particular, empresa, autónomo, asociación\n",
    "\n",
    "Este contexto es crucial para entender la lógica de negocio y las decisiones tomadas en el desarrollo de los endpoints.\n"
   ]
  }
 ],
 "metadata": {
  "kernelspec": {
   "display_name": "Python 3",
   "language": "python",
   "name": "python3"
  },
  "language_info": {
   "codemirror_mode": {
    "name": "ipython",
    "version": 3
   },
   "file_extension": ".py",
   "mimetype": "text/x-python",
   "name": "python",
   "nbconvert_exporter": "python",
   "pygments_lexer": "ipython3",
   "version": "3.9.6"
  }
 },
 "nbformat": 4,
 "nbformat_minor": 2
}
